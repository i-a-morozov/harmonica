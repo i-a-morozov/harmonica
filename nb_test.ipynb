{
 "cells": [
  {
   "cell_type": "markdown",
   "id": "9877ea21",
   "metadata": {
    "id": "eTuGZt-gXDRc"
   },
   "source": [
    "## Test"
   ]
  },
  {
   "cell_type": "code",
   "execution_count": 1,
   "id": "2d103150",
   "metadata": {
    "colab": {
     "base_uri": "https://localhost:8080/"
    },
    "executionInfo": {
     "elapsed": 288,
     "status": "ok",
     "timestamp": 1634043394257,
     "user": {
      "displayName": "Ivan Morozov",
      "photoUrl": "https://lh3.googleusercontent.com/a/default-user=s64",
      "userId": "01505246621606466427"
     },
     "user_tz": -420
    },
    "id": "-XncPEzMX4ga",
    "outputId": "6a33d4e7-e8cd-45a4-abcc-66617ca5f25d"
   },
   "outputs": [
    {
     "data": {
      "text/plain": [
       "True"
      ]
     },
     "execution_count": 1,
     "metadata": {},
     "output_type": "execute_result"
    }
   ],
   "source": [
    "# Import\n",
    "\n",
    "import epics\n",
    "import numpy\n",
    "import pandas\n",
    "import torch\n",
    "import nufft\n",
    "\n",
    "from harmonica.window import Window\n",
    "from harmonica.data import Data\n",
    "from harmonica.frequency import Frequency\n",
    "\n",
    "torch.set_printoptions(precision=12, sci_mode=True)\n",
    "torch.cuda.is_available()"
   ]
  },
  {
   "cell_type": "code",
   "execution_count": 2,
   "id": "cebb815a",
   "metadata": {},
   "outputs": [
    {
     "name": "stdout",
     "output_type": "stream",
     "text": [
      "Python 3.9.0\r\n"
     ]
    }
   ],
   "source": [
    "!python --version"
   ]
  },
  {
   "cell_type": "code",
   "execution_count": 3,
   "id": "6a341c69",
   "metadata": {},
   "outputs": [
    {
     "data": {
      "text/plain": [
       "'1.9.1'"
      ]
     },
     "execution_count": 3,
     "metadata": {},
     "output_type": "execute_result"
    }
   ],
   "source": [
    "torch.__version__"
   ]
  },
  {
   "cell_type": "code",
   "execution_count": 4,
   "id": "df0da84c",
   "metadata": {},
   "outputs": [],
   "source": [
    "siz = 1024\n",
    "length = 8192\n",
    "dtype = torch.float64"
   ]
  },
  {
   "cell_type": "code",
   "execution_count": 5,
   "id": "1c5ea1de",
   "metadata": {},
   "outputs": [],
   "source": [
    "# Test data (cpu)\n",
    "device = 'cpu'\n",
    "win = Window(length, 'cosine_window', 1.0, dtype=dtype, device=device)\n",
    "dat = torch.sin(2*numpy.pi*0.12*torch.linspace(1, len(win), len(win), dtype=win.dtype, device=win.device))\n",
    "tbt = Data.from_tensor(win, torch.stack([dat for _ in range(siz)]))\n",
    "fre = Frequency(tbt)"
   ]
  },
  {
   "cell_type": "code",
   "execution_count": 6,
   "id": "6db8c889",
   "metadata": {},
   "outputs": [
    {
     "name": "stdout",
     "output_type": "stream",
     "text": [
      "405 ms ± 3.51 ms per loop (mean ± std. dev. of 7 runs, 1 loop each)\n"
     ]
    }
   ],
   "source": [
    "%%timeit\n",
    "fre('parabola', window=True)"
   ]
  },
  {
   "cell_type": "code",
   "execution_count": 7,
   "id": "77ce217a",
   "metadata": {},
   "outputs": [],
   "source": [
    "# Clear\n",
    "del win, tbt, fre"
   ]
  },
  {
   "cell_type": "code",
   "execution_count": 8,
   "id": "c82e8960",
   "metadata": {},
   "outputs": [],
   "source": [
    "# Test data (gpu)\n",
    "device = 'cuda' if torch.cuda.is_available() else 'cpu'\n",
    "win = Window(length, 'cosine_window', 1.0, dtype=dtype, device=device)\n",
    "dat = torch.sin(2*numpy.pi*0.12*torch.linspace(1, len(win), len(win), dtype=win.dtype, device=win.device))\n",
    "tbt = Data.from_tensor(win, torch.stack([dat for _ in range(siz)]))\n",
    "fre = Frequency(tbt)"
   ]
  },
  {
   "cell_type": "code",
   "execution_count": 9,
   "id": "ce31e86e",
   "metadata": {},
   "outputs": [
    {
     "name": "stdout",
     "output_type": "stream",
     "text": [
      "48.8 ms ± 613 µs per loop (mean ± std. dev. of 7 runs, 10 loops each)\n"
     ]
    }
   ],
   "source": [
    "%%timeit\n",
    "fre('parabola')"
   ]
  },
  {
   "cell_type": "code",
   "execution_count": 10,
   "id": "28e49758",
   "metadata": {},
   "outputs": [],
   "source": [
    "# Clear\n",
    "del win, tbt, fre\n",
    "torch.cuda.synchronize()\n",
    "torch.cuda.empty_cache()"
   ]
  },
  {
   "cell_type": "code",
   "execution_count": 11,
   "id": "d40c3555",
   "metadata": {},
   "outputs": [],
   "source": [
    "# SVD"
   ]
  },
  {
   "cell_type": "code",
   "execution_count": 12,
   "id": "59e6267d",
   "metadata": {},
   "outputs": [
    {
     "name": "stdout",
     "output_type": "stream",
     "text": [
      "torch.Size([64, 512, 512])\n",
      "cpu\n"
     ]
    }
   ],
   "source": [
    "# Test data (cpu)\n",
    "device = 'cpu'\n",
    "win = Window(512, 'cosine_window', 1.0, dtype=dtype, device=device)\n",
    "dat = torch.sin(2*numpy.pi*0.12*torch.linspace(1, len(win), len(win), dtype=win.dtype, device=win.device))\n",
    "dat = torch.stack([dat for _ in range(512)])\n",
    "dat = torch.stack([dat for _ in range(64)])\n",
    "print(dat.shape)\n",
    "print(dat.device)"
   ]
  },
  {
   "cell_type": "code",
   "execution_count": 13,
   "id": "1da468b9",
   "metadata": {},
   "outputs": [
    {
     "name": "stdout",
     "output_type": "stream",
     "text": [
      "4.39 s ± 31.6 ms per loop (mean ± std. dev. of 7 runs, 1 loop each)\n"
     ]
    }
   ],
   "source": [
    "%%timeit\n",
    "u, s, v = torch.linalg.svd(dat)"
   ]
  },
  {
   "cell_type": "code",
   "execution_count": 14,
   "id": "21ff6f97",
   "metadata": {},
   "outputs": [],
   "source": [
    "# Clear\n",
    "del win, dat"
   ]
  },
  {
   "cell_type": "code",
   "execution_count": 15,
   "id": "15b41e66",
   "metadata": {},
   "outputs": [
    {
     "name": "stdout",
     "output_type": "stream",
     "text": [
      "torch.Size([64, 512, 512])\n",
      "cuda:0\n"
     ]
    }
   ],
   "source": [
    "# Test data (gpu)\n",
    "device = 'cuda' if torch.cuda.is_available() else 'cpu'\n",
    "win = Window(512, 'cosine_window', 1.0, dtype=dtype, device=device)\n",
    "dat = torch.sin(2*numpy.pi*0.12*torch.linspace(1, len(win), len(win), dtype=win.dtype, device=win.device))\n",
    "dat = torch.stack([dat for _ in range(512)])\n",
    "dat = torch.stack([dat for _ in range(64)])\n",
    "print(dat.shape)\n",
    "print(dat.device)"
   ]
  },
  {
   "cell_type": "code",
   "execution_count": 16,
   "id": "400a296c",
   "metadata": {},
   "outputs": [
    {
     "name": "stdout",
     "output_type": "stream",
     "text": [
      "372 ms ± 7.4 ms per loop (mean ± std. dev. of 7 runs, 1 loop each)\n"
     ]
    }
   ],
   "source": [
    "%%timeit\n",
    "u, s, v = torch.linalg.svd(dat)"
   ]
  },
  {
   "cell_type": "code",
   "execution_count": 17,
   "id": "51cef28a",
   "metadata": {},
   "outputs": [],
   "source": [
    "# Clear\n",
    "del win, dat\n",
    "torch.cuda.synchronize()\n",
    "torch.cuda.empty_cache()"
   ]
  },
  {
   "cell_type": "code",
   "execution_count": 18,
   "id": "68e4445b",
   "metadata": {},
   "outputs": [],
   "source": [
    "# PV"
   ]
  },
  {
   "cell_type": "code",
   "execution_count": 19,
   "id": "d1d7f07c",
   "metadata": {},
   "outputs": [],
   "source": [
    "win = Window(4096, 'cosine_window', 1.0, dtype=torch.float64, device='cpu')\n",
    "pv_list = [\"TEST:STP2:turns_x-I\", \"TEST:STP4:turns_x-I\", \"TEST:SRP1:turns_x-I\", \"TEST:SRP2:turns_x-I\", \"TEST:SRP3:turns_x-I\", \"TEST:SRP4:turns_x-I\", \"TEST:SRP5:turns_x-I\", \"TEST:SRP6:turns_x-I\", \"TEST:SRP7:turns_x-I\", \"TEST:SRP8:turns_x-I\", \"TEST:SRP9:turns_x-I\", \"TEST:SIP1:turns_x-I\", \"TEST:SIP2:turns_x-I\", \"TEST:SRP10:turns_x-I\", \"TEST:SRP11:turns_x-I\", \"TEST:SRP12:turns_x-I\", \"TEST:SRP13:turns_x-I\", \"TEST:SRP14:turns_x-I\", \"TEST:SRP15:turns_x-I\", \"TEST:SRP16:turns_x-I\", \"TEST:SRP17:turns_x-I\", \"TEST:SEP5:turns_x-I\", \"TEST:SEP4:turns_x-I\", \"TEST:SEP3:turns_x-I\", \"TEST:SEP1:turns_x-I\", \"TEST:SEP0:turns_x-I\", \"TEST:NEP0:turns_x-I\", \"TEST:NEP1:turns_x-I\", \"TEST:NEP3:turns_x-I\", \"TEST:NEP4:turns_x-I\", \"TEST:NEP5:turns_x-I\", \"TEST:NRP17:turns_x-I\", \"TEST:NRP16:turns_x-I\", \"TEST:NRP15:turns_x-I\", \"TEST:NRP14:turns_x-I\", \"TEST:NRP13:turns_x-I\", \"TEST:NRP12:turns_x-I\", \"TEST:NRP11:turns_x-I\", \"TEST:NRP10:turns_x-I\", \"TEST:NIP3:turns_x-I\", \"TEST:NIP1:turns_x-I\", \"TEST:NRP9:turns_x-I\", \"TEST:NRP8:turns_x-I\", \"TEST:NRP7:turns_x-I\", \"TEST:NRP6:turns_x-I\", \"TEST:NRP5:turns_x-I\", \"TEST:NRP4:turns_x-I\", \"TEST:NRP3:turns_x-I\", \"TEST:NRP2:turns_x-I\", \"TEST:NRP1:turns_x-I\", \"TEST:NTP4:turns_x-I\", \"TEST:NTP2:turns_x-I\", \"TEST:NTP0:turns_x-I\", \"TEST:STP0:turns_x-I\"]\n",
    "pv_rise = [0 for _ in range(len(pv_list))]"
   ]
  },
  {
   "cell_type": "code",
   "execution_count": 20,
   "id": "66618f95",
   "metadata": {},
   "outputs": [
    {
     "name": "stdout",
     "output_type": "stream",
     "text": [
      "CPU times: user 650 ms, sys: 120 ms, total: 770 ms\n",
      "Wall time: 130 ms\n"
     ]
    }
   ],
   "source": [
    "%%time\n",
    "tbt = Data.from_epics(54, win, pv_list, pv_rise)"
   ]
  },
  {
   "cell_type": "code",
   "execution_count": 21,
   "id": "3d3d8ec5",
   "metadata": {
    "scrolled": true
   },
   "outputs": [
    {
     "name": "stdout",
     "output_type": "stream",
     "text": [
      "Tue Oct 26 13:10:41 2021       \r\n",
      "+-----------------------------------------------------------------------------+\r\n",
      "| NVIDIA-SMI 465.19.01    Driver Version: 465.19.01    CUDA Version: 11.3     |\r\n",
      "|-------------------------------+----------------------+----------------------+\r\n",
      "| GPU  Name        Persistence-M| Bus-Id        Disp.A | Volatile Uncorr. ECC |\r\n",
      "| Fan  Temp  Perf  Pwr:Usage/Cap|         Memory-Usage | GPU-Util  Compute M. |\r\n",
      "|                               |                      |               MIG M. |\r\n",
      "|===============================+======================+======================|\r\n",
      "|   0  NVIDIA GeForce ...  On   | 00000000:03:00.0  On |                  N/A |\r\n",
      "| 34%   44C    P2    48W / 151W |   1531MiB /  8116MiB |      3%      Default |\r\n",
      "|                               |                      |                  N/A |\r\n",
      "+-------------------------------+----------------------+----------------------+\r\n",
      "                                                                               \r\n",
      "+-----------------------------------------------------------------------------+\r\n",
      "| Processes:                                                                  |\r\n",
      "|  GPU   GI   CI        PID   Type   Process name                  GPU Memory |\r\n",
      "|        ID   ID                                                   Usage      |\r\n",
      "|=============================================================================|\r\n",
      "|    0   N/A  N/A      1425      G   /usr/lib/xorg/Xorg                455MiB |\r\n",
      "|    0   N/A  N/A      3752      G   /usr/bin/compiz                    13MiB |\r\n",
      "|    0   N/A  N/A      4755      G   ...AAAAAAAAA= --shared-files       37MiB |\r\n",
      "|    0   N/A  N/A    569842      G   ...AAAAAAAAA= --shared-files       39MiB |\r\n",
      "|    0   N/A  N/A    584156      G   /usr/lib/firefox/firefox          194MiB |\r\n",
      "|    0   N/A  N/A    586752      C   ...conda/envs/gui/bin/python      783MiB |\r\n",
      "+-----------------------------------------------------------------------------+\r\n"
     ]
    }
   ],
   "source": [
    "!nvidia-smi"
   ]
  },
  {
   "cell_type": "code",
   "execution_count": 22,
   "id": "facc25b7",
   "metadata": {
    "scrolled": true
   },
   "outputs": [
    {
     "name": "stdout",
     "output_type": "stream",
     "text": [
      "\r\n",
      "CUDA Driver Version:           11030\r\n",
      "NVRM version:                  NVIDIA UNIX x86_64 Kernel Module  465.19.01  Fri Mar 19 07:44:41 UTC 2021\r\n",
      "\r\n",
      "Device Number:                 0\r\n",
      "Device Name:                   NVIDIA GeForce GTX 1070\r\n",
      "Device Revision Number:        6.1\r\n",
      "Global Memory Size:            8510701568\r\n",
      "Number of Multiprocessors:     15\r\n",
      "Concurrent Copy and Execution: Yes\r\n",
      "Total Constant Memory:         65536\r\n",
      "Total Shared Memory per Block: 49152\r\n",
      "Registers per Block:           65536\r\n",
      "Warp Size:                     32\r\n",
      "Maximum Threads per Block:     1024\r\n",
      "Maximum Block Dimensions:      1024, 1024, 64\r\n",
      "Maximum Grid Dimensions:       2147483647 x 65535 x 65535\r\n",
      "Maximum Memory Pitch:          2147483647B\r\n",
      "Texture Alignment:             512B\r\n",
      "Clock Rate:                    1771 MHz\r\n",
      "Execution Timeout:             Yes\r\n",
      "Integrated Device:             No\r\n",
      "Can Map Host Memory:           Yes\r\n",
      "Compute Mode:                  default\r\n",
      "Concurrent Kernels:            Yes\r\n",
      "ECC Enabled:                   No\r\n",
      "Memory Clock Rate:             4004 MHz\r\n",
      "Memory Bus Width:              256 bits\r\n",
      "L2 Cache Size:                 2097152 bytes\r\n",
      "Max Threads Per SMP:           2048\r\n",
      "Async Engines:                 2\r\n",
      "Unified Addressing:            Yes\r\n",
      "Managed Memory:                Yes\r\n",
      "Concurrent Managed Memory:     Yes\r\n",
      "Preemption Supported:          Yes\r\n",
      "Cooperative Launch:            Yes\r\n",
      "  Multi-Device:                Yes\r\n",
      "Default Target:                cc60\r\n"
     ]
    }
   ],
   "source": [
    "!nvaccelinfo"
   ]
  },
  {
   "cell_type": "code",
   "execution_count": null,
   "id": "b760139f",
   "metadata": {},
   "outputs": [],
   "source": []
  }
 ],
 "metadata": {
  "colab": {
   "collapsed_sections": [
    "myt0_gMIOq7b",
    "5d97819c"
   ],
   "name": "03_frequency.ipynb",
   "provenance": []
  },
  "kernelspec": {
   "display_name": "Python 3 (ipykernel)",
   "language": "python",
   "name": "python3"
  },
  "language_info": {
   "codemirror_mode": {
    "name": "ipython",
    "version": 3
   },
   "file_extension": ".py",
   "mimetype": "text/x-python",
   "name": "python",
   "nbconvert_exporter": "python",
   "pygments_lexer": "ipython3",
   "version": "3.9.0"
  },
  "latex_envs": {
   "LaTeX_envs_menu_present": true,
   "autoclose": false,
   "autocomplete": true,
   "bibliofile": "biblio.bib",
   "cite_by": "apalike",
   "current_citInitial": 1,
   "eqLabelWithNumbers": true,
   "eqNumInitial": 1,
   "hotkeys": {
    "equation": "Ctrl-E",
    "itemize": "Ctrl-I"
   },
   "labels_anchors": false,
   "latex_user_defs": false,
   "report_style_numbering": false,
   "user_envs_cfg": false
  }
 },
 "nbformat": 4,
 "nbformat_minor": 5
}
