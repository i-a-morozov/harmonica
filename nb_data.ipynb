{
 "cells": [
  {
   "cell_type": "markdown",
   "id": "f8586622",
   "metadata": {
    "heading_collapsed": true
   },
   "source": [
    "## Data"
   ]
  },
  {
   "cell_type": "code",
   "execution_count": 1,
   "id": "30584941",
   "metadata": {
    "colab": {
     "base_uri": "https://localhost:8080/"
    },
    "hidden": true,
    "id": "359e7519",
    "outputId": "87ca351b-df63-4925-9ca8-57a85e576d51"
   },
   "outputs": [
    {
     "name": "stdout",
     "output_type": "stream",
     "text": [
      "Python 3.9.0\r\n"
     ]
    }
   ],
   "source": [
    "!python3 --version"
   ]
  },
  {
   "cell_type": "code",
   "execution_count": 2,
   "id": "58f65c6a",
   "metadata": {
    "colab": {
     "base_uri": "https://localhost:8080/"
    },
    "hidden": true,
    "id": "abd0b6fe",
    "outputId": "4c13d23c-9bc6-4771-f6e2-3802ee89cb4d"
   },
   "outputs": [
    {
     "data": {
      "text/plain": [
       "True"
      ]
     },
     "execution_count": 2,
     "metadata": {},
     "output_type": "execute_result"
    }
   ],
   "source": [
    "import epics\n",
    "import numpy\n",
    "import pandas\n",
    "import torch\n",
    "\n",
    "from harmonica.util import LIMIT, LENGTH, pv_make\n",
    "from harmonica.window import Window\n",
    "from harmonica.data import Data\n",
    "\n",
    "import matplotlib.pyplot as plt\n",
    "\n",
    "torch.set_printoptions(precision=12, sci_mode=True)\n",
    "torch.cuda.is_available()"
   ]
  },
  {
   "cell_type": "code",
   "execution_count": 3,
   "id": "4394d71a",
   "metadata": {
    "hidden": true,
    "scrolled": true
   },
   "outputs": [
    {
     "name": "stdout",
     "output_type": "stream",
     "text": [
      "Window(1024, None, None)\n",
      "Data(54, Window(1024, None, None))\n",
      "54\n",
      "54\n",
      "1024\n",
      "[1. 1. 1. ... 1. 1. 1.]\n",
      "torch.float64\n",
      "cpu\n",
      "torch.Size([54, 1024])\n",
      "[[0. 0. 0. ... 0. 0. 0.]\n",
      " [0. 0. 0. ... 0. 0. 0.]\n",
      " [0. 0. 0. ... 0. 0. 0.]\n",
      " ...\n",
      " [0. 0. 0. ... 0. 0. 0.]\n",
      " [0. 0. 0. ... 0. 0. 0.]\n",
      " [0. 0. 0. ... 0. 0. 0.]]\n",
      "torch.Size([54, 1024])\n",
      "[[0. 0. 0. ... 0. 0. 0.]\n",
      " [0. 0. 0. ... 0. 0. 0.]\n",
      " [0. 0. 0. ... 0. 0. 0.]\n",
      " ...\n",
      " [0. 0. 0. ... 0. 0. 0.]\n",
      " [0. 0. 0. ... 0. 0. 0.]\n",
      " [0. 0. 0. ... 0. 0. 0.]]\n",
      "empty\n",
      "[0. 0. 0. ... 0. 0. 0.]\n",
      "[0. 0. 0. ... 0. 0. 0.]\n",
      "[[ 0.77317283 -0.23037829  0.5022491  ... -0.63563389 -0.27560814\n",
      "  -0.41343091]\n",
      " [ 2.77015099  2.89390065 -0.25854601 ...  0.47278773 -0.60674248\n",
      "   0.95226095]\n",
      " [ 0.92130694  0.48028593 -0.06681692 ... -0.99590081  0.08497908\n",
      "  -0.64868693]\n",
      " ...\n",
      " [ 0.16562677 -1.80048653 -0.13858387 ...  0.55383016 -0.60302961\n",
      "   1.28428591]\n",
      " [-1.16453936  1.40534451 -0.68935755 ... -1.20779384  1.24213375\n",
      "  -0.10379144]\n",
      " [-1.87400932 -0.75451281  0.60855591 ... -0.46509926  0.76275608\n",
      "   0.23704762]]\n",
      "[[ 0.77317283 -0.23037829  0.5022491  ... -0.63563389 -0.27560814\n",
      "  -0.41343091]\n",
      " [ 2.77015099  2.89390065 -0.25854601 ...  0.47278773 -0.60674248\n",
      "   0.95226095]\n",
      " [ 0.92130694  0.48028593 -0.06681692 ... -0.99590081  0.08497908\n",
      "  -0.64868693]\n",
      " ...\n",
      " [ 0.16562677 -1.80048653 -0.13858387 ...  0.55383016 -0.60302961\n",
      "   1.28428591]\n",
      " [-1.16453936  1.40534451 -0.68935755 ... -1.20779384  1.24213375\n",
      "  -0.10379144]\n",
      " [-1.87400932 -0.75451281  0.60855591 ... -0.46509926  0.76275608\n",
      "   0.23704762]]\n",
      "[[ 1.41605045  1.25793843  0.02712458 ... -0.57889189 -0.91066491\n",
      "   0.23195699]\n",
      " [ 1.22220384  0.17188773  0.12481682 ...  1.81659318 -0.35751023\n",
      "   0.97109898]\n",
      " [ 0.95359021  1.46049454 -0.28343416 ...  0.1178304   0.93042962\n",
      "   1.94589706]\n",
      " ...\n",
      " [-0.45457749 -1.60618571 -2.07043174 ... -0.14418466 -0.9087118\n",
      "  -0.39473856]\n",
      " [ 0.59218527  0.64357452 -1.92550755 ...  1.1516866  -0.38573101\n",
      "   0.25691192]\n",
      " [-0.91054939  0.32402873 -1.4290747  ... -2.99903146 -1.33773381\n",
      "   1.1696473 ]]\n",
      "[[ 1.41605045  1.25793843  0.02712458 ... -0.57889189 -0.91066491\n",
      "   0.23195699]\n",
      " [ 1.22220384  0.17188773  0.12481682 ...  1.81659318 -0.35751023\n",
      "   0.97109898]\n",
      " [ 0.95359021  1.46049454 -0.28343416 ...  0.1178304   0.93042962\n",
      "   1.94589706]\n",
      " ...\n",
      " [-0.45457749 -1.60618571 -2.07043174 ... -0.14418466 -0.9087118\n",
      "  -0.39473856]\n",
      " [ 0.59218527  0.64357452 -1.92550755 ...  1.1516866  -0.38573101\n",
      "   0.25691192]\n",
      " [-0.91054939  0.32402873 -1.4290747  ... -2.99903146 -1.33773381\n",
      "   1.1696473 ]]\n",
      "Window(1024, 'cosine_window', 1.0)\n"
     ]
    }
   ],
   "source": [
    "# Example-01: Empty data initialization\n",
    "\n",
    "# Set (empty) window\n",
    "win = Window(length=1024, dtype=torch.float64, device='cpu')\n",
    "print(win)\n",
    "\n",
    "# Set (emply) TbT data\n",
    "tbt = Data(size=54, window=win)\n",
    "print(tbt)\n",
    "\n",
    "# Number of signals in data\n",
    "print(tbt.size)\n",
    "print(len(tbt))\n",
    "\n",
    "# Signal length (defined by window length)\n",
    "print(tbt.length)\n",
    "\n",
    "# Window data\n",
    "print(tbt.window.data.detach().cpu().numpy())\n",
    "\n",
    "# Data contaner dtype and device for data and work (define by window)\n",
    "print(tbt.dtype)\n",
    "print(tbt.device)\n",
    "\n",
    "# TbT data\n",
    "print(tbt.data.shape)\n",
    "print(tbt.data.detach().cpu().numpy())\n",
    "\n",
    "# TbT work, stores a copy of data (window or normalization is applied to work)\n",
    "print(tbt.work.shape)\n",
    "print(tbt.work.detach().cpu().numpy())\n",
    "\n",
    "# Initialization source, 'empty' for empty initialization\n",
    "print(tbt.source)\n",
    "\n",
    "# Get item\n",
    "print(tbt.data[0].detach().cpu().numpy())\n",
    "print(tbt[0].detach().cpu().numpy())\n",
    "\n",
    "# Set data (resets work)\n",
    "tbt.set_data(torch.randn(tbt.data.shape, dtype=tbt.dtype, device=tbt.device))\n",
    "print(tbt.data.detach().cpu().numpy())\n",
    "print(tbt.work.detach().cpu().numpy())\n",
    "\n",
    "# If data is modified directly, use reset to update work\n",
    "tbt.data.copy_(torch.randn(tbt.data.shape, dtype=tbt.dtype, device=tbt.device))\n",
    "tbt.reset()\n",
    "print(tbt.data.detach().cpu().numpy())\n",
    "print(tbt.work.detach().cpu().numpy())\n",
    "\n",
    "# Reset window\n",
    "tbt.window.set_data(name='cosine_window', order=1.0)\n",
    "print(win)"
   ]
  },
  {
   "cell_type": "code",
   "execution_count": 4,
   "id": "9b430ccb",
   "metadata": {
    "hidden": true,
    "scrolled": true
   },
   "outputs": [
    {
     "name": "stdout",
     "output_type": "stream",
     "text": [
      "446464\n",
      "0\n"
     ]
    }
   ],
   "source": [
    "# Example-02: Free CUDA\n",
    "\n",
    "# Set device\n",
    "device = 'cuda' if torch.cuda.is_available() else 'cpu'\n",
    "\n",
    "# Set window and data\n",
    "win = Window(length=1024, dtype=torch.float32, device=device)\n",
    "tbt = Data(size=54, window=win)\n",
    "print(torch.cuda.memory_allocated())\n",
    "del win\n",
    "del tbt\n",
    "if device != 'cpu':\n",
    "    torch.cuda.synchronize()\n",
    "    torch.cuda.empty_cache()\n",
    "print(torch.cuda.memory_allocated())"
   ]
  },
  {
   "cell_type": "code",
   "execution_count": 5,
   "id": "dac96689",
   "metadata": {
    "code_folding": [],
    "hidden": true,
    "scrolled": true
   },
   "outputs": [
    {
     "name": "stdout",
     "output_type": "stream",
     "text": [
      "Window(1024, 'cosine_window', 1.0)\n",
      "Data(54, Window(1024, 'cosine_window', 1.0))\n",
      "54\n",
      "1024\n",
      "tensor\n",
      "torch.Size([54, 1024])\n",
      "[[1. 1. 1. ... 1. 1. 1.]\n",
      " [1. 1. 1. ... 1. 1. 1.]\n",
      " [1. 1. 1. ... 1. 1. 1.]\n",
      " ...\n",
      " [1. 1. 1. ... 1. 1. 1.]\n",
      " [1. 1. 1. ... 1. 1. 1.]\n",
      " [1. 1. 1. ... 1. 1. 1.]]\n",
      "torch.Size([54, 1024])\n",
      "[[1. 1. 1. ... 1. 1. 1.]\n",
      " [1. 1. 1. ... 1. 1. 1.]\n",
      " [1. 1. 1. ... 1. 1. 1.]\n",
      " ...\n",
      " [1. 1. 1. ... 1. 1. 1.]\n",
      " [1. 1. 1. ... 1. 1. 1.]\n",
      " [1. 1. 1. ... 1. 1. 1.]]\n"
     ]
    }
   ],
   "source": [
    "# Example-03: Initialize from tensor\n",
    "\n",
    "# Set window\n",
    "win = Window(length=1024, name='cosine_window', order=1.0, dtype=torch.float64, device='cpu')\n",
    "print(win)\n",
    "\n",
    "# Set input tensor (length should match window length)\n",
    "dat = torch.ones((54, win.length), dtype=win.dtype, device=win.device)\n",
    "\n",
    "# Initialize data\n",
    "tbt = Data.from_tensor(window=win, tensor=dat)\n",
    "print(tbt)\n",
    "\n",
    "# Info\n",
    "print(tbt.size)\n",
    "print(tbt.length)\n",
    "print(tbt.source)\n",
    "print(tbt.data.shape)\n",
    "print(tbt.data.detach().cpu().numpy())\n",
    "print(tbt.work.shape)\n",
    "print(tbt.work.detach().cpu().numpy())\n",
    "\n",
    "# Clean\n",
    "del win\n",
    "del dat\n",
    "del tbt\n",
    "if device != 'cpu':\n",
    "    torch.cuda.synchronize()\n",
    "    torch.cuda.empty_cache()"
   ]
  },
  {
   "cell_type": "code",
   "execution_count": 6,
   "id": "4506032f",
   "metadata": {
    "hidden": true,
    "scrolled": true
   },
   "outputs": [
    {
     "name": "stdout",
     "output_type": "stream",
     "text": [
      "Window(8192, 'cosine_window', 1.0)\n",
      "torch.Size([2, 1])\n",
      "torch.Size([2, 3, 1])\n",
      "torch.Size([2, 3, 1])\n",
      "torch.Size([2, 3, 1])\n",
      "Data(2, Window(8192, 'cosine_window', 1.0))\n",
      "[[0. 0. 0. ... 0. 0. 0.]\n",
      " [0. 0. 0. ... 0. 0. 0.]]\n",
      "[[0. 0. 0. ... 0. 0. 0.]\n",
      " [0. 0. 0. ... 0. 0. 0.]]\n",
      "[[ 6.15405507  1.3608878  -2.155264   ...  6.1         6.15405507\n",
      "   1.3608878 ]\n",
      " [ 7.10992739 -5.12371091  1.10722119 ... -4.19288792  9.16469439\n",
      "  10.84816792]]\n",
      "[[0. 0. 0. ... 0. 0. 0.]\n",
      " [0. 0. 0. ... 0. 0. 0.]]\n",
      "[[ 6.15405507  1.3608878  -2.155264   ...  6.1         6.15405507\n",
      "   1.3608878 ]\n",
      " [ 7.10992739 -5.12371091  1.10722119 ... -4.19288792  9.16469439\n",
      "  10.84816792]]\n",
      "Data(2, Window(8192, 'cosine_window', 1.0))\n",
      "[[ 6.15405507  1.3608878  -2.155264   ...  6.1         6.15405507\n",
      "   1.3608878 ]\n",
      " [ 7.10992739 -5.12371091  1.10722119 ... -4.19288792  9.16469439\n",
      "  10.84816792]]\n",
      "[[ 6.15405507  1.3608878  -2.155264   ...  6.1         6.15405507\n",
      "   1.3608878 ]\n",
      " [ 7.10992739 -5.12371091  1.10722119 ... -4.19288792  9.16469439\n",
      "  10.84816792]]\n",
      "[0.1  0.34]\n",
      "[5.  0.5 0.1]\n",
      "[0.1 0.5 1. ]\n",
      "[5.5 1.5 4.1]\n",
      "[0.2 0.6 4. ]\n",
      "Data(54, Window(8192, 'cosine_window', 1.0))\n",
      "[[ 0.13469151  0.8582574   0.92017074 ...  1.29677734 -0.10041199\n",
      "   1.40622103]\n",
      " [-0.71664112 -0.65748709  1.19920307 ...  1.26320753 -0.57416123\n",
      "  -0.78901237]\n",
      " [ 1.36463     1.37202334  1.23087991 ...  0.189068   -0.01251289\n",
      "  -0.07443274]\n",
      " ...\n",
      " [-0.65421797  1.05262979 -0.91444418 ... -0.44572604  0.92791715\n",
      "  -0.89347782]\n",
      " [-0.50336276 -0.80603459 -0.13046431 ...  0.03244006 -0.75557228\n",
      "  -0.6178883 ]\n",
      " [ 0.0591749   0.83534623  0.1110411  ... -0.11802836  1.01854566\n",
      "  -0.08079195]]\n",
      "[[ 0.13469151  0.8582574   0.92017074 ...  1.29677734 -0.10041199\n",
      "   1.40622103]\n",
      " [-0.71664112 -0.65748709  1.19920307 ...  1.26320753 -0.57416123\n",
      "  -0.78901237]\n",
      " [ 1.36463     1.37202334  1.23087991 ...  0.189068   -0.01251289\n",
      "  -0.07443274]\n",
      " ...\n",
      " [-0.65421797  1.05262979 -0.91444418 ... -0.44572604  0.92791715\n",
      "  -0.89347782]\n",
      " [-0.50336276 -0.80603459 -0.13046431 ...  0.03244006 -0.75557228\n",
      "  -0.6178883 ]\n",
      " [ 0.0591749   0.83534623  0.1110411  ... -0.11802836  1.01854566\n",
      "  -0.08079195]]\n"
     ]
    }
   ],
   "source": [
    "# Example-04: Initialization from harmonics data\n",
    "\n",
    "# This initialization can be used to generate test data from given harmonics parameters\n",
    "# Another option is to create empty instance and set data and work containers or from_tensor (classmethod)\n",
    "\n",
    "# Set window\n",
    "win = Window(length=8192, name='cosine_window', order=1.0, dtype=torch.float64, device='cpu')\n",
    "print(win)\n",
    "\n",
    "# Set harmonics\n",
    "\n",
    "# Generate two signals with three harmonics in each signal\n",
    "# Each signal 'i' is a sum over harmonics 'j'\n",
    "# s_i(n) = m_i + ... + c_i_j*cos(2*pi*nu_i_j*n) + s_i_j*sin(2*pi*nu_i_j*n) + ..., n = 1, ..., length\n",
    "\n",
    "mean = torch.tensor([[0.5], [1.0]], dtype=win.dtype, device=win.device)\n",
    "frequency = torch.tensor([[[0.1], [0.2], [0.3]], [[0.12], [0.23], [0.34]]], dtype=win.dtype, device=win.device)\n",
    "c_amp = torch.tensor([[[5.0], [0.5], [0.1]], [[5.5], [1.5], [4.1]]], dtype=win.dtype, device=win.device)\n",
    "s_amp = torch.tensor([[[0.1], [0.5], [1.0]], [[0.2], [0.6], [4.0]]], dtype=win.dtype, device=win.device)\n",
    "\n",
    "print(mean.shape)\n",
    "print(frequency.shape)\n",
    "print(c_amp.shape)\n",
    "print(s_amp.shape)\n",
    "\n",
    "# Harmonics can be generated with Data.generate_harmonics (staticmethod)\n",
    "# This requires a data container\n",
    "# An empty Data instance can be created and data container can be modified\n",
    "\n",
    "tbt = Data(size=2, window=win)\n",
    "print(tbt)\n",
    "print(tbt.data.detach().cpu().numpy())\n",
    "print(tbt.work.detach().cpu().numpy())\n",
    "\n",
    "Data.generate_harmonics(tbt.data, mean, frequency, c_amp, s_amp)\n",
    "print(tbt.data.detach().cpu().numpy())\n",
    "print(tbt.work.detach().cpu().numpy())\n",
    "tbt.reset()\n",
    "print(tbt.work.detach().cpu().numpy())\n",
    "\n",
    "# Initiallize using a class method\n",
    "tbt = Data.from_harmonics(2, win, mean, frequency, c_amp, s_amp, std=None)\n",
    "print(tbt)\n",
    "print(tbt.data.detach().cpu().numpy())\n",
    "print(tbt.work.detach().cpu().numpy())\n",
    "\n",
    "# Check data frequencies (largest bin in FFT spectrum)\n",
    "print(torch.argmax(torch.abs(torch.fft.fft(tbt.data, 1000)), 1).to(torch.float64).div_(1000).numpy())\n",
    "\n",
    "# Check amplitudes\n",
    "time = 2.0*numpy.pi*torch.linspace(1, tbt.length, tbt.length, dtype=win.dtype, device=win.device)\n",
    "for i in range(tbt.size):\n",
    "    print((2*torch.sum(tbt.window.data*tbt[i]*torch.cos(time*frequency[i]), 1)/tbt.length).numpy())\n",
    "    print((2*torch.sum(tbt.window.data*tbt[i]*torch.sin(time*frequency[i]), 1)/tbt.length).numpy())\n",
    "    \n",
    "# Generate 54 signals with one harmonic and normal noise and save to file\n",
    "size = 54\n",
    "mean = torch.rand((size, 1), dtype=win.dtype, device=win.device)\n",
    "frequency = torch.rand((size, 1, 1), dtype=win.dtype, device=win.device)\n",
    "c_amp = torch.rand((size, 1, 1), dtype=win.dtype, device=win.device)\n",
    "s_amp = torch.rand((size, 1, 1), dtype=win.dtype, device=win.device)\n",
    "std = 0.001*torch.rand(size, dtype=win.dtype, device=win.device)\n",
    "tbt = Data.from_harmonics(size, win, mean, frequency, c_amp, s_amp, std)\n",
    "print(tbt)\n",
    "print(tbt.data.detach().cpu().numpy())\n",
    "tbt.save_data('test.npy')\n",
    "\n",
    "# Load saved data\n",
    "print(numpy.load('test.npy'))\n",
    "\n",
    "# Clean\n",
    "del win\n",
    "del tbt\n",
    "if device != 'cpu':\n",
    "    torch.cuda.synchronize()\n",
    "    torch.cuda.empty_cache()"
   ]
  },
  {
   "cell_type": "code",
   "execution_count": 7,
   "id": "9362ca46",
   "metadata": {
    "hidden": true,
    "scrolled": true
   },
   "outputs": [
    {
     "name": "stdout",
     "output_type": "stream",
     "text": [
      "Window(8192, None, None)\n",
      "Data(54, Window(8192, None, None))\n",
      "[[ 0.13469151  0.8582574   0.92017074 ...  1.29677734 -0.10041199\n",
      "   1.40622103]\n",
      " [-0.71664112 -0.65748709  1.19920307 ...  1.26320753 -0.57416123\n",
      "  -0.78901237]\n",
      " [ 1.36463     1.37202334  1.23087991 ...  0.189068   -0.01251289\n",
      "  -0.07443274]\n",
      " ...\n",
      " [-0.65421797  1.05262979 -0.91444418 ... -0.44572604  0.92791715\n",
      "  -0.89347782]\n",
      " [-0.50336276 -0.80603459 -0.13046431 ...  0.03244006 -0.75557228\n",
      "  -0.6178883 ]\n",
      " [ 0.0591749   0.83534623  0.1110411  ... -0.11802836  1.01854566\n",
      "  -0.08079195]]\n",
      "[[ 0.13469151  0.8582574   0.92017074 ...  1.29677734 -0.10041199\n",
      "   1.40622103]\n",
      " [-0.71664112 -0.65748709  1.19920307 ...  1.26320753 -0.57416123\n",
      "  -0.78901237]\n",
      " [ 1.36463     1.37202334  1.23087991 ...  0.189068   -0.01251289\n",
      "  -0.07443274]\n",
      " ...\n",
      " [-0.65421797  1.05262979 -0.91444418 ... -0.44572604  0.92791715\n",
      "  -0.89347782]\n",
      " [-0.50336276 -0.80603459 -0.13046431 ...  0.03244006 -0.75557228\n",
      "  -0.6178883 ]\n",
      " [ 0.0591749   0.83534623  0.1110411  ... -0.11802836  1.01854566\n",
      "  -0.08079195]]\n"
     ]
    }
   ],
   "source": [
    "# Example-05: Initialization from file\n",
    "\n",
    "# This initialization can be used to load TbT data from file (numpy)\n",
    "# Data also can be loaded into given instance using load_data method (updates work container)\n",
    "# In this case input size and length should match data container\n",
    "\n",
    "# Set window\n",
    "win = Window(length=8192, dtype=torch.float64, device='cpu')\n",
    "print(win)\n",
    "\n",
    "# Initialize from file\n",
    "tbt = Data.from_file(54, win, 'test.npy')\n",
    "print(tbt)\n",
    "print(tbt.data.detach().cpu().numpy())\n",
    "print(tbt.work.detach().cpu().numpy())\n",
    "\n",
    "# Clean\n",
    "del win\n",
    "del tbt\n",
    "if device != 'cpu':\n",
    "    torch.cuda.synchronize()\n",
    "    torch.cuda.empty_cache()"
   ]
  },
  {
   "cell_type": "code",
   "execution_count": 8,
   "id": "622e658a",
   "metadata": {
    "hidden": true
   },
   "outputs": [
    {
     "name": "stdout",
     "output_type": "stream",
     "text": [
      "Window(8192, None, None)\n",
      "Data(54, Window(8192, None, None))\n",
      "file\n",
      "tensor([2.098596534716e-03], dtype=torch.float64)\n",
      "[0.13469151]\n",
      "tensor([1.346915132956e-01], dtype=torch.float64)\n"
     ]
    }
   ],
   "source": [
    "# Example-06: Put test data to epics\n",
    "\n",
    "# softIoc -d virtual_tbt.db\n",
    "\n",
    "# Set window\n",
    "win = Window(8192, dtype=torch.float64, device='cpu')\n",
    "print(win)\n",
    "\n",
    "# Load data from file\n",
    "tbt = Data.from_file(54, win, 'test.npy')\n",
    "print(tbt)\n",
    "print(tbt.source)\n",
    "\n",
    "# Set list of pv names and starting indices\n",
    "bpm = [\"STP2\", \"STP4\", \"SRP1\", \"SRP2\", \"SRP3\", \"SRP4\", \"SRP5\", \"SRP6\", \"SRP7\", \"SRP8\", \"SRP9\", \"SIP1\", \"SIP2\", \"SRP10\", \"SRP11\", \"SRP12\", \"SRP13\", \"SRP14\", \"SRP15\", \"SRP16\", \"SRP17\", \"SEP5\", \"SEP4\", \"SEP3\", \"SEP1\", \"SEP0\", \"NEP0\", \"NEP1\", \"NEP3\", \"NEP4\", \"NEP5\", \"NRP17\", \"NRP16\", \"NRP15\", \"NRP14\", \"NRP13\", \"NRP12\", \"NRP11\", \"NRP10\", \"NIP3\", \"NIP1\", \"NRP9\", \"NRP8\", \"NRP7\", \"NRP6\", \"NRP5\", \"NRP4\", \"NRP3\", \"NRP2\", \"NRP1\", \"NTP4\", \"NTP2\", \"NTP0\", \"STP0\"]\n",
    "pv_list = [pv_make(name, 'x', True) for name in bpm]\n",
    "pv_rise = [0 for _ in range(len(bpm))]\n",
    "\n",
    "# Put tensor to PV\n",
    "Data.pv_put('TEST:STP2:turns_x-I', tbt[0])\n",
    "\n",
    "# Get tensor from PV\n",
    "print(Data.pv_get('TEST:STP2:turns_x-I', count=1, dtype=tbt.dtype, device=tbt.device))\n",
    "print(epics.caget('TEST:STP2:turns_x-I', count=1))\n",
    "\n",
    "# Set PVs with loop\n",
    "for name, signal in zip(pv_list, tbt):\n",
    "     Data.pv_put(name, signal)\n",
    "        \n",
    "# Set PVs with save_epics (Data instance is expected to have pv_list attribute)\n",
    "tbt.pv_list = pv_list\n",
    "tbt.save_epics()\n",
    "\n",
    "# Load data from PVs\n",
    "# Data instance should have pv_rise attribute\n",
    "tbt.pv_rise = pv_rise\n",
    "tbt.load_epics(shift=0, count=8192)\n",
    "print(tbt.data[0, 0:1])\n",
    "\n",
    "# Clean\n",
    "del win\n",
    "del tbt\n",
    "if device != 'cpu':\n",
    "    torch.cuda.synchronize()\n",
    "    torch.cuda.empty_cache()"
   ]
  },
  {
   "cell_type": "code",
   "execution_count": 9,
   "id": "e8aa198f",
   "metadata": {
    "hidden": true,
    "scrolled": true
   },
   "outputs": [
    {
     "name": "stdout",
     "output_type": "stream",
     "text": [
      "Window(1024, 'cosine_window', 1.0)\n",
      "Data(54, Window(1024, 'cosine_window', 1.0))\n",
      "epics\n",
      "[[ 1.46815987 -0.00782445  1.07583632 ...  0.63979802  0.31287626\n",
      "   1.35293417]\n",
      " [-1.07948503  0.41856863  1.44159072 ...  1.35184455  0.68050235\n",
      "  -1.01805004]\n",
      " [ 1.15941494  0.87180902  0.53936015 ...  0.59816693  0.92786697\n",
      "   1.20027275]\n",
      " ...\n",
      " [-0.70015822  1.07318044 -0.90876201 ... -0.76007419  1.0957497\n",
      "  -0.8900837 ]\n",
      " [ 0.68481003 -0.27499415 -0.82868957 ... -0.7864462  -0.05811205\n",
      "   0.84365792]\n",
      " [ 0.52141682  0.36928582  0.58087892 ...  0.23778731  0.70976158\n",
      "   0.18181276]]\n",
      "[[ 1.46815987 -0.00782445  1.07583632 ...  0.63979802  0.31287626\n",
      "   1.35293417]\n",
      " [-1.07948503  0.41856863  1.44159072 ...  1.35184455  0.68050235\n",
      "  -1.01805004]\n",
      " [ 1.15941494  0.87180902  0.53936015 ...  0.59816693  0.92786697\n",
      "   1.20027275]\n",
      " ...\n",
      " [-0.70015822  1.07318044 -0.90876201 ... -0.76007419  1.0957497\n",
      "  -0.8900837 ]\n",
      " [ 0.68481003 -0.27499415 -0.82868957 ... -0.7864462  -0.05811205\n",
      "   0.84365792]\n",
      " [ 0.52141682  0.36928582  0.58087892 ...  0.23778731  0.70976158\n",
      "   0.18181276]]\n",
      "[[ 1.          1.          1.         ...  1.          1.\n",
      "   1.        ]\n",
      " [-0.71664112 -0.65748709  1.19920307 ...  0.47777173  1.42742265\n",
      "  -0.22805681]\n",
      " [ 1.36463     1.37202334  1.23087991 ... -0.00890701  0.19540068\n",
      "   0.49379778]\n",
      " ...\n",
      " [-0.65421797  1.05262979 -0.91444418 ... -0.72015605  1.08122842\n",
      "  -0.90349373]\n",
      " [-0.50336276 -0.80603459 -0.13046431 ...  0.21103162  0.97424272\n",
      "   0.7968341 ]\n",
      " [ 0.0591749   0.83534623  0.1110411  ...  0.71496784  0.23357739\n",
      "   0.65763079]]\n",
      "[[ 1.          1.          1.         ...  1.          1.\n",
      "   1.        ]\n",
      " [-0.71664112 -0.65748709  1.19920307 ...  0.47777173  1.42742265\n",
      "  -0.22805681]\n",
      " [ 1.36463     1.37202334  1.23087991 ... -0.00890701  0.19540068\n",
      "   0.49379778]\n",
      " ...\n",
      " [-0.65421797  1.05262979 -0.91444418 ... -0.72015605  1.08122842\n",
      "  -0.90349373]\n",
      " [-0.50336276 -0.80603459 -0.13046431 ...  0.21103162  0.97424272\n",
      "   0.7968341 ]\n",
      " [ 0.0591749   0.83534623  0.1110411  ...  0.71496784  0.23357739\n",
      "   0.65763079]]\n"
     ]
    }
   ],
   "source": [
    "# Example-07: Initialization from epics\n",
    "\n",
    "# softIoc -d virtual_tbt.db\n",
    "\n",
    "# Use to load data from list of PV names\n",
    "# Optionaly provide a list of starting values and shift for all PVs\n",
    "\n",
    "# Set window\n",
    "win = Window(1024, 'cosine_window', 1.0, dtype=torch.float64, device='cpu')\n",
    "print(win)\n",
    "\n",
    "# Set list of pv names and starting indices\n",
    "bpm = [\"STP2\", \"STP4\", \"SRP1\", \"SRP2\", \"SRP3\", \"SRP4\", \"SRP5\", \"SRP6\", \"SRP7\", \"SRP8\", \"SRP9\", \"SIP1\", \"SIP2\", \"SRP10\", \"SRP11\", \"SRP12\", \"SRP13\", \"SRP14\", \"SRP15\", \"SRP16\", \"SRP17\", \"SEP5\", \"SEP4\", \"SEP3\", \"SEP1\", \"SEP0\", \"NEP0\", \"NEP1\", \"NEP3\", \"NEP4\", \"NEP5\", \"NRP17\", \"NRP16\", \"NRP15\", \"NRP14\", \"NRP13\", \"NRP12\", \"NRP11\", \"NRP10\", \"NIP3\", \"NIP1\", \"NRP9\", \"NRP8\", \"NRP7\", \"NRP6\", \"NRP5\", \"NRP4\", \"NRP3\", \"NRP2\", \"NRP1\", \"NTP4\", \"NTP2\", \"NTP0\", \"STP0\"]\n",
    "pv_list = [pv_make(name, 'x', True) for name in bpm]\n",
    "pv_rise = [0 for _ in range(len(bpm))]\n",
    "\n",
    "# Set data\n",
    "tbt = Data.from_epics(54, win, pv_list, pv_rise, 16, 2048)\n",
    "print(tbt)\n",
    "print(tbt.source)\n",
    "print(tbt.data.detach().cpu().numpy())\n",
    "print(tbt.work.detach().cpu().numpy())\n",
    "\n",
    "# Change one PV\n",
    "Data.pv_put('TEST:STP2:turns_x-I', tbt[0].mul_(0.0).add(1.0))\n",
    "\n",
    "# On call, data and work are reloaded\n",
    "tbt()\n",
    "print(tbt.data.detach().cpu().numpy())\n",
    "print(tbt.work.detach().cpu().numpy())\n",
    "\n",
    "# Clean\n",
    "del win\n",
    "del tbt\n",
    "if device != 'cpu':\n",
    "    torch.cuda.synchronize()\n",
    "    torch.cuda.empty_cache()"
   ]
  },
  {
   "cell_type": "code",
   "execution_count": 10,
   "id": "7a99de1c",
   "metadata": {
    "hidden": true
   },
   "outputs": [
    {
     "name": "stdout",
     "output_type": "stream",
     "text": [
      "[[1. 2. 3. 4. 5. 6. 7. 8.]]\n",
      "[[1. 2. 3. 4.]\n",
      " [2. 3. 4. 5.]\n",
      " [3. 4. 5. 6.]\n",
      " [4. 5. 6. 7.]\n",
      " [5. 6. 7. 8.]]\n"
     ]
    }
   ],
   "source": [
    "# Example-08: Generate new TbT data from given signal\n",
    "\n",
    "# Set initial data\n",
    "size, length = 1, 8\n",
    "win = Window(length)\n",
    "tbt = Data.from_tensor(win, torch.linspace(1, length, length).reshape(1, -1))\n",
    "print(tbt.data.detach().cpu().numpy())\n",
    "\n",
    "# Generate new data\n",
    "tbt = tbt.make_matrix(0, 4, 1)\n",
    "print(tbt.data.detach().cpu().numpy())\n",
    "\n",
    "# Clean\n",
    "del win\n",
    "del tbt\n",
    "if device != 'cpu':\n",
    "    torch.cuda.synchronize()\n",
    "    torch.cuda.empty_cache()"
   ]
  },
  {
   "cell_type": "code",
   "execution_count": 11,
   "id": "e7537027",
   "metadata": {
    "hidden": true
   },
   "outputs": [
    {
     "name": "stdout",
     "output_type": "stream",
     "text": [
      "[[0. 1. 2. 3. 4. 5. 6. 7.]\n",
      " [0. 1. 2. 3. 4. 5. 6. 7.]\n",
      " [0. 1. 2. 3. 4. 5. 6. 7.]\n",
      " [0. 1. 2. 3. 4. 5. 6. 7.]]\n",
      "[[0. 0. 0. 0. 1. 1. 1. 1. 2. 2. 2. 2. 3. 3. 3. 3.]]\n"
     ]
    }
   ],
   "source": [
    "# Example-9: Generate new data (mixed signal)\n",
    "\n",
    "# Set initial data\n",
    "size, length = 4, 8\n",
    "win = Window(length)\n",
    "tbt = Data.from_tensor(win, torch.tensor([[_ for _ in range(length)] for _ in range(size)]))\n",
    "print(tbt.data.detach().cpu().numpy())\n",
    "\n",
    "# Generate new data\n",
    "tbt = tbt.make_signal(4)\n",
    "print(tbt.data.detach().cpu().numpy())\n",
    "\n",
    "# Clean\n",
    "del win\n",
    "del tbt\n",
    "if device != 'cpu':\n",
    "    torch.cuda.synchronize()\n",
    "    torch.cuda.empty_cache()"
   ]
  },
  {
   "cell_type": "code",
   "execution_count": 12,
   "id": "24dc1dcc",
   "metadata": {
    "hidden": true
   },
   "outputs": [
    {
     "name": "stdout",
     "output_type": "stream",
     "text": [
      "Window(1024, None, None)\n",
      "Data(54, Window(1024, None, None))\n",
      "[1. 1. 1. ... 1. 1. 1.]\n",
      "[1. 1. 1. ... 1. 1. 1.]\n"
     ]
    }
   ],
   "source": [
    "# Example-10: Indexing by PV name\n",
    "\n",
    "# softIoc -d virtual_tbt.db\n",
    "\n",
    "# Set parameters\n",
    "dtype, device = torch.float64, 'cpu'\n",
    "size, length = 54, 1024\n",
    "\n",
    "# Set list of pv names and starting indices\n",
    "bpm = [\"STP2\", \"STP4\", \"SRP1\", \"SRP2\", \"SRP3\", \"SRP4\", \"SRP5\", \"SRP6\", \"SRP7\", \"SRP8\", \"SRP9\", \"SIP1\", \"SIP2\", \"SRP10\", \"SRP11\", \"SRP12\", \"SRP13\", \"SRP14\", \"SRP15\", \"SRP16\", \"SRP17\", \"SEP5\", \"SEP4\", \"SEP3\", \"SEP1\", \"SEP0\", \"NEP0\", \"NEP1\", \"NEP3\", \"NEP4\", \"NEP5\", \"NRP17\", \"NRP16\", \"NRP15\", \"NRP14\", \"NRP13\", \"NRP12\", \"NRP11\", \"NRP10\", \"NIP3\", \"NIP1\", \"NRP9\", \"NRP8\", \"NRP7\", \"NRP6\", \"NRP5\", \"NRP4\", \"NRP3\", \"NRP2\", \"NRP1\", \"NTP4\", \"NTP2\", \"NTP0\", \"STP0\"]\n",
    "pv_list = [pv_make(name, 'x', True) for name in bpm]\n",
    "pv_rise = [0 for _ in range(len(bpm))]\n",
    "\n",
    "win = Window(1024, dtype=dtype, device=device)\n",
    "print(win)\n",
    "tbt = Data.from_epics(size, win, pv_list, pv_rise, count=1024)\n",
    "print(tbt)\n",
    "\n",
    "# Index by position or PV name (if epics)\n",
    "print(tbt[0].detach().cpu().numpy())\n",
    "print(tbt[\"TEST:STP2:turns_x-I\"].detach().cpu().numpy())\n",
    "\n",
    "# Clean\n",
    "del win\n",
    "del tbt\n",
    "if device != 'cpu':\n",
    "    torch.cuda.synchronize()\n",
    "    torch.cuda.empty_cache()"
   ]
  },
  {
   "cell_type": "code",
   "execution_count": 13,
   "id": "fffa44d1",
   "metadata": {
    "hidden": true
   },
   "outputs": [
    {
     "name": "stdout",
     "output_type": "stream",
     "text": [
      "Window(4096, None, None)\n",
      "Data(54, Window(4096, None, None))\n"
     ]
    }
   ],
   "source": [
    "# Example-11: Put to all PVs\n",
    "\n",
    "# softIoc -d virtual_tbt.db\n",
    "\n",
    "# Set list of pv names and starting indices\n",
    "bpm = [\"STP2\", \"STP4\", \"SRP1\", \"SRP2\", \"SRP3\", \"SRP4\", \"SRP5\", \"SRP6\", \"SRP7\", \"SRP8\", \"SRP9\", \"SIP1\", \"SIP2\", \"SRP10\", \"SRP11\", \"SRP12\", \"SRP13\", \"SRP14\", \"SRP15\", \"SRP16\", \"SRP17\", \"SEP5\", \"SEP4\", \"SEP3\", \"SEP1\", \"SEP0\", \"NEP0\", \"NEP1\", \"NEP3\", \"NEP4\", \"NEP5\", \"NRP17\", \"NRP16\", \"NRP15\", \"NRP14\", \"NRP13\", \"NRP12\", \"NRP11\", \"NRP10\", \"NIP3\", \"NIP1\", \"NRP9\", \"NRP8\", \"NRP7\", \"NRP6\", \"NRP5\", \"NRP4\", \"NRP3\", \"NRP2\", \"NRP1\", \"NTP4\", \"NTP2\", \"NTP0\", \"STP0\"]\n",
    "pv_list = [pv_make(name, 'x', True) for name in bpm]\n",
    "pv_rise = [0 for _ in range(len(bpm))]\n",
    "\n",
    "# Generate test data\n",
    "frequency = 0.123456\n",
    "time = torch.linspace(1, 4096, 4096, dtype=torch.float64)\n",
    "dat = [(10.0 + torch.randn(1)) * torch.cos(2.0*numpy.pi*frequency*time) for _ in pv_list]\n",
    "dat = torch.stack(dat) + 1.0\n",
    "\n",
    "# Set data \n",
    "win = Window(4096, dtype=torch.float64)\n",
    "tbt = Data.from_tensor(win, dat)\n",
    "print(win)\n",
    "print(tbt)\n",
    "\n",
    "# Add attibutes\n",
    "tbt.pv_list = pv_list\n",
    "tbt.pv_rise = pv_rise\n",
    "tbt.data[0, 128].add_(+25.0)\n",
    "tbt.data[5, 256].add_(-25.0)\n",
    "tbt.save_epics()\n",
    "\n",
    "# Clean\n",
    "del win\n",
    "del tbt\n",
    "if device != 'cpu':\n",
    "    torch.cuda.synchronize()\n",
    "    torch.cuda.empty_cache()"
   ]
  },
  {
   "cell_type": "code",
   "execution_count": 14,
   "id": "75154462",
   "metadata": {
    "hidden": true
   },
   "outputs": [
    {
     "name": "stdout",
     "output_type": "stream",
     "text": [
      "Window(1024, 'cosine_window', 5.0)\n",
      "Data(1, Window(1024, 'cosine_window', 5.0))\n",
      "tensor([1.000000000000e+00], dtype=torch.float64)\n",
      "tensor([1.000000000000e+00], dtype=torch.float64)\n",
      "tensor([-0.], dtype=torch.float64)\n"
     ]
    },
    {
     "data": {
      "image/png": "[encoded data removed]",
      "text/plain": [
       "<Figure size 720x360 with 1 Axes>"
      ]
     },
     "metadata": {
      "needs_background": "light"
     },
     "output_type": "display_data"
    }
   ],
   "source": [
    "# Example-12: Operations with window\n",
    "\n",
    "# tbt.window_mean           -- return window weighted mean\n",
    "# tbt.window_remove_mean    -- copy data to work with removed window weighted mean\n",
    "# tbt.window_apply          -- apply window to work\n",
    "\n",
    "# Set window\n",
    "win = Window.from_cosine(1024, 5.0, dtype=torch.float64, device='cpu')\n",
    "print(win)\n",
    "\n",
    "# Set tbt\n",
    "tbt = Data.from_tensor(win, torch.stack([1.0 + torch.sin(2.0*numpy.pi*0.12*torch.linspace(1, 1024, 1024, dtype=win.dtype, device=win.device))]))\n",
    "print(tbt)\n",
    "\n",
    "# Compute mean values\n",
    "print(torch.mean(tbt.data, -1))\n",
    "print(*tbt.window_mean())\n",
    "\n",
    "# Remove mean\n",
    "tbt.window_remove_mean()\n",
    "print(*torch.round(tbt.window_mean()))\n",
    "\n",
    "# Apply window (change work)\n",
    "tbt.window_apply()\n",
    "\n",
    "# Plot \n",
    "time = torch.linspace(1, 1024, 1024, dtype=win.dtype)\n",
    "plt.figure(figsize=(10, 5))\n",
    "plt.scatter(time, tbt.data[0].detach().cpu(), c='r', s=0.5)\n",
    "plt.scatter(time, tbt.work[0].detach().cpu(), c='b', s=0.5)\n",
    "plt.show()\n",
    "\n",
    "# Clean\n",
    "del win\n",
    "del tbt\n",
    "if device != 'cpu':\n",
    "    torch.cuda.synchronize()\n",
    "    torch.cuda.empty_cache()"
   ]
  },
  {
   "cell_type": "code",
   "execution_count": 15,
   "id": "b2c8d155",
   "metadata": {
    "hidden": true
   },
   "outputs": [
    {
     "name": "stdout",
     "output_type": "stream",
     "text": [
      "Window(1024, 'cosine_window', 5.0)\n",
      "Data(1, Window(1024, 'cosine_window', 5.0))\n",
      "tensor([0.], dtype=torch.float64)\n",
      "tensor(1.000000000000e+00, dtype=torch.float64)\n"
     ]
    },
    {
     "data": {
      "image/png": "[encoded data removed]",
      "text/plain": [
       "<Figure size 720x360 with 1 Axes>"
      ]
     },
     "metadata": {
      "needs_background": "light"
     },
     "output_type": "display_data"
    }
   ],
   "source": [
    "# Example-13: Data normalization\n",
    "\n",
    "# Set window\n",
    "win = Window.from_cosine(1024, 5.0, dtype=torch.float64, device='cpu')\n",
    "print(win)\n",
    "\n",
    "# Set TbT\n",
    "tbt = Data.from_tensor(win, torch.stack([1.0 + torch.sin(2.0*numpy.pi*0.12*torch.linspace(1, 1024, 1024, dtype=win.dtype, device=win.device))]))\n",
    "print(tbt)\n",
    "\n",
    "# Normalize (change work)\n",
    "# If window flag is True, window weighted mean is subtracted\n",
    "tbt.normalize(window=True)\n",
    "print(*torch.round(tbt.window_mean()))\n",
    "print(torch.std(tbt.work))\n",
    "\n",
    "# Plot \n",
    "time = torch.linspace(1, 1024, 1024, dtype=win.dtype)\n",
    "plt.figure(figsize=(10, 5))\n",
    "plt.scatter(time, tbt.data[0].detach().cpu(), c='r', s=0.5)\n",
    "plt.scatter(time, tbt.work[0].detach().cpu(), c='b', s=0.5)\n",
    "plt.show()\n",
    "\n",
    "# Clean\n",
    "del win\n",
    "del tbt\n",
    "if device != 'cpu':\n",
    "    torch.cuda.synchronize()\n",
    "    torch.cuda.empty_cache()"
   ]
  },
  {
   "cell_type": "code",
   "execution_count": 16,
   "id": "bf8b5daa",
   "metadata": {
    "hidden": true
   },
   "outputs": [
    {
     "name": "stdout",
     "output_type": "stream",
     "text": [
      "Window(4096, None, None)\n",
      "Data(3, Window(4096, None, None))\n",
      "tensor([[8.456991317059e+00, 1.202645033017e+00, -6.167641278921e+00,  ...,\n",
      "         -8.418882977595e+00, -8.885627248861e+00, -3.696472226966e+00],\n",
      "        [7.301307438446e+00, 1.171239123075e+00, -5.056800844552e+00,  ...,\n",
      "         -6.959145296683e+00, -7.353553580578e+00, -2.968613361603e+00],\n",
      "        [7.099288175336e+00, 1.165749214545e+00, -4.862620437490e+00,  ...,\n",
      "         -6.703975923735e+00, -7.085739518944e+00, -2.841380028725e+00]],\n",
      "       dtype=torch.float64)\n",
      "[[ 8.45699132  1.20264503 -6.16764128 ... -8.41888298 -8.88562725\n",
      "  -3.69647223]\n",
      " [ 7.30130744  1.17123912 -5.05680084 ... -6.9591453  -7.35355358\n",
      "  -2.96861336]\n",
      " [ 7.09928818  1.16574921 -4.86262044 ... -6.70397592 -7.08573952\n",
      "  -2.84138003]]\n",
      "{'TEST:STP2:turns_x-I': array([ 8.45699132,  1.20264503, -6.16764128, ..., -8.41888298,\n",
      "       -8.88562725, -3.69647223]), 'TEST:STP4:turns_x-I': array([ 7.30130744,  1.17123912, -5.05680084, ..., -6.9591453 ,\n",
      "       -7.35355358, -2.96861336]), 'TEST:STP0:turns_x-I': array([ 7.09928818,  1.16574921, -4.86262044, ..., -6.70397592,\n",
      "       -7.08573952, -2.84138003])}\n",
      "                       PV      DATA\n",
      "0     TEST:STP2:turns_x-I  8.456991\n",
      "1     TEST:STP2:turns_x-I  1.202645\n",
      "2     TEST:STP2:turns_x-I -6.167641\n",
      "3     TEST:STP2:turns_x-I -9.437079\n",
      "4     TEST:STP2:turns_x-I -6.735114\n",
      "...                   ...       ...\n",
      "4091  TEST:STP0:turns_x-I  4.542446\n",
      "4092  TEST:STP0:turns_x-I -1.914509\n",
      "4093  TEST:STP0:turns_x-I -6.703976\n",
      "4094  TEST:STP0:turns_x-I -7.085740\n",
      "4095  TEST:STP0:turns_x-I -2.841380\n",
      "\n",
      "[12288 rows x 2 columns]\n"
     ]
    }
   ],
   "source": [
    "# Example-14: Convert data (return work data)\n",
    "\n",
    "# softIoc -d virtual_tbt.db\n",
    "\n",
    "# Set list of pv names and starting indices\n",
    "bpm = [\"STP2\", \"STP4\", \"STP0\"]\n",
    "pv_list = [pv_make(name, 'x', True) for name in bpm]\n",
    "pv_rise = [0 for _ in range(len(bpm))]\n",
    "\n",
    "# Generate test data\n",
    "frequency = 0.123456\n",
    "time = torch.linspace(1, 4096, 4096, dtype=torch.float64)\n",
    "dat = [(10.0 + torch.randn(1))*torch.cos(2.0*numpy.pi*frequency*time) for _ in pv_list]\n",
    "dat = torch.stack(dat) + 1.0\n",
    "\n",
    "# Set window\n",
    "win = Window(4096, dtype=torch.float64)\n",
    "print(win)\n",
    "\n",
    "# Set TbT\n",
    "tbt = Data.from_tensor(win, dat)\n",
    "tbt.pv_list = pv_list\n",
    "tbt.pv_rise = pv_rise\n",
    "tbt.source = 'epics'\n",
    "print(tbt)\n",
    "\n",
    "# Convert (print result)\n",
    "print(tbt.to_tensor())\n",
    "print(tbt.to_numpy())\n",
    "print(tbt.to_dict())\n",
    "print(tbt.to_data_frame())\n",
    "\n",
    "# Clean\n",
    "del win\n",
    "del tbt\n",
    "if device != 'cpu':\n",
    "    torch.cuda.synchronize()\n",
    "    torch.cuda.empty_cache()"
   ]
  },
  {
   "cell_type": "code",
   "execution_count": null,
   "id": "18e80737",
   "metadata": {
    "hidden": true
   },
   "outputs": [],
   "source": []
  },
  {
   "cell_type": "markdown",
   "id": "7c00d83e",
   "metadata": {},
   "source": [
    "## Set test data"
   ]
  },
  {
   "cell_type": "code",
   "execution_count": 1,
   "id": "499cebcf",
   "metadata": {},
   "outputs": [],
   "source": [
    "# softIoc -d virtual_tbt.db"
   ]
  },
  {
   "cell_type": "code",
   "execution_count": 2,
   "id": "4b6a38e5",
   "metadata": {},
   "outputs": [
    {
     "data": {
      "text/plain": [
       "True"
      ]
     },
     "execution_count": 2,
     "metadata": {},
     "output_type": "execute_result"
    }
   ],
   "source": [
    "import epics\n",
    "import numpy\n",
    "import pandas\n",
    "import torch\n",
    "\n",
    "from harmonica.util import LIMIT, LENGTH, pv_make\n",
    "from harmonica.window import Window\n",
    "from harmonica.data import Data\n",
    "\n",
    "torch.set_printoptions(precision=12, sci_mode=True)\n",
    "torch.cuda.is_available()"
   ]
  },
  {
   "cell_type": "code",
   "execution_count": 3,
   "id": "3fbcd682",
   "metadata": {},
   "outputs": [],
   "source": [
    "win = Window(4096, dtype=torch.float64)\n",
    "tbt = Data.from_file(54, win, 'virtual_tbt.npy')\n",
    "tbt.data.add_(torch.rand(54).reshape(-1, 1))\n",
    "tbt.reset()\n",
    "std = 1.0E-4 * torch.ones(54, dtype=torch.float64)\n",
    "Data.add_noise(tbt.data, std)\n",
    "tbt.data[0, 128].add_(+0.025)\n",
    "tbt.data[5, 256].add_(-0.025)\n",
    "pv_list = [\"TEST:STP2:turns_x-I\", \"TEST:STP4:turns_x-I\", \"TEST:SRP1:turns_x-I\", \"TEST:SRP2:turns_x-I\", \"TEST:SRP3:turns_x-I\", \"TEST:SRP4:turns_x-I\", \"TEST:SRP5:turns_x-I\", \"TEST:SRP6:turns_x-I\", \"TEST:SRP7:turns_x-I\", \"TEST:SRP8:turns_x-I\", \"TEST:SRP9:turns_x-I\", \"TEST:SIP1:turns_x-I\", \"TEST:SIP2:turns_x-I\", \"TEST:SRP10:turns_x-I\", \"TEST:SRP11:turns_x-I\", \"TEST:SRP12:turns_x-I\", \"TEST:SRP13:turns_x-I\", \"TEST:SRP14:turns_x-I\", \"TEST:SRP15:turns_x-I\", \"TEST:SRP16:turns_x-I\", \"TEST:SRP17:turns_x-I\", \"TEST:SEP5:turns_x-I\", \"TEST:SEP4:turns_x-I\", \"TEST:SEP3:turns_x-I\", \"TEST:SEP1:turns_x-I\", \"TEST:SEP0:turns_x-I\", \"TEST:NEP0:turns_x-I\", \"TEST:NEP1:turns_x-I\", \"TEST:NEP3:turns_x-I\", \"TEST:NEP4:turns_x-I\", \"TEST:NEP5:turns_x-I\", \"TEST:NRP17:turns_x-I\", \"TEST:NRP16:turns_x-I\", \"TEST:NRP15:turns_x-I\", \"TEST:NRP14:turns_x-I\", \"TEST:NRP13:turns_x-I\", \"TEST:NRP12:turns_x-I\", \"TEST:NRP11:turns_x-I\", \"TEST:NRP10:turns_x-I\", \"TEST:NIP3:turns_x-I\", \"TEST:NIP1:turns_x-I\", \"TEST:NRP9:turns_x-I\", \"TEST:NRP8:turns_x-I\", \"TEST:NRP7:turns_x-I\", \"TEST:NRP6:turns_x-I\", \"TEST:NRP5:turns_x-I\", \"TEST:NRP4:turns_x-I\", \"TEST:NRP3:turns_x-I\", \"TEST:NRP2:turns_x-I\", \"TEST:NRP1:turns_x-I\", \"TEST:NTP4:turns_x-I\", \"TEST:NTP2:turns_x-I\", \"TEST:NTP0:turns_x-I\", \"TEST:STP0:turns_x-I\"]\n",
    "pv_rise = [0 for _ in range(len(pv_list))]\n",
    "tbt.pv_list = pv_list\n",
    "tbt.pv_rise = pv_rise\n",
    "tbt.save_epics()"
   ]
  },
  {
   "cell_type": "code",
   "execution_count": null,
   "id": "empty-shell",
   "metadata": {},
   "outputs": [],
   "source": []
  }
 ],
 "metadata": {
  "colab": {
   "collapsed_sections": [
    "14c18277"
   ],
   "name": "harmonica.ipynb",
   "provenance": []
  },
  "kernelspec": {
   "display_name": "Python 3 (ipykernel)",
   "language": "python",
   "name": "python3"
  },
  "language_info": {
   "codemirror_mode": {
    "name": "ipython",
    "version": 3
   },
   "file_extension": ".py",
   "mimetype": "text/x-python",
   "name": "python",
   "nbconvert_exporter": "python",
   "pygments_lexer": "ipython3",
   "version": "3.9.0"
  },
  "latex_envs": {
   "LaTeX_envs_menu_present": true,
   "autoclose": false,
   "autocomplete": true,
   "bibliofile": "biblio.bib",
   "cite_by": "apalike",
   "current_citInitial": 1,
   "eqLabelWithNumbers": true,
   "eqNumInitial": 1,
   "hotkeys": {
    "equation": "Ctrl-E",
    "itemize": "Ctrl-I"
   },
   "labels_anchors": false,
   "latex_user_defs": false,
   "report_style_numbering": false,
   "user_envs_cfg": false
  }
 },
 "nbformat": 4,
 "nbformat_minor": 5
}
