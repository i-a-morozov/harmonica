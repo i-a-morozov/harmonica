{
 "cells": [
  {
   "cell_type": "markdown",
   "id": "matched-attack",
   "metadata": {
    "heading_collapsed": true,
    "id": "eTuGZt-gXDRc"
   },
   "source": [
    "## Frequency"
   ]
  },
  {
   "cell_type": "code",
   "execution_count": 1,
   "id": "hollow-monroe",
   "metadata": {
    "colab": {
     "base_uri": "https://localhost:8080/"
    },
    "executionInfo": {
     "elapsed": 288,
     "status": "ok",
     "timestamp": 1634043394257,
     "user": {
      "displayName": "Ivan Morozov",
      "photoUrl": "https://lh3.googleusercontent.com/a/default-user=s64",
      "userId": "01505246621606466427"
     },
     "user_tz": -420
    },
    "hidden": true,
    "id": "-XncPEzMX4ga",
    "outputId": "6a33d4e7-e8cd-45a4-abcc-66617ca5f25d"
   },
   "outputs": [
    {
     "data": {
      "text/plain": [
       "True"
      ]
     },
     "execution_count": 1,
     "metadata": {},
     "output_type": "execute_result"
    }
   ],
   "source": [
    "import epics\n",
    "import numpy\n",
    "import pandas\n",
    "import torch\n",
    "import nufft\n",
    "\n",
    "from harmonica.util import LENGTH\n",
    "from harmonica.window import Window\n",
    "from harmonica.data import Data\n",
    "from harmonica.frequency import Frequency\n",
    "\n",
    "import matplotlib.pyplot as plt\n",
    "\n",
    "torch.set_printoptions(precision=12, sci_mode=True)\n",
    "torch.cuda.is_available()"
   ]
  },
  {
   "cell_type": "code",
   "execution_count": 2,
   "id": "characteristic-jaguar",
   "metadata": {
    "colab": {
     "base_uri": "https://localhost:8080/",
     "height": 320
    },
    "executionInfo": {
     "elapsed": 386,
     "status": "ok",
     "timestamp": 1634042420037,
     "user": {
      "displayName": "Ivan Morozov",
      "photoUrl": "https://lh3.googleusercontent.com/a/default-user=s64",
      "userId": "01505246621606466427"
     },
     "user_tz": -420
    },
    "hidden": true,
    "id": "2Frzu3yu_rVx",
    "outputId": "f8360a62-0672-4f74-bf2c-6cd37cb57afa"
   },
   "outputs": [
    {
     "name": "stdout",
     "output_type": "stream",
     "text": [
      "Window(1024, 'cosine_window', 1.0)\n",
      "Data(64, Window(1024, 'cosine_window', 1.0))\n",
      "Frequency(Data(64, Window(1024, 'cosine_window', 1.0)))\n"
     ]
    },
    {
     "data": {
      "image/png": "[encoded data removed]",
      "text/plain": [
       "<Figure size 720x360 with 1 Axes>"
      ]
     },
     "metadata": {
      "needs_background": "light"
     },
     "output_type": "display_data"
    }
   ],
   "source": [
    "# Example-01: FFT amplitude spectrum\n",
    "\n",
    "# Set parameters (64 signals with length 1024)\n",
    "dtype, device = torch.float64, 'cpu'\n",
    "size, length = 64, 1024\n",
    "\n",
    "# Set window\n",
    "win = Window.from_cosine(length, order=1.0, dtype=dtype, device=device)\n",
    "print(win)\n",
    "\n",
    "# Set TbT data (64 signals with two components and different amplitudes)\n",
    "time = torch.linspace(1.0, length, length, dtype=dtype)\n",
    "data = torch.stack([i*torch.sin(2.0*numpy.pi*1*0.12*time) + 0.01*i*torch.sin(2.0*numpy.pi*2*0.12*time) for i in range(1, size + 1)])\n",
    "tbt = Data.from_tensor(win, data)\n",
    "print(tbt)\n",
    "\n",
    "# Initialize Frequency instance\n",
    "f = Frequency(tbt)\n",
    "print(f)\n",
    "\n",
    "# Apply window\n",
    "f.data.window_apply()\n",
    "\n",
    "# FFT grid is stored in fft_grid (computed on initialization)\n",
    "# FFT spectrum amplitudes are stored in fft_spectrum for each signal\n",
    "\n",
    "# Compute FFT amplitude spectrum\n",
    "f.fft_get_spectrum()\n",
    "\n",
    "# Reset TbT work\n",
    "f.data.reset()\n",
    "\n",
    "# Plot FFT spectrum for given signal id\n",
    "idx = 0\n",
    "plt.figure(figsize=(10,5))\n",
    "plt.scatter(f.fft_grid.cpu(), torch.log10(f.fft_spectrum[idx].cpu()), s=0.5, c='b')\n",
    "plt.xlim(0.1, 0.3)\n",
    "plt.show()\n",
    "\n",
    "# Clean\n",
    "del win\n",
    "del tbt\n",
    "del f\n",
    "if device != 'cpu':\n",
    "    torch.cuda.synchronize()\n",
    "    torch.cuda.empty_cache()"
   ]
  },
  {
   "cell_type": "code",
   "execution_count": 3,
   "id": "maritime-survivor",
   "metadata": {
    "colab": {
     "base_uri": "https://localhost:8080/",
     "height": 320
    },
    "executionInfo": {
     "elapsed": 576,
     "status": "ok",
     "timestamp": 1634042433280,
     "user": {
      "displayName": "Ivan Morozov",
      "photoUrl": "https://lh3.googleusercontent.com/a/default-user=s64",
      "userId": "01505246621606466427"
     },
     "user_tz": -420
    },
    "hidden": true,
    "id": "c6NYerz__rOv",
    "outputId": "99f6476a-2f09-4324-8913-155d6b7191e1",
    "scrolled": false
   },
   "outputs": [
    {
     "name": "stdout",
     "output_type": "stream",
     "text": [
      "Window(1024, 'cosine_window', 1.0)\n",
      "Data(64, Window(1024, 'cosine_window', 1.0))\n",
      "Frequency(Data(64, Window(1024, 'cosine_window', 1.0)))\n",
      "Frequency(Data(64, Window(1024, 'cosine_window', 1.0)))\n"
     ]
    },
    {
     "data": {
      "image/png": "[encoded data removed]",
      "text/plain": [
       "<Figure size 720x360 with 1 Axes>"
      ]
     },
     "metadata": {
      "needs_background": "light"
     },
     "output_type": "display_data"
    }
   ],
   "source": [
    "# Example-02: FFT amplitude spectrum & zero padding\n",
    "\n",
    "# Set parameters (64 signals with length 1024)\n",
    "dtype, device = torch.float64, 'cpu'\n",
    "size, length = 64, 1024\n",
    "\n",
    "# Set window\n",
    "win = Window.from_cosine(length, order=1.0, dtype=dtype, device=device)\n",
    "print(win)\n",
    "\n",
    "# Set TbT data (64 signals with two components and different amplitudes)\n",
    "time = torch.linspace(1.0, length, length, dtype=dtype)\n",
    "data = torch.stack([i*torch.sin(2.0*numpy.pi*1*0.12*time) + 0.01*i*torch.sin(2.0*numpy.pi*2*0.12*time) for i in range(1, size + 1)])\n",
    "tbt = Data.from_tensor(win, data)\n",
    "print(tbt)\n",
    "\n",
    "# If pad == 0, it is set to signal length\n",
    "# Spectrum is computed using torch.fft.rfft(..., n=pad)\n",
    "# Padding can be used to interpolate DTFT spectrum in all frequency range\n",
    "# This improves frequency estimation accuracy (assuming frequency corresponds to max of the largest FFT spectrum amplitude peak)\n",
    "# Can be used to obtain a better initial guess, if signal has several frequencies with close amplitudes\n",
    "\n",
    "# Initialize Frequency instances with and without padding\n",
    "f1 = Frequency(tbt, pad=length*2**4)\n",
    "f2 = Frequency(tbt, pad=length*2**0)\n",
    "print(f1)\n",
    "print(f2)\n",
    "\n",
    "# Apply window to data\n",
    "f1.data.window_apply()\n",
    "f2.data.window_apply()\n",
    "\n",
    "# Compute FFT amplitude spectrum\n",
    "f1.fft_get_spectrum()\n",
    "f2.fft_get_spectrum()\n",
    "\n",
    "# Reset TbT work\n",
    "f1.data.reset()\n",
    "f2.data.reset()\n",
    "\n",
    "# Plot (log10) FFT spectrum for given signal id\n",
    "idx = 0\n",
    "plt.figure(figsize=(10,5))\n",
    "plt.scatter(f1.fft_grid.detach().cpu(), torch.log10(f1.fft_spectrum[idx].detach().cpu()), s=0.5, c='r')\n",
    "plt.scatter(f2.fft_grid.detach().cpu(), torch.log10(f2.fft_spectrum[idx].detach().cpu()), s=5.0, c='b')\n",
    "plt.xlim(0.12 - 0.01, 0.12 + 0.01)\n",
    "plt.show()\n",
    "\n",
    "# Clean\n",
    "del win\n",
    "del tbt\n",
    "del f1, f2\n",
    "if device != 'cpu':\n",
    "    torch.cuda.synchronize()\n",
    "    torch.cuda.empty_cache()"
   ]
  },
  {
   "cell_type": "code",
   "execution_count": 4,
   "id": "choice-cardiff",
   "metadata": {
    "colab": {
     "base_uri": "https://localhost:8080/"
    },
    "executionInfo": {
     "elapsed": 257,
     "status": "ok",
     "timestamp": 1634042442884,
     "user": {
      "displayName": "Ivan Morozov",
      "photoUrl": "https://lh3.googleusercontent.com/a/default-user=s64",
      "userId": "01505246621606466427"
     },
     "user_tz": -420
    },
    "hidden": true,
    "id": "mLWyoygI_rMG",
    "outputId": "7a34e19f-d06f-4473-b3cc-269ac7f87751"
   },
   "outputs": [
    {
     "name": "stdout",
     "output_type": "stream",
     "text": [
      "Window(1024, 'cosine_window', 1.0)\n",
      "Data(64, Window(1024, 'cosine_window', 1.0))\n",
      "Frequency(Data(64, Window(1024, 'cosine_window', 1.0)))\n",
      "Frequency(Data(64, Window(1024, 'cosine_window', 1.0)))\n",
      "tensor(1.171875000000e-04, dtype=torch.float64)\n",
      "tensor(-4.882812499996e-06, dtype=torch.float64)\n"
     ]
    }
   ],
   "source": [
    "# Example-03: FFT frequency estimation & zero padding\n",
    "\n",
    "# FFT frequency estimation is based on location of max bin in the amplitude spectum\n",
    "\n",
    "# Set parameters (64 signals with length 1024)\n",
    "dtype, device = torch.float64, 'cpu'\n",
    "size, length = 64, 1024\n",
    "\n",
    "# Set window\n",
    "win = Window.from_cosine(length, order=1.0, dtype=dtype, device=device)\n",
    "print(win)\n",
    "\n",
    "# Set TbT data (64 signals with two components and different amplitudes)\n",
    "time = torch.linspace(1.0, length, length, dtype=dtype)\n",
    "data = torch.stack([i*torch.sin(2.0*numpy.pi*1*0.12*time) + 0.01*i*torch.sin(2.0*numpy.pi*2*0.12*time) for i in range(1, size + 1)])\n",
    "tbt = Data.from_tensor(win, data)\n",
    "print(tbt)\n",
    "\n",
    "# Initialize Frequency instances with and without padding\n",
    "f1 = Frequency(tbt, pad=length*2**0)\n",
    "f2 = Frequency(tbt, pad=length*2**4)\n",
    "print(f1)\n",
    "print(f2)\n",
    "\n",
    "# Estimate frequency\n",
    "f1('fft')\n",
    "f2('fft')\n",
    "\n",
    "# Compare results\n",
    "print(torch.min(f1.frequency - 0.12))\n",
    "print(torch.min(f2.frequency - 0.12))\n",
    "\n",
    "# In this case call invokes task_fft method\n",
    "f1.task_fft(window=True)\n",
    "f2.task_fft(window=True)\n",
    "\n",
    "# Clean\n",
    "del win\n",
    "del tbt\n",
    "del f1, f2\n",
    "if device != 'cpu':\n",
    "    torch.cuda.synchronize()\n",
    "    torch.cuda.empty_cache()"
   ]
  },
  {
   "cell_type": "code",
   "execution_count": 5,
   "id": "conventional-smile",
   "metadata": {
    "colab": {
     "base_uri": "https://localhost:8080/"
    },
    "executionInfo": {
     "elapsed": 408,
     "status": "ok",
     "timestamp": 1634042494996,
     "user": {
      "displayName": "Ivan Morozov",
      "photoUrl": "https://lh3.googleusercontent.com/a/default-user=s64",
      "userId": "01505246621606466427"
     },
     "user_tz": -420
    },
    "hidden": true,
    "id": "5-o3px8S_rJu",
    "outputId": "1bedf7e9-132d-4fa1-e1f3-49842ba6380a"
   },
   "outputs": [
    {
     "name": "stdout",
     "output_type": "stream",
     "text": [
      "Window(1024, 'cosine_window', 1.0)\n",
      "Data(64, Window(1024, 'cosine_window', 1.0))\n",
      "Frequency(Data(64, Window(1024, 'cosine_window', 1.0)))\n",
      "Frequency(Data(64, Window(1024, 'cosine_window', 1.0)))\n",
      "tensor(2.343750000000e-04, dtype=torch.float64)\n",
      "tensor(-9.765624999991e-06, dtype=torch.float64)\n"
     ]
    }
   ],
   "source": [
    "# Example-04: FFT frequency estimation & zero padding for given range\n",
    "\n",
    "# Set parameters (64 signals with length 1024)\n",
    "dtype, device = torch.float64, 'cpu'\n",
    "size, length = 64, 1024\n",
    "\n",
    "# Set window\n",
    "win = Window.from_cosine(length, order=1.0, dtype=dtype, device=device)\n",
    "print(win)\n",
    "\n",
    "# Set TbT data (64 signals with two components and different amplitudes)\n",
    "time = torch.linspace(1.0, length, length, dtype=dtype)\n",
    "data = torch.stack([i*torch.sin(2.0*numpy.pi*1*0.12*time) + 0.01*i*torch.sin(2.0*numpy.pi*2*0.12*time) for i in range(1, size + 1)])\n",
    "tbt = Data.from_tensor(win, data)\n",
    "print(tbt)\n",
    "\n",
    "# Initialize Frequency instances with and without padding\n",
    "f1 = Frequency(tbt, pad=length*2**0)\n",
    "f2 = Frequency(tbt, pad=length*2**4)\n",
    "print(f1)\n",
    "print(f2)\n",
    "\n",
    "# By default FFT frequency estimation is performed using (0.0, 0.5) frequency range.\n",
    "# Explicit range can be passed.\n",
    "\n",
    "# Estimate frequency for explicit frequency range\n",
    "f1('fft', f_range=(0.2, 0.25))\n",
    "f2('fft', f_range=(0.2, 0.25))\n",
    "\n",
    "# Compare results\n",
    "print(torch.min(f1.frequency - 0.24))\n",
    "print(torch.min(f2.frequency - 0.24))\n",
    "\n",
    "# Clean\n",
    "del win\n",
    "del tbt\n",
    "del f1, f2\n",
    "if device != 'cpu':\n",
    "    torch.cuda.synchronize()\n",
    "    torch.cuda.empty_cache()"
   ]
  },
  {
   "cell_type": "code",
   "execution_count": 6,
   "id": "virtual-ethernet",
   "metadata": {
    "colab": {
     "base_uri": "https://localhost:8080/",
     "height": 658
    },
    "executionInfo": {
     "elapsed": 936,
     "status": "ok",
     "timestamp": 1634042514276,
     "user": {
      "displayName": "Ivan Morozov",
      "photoUrl": "https://lh3.googleusercontent.com/a/default-user=s64",
      "userId": "01505246621606466427"
     },
     "user_tz": -420
    },
    "hidden": true,
    "id": "cUf2LWcC_rBM",
    "outputId": "a2d20452-714c-459e-d785-95cf80eb6df7"
   },
   "outputs": [
    {
     "name": "stdout",
     "output_type": "stream",
     "text": [
      "Window(1024, 'cosine_window', 1.0)\n",
      "Data(64, Window(1024, 'cosine_window', 1.0))\n",
      "Frequency(Data(64, Window(1024, 'cosine_window', 1.0)))\n",
      "tensor([1.191406250000e-01, 1.210918426514e-01], dtype=torch.float64)\n",
      "tensor([1.191406250000e-01, 1.210937500000e-01], dtype=torch.float64)\n",
      "tensor([1.191406250000e-01, 1.210937500000e-01], dtype=torch.float64)\n"
     ]
    },
    {
     "data": {
      "image/png": "[encoded data removed]",
      "text/plain": [
       "<Figure size 720x360 with 1 Axes>"
      ]
     },
     "metadata": {
      "needs_background": "light"
     },
     "output_type": "display_data"
    },
    {
     "name": "stdout",
     "output_type": "stream",
     "text": [
      "tensor([1.150000000000e-01, 1.249902343750e-01], dtype=torch.float64)\n",
      "tensor([1.150000000000e-01, 1.250000000000e-01], dtype=torch.float64)\n"
     ]
    },
    {
     "data": {
      "image/png": "[encoded data removed]",
      "text/plain": [
       "<Figure size 720x360 with 1 Axes>"
      ]
     },
     "metadata": {
      "needs_background": "light"
     },
     "output_type": "display_data"
    }
   ],
   "source": [
    "# Example-05: FFRFT amplitude spectrum\n",
    "\n",
    "# FFRFT can be used for local DTFT spectrum interpolation\n",
    "\n",
    "# Set parameters (64 signals with length 1024)\n",
    "dtype, device = torch.float64, 'cpu'\n",
    "size, length = 64, 1024\n",
    "\n",
    "# Set window\n",
    "win = Window.from_cosine(length, order=1.0, dtype=dtype, device=device)\n",
    "print(win)\n",
    "\n",
    "# Set TbT data (64 signals with two components and different amplitudes)\n",
    "time = torch.linspace(1.0, length, length, dtype=dtype)\n",
    "data = torch.stack([i*torch.sin(2.0*numpy.pi*1*0.12*time) + 0.01*i*torch.sin(2.0*numpy.pi*2*0.12*time) for i in range(1, size + 1)])\n",
    "tbt = Data.from_tensor(win, data)\n",
    "print(tbt)\n",
    "\n",
    "# Initialize Frequency instance\n",
    "f = Frequency(tbt)\n",
    "print(f)\n",
    "\n",
    "# Apply window to data\n",
    "f.data.window_apply()\n",
    "\n",
    "# Compute FFT amplitude spectrum\n",
    "f.fft_get_spectrum()\n",
    "\n",
    "# By default for FFRFT spectrum, FFT frequency estimation is used\n",
    "# And frequency range is equal to 2 FFT bins around max FFT bin\n",
    "# This can be changed by setting fraction parameter on initialization\n",
    "# Or by setting ffrft_span attibute directry after initialization\n",
    "# Use default value.\n",
    "f.ffrft_span = 2.0/f.length\n",
    "\n",
    "# If ffrft_flag is False, ffrft_initialize_spectrum is invoked\n",
    "# ffrft_flag is set to True, futher calls do not reinitialize FFRFT\n",
    "# No need to initialize for fixed signal length\n",
    "\n",
    "# Compute FFT frequency estimation (used to define FFRFT frequency center)\n",
    "f.fft_get_frequency()\n",
    "\n",
    "# Compute FFRFT amplitude spectrum\n",
    "f.ffrft_get_spectrum()\n",
    "\n",
    "# Note, last point is not included\n",
    "print(torch.stack([f.ffrft_get_grid(0)[0], f.ffrft_get_grid(0)[-1]]))\n",
    "print(torch.stack([f.ffrft_get_grid(0)[0], f.ffrft_get_grid(0)[-1] + f.ffrft_span*f.fft_step]))\n",
    "print(torch.stack([f.fft_frequency[0] - f.fft_step, f.fft_frequency[0] + f.fft_step]))\n",
    "\n",
    "# Plot (log10) FFT spectrum for given signal id\n",
    "idx = 0\n",
    "plt.figure(figsize=(10,5))\n",
    "plt.scatter(f.ffrft_get_grid(idx).cpu(), torch.log10(f.ffrft_spectrum[idx].cpu()), s=0.5, c='r')\n",
    "plt.scatter(f.fft_grid.cpu(), torch.log10(f.fft_spectrum[idx].cpu()), s=5.0, c='b')\n",
    "plt.xlim(0.12 - 0.01, 0.12 + 0.01)\n",
    "plt.show()\n",
    "\n",
    "# FFRFT can be used with custom range\n",
    "# In this case all signals share this range, while for the default case, each signal range is defined by its FFT frequency\n",
    "# In all cases range length is the same for all signals\n",
    "\n",
    "# Compute FFRFT amplitude spectrum with custom range\n",
    "# Range (f_min, f_max) = (center - 0.5*span, center + 0.5*span - span/length)\n",
    "f.ffrft_get_spectrum(center=0.12, span=0.01)\n",
    "\n",
    "# Note, last point is not included\n",
    "print(torch.stack([f.ffrft_get_grid(0)[0], f.ffrft_get_grid(0)[-1]]))\n",
    "print(torch.stack([f.ffrft_get_grid(0)[0], f.ffrft_get_grid(0)[-1] + f.ffrft_span*f.fft_step]))\n",
    "\n",
    "# Plot (log10) FFT spectrum for given signal id\n",
    "idx = 0\n",
    "plt.figure(figsize=(10,5))\n",
    "plt.scatter(f.ffrft_get_grid(idx).cpu(), torch.log10(f.ffrft_spectrum[idx].cpu()), s=0.5, c='r')\n",
    "plt.scatter(f.fft_grid.cpu(), torch.log10(f.fft_spectrum[idx].cpu()), s=5.0, c='b')\n",
    "plt.xlim(0.12 - 0.01, 0.12 + 0.01)\n",
    "plt.show()\n",
    "\n",
    "# Clean\n",
    "del win\n",
    "del tbt\n",
    "del f\n",
    "if device != 'cpu':\n",
    "    torch.cuda.synchronize()\n",
    "    torch.cuda.empty_cache()"
   ]
  },
  {
   "cell_type": "code",
   "execution_count": 7,
   "id": "romantic-nitrogen",
   "metadata": {
    "colab": {
     "base_uri": "https://localhost:8080/"
    },
    "executionInfo": {
     "elapsed": 394,
     "status": "ok",
     "timestamp": 1634042525118,
     "user": {
      "displayName": "Ivan Morozov",
      "photoUrl": "https://lh3.googleusercontent.com/a/default-user=s64",
      "userId": "01505246621606466427"
     },
     "user_tz": -420
    },
    "hidden": true,
    "id": "pQl53VrA_q2L",
    "outputId": "277ee5ba-e4a0-4942-bda0-dbc21ab8b1f3"
   },
   "outputs": [
    {
     "name": "stdout",
     "output_type": "stream",
     "text": [
      "Window(1024, 'cosine_window', 1.0)\n",
      "Data(64, Window(1024, 'cosine_window', 1.0))\n",
      "Frequency(Data(64, Window(1024, 'cosine_window', 1.0)))\n",
      "Frequency(Data(64, Window(1024, 'cosine_window', 1.0)))\n",
      "tensor(1.171875000000e-04, dtype=torch.float64)\n",
      "tensor(1.171875000000e-04, dtype=torch.float64)\n",
      "tensor(8.392333984419e-07, dtype=torch.float64)\n",
      "tensor(-1.144409179643e-07, dtype=torch.float64)\n"
     ]
    }
   ],
   "source": [
    "# Example-06: FFRFT frequency estimation\n",
    "\n",
    "# FFRFT frequency estimation is based on local DTFT spectrum interpolation (near expected global maximum)\n",
    "# By default refined spectum is computed inside two FFT bins around maximum bin\n",
    "# In this case expected frequency error is proportional to 1/n^2\n",
    "\n",
    "# Set parameters (64 signals with length 1024)\n",
    "dtype, device = torch.float64, 'cpu'\n",
    "size, length = 64, 1024\n",
    "\n",
    "# Set window\n",
    "win = Window.from_cosine(length, order=1.0, dtype=dtype, device=device)\n",
    "print(win)\n",
    "\n",
    "# Set TbT data (64 signals with two components and different amplitudes)\n",
    "time = torch.linspace(1.0, length, length, dtype=dtype)\n",
    "data = torch.stack([i*torch.sin(2.0*numpy.pi*1*0.12*time) + 0.01*i*torch.sin(2.0*numpy.pi*2*0.12*time) for i in range(1, size + 1)])\n",
    "tbt = Data.from_tensor(win, data)\n",
    "print(tbt)\n",
    "\n",
    "# Initialize Frequency instance\n",
    "f1 = Frequency(tbt)\n",
    "f2 = Frequency(tbt, fraction=1.0)\n",
    "print(f1)\n",
    "print(f2)\n",
    "\n",
    "# Fraction between 1.0-2.0 should be save to use\n",
    "\n",
    "# Estimate frequency, see also task_ffrft\n",
    "f1('ffrft')\n",
    "f2('ffrft')\n",
    "\n",
    "# Compare results FFT & FFRFT estimations\n",
    "print(torch.min(f1.fft_frequency - 0.12))\n",
    "print(torch.min(f2.fft_frequency - 0.12))\n",
    "print(torch.min(f1.ffrft_frequency - 0.12))\n",
    "print(torch.min(f2.ffrft_frequency - 0.12))\n",
    "\n",
    "# Clean\n",
    "del win\n",
    "del tbt\n",
    "del f1, f2\n",
    "if device != 'cpu':\n",
    "    torch.cuda.synchronize()\n",
    "    torch.cuda.empty_cache()"
   ]
  },
  {
   "cell_type": "code",
   "execution_count": 8,
   "id": "balanced-sphere",
   "metadata": {
    "colab": {
     "base_uri": "https://localhost:8080/"
    },
    "executionInfo": {
     "elapsed": 263,
     "status": "ok",
     "timestamp": 1634042546481,
     "user": {
      "displayName": "Ivan Morozov",
      "photoUrl": "https://lh3.googleusercontent.com/a/default-user=s64",
      "userId": "01505246621606466427"
     },
     "user_tz": -420
    },
    "hidden": true,
    "id": "YcQ3PuvXLSBY",
    "outputId": "054e5431-e2fd-4ada-aac3-29cacada8561"
   },
   "outputs": [
    {
     "name": "stdout",
     "output_type": "stream",
     "text": [
      "Window(1024, 'cosine_window', 1.0)\n",
      "Data(64, Window(1024, 'cosine_window', 1.0))\n",
      "Frequency(Data(64, Window(1024, 'cosine_window', 1.0)))\n",
      "tensor(1.171875000000e-04, dtype=torch.float64)\n",
      "tensor(8.392333984419e-07, dtype=torch.float64)\n",
      "tensor(3.001190962415e-11, dtype=torch.float64)\n"
     ]
    }
   ],
   "source": [
    "# Example-07: Parabola frequency estimation\n",
    "\n",
    "# Parabola frequency estimation is based on parabolic interpolation of FFRFT amplitude spectrum\n",
    "# Three points are used to locate parabola maximum (FFRFT max bin and two poins around it)\n",
    "# Higher order polynomial can be used or a gradient free bracketing maximum search\n",
    "# Instead of interpolation, a polynomial (e.g. a parabola) can be fitted near the peak maximum\n",
    "# Without noise, parabolic interpolation significantly improves estimation accuracy\n",
    "# Window order impoves accuracy in this case too (flat top)\n",
    "# With noise accuracy gain from parabolic interpolation decreases\n",
    "# Application of window increases noise\n",
    "\n",
    "# Set parameters (64 signals with length 1024)\n",
    "dtype, device = torch.float64, 'cpu'\n",
    "size, length = 64, 1024\n",
    "\n",
    "# Set window\n",
    "win = Window.from_cosine(length, order=1.0, dtype=dtype, device=device)\n",
    "print(win)\n",
    "\n",
    "# Set TbT data (64 signals with two components and different amplitudes)\n",
    "time = torch.linspace(1.0, length, length, dtype=dtype)\n",
    "data = torch.stack([i*torch.sin(2.0*numpy.pi*1*0.12*time) + 0.01*i*torch.sin(2.0*numpy.pi*2*0.12*time) for i in range(1, size + 1)])\n",
    "tbt = Data.from_tensor(win, data)\n",
    "print(tbt)\n",
    "\n",
    "# Initialize Frequency instance\n",
    "f = Frequency(tbt)\n",
    "print(f)\n",
    "\n",
    "# Estimate frequency, see also task_parabola\n",
    "f('parabola')\n",
    "\n",
    "# Compare results\n",
    "print(torch.mean(f.fft_frequency)-0.12)\n",
    "print(torch.mean(f.ffrft_frequency)-0.12)\n",
    "print(torch.mean(f.parabola_frequency)-0.12)\n",
    "\n",
    "# Clean\n",
    "del win\n",
    "del tbt\n",
    "del f\n",
    "if device != 'cpu':\n",
    "    torch.cuda.synchronize()\n",
    "    torch.cuda.empty_cache()"
   ]
  },
  {
   "cell_type": "code",
   "execution_count": 9,
   "id": "auburn-problem",
   "metadata": {
    "colab": {
     "base_uri": "https://localhost:8080/",
     "height": 453
    },
    "executionInfo": {
     "elapsed": 374,
     "status": "ok",
     "timestamp": 1634042562924,
     "user": {
      "displayName": "Ivan Morozov",
      "photoUrl": "https://lh3.googleusercontent.com/a/default-user=s64",
      "userId": "01505246621606466427"
     },
     "user_tz": -420
    },
    "hidden": true,
    "id": "ESBZgDg1LR_w",
    "outputId": "111e09cc-9b19-46ee-8f18-8a1d261a242c"
   },
   "outputs": [
    {
     "name": "stdout",
     "output_type": "stream",
     "text": [
      "Window(2048, 'cosine_window', 1.0)\n",
      "Data(1, Window(2048, 'cosine_window', 1.0))\n",
      "Data(1025, Window(1024, 'cosine_window', 1.0))\n",
      "tensor(1.171875000000e-04, dtype=torch.float64)\n",
      "tensor(8.392333984419e-07, dtype=torch.float64)\n",
      "tensor(-4.614364446098e-14, dtype=torch.float64)\n"
     ]
    },
    {
     "data": {
      "image/png": "[encoded data removed]",
      "text/plain": [
       "<Figure size 720x360 with 1 Axes>"
      ]
     },
     "metadata": {
      "needs_background": "light"
     },
     "output_type": "display_data"
    }
   ],
   "source": [
    "# Example-08: Frequency vs signal start shift\n",
    "\n",
    "# Set parameters (1 signal with length 2048)\n",
    "dtype, device = torch.float64, 'cpu'\n",
    "size, length = 1, 2048\n",
    "\n",
    "# Set window\n",
    "win = Window.from_cosine(length, order=1.0, dtype=dtype, device=device)\n",
    "print(win)\n",
    "\n",
    "# Set TbT data (1 signals with two components)\n",
    "time = torch.linspace(1.0, length, length, dtype=dtype)\n",
    "data = torch.stack([i*torch.sin(2.0*numpy.pi*1*0.12*time) + 0.01*i*torch.sin(2.0*numpy.pi*2*0.12*time) for i in range(1, size + 1)])\n",
    "tbt = Data.from_tensor(win, data)\n",
    "print(tbt)\n",
    "\n",
    "# Generate matrix frim signal\n",
    "tbt = tbt.make_matrix(0, 1024, 1, name='cosine_window', order=1.0)\n",
    "print(tbt)\n",
    "\n",
    "# Initialize Frequency instance\n",
    "f = Frequency(tbt)\n",
    "\n",
    "# Estimate frequency\n",
    "f('parabola')\n",
    "print(torch.mean(f.fft_frequency)-0.12)\n",
    "print(torch.mean(f.ffrft_frequency)-0.12)\n",
    "print(torch.mean(f.parabola_frequency)-0.12)\n",
    "\n",
    "# Plot result\n",
    "shift = torch.linspace(0, len(tbt)-1, len(tbt))\n",
    "plt.figure(figsize=(10,5))\n",
    "plt.scatter(shift, (f.parabola_frequency.cpu()-0.12)/0.12 * 100, s=0.5, c='b')\n",
    "plt.show()\n",
    "\n",
    "# Clean\n",
    "del win\n",
    "del tbt\n",
    "del f\n",
    "if device != 'cpu':\n",
    "    torch.cuda.synchronize()\n",
    "    torch.cuda.empty_cache()"
   ]
  },
  {
   "cell_type": "code",
   "execution_count": 10,
   "id": "engaging-fault",
   "metadata": {
    "colab": {
     "base_uri": "https://localhost:8080/",
     "height": 442
    },
    "executionInfo": {
     "elapsed": 921,
     "status": "ok",
     "timestamp": 1634042601654,
     "user": {
      "displayName": "Ivan Morozov",
      "photoUrl": "https://lh3.googleusercontent.com/a/default-user=s64",
      "userId": "01505246621606466427"
     },
     "user_tz": -420
    },
    "hidden": true,
    "id": "vWmcmKtitBdh",
    "outputId": "c7f47eaa-8218-4bab-b8cf-7a6565d1c5c5",
    "scrolled": false
   },
   "outputs": [
    {
     "name": "stdout",
     "output_type": "stream",
     "text": [
      "Window(8192, 'cosine_window', 1.0)\n",
      "Data(1, Window(8192, 'cosine_window', 1.0))\n",
      "Data(7169, Window(1024, 'cosine_window', 1.0))\n",
      "tensor(1.171875000000e-04, dtype=torch.float64)\n",
      "tensor(1.198205510228e-07, dtype=torch.float64)\n",
      "tensor(-5.150399925991e-09, dtype=torch.float64)\n"
     ]
    },
    {
     "data": {
      "image/png": "[encoded data removed]",
      "text/plain": [
       "<Figure size 720x360 with 1 Axes>"
      ]
     },
     "metadata": {
      "needs_background": "light"
     },
     "output_type": "display_data"
    }
   ],
   "source": [
    "# Example-09: Frequency vs signal start shift with noise\n",
    "\n",
    "# Set parameters (1 signal with length 2048)\n",
    "dtype, device = torch.float64, 'cpu'\n",
    "size, length = 1, 8192\n",
    "\n",
    "# Set window\n",
    "win = Window.from_cosine(length, order=1.0, dtype=dtype, device=device)\n",
    "print(win)\n",
    "\n",
    "# Set TbT data (1 signals with two components)\n",
    "time = torch.linspace(1.0, length, length, dtype=dtype)\n",
    "data = torch.stack([i*torch.sin(2.0*numpy.pi*1*0.12*time) + 0.01*i*torch.sin(2.0*numpy.pi*2*0.12*time) for i in range(1, size + 1)])\n",
    "tbt = Data.from_tensor(win, data)\n",
    "print(tbt)\n",
    "\n",
    "# Generate matrix frim signal\n",
    "tbt = tbt.make_matrix(0, 1024, 1, name='cosine_window', order=1.0)\n",
    "print(tbt)\n",
    "\n",
    "# Add noise to each signal\n",
    "for i in range(tbt.size):\n",
    "    tbt.data[i] += 0.01*torch.randn(tbt.length, dtype=dtype, device=device)\n",
    "tbt.reset()\n",
    "\n",
    "# Initialize Frequency instance\n",
    "f = Frequency(tbt)\n",
    "\n",
    "# Estimate frequency\n",
    "f('parabola', window=True)\n",
    "print(torch.mean(f.fft_frequency)-0.12)\n",
    "print(torch.mean(f.ffrft_frequency)-0.12)\n",
    "print(torch.mean(f.parabola_frequency)-0.12)\n",
    "\n",
    "# Plot result\n",
    "plt.figure(figsize=(10,5))\n",
    "plt.hist((f.parabola_frequency.cpu().numpy()-0.12)/0.12 * 100, bins=50, range=(-0.001, 0.001))\n",
    "plt.show()\n",
    "\n",
    "# Clean\n",
    "del win\n",
    "del tbt\n",
    "del f\n",
    "if device != 'cpu':\n",
    "    torch.cuda.synchronize()\n",
    "    torch.cuda.empty_cache()"
   ]
  },
  {
   "cell_type": "code",
   "execution_count": 11,
   "id": "accessible-alpha",
   "metadata": {
    "colab": {
     "base_uri": "https://localhost:8080/",
     "height": 442
    },
    "executionInfo": {
     "elapsed": 1008,
     "status": "ok",
     "timestamp": 1634042645880,
     "user": {
      "displayName": "Ivan Morozov",
      "photoUrl": "https://lh3.googleusercontent.com/a/default-user=s64",
      "userId": "01505246621606466427"
     },
     "user_tz": -420
    },
    "hidden": true,
    "id": "WPvZp_pSLR7X",
    "outputId": "0998e484-9b13-4c4e-86fc-eb17d8095228"
   },
   "outputs": [
    {
     "name": "stdout",
     "output_type": "stream",
     "text": [
      "Window(8192, 'cosine_window', 1.0)\n",
      "Data(1, Window(8192, 'cosine_window', 1.0))\n",
      "Data(7169, Window(1024, 'cosine_window', 1.0))\n",
      "tensor(1.171875000000e-04, dtype=torch.float64)\n",
      "tensor(1.067838537178e-07, dtype=torch.float64)\n",
      "tensor(1.297869460515e-08, dtype=torch.float64)\n"
     ]
    },
    {
     "data": {
      "image/png": "[encoded data removed]",
      "text/plain": [
       "<Figure size 720x360 with 1 Axes>"
      ]
     },
     "metadata": {
      "needs_background": "light"
     },
     "output_type": "display_data"
    }
   ],
   "source": [
    "# Example-10: Frequency vs signal start shift (correlated noise)\n",
    "\n",
    "# Set parameters (1 signal with length 2048)\n",
    "dtype, device = torch.float64, 'cpu'\n",
    "size, length = 1, 8192\n",
    "\n",
    "# Set window\n",
    "win = Window.from_cosine(length, order=1.0, dtype=dtype, device=device)\n",
    "print(win)\n",
    "\n",
    "# Set TbT data (1 signals with two components and random noise)\n",
    "time = torch.linspace(1.0, length, length, dtype=dtype)\n",
    "data = torch.stack([i*torch.sin(2.0*numpy.pi*1*0.12*time) + 0.01*i*torch.sin(2.0*numpy.pi*2*0.12*time) for i in range(1, size + 1)])\n",
    "data += 0.01*torch.randn(length, dtype=dtype, device=device)\n",
    "tbt = Data.from_tensor(win, data)\n",
    "print(tbt)\n",
    "\n",
    "# Generate matrix frim signal\n",
    "tbt = tbt.make_matrix(0, 1024, 1, name='cosine_window', order=1.0)\n",
    "print(tbt)\n",
    "\n",
    "# Initialize Frequency instance\n",
    "f = Frequency(tbt)\n",
    "\n",
    "# Estimate frequency\n",
    "f('parabola', window=True)\n",
    "print(torch.mean(f.fft_frequency)-0.12)\n",
    "print(torch.mean(f.ffrft_frequency)-0.12)\n",
    "print(torch.mean(f.parabola_frequency)-0.12)\n",
    "\n",
    "# Plot result\n",
    "plt.figure(figsize=(10,5))\n",
    "plt.hist((f.parabola_frequency.cpu().numpy()-0.12)/0.12 * 100, bins=50, range=(-0.001, 0.001))\n",
    "plt.show()\n",
    "\n",
    "# Clean\n",
    "del win\n",
    "del tbt\n",
    "del f\n",
    "if device != 'cpu':\n",
    "    torch.cuda.synchronize()\n",
    "    torch.cuda.empty_cache()"
   ]
  },
  {
   "cell_type": "code",
   "execution_count": 12,
   "id": "dietary-petroleum",
   "metadata": {
    "colab": {
     "base_uri": "https://localhost:8080/"
    },
    "executionInfo": {
     "elapsed": 255,
     "status": "ok",
     "timestamp": 1634042796465,
     "user": {
      "displayName": "Ivan Morozov",
      "photoUrl": "https://lh3.googleusercontent.com/a/default-user=s64",
      "userId": "01505246621606466427"
     },
     "user_tz": -420
    },
    "hidden": true,
    "id": "3JvEQLfTLR4y",
    "outputId": "8aec3827-e0c2-411e-c43a-ec1adfeab36b"
   },
   "outputs": [
    {
     "name": "stdout",
     "output_type": "stream",
     "text": [
      "[2.]\n",
      "[0.12 1.   0.1 ]\n",
      "[0.24  0.005 0.01 ]\n",
      "[3.6e-01 1.0e-04 1.0e-05]\n",
      "5.759385082140556e-09\n"
     ]
    }
   ],
   "source": [
    "# Example-11: Decomposition\n",
    "\n",
    "# Set parameters\n",
    "dtype, device = torch.float64, 'cpu'\n",
    "size, length = 1, 1024\n",
    "\n",
    "# Set window\n",
    "win = Window.from_cosine(length, order=4.0, dtype=dtype, device=device)\n",
    "\n",
    "# Set data\n",
    "time  = torch.linspace(1.0, length, length, dtype=dtype, device=device)\n",
    "data  = 1.0000*torch.cos(2.0*numpy.pi*1*0.12*time) + 0.10000*torch.sin(2.0*numpy.pi*1*0.12*time)\n",
    "data += 0.0050*torch.cos(2.0*numpy.pi*2*0.12*time) + 0.01000*torch.sin(2.0*numpy.pi*2*0.12*time)\n",
    "data += 0.0001*torch.cos(2.0*numpy.pi*3*0.12*time) + 0.00001*torch.sin(2.0*numpy.pi*3*0.12*time)\n",
    "data += 2.0\n",
    "data  = torch.stack([data])\n",
    "\n",
    "tbt = Data.from_tensor(win, data)\n",
    "\n",
    "# Compute (window weighted) mean value\n",
    "print(tbt.window_mean().flatten().cpu().numpy())\n",
    "\n",
    "# Remove (window weighted) mean value\n",
    "# Note, mean is removed from work\n",
    "tbt.window_remove_mean()\n",
    "tbt.data.copy_(tbt.work)\n",
    "\n",
    "# Initialize Frequency instance\n",
    "f = Frequency(tbt)\n",
    "\n",
    "# Perform decomposition (component-by-component subtraction)\n",
    "for _ in range(3):\n",
    "    f('parabola')\n",
    "    frequency = f.frequency[0]\n",
    "    c_amp = 2.0*torch.dot(tbt[0]*win.data, torch.cos(2.0*numpy.pi*frequency*time))/win.total\n",
    "    s_amp = 2.0*torch.dot(tbt[0]*win.data, torch.sin(2.0*numpy.pi*frequency*time))/win.total\n",
    "    print(torch.stack([frequency, c_amp, s_amp]).cpu().numpy())\n",
    "    rem = c_amp*torch.cos(2.0*numpy.pi*frequency*time) + s_amp*torch.sin(2.0*numpy.pi*frequency*time)\n",
    "    tbt.data.sub_(rem)\n",
    "    tbt.reset()\n",
    "\n",
    "# Residual norm\n",
    "print(torch.sum(torch.sqrt(tbt.data**2)).item())\n",
    "\n",
    "# Clean\n",
    "del win\n",
    "del tbt\n",
    "del f\n",
    "if device != 'cpu':\n",
    "    torch.cuda.synchronize()\n",
    "    torch.cuda.empty_cache()"
   ]
  },
  {
   "cell_type": "code",
   "execution_count": 13,
   "id": "angry-logan",
   "metadata": {
    "hidden": true
   },
   "outputs": [
    {
     "name": "stdout",
     "output_type": "stream",
     "text": [
      "Frequency(Data(54, Window(4096, 'cosine_window', 1.0)))\n",
      "tensor(4.614859044162e-01, dtype=torch.float64)\n",
      "Frequency(Data(1, Window(3456, 'cosine_window', 1.0)))\n",
      "tensor(8.538511986070e+00, dtype=torch.float64)\n",
      "tensor(4.614880139297e-01, dtype=torch.float64)\n",
      "tensor(-2.109513519255e-06, dtype=torch.float64)\n"
     ]
    }
   ],
   "source": [
    "# Example-12: Test TbT data for VEPP lattice\n",
    "\n",
    "# Set window\n",
    "win = Window(4096, name='cosine_window', order=1.0, dtype=torch.float64, device='cpu')\n",
    "\n",
    "# Load TbT data from file\n",
    "tbt = Data.from_file(54, win, 'virtual_tbt.npy')\n",
    "\n",
    "# Compute frequencies\n",
    "f = Frequency(tbt)\n",
    "print(f)\n",
    "f('parabola')\n",
    "f1 = f.frequency.mean()\n",
    "print(f1)\n",
    "\n",
    "# Generate mixed signal\n",
    "tbt = tbt.make_signal(64, name='cosine_window', order=1.0)\n",
    "\n",
    "# Compute frequency\n",
    "f = Frequency(tbt)\n",
    "print(f)\n",
    "f('parabola')\n",
    "print(54*f.frequency.mean())\n",
    "f2 = 1.0 - (54*f.frequency.mean() - 8.0)\n",
    "print(f2)\n",
    "\n",
    "# Compare\n",
    "print(f1 - f2)\n",
    "\n",
    "# Clean\n",
    "del win\n",
    "del tbt\n",
    "del f\n",
    "if device != 'cpu':\n",
    "    torch.cuda.synchronize()\n",
    "    torch.cuda.empty_cache()"
   ]
  },
  {
   "cell_type": "code",
   "execution_count": 14,
   "id": "thorough-radical",
   "metadata": {
    "hidden": true
   },
   "outputs": [
    {
     "name": "stdout",
     "output_type": "stream",
     "text": [
      "Window(4096, 'cosine_window', 1.0)\n",
      "Data(54, Window(4096, 'cosine_window', 1.0))\n",
      "Frequency(Data(54, Window(4096, 'cosine_window', 1.0)))\n"
     ]
    },
    {
     "data": {
      "image/png": "[encoded data removed]",
      "text/plain": [
       "<Figure size 720x360 with 1 Axes>"
      ]
     },
     "metadata": {
      "needs_background": "light"
     },
     "output_type": "display_data"
    }
   ],
   "source": [
    "# Example-13: Mean spectrum\n",
    "\n",
    "# Set window\n",
    "win = Window(4096, name='cosine_window', order=1.0, dtype=torch.float64, device='cpu')\n",
    "print(win)\n",
    "\n",
    "# Load TbT data from file and add noise\n",
    "tbt = Data.from_file(54, win, 'virtual_tbt.npy')\n",
    "std = 1.0E-4 * torch.ones(54, dtype=torch.float64)\n",
    "Data.add_noise(tbt.data, std)\n",
    "tbt.reset()\n",
    "print(tbt)\n",
    "\n",
    "# Initialize Frequency instance\n",
    "f = Frequency(tbt)\n",
    "print(f)\n",
    "\n",
    "# Frequencies are used for mean spectrum normalization\n",
    "\n",
    "# Compute frequencies\n",
    "f('parabola')\n",
    "\n",
    "# Compute mean spectrum\n",
    "grid, spectrum = f.task_mean_spectrum(window=True, log=True)\n",
    "\n",
    "# Plot\n",
    "plt.figure(figsize=(10,5))\n",
    "plt.xlim(0.3, 0.5)\n",
    "plt.scatter(grid.cpu(), spectrum.cpu(), s=0.5, c='r')\n",
    "plt.show()\n",
    "\n",
    "# Clean\n",
    "del win\n",
    "del tbt\n",
    "del f\n",
    "if device != 'cpu':\n",
    "    torch.cuda.synchronize()\n",
    "    torch.cuda.empty_cache()"
   ]
  },
  {
   "cell_type": "code",
   "execution_count": 15,
   "id": "comprehensive-waterproof",
   "metadata": {
    "hidden": true
   },
   "outputs": [
    {
     "name": "stdout",
     "output_type": "stream",
     "text": [
      "Window(4096, 'cosine_window', 1.0)\n",
      "Data(54, Window(4096, 'cosine_window', 1.0))\n",
      "Frequency(Data(54, Window(4096, 'cosine_window', 1.0)))\n"
     ]
    },
    {
     "data": {
      "image/png": "[encoded data removed]",
      "text/plain": [
       "<Figure size 720x360 with 1 Axes>"
      ]
     },
     "metadata": {
      "needs_background": "light"
     },
     "output_type": "display_data"
    }
   ],
   "source": [
    "# Example-14: Mixed spectrum\n",
    "\n",
    "# Set positions\n",
    "df = pandas.read_json('bpm.json')\n",
    "position = numpy.array([df[name]['S'] for name in df])/LENGTH\n",
    "\n",
    "# Set window\n",
    "win = Window(4096, name='cosine_window', order=1.0, dtype=torch.float64, device='cpu')\n",
    "print(win)\n",
    "\n",
    "# Load TbT data from file and add noise\n",
    "tbt = Data.from_file(54, win, 'virtual_tbt.npy')\n",
    "std = 1.0E-4 * torch.ones(54, dtype=torch.float64)\n",
    "Data.add_noise(tbt.data, std)\n",
    "tbt.reset()\n",
    "print(tbt)\n",
    "\n",
    "# Initialize Frequency instance\n",
    "f = Frequency(tbt)\n",
    "print(f)\n",
    "\n",
    "# Compute & plot mixed spectrum\n",
    "f_range=(8.5, 8.6)\n",
    "s1 = f.task_mixed_spectrum(length=1024, window=True, normalize=True, f_range=f_range)\n",
    "s2 = f.task_mixed_spectrum(length=1024, window=True, normalize=True, f_range=f_range, position=position)\n",
    "plt.figure(figsize=(10,5))\n",
    "plt.scatter(*s1, c='r', s=5)\n",
    "plt.scatter(*s2, c='b', s=1)\n",
    "plt.show()\n",
    "\n",
    "# Clean\n",
    "del win\n",
    "del tbt\n",
    "del f\n",
    "if device != 'cpu':\n",
    "    torch.cuda.synchronize()\n",
    "    torch.cuda.empty_cache()"
   ]
  },
  {
   "cell_type": "code",
   "execution_count": 16,
   "id": "cloudy-glenn",
   "metadata": {
    "hidden": true
   },
   "outputs": [
    {
     "name": "stdout",
     "output_type": "stream",
     "text": [
      "Window(4096, 'cosine_window', 1.0)\n",
      "Frequency(Data(54, Window(4096, 'cosine_window', 1.0)))\n",
      "0.461485904416196\n",
      "1.1758247157674714e-13\n",
      "[8.53125    8.53855613 8.53854627]\n",
      "-3.217357037071933e-05\n",
      "[8.53877315 8.53851997 8.53853624]\n",
      "-2.214332584776768e-05\n",
      "[8.53857422 8.5385141  8.5385141 ]\n",
      "-1.5265566588595902e-14\n",
      "[8.53851544 8.5385141  8.5385141 ]\n",
      "-4.055877300679356e-10\n"
     ]
    }
   ],
   "source": [
    "# Example-15: Mixed frequency (without noise)\n",
    "\n",
    "# Set positions\n",
    "df = pandas.read_json('bpm.json')\n",
    "position = numpy.array([df[name]['S'] for name in df])/LENGTH\n",
    "\n",
    "# Set window\n",
    "win = Window(4096, name='cosine_window', order=1.0, dtype=torch.float64, device='cpu')\n",
    "print(win)\n",
    "\n",
    "# Load TbT data from file and add noise\n",
    "tbt = Data.from_file(54, win, 'virtual_tbt.npy')\n",
    "\n",
    "# Initialize Frequency instance\n",
    "f = Frequency(tbt)\n",
    "print(f)\n",
    "\n",
    "# Compute frequencies\n",
    "f('parabola')\n",
    "mean = torch.mean(f.frequency).item()\n",
    "std = torch.std(f.frequency).item()\n",
    "print(mean)\n",
    "print(std)\n",
    "\n",
    "# Compute mixed frequencies\n",
    "\n",
    "# For small number of turns, result might be more accurate without window\n",
    "\n",
    "length = 32\n",
    "\n",
    "f1 = f.task_mixed_frequency(length=length, window=True, f_range=(8,9), normalize=True)\n",
    "print(f1.cpu().numpy())\n",
    "print((1-(f1[-1]-8)-mean).item())\n",
    "\n",
    "f2 = f.task_mixed_frequency(length=length, window=True, f_range=(8,9), normalize=True, position=position)\n",
    "print(f2.cpu().numpy())\n",
    "print((1-(f2[-1]-8)-mean).item())\n",
    "\n",
    "# Compute using large number of turns\n",
    "\n",
    "length = 4096\n",
    "\n",
    "f1 = f.task_mixed_frequency(length=length, window=True, f_range=(8,9), normalize=True)\n",
    "print(f1.cpu().numpy())\n",
    "print((1-(f1[-1]-8)-mean).item())\n",
    "\n",
    "f2 = f.task_mixed_frequency(length=length, window=True, f_range=(8,9), normalize=True, position=position)\n",
    "print(f2.cpu().numpy())\n",
    "print((1-(f2[-1]-8)-mean).item())\n",
    "\n",
    "# Clean\n",
    "del win\n",
    "del tbt\n",
    "del f\n",
    "if device != 'cpu':\n",
    "    torch.cuda.synchronize()\n",
    "    torch.cuda.empty_cache()"
   ]
  },
  {
   "cell_type": "code",
   "execution_count": 17,
   "id": "copyrighted-supervision",
   "metadata": {
    "hidden": true
   },
   "outputs": [
    {
     "name": "stdout",
     "output_type": "stream",
     "text": [
      "Window(4096, 'cosine_window', 1.0)\n",
      "Data(54, Window(4096, 'cosine_window', 1.0))\n",
      "Frequency(Data(54, Window(4096, 'cosine_window', 1.0)))\n",
      "0.46148591127750155\n",
      "2.3306610240477248e-07\n",
      "[8.53125    8.53851997 8.53853009]\n",
      "-1.5999975121194776e-05\n",
      "[8.53877315 8.53851997 8.53850249]\n",
      "1.1595940912878522e-05\n",
      "[8.53857422 8.53851401 8.53851401]\n",
      "8.00423083924251e-08\n",
      "[8.53851544 8.53851402 8.53851402]\n",
      "6.675200620032129e-08\n"
     ]
    }
   ],
   "source": [
    "# Example-16: Mixed frequency (with noise)\n",
    "\n",
    "# Set positions\n",
    "df = pandas.read_json('bpm.json')\n",
    "position = numpy.array([df[name]['S'] for name in df])/LENGTH\n",
    "\n",
    "# Set window\n",
    "win = Window(4096, name='cosine_window', order=1.0, dtype=torch.float64, device='cpu')\n",
    "print(win)\n",
    "\n",
    "# Load TbT data from file and add noise\n",
    "tbt = Data.from_file(54, win, 'virtual_tbt.npy')\n",
    "std = 1.0E-4 * torch.ones(54, dtype=torch.float64)\n",
    "Data.add_noise(tbt.data, std)\n",
    "tbt.reset()\n",
    "print(tbt)\n",
    "\n",
    "# Initialize Frequency instance\n",
    "f = Frequency(tbt)\n",
    "print(f)\n",
    "\n",
    "# Compute frequencies\n",
    "f('parabola')\n",
    "mean = torch.mean(f.frequency).item()\n",
    "std = torch.std(f.frequency).item()\n",
    "print(mean)\n",
    "print(std)\n",
    "\n",
    "# Compute mixed frequencies\n",
    "\n",
    "# For small number of turns, result might be more accurate without window\n",
    "\n",
    "length = 32\n",
    "\n",
    "f1 = f.task_mixed_frequency(length=length, window=True, f_range=(8,9), normalize=True)\n",
    "print(f1.cpu().numpy())\n",
    "print((1-(f1[-1]-8)-mean).item())\n",
    "\n",
    "f2 = f.task_mixed_frequency(length=length, window=True, f_range=(8,9), normalize=True, position=position)\n",
    "print(f2.cpu().numpy())\n",
    "print((1-(f2[-1]-8)-mean).item())\n",
    "\n",
    "# Compute using large number of turns\n",
    "\n",
    "length = 4096\n",
    "\n",
    "f1 = f.task_mixed_frequency(length=length, window=True, f_range=(8,9), normalize=True)\n",
    "print(f1.cpu().numpy())\n",
    "print((1-(f1[-1]-8)-mean).item())\n",
    "\n",
    "f2 = f.task_mixed_frequency(length=length, window=True, f_range=(8,9), normalize=True, position=position)\n",
    "print(f2.cpu().numpy())\n",
    "print((1-(f2[-1]-8)-mean).item())\n",
    "\n",
    "# Clean\n",
    "del win\n",
    "del tbt\n",
    "del f\n",
    "if device != 'cpu':\n",
    "    torch.cuda.synchronize()\n",
    "    torch.cuda.empty_cache()"
   ]
  },
  {
   "cell_type": "code",
   "execution_count": 18,
   "id": "liable-bridges",
   "metadata": {
    "hidden": true
   },
   "outputs": [
    {
     "name": "stdout",
     "output_type": "stream",
     "text": [
      "Window(1024, 'cosine_window', 1.0)\n",
      "Frequency(Data(128, Window(1024, 'cosine_window', 1.0)))\n"
     ]
    },
    {
     "data": {
      "image/png": "[encoded data removed]",
      "text/plain": [
       "<Figure size 720x360 with 1 Axes>"
      ]
     },
     "metadata": {
      "needs_background": "light"
     },
     "output_type": "display_data"
    }
   ],
   "source": [
    "# Example-17: Mean spectrum (masked component)\n",
    "\n",
    "# Set window\n",
    "win = Window(1024, name='cosine_window', order=1.0, dtype=torch.float64, device='cpu')\n",
    "print(win)\n",
    "\n",
    "# Set data\n",
    "time = torch.linspace(1.0, len(win), len(win), dtype=win.dtype)\n",
    "data = torch.cos(2.0*numpy.pi*0.12345*time) + 1.E-3*torch.cos(2.0*numpy.pi*2.0*0.12345*time)\n",
    "data = torch.stack([data + 1.E-3*torch.randn(len(win)) for _ in range(128)])\n",
    "\n",
    "# Set TbT\n",
    "tbt = Data.from_tensor(win, data)\n",
    "\n",
    "# Initialize Frequency instance\n",
    "f = Frequency(tbt)\n",
    "print(f)\n",
    "\n",
    "# Compute frequencies\n",
    "f('parabola')\n",
    "\n",
    "# Compute mean spectrum\n",
    "grid, spectrum = f.task_mean_spectrum(window=True, log=True)\n",
    "\n",
    "# Plot\n",
    "plt.figure(figsize=(10,5))\n",
    "plt.xlim(0.0, 0.5)\n",
    "plt.scatter(grid.cpu(), spectrum.cpu(), s=0.5, c='r')\n",
    "plt.show()\n",
    "\n",
    "# Clean\n",
    "del win\n",
    "del tbt\n",
    "del f\n",
    "if device != 'cpu':\n",
    "    torch.cuda.synchronize()\n",
    "    torch.cuda.empty_cache()"
   ]
  },
  {
   "cell_type": "code",
   "execution_count": null,
   "id": "140f1c39",
   "metadata": {
    "hidden": true
   },
   "outputs": [],
   "source": []
  },
  {
   "cell_type": "markdown",
   "id": "dynamic-maldives",
   "metadata": {},
   "source": [
    "## Frequency (nonuniform sampling)"
   ]
  },
  {
   "cell_type": "markdown",
   "id": "competent-relaxation",
   "metadata": {},
   "source": [
    "0. zoom better than bracket (CR bound), window against bias, but want resolution\n",
    "\n",
    "1. single location sr1 case (uniform and 'stationary' if quasiperiodic). Mirror. Aliacing and leakage. Frequencies appear at low frequencies. E.g. f=2.1, seen at 0.1, 1.1 (also at 3.1 and etc). Mirror around center. E.g. have 0.6, see 0.4 + n * SR. Bias from all above. High bias for small # of turns. But can average.\n",
    "\n",
    "2. multiple locations for uniform and stationary (f + f_mirror) + n * SR. Same bias, but spaced. More info.\n",
    "\n",
    "3. periodic (mixed data) + ignore non-uniform staff + remove mean + normalization (i.e. close to stationary), have n*SR and 1*SR, max is not guaranted to be at correct location. Got problems from aliacing and leakage of 1*SR bleed, 1*SR, 2*SR, ...., N*SR bleed\n",
    "\n",
    "4. periodic (mixed data) TYPE-III NUFFT: include positions (or phase advance), reduce n*SR and 1*SR significantly, main should be OK, problems should be reduced (need tests)\n",
    "\n",
    "5. all random, if pos are ignored -- nothing new, if t3 -- boom!!! super resolution (assuming stationary case)\n",
    "\n",
    "6. ok, how to get 5?\n",
    "    -- use t3 with s or mu + normalization --> stationary case\n",
    "    -- sample randomly at each turn (not exactly 5, but should be close)\n",
    "    -- bpm shift? tansform is drift? (more rng)\n",
    "    \n",
    "7. why?\n",
    "    -- reduce effectc of aliace/leakage/mirror\n",
    "    -- what about noise?\n",
    "    -- obtain super resolution, find harmonics (compute section by section), cool spectrum\n",
    "    \n",
    "8. ok, select randomly, but positions are still fixed, random effect from sampling new random positions in combination with sparse signal structure\n",
    "    -- how to do it? expect random sampling (selection) to work not optimal\n",
    "    -- use filters and model to get x and px, can compute  close to BPMs\n",
    "    -- say in some region adound BPM expect to have OK coordinates\n",
    "    -- select at random in regions!"
   ]
  },
  {
   "cell_type": "code",
   "execution_count": 4,
   "id": "blind-cartoon",
   "metadata": {},
   "outputs": [
    {
     "data": {
      "text/plain": [
       "False"
      ]
     },
     "execution_count": 4,
     "metadata": {},
     "output_type": "execute_result"
    }
   ],
   "source": [
    "import numpy\n",
    "import pandas\n",
    "import torch\n",
    "import nufft\n",
    "\n",
    "from harmonica.util import LENGTH, QX, QY\n",
    "from harmonica.window import Window\n",
    "from harmonica.data import Data\n",
    "from harmonica.frequency import Frequency\n",
    "\n",
    "import matplotlib.pyplot as plt\n",
    "\n",
    "torch.set_printoptions(precision=12, sci_mode=True)\n",
    "torch.cuda.is_available()"
   ]
  },
  {
   "cell_type": "code",
   "execution_count": null,
   "id": "dutch-symphony",
   "metadata": {},
   "outputs": [],
   "source": []
  },
  {
   "cell_type": "code",
   "execution_count": null,
   "id": "modified-arnold",
   "metadata": {},
   "outputs": [],
   "source": []
  },
  {
   "cell_type": "code",
   "execution_count": null,
   "id": "selective-snowboard",
   "metadata": {},
   "outputs": [],
   "source": []
  },
  {
   "cell_type": "code",
   "execution_count": null,
   "id": "hungarian-symbol",
   "metadata": {},
   "outputs": [],
   "source": []
  },
  {
   "cell_type": "code",
   "execution_count": 236,
   "id": "acquired-halifax",
   "metadata": {},
   "outputs": [
    {
     "ename": "SyntaxError",
     "evalue": "invalid syntax (<ipython-input-236-076deea80897>, line 1)",
     "output_type": "error",
     "traceback": [
      "\u001b[0;36m  File \u001b[0;32m\"<ipython-input-236-076deea80897>\"\u001b[0;36m, line \u001b[0;32m1\u001b[0m\n\u001b[0;31m    Test nufft function parameters\u001b[0m\n\u001b[0m         ^\u001b[0m\n\u001b[0;31mSyntaxError\u001b[0m\u001b[0;31m:\u001b[0m invalid syntax\n"
     ]
    }
   ],
   "source": [
    "Test nufft function parameters\n",
    "Add kwargs and pass to it\n",
    "only eps, test it\n",
    "# no eggect from eps\n",
    "# type-1 -- strange\n",
    "\n",
    "Simple example of mixed data\n",
    "Take sin and nonuniform sampling\n",
    "Paired artifacts?\n",
    "Illustrate max range for multy component, alliacing modulo sampling rate\n",
    "# no artifacts\n",
    "# stange pic for t3, no aliasing (cas nonuniform?)\n",
    "# need to compare with normal loop\n",
    "# looks like there is a paired artifact, or can't compute for some reason\n",
    "\n",
    "Test small number of turns\n",
    "Compare averaged from normal loop vs mixed with and without window and with noise\n",
    "Sure if second harmonic is close, bias will be high, but application of window might overlap"
   ]
  },
  {
   "cell_type": "code",
   "execution_count": null,
   "id": "studied-reward",
   "metadata": {},
   "outputs": [],
   "source": [
    "nufft.nufft1d3()\n",
    "nufft.nufft1d1()"
   ]
  },
  {
   "cell_type": "code",
   "execution_count": 8,
   "id": "christian-means",
   "metadata": {},
   "outputs": [
    {
     "name": "stdout",
     "output_type": "stream",
     "text": [
      "Window(4096, 'cosine_window', 1.0)\n",
      "Data(54, Window(4096, 'cosine_window', 1.0))\n",
      "Frequency(Data(54, Window(4096, 'cosine_window', 1.0)))\n"
     ]
    },
    {
     "data": {
      "image/png": "[encoded data removed]",
      "text/plain": [
       "<Figure size 720x360 with 1 Axes>"
      ]
     },
     "metadata": {
      "needs_background": "light"
     },
     "output_type": "display_data"
    }
   ],
   "source": [
    "# Set positions\n",
    "df = pandas.read_json('bpm.json')\n",
    "position = numpy.array([df[name]['S'] for name in df])/LENGTH\n",
    "\n",
    "# Set window\n",
    "win = Window(4096, name='cosine_window', order=1.0, dtype=torch.float64, device='cpu')\n",
    "print(win)\n",
    "\n",
    "# Load TbT data from file and add noise\n",
    "tbt = Data.from_file(54, win, 'virtual_tbt.npy')\n",
    "std = 1.0E-4 * torch.ones(54, dtype=torch.float64)\n",
    "Data.add_noise(tbt.data, std)\n",
    "tbt.reset()\n",
    "print(tbt)\n",
    "\n",
    "# Initialize Frequency instance\n",
    "f = Frequency(tbt)\n",
    "print(f)\n",
    "\n",
    "# Compute & plot mixed spectrum\n",
    "f_range=(0.0, 54.0/2.0)\n",
    "s1 = f.task_mixed_spectrum(length=1024, window=True, normalize=True, f_range=f_range)\n",
    "s2 = f.task_mixed_spectrum(length=1024, window=True, normalize=True, f_range=f_range, position=position)\n",
    "plt.figure(figsize=(10,5))\n",
    "# plt.scatter(*s1, c='r', s=5)\n",
    "plt.scatter(*s2, c='b', s=1)\n",
    "plt.show()\n",
    "\n",
    "# Clean\n",
    "del win\n",
    "del tbt\n",
    "del f\n",
    "if device != 'cpu':\n",
    "    torch.cuda.synchronize()\n",
    "    torch.cuda.empty_cache()"
   ]
  },
  {
   "cell_type": "code",
   "execution_count": null,
   "id": "greenhouse-installation",
   "metadata": {},
   "outputs": [],
   "source": []
  },
  {
   "cell_type": "code",
   "execution_count": 329,
   "id": "automated-supervisor",
   "metadata": {
    "scrolled": false
   },
   "outputs": [
    {
     "name": "stdout",
     "output_type": "stream",
     "text": [
      "Window(4096, 'cosine_window', 1.0)\n",
      "Data(54, Window(4096, 'cosine_window', 1.0))\n",
      "Frequency(Data(54, Window(4096, 'cosine_window', 1.0)))\n"
     ]
    },
    {
     "data": {
      "image/png": "[encoded data removed]",
      "text/plain": [
       "<Figure size 720x360 with 1 Axes>"
      ]
     },
     "metadata": {
      "needs_background": "light"
     },
     "output_type": "display_data"
    },
    {
     "data": {
      "image/png": "[encoded data removed]",
      "text/plain": [
       "<Figure size 720x360 with 1 Axes>"
      ]
     },
     "metadata": {
      "needs_background": "light"
     },
     "output_type": "display_data"
    },
    {
     "data": {
      "image/png": "[encoded data removed]",
      "text/plain": [
       "<Figure size 720x360 with 1 Axes>"
      ]
     },
     "metadata": {
      "needs_background": "light"
     },
     "output_type": "display_data"
    }
   ],
   "source": [
    "# Set positions\n",
    "df = pandas.read_json('bpm.json')\n",
    "FX = numpy.array([df[name][\"FX\"] for name in df])\n",
    "FX = numpy.cumsum(FX)/(2.0*numpy.pi*QX)\n",
    "position = FX\n",
    "position = position-position[0]\n",
    "\n",
    "# Set window\n",
    "win = Window(4096, name='cosine_window', order=1.0, dtype=torch.float64, device='cpu')\n",
    "print(win)\n",
    "\n",
    "# Load TbT data from file and add noise\n",
    "tbt = Data.from_file(54, win, 'virtual_tbt.npy')\n",
    "std = 1.0E-4 * torch.ones(54, dtype=torch.float64)\n",
    "Data.add_noise(tbt.data, std)\n",
    "tbt.reset()\n",
    "print(tbt)\n",
    "\n",
    "# Initialize Frequency instance\n",
    "f = Frequency(tbt)\n",
    "print(f)\n",
    "\n",
    "# Compute & plot mixed spectrum\n",
    "f_range=(0.0, 54.0/2.0)\n",
    "s1 = f.task_mixed_spectrum(length=1024, window=True, normalize=True, f_range=f_range)\n",
    "s2 = f.task_mixed_spectrum(length=1024, window=True, normalize=True, f_range=f_range, position=position)\n",
    "plt.figure(figsize=(10,5))\n",
    "# plt.scatter(*s1, c='r', s=5)\n",
    "plt.scatter(*s2, c='b', s=1)\n",
    "plt.show()\n",
    "\n",
    "# # Clean\n",
    "# del win\n",
    "# del tbt\n",
    "# del f\n",
    "# if device != 'cpu':\n",
    "#     torch.cuda.synchronize()\n",
    "#     torch.cuda.empty_cache()\n",
    "\n",
    "# each one and around\n",
    "plt.figure(figsize=(10,5))\n",
    "# plt.scatter(*s1, c='r', s=5)\n",
    "plt.xlim(8., 9.) # -- around\n",
    "plt.scatter(*s2, c='b', s=1)\n",
    "plt.show()\n",
    "\n",
    "plt.figure(figsize=(10,5))\n",
    "# plt.scatter(*s1, c='r', s=5)\n",
    "plt.xlim(7., 10.) # -- around\n",
    "plt.scatter(*s2, c='b', s=1)\n",
    "plt.show()"
   ]
  },
  {
   "cell_type": "code",
   "execution_count": null,
   "id": "executed-straight",
   "metadata": {},
   "outputs": [],
   "source": []
  },
  {
   "cell_type": "code",
   "execution_count": null,
   "id": "unsigned-conspiracy",
   "metadata": {},
   "outputs": [],
   "source": []
  },
  {
   "cell_type": "code",
   "execution_count": null,
   "id": "opening-bible",
   "metadata": {},
   "outputs": [],
   "source": []
  },
  {
   "cell_type": "code",
   "execution_count": 330,
   "id": "maritime-austin",
   "metadata": {},
   "outputs": [
    {
     "name": "stdout",
     "output_type": "stream",
     "text": [
      "torch.Size([5120])\n"
     ]
    },
    {
     "data": {
      "image/png": "[encoded data removed]",
      "text/plain": [
       "<Figure size 720x360 with 1 Axes>"
      ]
     },
     "metadata": {
      "needs_background": "light"
     },
     "output_type": "display_data"
    },
    {
     "name": "stdout",
     "output_type": "stream",
     "text": [
      "Data(1, Window(5120, None, None))\n"
     ]
    },
    {
     "data": {
      "image/png": "[encoded data removed]",
      "text/plain": [
       "<Figure size 720x360 with 1 Axes>"
      ]
     },
     "metadata": {
      "needs_background": "light"
     },
     "output_type": "display_data"
    }
   ],
   "source": [
    "# NOT EQUIDISTANT\n",
    "# FIXED (CORRELATED) PERIODIC\n",
    "\n",
    "dtype = torch.float64\n",
    "device = 'cpu'\n",
    "rate = 5\n",
    "length = 1024\n",
    "time = torch.sort(torch.rand(rate, dtype=dtype)).values\n",
    "time = torch.cat([time + i for i in range(length)])\n",
    "\n",
    "frequency = [0.32]\n",
    "signal = torch.sum(torch.stack([0.85**i*torch.cos(2.0*numpy.pi*frequency[i]*time) for i in range(len(frequency))]), 0)\n",
    "print(signal.shape)\n",
    "\n",
    "f_min, f_max = 0.0, 10\n",
    "fre = 2.0*numpy.pi*numpy.linspace(f_min, f_max, len(time) + 1)\n",
    "fou = nufft.nufft1d3(time, signal, fre)\n",
    "\n",
    "plt.figure(figsize=(10,5))\n",
    "plt.scatter(fre/(2.0*numpy.pi), numpy.abs(fou), c='b', s=1)\n",
    "plt.show()\n",
    "\n",
    "win = Window(len(signal))\n",
    "tbt = Data.from_tensor(win, torch.unsqueeze(signal, 0))\n",
    "print(tbt)\n",
    "\n",
    "f_min, f_max = f_min/rate, f_max/rate\n",
    "span = (f_max - f_min)\n",
    "center = f_min + 0.5*span\n",
    "\n",
    "f= Frequency(tbt)\n",
    "f('parabola', center=center, span=span)\n",
    "x = rate*f.ffrft_get_grid(0)\n",
    "y = f.ffrft_spectrum[0]/len(x)\n",
    "\n",
    "plt.figure(figsize=(10,5))\n",
    "plt.scatter(x, y, c='b', s=1)\n",
    "plt.show()\n"
   ]
  },
  {
   "cell_type": "code",
   "execution_count": null,
   "id": "located-malpractice",
   "metadata": {},
   "outputs": [],
   "source": [
    "# strange with rangom sampling, kotelnikov is not applicable, but amp is contant to here"
   ]
  },
  {
   "cell_type": "code",
   "execution_count": null,
   "id": "illegal-indonesia",
   "metadata": {},
   "outputs": [],
   "source": []
  },
  {
   "cell_type": "code",
   "execution_count": 325,
   "id": "understood-beach",
   "metadata": {},
   "outputs": [
    {
     "name": "stdout",
     "output_type": "stream",
     "text": [
      "torch.Size([5120])\n"
     ]
    },
    {
     "data": {
      "image/png": "[encoded data removed]",
      "text/plain": [
       "<Figure size 720x360 with 1 Axes>"
      ]
     },
     "metadata": {
      "needs_background": "light"
     },
     "output_type": "display_data"
    },
    {
     "name": "stdout",
     "output_type": "stream",
     "text": [
      "Data(1, Window(5120, None, None))\n"
     ]
    },
    {
     "data": {
      "image/png": "[encoded data removed]",
      "text/plain": [
       "<Figure size 720x360 with 1 Axes>"
      ]
     },
     "metadata": {
      "needs_background": "light"
     },
     "output_type": "display_data"
    }
   ],
   "source": [
    "# NOT EQUIDISTANT, RANDOM\n",
    "\n",
    "# note, it's random every time!!!! i.e. lots of info\n",
    "\n",
    "dtype = torch.float64\n",
    "device = 'cpu'\n",
    "rate = 5\n",
    "length = 1024\n",
    "time = torch.cat([torch.sort(torch.rand(rate, dtype=dtype)).values + i for i in range(length)])\n",
    "\n",
    "frequency = [6.32]\n",
    "signal = torch.sum(torch.stack([0.85**i*torch.cos(2.0*numpy.pi*frequency[i]*time) for i in range(len(frequency))]), 0)\n",
    "print(signal.shape)\n",
    "\n",
    "f_min, f_max = 0.0, 10\n",
    "fre = 2.0*numpy.pi*numpy.linspace(f_min, f_max, len(time) + 1)\n",
    "fou = nufft.nufft1d3(time, signal, fre)\n",
    "\n",
    "plt.figure(figsize=(10,5))\n",
    "plt.scatter(fre/(2.0*numpy.pi), numpy.abs(fou), c='b', s=1)\n",
    "plt.show()\n",
    "\n",
    "win = Window(len(signal))\n",
    "tbt = Data.from_tensor(win, torch.unsqueeze(signal, 0))\n",
    "print(tbt)\n",
    "\n",
    "f_min, f_max = f_min/rate, f_max/rate\n",
    "span = (f_max - f_min)\n",
    "center = f_min + 0.5*span\n",
    "\n",
    "f= Frequency(tbt)\n",
    "f('parabola', center=center, span=span)\n",
    "x = rate*f.ffrft_get_grid(0)\n",
    "y = f.ffrft_spectrum[0]/len(x)\n",
    "\n",
    "plt.figure(figsize=(10,5))\n",
    "plt.scatter(x, y, c='b', s=1)\n",
    "plt.show()\n"
   ]
  },
  {
   "cell_type": "code",
   "execution_count": null,
   "id": "mature-increase",
   "metadata": {},
   "outputs": [],
   "source": []
  },
  {
   "cell_type": "code",
   "execution_count": 322,
   "id": "reserved-reverse",
   "metadata": {},
   "outputs": [
    {
     "name": "stdout",
     "output_type": "stream",
     "text": [
      "torch.Size([5120])\n"
     ]
    },
    {
     "data": {
      "image/png": "[encoded data removed]",
      "text/plain": [
       "<Figure size 720x360 with 1 Axes>"
      ]
     },
     "metadata": {
      "needs_background": "light"
     },
     "output_type": "display_data"
    },
    {
     "name": "stdout",
     "output_type": "stream",
     "text": [
      "Data(1, Window(5120, None, None))\n"
     ]
    },
    {
     "data": {
      "image/png": "[encoded data removed]",
      "text/plain": [
       "<Figure size 720x360 with 1 Axes>"
      ]
     },
     "metadata": {
      "needs_background": "light"
     },
     "output_type": "display_data"
    }
   ],
   "source": [
    "# NOT EQUIDISTANT, RANDOM\n",
    "\n",
    "dtype = torch.float64\n",
    "device = 'cpu'\n",
    "rate = 5\n",
    "length = 1024\n",
    "time = torch.cat([torch.sort(torch.rand(rate, dtype=dtype)).values + i for i in range(length)])\n",
    "\n",
    "# time = torch.cat([torch.linspace(0.0, 1.0-1/rate, rate, dtype=dtype) + i for i in range(length)])\n",
    "\n",
    "frequency = [0.32]\n",
    "signal = torch.sum(torch.stack([0.85**i*torch.cos(2.0*numpy.pi*frequency[i]*time) for i in range(len(frequency))]), 0)\n",
    "print(signal.shape)\n",
    "\n",
    "f_min, f_max = 0.0, 10\n",
    "fre = 2.0*numpy.pi*numpy.linspace(f_min, f_max, len(time) + 1)\n",
    "fou = nufft.nufft1d3(time, signal, fre)\n",
    "\n",
    "plt.figure(figsize=(10,5))\n",
    "plt.scatter(fre/(2.0*numpy.pi), numpy.abs(fou), c='b', s=1)\n",
    "plt.show()\n",
    "\n",
    "win = Window(len(signal))\n",
    "tbt = Data.from_tensor(win, torch.unsqueeze(signal, 0))\n",
    "print(tbt)\n",
    "\n",
    "f_min, f_max = f_min/rate, f_max/rate\n",
    "span = (f_max - f_min)\n",
    "center = f_min + 0.5*span\n",
    "\n",
    "f= Frequency(tbt)\n",
    "f('parabola', center=center, span=span)\n",
    "x = rate*f.ffrft_get_grid(0)\n",
    "y = f.ffrft_spectrum[0]/len(x)\n",
    "\n",
    "plt.figure(figsize=(10,5))\n",
    "plt.scatter(x, y, c='b', s=1)\n",
    "plt.show()\n",
    "\n",
    "### HM\n",
    "## nonuniform => noperiodic???\n",
    "## got sone extra artifacts for ffrft"
   ]
  },
  {
   "cell_type": "code",
   "execution_count": null,
   "id": "prescription-irish",
   "metadata": {},
   "outputs": [],
   "source": []
  },
  {
   "cell_type": "code",
   "execution_count": null,
   "id": "enormous-atlanta",
   "metadata": {},
   "outputs": [],
   "source": []
  },
  {
   "cell_type": "code",
   "execution_count": null,
   "id": "modular-cameroon",
   "metadata": {},
   "outputs": [],
   "source": []
  },
  {
   "cell_type": "code",
   "execution_count": 315,
   "id": "rapid-calculation",
   "metadata": {},
   "outputs": [
    {
     "name": "stdout",
     "output_type": "stream",
     "text": [
      "torch.Size([5120])\n"
     ]
    },
    {
     "data": {
      "image/png": "[encoded data removed]",
      "text/plain": [
       "<Figure size 720x360 with 1 Axes>"
      ]
     },
     "metadata": {
      "needs_background": "light"
     },
     "output_type": "display_data"
    },
    {
     "name": "stdout",
     "output_type": "stream",
     "text": [
      "Data(1, Window(5120, None, None))\n"
     ]
    },
    {
     "data": {
      "image/png": "[encoded data removed]",
      "text/plain": [
       "<Figure size 720x360 with 1 Axes>"
      ]
     },
     "metadata": {
      "needs_background": "light"
     },
     "output_type": "display_data"
    }
   ],
   "source": [
    "# EXAMPLE OF PAIRED WHEN RATE, EQUIDISTANT\n",
    "dtype = torch.float64\n",
    "device = 'cpu'\n",
    "rate = 5\n",
    "length = 1024\n",
    "# time = torch.cat([torch.sort(torch.rand(length, dtype=dtype)).values + i for i in range(rate)])\n",
    "\n",
    "time = torch.cat([torch.linspace(0.0, 1.0-1/rate, rate, dtype=dtype) + i for i in range(length)])\n",
    "\n",
    "frequency = [5.1234, 20.1, 28.76543, 31.45, 35.1231*0.0]\n",
    "frequency = [0.32]\n",
    "signal = torch.sum(torch.stack([0.85**i*torch.cos(2.0*numpy.pi*frequency[i]*time) for i in range(len(frequency))]), 0)\n",
    "print(signal.shape)\n",
    "\n",
    "f_min, f_max = 0.0, 10\n",
    "fre = 2.0*numpy.pi*numpy.linspace(f_min, f_max, len(time) + 1)\n",
    "fou = nufft.nufft1d3(time, signal, fre)\n",
    "\n",
    "plt.figure(figsize=(10,5))\n",
    "plt.scatter(fre/(2.0*numpy.pi), numpy.abs(fou), c='b', s=1)\n",
    "plt.show()\n",
    "\n",
    "win = Window(len(signal))\n",
    "tbt = Data.from_tensor(win, torch.unsqueeze(signal, 0))\n",
    "print(tbt)\n",
    "\n",
    "f_min, f_max = f_min/rate, f_max/rate\n",
    "span = (f_max - f_min)\n",
    "center = f_min + 0.5*span\n",
    "\n",
    "f= Frequency(tbt)\n",
    "f('parabola', center=center, span=span)\n",
    "x = rate*f.ffrft_get_grid(0)\n",
    "y = f.ffrft_spectrum[0]/len(x)\n",
    "\n",
    "plt.figure(figsize=(10,5))\n",
    "plt.scatter(x, y, c='b', s=1)\n",
    "plt.show()"
   ]
  },
  {
   "cell_type": "code",
   "execution_count": null,
   "id": "adaptive-explanation",
   "metadata": {},
   "outputs": [],
   "source": []
  }
 ],
 "metadata": {
  "colab": {
   "collapsed_sections": [
    "myt0_gMIOq7b",
    "5d97819c"
   ],
   "name": "03_frequency.ipynb",
   "provenance": []
  },
  "kernelspec": {
   "display_name": "Python 3 (ipykernel)",
   "language": "python",
   "name": "python3"
  },
  "language_info": {
   "codemirror_mode": {
    "name": "ipython",
    "version": 3
   },
   "file_extension": ".py",
   "mimetype": "text/x-python",
   "name": "python",
   "nbconvert_exporter": "python",
   "pygments_lexer": "ipython3",
   "version": "3.9.0"
  },
  "latex_envs": {
   "LaTeX_envs_menu_present": true,
   "autoclose": false,
   "autocomplete": true,
   "bibliofile": "biblio.bib",
   "cite_by": "apalike",
   "current_citInitial": 1,
   "eqLabelWithNumbers": true,
   "eqNumInitial": 1,
   "hotkeys": {
    "equation": "Ctrl-E",
    "itemize": "Ctrl-I"
   },
   "labels_anchors": false,
   "latex_user_defs": false,
   "report_style_numbering": false,
   "user_envs_cfg": false
  }
 },
 "nbformat": 4,
 "nbformat_minor": 5
}
