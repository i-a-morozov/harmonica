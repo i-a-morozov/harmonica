{
 "cells": [
  {
   "cell_type": "code",
   "execution_count": 1,
   "id": "37ef29c5",
   "metadata": {},
   "outputs": [
    {
     "name": "stdout",
     "output_type": "stream",
     "text": [
      "True\n"
     ]
    }
   ],
   "source": [
    "# Import\n",
    "import numpy\n",
    "import torch\n",
    "\n",
    "from harmonica.window import Window\n",
    "\n",
    "import matplotlib.pyplot as plt\n",
    "\n",
    "torch.set_printoptions(precision=12, sci_mode=True)\n",
    "print(torch.cuda.is_available())"
   ]
  },
  {
   "cell_type": "markdown",
   "id": "68c0e3ee",
   "metadata": {
    "heading_collapsed": true
   },
   "source": [
    "# Example-01: Window initialization"
   ]
  },
  {
   "cell_type": "code",
   "execution_count": 2,
   "id": "0ff28ec7",
   "metadata": {
    "hidden": true
   },
   "outputs": [
    {
     "name": "stdout",
     "output_type": "stream",
     "text": [
      "Window(1024, None, None)\n",
      "1024\n",
      "None\n",
      "None\n",
      "[1. 1. 1. ... 1. 1. 1.]\n",
      "torch.float64\n",
      "cpu\n",
      "tensor(1.024000000000e+03, dtype=torch.float64)\n",
      "[0. 0. 0. ... 0. 0. 0.]\n",
      "[1. 1. 1. ... 1. 1. 1.]\n",
      "[0. 0. 0. ... 0. 0. 0.]\n",
      "[1. 1. 1. ... 1. 1. 1.]\n",
      "[0. 0. 0. ... 0. 0. 0.]\n",
      "length: 1024\n",
      "data: tensor([0., 0., 0.,  ..., 0., 0., 0.], dtype=torch.float64)\n",
      "dtype: torch.float64\n",
      "device: cpu\n",
      "name: cosine_window\n",
      "order: 0.0\n"
     ]
    }
   ],
   "source": [
    "# Window is used to fix signal length in computations\n",
    "# Each signal in TbT should have fixed length defined by selected window\n",
    "# Window is also used to set data type and device for all further computations\n",
    "\n",
    "# Initialize window instance (default parameters)\n",
    "w = Window(length=1024, name=None, order=None, dtype=torch.float64, device='cpu')\n",
    "\n",
    "# String representaion\n",
    "print(w)\n",
    "\n",
    "# Window length\n",
    "print(w.length)\n",
    "\n",
    "# Window name\n",
    "# Should be one of the defined static methods ('cosine_window' or 'kaiser_window') or None for empty initialization\n",
    "print(w.name)\n",
    "\n",
    "# Window order\n",
    "# Float, passed to static method, not used if name is None\n",
    "print(w.order)\n",
    "\n",
    "# Window data (all ones for if name is None)\n",
    "print(w.data.detach().cpu().numpy())\n",
    "\n",
    "# Window data type\n",
    "print(w.dtype)\n",
    "\n",
    "# Window device\n",
    "print(w.device)\n",
    "\n",
    "# Window total (sum of window data)\n",
    "print(w.total)\n",
    "\n",
    "# Set custom window (copy tensor with matching parameters to data)\n",
    "w.data.copy_(torch.zeros(w.data.shape, dtype=w.dtype, device=w.device))\n",
    "print(w.data.detach().cpu().numpy())\n",
    "\n",
    "# Set custom window (use set_data method to invoke defined static method)\n",
    "w.set_data(name='cosine_window', order=0.0)\n",
    "print(w.data.detach().cpu().numpy())\n",
    "\n",
    "# Set custom window (use set_data method with given tensor)\n",
    "w.set_data(tensor=torch.zeros(w.length, dtype=w.dtype, device=w.device))\n",
    "print(w.data.detach().cpu().numpy())\n",
    "\n",
    "# Set custom window (invoke set_data)\n",
    "w(name='cosine_window', order=0.0)\n",
    "print(w.data.detach().cpu().numpy())\n",
    "\n",
    "# Set custom window (invoke set_data)\n",
    "w(tensor=torch.zeros(w.length, dtype=w.dtype, device=w.device))\n",
    "print(w.data.detach().cpu().numpy())\n",
    "\n",
    "# Print\n",
    "for key, value in w.__dict__.items():\n",
    "    print(f'{key}: {value}')"
   ]
  },
  {
   "cell_type": "markdown",
   "id": "c91f7436",
   "metadata": {
    "heading_collapsed": true
   },
   "source": [
    "# Example-02: Free CUDA memory"
   ]
  },
  {
   "cell_type": "code",
   "execution_count": 3,
   "id": "6bb364d1",
   "metadata": {
    "hidden": true
   },
   "outputs": [
    {
     "name": "stdout",
     "output_type": "stream",
     "text": [
      "cuda\n",
      "Window(1024, 'cosine_window', 1.0)\n",
      "4096\n",
      "0\n"
     ]
    }
   ],
   "source": [
    "# Delete data attribute or whole instance to free CUDA memory\n",
    "# Call torch.cuda.empty_cache()\n",
    "\n",
    "# Set device\n",
    "device = 'cuda' if torch.cuda.is_available() else 'cpu'\n",
    "print(device)\n",
    "\n",
    "# Set window instance\n",
    "w = Window(1024, 'cosine_window', 1.0, dtype=torch.float, device=device)\n",
    "print(w)\n",
    "\n",
    "# Print allocated memory info\n",
    "print(torch.cuda.memory_allocated())\n",
    "\n",
    "# Delete window instance\n",
    "del w\n",
    "\n",
    "# Empty cache\n",
    "if w.device != 'cpu':\n",
    "    torch.cuda.synchronize()\n",
    "    torch.cuda.empty_cache()\n",
    "\n",
    "# Print allocated memory info    \n",
    "print(torch.cuda.memory_allocated())"
   ]
  },
  {
   "cell_type": "markdown",
   "id": "a0701a14",
   "metadata": {
    "heading_collapsed": true
   },
   "source": [
    "# Example-03: Cosine window generation (normalized sum)"
   ]
  },
  {
   "cell_type": "code",
   "execution_count": 4,
   "id": "007dc075",
   "metadata": {
    "hidden": true
   },
   "outputs": [
    {
     "name": "stdout",
     "output_type": "stream",
     "text": [
      "Window(1024, 'cosine_window', 1.0)\n",
      "Window(1024, 'cosine_window', 2.0)\n"
     ]
    },
    {
     "data": {
      "image/png": "[encoded data removed]",
      "text/plain": [
       "<Figure size 720x360 with 1 Axes>"
      ]
     },
     "metadata": {
      "needs_background": "light"
     },
     "output_type": "display_data"
    }
   ],
   "source": [
    "# Generate and plot cosine window\n",
    "\n",
    "# Set plot size\n",
    "plt.figure(figsize=(10, 5))\n",
    "\n",
    "# Set time\n",
    "t = torch.linspace(0, 1024, 1024, dtype=torch.float64)\n",
    "\n",
    "# Set cosine window with order = 1.0\n",
    "w = Window(1024, 'cosine_window', 1.0, dtype=torch.float64, device='cpu')\n",
    "print(w)\n",
    "plt.scatter(t, w.data.detach().cpu(), c='r', s=0.1)\n",
    "\n",
    "# Reset cosine window (change order)\n",
    "w(name='cosine_window', order=2.0)\n",
    "print(w)\n",
    "plt.scatter(t, w.data.detach().cpu(), c='b', s=0.1)\n",
    "\n",
    "# Show plots\n",
    "plt.show()"
   ]
  },
  {
   "cell_type": "markdown",
   "id": "8a0e34ef",
   "metadata": {
    "heading_collapsed": true
   },
   "source": [
    "# Example-04: Kaiser window (normalized max)"
   ]
  },
  {
   "cell_type": "code",
   "execution_count": 5,
   "id": "cf4d7ecb",
   "metadata": {
    "hidden": true
   },
   "outputs": [
    {
     "name": "stdout",
     "output_type": "stream",
     "text": [
      "Window(1024, 'kaiser_window', 5.0)\n",
      "Window(1024, 'kaiser_window', 10.0)\n"
     ]
    },
    {
     "data": {
      "image/png": "[encoded data removed]",
      "text/plain": [
       "<Figure size 720x360 with 1 Axes>"
      ]
     },
     "metadata": {
      "needs_background": "light"
     },
     "output_type": "display_data"
    }
   ],
   "source": [
    "# Generate and plot kaiser window\n",
    "\n",
    "# Set plot size\n",
    "plt.figure(figsize=(10, 5))\n",
    "\n",
    "# Set time\n",
    "t = torch.linspace(0, 1024, 1024, dtype=torch.float64)\n",
    "\n",
    "# Set kaiser window with order = 5.0\n",
    "w = Window(1024, 'kaiser_window', 5.0, dtype=torch.float64, device='cpu')\n",
    "print(w)\n",
    "plt.scatter(t, w.data.detach(), c='r', s=0.1)\n",
    "\n",
    "# Reset kaiser window (change order)\n",
    "w(name='kaiser_window', order=10.0)\n",
    "print(w)\n",
    "plt.scatter(t, w.data.detach(), c='b', s=0.1)\n",
    "\n",
    "# Show plots\n",
    "plt.show()"
   ]
  },
  {
   "cell_type": "markdown",
   "id": "7182fd90",
   "metadata": {
    "heading_collapsed": true
   },
   "source": [
    "# Example-05: Window.cosine_window and Window.kaiser_window"
   ]
  },
  {
   "cell_type": "code",
   "execution_count": 6,
   "id": "2ad12fec",
   "metadata": {
    "hidden": true
   },
   "outputs": [
    {
     "name": "stdout",
     "output_type": "stream",
     "text": [
      "Window(1024, None, None)\n",
      "[1. 1. 1. ... 1. 1. 1.]\n",
      "[1. 1. 1. ... 1. 1. 1.]\n",
      "[1. 1. 1. ... 1. 1. 1.]\n"
     ]
    }
   ],
   "source": [
    "# Empty initialization\n",
    "w = Window(1024, dtype=torch.float64, device='cpu')\n",
    "print(w)\n",
    "print(w.data.detach().cpu().numpy())\n",
    "\n",
    "# Reset window data using cosine window (note, window name and order are not changed)\n",
    "Window.cosine_window(1024, 0.0, w.data)\n",
    "print(w.data.detach().cpu().numpy())\n",
    "\n",
    "# Reset window data using kaiser window (note, window name and order are not changed)\n",
    "Window.kaiser_window(1024, 0.0, w.data)\n",
    "print(w.data.detach().cpu().numpy())"
   ]
  },
  {
   "cell_type": "markdown",
   "id": "2d0d407c",
   "metadata": {
    "heading_collapsed": true
   },
   "source": [
    "# Example-06: Generate from class methods"
   ]
  },
  {
   "cell_type": "code",
   "execution_count": 7,
   "id": "d969ca19",
   "metadata": {
    "hidden": true
   },
   "outputs": [
    {
     "name": "stdout",
     "output_type": "stream",
     "text": [
      "Window(1024, 'cosine_window', 0.0)\n",
      "cosine_window\n",
      "0.0\n",
      "[1. 1. 1. ... 1. 1. 1.]\n",
      "Window(1024, 'kaiser_window', 0.0)\n",
      "kaiser_window\n",
      "0.0\n",
      "[1. 1. 1. ... 1. 1. 1.]\n"
     ]
    }
   ],
   "source": [
    "# Initialize using cosine window\n",
    "w = Window.from_cosine(1024, 0.0, dtype=torch.float64, device='cpu')\n",
    "print(w)\n",
    "print(w.name)\n",
    "print(w.order)\n",
    "print(w.data.data.detach().cpu().numpy())\n",
    "\n",
    "# Initialize using kaiser window\n",
    "w = Window.from_kaiser(1024, 0.0, dtype=torch.float64, device='cpu')\n",
    "print(w)\n",
    "print(w.name)\n",
    "print(w.order)\n",
    "print(w.data.data.detach().cpu().numpy())"
   ]
  },
  {
   "cell_type": "markdown",
   "id": "eb3afe51",
   "metadata": {
    "heading_collapsed": true
   },
   "source": [
    "# Example-07: Weighted mean"
   ]
  },
  {
   "cell_type": "code",
   "execution_count": 8,
   "id": "417f19e4",
   "metadata": {
    "hidden": true
   },
   "outputs": [
    {
     "name": "stdout",
     "output_type": "stream",
     "text": [
      "tensor(1.003731971546e-01, dtype=torch.float64)\n",
      "Window(4096, 'cosine_window', 5.0)\n",
      "tensor(1.000000000000e-01, dtype=torch.float64)\n",
      "Window(4096, 'kaiser_window', 10.0)\n",
      "tensor(1.000000000000e-01, dtype=torch.float64)\n"
     ]
    }
   ],
   "source": [
    "# Compare estimation of signal mean without and with window weighting\n",
    "\n",
    "# Set test signal with 1.E-1 mean value\n",
    "dtype, device = torch.float64, 'cpu'\n",
    "length = 4096\n",
    "signal = 1.E-1 + torch.sin(2.0*numpy.pi*0.12345*torch.linspace(0, length, length, dtype=dtype, device=device))\n",
    "\n",
    "# Compute mean\n",
    "print(torch.mean(signal))\n",
    "\n",
    "# Compute weighted mean using cosine window\n",
    "w = Window.from_cosine(length, 5.0, dtype=dtype, device=device)\n",
    "print(w)\n",
    "print(torch.dot(signal, w.data)/w.total)\n",
    "\n",
    "# Compute weighted mean using kaiser window\n",
    "w = Window.from_kaiser(length, 10.0, dtype=dtype, device=device)\n",
    "print(w)\n",
    "print(torch.dot(signal, w.data)/w.total)"
   ]
  },
  {
   "cell_type": "markdown",
   "id": "749f5414",
   "metadata": {
    "heading_collapsed": true
   },
   "source": [
    "# Example-08: Apply window"
   ]
  },
  {
   "cell_type": "code",
   "execution_count": 9,
   "id": "ffde2876",
   "metadata": {
    "hidden": true
   },
   "outputs": [
    {
     "name": "stdout",
     "output_type": "stream",
     "text": [
      "Window(4096, 'cosine_window', 1.0)\n"
     ]
    },
    {
     "data": {
      "image/png": "[encoded data removed]",
      "text/plain": [
       "<Figure size 720x360 with 1 Axes>"
      ]
     },
     "metadata": {
      "needs_background": "light"
     },
     "output_type": "display_data"
    },
    {
     "name": "stdout",
     "output_type": "stream",
     "text": [
      "Window(4096, 'kaiser_window', 5.0)\n"
     ]
    },
    {
     "data": {
      "image/png": "[encoded data removed]",
      "text/plain": [
       "<Figure size 720x360 with 1 Axes>"
      ]
     },
     "metadata": {
      "needs_background": "light"
     },
     "output_type": "display_data"
    }
   ],
   "source": [
    "# Apply window to signal and plot result in time domain\n",
    "\n",
    "# Set test signal\n",
    "dtype, device = torch.float64, 'cpu'\n",
    "length = 4096\n",
    "signal = torch.sin(2.0*numpy.pi*0.12345*torch.linspace(0, length, length, dtype=dtype, device=device))\n",
    "\n",
    "# Set time\n",
    "t = torch.linspace(0, length, length, dtype=dtype, device=device)\n",
    "\n",
    "# Set cosine window\n",
    "w = Window.from_cosine(length, 1.0, dtype=dtype, device=device)\n",
    "print(w)\n",
    "\n",
    "# Plot\n",
    "plt.figure(figsize=(10, 5))\n",
    "plt.ylim(-2.5, 2.5)\n",
    "plt.scatter(t.detach().cpu(), signal.detach().cpu(), c='r', s=0.1)\n",
    "plt.scatter(t.detach().cpu(), (signal*w.data).detach().cpu(), c='b', s=0.1)\n",
    "plt.show()\n",
    "\n",
    "# Set kaiser window\n",
    "w = Window.from_kaiser(length, 5.0, dtype=dtype, device=device)\n",
    "print(w)\n",
    "\n",
    "# Plot\n",
    "plt.figure(figsize=(10, 5))\n",
    "plt.ylim(-2.5, 2.5)\n",
    "plt.scatter(t.detach().cpu(), signal.detach().cpu(), c='r', s=0.1)\n",
    "plt.scatter(t.detach().cpu(), (signal*w.data).detach().cpu(), c='b', s=0.1)\n",
    "plt.show()"
   ]
  },
  {
   "cell_type": "markdown",
   "id": "c0a2a28b",
   "metadata": {
    "heading_collapsed": true
   },
   "source": [
    "# Example-09: Apply window (spectrum)"
   ]
  },
  {
   "cell_type": "code",
   "execution_count": 10,
   "id": "5a8ebf4e",
   "metadata": {
    "hidden": true
   },
   "outputs": [
    {
     "name": "stdout",
     "output_type": "stream",
     "text": [
      "Window(4096, 'cosine_window', 2.0)\n"
     ]
    },
    {
     "data": {
      "image/png": "[encoded data removed]",
      "text/plain": [
       "<Figure size 720x360 with 1 Axes>"
      ]
     },
     "metadata": {
      "needs_background": "light"
     },
     "output_type": "display_data"
    },
    {
     "name": "stdout",
     "output_type": "stream",
     "text": [
      "Window(4096, 'cosine_window', 4.0)\n",
      "tensor(9.998263245766e-01, dtype=torch.float64)\n",
      "tensor(1.000000000001e+00, dtype=torch.float64)\n"
     ]
    }
   ],
   "source": [
    "# Apply window to signal and plot DFT amplitude spectrum\n",
    "\n",
    "# Set test signal\n",
    "dtype, device = torch.float64, 'cpu'\n",
    "length = 4096\n",
    "\n",
    "# Set test signal (two components)\n",
    "signal = torch.zeros(length, dtype=dtype, device=device)\n",
    "signal += 1.0*torch.sin(2.0*numpy.pi*0.120*torch.linspace(0, length, length, dtype=dtype, device=device))\n",
    "signal += 0.1*torch.sin(2.0*numpy.pi*0.125*torch.linspace(0, length, length, dtype=dtype, device=device))\n",
    "\n",
    "# Set frequency grid\n",
    "grid = torch.fft.rfftfreq(length, dtype=dtype, device=device)\n",
    "\n",
    "# Set window\n",
    "w = Window.from_cosine(length, 2.0, dtype=dtype, device=device)\n",
    "print(w)\n",
    "\n",
    "# Plot\n",
    "plt.figure(figsize=(10, 5))\n",
    "plt.xlim(0.10, 0.15)\n",
    "plt.scatter(grid.detach().cpu(), torch.log10(torch.abs(torch.fft.rfft(signal))).detach().cpu(), c='r', s=0.1)\n",
    "plt.scatter(grid.detach().cpu(), torch.log10(torch.abs(torch.fft.rfft(signal*w.data))).detach().cpu(), c='b', s=0.1),\n",
    "plt.show()\n",
    "    \n",
    "# Compute parameters with known frequency using convolution without and with window\n",
    "\n",
    "# Set window \n",
    "w = Window.from_cosine(length, 4.0, dtype=dtype, device=device)\n",
    "print(w)\n",
    "\n",
    "# Set time\n",
    "t = torch.linspace(0, length, length, dtype=dtype, device=device)\n",
    "\n",
    "# Compute s-amplitude without and with window\n",
    "print(2.0*torch.dot(signal, torch.sin(2.0*numpy.pi*0.120*t))/len(w))\n",
    "print(2.0*torch.dot(signal*w.data, torch.sin(2.0*numpy.pi*0.120*t))/w.total)"
   ]
  },
  {
   "cell_type": "code",
   "execution_count": null,
   "id": "d965b534",
   "metadata": {
    "hidden": true
   },
   "outputs": [],
   "source": []
  }
 ],
 "metadata": {
  "kernelspec": {
   "display_name": "Python 3 (ipykernel)",
   "language": "python",
   "name": "python3"
  },
  "language_info": {
   "codemirror_mode": {
    "name": "ipython",
    "version": 3
   },
   "file_extension": ".py",
   "mimetype": "text/x-python",
   "name": "python",
   "nbconvert_exporter": "python",
   "pygments_lexer": "ipython3",
   "version": "3.9.0"
  },
  "latex_envs": {
   "LaTeX_envs_menu_present": true,
   "autoclose": false,
   "autocomplete": true,
   "bibliofile": "biblio.bib",
   "cite_by": "apalike",
   "current_citInitial": 1,
   "eqLabelWithNumbers": true,
   "eqNumInitial": 1,
   "hotkeys": {
    "equation": "Ctrl-E",
    "itemize": "Ctrl-I"
   },
   "labels_anchors": false,
   "latex_user_defs": false,
   "report_style_numbering": false,
   "user_envs_cfg": false
  }
 },
 "nbformat": 4,
 "nbformat_minor": 5
}
