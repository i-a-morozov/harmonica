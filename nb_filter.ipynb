{
 "cells": [
  {
   "cell_type": "markdown",
   "id": "1045ae5b",
   "metadata": {},
   "source": [
    "## Filter - 1"
   ]
  },
  {
   "cell_type": "code",
   "execution_count": 2,
   "id": "f611e084",
   "metadata": {},
   "outputs": [
    {
     "name": "stdout",
     "output_type": "stream",
     "text": [
      "Python 3.8.10\n",
      "1.9.0+cpu\n",
      "False\n"
     ]
    }
   ],
   "source": [
    "!python3 --version\n",
    "import epics\n",
    "import numpy\n",
    "import pandas\n",
    "import torch\n",
    "\n",
    "from harmonica.window import Window\n",
    "from harmonica.data import Data\n",
    "from harmonica.frequency import Frequency\n",
    "\n",
    "torch.set_printoptions(precision=16, sci_mode=True)\n",
    "print(torch.__version__)\n",
    "print(torch.cuda.is_available())"
   ]
  },
  {
   "cell_type": "code",
   "execution_count": 98,
   "id": "93461ffb",
   "metadata": {},
   "outputs": [],
   "source": [
    "\"\"\"\n",
    "Filter & process TbT data.\n",
    "Noise estimation.\n",
    "\n",
    "\"\"\"\n",
    "class Filter():\n",
    "    \n",
    "    def __init__(self, data:'Data'=None) -> None:\n",
    "        self.data = data\n",
    "        \n",
    "        \n",
    "        self.sigma = None\n",
    "        self.rank = None\n",
    "        \n",
    "        \n",
    "    @staticmethod\n",
    "    @torch.jit.script\n",
    "    def make_matrix(signal:torch.Tensor) -> torch.Tensor:\n",
    "        \"\"\"\n",
    "        Compute matrix representation (Hankel matrix) for a given batch of signals.\n",
    "        If signal length is 2*n, output matrix shape is (n + 1, n).\n",
    "        \n",
    "        \"\"\"\n",
    "        size, length = signal.shape\n",
    "        length = length // 2\n",
    "        matrix = torch.zeros((size, length + 1, length), dtype=signal.dtype, device=signal.device)\n",
    "        for i in range(length + 1):\n",
    "            matrix[:, i].copy_(signal[:, i:i + length])\n",
    "        return matrix\n",
    "    \n",
    "    \n",
    "    @staticmethod\n",
    "    @torch.jit.script\n",
    "    def make_signal(matrix:torch.Tensor) -> torch.Tensor:\n",
    "        \"\"\"\n",
    "        Compute signal representation for a given batch of (Hankel) matrices.\n",
    "        If matrix shape is (n + 1, n), output signal length is 2*n.\n",
    "        \n",
    "        \"\"\"\n",
    "        matrix = torch.transpose(matrix, 1, 2).flip(1)\n",
    "        size, length, _ = matrix.shape\n",
    "        signal = torch.zeros((size, 2*length), dtype=matrix.dtype, device=matrix.device)\n",
    "        for i, j in enumerate(range(-length + 1, length + 1)):\n",
    "            signal[:, i] = torch.mean(torch.diagonal(matrix, dim1=1, dim2=2, offset=j), 1)\n",
    "        return signal\n",
    "    \n",
    "    \n",
    "    @staticmethod\n",
    "    @torch.jit.script\n",
    "    def sigma(matrix:torch.Tensor, cpu:bool=True) -> tuple:\n",
    "        \"\"\"\n",
    "        Estimate noise sigma and rank for a given batch of matrices.\n",
    "        \n",
    "        \"\"\"\n",
    "        size, m, n = matrix.shape\n",
    "        data = torch.linalg.svdvals(matrix.cpu() if cpu else matrix).to(matrix.device)\n",
    "        median = torch.median(data, dim=-1).values\n",
    "        beta = torch.tensor(min(m, n)/max(m, n), dtype=matrix.dtype, device=matrix.device)\n",
    "        omega = 0.56*beta**3 - 0.95*beta**2 + 1.82*beta + 1.43\n",
    "        psi = torch.sqrt(2*(beta + 1) + 8*beta/(beta + 1 + torch.sqrt(beta**2 + 14*beta + 1)))\n",
    "        tau = omega*median\n",
    "        factor = torch.sqrt(torch.tensor(max(m, n), dtype=matrix.dtype, device=matrix.device))\n",
    "        return tau/psi/factor, torch.sum((data - tau.reshape(-1, 1) > 0), 1)\n",
    "    \n",
    "    \n",
    "    @staticmethod\n",
    "    @torch.jit.script\n",
    "    def svd_val(matrix:torch.Tensor, cpu:bool=True) -> torch.Tensor:\n",
    "        \"\"\"\n",
    "        Compute singular values for a given batch of matrices.\n",
    "        \n",
    "        \"\"\"\n",
    "        return torch.linalg.svdvals(matrix.cpu() if cpu else matrix).to(matrix.device)\n",
    "    \n",
    "    \n",
    "    @staticmethod\n",
    "    @torch.jit.script\n",
    "    def svd_cut(rank:torch.Tensor, matrix:torch.Tensor, cpu:bool=True) -> torch.Tensor:\n",
    "        \"\"\"\n",
    "        Compute svd truncation for given list of ranks and a batch of matirices.\n",
    "        \n",
    "        \"\"\"\n",
    "        u, s, v = torch.linalg.svd(matrix.cpu() if cpu else matrix, full_matrices=False)\n",
    "        u.to(matrix.device)\n",
    "        s.to(matrix.device)\n",
    "        v.to(matrix.device)\n",
    "        for i, rank in enumerate(rank):\n",
    "            s[i, rank:] = 0.0\n",
    "        return torch.matmul(torch.matmul(u, torch.diag_embed(s)), v)\n",
    "    \n",
    "    \n",
    "    def noise(self, *, size:int=64, cpu:bool=True) -> None:\n",
    "        \"\"\"\n",
    "        Estimate noise sigma and rank for given TbT data.\n",
    "        \n",
    "        \"\"\"\n",
    "        self.sigma, self.rank = self.__class__.sigma(\n",
    "            self.__class__.make_matrix(self.data.data)[:, :size], cpu=cpu)\n",
    "        \n",
    "\n",
    "        \n",
    "    ####\n",
    "    #### Do separate methods for full TbT svd clean (given or optimal), hankel, rpca (full or individual), ica?\n",
    "    #### rpca + hankel (decomposition), hankel as decomposition?\n",
    "    #### decomposition and cleaning functions\n",
    "    \n",
    "    def clean(self, *, mode:str='SVD', rank:int=0) -> None:\n",
    "        \"\"\"\n",
    "        Perform TbT cleaning.\n",
    "        'SVD' -- SVD truncation of full TbT matrix for given rank (int)\n",
    "        \n",
    "        \"\"\"\n",
    "        # mode   -- all\n",
    "        # method -- svd, hankel, rpca, hankel+rpca, ica\n",
    "            \n",
    "    \n",
    "    \n",
    "    \n",
    "win = Window(512, dtype=torch.float64, device='cpu')\n",
    "tim = torch.linspace(1, len(win), len(win), dtype=win.dtype, device=win.device)\n",
    "dat = torch.stack([torch.sin(2*numpy.pi*0.12*tim) + 0.1*torch.sin(2*numpy.pi*2*0.12*tim) for _ in range(64)])\n",
    "std = 0.001\n",
    "err = std*torch.randn(len(win), dtype=win.dtype, device=win.device)\n",
    "dat += err\n",
    "tbt = Data.from_tensor(win, dat)\n",
    "fil = Filter(tbt)\n",
    "fil.noise()"
   ]
  },
  {
   "cell_type": "code",
   "execution_count": 138,
   "id": "instructional-trace",
   "metadata": {},
   "outputs": [
    {
     "name": "stdout",
     "output_type": "stream",
     "text": [
      "tensor(1.5836897492474352e-02, dtype=torch.float64)\n"
     ]
    }
   ],
   "source": []
  },
  {
   "cell_type": "code",
   "execution_count": 64,
   "id": "a3e90b02",
   "metadata": {},
   "outputs": [
    {
     "data": {
      "text/plain": [
       "tensor([2, 2, 2, 2])"
      ]
     },
     "execution_count": 64,
     "metadata": {},
     "output_type": "execute_result"
    }
   ],
   "source": [
    "res = Filter.svd_cut(torch.LongTensor([2, 4, 6, 8]), mat)\n",
    "torch.linalg.matrix_rank(res)"
   ]
  },
  {
   "cell_type": "code",
   "execution_count": 82,
   "id": "3abdce38",
   "metadata": {},
   "outputs": [
    {
     "name": "stdout",
     "output_type": "stream",
     "text": [
      "tensor(-9.9999999999989529e-04, dtype=torch.float64)\n",
      "tensor(19)\n",
      "CPU times: user 11.8 ms, sys: 3.98 ms, total: 15.8 ms\n",
      "Wall time: 10.5 ms\n"
     ]
    }
   ],
   "source": [
    "%%time\n",
    "out = Filter.sigma(mat[:, :64, :])\n",
    "print(out[0][0]-std)\n",
    "print(out[1][0])"
   ]
  },
  {
   "cell_type": "code",
   "execution_count": 37,
   "id": "7664ee8a",
   "metadata": {},
   "outputs": [],
   "source": [
    "win = Window(512, dtype=torch.float64, device='cpu')\n",
    "tim = torch.linspace(1, len(win), len(win), dtype=win.dtype, device=win.device)\n",
    "dat = torch.stack([torch.sin(2*numpy.pi*0.12*tim) + 0.1*torch.sin(2*numpy.pi*2*0.12*tim) for _ in range(4)])\n",
    "std = 0.001\n",
    "err = std*torch.randn(len(win), dtype=win.dtype, device=win.device)\n",
    "dat += err\n",
    "mat = Filter.make_matrix(dat)\n",
    "sig = Filter.make_signal(mat)"
   ]
  },
  {
   "cell_type": "code",
   "execution_count": null,
   "id": "2b42cbe7",
   "metadata": {},
   "outputs": [],
   "source": [
    "# svd value\n",
    "# svd truncation (optimal)\n",
    "# filter"
   ]
  },
  {
   "cell_type": "code",
   "execution_count": null,
   "id": "97ed7de7",
   "metadata": {},
   "outputs": [],
   "source": [
    "win = Window(512, dtype=torch.float64, device='cuda')\n",
    "tim = torch.linspace(1, len(win), len(win), dtype=win.dtype, device=win.device)\n",
    "dat = torch.stack([torch.sin(2*numpy.pi*0.12*tim) + 0.1*torch.sin(2*numpy.pi*2*0.12*tim) for _ in range(64)])\n",
    "err = torch.randn(len(win), dtype=win.dtype, device=win.device)\n",
    "dat += err\n",
    "dat.device"
   ]
  },
  {
   "cell_type": "code",
   "execution_count": null,
   "id": "fafc7100",
   "metadata": {},
   "outputs": [],
   "source": [
    "torch.cuda.empty_cache()"
   ]
  },
  {
   "cell_type": "code",
   "execution_count": 175,
   "id": "novel-building",
   "metadata": {},
   "outputs": [],
   "source": [
    "win = Window(1024, dtype=torch.float64, device='cpu')\n",
    "tim = torch.linspace(1, len(win), len(win), dtype=win.dtype, device=win.device)\n",
    "dat = torch.stack([torch.sin(2*numpy.pi*0.12*tim) + 0.1*torch.sin(2*numpy.pi*2*0.12*tim) for _ in range(4)])\n",
    "std = 0.01\n",
    "err = std*torch.randn(len(win), dtype=win.dtype, device=win.device)\n",
    "dat += err\n",
    "mat = Filter.make_matrix(dat)\n",
    "mat = Filter.svd_cut(torch.LongTensor([2, 2, 2, 2]), mat)\n",
    "sig = Filter.make_signal(mat)"
   ]
  },
  {
   "cell_type": "code",
   "execution_count": 68,
   "id": "trained-montana",
   "metadata": {},
   "outputs": [
    {
     "data": {
      "image/png": "[encoded data removed]",
      "text/plain": [
       "<Figure size 432x288 with 1 Axes>"
      ]
     },
     "metadata": {
      "needs_background": "light"
     },
     "output_type": "display_data"
    },
    {
     "data": {
      "image/png": "[encoded data removed]",
      "text/plain": [
       "<Figure size 432x288 with 1 Axes>"
      ]
     },
     "metadata": {
      "needs_background": "light"
     },
     "output_type": "display_data"
    }
   ],
   "source": [
    "import matplotlib.pyplot as plt\n",
    "plt.scatter(tim, dat[0], c='r')\n",
    "plt.scatter(tim, sig[0], c='b')\n",
    "plt.show()\n",
    "\n",
    "plt.scatter(torch.fft.rfftfreq(win.length), torch.log10(torch.abs(torch.fft.rfft(dat[0]))), c='r')\n",
    "plt.scatter(torch.fft.rfftfreq(win.length), torch.log10(torch.abs(torch.fft.rfft(sig[0]))), c='b')\n",
    "plt.show()"
   ]
  },
  {
   "cell_type": "code",
   "execution_count": 204,
   "id": "simple-float",
   "metadata": {},
   "outputs": [
    {
     "data": {
      "image/png": "[encoded data removed]",
      "text/plain": [
       "<Figure size 432x288 with 1 Axes>"
      ]
     },
     "metadata": {
      "needs_background": "light"
     },
     "output_type": "display_data"
    },
    {
     "data": {
      "image/png": "[encoded data removed]",
      "text/plain": [
       "<Figure size 432x288 with 1 Axes>"
      ]
     },
     "metadata": {
      "needs_background": "light"
     },
     "output_type": "display_data"
    }
   ],
   "source": [
    "from sklearn.decomposition import FastICA\n",
    "X = mat[1]\n",
    "ica = FastICA(n_components=4)\n",
    "S_ = ica.fit_transform(X)  # Reconstruct signals\n",
    "A_ = ica.mixing_           # Get estimated mixing matrix\n",
    "tmp = np.dot(S_, A_.T) + ica.mean_\n",
    "tmp = Filter.make_signal(torch.tensor([tmp]))[0]\n",
    "\n",
    "plt.scatter(tim, dat[0], c='r')\n",
    "plt.scatter(tim, tmp, c='b')\n",
    "plt.show()\n",
    "\n",
    "plt.scatter(torch.fft.rfftfreq(win.length), torch.log10(torch.abs(torch.fft.rfft(dat[1]))), c='r')\n",
    "plt.scatter(torch.fft.rfftfreq(win.length), torch.log10(torch.abs(torch.fft.rfft(tmp))), c='b')\n",
    "plt.show()"
   ]
  },
  {
   "cell_type": "markdown",
   "id": "107e8d95",
   "metadata": {
    "heading_collapsed": true
   },
   "source": [
    "## Filter - 0"
   ]
  },
  {
   "cell_type": "code",
   "execution_count": null,
   "id": "bdb1d346",
   "metadata": {
    "hidden": true
   },
   "outputs": [],
   "source": [
    "import epics\n",
    "import numpy\n",
    "import pandas\n",
    "import torch\n",
    "\n",
    "from harmonica.window import Window\n",
    "from harmonica.data import Data\n",
    "from harmonica.frequency import Frequency\n",
    "\n",
    "torch.set_printoptions(precision=16, sci_mode=True)\n",
    "torch.cuda.is_available()"
   ]
  },
  {
   "cell_type": "code",
   "execution_count": null,
   "id": "8a7a550f",
   "metadata": {
    "hidden": true
   },
   "outputs": [],
   "source": [
    "pv_list = [\"VEPP4:STP2:turns_x-I\", \"VEPP4:STP4:turns_x-I\", \"VEPP4:SRP1:turns_x-I\", \"VEPP4:SRP2:turns_x-I\", \"VEPP4:SRP3:turns_x-I\", \"VEPP4:SRP4:turns_x-I\", \"VEPP4:SRP5:turns_x-I\", \"VEPP4:SRP6:turns_x-I\", \"VEPP4:SRP7:turns_x-I\", \"VEPP4:SRP8:turns_x-I\", \"VEPP4:SRP9:turns_x-I\", \"VEPP4:SIP1:turns_x-I\", \"VEPP4:SIP2:turns_x-I\", \"VEPP4:SRP10:turns_x-I\", \"VEPP4:SRP11:turns_x-I\", \"VEPP4:SRP12:turns_x-I\", \"VEPP4:SRP13:turns_x-I\", \"VEPP4:SRP14:turns_x-I\", \"VEPP4:SRP15:turns_x-I\", \"VEPP4:SRP16:turns_x-I\", \"VEPP4:SRP17:turns_x-I\", \"VEPP4:SEP5:turns_x-I\", \"VEPP4:SEP4:turns_x-I\", \"VEPP4:SEP3:turns_x-I\", \"VEPP4:SEP1:turns_x-I\", \"VEPP4:SEP0:turns_x-I\", \"VEPP4:NEP0:turns_x-I\", \"VEPP4:NEP1:turns_x-I\", \"VEPP4:NEP3:turns_x-I\", \"VEPP4:NEP4:turns_x-I\", \"VEPP4:NEP5:turns_x-I\", \"VEPP4:NRP17:turns_x-I\", \"VEPP4:NRP16:turns_x-I\", \"VEPP4:NRP15:turns_x-I\", \"VEPP4:NRP14:turns_x-I\", \"VEPP4:NRP13:turns_x-I\", \"VEPP4:NRP12:turns_x-I\", \"VEPP4:NRP11:turns_x-I\", \"VEPP4:NRP10:turns_x-I\", \"VEPP4:NIP3:turns_x-I\", \"VEPP4:NIP1:turns_x-I\", \"VEPP4:NRP9:turns_x-I\", \"VEPP4:NRP8:turns_x-I\", \"VEPP4:NRP7:turns_x-I\", \"VEPP4:NRP6:turns_x-I\", \"VEPP4:NRP5:turns_x-I\", \"VEPP4:NRP4:turns_x-I\", \"VEPP4:NRP3:turns_x-I\", \"VEPP4:NRP2:turns_x-I\", \"VEPP4:NRP1:turns_x-I\", \"VEPP4:NTP4:turns_x-I\", \"VEPP4:NTP2:turns_x-I\", \"VEPP4:NTP0:turns_x-I\", \"VEPP4:STP0:turns_x-I\"]\n",
    "pv_rise = [0 for _ in range(len(pv_list))]\n",
    "\n",
    "win = Window(1024, dtype=torch.float64, device='cpu')\n",
    "tbt = Data.from_epics(54, win, pv_list, pv_rise)"
   ]
  },
  {
   "cell_type": "code",
   "execution_count": null,
   "id": "10e1813e",
   "metadata": {
    "hidden": true
   },
   "outputs": [],
   "source": [
    "\"\"\"\n",
    "Filter & process TbT data\n",
    "\n",
    "\"\"\"\n",
    "class Filter():\n",
    "    \n",
    "    def __init__(self, data:'Data'=None) -> None:\n",
    "        self.data = data\n",
    "    \n",
    "    \n",
    "#     @staticmethod\n",
    "#     @torch.jit.script\n",
    "#     def make_matrix(signal:torch.Tensor) -> torch.Tensor:\n",
    "#         size, length = signal.shape\n",
    "#         length = length // 2\n",
    "#         matrix = torch.zeros((size, length + 1, length), dtype=signal.dtype, device=signal.device)\n",
    "#         for i in range(length + 1):\n",
    "#             matrix[:, i].copy_(signal[:, i:i + length])\n",
    "#         return matrix\n",
    "\n",
    "    @staticmethod\n",
    "    @torch.jit.script\n",
    "    def make_matrix(signal:torch.Tensor) -> torch.Tensor:\n",
    "        size, length = signal.shape\n",
    "        length = length // 2\n",
    "        matrix = torch.zeros((size, length, length), dtype=signal.dtype, device=signal.device)\n",
    "        for i in range(length):\n",
    "            matrix[:, i].copy_(signal[:, i:i + length])\n",
    "        return matrix\n",
    "    \n",
    "    \n",
    "    @staticmethod\n",
    "    @torch.jit.script\n",
    "    def make_signal(matrix:torch.Tensor) -> torch.Tensor:\n",
    "        matrix = torch.transpose(matrix, 1, 2).flip(1)\n",
    "        size, length, _ = matrix.shape\n",
    "        signal = torch.zeros((size, 2*length), dtype=matrix.dtype, device=matrix.device)\n",
    "        for i, j in enumerate(range(-length + 1, length + 1)):\n",
    "            signal[:, i] = torch.mean(torch.diagonal(matrix, dim1=1, dim2=2, offset=j), 1)\n",
    "        return signal\n",
    "    \n",
    "    \n",
    "    @staticmethod\n",
    "    @torch.jit.script\n",
    "    def svd_list(count:int, matrix:torch.Tensor) -> torch.Tensor:\n",
    "        u, s, v = torch.linalg.svd(matrix)\n",
    "        size, length = s.shape\n",
    "        return s[:, :min(count, length)]\n",
    "    \n",
    "    \n",
    "    @staticmethod\n",
    "    @torch.jit.script\n",
    "    def svd_truncate(count:int, matrix:torch.Tensor) -> torch.Tensor:\n",
    "        u, s, v = torch.linalg.svd(matrix, full_matrices=False)\n",
    "        u = u[:, :, :count]\n",
    "        s = torch.diag_embed(s[:, :count])\n",
    "        v = v[:, :count, :]\n",
    "        return torch.matmul(torch.matmul(u,s), v)\n",
    "    \n",
    "    # no need for static? sure no need to jit\n",
    "    @staticmethod\n",
    "    def svd_optimal(matrix:torch.Tensor) -> torch.Tensor:\n",
    "        size, nr, nc = matrix.shape\n",
    "        data = Filter.svd_list(min(nr, nc), matrix)\n",
    "        median, _ = torch.median(data, 1)\n",
    "        beta = min(nr/nc, nc/nr)\n",
    "        lamb = numpy.sqrt(2*(beta+1) + 8*beta/(beta + 1 + numpy.sqrt(beta**2 + 14*beta + 1)))\n",
    "        omega = 0.56*beta**3 - 0.95*beta**2 + 1.82*beta + 1.43\n",
    "        tau = omega*median\n",
    "#         print('nr', 1-tau/lamb/numpy.sqrt(nr))\n",
    "#         print('nc', 1-tau/lamb/numpy.sqrt(nc))\n",
    "        return tau/lamb/numpy.sqrt(nr)"
   ]
  },
  {
   "cell_type": "code",
   "execution_count": null,
   "id": "7c1ae0b7",
   "metadata": {
    "hidden": true
   },
   "outputs": [],
   "source": [
    "win = Window(512, dtype=torch.float64, device='cuda')\n",
    "tim = torch.linspace(1, len(win), len(win), dtype=win.dtype, device=win.device)\n",
    "dat = torch.stack([torch.sin(2*numpy.pi*0.12*tim) + 0.1*torch.sin(2*numpy.pi*2*0.12*tim) for _ in range(64)])\n",
    "err = torch.randn(len(win), dtype=win.dtype, device=win.device)\n",
    "dat += err\n",
    "dat.device"
   ]
  },
  {
   "cell_type": "code",
   "execution_count": null,
   "id": "522af4b4",
   "metadata": {
    "hidden": true
   },
   "outputs": [],
   "source": [
    "%%time\n",
    "mat = Filter.make_matrix(dat)\n",
    "print(mat.shape)\n",
    "print(mat.device)\n",
    "res = torch.linalg.svd(mat)"
   ]
  },
  {
   "cell_type": "code",
   "execution_count": null,
   "id": "ff1ff455",
   "metadata": {
    "hidden": true
   },
   "outputs": [],
   "source": [
    "torch.__version__"
   ]
  },
  {
   "cell_type": "code",
   "execution_count": null,
   "id": "471d956c",
   "metadata": {
    "hidden": true
   },
   "outputs": [],
   "source": [
    "torch.cuda.empty_cache()"
   ]
  },
  {
   "cell_type": "code",
   "execution_count": null,
   "id": "d5a12a82",
   "metadata": {
    "hidden": true
   },
   "outputs": [],
   "source": [
    "!python --version"
   ]
  },
  {
   "cell_type": "code",
   "execution_count": null,
   "id": "f0cc5a54",
   "metadata": {
    "hidden": true
   },
   "outputs": [],
   "source": [
    "# S$OPTIMAL$SVD$TRUNCATION[           (* -- OPTIMAL SVD TRUNCATION *)\n",
    "#   MATRIX_?MatrixQ                   (* -- MATRIX WITH M < N *)\n",
    "# ] := Block[\n",
    "#   {NR, NC, LIST, MEDIAN, BETA, LAMBDA, OMEGA, TAU},\n",
    "#   {NR, NC} = Dimensions[MATRIX] ;\n",
    "#   LIST = SingularValueList[MATRIX, Min[{NR, NC}]] ;\n",
    "#   MEDIAN = Median[LIST] ;\n",
    "#   BETA = N[Apply[Divide, Sort[{NR, NC}]]] ;\n",
    "#   LAMBDA = Sqrt[2*(BETA + 1) + 8*BETA/(BETA + 1 + Sqrt[BETA^2 + 14*BETA + 1])] ;\n",
    "#   OMEGA = 0.56*BETA^3 - 0.95*BETA^2 + 1.82*BETA + 1.43 ;\n",
    "#   TAU = OMEGA*MEDIAN ;\n",
    "#   {Length[DeleteCases[Ramp[Subtract[LIST, TAU]], N[0]]], TAU, TAU/LAMBDA/Sqrt[N[NC]]}\n",
    "# ] ;"
   ]
  },
  {
   "cell_type": "code",
   "execution_count": null,
   "id": "7584d6ea",
   "metadata": {
    "hidden": true
   },
   "outputs": [],
   "source": []
  },
  {
   "cell_type": "code",
   "execution_count": null,
   "id": "bd510136",
   "metadata": {
    "hidden": true
   },
   "outputs": [],
   "source": []
  },
  {
   "cell_type": "code",
   "execution_count": null,
   "id": "c5097263",
   "metadata": {
    "hidden": true,
    "scrolled": true
   },
   "outputs": [],
   "source": [
    "import matplotlib.pyplot as plt\n",
    "mat = Filter.make_matrix(dat)\n",
    "mat = Filter.svd_truncate(2, mat)\n",
    "sig = Filter.make_signal(mat)\n",
    "sig = sig[0]\n",
    "fou = torch.abs(torch.fft.rfft(sig))\n",
    "fre = torch.fft.rfftfreq(len(sig))\n",
    "plt.figure(figsize=(10, 5))\n",
    "plt.scatter(fre, fou)\n",
    "plt.show()"
   ]
  },
  {
   "cell_type": "code",
   "execution_count": null,
   "id": "0b4810f0",
   "metadata": {
    "hidden": true
   },
   "outputs": [],
   "source": [
    "import matplotlib.pyplot as plt\n",
    "mat = Filter.make_matrix(dat)\n",
    "mat = Filter.svd_truncate(4, mat)\n",
    "sig = Filter.make_signal(mat)\n",
    "sig = sig[0]\n",
    "fou = torch.abs(torch.fft.rfft(sig))\n",
    "fre = torch.fft.rfftfreq(len(sig))\n",
    "plt.figure(figsize=(10, 5))\n",
    "plt.scatter(fre, fou)\n",
    "plt.show()"
   ]
  },
  {
   "cell_type": "code",
   "execution_count": null,
   "id": "1341a20d",
   "metadata": {
    "hidden": true
   },
   "outputs": [],
   "source": [
    "# from sklearn.decomposition import FastICA\n",
    "# transformer = FastICA(n_components=len(mat[0]), random_state=0)\n",
    "# # x = transformer.fit_transform(mat[0].numpy())\n",
    "# len(mat[0])"
   ]
  },
  {
   "cell_type": "code",
   "execution_count": null,
   "id": "8c20387d",
   "metadata": {
    "hidden": true
   },
   "outputs": [],
   "source": [
    "# >>> from sklearn.datasets import load_digits\n",
    "# >>> from sklearn.decomposition import FastICA\n",
    "# >>> X, _ = load_digits(return_X_y=True)\n",
    "# >>> transformer = FastICA(n_components=7,\n",
    "# ...         random_state=0)\n",
    "# >>> X_transformed = transformer.fit_transform(X)\n",
    "# >>> X_transformed.shape\n",
    "# (1797, 7)"
   ]
  },
  {
   "cell_type": "code",
   "execution_count": null,
   "id": "12e24822",
   "metadata": {
    "hidden": true
   },
   "outputs": [],
   "source": [
    "    \n",
    "#     @staticmethod\n",
    "#     @torch.jit.script\n",
    "#     def svd_list\n",
    "\n",
    "#     def svd\n",
    "\n",
    "#     def make_matrix\n",
    "#     def make_signal\n",
    "\n",
    "#     def svd_optimal"
   ]
  },
  {
   "cell_type": "markdown",
   "id": "182e708d",
   "metadata": {
    "heading_collapsed": true,
    "id": "eTuGZt-gXDRc"
   },
   "source": [
    "## Frequency"
   ]
  },
  {
   "cell_type": "code",
   "execution_count": null,
   "id": "694ca311",
   "metadata": {
    "colab": {
     "base_uri": "https://localhost:8080/"
    },
    "executionInfo": {
     "elapsed": 288,
     "status": "ok",
     "timestamp": 1634043394257,
     "user": {
      "displayName": "Ivan Morozov",
      "photoUrl": "https://lh3.googleusercontent.com/a/default-user=s64",
      "userId": "01505246621606466427"
     },
     "user_tz": -420
    },
    "hidden": true,
    "id": "-XncPEzMX4ga",
    "outputId": "6a33d4e7-e8cd-45a4-abcc-66617ca5f25d"
   },
   "outputs": [],
   "source": [
    "import epics\n",
    "import numpy\n",
    "import pandas\n",
    "import torch\n",
    "\n",
    "from harmonica.window import Window\n",
    "from harmonica.data import Data\n",
    "from harmonica.frequency import Frequency\n",
    "\n",
    "torch.set_printoptions(precision=12, sci_mode=True)\n",
    "torch.cuda.is_available()"
   ]
  },
  {
   "cell_type": "code",
   "execution_count": null,
   "id": "9e88aabd",
   "metadata": {
    "colab": {
     "base_uri": "https://localhost:8080/",
     "height": 320
    },
    "executionInfo": {
     "elapsed": 386,
     "status": "ok",
     "timestamp": 1634042420037,
     "user": {
      "displayName": "Ivan Morozov",
      "photoUrl": "https://lh3.googleusercontent.com/a/default-user=s64",
      "userId": "01505246621606466427"
     },
     "user_tz": -420
    },
    "hidden": true,
    "id": "2Frzu3yu_rVx",
    "outputId": "f8360a62-0672-4f74-bf2c-6cd37cb57afa"
   },
   "outputs": [],
   "source": [
    "# Example-01: FFT amplitude spectrum\n",
    "\n",
    "# Set parameters\n",
    "dtype, device = torch.float64, 'cpu'\n",
    "size, length = 64, 1024\n",
    "\n",
    "# Set window\n",
    "win = Window.from_cosine(length, order=1.0, dtype=dtype, device=device)\n",
    "\n",
    "# Set TbT data\n",
    "time = torch.linspace(1.0, length, length, dtype=dtype)\n",
    "data = torch.stack([i*torch.sin(2.0*numpy.pi*1*0.12*time) + 0.01*i*torch.sin(2.0*numpy.pi*2*0.12*time) for i in range(1, size + 1)])\n",
    "tbt = Data.from_tensor(win, data)\n",
    "\n",
    "# Initialize Frequency instance\n",
    "f = Frequency(tbt)\n",
    "\n",
    "# Apply window\n",
    "f.data.window_apply()\n",
    "\n",
    "# FFT frequencies are stored in fft_grid (computed on initialization)\n",
    "# FFT spectrum amplitudes are stored in fft_spectrum for each signal\n",
    "\n",
    "# Compute FFT amplitude spectrum\n",
    "f.fft_get_spectrum()\n",
    "\n",
    "# Reset TbT work\n",
    "f.data.reset()\n",
    "\n",
    "# Plot FFT spectrum for given signal id\n",
    "idx = 0\n",
    "import matplotlib.pyplot as plt\n",
    "plt.figure(figsize=(10,5))\n",
    "plt.scatter(f.fft_grid.cpu(), torch.log10(f.fft_spectrum[idx].cpu()), s=0.5, c='b')\n",
    "plt.xlim(0.1, 0.3)\n",
    "plt.show()"
   ]
  },
  {
   "cell_type": "code",
   "execution_count": null,
   "id": "93679282",
   "metadata": {
    "colab": {
     "base_uri": "https://localhost:8080/",
     "height": 320
    },
    "executionInfo": {
     "elapsed": 576,
     "status": "ok",
     "timestamp": 1634042433280,
     "user": {
      "displayName": "Ivan Morozov",
      "photoUrl": "https://lh3.googleusercontent.com/a/default-user=s64",
      "userId": "01505246621606466427"
     },
     "user_tz": -420
    },
    "hidden": true,
    "id": "c6NYerz__rOv",
    "outputId": "99f6476a-2f09-4324-8913-155d6b7191e1"
   },
   "outputs": [],
   "source": [
    "# Example-02: FFT amplitude spectrum & zero padding\n",
    "\n",
    "# Set parameters\n",
    "dtype, device = torch.float64, 'cpu'\n",
    "size, length = 64, 1024\n",
    "\n",
    "# Set window\n",
    "win = Window.from_cosine(length, order=1.0, dtype=dtype, device=device)\n",
    "\n",
    "# Set data\n",
    "time = torch.linspace(1.0, length, length, dtype=dtype)\n",
    "data = torch.stack([i*torch.sin(2.0*numpy.pi*1*0.12*time) + 0.01*i*torch.sin(2.0*numpy.pi*2*0.12*time) for i in range(1, size + 1)])\n",
    "tbt = Data.from_tensor(win, data)\n",
    "\n",
    "# If pad == 0, it is set to signal length\n",
    "# Spectrum is computed using torch.fft.rfft(..., n=pad)\n",
    "# Padding can be used to interpolate DTFT spectrum in all frequency range\n",
    "# This improves frequency estimation accuracy (assuming frequency corresponds to max of the largest FFT spectrum amplitude peak)\n",
    "# Can be used to obtain a better initial guess, if signal has several frequencies with close amplitudes\n",
    "\n",
    "# Initialize Frequency instances with and without padding\n",
    "f1 = Frequency(tbt, pad=length*2**4)\n",
    "f2 = Frequency(tbt, pad=length*2**0)\n",
    "\n",
    "# Apply window to data\n",
    "f1.data.window_apply()\n",
    "f2.data.window_apply()\n",
    "\n",
    "# Compute FFT amplitude spectrum\n",
    "f1.fft_get_spectrum()\n",
    "f2.fft_get_spectrum()\n",
    "\n",
    "# Reset TbT work\n",
    "f1.data.reset()\n",
    "f2.data.reset()\n",
    "\n",
    "# Plot (log10) FFT spectrum for given signal id\n",
    "idx = 0\n",
    "import matplotlib.pyplot as plt\n",
    "plt.figure(figsize=(10,5))\n",
    "plt.scatter(f1.fft_grid.detach().cpu(), torch.log10(f1.fft_spectrum[idx].detach().cpu()), s=0.5, c='r')\n",
    "plt.scatter(f2.fft_grid.detach().cpu(), torch.log10(f2.fft_spectrum[idx].detach().cpu()), s=5.0, c='b')\n",
    "plt.xlim(0.12 - 0.01, 0.12 + 0.01)\n",
    "plt.show()"
   ]
  },
  {
   "cell_type": "code",
   "execution_count": null,
   "id": "247e6414",
   "metadata": {
    "colab": {
     "base_uri": "https://localhost:8080/"
    },
    "executionInfo": {
     "elapsed": 257,
     "status": "ok",
     "timestamp": 1634042442884,
     "user": {
      "displayName": "Ivan Morozov",
      "photoUrl": "https://lh3.googleusercontent.com/a/default-user=s64",
      "userId": "01505246621606466427"
     },
     "user_tz": -420
    },
    "hidden": true,
    "id": "mLWyoygI_rMG",
    "outputId": "7a34e19f-d06f-4473-b3cc-269ac7f87751"
   },
   "outputs": [],
   "source": [
    "# Example-03: FFT frequency estimation & zero padding\n",
    "\n",
    "# FFT frequency estimation is based on location of max bin in the amplitude spectum\n",
    "\n",
    "# Set parameters\n",
    "dtype, device = torch.float64, 'cpu'\n",
    "size, length = 64, 1024\n",
    "\n",
    "# Set window\n",
    "win = Window.from_cosine(length, order=1.0, dtype=dtype, device=device)\n",
    "\n",
    "# Set data\n",
    "time = torch.linspace(1.0, length, length, dtype=dtype)\n",
    "data = torch.stack([i*torch.sin(2.0*numpy.pi*1*0.12*time) + 0.01*i*torch.sin(2.0*numpy.pi*2*0.12*time) for i in range(1, size + 1)])\n",
    "tbt = Data.from_tensor(win, data)\n",
    "\n",
    "# Initialize Frequency instances with and without padding\n",
    "f1 = Frequency(tbt, pad=length*2**4)\n",
    "f2 = Frequency(tbt, pad=length*2**0)\n",
    "\n",
    "# Estimate frequency\n",
    "f1('fft')\n",
    "f2('fft')\n",
    "\n",
    "# Compare results\n",
    "print(torch.min(f1.frequency - 0.12))\n",
    "print(torch.min(f2.frequency - 0.12))"
   ]
  },
  {
   "cell_type": "code",
   "execution_count": null,
   "id": "db2f7206",
   "metadata": {
    "colab": {
     "base_uri": "https://localhost:8080/"
    },
    "executionInfo": {
     "elapsed": 408,
     "status": "ok",
     "timestamp": 1634042494996,
     "user": {
      "displayName": "Ivan Morozov",
      "photoUrl": "https://lh3.googleusercontent.com/a/default-user=s64",
      "userId": "01505246621606466427"
     },
     "user_tz": -420
    },
    "hidden": true,
    "id": "5-o3px8S_rJu",
    "outputId": "1bedf7e9-132d-4fa1-e1f3-49842ba6380a"
   },
   "outputs": [],
   "source": [
    "# Example-04: FFT frequency estimation & zero padding for given range\n",
    "\n",
    "# Set parameters\n",
    "dtype, device = torch.float64, 'cpu'\n",
    "size, length = 64, 1024\n",
    "\n",
    "# Set window\n",
    "win = Window.from_cosine(length, order=1.0, dtype=dtype, device=device)\n",
    "\n",
    "# Set data\n",
    "time = torch.linspace(1.0, length, length, dtype=dtype)\n",
    "data = torch.stack([i*torch.sin(2.0*numpy.pi*1*0.12*time) + 0.01*i*torch.sin(2.0*numpy.pi*2*0.12*time) for i in range(1, size + 1)])\n",
    "tbt = Data.from_tensor(win, data)\n",
    "\n",
    "# Initialize Frequency instances with and without padding\n",
    "f1 = Frequency(tbt, pad=length*2**4)\n",
    "f2 = Frequency(tbt, pad=length*2**0)\n",
    "\n",
    "# By default FFT frequency estimation is performed using (0.0, 0.5) frequency range.\n",
    "# Explicit range can be passed.\n",
    "\n",
    "# Estimate frequency for explicit frequency range\n",
    "f1('fft', f_range=(0.2, 0.25))\n",
    "f2('fft', f_range=(0.2, 0.25))\n",
    "\n",
    "# Compare results\n",
    "print(torch.min(f1.frequency - 0.24))\n",
    "print(torch.min(f2.frequency - 0.24))"
   ]
  },
  {
   "cell_type": "code",
   "execution_count": null,
   "id": "b1085cb0",
   "metadata": {
    "colab": {
     "base_uri": "https://localhost:8080/",
     "height": 658
    },
    "executionInfo": {
     "elapsed": 936,
     "status": "ok",
     "timestamp": 1634042514276,
     "user": {
      "displayName": "Ivan Morozov",
      "photoUrl": "https://lh3.googleusercontent.com/a/default-user=s64",
      "userId": "01505246621606466427"
     },
     "user_tz": -420
    },
    "hidden": true,
    "id": "cUf2LWcC_rBM",
    "outputId": "a2d20452-714c-459e-d785-95cf80eb6df7"
   },
   "outputs": [],
   "source": [
    "# Example-05: FFRFT amplitude spectrum\n",
    "\n",
    "# FFRFT can be used for local DTFT spectrum interpolation\n",
    "\n",
    "# Set parameters\n",
    "dtype, device = torch.float64, 'cpu'\n",
    "size, length = 64, 1024\n",
    "\n",
    "# Set window\n",
    "win = Window.from_cosine(length, order=1.0, dtype=dtype, device=device)\n",
    "\n",
    "# Set data\n",
    "time = torch.linspace(1.0, length, length, dtype=dtype)\n",
    "data = torch.stack([i*torch.sin(2.0*numpy.pi*1*0.12*time) + 0.01*i*torch.sin(2.0*numpy.pi*2*0.12*time) for i in range(1, size + 1)])\n",
    "tbt = Data.from_tensor(win, data)\n",
    "\n",
    "# Initialize Frequency instance\n",
    "f = Frequency(tbt)\n",
    "\n",
    "# Apply window to data\n",
    "f.data.window_apply()\n",
    "\n",
    "# Compute FFT amplitude spectrum\n",
    "f.fft_get_spectrum()\n",
    "\n",
    "# By default for FFRFT spectrum, FFT frequency estimation is used\n",
    "# And frequency range is equal to 2 FFT bins\n",
    "# This can be changed by setting fraction parameter on initialization\n",
    "# Or by setting ffrft_span attibute directry after initialization.\n",
    "# Use default value.\n",
    "f.ffrft_span = 2.0/f.length\n",
    "\n",
    "# If ffrft_flag is False, ffrft_initialize_spectrum is invoked\n",
    "# ffrft_flag flag is set to True, futher calls do not reinitialize FFRFT\n",
    "\n",
    "# Compute FFT frequency estimation (used to define FFRFT frequency range)\n",
    "f.fft_get_frequency()\n",
    "\n",
    "# Compute FFRFT amplitude spectrum\n",
    "f.ffrft_get_spectrum()\n",
    "\n",
    "# Note, last point is not included\n",
    "print(f.ffrft_get_grid(0)[[0,-1]])\n",
    "\n",
    "# Plot (log10) FFT spectrum for given signal id\n",
    "idx = 0\n",
    "import matplotlib.pyplot as plt\n",
    "plt.figure(figsize=(10,5))\n",
    "plt.scatter(f.ffrft_get_grid(idx).cpu(), torch.log10(f.ffrft_spectrum[idx].cpu()), s=0.5, c='r')\n",
    "plt.scatter(f.fft_grid.cpu(), torch.log10(f.fft_spectrum[idx].cpu()), s=5.0, c='b')\n",
    "plt.xlim(0.12 - 0.01, 0.12 + 0.01)\n",
    "plt.show()\n",
    "\n",
    "# FFRFT can be used with custom range\n",
    "# In this case all signals share this range, while for the default case, each signal range is defined by its FFT frequency\n",
    "# In all cases range length is the same for all signals\n",
    "\n",
    "# Compute FFRFT amplitude spectrum with custom range\n",
    "f.ffrft_get_spectrum(center=0.12, span=0.01)\n",
    "\n",
    "# Note, last point is not included\n",
    "print(f.ffrft_get_grid(0)[[0,-1]])\n",
    "\n",
    "# Plot (log10) FFT spectrum for given signal id\n",
    "idx = 0\n",
    "import matplotlib.pyplot as plt\n",
    "plt.figure(figsize=(10,5))\n",
    "plt.scatter(f.ffrft_get_grid(idx).cpu(), torch.log10(f.ffrft_spectrum[idx].cpu()), s=0.5, c='r')\n",
    "plt.scatter(f.fft_grid.cpu(), torch.log10(f.fft_spectrum[idx].cpu()), s=5.0, c='b')\n",
    "plt.xlim(0.12 - 0.01, 0.12 + 0.01)\n",
    "plt.show()"
   ]
  },
  {
   "cell_type": "code",
   "execution_count": null,
   "id": "4cb7bb52",
   "metadata": {
    "colab": {
     "base_uri": "https://localhost:8080/"
    },
    "executionInfo": {
     "elapsed": 394,
     "status": "ok",
     "timestamp": 1634042525118,
     "user": {
      "displayName": "Ivan Morozov",
      "photoUrl": "https://lh3.googleusercontent.com/a/default-user=s64",
      "userId": "01505246621606466427"
     },
     "user_tz": -420
    },
    "hidden": true,
    "id": "pQl53VrA_q2L",
    "outputId": "277ee5ba-e4a0-4942-bda0-dbc21ab8b1f3"
   },
   "outputs": [],
   "source": [
    "# Example-06: FFRFT frequency estimation\n",
    "\n",
    "# FFRFT frequency estimation is based on local DTFT spectrum interpolation (near expected maximum)\n",
    "# By default refined spectum is computed inside two FFT bins around maximum bin\n",
    "# In this case expected frequency error is proportional to 1/n^2\n",
    "\n",
    "# Set parameters\n",
    "dtype, device = torch.float64, 'cpu'\n",
    "size, length = 64, 1024\n",
    "\n",
    "# Set window\n",
    "win = Window.from_cosine(length, order=1.0, dtype=dtype, device=device)\n",
    "\n",
    "# Set data\n",
    "time = torch.linspace(1.0, length, length, dtype=dtype)\n",
    "data = torch.stack([i*torch.sin(2.0*numpy.pi*1*0.12*time) + 0.01*i*torch.sin(2.0*numpy.pi*2*0.12*time) for i in range(1, size + 1)])\n",
    "tbt = Data.from_tensor(win, data)\n",
    "\n",
    "# Initialize Frequency instance\n",
    "f = Frequency(tbt)\n",
    "\n",
    "# Estimate frequency\n",
    "f('ffrft')\n",
    "\n",
    "# Compare results FFT & FFRFT estimations\n",
    "print(torch.min(f.fft_frequency - 0.12))\n",
    "print(torch.min(f.ffrft_frequency - 0.12))"
   ]
  },
  {
   "cell_type": "code",
   "execution_count": null,
   "id": "f6e0f83b",
   "metadata": {
    "colab": {
     "base_uri": "https://localhost:8080/"
    },
    "executionInfo": {
     "elapsed": 263,
     "status": "ok",
     "timestamp": 1634042546481,
     "user": {
      "displayName": "Ivan Morozov",
      "photoUrl": "https://lh3.googleusercontent.com/a/default-user=s64",
      "userId": "01505246621606466427"
     },
     "user_tz": -420
    },
    "hidden": true,
    "id": "YcQ3PuvXLSBY",
    "outputId": "054e5431-e2fd-4ada-aac3-29cacada8561"
   },
   "outputs": [],
   "source": [
    "# Example-07: Parabola frequency estimation\n",
    "\n",
    "# Parabola frequency estimation is based on parabolic interpolation of FFRFT amplitude spectrum\n",
    "# Three points are used to locate parabola maximum (FFRFT max bin and two poins around it)\n",
    "# Higher order polynomial can be used or a gradient free bracketing maximum search\n",
    "# Instead of interpolation, a polynomial (e.g. a parabola) can be fitted near the peak maximum\n",
    "# Without noise, parabolic interpolation significantly improves estimation accuracy\n",
    "# Window order impoves accuracy in this case too (flat top)\n",
    "# With noise accuracy gain from parabolic interpolation decreases\n",
    "# Application of window increases noise\n",
    "\n",
    "# Set parameters\n",
    "dtype, device = torch.float64, 'cpu'\n",
    "size, length = 64, 1024\n",
    "\n",
    "# Set window\n",
    "win = Window.from_cosine(length, order=1.0, dtype=dtype, device=device)\n",
    "\n",
    "# Set data\n",
    "time = torch.linspace(1.0, length, length, dtype=dtype)\n",
    "data = torch.stack([i*torch.sin(2.0*numpy.pi*1*0.12*time) + 0.01*i*torch.sin(2.0*numpy.pi*2*0.12*time) for i in range(1, size + 1)])\n",
    "tbt = Data.from_tensor(win, data)\n",
    "\n",
    "# Initialize Frequency instance\n",
    "f = Frequency(tbt)\n",
    "\n",
    "# Estimate frequency\n",
    "f('parabola')\n",
    "\n",
    "# Compare results\n",
    "print(torch.mean(f.fft_frequency)-0.12, torch.std(f.fft_frequency))\n",
    "print(torch.mean(f.ffrft_frequency)-0.12, torch.std(f.ffrft_frequency))\n",
    "print(torch.mean(f.parabola_frequency)-0.12, torch.std(f.parabola_frequency))"
   ]
  },
  {
   "cell_type": "code",
   "execution_count": null,
   "id": "206d991c",
   "metadata": {
    "colab": {
     "base_uri": "https://localhost:8080/",
     "height": 453
    },
    "executionInfo": {
     "elapsed": 374,
     "status": "ok",
     "timestamp": 1634042562924,
     "user": {
      "displayName": "Ivan Morozov",
      "photoUrl": "https://lh3.googleusercontent.com/a/default-user=s64",
      "userId": "01505246621606466427"
     },
     "user_tz": -420
    },
    "hidden": true,
    "id": "ESBZgDg1LR_w",
    "outputId": "111e09cc-9b19-46ee-8f18-8a1d261a242c"
   },
   "outputs": [],
   "source": [
    "# Example-08: Frequency vs signal start shift\n",
    "\n",
    "# Set parameters\n",
    "dtype, device = torch.float64, 'cpu'\n",
    "size, length = 1, 2048\n",
    "\n",
    "# Set window\n",
    "win = Window.from_cosine(length, order=1.0, dtype=dtype, device=device)\n",
    "\n",
    "# Set data\n",
    "time = torch.linspace(1.0, length, length, dtype=dtype)\n",
    "data = torch.stack([torch.sin(2.0*numpy.pi*1*0.12*time) + 0.5*torch.sin(2.0*numpy.pi*2*0.24*time)])\n",
    "tbt = Data.from_tensor(win, data)\n",
    "\n",
    "tbt = tbt.make_matrix(0, 1024, 1)\n",
    "tbt.window.set_data(name='cosine_window', order=1.0)\n",
    "print(tbt.data[:4, :4].cpu().numpy())\n",
    "\n",
    "# Initialize Frequency instance\n",
    "f = Frequency(tbt)\n",
    "\n",
    "# Estimate frequency\n",
    "f('parabola')\n",
    "print(torch.mean(f.fft_frequency)-0.12, torch.std(f.fft_frequency))\n",
    "print(torch.mean(f.ffrft_frequency)-0.12, torch.std(f.ffrft_frequency))\n",
    "print(torch.mean(f.parabola_frequency)-0.12, torch.std(f.parabola_frequency))\n",
    "\n",
    "# Plot result\n",
    "shift = torch.linspace(0, len(tbt)-1, len(tbt))\n",
    "import matplotlib.pyplot as plt\n",
    "plt.figure(figsize=(10,5))\n",
    "plt.scatter(shift, (f.parabola_frequency.cpu()-0.12)/0.12 * 100, s=0.5, c='b')\n",
    "plt.show()"
   ]
  },
  {
   "cell_type": "code",
   "execution_count": null,
   "id": "8786a462",
   "metadata": {
    "colab": {
     "base_uri": "https://localhost:8080/",
     "height": 442
    },
    "executionInfo": {
     "elapsed": 921,
     "status": "ok",
     "timestamp": 1634042601654,
     "user": {
      "displayName": "Ivan Morozov",
      "photoUrl": "https://lh3.googleusercontent.com/a/default-user=s64",
      "userId": "01505246621606466427"
     },
     "user_tz": -420
    },
    "hidden": true,
    "id": "vWmcmKtitBdh",
    "outputId": "c7f47eaa-8218-4bab-b8cf-7a6565d1c5c5"
   },
   "outputs": [],
   "source": [
    "# Example-09: Frequency vs signal start shift with noise\n",
    "\n",
    "# Set parameters\n",
    "dtype, device = torch.float64, 'cpu'\n",
    "size, length = 1, 2048\n",
    "\n",
    "# Set window\n",
    "win = Window.from_cosine(length, order=1.0, dtype=dtype, device=device)\n",
    "\n",
    "# Set data\n",
    "time = torch.linspace(1.0, length, length, dtype=dtype)\n",
    "data = torch.stack([torch.sin(2.0*numpy.pi*1*0.12*time) + 0.5*torch.sin(2.0*numpy.pi*2*0.24*time)])\n",
    "tbt = Data.from_tensor(win, data)\n",
    "\n",
    "tbt = tbt.make_matrix(0, 1024, 1)\n",
    "tbt.window.set_data(name='cosine_window', order=1.0)\n",
    "print(tbt.data[:4, :4].cpu().numpy())\n",
    "\n",
    "# Add noise to each signal\n",
    "for i in range(tbt.size):\n",
    "    tbt.data[i] += 0.01*torch.randn(tbt.length, dtype=dtype, device=device)\n",
    "tbt.reset()\n",
    "\n",
    "# Initialize Frequency instance\n",
    "f = Frequency(tbt)\n",
    "\n",
    "# Estimate frequency\n",
    "f('parabola', window=True)\n",
    "print(torch.mean(f.fft_frequency)-0.12, torch.std(f.fft_frequency))\n",
    "print(torch.mean(f.ffrft_frequency)-0.12, torch.std(f.ffrft_frequency))\n",
    "print(torch.mean(f.parabola_frequency)-0.12, torch.std(f.parabola_frequency))\n",
    "\n",
    "# Plot result\n",
    "shift = torch.linspace(0, len(tbt)-1, len(tbt))\n",
    "import matplotlib.pyplot as plt\n",
    "plt.figure(figsize=(10,5))\n",
    "plt.scatter(shift, (f.parabola_frequency.cpu()-0.12)/0.12 * 100, s=0.5, c='b')\n",
    "plt.show()"
   ]
  },
  {
   "cell_type": "code",
   "execution_count": null,
   "id": "1d0e08b0",
   "metadata": {
    "colab": {
     "base_uri": "https://localhost:8080/",
     "height": 442
    },
    "executionInfo": {
     "elapsed": 1008,
     "status": "ok",
     "timestamp": 1634042645880,
     "user": {
      "displayName": "Ivan Morozov",
      "photoUrl": "https://lh3.googleusercontent.com/a/default-user=s64",
      "userId": "01505246621606466427"
     },
     "user_tz": -420
    },
    "hidden": true,
    "id": "WPvZp_pSLR7X",
    "outputId": "0998e484-9b13-4c4e-86fc-eb17d8095228"
   },
   "outputs": [],
   "source": [
    "# Example-10: Frequency vs signal start shift (correlated noise)\n",
    "\n",
    "# Set parameters\n",
    "dtype, device = torch.float64, 'cpu'\n",
    "size, length = 1, 2048\n",
    "\n",
    "# Set window\n",
    "win = Window.from_cosine(length, order=1.0, dtype=dtype, device=device)\n",
    "\n",
    "# Set data\n",
    "time = torch.linspace(1.0, length, length, dtype=dtype, device=device)\n",
    "data = torch.stack([torch.sin(2.0*numpy.pi*1*0.12*time) + 0.5*torch.sin(2.0*numpy.pi*2*0.24*time)])\n",
    "data += 0.01*torch.randn(length, dtype=dtype, device=device)\n",
    "tbt = Data.from_tensor(win, data)\n",
    "\n",
    "tbt = tbt.make_matrix(0, 1024, 1)\n",
    "tbt.window.set_data(name='cosine_window', order=1.0)\n",
    "print(tbt.data[:4, :4].cpu().numpy())\n",
    "\n",
    "# Initialize Frequency instance\n",
    "f = Frequency(tbt)\n",
    "\n",
    "# Estimate frequency\n",
    "f('parabola', window=True)\n",
    "print(torch.mean(f.fft_frequency)-0.12, torch.std(f.fft_frequency))\n",
    "print(torch.mean(f.ffrft_frequency)-0.12, torch.std(f.ffrft_frequency))\n",
    "print(torch.mean(f.parabola_frequency)-0.12, torch.std(f.parabola_frequency))\n",
    "\n",
    "# Plot result\n",
    "shift = torch.linspace(0, len(tbt)-1, len(tbt))\n",
    "import matplotlib.pyplot as plt\n",
    "plt.figure(figsize=(10,5))\n",
    "plt.scatter(shift, (f.parabola_frequency.cpu()-0.12)/0.12 * 100, s=0.5, c='b')\n",
    "plt.show()"
   ]
  },
  {
   "cell_type": "code",
   "execution_count": null,
   "id": "0e1a6b6f",
   "metadata": {
    "colab": {
     "base_uri": "https://localhost:8080/"
    },
    "executionInfo": {
     "elapsed": 255,
     "status": "ok",
     "timestamp": 1634042796465,
     "user": {
      "displayName": "Ivan Morozov",
      "photoUrl": "https://lh3.googleusercontent.com/a/default-user=s64",
      "userId": "01505246621606466427"
     },
     "user_tz": -420
    },
    "hidden": true,
    "id": "3JvEQLfTLR4y",
    "outputId": "8aec3827-e0c2-411e-c43a-ec1adfeab36b"
   },
   "outputs": [],
   "source": [
    "# Example-11: Decomposition\n",
    "\n",
    "# Set parameters\n",
    "dtype, device = torch.float64, 'cpu'\n",
    "size, length = 1, 2048\n",
    "\n",
    "# Set window\n",
    "win = Window.from_cosine(length, order=4.0, dtype=dtype, device=device)\n",
    "\n",
    "# Set data\n",
    "time  = torch.linspace(1.0, length, length, dtype=dtype, device=device)\n",
    "data  = 1.0000*torch.cos(2.0*numpy.pi*1*0.12*time) + 0.10000*torch.sin(2.0*numpy.pi*1*0.12*time)\n",
    "data += 0.0050*torch.cos(2.0*numpy.pi*2*0.12*time) + 0.01000*torch.sin(2.0*numpy.pi*2*0.12*time)\n",
    "data += 0.0001*torch.cos(2.0*numpy.pi*3*0.12*time) + 0.00001*torch.sin(2.0*numpy.pi*3*0.12*time)\n",
    "data += 2.0\n",
    "data  = torch.stack([data])\n",
    "\n",
    "tbt = Data.from_tensor(win, data)\n",
    "\n",
    "# Compute (window weighted) mean value\n",
    "print(tbt.window_mean().flatten())\n",
    "\n",
    "# Remove (window weighted) mean value\n",
    "# Note, mean is removed from work\n",
    "tbt.window_remove_mean()\n",
    "tbt.data.copy_(tbt.work)\n",
    "\n",
    "# Initialize Frequency instance\n",
    "f = Frequency(tbt)\n",
    "\n",
    "# Perform decomposition (component-by-component subtraction)\n",
    "for _ in range(3):\n",
    "    f('parabola')\n",
    "    frequency = f.frequency[0]\n",
    "    c_amp = 2.0*torch.dot(tbt[0]*win.data, torch.cos(2.0*numpy.pi*frequency*time))/win.total\n",
    "    s_amp = 2.0*torch.dot(tbt[0]*win.data, torch.sin(2.0*numpy.pi*frequency*time))/win.total\n",
    "    print(torch.stack([frequency, c_amp, s_amp]))\n",
    "    rem = c_amp*torch.cos(2.0*numpy.pi*frequency*time) + s_amp*torch.sin(2.0*numpy.pi*frequency*time)\n",
    "    tbt.data.sub_(rem)\n",
    "    tbt.reset()\n",
    "\n",
    "# Residual norm\n",
    "print(torch.sum(torch.sqrt(tbt.data**2)))"
   ]
  },
  {
   "cell_type": "code",
   "execution_count": null,
   "id": "6a1e07c1",
   "metadata": {
    "hidden": true
   },
   "outputs": [],
   "source": [
    "# Example-12: Test TbT data for VEPP lattice\n",
    "\n",
    "# Load data from file\n",
    "win = Window(4096, dtype=torch.float64, device='cpu')\n",
    "tbt = Data.from_file(54, win, 'test.npy')\n",
    "\n",
    "# Save data to PVs\n",
    "pv_list = [\"VEPP4:STP2:turns_x-I\", \"VEPP4:STP4:turns_x-I\", \"VEPP4:SRP1:turns_x-I\", \"VEPP4:SRP2:turns_x-I\", \"VEPP4:SRP3:turns_x-I\", \"VEPP4:SRP4:turns_x-I\", \"VEPP4:SRP5:turns_x-I\", \"VEPP4:SRP6:turns_x-I\", \"VEPP4:SRP7:turns_x-I\", \"VEPP4:SRP8:turns_x-I\", \"VEPP4:SRP9:turns_x-I\", \"VEPP4:SIP1:turns_x-I\", \"VEPP4:SIP2:turns_x-I\", \"VEPP4:SRP10:turns_x-I\", \"VEPP4:SRP11:turns_x-I\", \"VEPP4:SRP12:turns_x-I\", \"VEPP4:SRP13:turns_x-I\", \"VEPP4:SRP14:turns_x-I\", \"VEPP4:SRP15:turns_x-I\", \"VEPP4:SRP16:turns_x-I\", \"VEPP4:SRP17:turns_x-I\", \"VEPP4:SEP5:turns_x-I\", \"VEPP4:SEP4:turns_x-I\", \"VEPP4:SEP3:turns_x-I\", \"VEPP4:SEP1:turns_x-I\", \"VEPP4:SEP0:turns_x-I\", \"VEPP4:NEP0:turns_x-I\", \"VEPP4:NEP1:turns_x-I\", \"VEPP4:NEP3:turns_x-I\", \"VEPP4:NEP4:turns_x-I\", \"VEPP4:NEP5:turns_x-I\", \"VEPP4:NRP17:turns_x-I\", \"VEPP4:NRP16:turns_x-I\", \"VEPP4:NRP15:turns_x-I\", \"VEPP4:NRP14:turns_x-I\", \"VEPP4:NRP13:turns_x-I\", \"VEPP4:NRP12:turns_x-I\", \"VEPP4:NRP11:turns_x-I\", \"VEPP4:NRP10:turns_x-I\", \"VEPP4:NIP3:turns_x-I\", \"VEPP4:NIP1:turns_x-I\", \"VEPP4:NRP9:turns_x-I\", \"VEPP4:NRP8:turns_x-I\", \"VEPP4:NRP7:turns_x-I\", \"VEPP4:NRP6:turns_x-I\", \"VEPP4:NRP5:turns_x-I\", \"VEPP4:NRP4:turns_x-I\", \"VEPP4:NRP3:turns_x-I\", \"VEPP4:NRP2:turns_x-I\", \"VEPP4:NRP1:turns_x-I\", \"VEPP4:NTP4:turns_x-I\", \"VEPP4:NTP2:turns_x-I\", \"VEPP4:NTP0:turns_x-I\", \"VEPP4:STP0:turns_x-I\"]\n",
    "pv_rise = [0 for _ in range(len(pv_list))]\n",
    "tbt.pv_list = pv_list\n",
    "tbt.pv_rise = pv_rise\n",
    "tbt.save_epics()\n",
    "\n",
    "# Load from PVs\n",
    "win = Window(1024, 'cosine_window', 1.0, dtype=torch.float64, device='cpu')\n",
    "tbt = Data.from_epics(54, win, pv_list, pv_rise)\n",
    "\n",
    "# Compute frequencies\n",
    "f = Frequency(tbt)\n",
    "f('parabola')\n",
    "print(torch.stack([f.frequency.mean(), f.frequency.std()]))\n",
    "\n",
    "# Generate mixed signal\n",
    "tbt = tbt.make_signal(64)\n",
    "tbt.window(name='cosine_window', order=1.0)\n",
    "\n",
    "# Compute frequency\n",
    "f = Frequency(tbt)\n",
    "f('parabola')\n",
    "print(54*f.frequency)\n",
    "print(1.0 - (54*f.frequency - 8.0))"
   ]
  },
  {
   "cell_type": "code",
   "execution_count": null,
   "id": "97f754a5",
   "metadata": {
    "hidden": true
   },
   "outputs": [],
   "source": []
  }
 ],
 "metadata": {
  "colab": {
   "collapsed_sections": [
    "myt0_gMIOq7b",
    "5d97819c"
   ],
   "name": "03_frequency.ipynb",
   "provenance": []
  },
  "kernelspec": {
   "display_name": "Python 3",
   "language": "python",
   "name": "python3"
  },
  "language_info": {
   "codemirror_mode": {
    "name": "ipython",
    "version": 3
   },
   "file_extension": ".py",
   "mimetype": "text/x-python",
   "name": "python",
   "nbconvert_exporter": "python",
   "pygments_lexer": "ipython3",
   "version": "3.8.10"
  },
  "latex_envs": {
   "LaTeX_envs_menu_present": true,
   "autoclose": false,
   "autocomplete": true,
   "bibliofile": "biblio.bib",
   "cite_by": "apalike",
   "current_citInitial": 1,
   "eqLabelWithNumbers": true,
   "eqNumInitial": 1,
   "hotkeys": {
    "equation": "Ctrl-E",
    "itemize": "Ctrl-I"
   },
   "labels_anchors": false,
   "latex_user_defs": false,
   "report_style_numbering": false,
   "user_envs_cfg": false
  }
 },
 "nbformat": 4,
 "nbformat_minor": 5
}
