{
 "cells": [
  {
   "cell_type": "code",
   "execution_count": 1,
   "id": "c5e0e6e3",
   "metadata": {},
   "outputs": [
    {
     "name": "stdout",
     "output_type": "stream",
     "text": [
      "True\n"
     ]
    }
   ],
   "source": [
    "# Import\n",
    "\n",
    "import epics\n",
    "import numpy\n",
    "import pandas\n",
    "import torch\n",
    "\n",
    "import sys\n",
    "sys.path.append('..')\n",
    "\n",
    "from harmonica.util import LIMIT, LENGTH, pv_make, data_load\n",
    "from harmonica.window import Window\n",
    "from harmonica.data import Data\n",
    "\n",
    "import matplotlib.pyplot as plt\n",
    "from time import sleep\n",
    "\n",
    "torch.set_printoptions(precision=12, sci_mode=True)\n",
    "print(torch.cuda.is_available())"
   ]
  },
  {
   "cell_type": "markdown",
   "id": "9e0281b5",
   "metadata": {
    "heading_collapsed": true,
    "tags": []
   },
   "source": [
    "# Example-01: Data initialization"
   ]
  },
  {
   "cell_type": "code",
   "execution_count": 2,
   "id": "9e3059de-79c9-4a32-8713-551956749d63",
   "metadata": {},
   "outputs": [
    {
     "name": "stdout",
     "output_type": "stream",
     "text": [
      "Window(1024, None, None)\n",
      "Data(54, Window(1024, None, None))\n",
      "54\n",
      "1024\n",
      "[1. 1. 1. ... 1. 1. 1.]\n",
      "torch.float64\n",
      "cpu\n",
      "torch.Size([54, 1024])\n",
      "[[0. 0. 0. ... 0. 0. 0.]\n",
      " [0. 0. 0. ... 0. 0. 0.]\n",
      " [0. 0. 0. ... 0. 0. 0.]\n",
      " ...\n",
      " [0. 0. 0. ... 0. 0. 0.]\n",
      " [0. 0. 0. ... 0. 0. 0.]\n",
      " [0. 0. 0. ... 0. 0. 0.]]\n",
      "torch.Size([54, 1024])\n",
      "[[0. 0. 0. ... 0. 0. 0.]\n",
      " [0. 0. 0. ... 0. 0. 0.]\n",
      " [0. 0. 0. ... 0. 0. 0.]\n",
      " ...\n",
      " [0. 0. 0. ... 0. 0. 0.]\n",
      " [0. 0. 0. ... 0. 0. 0.]\n",
      " [0. 0. 0. ... 0. 0. 0.]]\n",
      "empty\n",
      "[0. 0. 0. ... 0. 0. 0.]\n",
      "[0. 0. 0. ... 0. 0. 0.]\n",
      "[[1. 1. 1. ... 1. 1. 1.]\n",
      " [1. 1. 1. ... 1. 1. 1.]\n",
      " [1. 1. 1. ... 1. 1. 1.]\n",
      " ...\n",
      " [1. 1. 1. ... 1. 1. 1.]\n",
      " [1. 1. 1. ... 1. 1. 1.]\n",
      " [1. 1. 1. ... 1. 1. 1.]]\n",
      "[[1. 1. 1. ... 1. 1. 1.]\n",
      " [1. 1. 1. ... 1. 1. 1.]\n",
      " [1. 1. 1. ... 1. 1. 1.]\n",
      " ...\n",
      " [1. 1. 1. ... 1. 1. 1.]\n",
      " [1. 1. 1. ... 1. 1. 1.]\n",
      " [1. 1. 1. ... 1. 1. 1.]]\n",
      "[[0. 0. 0. ... 0. 0. 0.]\n",
      " [0. 0. 0. ... 0. 0. 0.]\n",
      " [0. 0. 0. ... 0. 0. 0.]\n",
      " ...\n",
      " [0. 0. 0. ... 0. 0. 0.]\n",
      " [0. 0. 0. ... 0. 0. 0.]\n",
      " [0. 0. 0. ... 0. 0. 0.]]\n",
      "[[0. 0. 0. ... 0. 0. 0.]\n",
      " [0. 0. 0. ... 0. 0. 0.]\n",
      " [0. 0. 0. ... 0. 0. 0.]\n",
      " ...\n",
      " [0. 0. 0. ... 0. 0. 0.]\n",
      " [0. 0. 0. ... 0. 0. 0.]\n",
      " [0. 0. 0. ... 0. 0. 0.]]\n",
      "Window(1024, 'cosine_window', 1.0)\n",
      "size: 54\n",
      "window: Window(1024, 'cosine_window', 1.0)\n",
      "length: 1024\n",
      "dtype: torch.float64\n",
      "device: cpu\n",
      "data: tensor([[0., 0., 0.,  ..., 0., 0., 0.],\n",
      "        [0., 0., 0.,  ..., 0., 0., 0.],\n",
      "        [0., 0., 0.,  ..., 0., 0., 0.],\n",
      "        ...,\n",
      "        [0., 0., 0.,  ..., 0., 0., 0.],\n",
      "        [0., 0., 0.,  ..., 0., 0., 0.],\n",
      "        [0., 0., 0.,  ..., 0., 0., 0.]], dtype=torch.float64)\n",
      "work: tensor([[0., 0., 0.,  ..., 0., 0., 0.],\n",
      "        [0., 0., 0.,  ..., 0., 0., 0.],\n",
      "        [0., 0., 0.,  ..., 0., 0., 0.],\n",
      "        ...,\n",
      "        [0., 0., 0.,  ..., 0., 0., 0.],\n",
      "        [0., 0., 0.,  ..., 0., 0., 0.],\n",
      "        [0., 0., 0.,  ..., 0., 0., 0.]], dtype=torch.float64)\n",
      "source: data\n",
      "file: None\n",
      "pv_name: None\n",
      "pv_rise: None\n"
     ]
    }
   ],
   "source": [
    "# Set window\n",
    "w = Window(length=1024, dtype=torch.float64, device='cpu')\n",
    "print(w)\n",
    "\n",
    "# Set TbT data\n",
    "d = Data(size=54, window=w)\n",
    "print(d)\n",
    "\n",
    "# Number of signals in TbT data\n",
    "print(d.size)\n",
    "\n",
    "# Signal length (fixed by window length)\n",
    "print(d.length)\n",
    "\n",
    "# Window data\n",
    "print(d.window.window.detach().cpu().numpy())\n",
    "\n",
    "# TbT data contaner dtype and device for data and work (fixed by window)\n",
    "print(d.dtype)\n",
    "print(d.device)\n",
    "\n",
    "# TbT data\n",
    "print(d.data.shape)\n",
    "print(d.data.detach().cpu().numpy())\n",
    "\n",
    "# TbT work (stores a copy of data, window or normalization is applied to work)\n",
    "print(d.work.shape)\n",
    "print(d.work.detach().cpu().numpy())\n",
    "\n",
    "# Initialization source, 'empty' for empty initialization\n",
    "print(d.source)\n",
    "\n",
    "# Get item (signal)\n",
    "print(d.data[0].detach().cpu().numpy())\n",
    "print(d[0].detach().cpu().numpy())\n",
    "\n",
    "# Set data (resets work)\n",
    "d.set_data(torch.ones(d.data.shape, dtype=d.dtype, device=d.device))\n",
    "print(d.data.detach().cpu().numpy())\n",
    "print(d.work.detach().cpu().numpy())\n",
    "\n",
    "# If data is modified directly, use reset to update work if needed\n",
    "d.data.copy_(torch.zeros(d.data.shape, dtype=d.dtype, device=d.device))\n",
    "d.reset()\n",
    "print(d.data.detach().cpu().numpy())\n",
    "print(d.work.detach().cpu().numpy())\n",
    "\n",
    "# Reset window\n",
    "d.window.set_data(name='cosine_window', order=1.0)\n",
    "print(w)\n",
    "\n",
    "# Print\n",
    "for key, value in d.__dict__.items():\n",
    "    print(f'{key}: {value}')"
   ]
  },
  {
   "cell_type": "markdown",
   "id": "7043f4d8",
   "metadata": {
    "heading_collapsed": true,
    "tags": []
   },
   "source": [
    "# Example-02: Free CUDA memory"
   ]
  },
  {
   "cell_type": "code",
   "execution_count": 3,
   "id": "ddf58c3e-d3d5-46d5-a4f8-383a1f0a5dba",
   "metadata": {},
   "outputs": [
    {
     "name": "stdout",
     "output_type": "stream",
     "text": [
      "Data(54, Window(1024, None, None))\n",
      "446464\n",
      "0\n"
     ]
    }
   ],
   "source": [
    "# Delete objects and call torch.cuda.empty_cache() to free CUDA memory\n",
    "\n",
    "# Set device\n",
    "device = 'cuda' if torch.cuda.is_available() else 'cpu'\n",
    "\n",
    "# Set window and data\n",
    "w = Window(length=1024, dtype=torch.float32, device=device)\n",
    "d = Data(size=54, window=w)\n",
    "print(d)\n",
    "\n",
    "# Print allocated memory info\n",
    "print(torch.cuda.memory_allocated())\n",
    "\n",
    "# Delete objects\n",
    "del w\n",
    "del d\n",
    "\n",
    "# Empty cache\n",
    "if device != 'cpu':\n",
    "    torch.cuda.synchronize()\n",
    "    torch.cuda.empty_cache()\n",
    "    \n",
    "# Print allocated memory info\n",
    "print(torch.cuda.memory_allocated())"
   ]
  },
  {
   "cell_type": "markdown",
   "id": "c5e7848c",
   "metadata": {
    "heading_collapsed": true,
    "tags": []
   },
   "source": [
    "# Example-03: Initialize from data"
   ]
  },
  {
   "cell_type": "code",
   "execution_count": 4,
   "id": "6e6d9230-4036-46b5-aa4d-0662ca8cd968",
   "metadata": {},
   "outputs": [
    {
     "name": "stdout",
     "output_type": "stream",
     "text": [
      "Window(1024, 'cosine_window', 1.0)\n",
      "Data(54, Window(1024, 'cosine_window', 1.0))\n",
      "54\n",
      "1024\n",
      "data\n",
      "torch.Size([54, 1024])\n",
      "[[1. 1. 1. ... 1. 1. 1.]\n",
      " [1. 1. 1. ... 1. 1. 1.]\n",
      " [1. 1. 1. ... 1. 1. 1.]\n",
      " ...\n",
      " [1. 1. 1. ... 1. 1. 1.]\n",
      " [1. 1. 1. ... 1. 1. 1.]\n",
      " [1. 1. 1. ... 1. 1. 1.]]\n",
      "torch.Size([54, 1024])\n",
      "[[1. 1. 1. ... 1. 1. 1.]\n",
      " [1. 1. 1. ... 1. 1. 1.]\n",
      " [1. 1. 1. ... 1. 1. 1.]\n",
      " ...\n",
      " [1. 1. 1. ... 1. 1. 1.]\n",
      " [1. 1. 1. ... 1. 1. 1.]\n",
      " [1. 1. 1. ... 1. 1. 1.]]\n"
     ]
    }
   ],
   "source": [
    "# Set window\n",
    "device = 'cpu'\n",
    "w = Window(length=1024, name='cosine_window', order=1.0, dtype=torch.float64, device=device)\n",
    "print(w)\n",
    "\n",
    "# Set input data (length should match window length)\n",
    "data = torch.ones((54, w.length), dtype=w.dtype, device=w.device)\n",
    "\n",
    "# Initialize TbT\n",
    "d = Data.from_data(window=w, data=data)\n",
    "print(d)\n",
    "\n",
    "# Info\n",
    "print(d.size)\n",
    "print(d.length)\n",
    "print(d.source)\n",
    "print(d.data.shape)\n",
    "print(d.data.detach().cpu().numpy())\n",
    "print(d.work.shape)\n",
    "print(d.work.detach().cpu().numpy())\n",
    "\n",
    "# Clean\n",
    "del data\n",
    "del w\n",
    "del d\n",
    "if device != 'cpu':\n",
    "    torch.cuda.synchronize()\n",
    "    torch.cuda.empty_cache()"
   ]
  },
  {
   "cell_type": "markdown",
   "id": "c1d057c8",
   "metadata": {
    "heading_collapsed": true,
    "tags": []
   },
   "source": [
    "# Example-04: Initialization from harmonics"
   ]
  },
  {
   "cell_type": "code",
   "execution_count": 5,
   "id": "b4027703-bfd1-4e87-92d5-d39160e87053",
   "metadata": {},
   "outputs": [
    {
     "name": "stdout",
     "output_type": "stream",
     "text": [
      "Window(8192, 'cosine_window', 1.0)\n",
      "Data(2, Window(8192, 'cosine_window', 1.0))\n",
      "[0.1  0.34]\n",
      "[5.  0.5 0.1]\n",
      "[0.1 0.5 1. ]\n",
      "[5.5 1.5 4.1]\n",
      "[0.2 0.6 4. ]\n"
     ]
    }
   ],
   "source": [
    "# This initialization can be used to generate test data from given harmonics\n",
    "# Another option is to create empty instance and set data and work containers\n",
    "# Or use from_data (classmethod)\n",
    "\n",
    "# Set window\n",
    "device = 'cpu'\n",
    "w = Window(length=8192, name='cosine_window', order=1.0, dtype=torch.float64, device=device)\n",
    "print(w)\n",
    "\n",
    "# Generate harmonics (generate two signals with three harmonics in each signal)\n",
    "\n",
    "# A harmonic can be generated with Data.make_harmonic (staticmethod)\n",
    "\n",
    "m, f, c, s = 0.5, [0.10, 0.20, 0.30], [5.0, 0.5, 0.1], [0.1, 0.5, 1.0]\n",
    "h1 = m*torch.ones(w.length, dtype=w.dtype, device=w.device)\n",
    "for f, c, s in zip(f, c, s):\n",
    "    h1 += Data.make_harmonic(w.length, f, c=c, s=s, dtype=w.dtype, device=w.device)\n",
    "    \n",
    "m, f, c, s = 1.0, [0.12, 0.23, 0.34], [5.5, 1.5, 4.1], [0.2, 0.6, 4.0]\n",
    "h2 = m*torch.ones(w.length, dtype=w.dtype, device=w.device)\n",
    "for f, c, s in zip(f, c, s):\n",
    "    h2 += Data.make_harmonic(w.length, f, c=c, s=s, dtype=w.dtype, device=w.device)\n",
    "    \n",
    "# Set TbT\n",
    "d = Data.from_data(w, torch.stack([h1, h2]))\n",
    "print(d)\n",
    "\n",
    "# Check data frequencies (largest bin in FFT spectrum)\n",
    "print(torch.argmax(torch.abs(torch.fft.fft(d.data, 1000)), 1).to(torch.float64).cpu().div_(1000).numpy())\n",
    "\n",
    "# Check amplitudes\n",
    "t = 2.0*numpy.pi*torch.linspace(0, d.length-1, d.length, dtype=w.dtype, device=w.device)\n",
    "f = torch.tensor([[0.10, 0.20, 0.30], [0.12, 0.23, 0.34]], dtype=w.dtype, device=w.device).reshape(d.size, -1, 1)\n",
    "for i in range(d.size):\n",
    "    print((2*torch.sum(d.window.window*d[i]*torch.cos(t*f[i]), 1)/d.length).cpu().numpy())\n",
    "    print((2*torch.sum(d.window.window*d[i]*torch.sin(t*f[i]), 1)/d.length).cpu().numpy())\n",
    "    \n",
    "# Clean\n",
    "del w\n",
    "del h1, h2\n",
    "del d\n",
    "if device != 'cpu':\n",
    "    torch.cuda.synchronize()\n",
    "    torch.cuda.empty_cache()"
   ]
  },
  {
   "cell_type": "markdown",
   "id": "18a3aabc",
   "metadata": {
    "heading_collapsed": true,
    "tags": []
   },
   "source": [
    "# Example-05: Initialization from file"
   ]
  },
  {
   "cell_type": "code",
   "execution_count": 6,
   "id": "ea1c1e3e-7df1-4aef-8405-ada175c53e8c",
   "metadata": {},
   "outputs": [
    {
     "name": "stdout",
     "output_type": "stream",
     "text": [
      "Window(4096, None, None)\n",
      "Data(54, Window(4096, None, None))\n",
      "[[ 0.002      -0.00163495  0.00118248 ... -0.00226132  0.00200505\n",
      "  -0.00164158]\n",
      " [ 0.00021377  0.00014743 -0.00050074 ... -0.00056897  0.00021954\n",
      "   0.00014162]\n",
      " [-0.00160935  0.00180873 -0.00191141 ...  0.00131871 -0.0016054\n",
      "   0.00180627]\n",
      " ...\n",
      " [ 0.00030317  0.00025561 -0.00080072 ... -0.00085418  0.00031211\n",
      "   0.00024664]\n",
      " [-0.00279438  0.00317769 -0.0033911  ...  0.00225203 -0.00278692\n",
      "   0.00317282]\n",
      " [-0.0033271   0.00343245 -0.00335429 ...  0.00303791 -0.00332392\n",
      "   0.00343221]]\n",
      "[[ 0.002      -0.00163495  0.00118248 ... -0.00226132  0.00200505\n",
      "  -0.00164158]\n",
      " [ 0.00021377  0.00014743 -0.00050074 ... -0.00056897  0.00021954\n",
      "   0.00014162]\n",
      " [-0.00160935  0.00180873 -0.00191141 ...  0.00131871 -0.0016054\n",
      "   0.00180627]\n",
      " ...\n",
      " [ 0.00030317  0.00025561 -0.00080072 ... -0.00085418  0.00031211\n",
      "   0.00024664]\n",
      " [-0.00279438  0.00317769 -0.0033911  ...  0.00225203 -0.00278692\n",
      "   0.00317282]\n",
      " [-0.0033271   0.00343245 -0.00335429 ...  0.00303791 -0.00332392\n",
      "   0.00343221]]\n"
     ]
    }
   ],
   "source": [
    "# This initialization can be used to load TbT data from file (numpy)\n",
    "# Data also can be loaded into given instance using load_data method (updates data and work containers)\n",
    "# In this case input size and length should match data container\n",
    "\n",
    "# Set window\n",
    "device = 'cpu'\n",
    "w = Window(length=4096, dtype=torch.float64, device=device)\n",
    "print(w)\n",
    "\n",
    "# Initialize from file\n",
    "d = Data.from_file(54, w, '../virtual_tbt.npy')\n",
    "print(d)\n",
    "print(d.data.detach().cpu().numpy())\n",
    "print(d.work.detach().cpu().numpy())\n",
    "\n",
    "# Clean\n",
    "del w\n",
    "del d\n",
    "if device != 'cpu':\n",
    "    torch.cuda.synchronize()\n",
    "    torch.cuda.empty_cache()"
   ]
  },
  {
   "cell_type": "markdown",
   "id": "b873ea29",
   "metadata": {
    "heading_collapsed": true,
    "tags": []
   },
   "source": [
    "# Example-06: Put data to epics"
   ]
  },
  {
   "cell_type": "code",
   "execution_count": 7,
   "id": "a9084585-3c50-4343-8cce-56564dbabb92",
   "metadata": {},
   "outputs": [
    {
     "name": "stdout",
     "output_type": "stream",
     "text": [
      "Window(4096, None, None)\n",
      "Data(54, Window(4096, None, None))\n",
      "file\n",
      "[0.002]\n",
      "[0.002]\n",
      "[0.002]\n"
     ]
    }
   ],
   "source": [
    "# Run TEST PVs (softIoc -d virtual_tbt.db)\n",
    "\n",
    "# Set window\n",
    "device = 'cpu'\n",
    "w = Window(4096, dtype=torch.float64, device=device)\n",
    "print(w)\n",
    "\n",
    "# Load data from file\n",
    "d = Data.from_file(54, w, '../virtual_tbt.npy')\n",
    "print(d)\n",
    "print(d.source)\n",
    "\n",
    "# Set list of pv names and starting indices\n",
    "bpm = ['STP2', 'STP4', 'SRP1', 'SRP2', 'SRP3', 'SRP4', 'SRP5', 'SRP6', 'SRP7', 'SRP8', 'SRP9', 'SIP1', 'SIP2', 'SRP10', 'SRP11', 'SRP12', 'SRP13', 'SRP14', 'SRP15', 'SRP16', 'SRP17', 'SEP5', 'SEP4', 'SEP3', 'SEP1', 'SEP0', 'NEP0', 'NEP1', 'NEP3', 'NEP4', 'NEP5', 'NRP17', 'NRP16', 'NRP15', 'NRP14', 'NRP13', 'NRP12', 'NRP11', 'NRP10', 'NIP3', 'NIP1', 'NRP9', 'NRP8', 'NRP7', 'NRP6', 'NRP5', 'NRP4', 'NRP3', 'NRP2', 'NRP1', 'NTP4', 'NTP2', 'NTP0', 'STP0']\n",
    "pv_list = [pv_make(name, 'x', True) for name in bpm]\n",
    "pv_rise = [0 for _ in range(len(bpm))]\n",
    "\n",
    "# Put tensor to PV\n",
    "Data.pv_put('H:STP2:DATA:X', d[0])\n",
    "\n",
    "# Get tensor from PV\n",
    "print(Data.pv_get('H:STP2:DATA:X', count=1, dtype=d.dtype, device=d.device).cpu().numpy())\n",
    "print(epics.caget('H:STP2:DATA:X', count=1))\n",
    "\n",
    "# Set PVs with loop\n",
    "for name, signal in zip(pv_list, d):\n",
    "     Data.pv_put(name, signal)\n",
    "        \n",
    "# Set PVs with save_epics (Data instance is expected to have pv_list attribute)\n",
    "d.pv_list = pv_list\n",
    "d.save_epics()\n",
    "\n",
    "# Load data from PVs\n",
    "# Data instance should have pv_rise attribute\n",
    "d.pv_rise = pv_rise\n",
    "d.load_epics(shift=0, count=8192)\n",
    "print(d.data[0, 0:1].cpu().numpy())\n",
    "\n",
    "# Clean\n",
    "del w\n",
    "del d\n",
    "if device != 'cpu':\n",
    "    torch.cuda.synchronize()\n",
    "    torch.cuda.empty_cache()"
   ]
  },
  {
   "cell_type": "markdown",
   "id": "65e458b6",
   "metadata": {
    "heading_collapsed": true,
    "tags": []
   },
   "source": [
    "# Example-07: Initialization from epics"
   ]
  },
  {
   "cell_type": "code",
   "execution_count": 8,
   "id": "e3d7f13d-40ac-4011-8c47-22b3dda8db46",
   "metadata": {},
   "outputs": [
    {
     "name": "stdout",
     "output_type": "stream",
     "text": [
      "Window(1024, 'cosine_window', 1.0)\n",
      "Data(54, Window(1024, 'cosine_window', 1.0))\n",
      "epics\n",
      "torch.Size([54, 1024])\n"
     ]
    }
   ],
   "source": [
    "# Run TEST PVs (softIoc -d virtual_tbt.db)\n",
    "\n",
    "# Use to load data from list of PV names\n",
    "# Optionaly provide a list of starting values and shift for all PVs\n",
    "\n",
    "# Set window\n",
    "device = 'cpu'\n",
    "w = Window(1024, 'cosine_window', 1.0, dtype=torch.float64, device=device)\n",
    "print(w)\n",
    "\n",
    "# Set list of pv names and starting indices\n",
    "bpm = ['STP2', 'STP4', 'SRP1', 'SRP2', 'SRP3', 'SRP4', 'SRP5', 'SRP6', 'SRP7', 'SRP8', 'SRP9', 'SIP1', 'SIP2', 'SRP10', 'SRP11', 'SRP12', 'SRP13', 'SRP14', 'SRP15', 'SRP16', 'SRP17', 'SEP5', 'SEP4', 'SEP3', 'SEP1', 'SEP0', 'NEP0', 'NEP1', 'NEP3', 'NEP4', 'NEP5', 'NRP17', 'NRP16', 'NRP15', 'NRP14', 'NRP13', 'NRP12', 'NRP11', 'NRP10', 'NIP3', 'NIP1', 'NRP9', 'NRP8', 'NRP7', 'NRP6', 'NRP5', 'NRP4', 'NRP3', 'NRP2', 'NRP1', 'NTP4', 'NTP2', 'NTP0', 'STP0']\n",
    "pv_list = [pv_make(name, 'x', True) for name in bpm]\n",
    "pv_rise = [0 for _ in range(len(bpm))]\n",
    "\n",
    "# Set data\n",
    "d = Data.from_epics(w, pv_list, pv_rise, shift=0, count=w.length)\n",
    "print(d)\n",
    "print(d.source)\n",
    "print(d.data.shape)\n",
    "\n",
    "# Clean\n",
    "del w\n",
    "del d\n",
    "if device != 'cpu':\n",
    "    torch.cuda.synchronize()\n",
    "    torch.cuda.empty_cache()"
   ]
  },
  {
   "cell_type": "markdown",
   "id": "bc4f2a43",
   "metadata": {
    "heading_collapsed": true,
    "tags": []
   },
   "source": [
    "# Example-08: Generate matrix from signal"
   ]
  },
  {
   "cell_type": "code",
   "execution_count": 9,
   "id": "a9f4f11b-204d-4b21-a601-0e61e692c17b",
   "metadata": {},
   "outputs": [
    {
     "name": "stdout",
     "output_type": "stream",
     "text": [
      "[[1. 2. 3. 4. 5. 6. 7. 8.]]\n",
      "[[1. 2. 3. 4.]\n",
      " [2. 3. 4. 5.]\n",
      " [3. 4. 5. 6.]\n",
      " [4. 5. 6. 7.]\n",
      " [5. 6. 7. 8.]]\n"
     ]
    }
   ],
   "source": [
    "# Set initial data\n",
    "size, length = 1, 8\n",
    "device = 'cpu'\n",
    "w = Window(length, device=device)\n",
    "d = Data.from_data(w, torch.linspace(1, length, length, dtype=w.dtype, device=w.device).reshape(1, -1))\n",
    "print(d.data.detach().cpu().numpy())\n",
    "\n",
    "# Generate matrix\n",
    "print(d.make_matrix(4, 1, d.data[0]).cpu().numpy())\n",
    "\n",
    "# Clean\n",
    "del w\n",
    "del d\n",
    "if device != 'cpu':\n",
    "    torch.cuda.synchronize()\n",
    "    torch.cuda.empty_cache()"
   ]
  },
  {
   "cell_type": "markdown",
   "id": "662149d6",
   "metadata": {
    "heading_collapsed": true,
    "tags": []
   },
   "source": [
    "# Example-09: Generate signal from matrix"
   ]
  },
  {
   "cell_type": "code",
   "execution_count": 10,
   "id": "a3396439-8b9e-456d-a5b9-83c90a532154",
   "metadata": {},
   "outputs": [
    {
     "name": "stdout",
     "output_type": "stream",
     "text": [
      "[[0. 1. 2. 3. 4. 5. 6. 7.]\n",
      " [0. 1. 2. 3. 4. 5. 6. 7.]\n",
      " [0. 1. 2. 3. 4. 5. 6. 7.]\n",
      " [0. 1. 2. 3. 4. 5. 6. 7.]]\n",
      "[0. 0. 0. 0. 1. 1. 1. 1. 2. 2. 2. 2. 3. 3. 3. 3.]\n"
     ]
    }
   ],
   "source": [
    "# Set initial data\n",
    "size, length = 4, 8\n",
    "device = 'cpu'\n",
    "w = Window(length, dtype=torch.float64, device=device)\n",
    "d = Data.from_data(w, torch.tensor([[_ for _ in range(length)] for _ in range(size)], dtype=w.dtype, device=w.device))\n",
    "print(d.data.detach().cpu().numpy())\n",
    "\n",
    "# Generate signal\n",
    "print(d.make_signal(4, d.data).cpu().numpy())\n",
    "\n",
    "# Clean\n",
    "del w\n",
    "del d\n",
    "if device != 'cpu':\n",
    "    torch.cuda.synchronize()\n",
    "    torch.cuda.empty_cache()"
   ]
  },
  {
   "cell_type": "markdown",
   "id": "55b9ce4e",
   "metadata": {
    "heading_collapsed": true,
    "tags": []
   },
   "source": [
    "# Example-10: Indexing by PV name"
   ]
  },
  {
   "cell_type": "code",
   "execution_count": 11,
   "id": "f86285ef-5226-4121-9cdd-67013090735f",
   "metadata": {},
   "outputs": [
    {
     "name": "stdout",
     "output_type": "stream",
     "text": [
      "Window(1024, None, None)\n",
      "Data(54, Window(1024, None, None))\n",
      "[ 2.00000000e-03 -1.63494839e-03  1.18248417e-03 ... -3.80303997e-05\n",
      "  5.92001677e-04 -1.11432155e-03]\n",
      "[ 2.00000000e-03 -1.63494839e-03  1.18248417e-03 ... -3.80303997e-05\n",
      "  5.92001677e-04 -1.11432155e-03]\n"
     ]
    }
   ],
   "source": [
    "# Run TEST PVs (softIoc -d virtual_tbt.db)\n",
    "\n",
    "# Set parameters\n",
    "dtype, device = torch.float64, 'cpu'\n",
    "size, length = 54, 1024\n",
    "\n",
    "# Set list of pv names and starting indices\n",
    "bpm = ['STP2', 'STP4', 'SRP1', 'SRP2', 'SRP3', 'SRP4', 'SRP5', 'SRP6', 'SRP7', 'SRP8', 'SRP9', 'SIP1', 'SIP2', 'SRP10', 'SRP11', 'SRP12', 'SRP13', 'SRP14', 'SRP15', 'SRP16', 'SRP17', 'SEP5', 'SEP4', 'SEP3', 'SEP1', 'SEP0', 'NEP0', 'NEP1', 'NEP3', 'NEP4', 'NEP5', 'NRP17', 'NRP16', 'NRP15', 'NRP14', 'NRP13', 'NRP12', 'NRP11', 'NRP10', 'NIP3', 'NIP1', 'NRP9', 'NRP8', 'NRP7', 'NRP6', 'NRP5', 'NRP4', 'NRP3', 'NRP2', 'NRP1', 'NTP4', 'NTP2', 'NTP0', 'STP0']\n",
    "pv_list = [pv_make(name, 'x', True) for name in bpm]\n",
    "pv_rise = [0 for _ in range(len(bpm))]\n",
    "\n",
    "w = Window(1024, dtype=dtype, device=device)\n",
    "print(w)\n",
    "d = Data.from_epics(w, pv_list, pv_rise, count=1024)\n",
    "print(d)\n",
    "\n",
    "# Index by position or PV name (if epics)\n",
    "print(d[0].detach().cpu().numpy())\n",
    "print(d[\"H:STP2:DATA:X\"].detach().cpu().numpy())\n",
    "\n",
    "# Clean\n",
    "del w\n",
    "del d\n",
    "if device != 'cpu':\n",
    "    torch.cuda.synchronize()\n",
    "    torch.cuda.empty_cache()"
   ]
  },
  {
   "cell_type": "markdown",
   "id": "32e3f12e",
   "metadata": {
    "heading_collapsed": true,
    "tags": []
   },
   "source": [
    "# Example-11: Save TbT to TEST PVs"
   ]
  },
  {
   "cell_type": "code",
   "execution_count": 12,
   "id": "53c0fec1-0cf1-467f-ad23-b281847f30ab",
   "metadata": {},
   "outputs": [
    {
     "name": "stdout",
     "output_type": "stream",
     "text": [
      "Window(4096, None, None)\n",
      "Data(54, Window(4096, None, None))\n"
     ]
    }
   ],
   "source": [
    "# Run TEST PVs (softIoc -d virtual_tbt.db)\n",
    "\n",
    "# Set list of pv names and starting indices\n",
    "bpm = ['STP2', 'STP4', 'SRP1', 'SRP2', 'SRP3', 'SRP4', 'SRP5', 'SRP6', 'SRP7', 'SRP8', 'SRP9', 'SIP1', 'SIP2', 'SRP10', 'SRP11', 'SRP12', 'SRP13', 'SRP14', 'SRP15', 'SRP16', 'SRP17', 'SEP5', 'SEP4', 'SEP3', 'SEP1', 'SEP0', 'NEP0', 'NEP1', 'NEP3', 'NEP4', 'NEP5', 'NRP17', 'NRP16', 'NRP15', 'NRP14', 'NRP13', 'NRP12', 'NRP11', 'NRP10', 'NIP3', 'NIP1', 'NRP9', 'NRP8', 'NRP7', 'NRP6', 'NRP5', 'NRP4', 'NRP3', 'NRP2', 'NRP1', 'NTP4', 'NTP2', 'NTP0', 'STP0']\n",
    "pv_list = [pv_make(name, 'x', True) for name in bpm]\n",
    "pv_rise = [0 for _ in range(len(bpm))]\n",
    "\n",
    "# Generate test data\n",
    "frequency = 0.123456\n",
    "t = torch.linspace(1, 4096, 4096, dtype=torch.float64)\n",
    "data = [(10.0 + torch.randn(1)) * torch.cos(2.0*numpy.pi*frequency*t) for _ in pv_list]\n",
    "data = torch.stack(data) + 1.0\n",
    "\n",
    "# Set data \n",
    "device = 'cpu'\n",
    "w = Window(4096, dtype=torch.float64, device=device)\n",
    "d = Data.from_data(w, data)\n",
    "print(w)\n",
    "print(d)\n",
    "\n",
    "# Add attibutes\n",
    "d.pv_list = pv_list\n",
    "d.pv_rise = pv_rise\n",
    "d.save_epics()\n",
    "\n",
    "# Clean\n",
    "del w\n",
    "del d\n",
    "if device != 'cpu':\n",
    "    torch.cuda.synchronize()\n",
    "    torch.cuda.empty_cache()"
   ]
  },
  {
   "cell_type": "markdown",
   "id": "c7f481e2",
   "metadata": {
    "heading_collapsed": true,
    "tags": []
   },
   "source": [
    "# Example-12: Operations with window"
   ]
  },
  {
   "cell_type": "code",
   "execution_count": 13,
   "id": "e554c032-c421-4628-b6c8-1cb68e1b192c",
   "metadata": {},
   "outputs": [
    {
     "name": "stdout",
     "output_type": "stream",
     "text": [
      "Window(1024, 'cosine_window', 5.0)\n",
      "Data(1, Window(1024, 'cosine_window', 5.0))\n",
      "tensor([1.000668503033e+00], dtype=torch.float64)\n",
      "tensor([1.000000000000e+00], dtype=torch.float64)\n",
      "tensor([0.], dtype=torch.float64)\n"
     ]
    },
    {
     "data": {
      "image/png": "[encoded data removed]",
      "text/plain": [
       "<Figure size 720x360 with 1 Axes>"
      ]
     },
     "metadata": {
      "needs_background": "light"
     },
     "output_type": "display_data"
    }
   ],
   "source": [
    "# tbt.window_mean           -- return window weighted mean\n",
    "# tbt.window_remove_mean    -- copy data to work with removed window weighted mean\n",
    "# tbt.window_apply          -- apply window to work\n",
    "\n",
    "# Set window\n",
    "device = 'cpu'\n",
    "w = Window.from_cosine(1024, 5.0, dtype=torch.float64, device=device)\n",
    "print(w)\n",
    "\n",
    "# Set tbt\n",
    "d = Data.from_data(w, torch.stack([1.0 + torch.sin(2.0*numpy.pi*0.12*torch.linspace(0, 1024-1, 1024, dtype=w.dtype, device=w.device))]))\n",
    "print(d)\n",
    "\n",
    "# Compute mean values\n",
    "print(torch.mean(d.data, -1))\n",
    "print(*d.window_mean())\n",
    "\n",
    "# Remove mean\n",
    "d.window_remove_mean()\n",
    "print(*torch.round(d.window_mean()))\n",
    "\n",
    "# Apply window (change work)\n",
    "d.window_apply()\n",
    "\n",
    "# Plot \n",
    "t = torch.linspace(1, 1024, 1024, dtype=w.dtype, device=w.device)\n",
    "plt.figure(figsize=(10, 5))\n",
    "plt.scatter(t, d.data[0].detach().cpu(), c='r', s=0.5)\n",
    "plt.scatter(t, d.work[0].detach().cpu(), c='b', s=0.5)\n",
    "plt.show()\n",
    "\n",
    "# Clean\n",
    "del w\n",
    "del d\n",
    "if device != 'cpu':\n",
    "    torch.cuda.synchronize()\n",
    "    torch.cuda.empty_cache()"
   ]
  },
  {
   "cell_type": "markdown",
   "id": "50d68108",
   "metadata": {
    "heading_collapsed": true,
    "tags": []
   },
   "source": [
    "# Example-13: TbT data normalization"
   ]
  },
  {
   "cell_type": "code",
   "execution_count": 14,
   "id": "7712a946-ccf1-4afd-aef9-68b353e03390",
   "metadata": {},
   "outputs": [
    {
     "name": "stdout",
     "output_type": "stream",
     "text": [
      "Window(1024, 'cosine_window', 5.0)\n",
      "Data(1, Window(1024, 'cosine_window', 5.0))\n",
      "tensor([0.], dtype=torch.float64)\n",
      "tensor(1.000000000000e+00, dtype=torch.float64)\n"
     ]
    },
    {
     "data": {
      "image/png": "[encoded data removed]",
      "text/plain": [
       "<Figure size 720x360 with 1 Axes>"
      ]
     },
     "metadata": {
      "needs_background": "light"
     },
     "output_type": "display_data"
    }
   ],
   "source": [
    "# Set window\n",
    "device = 'cpu'\n",
    "w = Window.from_cosine(1024, 5.0, dtype=torch.float64, device=device)\n",
    "print(w)\n",
    "\n",
    "# Set TbT\n",
    "d = Data.from_data(w, torch.stack([1.0 + torch.sin(2.0*numpy.pi*0.12*torch.linspace(0, 1024-1, 1024, dtype=w.dtype, device=w.device))]))\n",
    "print(d)\n",
    "\n",
    "# Normalize (change work)\n",
    "# If window flag is True, window weighted mean is subtracted\n",
    "d.normalize(window=True)\n",
    "print(*torch.round(d.window_mean()))\n",
    "print(torch.std(d.work))\n",
    "\n",
    "# Plot \n",
    "t = torch.linspace(0, w.length-1, w.length, dtype=torch.float64, device=w.device)\n",
    "plt.figure(figsize=(10, 5))\n",
    "plt.scatter(t, d.data[0].detach().cpu(), c='r', s=0.5)\n",
    "plt.scatter(t, d.work[0].detach().cpu(), c='b', s=0.5)\n",
    "plt.show()\n",
    "\n",
    "# Clean\n",
    "del w\n",
    "del d\n",
    "if device != 'cpu':\n",
    "    torch.cuda.synchronize()\n",
    "    torch.cuda.empty_cache()"
   ]
  },
  {
   "cell_type": "markdown",
   "id": "3b45a9e0",
   "metadata": {
    "heading_collapsed": true,
    "tags": []
   },
   "source": [
    "# Example-14: Convert data (return work)"
   ]
  },
  {
   "cell_type": "code",
   "execution_count": 15,
   "id": "5af27775-6ef1-4632-975b-1bf07e9820fd",
   "metadata": {},
   "outputs": [
    {
     "name": "stdout",
     "output_type": "stream",
     "text": [
      "Window(4, None, None)\n",
      "Data(1, Window(4, None, None))\n",
      "tensor([[1.179837703705e+01, 8.709319989193e+00, 1.209502108467e+00, -6.410178963270e+00]],\n",
      "       dtype=torch.float64)\n",
      "[[11.79837704  8.70931999  1.20950211 -6.41017896]]\n",
      "{'H:STP0:DATA:X': array([11.79837704,  8.70931999,  1.20950211, -6.41017896])}\n",
      "              PV       DATA\n",
      "0  H:STP0:DATA:X  11.798377\n",
      "1  H:STP0:DATA:X   8.709320\n",
      "2  H:STP0:DATA:X   1.209502\n",
      "3  H:STP0:DATA:X  -6.410179\n"
     ]
    }
   ],
   "source": [
    "# Run TEST PVs (softIoc -d virtual_tbt.db)\n",
    "\n",
    "# Set list of pv names and starting indices\n",
    "bpm = ['STP0']\n",
    "pv_list = [pv_make(name, 'x', True) for name in bpm]\n",
    "pv_rise = [0 for _ in range(len(bpm))]\n",
    "\n",
    "# Set window\n",
    "device = 'cpu'\n",
    "w = Window(4, dtype=torch.float64, device=device)\n",
    "print(w)\n",
    "\n",
    "# Generate test data\n",
    "frequency = 0.123456\n",
    "t = torch.linspace(0, w.length-1, w.length, dtype=torch.float64, device=w.device)\n",
    "data = [(10.0 + torch.randn(1))*torch.cos(2.0*numpy.pi*frequency*t) for _ in pv_list]\n",
    "data = torch.stack(data) + 1.0\n",
    "data.shape\n",
    "\n",
    "# Set TbT\n",
    "d = Data.from_data(w, data)\n",
    "d.pv_list = pv_list\n",
    "d.pv_rise = pv_rise\n",
    "d.source = 'epics'\n",
    "print(d)\n",
    "\n",
    "# Convert (print result)\n",
    "print(d.to_tensor())\n",
    "print(d.to_numpy())\n",
    "print(d.to_dict())\n",
    "print(d.to_frame())\n",
    "\n",
    "# Clean\n",
    "del w\n",
    "del d\n",
    "if device != 'cpu':\n",
    "    torch.cuda.synchronize()\n",
    "    torch.cuda.empty_cache()"
   ]
  },
  {
   "cell_type": "markdown",
   "id": "55028610",
   "metadata": {
    "tags": []
   },
   "source": [
    "# Example-15: Set TEST PVs"
   ]
  },
  {
   "cell_type": "code",
   "execution_count": 1,
   "id": "ca2dc90c-1042-4009-a400-ebede244ccaa",
   "metadata": {},
   "outputs": [
    {
     "name": "stdout",
     "output_type": "stream",
     "text": [
      "True\n",
      "tensor([8.107244016756e-05, 1.523795064805e-04, 8.429864478522e-05,\n",
      "        1.751147241461e-04, 1.543330442183e-04, 1.264321785989e-04,\n",
      "        6.792794678664e-05, 1.506594049582e-04, 1.121436217692e-04,\n",
      "        1.890080232738e-04, 6.021893014377e-05, 1.099542626740e-04,\n",
      "        6.837199963703e-05, 1.211124853862e-04, 7.361075905772e-05,\n",
      "        6.309760713433e-05, 1.044634859617e-04, 1.623684738454e-04,\n",
      "        9.473167801187e-05, 1.333405027420e-04, 1.537710489454e-04,\n",
      "        1.661096331812e-04, 1.700378359976e-04, 7.721892323775e-05,\n",
      "        8.267986859256e-05, 1.800477183647e-04, 6.735870808663e-05,\n",
      "        1.134285809061e-04, 5.988474867965e-05, 1.316837366372e-04,\n",
      "        1.709506990796e-04, 1.681798537666e-04, 1.956602029246e-04,\n",
      "        1.936947432936e-04, 1.867419728679e-04, 1.563811357160e-04,\n",
      "        1.882012691988e-04, 1.981213056633e-04, 1.845735303189e-04,\n",
      "        7.892483810183e-05, 1.976022039067e-04, 5.528896707365e-05,\n",
      "        1.202488955940e-04, 1.659959831174e-04, 1.043589762921e-04,\n",
      "        1.658156282893e-04, 5.987906845416e-05, 1.904089511581e-04,\n",
      "        1.147588026625e-04, 1.150374070985e-04, 1.767885733837e-04,\n",
      "        1.654647272658e-04, 1.303732020725e-04, 1.343274404415e-04],\n",
      "       dtype=torch.float64)\n"
     ]
    }
   ],
   "source": [
    "# Start TEST PVs (softIoc -d virtual_tbt.db)\n",
    "# Load test TbT data, add orbit/noise/spikes and save to TEST PVs\n",
    "\n",
    "import epics\n",
    "import numpy\n",
    "import pandas\n",
    "import torch\n",
    "\n",
    "import sys\n",
    "sys.path.append('..')\n",
    "\n",
    "from harmonica.util import LIMIT, LENGTH, pv_make\n",
    "from harmonica.window import Window\n",
    "from harmonica.data import Data\n",
    "\n",
    "import matplotlib.pyplot as plt\n",
    "from time import sleep\n",
    "\n",
    "torch.set_printoptions(precision=12, sci_mode=True)\n",
    "print(torch.cuda.is_available())\n",
    "\n",
    "# Set window\n",
    "w = Window(4096, dtype=torch.float64)\n",
    "\n",
    "# Load test TbT data\n",
    "d = Data.from_file(54, w, '../virtual_tbt.npy')\n",
    "\n",
    "# Add random mean values (orbit) to work\n",
    "d.work.add_(torch.rand(54).reshape(-1, 1))\n",
    "\n",
    "# Add random noise to data\n",
    "std = 1.0E-6*(50.0 + 150.0*torch.rand(54, dtype=torch.float64))\n",
    "print(std)\n",
    "d.add_noise(std)\n",
    "\n",
    "# Add spikes\n",
    "# d.work[0, 128].add_(+0.025)\n",
    "# d.work[5, 256].add_(-0.025)\n",
    "\n",
    "# Set PV names and starting indices\n",
    "bpm = ['STP2', 'STP4', 'SRP1', 'SRP2', 'SRP3', 'SRP4', 'SRP5', 'SRP6', 'SRP7', 'SRP8', 'SRP9', 'SIP1', 'SIP2', 'SRP10', 'SRP11', 'SRP12', 'SRP13', 'SRP14', 'SRP15', 'SRP16', 'SRP17', 'SEP5', 'SEP4', 'SEP3', 'SEP1', 'SEP0', 'NEP0', 'NEP1', 'NEP3', 'NEP4', 'NEP5', 'NRP17', 'NRP16', 'NRP15', 'NRP14', 'NRP13', 'NRP12', 'NRP11', 'NRP10', 'NIP3', 'NIP1', 'NRP9', 'NRP8', 'NRP7', 'NRP6', 'NRP5', 'NRP4', 'NRP3', 'NRP2', 'NRP1', 'NTP4', 'NTP2', 'NTP0', 'STP0']\n",
    "pv_list = [pv_make(name, 'x', True) for name in bpm]\n",
    "pv_rise = [0 for _ in range(len(bpm))]\n",
    "d.pv_list = pv_list\n",
    "d.pv_rise = pv_rise\n",
    "\n",
    "# Save to epics (note, work is saved, not data)\n",
    "d.save_epics()"
   ]
  },
  {
   "cell_type": "code",
   "execution_count": null,
   "id": "117e0234",
   "metadata": {},
   "outputs": [],
   "source": []
  }
 ],
 "metadata": {
  "colab": {
   "collapsed_sections": [
    "14c18277"
   ],
   "name": "harmonica.ipynb",
   "provenance": []
  },
  "kernelspec": {
   "display_name": "Python 3 (ipykernel)",
   "language": "python",
   "name": "python3"
  },
  "language_info": {
   "codemirror_mode": {
    "name": "ipython",
    "version": 3
   },
   "file_extension": ".py",
   "mimetype": "text/x-python",
   "name": "python",
   "nbconvert_exporter": "python",
   "pygments_lexer": "ipython3",
   "version": "3.9.7"
  },
  "latex_envs": {
   "LaTeX_envs_menu_present": true,
   "autoclose": false,
   "autocomplete": true,
   "bibliofile": "biblio.bib",
   "cite_by": "apalike",
   "current_citInitial": 1,
   "eqLabelWithNumbers": true,
   "eqNumInitial": 1,
   "hotkeys": {
    "equation": "Ctrl-E",
    "itemize": "Ctrl-I"
   },
   "labels_anchors": false,
   "latex_user_defs": false,
   "report_style_numbering": false,
   "user_envs_cfg": false
  },
  "toc-autonumbering": false,
  "toc-showmarkdowntxt": false,
  "toc-showtags": false
 },
 "nbformat": 4,
 "nbformat_minor": 5
}
