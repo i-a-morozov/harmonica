{
 "cells": [
  {
   "cell_type": "markdown",
   "id": "9e0281b5",
   "metadata": {
    "heading_collapsed": true,
    "tags": []
   },
   "source": [
    "# Example-01: Data initialization"
   ]
  },
  {
   "cell_type": "code",
   "execution_count": 1,
   "id": "c5e0e6e3",
   "metadata": {
    "tags": []
   },
   "outputs": [
    {
     "name": "stdout",
     "output_type": "stream",
     "text": [
      "True\n",
      "16\n"
     ]
    }
   ],
   "source": [
    "# Import\n",
    "\n",
    "import epics\n",
    "import numpy\n",
    "import torch\n",
    "\n",
    "import sys\n",
    "sys.path.append('..')\n",
    "\n",
    "from harmonica.util import pv_make\n",
    "from harmonica.window import Window\n",
    "from harmonica.data import Data\n",
    "\n",
    "import matplotlib.pyplot as plt\n",
    "from time import sleep\n",
    "\n",
    "torch.set_printoptions(precision=12, sci_mode=True)\n",
    "print(torch.cuda.is_available())\n",
    "print(torch.get_num_threads())"
   ]
  },
  {
   "cell_type": "code",
   "execution_count": 2,
   "id": "7f32a467-1ad5-482d-b26c-3f20d3c7bb5f",
   "metadata": {
    "tags": []
   },
   "outputs": [],
   "source": [
    "# Set data type and device\n",
    "\n",
    "dtype = torch.float64\n",
    "device = torch.device('cpu')"
   ]
  },
  {
   "cell_type": "code",
   "execution_count": 3,
   "id": "9e3059de-79c9-4a32-8713-551956749d63",
   "metadata": {
    "tags": []
   },
   "outputs": [
    {
     "name": "stdout",
     "output_type": "stream",
     "text": [
      "Window(1024, None, None)\n",
      "Data(54, Window(1024, None, None))\n",
      "54\n",
      "1024\n",
      "[1. 1. 1. ... 1. 1. 1.]\n",
      "torch.float64\n",
      "cpu\n",
      "torch.Size([54, 1024])\n",
      "[[0. 0. 0. ... 0. 0. 0.]\n",
      " [0. 0. 0. ... 0. 0. 0.]\n",
      " [0. 0. 0. ... 0. 0. 0.]\n",
      " ...\n",
      " [0. 0. 0. ... 0. 0. 0.]\n",
      " [0. 0. 0. ... 0. 0. 0.]\n",
      " [0. 0. 0. ... 0. 0. 0.]]\n",
      "torch.Size([54, 1024])\n",
      "[[0. 0. 0. ... 0. 0. 0.]\n",
      " [0. 0. 0. ... 0. 0. 0.]\n",
      " [0. 0. 0. ... 0. 0. 0.]\n",
      " ...\n",
      " [0. 0. 0. ... 0. 0. 0.]\n",
      " [0. 0. 0. ... 0. 0. 0.]\n",
      " [0. 0. 0. ... 0. 0. 0.]]\n",
      "empty\n",
      "[0. 0. 0. ... 0. 0. 0.]\n",
      "[0. 0. 0. ... 0. 0. 0.]\n",
      "[[1. 1. 1. ... 1. 1. 1.]\n",
      " [1. 1. 1. ... 1. 1. 1.]\n",
      " [1. 1. 1. ... 1. 1. 1.]\n",
      " ...\n",
      " [1. 1. 1. ... 1. 1. 1.]\n",
      " [1. 1. 1. ... 1. 1. 1.]\n",
      " [1. 1. 1. ... 1. 1. 1.]]\n",
      "[[1. 1. 1. ... 1. 1. 1.]\n",
      " [1. 1. 1. ... 1. 1. 1.]\n",
      " [1. 1. 1. ... 1. 1. 1.]\n",
      " ...\n",
      " [1. 1. 1. ... 1. 1. 1.]\n",
      " [1. 1. 1. ... 1. 1. 1.]\n",
      " [1. 1. 1. ... 1. 1. 1.]]\n",
      "[[0. 0. 0. ... 0. 0. 0.]\n",
      " [0. 0. 0. ... 0. 0. 0.]\n",
      " [0. 0. 0. ... 0. 0. 0.]\n",
      " ...\n",
      " [0. 0. 0. ... 0. 0. 0.]\n",
      " [0. 0. 0. ... 0. 0. 0.]\n",
      " [0. 0. 0. ... 0. 0. 0.]]\n",
      "[[0. 0. 0. ... 0. 0. 0.]\n",
      " [0. 0. 0. ... 0. 0. 0.]\n",
      " [0. 0. 0. ... 0. 0. 0.]\n",
      " ...\n",
      " [0. 0. 0. ... 0. 0. 0.]\n",
      " [0. 0. 0. ... 0. 0. 0.]\n",
      " [0. 0. 0. ... 0. 0. 0.]]\n",
      "Window(1024, 'cosine_window', 1.0)\n",
      "size: 54\n",
      "window: Window(1024, 'cosine_window', 1.0)\n",
      "length: 1024\n",
      "dtype: torch.float64\n",
      "device: cpu\n",
      "data: tensor([[0., 0., 0.,  ..., 0., 0., 0.],\n",
      "        [0., 0., 0.,  ..., 0., 0., 0.],\n",
      "        [0., 0., 0.,  ..., 0., 0., 0.],\n",
      "        ...,\n",
      "        [0., 0., 0.,  ..., 0., 0., 0.],\n",
      "        [0., 0., 0.,  ..., 0., 0., 0.],\n",
      "        [0., 0., 0.,  ..., 0., 0., 0.]], dtype=torch.float64)\n",
      "work: tensor([[0., 0., 0.,  ..., 0., 0., 0.],\n",
      "        [0., 0., 0.,  ..., 0., 0., 0.],\n",
      "        [0., 0., 0.,  ..., 0., 0., 0.],\n",
      "        ...,\n",
      "        [0., 0., 0.,  ..., 0., 0., 0.],\n",
      "        [0., 0., 0.,  ..., 0., 0., 0.],\n",
      "        [0., 0., 0.,  ..., 0., 0., 0.]], dtype=torch.float64)\n",
      "source: data\n",
      "file: None\n",
      "pv_list: None\n",
      "pv_rise: None\n"
     ]
    }
   ],
   "source": [
    "# Set window\n",
    "\n",
    "w = Window(length=1024, dtype=dtype, device=device)\n",
    "print(w)\n",
    "\n",
    "# Set TbT data (54 signals with 1024 length)\n",
    "\n",
    "d = Data(size=54, window=w)\n",
    "print(d)\n",
    "\n",
    "# Number of signals in TbT data\n",
    "\n",
    "print(d.size)\n",
    "\n",
    "# Signal length (fixed by window length)\n",
    "\n",
    "print(d.length)\n",
    "\n",
    "# Window data\n",
    "\n",
    "print(d.window.window.cpu().numpy())\n",
    "\n",
    "# TbT data contaner dtype and device for data and work (fixed by window)\n",
    "\n",
    "print(d.dtype)\n",
    "print(d.device)\n",
    "\n",
    "# TbT data\n",
    "\n",
    "print(d.data.shape)\n",
    "print(d.data.cpu().numpy())\n",
    "\n",
    "# TbT work (stores a copy of data, window or normalization is applied to work)\n",
    "\n",
    "print(d.work.shape)\n",
    "print(d.work.cpu().numpy())\n",
    "\n",
    "# Initialization source, 'empty' for empty initialization\n",
    "\n",
    "print(d.source)\n",
    "\n",
    "# Get item (signal)\n",
    "\n",
    "print(d.data[0].cpu().numpy())\n",
    "print(d[0].cpu().numpy())\n",
    "\n",
    "# Set data (resets work)\n",
    "\n",
    "d.set_data(torch.ones(d.data.shape, dtype=dtype, device=device))\n",
    "print(d.data.cpu().numpy())\n",
    "print(d.work.cpu().numpy())\n",
    "\n",
    "# If data is modified directly, use reset to update work if needed\n",
    "\n",
    "d.data.copy_(torch.zeros(d.data.shape, dtype=dtype, device=device))\n",
    "d.reset()\n",
    "print(d.data.cpu().numpy())\n",
    "print(d.work.cpu().numpy())\n",
    "\n",
    "# Reset window\n",
    "\n",
    "d.window.set_data(name='cosine_window', order=1.0)\n",
    "print(w)\n",
    "\n",
    "# Print data attributes\n",
    "\n",
    "for key, value in d.__dict__.items():\n",
    "    print(f'{key}: {value}')"
   ]
  },
  {
   "cell_type": "markdown",
   "id": "7043f4d8",
   "metadata": {
    "heading_collapsed": true,
    "tags": []
   },
   "source": [
    "# Example-02: Free CUDA memory"
   ]
  },
  {
   "cell_type": "code",
   "execution_count": 1,
   "id": "c0ffb664-e6c8-43d1-8bcb-419ce19d6205",
   "metadata": {
    "tags": []
   },
   "outputs": [
    {
     "name": "stdout",
     "output_type": "stream",
     "text": [
      "True\n",
      "16\n"
     ]
    }
   ],
   "source": [
    "# Import\n",
    "\n",
    "import epics\n",
    "import numpy\n",
    "import torch\n",
    "\n",
    "import sys\n",
    "sys.path.append('..')\n",
    "\n",
    "from harmonica.util import pv_make\n",
    "from harmonica.window import Window\n",
    "from harmonica.data import Data\n",
    "\n",
    "import matplotlib.pyplot as plt\n",
    "from time import sleep\n",
    "\n",
    "torch.set_printoptions(precision=12, sci_mode=True)\n",
    "print(torch.cuda.is_available())\n",
    "print(torch.get_num_threads())"
   ]
  },
  {
   "cell_type": "code",
   "execution_count": 2,
   "id": "47c572a9-739b-4c97-ad1d-e64a1996aa41",
   "metadata": {
    "tags": []
   },
   "outputs": [],
   "source": [
    "# Set data type and device\n",
    "\n",
    "dtype = torch.float64\n",
    "device = torch.device('cpu')"
   ]
  },
  {
   "cell_type": "code",
   "execution_count": 3,
   "id": "ddf58c3e-d3d5-46d5-a4f8-383a1f0a5dba",
   "metadata": {
    "tags": []
   },
   "outputs": [
    {
     "name": "stdout",
     "output_type": "stream",
     "text": [
      "Data(54, Window(1024, None, None))\n",
      "892928\n",
      "0\n"
     ]
    }
   ],
   "source": [
    "# Delete objects and call torch.cuda.empty_cache() to free CUDA memory\n",
    "\n",
    "# Set window and data\n",
    "\n",
    "w = Window(length=1024, dtype=dtype, device=torch.device('cuda'))\n",
    "d = Data(size=54, window=w)\n",
    "print(d)\n",
    "\n",
    "# Print allocated memory info\n",
    "\n",
    "print(torch.cuda.memory_allocated())\n",
    "\n",
    "# Delete objects\n",
    "\n",
    "del w\n",
    "del d\n",
    "\n",
    "# Empty cache\n",
    "\n",
    "if device != torch.device('cpu'):\n",
    "    torch.cuda.synchronize()\n",
    "    torch.cuda.empty_cache()\n",
    "    \n",
    "# Print allocated memory info\n",
    "\n",
    "print(torch.cuda.memory_allocated())"
   ]
  },
  {
   "cell_type": "markdown",
   "id": "c5e7848c",
   "metadata": {
    "heading_collapsed": true,
    "tags": []
   },
   "source": [
    "# Example-03: Initialize from data"
   ]
  },
  {
   "cell_type": "code",
   "execution_count": 1,
   "id": "6a826aba-0536-4fda-a38d-c96b08a6d0fb",
   "metadata": {
    "tags": []
   },
   "outputs": [
    {
     "name": "stdout",
     "output_type": "stream",
     "text": [
      "True\n",
      "16\n"
     ]
    }
   ],
   "source": [
    "# Import\n",
    "\n",
    "import epics\n",
    "import numpy\n",
    "import torch\n",
    "\n",
    "import sys\n",
    "sys.path.append('..')\n",
    "\n",
    "from harmonica.util import pv_make\n",
    "from harmonica.window import Window\n",
    "from harmonica.data import Data\n",
    "\n",
    "import matplotlib.pyplot as plt\n",
    "from time import sleep\n",
    "\n",
    "torch.set_printoptions(precision=12, sci_mode=True)\n",
    "print(torch.cuda.is_available())\n",
    "print(torch.get_num_threads())"
   ]
  },
  {
   "cell_type": "code",
   "execution_count": 2,
   "id": "f1f29688-328b-45cd-8277-d2f3ad4cfe47",
   "metadata": {
    "tags": []
   },
   "outputs": [],
   "source": [
    "# Set data type and device\n",
    "\n",
    "dtype = torch.float64\n",
    "device = torch.device('cpu')"
   ]
  },
  {
   "cell_type": "code",
   "execution_count": 3,
   "id": "6e6d9230-4036-46b5-aa4d-0662ca8cd968",
   "metadata": {
    "tags": []
   },
   "outputs": [
    {
     "name": "stdout",
     "output_type": "stream",
     "text": [
      "Window(1024, 'cosine_window', 1.0)\n",
      "Data(54, Window(1024, 'cosine_window', 1.0))\n",
      "54\n",
      "1024\n",
      "data\n",
      "torch.Size([54, 1024])\n",
      "[[1. 1. 1. ... 1. 1. 1.]\n",
      " [1. 1. 1. ... 1. 1. 1.]\n",
      " [1. 1. 1. ... 1. 1. 1.]\n",
      " ...\n",
      " [1. 1. 1. ... 1. 1. 1.]\n",
      " [1. 1. 1. ... 1. 1. 1.]\n",
      " [1. 1. 1. ... 1. 1. 1.]]\n",
      "torch.Size([54, 1024])\n",
      "[[1. 1. 1. ... 1. 1. 1.]\n",
      " [1. 1. 1. ... 1. 1. 1.]\n",
      " [1. 1. 1. ... 1. 1. 1.]\n",
      " ...\n",
      " [1. 1. 1. ... 1. 1. 1.]\n",
      " [1. 1. 1. ... 1. 1. 1.]\n",
      " [1. 1. 1. ... 1. 1. 1.]]\n"
     ]
    }
   ],
   "source": [
    "# Set window\n",
    "\n",
    "w = Window(length=1024, name='cosine_window', order=1.0, dtype=dtype, device=device)\n",
    "print(w)\n",
    "\n",
    "# Set input data (length should match window length)\n",
    "\n",
    "data = torch.ones((54, w.length), dtype=dtype, device=device)\n",
    "\n",
    "# Initialize TbT\n",
    "\n",
    "d = Data.from_data(window=w, data=data)\n",
    "print(d)\n",
    "\n",
    "# Info\n",
    "\n",
    "print(d.size)\n",
    "print(d.length)\n",
    "print(d.source)\n",
    "print(d.data.shape)\n",
    "print(d.data.cpu().numpy())\n",
    "print(d.work.shape)\n",
    "print(d.work.cpu().numpy())\n",
    "\n",
    "# Clean\n",
    "\n",
    "del data\n",
    "del w\n",
    "del d\n",
    "if device != torch.device('cpu'):\n",
    "    torch.cuda.synchronize()\n",
    "    torch.cuda.empty_cache()"
   ]
  },
  {
   "cell_type": "markdown",
   "id": "c1d057c8",
   "metadata": {
    "heading_collapsed": true,
    "tags": []
   },
   "source": [
    "# Example-04: Initialization from harmonics"
   ]
  },
  {
   "cell_type": "code",
   "execution_count": 1,
   "id": "8dc75081-b84e-4d04-9371-c805433b597f",
   "metadata": {
    "tags": []
   },
   "outputs": [
    {
     "name": "stdout",
     "output_type": "stream",
     "text": [
      "True\n",
      "16\n"
     ]
    }
   ],
   "source": [
    "# Import\n",
    "\n",
    "import epics\n",
    "import numpy\n",
    "import torch\n",
    "\n",
    "import sys\n",
    "sys.path.append('..')\n",
    "\n",
    "from harmonica.util import pv_make\n",
    "from harmonica.window import Window\n",
    "from harmonica.data import Data\n",
    "\n",
    "import matplotlib.pyplot as plt\n",
    "from time import sleep\n",
    "\n",
    "torch.set_printoptions(precision=12, sci_mode=True)\n",
    "print(torch.cuda.is_available())\n",
    "print(torch.get_num_threads())"
   ]
  },
  {
   "cell_type": "code",
   "execution_count": 2,
   "id": "abee9ed9-45af-42a6-b2d9-42f9303a7550",
   "metadata": {
    "tags": []
   },
   "outputs": [],
   "source": [
    "# Set data type and device\n",
    "\n",
    "dtype = torch.float64\n",
    "device = torch.device('cpu')"
   ]
  },
  {
   "cell_type": "code",
   "execution_count": 3,
   "id": "b4027703-bfd1-4e87-92d5-d39160e87053",
   "metadata": {
    "tags": []
   },
   "outputs": [
    {
     "name": "stdout",
     "output_type": "stream",
     "text": [
      "Window(8192, 'cosine_window', 1.0)\n",
      "Data(2, Window(8192, 'cosine_window', 1.0))\n",
      "[0.1  0.34]\n",
      "[5.  0.5 0.1]\n",
      "[0.1 0.5 1. ]\n",
      "[5.5 1.5 4.1]\n",
      "[0.2 0.6 4. ]\n"
     ]
    }
   ],
   "source": [
    "# This initialization can be used to generate test data from given harmonics\n",
    "# Another option is to create empty instance and set data and work containers\n",
    "# Or use from_data (classmethod)\n",
    "\n",
    "# Set window\n",
    "\n",
    "w = Window(length=8192, name='cosine_window', order=1.0, dtype=dtype, device=device)\n",
    "print(w)\n",
    "\n",
    "# Generate harmonics (generate two signals with three harmonics in each signal)\n",
    "\n",
    "# A harmonic can be generated with Data.make_harmonic (staticmethod)\n",
    "\n",
    "m, f, c, s = 0.5, [0.10, 0.20, 0.30], [5.0, 0.5, 0.1], [0.1, 0.5, 1.0]\n",
    "h1 = m*torch.ones(w.length, dtype=dtype, device=device)\n",
    "for f, c, s in zip(f, c, s):\n",
    "    h1 += Data.make_harmonic(w.length, f, c=c, s=s, dtype=dtype, device=device)\n",
    "    \n",
    "m, f, c, s = 1.0, [0.12, 0.23, 0.34], [5.5, 1.5, 4.1], [0.2, 0.6, 4.0]\n",
    "h2 = m*torch.ones(w.length, dtype=dtype, device=device)\n",
    "for f, c, s in zip(f, c, s):\n",
    "    h2 += Data.make_harmonic(w.length, f, c=c, s=s, dtype=dtype, device=device)\n",
    "    \n",
    "# Set TbT\n",
    "\n",
    "d = Data.from_data(w, torch.stack([h1, h2]))\n",
    "print(d)\n",
    "\n",
    "# Check data frequencies (largest bin in FFT spectrum)\n",
    "\n",
    "print(torch.argmax(torch.abs(torch.fft.fft(d.data, 1000)), 1).to(dtype).cpu().div_(1000).numpy())\n",
    "\n",
    "# Check amplitudes\n",
    "\n",
    "t = 2.0*numpy.pi*torch.linspace(0, d.length-1, d.length, dtype=dtype, device=device)\n",
    "f = torch.tensor([[0.10, 0.20, 0.30], [0.12, 0.23, 0.34]], dtype=dtype, device=device).reshape(d.size, -1, 1)\n",
    "for i in range(d.size):\n",
    "    print((2*torch.sum(d.window.window*d[i]*torch.cos(t*f[i]), 1)/d.length).cpu().numpy())\n",
    "    print((2*torch.sum(d.window.window*d[i]*torch.sin(t*f[i]), 1)/d.length).cpu().numpy())\n",
    "    \n",
    "# Clean\n",
    "\n",
    "del w\n",
    "del h1, h2\n",
    "del d\n",
    "if device != torch.device('cpu'):\n",
    "    torch.cuda.synchronize()\n",
    "    torch.cuda.empty_cache()"
   ]
  },
  {
   "cell_type": "markdown",
   "id": "18a3aabc",
   "metadata": {
    "heading_collapsed": true,
    "tags": []
   },
   "source": [
    "# Example-05: Initialization from file"
   ]
  },
  {
   "cell_type": "code",
   "execution_count": 1,
   "id": "fb5d1f57-54e0-4a2b-8572-36f74dd9783b",
   "metadata": {
    "tags": []
   },
   "outputs": [
    {
     "name": "stdout",
     "output_type": "stream",
     "text": [
      "True\n",
      "16\n"
     ]
    }
   ],
   "source": [
    "# Import\n",
    "\n",
    "import epics\n",
    "import numpy\n",
    "import torch\n",
    "\n",
    "import sys\n",
    "sys.path.append('..')\n",
    "\n",
    "from harmonica.util import pv_make\n",
    "from harmonica.window import Window\n",
    "from harmonica.data import Data\n",
    "\n",
    "import matplotlib.pyplot as plt\n",
    "from time import sleep\n",
    "\n",
    "torch.set_printoptions(precision=12, sci_mode=True)\n",
    "print(torch.cuda.is_available())\n",
    "print(torch.get_num_threads())"
   ]
  },
  {
   "cell_type": "code",
   "execution_count": 2,
   "id": "07b6fc5e-caab-4179-a6f3-06a940034e93",
   "metadata": {
    "tags": []
   },
   "outputs": [],
   "source": [
    "# Set data type and device\n",
    "\n",
    "dtype = torch.float64\n",
    "device = torch.device('cpu')"
   ]
  },
  {
   "cell_type": "code",
   "execution_count": 3,
   "id": "ea1c1e3e-7df1-4aef-8405-ada175c53e8c",
   "metadata": {
    "tags": []
   },
   "outputs": [
    {
     "name": "stdout",
     "output_type": "stream",
     "text": [
      "Window(4096, None, None)\n",
      "Data(54, Window(4096, None, None))\n",
      "[[ 0.002      -0.00163495  0.00118248 ... -0.00226132  0.00200505\n",
      "  -0.00164158]\n",
      " [ 0.00021377  0.00014743 -0.00050074 ... -0.00056897  0.00021954\n",
      "   0.00014162]\n",
      " [-0.00160935  0.00180873 -0.00191141 ...  0.00131871 -0.0016054\n",
      "   0.00180627]\n",
      " ...\n",
      " [ 0.00030317  0.00025561 -0.00080072 ... -0.00085418  0.00031211\n",
      "   0.00024664]\n",
      " [-0.00279438  0.00317769 -0.0033911  ...  0.00225203 -0.00278692\n",
      "   0.00317282]\n",
      " [-0.0033271   0.00343245 -0.00335429 ...  0.00303791 -0.00332392\n",
      "   0.00343221]]\n",
      "[[ 0.002      -0.00163495  0.00118248 ... -0.00226132  0.00200505\n",
      "  -0.00164158]\n",
      " [ 0.00021377  0.00014743 -0.00050074 ... -0.00056897  0.00021954\n",
      "   0.00014162]\n",
      " [-0.00160935  0.00180873 -0.00191141 ...  0.00131871 -0.0016054\n",
      "   0.00180627]\n",
      " ...\n",
      " [ 0.00030317  0.00025561 -0.00080072 ... -0.00085418  0.00031211\n",
      "   0.00024664]\n",
      " [-0.00279438  0.00317769 -0.0033911  ...  0.00225203 -0.00278692\n",
      "   0.00317282]\n",
      " [-0.0033271   0.00343245 -0.00335429 ...  0.00303791 -0.00332392\n",
      "   0.00343221]]\n"
     ]
    }
   ],
   "source": [
    "# This initialization can be used to load TbT data from file (numpy)\n",
    "# Data also can be loaded into given instance using load_data method (updates data and work containers)\n",
    "# In this case input size and length should match data container\n",
    "\n",
    "# Set window\n",
    "\n",
    "w = Window(length=4096, dtype=dtype, device=device)\n",
    "print(w)\n",
    "\n",
    "# Initialize from file\n",
    "\n",
    "d = Data.from_file(54, w, '../virtual_tbt.npy')\n",
    "print(d)\n",
    "print(d.data.cpu().numpy())\n",
    "print(d.work.cpu().numpy())\n",
    "\n",
    "# Clean\n",
    "\n",
    "del w\n",
    "del d\n",
    "if device != torch.device('cpu'):\n",
    "    torch.cuda.synchronize()\n",
    "    torch.cuda.empty_cache()"
   ]
  },
  {
   "cell_type": "markdown",
   "id": "b873ea29",
   "metadata": {
    "heading_collapsed": true,
    "tags": []
   },
   "source": [
    "# Example-06: Put data to epics"
   ]
  },
  {
   "cell_type": "code",
   "execution_count": 1,
   "id": "e9bdfea0-6efd-4fdc-b847-a2d7ba7f295a",
   "metadata": {
    "tags": []
   },
   "outputs": [
    {
     "name": "stdout",
     "output_type": "stream",
     "text": [
      "True\n",
      "16\n"
     ]
    }
   ],
   "source": [
    "# Import\n",
    "\n",
    "import epics\n",
    "import numpy\n",
    "import torch\n",
    "\n",
    "import sys\n",
    "sys.path.append('..')\n",
    "\n",
    "from harmonica.util import pv_make\n",
    "from harmonica.window import Window\n",
    "from harmonica.data import Data\n",
    "\n",
    "import matplotlib.pyplot as plt\n",
    "from time import sleep\n",
    "\n",
    "torch.set_printoptions(precision=12, sci_mode=True)\n",
    "print(torch.cuda.is_available())\n",
    "print(torch.get_num_threads())"
   ]
  },
  {
   "cell_type": "code",
   "execution_count": 2,
   "id": "05de0185-7116-4259-b0ec-d1bf882a2c35",
   "metadata": {
    "tags": []
   },
   "outputs": [],
   "source": [
    "# Set data type and device\n",
    "\n",
    "dtype = torch.float64\n",
    "device = torch.device('cpu')"
   ]
  },
  {
   "cell_type": "code",
   "execution_count": 3,
   "id": "a9084585-3c50-4343-8cce-56564dbabb92",
   "metadata": {
    "tags": []
   },
   "outputs": [
    {
     "name": "stdout",
     "output_type": "stream",
     "text": [
      "Window(4096, None, None)\n",
      "Data(54, Window(4096, None, None))\n",
      "file\n",
      "[0.002]\n",
      "[0.002]\n",
      "[0.002]\n"
     ]
    }
   ],
   "source": [
    "# Run TEST PVs (softIoc -d harmonica.db)\n",
    "\n",
    "# Set window\n",
    "\n",
    "w = Window(4096, dtype=dtype, device=device)\n",
    "print(w)\n",
    "\n",
    "# Load data from file\n",
    "\n",
    "d = Data.from_file(54, w, '../virtual_tbt.npy')\n",
    "print(d)\n",
    "print(d.source)\n",
    "\n",
    "# Set list of pv names and starting indices\n",
    "\n",
    "bpm = ['STP2', 'STP4', 'SRP1', 'SRP2', 'SRP3', 'SRP4', 'SRP5', 'SRP6', 'SRP7', 'SRP8', 'SRP9', 'SIP1', 'SIP2', 'SRP10', 'SRP11', 'SRP12', 'SRP13', 'SRP14', 'SRP15', 'SRP16', 'SRP17', 'SEP5', 'SEP4', 'SEP3', 'SEP1', 'SEP0', 'NEP0', 'NEP1', 'NEP3', 'NEP4', 'NEP5', 'NRP17', 'NRP16', 'NRP15', 'NRP14', 'NRP13', 'NRP12', 'NRP11', 'NRP10', 'NIP3', 'NIP1', 'NRP9', 'NRP8', 'NRP7', 'NRP6', 'NRP5', 'NRP4', 'NRP3', 'NRP2', 'NRP1', 'NTP4', 'NTP2', 'NTP0', 'STP0']\n",
    "pv_list = [pv_make(name, 'X', True) for name in bpm]\n",
    "pv_rise = [0 for _ in range(len(bpm))]\n",
    "\n",
    "# Put tensor to PV\n",
    "\n",
    "Data.pv_put('H:STP2:DATA:X', d[0])\n",
    "\n",
    "# Get tensor from PV\n",
    "\n",
    "print(Data.pv_get('H:STP2:DATA:X', count=1, dtype=dtype, device=device).cpu().numpy())\n",
    "print(epics.caget('H:STP2:DATA:X', count=1))\n",
    "\n",
    "# Set PVs with loop\n",
    "\n",
    "for name, signal in zip(pv_list, d):\n",
    "     Data.pv_put(name, signal)\n",
    "        \n",
    "# Set PVs with save_epics (Data instance is expected to have pv_list attribute)\n",
    "\n",
    "d.pv_list = pv_list\n",
    "d.save_epics()\n",
    "\n",
    "# Load data from PVs\n",
    "# Data instance should have pv_rise attribute\n",
    "\n",
    "d.pv_rise = pv_rise\n",
    "d.load_epics(shift=0, count=8192)\n",
    "print(d.data[0, 0:1].cpu().numpy())\n",
    "\n",
    "# Clean\n",
    "\n",
    "del w\n",
    "del d\n",
    "if device != torch.device('cpu'):\n",
    "    torch.cuda.synchronize()\n",
    "    torch.cuda.empty_cache()"
   ]
  },
  {
   "cell_type": "markdown",
   "id": "65e458b6",
   "metadata": {
    "heading_collapsed": true,
    "tags": []
   },
   "source": [
    "# Example-07: Initialization from epics"
   ]
  },
  {
   "cell_type": "code",
   "execution_count": 1,
   "id": "8ebb4b4a-e5b0-4d39-b89e-7aa0f796bb56",
   "metadata": {
    "tags": []
   },
   "outputs": [
    {
     "name": "stdout",
     "output_type": "stream",
     "text": [
      "True\n",
      "16\n"
     ]
    }
   ],
   "source": [
    "# Import\n",
    "\n",
    "import epics\n",
    "import numpy\n",
    "import torch\n",
    "\n",
    "import sys\n",
    "sys.path.append('..')\n",
    "\n",
    "from harmonica.util import pv_make\n",
    "from harmonica.window import Window\n",
    "from harmonica.data import Data\n",
    "\n",
    "import matplotlib.pyplot as plt\n",
    "from time import sleep\n",
    "\n",
    "torch.set_printoptions(precision=12, sci_mode=True)\n",
    "print(torch.cuda.is_available())\n",
    "print(torch.get_num_threads())"
   ]
  },
  {
   "cell_type": "code",
   "execution_count": 2,
   "id": "4f8ffba4-5939-48c4-a641-af56c24f7a11",
   "metadata": {
    "tags": []
   },
   "outputs": [],
   "source": [
    "# Set data type and device\n",
    "\n",
    "dtype = torch.float64\n",
    "device = torch.device('cpu')"
   ]
  },
  {
   "cell_type": "code",
   "execution_count": 3,
   "id": "e3d7f13d-40ac-4011-8c47-22b3dda8db46",
   "metadata": {
    "tags": []
   },
   "outputs": [
    {
     "name": "stdout",
     "output_type": "stream",
     "text": [
      "Window(1024, 'cosine_window', 1.0)\n",
      "Data(54, Window(1024, 'cosine_window', 1.0))\n",
      "epics\n",
      "torch.Size([54, 1024])\n"
     ]
    }
   ],
   "source": [
    "# Run TEST PVs (softIoc -d harmonica.db)\n",
    "\n",
    "# Use to load data from list of PV names\n",
    "# Optionaly provide a list of starting values and shift for all PVs\n",
    "\n",
    "# Set window\n",
    "\n",
    "w = Window(1024, 'cosine_window', 1.0, dtype=dtype, device=device)\n",
    "print(w)\n",
    "\n",
    "# Set list of pv names and starting indices\n",
    "\n",
    "bpm = ['STP2', 'STP4', 'SRP1', 'SRP2', 'SRP3', 'SRP4', 'SRP5', 'SRP6', 'SRP7', 'SRP8', 'SRP9', 'SIP1', 'SIP2', 'SRP10', 'SRP11', 'SRP12', 'SRP13', 'SRP14', 'SRP15', 'SRP16', 'SRP17', 'SEP5', 'SEP4', 'SEP3', 'SEP1', 'SEP0', 'NEP0', 'NEP1', 'NEP3', 'NEP4', 'NEP5', 'NRP17', 'NRP16', 'NRP15', 'NRP14', 'NRP13', 'NRP12', 'NRP11', 'NRP10', 'NIP3', 'NIP1', 'NRP9', 'NRP8', 'NRP7', 'NRP6', 'NRP5', 'NRP4', 'NRP3', 'NRP2', 'NRP1', 'NTP4', 'NTP2', 'NTP0', 'STP0']\n",
    "pv_list = [pv_make(name, 'X', True) for name in bpm]\n",
    "pv_rise = [0 for _ in range(len(bpm))]\n",
    "\n",
    "# Set data\n",
    "\n",
    "d = Data.from_epics(w, pv_list, pv_rise=pv_rise, shift=0, count=w.length)\n",
    "print(d)\n",
    "print(d.source)\n",
    "print(d.data.shape)\n",
    "\n",
    "# Clean\n",
    "\n",
    "del w\n",
    "del d\n",
    "if device != torch.device('cpu'):\n",
    "    torch.cuda.synchronize()\n",
    "    torch.cuda.empty_cache()"
   ]
  },
  {
   "cell_type": "markdown",
   "id": "bc4f2a43",
   "metadata": {
    "heading_collapsed": true,
    "tags": []
   },
   "source": [
    "# Example-08: Generate matrix from signal"
   ]
  },
  {
   "cell_type": "code",
   "execution_count": 1,
   "id": "8625d0b0-39c4-45bd-86ef-82671d181c8f",
   "metadata": {
    "tags": []
   },
   "outputs": [
    {
     "name": "stdout",
     "output_type": "stream",
     "text": [
      "True\n",
      "16\n"
     ]
    }
   ],
   "source": [
    "# Import\n",
    "\n",
    "import epics\n",
    "import numpy\n",
    "import torch\n",
    "\n",
    "import sys\n",
    "sys.path.append('..')\n",
    "\n",
    "from harmonica.util import pv_make\n",
    "from harmonica.window import Window\n",
    "from harmonica.data import Data\n",
    "\n",
    "import matplotlib.pyplot as plt\n",
    "from time import sleep\n",
    "\n",
    "torch.set_printoptions(precision=12, sci_mode=True)\n",
    "print(torch.cuda.is_available())\n",
    "print(torch.get_num_threads())"
   ]
  },
  {
   "cell_type": "code",
   "execution_count": 2,
   "id": "eb7a8742-2241-436f-93b0-29c2114b6ee9",
   "metadata": {
    "tags": []
   },
   "outputs": [],
   "source": [
    "# Set data type and device\n",
    "\n",
    "dtype = torch.float64\n",
    "device = torch.device('cpu')"
   ]
  },
  {
   "cell_type": "code",
   "execution_count": 3,
   "id": "a9f4f11b-204d-4b21-a601-0e61e692c17b",
   "metadata": {
    "tags": []
   },
   "outputs": [
    {
     "name": "stdout",
     "output_type": "stream",
     "text": [
      "[[1. 2. 3. 4. 5. 6. 7. 8.]]\n",
      "[[1. 2. 3. 4.]\n",
      " [2. 3. 4. 5.]\n",
      " [3. 4. 5. 6.]\n",
      " [4. 5. 6. 7.]\n",
      " [5. 6. 7. 8.]]\n"
     ]
    }
   ],
   "source": [
    "# Set initial data\n",
    "\n",
    "size, length = 1, 8\n",
    "w = Window(length, dtype=dtype, device=device)\n",
    "d = Data.from_data(w, torch.linspace(1, length, length, dtype=dtype, device=device).reshape(1, -1))\n",
    "print(d.data.detach().cpu().numpy())\n",
    "\n",
    "# Generate matrix\n",
    "\n",
    "print(d.make_matrix(4, 1, d.data[0]).cpu().numpy())\n",
    "\n",
    "# Clean\n",
    "\n",
    "del w\n",
    "del d\n",
    "if device != torch.device('cpu'):\n",
    "    torch.cuda.synchronize()\n",
    "    torch.cuda.empty_cache()"
   ]
  },
  {
   "cell_type": "markdown",
   "id": "662149d6",
   "metadata": {
    "heading_collapsed": true,
    "tags": []
   },
   "source": [
    "# Example-09: Generate signal from matrix"
   ]
  },
  {
   "cell_type": "code",
   "execution_count": 1,
   "id": "1acb4897-b890-4893-8cac-836152d82cb3",
   "metadata": {
    "tags": []
   },
   "outputs": [
    {
     "name": "stdout",
     "output_type": "stream",
     "text": [
      "True\n",
      "16\n"
     ]
    }
   ],
   "source": [
    "# Import\n",
    "\n",
    "import epics\n",
    "import numpy\n",
    "import torch\n",
    "\n",
    "import sys\n",
    "sys.path.append('..')\n",
    "\n",
    "from harmonica.util import pv_make\n",
    "from harmonica.window import Window\n",
    "from harmonica.data import Data\n",
    "\n",
    "import matplotlib.pyplot as plt\n",
    "from time import sleep\n",
    "\n",
    "torch.set_printoptions(precision=12, sci_mode=True)\n",
    "print(torch.cuda.is_available())\n",
    "print(torch.get_num_threads())"
   ]
  },
  {
   "cell_type": "code",
   "execution_count": 2,
   "id": "b63119f7-6006-4ecb-bba2-e08f96786d5c",
   "metadata": {
    "tags": []
   },
   "outputs": [],
   "source": [
    "# Set data type and device\n",
    "\n",
    "dtype = torch.float64\n",
    "device = torch.device('cpu')"
   ]
  },
  {
   "cell_type": "code",
   "execution_count": 3,
   "id": "a3396439-8b9e-456d-a5b9-83c90a532154",
   "metadata": {
    "tags": []
   },
   "outputs": [
    {
     "name": "stdout",
     "output_type": "stream",
     "text": [
      "[[0. 1. 2. 3. 4. 5. 6. 7.]\n",
      " [0. 1. 2. 3. 4. 5. 6. 7.]\n",
      " [0. 1. 2. 3. 4. 5. 6. 7.]\n",
      " [0. 1. 2. 3. 4. 5. 6. 7.]]\n",
      "[0. 0. 0. 0. 1. 1. 1. 1. 2. 2. 2. 2. 3. 3. 3. 3.]\n"
     ]
    }
   ],
   "source": [
    "# Set initial data\n",
    "\n",
    "size, length = 4, 8\n",
    "w = Window(length, dtype=dtype, device=device)\n",
    "d = Data.from_data(w, torch.tensor([[_ for _ in range(length)] for _ in range(size)], dtype=w.dtype, device=w.device))\n",
    "print(d.data.cpu().numpy())\n",
    "\n",
    "# Generate signal\n",
    "\n",
    "print(d.make_signal(4, d.data).cpu().numpy())\n",
    "\n",
    "# Clean\n",
    "\n",
    "del w\n",
    "del d\n",
    "if device != torch.device('cpu'):\n",
    "    torch.cuda.synchronize()\n",
    "    torch.cuda.empty_cache()"
   ]
  },
  {
   "cell_type": "markdown",
   "id": "55b9ce4e",
   "metadata": {
    "heading_collapsed": true,
    "tags": []
   },
   "source": [
    "# Example-10: Indexing by PV name"
   ]
  },
  {
   "cell_type": "code",
   "execution_count": 1,
   "id": "61bf4b81-bbf9-4fae-8398-1d1f14d25cd1",
   "metadata": {
    "tags": []
   },
   "outputs": [
    {
     "name": "stdout",
     "output_type": "stream",
     "text": [
      "True\n",
      "16\n"
     ]
    }
   ],
   "source": [
    "# Import\n",
    "\n",
    "import epics\n",
    "import numpy\n",
    "import torch\n",
    "\n",
    "import sys\n",
    "sys.path.append('..')\n",
    "\n",
    "from harmonica.util import pv_make\n",
    "from harmonica.window import Window\n",
    "from harmonica.data import Data\n",
    "\n",
    "import matplotlib.pyplot as plt\n",
    "from time import sleep\n",
    "\n",
    "torch.set_printoptions(precision=12, sci_mode=True)\n",
    "print(torch.cuda.is_available())\n",
    "print(torch.get_num_threads())"
   ]
  },
  {
   "cell_type": "code",
   "execution_count": 2,
   "id": "6a010454-058f-4403-9cb7-994be737aa05",
   "metadata": {
    "tags": []
   },
   "outputs": [],
   "source": [
    "# Set data type and device\n",
    "\n",
    "dtype = torch.float64\n",
    "device = torch.device('cpu')"
   ]
  },
  {
   "cell_type": "code",
   "execution_count": 3,
   "id": "f86285ef-5226-4121-9cdd-67013090735f",
   "metadata": {
    "tags": []
   },
   "outputs": [
    {
     "name": "stdout",
     "output_type": "stream",
     "text": [
      "Window(1024, None, None)\n",
      "Data(54, Window(1024, None, None))\n",
      "[ 2.00000000e-03 -1.63494839e-03  1.18248417e-03 ... -3.80303997e-05\n",
      "  5.92001677e-04 -1.11432155e-03]\n",
      "[ 2.00000000e-03 -1.63494839e-03  1.18248417e-03 ... -3.80303997e-05\n",
      "  5.92001677e-04 -1.11432155e-03]\n"
     ]
    }
   ],
   "source": [
    "# Run TEST PVs (softIoc -d virtual_tbt.db)\n",
    "\n",
    "# Set parameters\n",
    "\n",
    "size, length = 54, 1024\n",
    "\n",
    "# Set list of pv names and starting indices\n",
    "\n",
    "bpm = ['STP2', 'STP4', 'SRP1', 'SRP2', 'SRP3', 'SRP4', 'SRP5', 'SRP6', 'SRP7', 'SRP8', 'SRP9', 'SIP1', 'SIP2', 'SRP10', 'SRP11', 'SRP12', 'SRP13', 'SRP14', 'SRP15', 'SRP16', 'SRP17', 'SEP5', 'SEP4', 'SEP3', 'SEP1', 'SEP0', 'NEP0', 'NEP1', 'NEP3', 'NEP4', 'NEP5', 'NRP17', 'NRP16', 'NRP15', 'NRP14', 'NRP13', 'NRP12', 'NRP11', 'NRP10', 'NIP3', 'NIP1', 'NRP9', 'NRP8', 'NRP7', 'NRP6', 'NRP5', 'NRP4', 'NRP3', 'NRP2', 'NRP1', 'NTP4', 'NTP2', 'NTP0', 'STP0']\n",
    "pv_list = [pv_make(name, 'x', True) for name in bpm]\n",
    "pv_rise = [0 for _ in range(len(bpm))]\n",
    "\n",
    "w = Window(1024, dtype=dtype, device=device)\n",
    "print(w)\n",
    "d = Data.from_epics(w, pv_list, pv_rise=pv_rise, count=1024)\n",
    "print(d)\n",
    "\n",
    "# Index by position or PV name (if epics)\n",
    "\n",
    "print(d[0].cpu().numpy())\n",
    "print(d[\"H:STP2:DATA:X\"].cpu().numpy())\n",
    "\n",
    "# Clean\n",
    "\n",
    "del w\n",
    "del d\n",
    "if device != torch.device('cpu'):\n",
    "    torch.cuda.synchronize()\n",
    "    torch.cuda.empty_cache()"
   ]
  },
  {
   "cell_type": "markdown",
   "id": "32e3f12e",
   "metadata": {
    "heading_collapsed": true,
    "tags": []
   },
   "source": [
    "# Example-11: Save TbT to TEST PVs"
   ]
  },
  {
   "cell_type": "code",
   "execution_count": 1,
   "id": "08a34237-3c1a-4064-8f9c-cb4ca6a3cab5",
   "metadata": {
    "tags": []
   },
   "outputs": [
    {
     "name": "stdout",
     "output_type": "stream",
     "text": [
      "True\n",
      "16\n"
     ]
    }
   ],
   "source": [
    "# Import\n",
    "\n",
    "import epics\n",
    "import numpy\n",
    "import torch\n",
    "\n",
    "import sys\n",
    "sys.path.append('..')\n",
    "\n",
    "from harmonica.util import pv_make\n",
    "from harmonica.window import Window\n",
    "from harmonica.data import Data\n",
    "\n",
    "import matplotlib.pyplot as plt\n",
    "from time import sleep\n",
    "\n",
    "torch.set_printoptions(precision=12, sci_mode=True)\n",
    "print(torch.cuda.is_available())\n",
    "print(torch.get_num_threads())"
   ]
  },
  {
   "cell_type": "code",
   "execution_count": 2,
   "id": "fcfa49ed-0cf7-48a2-bcf9-c44d89180d16",
   "metadata": {
    "tags": []
   },
   "outputs": [],
   "source": [
    "# Set data type and device\n",
    "\n",
    "dtype = torch.float64\n",
    "device = torch.device('cpu')"
   ]
  },
  {
   "cell_type": "code",
   "execution_count": 3,
   "id": "53c0fec1-0cf1-467f-ad23-b281847f30ab",
   "metadata": {
    "tags": []
   },
   "outputs": [
    {
     "name": "stdout",
     "output_type": "stream",
     "text": [
      "Window(4096, None, None)\n",
      "Data(54, Window(4096, None, None))\n"
     ]
    }
   ],
   "source": [
    "# Run TEST PVs (softIoc -d harmonica.db)\n",
    "\n",
    "# Set list of pv names and starting indices\n",
    "\n",
    "bpm = ['STP2', 'STP4', 'SRP1', 'SRP2', 'SRP3', 'SRP4', 'SRP5', 'SRP6', 'SRP7', 'SRP8', 'SRP9', 'SIP1', 'SIP2', 'SRP10', 'SRP11', 'SRP12', 'SRP13', 'SRP14', 'SRP15', 'SRP16', 'SRP17', 'SEP5', 'SEP4', 'SEP3', 'SEP1', 'SEP0', 'NEP0', 'NEP1', 'NEP3', 'NEP4', 'NEP5', 'NRP17', 'NRP16', 'NRP15', 'NRP14', 'NRP13', 'NRP12', 'NRP11', 'NRP10', 'NIP3', 'NIP1', 'NRP9', 'NRP8', 'NRP7', 'NRP6', 'NRP5', 'NRP4', 'NRP3', 'NRP2', 'NRP1', 'NTP4', 'NTP2', 'NTP0', 'STP0']\n",
    "pv_list = [pv_make(name, 'X', True) for name in bpm]\n",
    "pv_rise = [0 for _ in range(len(bpm))]\n",
    "\n",
    "# Generate test data\n",
    "\n",
    "frequency = 0.123456\n",
    "t = torch.linspace(1, 4096, 4096, dtype=dtype, device=device)\n",
    "data = [(10.0 + torch.randn(1, dtype=dtype, device=device)) * torch.cos(2.0*numpy.pi*frequency*t) for _ in pv_list]\n",
    "data = torch.stack(data) + 1.0\n",
    "\n",
    "# Set data \n",
    "\n",
    "w = Window(4096, dtype=dtype, device=device)\n",
    "d = Data.from_data(w, data)\n",
    "print(w)\n",
    "print(d)\n",
    "\n",
    "# Add attibutes\n",
    "\n",
    "d.pv_list = pv_list\n",
    "d.pv_rise = pv_rise\n",
    "d.save_epics()\n",
    "\n",
    "# Clean\n",
    "\n",
    "del w\n",
    "del d\n",
    "if device != torch.device('cpu'):\n",
    "    torch.cuda.synchronize()\n",
    "    torch.cuda.empty_cache()"
   ]
  },
  {
   "cell_type": "markdown",
   "id": "c7f481e2",
   "metadata": {
    "heading_collapsed": true,
    "tags": []
   },
   "source": [
    "# Example-12: Operations with window"
   ]
  },
  {
   "cell_type": "code",
   "execution_count": 1,
   "id": "5acfc8b4-9232-40b2-879c-5d01af573cc2",
   "metadata": {
    "tags": []
   },
   "outputs": [
    {
     "name": "stdout",
     "output_type": "stream",
     "text": [
      "True\n",
      "16\n"
     ]
    }
   ],
   "source": [
    "# Import\n",
    "\n",
    "import epics\n",
    "import numpy\n",
    "import torch\n",
    "\n",
    "import sys\n",
    "sys.path.append('..')\n",
    "\n",
    "from harmonica.util import pv_make\n",
    "from harmonica.window import Window\n",
    "from harmonica.data import Data\n",
    "\n",
    "import matplotlib.pyplot as plt\n",
    "from time import sleep\n",
    "\n",
    "torch.set_printoptions(precision=12, sci_mode=True)\n",
    "print(torch.cuda.is_available())\n",
    "print(torch.get_num_threads())"
   ]
  },
  {
   "cell_type": "code",
   "execution_count": 2,
   "id": "9f816864-add7-4941-a99f-b2101ef75896",
   "metadata": {
    "tags": []
   },
   "outputs": [],
   "source": [
    "# Set data type and device\n",
    "\n",
    "dtype = torch.float64\n",
    "device = torch.device('cpu')"
   ]
  },
  {
   "cell_type": "code",
   "execution_count": 3,
   "id": "e554c032-c421-4628-b6c8-1cb68e1b192c",
   "metadata": {
    "tags": []
   },
   "outputs": [
    {
     "name": "stdout",
     "output_type": "stream",
     "text": [
      "Window(1024, 'cosine_window', 5.0)\n",
      "Data(1, Window(1024, 'cosine_window', 5.0))\n",
      "tensor([1.000668503033e+00], dtype=torch.float64)\n",
      "tensor([1.000000000000e+00], dtype=torch.float64)\n",
      "tensor([0.], dtype=torch.float64)\n"
     ]
    },
    {
     "data": {
      "image/png": "[encoded data removed]",
      "text/plain": [
       "<Figure size 2000x300 with 1 Axes>"
      ]
     },
     "metadata": {},
     "output_type": "display_data"
    }
   ],
   "source": [
    "# tbt.window_mean           -- return window weighted mean\n",
    "# tbt.window_remove_mean    -- copy data to work with removed window weighted mean\n",
    "# tbt.window_apply          -- apply window to work\n",
    "\n",
    "# Set window\n",
    "\n",
    "w = Window.from_cosine(1024, 5.0, dtype=dtype, device=device)\n",
    "print(w)\n",
    "\n",
    "# Set tbt\n",
    "\n",
    "d = Data.from_data(w, torch.stack([1.0 + torch.sin(2.0*numpy.pi*0.12*torch.linspace(0, 1024-1, 1024, dtype=dtype, device=device))]))\n",
    "print(d)\n",
    "\n",
    "# Compute mean values\n",
    "\n",
    "print(torch.mean(d.data, -1))\n",
    "print(*d.window_mean())\n",
    "\n",
    "# Remove mean\n",
    "\n",
    "d.window_remove_mean()\n",
    "print(*torch.round(d.window_mean()))\n",
    "\n",
    "# Apply window (change work)\n",
    "\n",
    "d.window_apply()\n",
    "\n",
    "# Plot \n",
    "\n",
    "t = torch.linspace(1, 1024, 1024, dtype=dtype, device=device)\n",
    "plt.figure(figsize=(20, 3))\n",
    "plt.scatter(t.cpu().numpy(), d.data[0].cpu().numpy(), color='red')\n",
    "plt.scatter(t.cpu().numpy(), d.work[0].cpu().numpy(), color='blue')\n",
    "plt.show()\n",
    "\n",
    "# Clean\n",
    "\n",
    "del w\n",
    "del d\n",
    "if device != torch.device('cpu'):\n",
    "    torch.cuda.synchronize()\n",
    "    torch.cuda.empty_cache()"
   ]
  },
  {
   "cell_type": "markdown",
   "id": "50d68108",
   "metadata": {
    "heading_collapsed": true,
    "tags": []
   },
   "source": [
    "# Example-13: TbT data normalization"
   ]
  },
  {
   "cell_type": "code",
   "execution_count": 1,
   "id": "f9968e2a-77b7-436c-8e63-62f38208f940",
   "metadata": {
    "tags": []
   },
   "outputs": [
    {
     "name": "stdout",
     "output_type": "stream",
     "text": [
      "True\n",
      "16\n"
     ]
    }
   ],
   "source": [
    "# Import\n",
    "\n",
    "import epics\n",
    "import numpy\n",
    "import torch\n",
    "\n",
    "import sys\n",
    "sys.path.append('..')\n",
    "\n",
    "from harmonica.util import pv_make\n",
    "from harmonica.window import Window\n",
    "from harmonica.data import Data\n",
    "\n",
    "import matplotlib.pyplot as plt\n",
    "from time import sleep\n",
    "\n",
    "torch.set_printoptions(precision=12, sci_mode=True)\n",
    "print(torch.cuda.is_available())\n",
    "print(torch.get_num_threads())"
   ]
  },
  {
   "cell_type": "code",
   "execution_count": 2,
   "id": "d7118330-0f38-404e-809a-28f132a06618",
   "metadata": {
    "tags": []
   },
   "outputs": [],
   "source": [
    "# Set data type and device\n",
    "\n",
    "dtype = torch.float64\n",
    "device = torch.device('cpu')"
   ]
  },
  {
   "cell_type": "code",
   "execution_count": 3,
   "id": "7712a946-ccf1-4afd-aef9-68b353e03390",
   "metadata": {
    "tags": []
   },
   "outputs": [
    {
     "name": "stdout",
     "output_type": "stream",
     "text": [
      "Window(1024, 'cosine_window', 5.0)\n",
      "Data(1, Window(1024, 'cosine_window', 5.0))\n",
      "tensor([0.], dtype=torch.float64)\n",
      "tensor(1.000000000000e+00, dtype=torch.float64)\n"
     ]
    },
    {
     "data": {
      "image/png": "[encoded data removed]",
      "text/plain": [
       "<Figure size 2000x300 with 1 Axes>"
      ]
     },
     "metadata": {},
     "output_type": "display_data"
    }
   ],
   "source": [
    "# Set window\n",
    "\n",
    "w = Window.from_cosine(1024, 5.0, dtype=dtype, device=device)\n",
    "print(w)\n",
    "\n",
    "# Set TbT\n",
    "\n",
    "d = Data.from_data(w, torch.stack([1.0 + torch.sin(2.0*numpy.pi*0.12*torch.linspace(0, 1024-1, 1024, dtype=dtype, device=device))]))\n",
    "print(d)\n",
    "\n",
    "# Normalize (change work)\n",
    "# If window flag is True, window weighted mean is subtracted\n",
    "\n",
    "d.normalize(window=True)\n",
    "print(*torch.round(d.window_mean()))\n",
    "print(torch.std(d.work))\n",
    "\n",
    "# Plot \n",
    "\n",
    "t = torch.linspace(0, w.length-1, w.length, dtype=dtype, device=device)\n",
    "plt.figure(figsize=(20, 3))\n",
    "plt.scatter(t.cpu().numpy(), d.data[0].cpu().numpy(), color='red')\n",
    "plt.scatter(t.cpu().numpy(), d.work[0].cpu().numpy(), color='blue')\n",
    "plt.show()\n",
    "\n",
    "# Reset data\n",
    "\n",
    "d.reset()"
   ]
  },
  {
   "cell_type": "code",
   "execution_count": 4,
   "id": "1639ea65-28c6-4fc7-97ab-0bbd869feac4",
   "metadata": {
    "tags": []
   },
   "outputs": [
    {
     "data": {
      "image/png": "[encoded data removed]",
      "text/plain": [
       "<Figure size 1500x300 with 1 Axes>"
      ]
     },
     "metadata": {},
     "output_type": "display_data"
    },
    {
     "data": {
      "image/png": "[encoded data removed]",
      "text/plain": [
       "<Figure size 1500x300 with 1 Axes>"
      ]
     },
     "metadata": {},
     "output_type": "display_data"
    }
   ],
   "source": [
    "# Alternative normalization\n",
    "\n",
    "from harmonica.statistics import weighted_mean, variance\n",
    "from harmonica.statistics import standardize\n",
    "\n",
    "d.work -= weighted_mean(d.work, w.window)\n",
    "d.work /= variance(d.work).sqrt()\n",
    "\n",
    "plt.figure(figsize=(15, 3))\n",
    "plt.scatter(t.cpu().numpy(), d.data[0].cpu().numpy(), color='red')\n",
    "plt.scatter(t.cpu().numpy(), d.work[0].cpu().numpy(), color='blue')\n",
    "plt.show()\n",
    "d.reset()\n",
    "\n",
    "d.work = standardize(d.work, center_estimator=lambda data: weighted_mean(data, weight=w.window), spread_estimator=variance).reshape_as(d.data)\n",
    "plt.figure(figsize=(15, 3))\n",
    "plt.scatter(t.cpu().numpy(), d.data[0].cpu().numpy(), color='red')\n",
    "plt.scatter(t.cpu().numpy(), d.work[0].cpu().numpy(), color='blue')\n",
    "plt.show()\n",
    "d.reset()"
   ]
  },
  {
   "cell_type": "code",
   "execution_count": 5,
   "id": "65d954e7-ea7e-457d-99be-96d09662232f",
   "metadata": {
    "tags": []
   },
   "outputs": [],
   "source": [
    "# Clean\n",
    "\n",
    "del w\n",
    "del d\n",
    "if device != torch.device('cpu'):\n",
    "    torch.cuda.synchronize()\n",
    "    torch.cuda.empty_cache()"
   ]
  },
  {
   "cell_type": "markdown",
   "id": "3b45a9e0",
   "metadata": {
    "heading_collapsed": true,
    "tags": []
   },
   "source": [
    "# Example-14: Convert data (return work)"
   ]
  },
  {
   "cell_type": "code",
   "execution_count": 1,
   "id": "24d800a1-8fce-42b5-ad27-07338acfd651",
   "metadata": {
    "tags": []
   },
   "outputs": [
    {
     "name": "stdout",
     "output_type": "stream",
     "text": [
      "True\n",
      "16\n"
     ]
    }
   ],
   "source": [
    "# Import\n",
    "\n",
    "import epics\n",
    "import numpy\n",
    "import torch\n",
    "\n",
    "import sys\n",
    "sys.path.append('..')\n",
    "\n",
    "from harmonica.util import pv_make\n",
    "from harmonica.window import Window\n",
    "from harmonica.data import Data\n",
    "\n",
    "import matplotlib.pyplot as plt\n",
    "from time import sleep\n",
    "\n",
    "torch.set_printoptions(precision=12, sci_mode=True)\n",
    "print(torch.cuda.is_available())\n",
    "print(torch.get_num_threads())"
   ]
  },
  {
   "cell_type": "code",
   "execution_count": 2,
   "id": "60b51db1-cacc-4a72-9dea-236acf5b8bc1",
   "metadata": {
    "tags": []
   },
   "outputs": [],
   "source": [
    "# Set data type and device\n",
    "\n",
    "dtype = torch.float64\n",
    "device = torch.device('cpu')"
   ]
  },
  {
   "cell_type": "code",
   "execution_count": 3,
   "id": "5af27775-6ef1-4632-975b-1bf07e9820fd",
   "metadata": {
    "tags": []
   },
   "outputs": [
    {
     "name": "stdout",
     "output_type": "stream",
     "text": [
      "Window(4, None, None)\n",
      "Data(1, Window(4, None, None))\n",
      "tensor([[1.005246866371e+01, 7.462858018501e+00, 1.175629288121e+00, -5.212082855352e+00]],\n",
      "       dtype=torch.float64)\n",
      "[[10.05246866  7.46285802  1.17562929 -5.21208286]]\n",
      "{'H:STP2:DATA:X': array([10.05246866,  7.46285802,  1.17562929, -5.21208286])}\n",
      "              PV       DATA\n",
      "0  H:STP2:DATA:X  10.052469\n",
      "1  H:STP2:DATA:X   7.462858\n",
      "2  H:STP2:DATA:X   1.175629\n",
      "3  H:STP2:DATA:X  -5.212083\n"
     ]
    }
   ],
   "source": [
    "# Run TEST PVs (softIoc -d virtual_tbt.db)\n",
    "\n",
    "# Set list of pv names and starting indices\n",
    "\n",
    "bpm = ['STP2']\n",
    "pv_list = [pv_make(name, 'X', True) for name in bpm]\n",
    "pv_rise = [0 for _ in range(len(bpm))]\n",
    "\n",
    "# Set window\n",
    "\n",
    "w = Window(4, dtype=dtype, device=device)\n",
    "print(w)\n",
    "\n",
    "# Generate test data\n",
    "\n",
    "frequency = 0.123456\n",
    "t = torch.linspace(0, w.length-1, w.length, dtype=dtype, device=device)\n",
    "data = [(10.0 + torch.randn(1, dtype=dtype, device=device))*torch.cos(2.0*numpy.pi*frequency*t) for _ in pv_list]\n",
    "data = torch.stack(data) + 1.0\n",
    "data.shape\n",
    "\n",
    "# Set TbT\n",
    "\n",
    "d = Data.from_data(w, data)\n",
    "d.pv_list = pv_list\n",
    "d.pv_rise = pv_rise\n",
    "d.source = 'epics'\n",
    "print(d)\n",
    "\n",
    "# Convert (print result)\n",
    "\n",
    "print(d.to_tensor())\n",
    "print(d.to_numpy())\n",
    "print(d.to_dict())\n",
    "print(d.to_frame())\n",
    "\n",
    "# Clean\n",
    "\n",
    "del w\n",
    "del d\n",
    "if device != torch.device('cpu'):\n",
    "    torch.cuda.synchronize()\n",
    "    torch.cuda.empty_cache()"
   ]
  },
  {
   "cell_type": "markdown",
   "id": "55028610",
   "metadata": {
    "tags": []
   },
   "source": [
    "# Example-15: Set TEST PVs"
   ]
  },
  {
   "cell_type": "code",
   "execution_count": 1,
   "id": "9eab3496-462c-4aa9-86ec-c4551d8df785",
   "metadata": {
    "tags": []
   },
   "outputs": [
    {
     "name": "stdout",
     "output_type": "stream",
     "text": [
      "True\n",
      "16\n"
     ]
    }
   ],
   "source": [
    "# Import\n",
    "\n",
    "import epics\n",
    "import numpy\n",
    "import torch\n",
    "\n",
    "import sys\n",
    "sys.path.append('..')\n",
    "\n",
    "from harmonica.util import pv_make\n",
    "from harmonica.window import Window\n",
    "from harmonica.data import Data\n",
    "\n",
    "import matplotlib.pyplot as plt\n",
    "from time import sleep\n",
    "\n",
    "torch.set_printoptions(precision=12, sci_mode=True)\n",
    "print(torch.cuda.is_available())\n",
    "print(torch.get_num_threads())"
   ]
  },
  {
   "cell_type": "code",
   "execution_count": 2,
   "id": "b15c4966-e769-4d4f-a7b8-fc69fa80233d",
   "metadata": {
    "tags": []
   },
   "outputs": [],
   "source": [
    "# Set data type and device\n",
    "\n",
    "dtype = torch.float64\n",
    "device = torch.device('cpu')"
   ]
  },
  {
   "cell_type": "code",
   "execution_count": 3,
   "id": "23c81909-6935-400e-a3c3-4e65ca754491",
   "metadata": {
    "tags": []
   },
   "outputs": [
    {
     "name": "stdout",
     "output_type": "stream",
     "text": [
      "True\n"
     ]
    }
   ],
   "source": [
    "# Start TEST PVs (softIoc -d harmonica.db)\n",
    "# Load test TbT data, add orbit/noise/spikes and save to TEST PVs\n",
    "\n",
    "import epics\n",
    "import numpy\n",
    "import torch\n",
    "import pandas\n",
    "\n",
    "import sys\n",
    "sys.path.append('..')\n",
    "\n",
    "from harmonica.util import pv_make\n",
    "from harmonica.window import Window\n",
    "from harmonica.data import Data\n",
    "\n",
    "torch.set_printoptions(precision=12, sci_mode=True)\n",
    "print(torch.cuda.is_available())\n",
    "\n",
    "dtype = torch.float64\n",
    "device = torch.device('cpu')\n",
    "\n",
    "df = pandas.read_pickle('../virtual_tbt.pkl.gz')\n",
    "\n",
    "w = Window(4096, dtype=dtype, device=device)\n",
    "x = Data.from_data(w, torch.tensor(df.X.to_list(), dtype=dtype, device=device))\n",
    "y = Data.from_data(w, torch.tensor(df.Y.to_list(), dtype=dtype, device=device))\n",
    "\n",
    "noise_x = 1.0E-6*(25.0 + 50.0*torch.rand(x.size, dtype=dtype, device=device))\n",
    "noise_y = 1.0E-6*(25.0 + 50.0*torch.rand(y.size, dtype=dtype, device=device))\n",
    "\n",
    "bpm = ['STP2', 'STP4', 'SRP1', 'SRP2', 'SRP3', 'SRP4', 'SRP5', 'SRP6', 'SRP7', 'SRP8', 'SRP9', 'SIP1', 'SIP2', 'SRP10', 'SRP11', 'SRP12', 'SRP13', 'SRP14', 'SRP15', 'SRP16', 'SRP17', 'SEP5', 'SEP4', 'SEP3', 'SEP1', 'SEP0', 'NEP0', 'NEP1', 'NEP3', 'NEP4', 'NEP5', 'NRP17', 'NRP16', 'NRP15', 'NRP14', 'NRP13', 'NRP12', 'NRP11', 'NRP10', 'NIP3', 'NIP1', 'NRP9', 'NRP8', 'NRP7', 'NRP6', 'NRP5', 'NRP4', 'NRP3', 'NRP2', 'NRP1', 'NTP4', 'NTP2', 'NTP0', 'STP0']\n",
    "\n",
    "length = 2048\n",
    "w = Window(length, 'cosine_window', 1.0, dtype=dtype, device=device)\n",
    "d = Data.from_data(w, x.data[:, :length])\n",
    "d.add_noise(noise_x)\n",
    "d.data.copy_(d.work)\n",
    "pv_list = [pv_make(name, 'X', True) for name in bpm]\n",
    "pv_rise = [0 for _ in range(len(bpm))]\n",
    "d.source = 'epics'\n",
    "d.pv_list = pv_list\n",
    "d.pv_rise = pv_rise\n",
    "d.save_epics()\n",
    "\n",
    "length = 2048\n",
    "w = Window(length, 'cosine_window', 1.0, dtype=dtype, device=device)\n",
    "d = Data.from_data(w, y.data[:, :length])\n",
    "d.add_noise(noise_y)\n",
    "d.data.copy_(d.work)\n",
    "pv_list = [pv_make(name, 'Y', True) for name in bpm]\n",
    "pv_rise = [0 for _ in range(len(bpm))]\n",
    "d.source = 'epics'\n",
    "d.pv_list = pv_list\n",
    "d.pv_rise = pv_rise\n",
    "d.save_epics()"
   ]
  },
  {
   "cell_type": "code",
   "execution_count": 4,
   "id": "c521f082-9afe-4cd1-85cf-ed5cc9e8d367",
   "metadata": {
    "tags": []
   },
   "outputs": [
    {
     "name": "stdout",
     "output_type": "stream",
     "text": [
      "True\n"
     ]
    }
   ],
   "source": [
    "# Start TEST PVs (softIoc -d harmonica.db)\n",
    "# Load test TbT data, add orbit/noise/spikes and save to TEST PVs\n",
    "# And start errors\n",
    "\n",
    "import epics\n",
    "import numpy\n",
    "import torch\n",
    "import pandas\n",
    "\n",
    "import sys\n",
    "sys.path.append('..')\n",
    "\n",
    "from harmonica.util import pv_make\n",
    "from harmonica.window import Window\n",
    "from harmonica.data import Data\n",
    "\n",
    "torch.set_printoptions(precision=12, sci_mode=True)\n",
    "print(torch.cuda.is_available())\n",
    "\n",
    "dtype = torch.float64\n",
    "device = torch.device('cpu')\n",
    "\n",
    "df = pandas.read_pickle('../virtual_tbt.pkl.gz')\n",
    "\n",
    "w = Window(4096, dtype=dtype, device=device)\n",
    "x = Data.from_data(w, torch.tensor(df.X.to_list(), dtype=dtype, device=device))\n",
    "y = Data.from_data(w, torch.tensor(df.Y.to_list(), dtype=dtype, device=device))\n",
    "\n",
    "start = 128\n",
    "error = {10: 127, 31: 129, 32:129, 41:127, 43:129}\n",
    "error = {}\n",
    "count = 2048\n",
    "data_x = torch.zeros((54, count), dtype=dtype, device=device)\n",
    "data_y = torch.zeros((54, count), dtype=dtype, device=device)\n",
    "for i in range(54):\n",
    "    first = start if i not in error else error[i]\n",
    "    data_x[i] = x.work[i, first: first + count]\n",
    "    data_y[i] = y.work[i, first: first + count]\n",
    "\n",
    "noise_x = 1.0E-6*(25.0 + 50.0*torch.rand(x.size, dtype=dtype, device=device))\n",
    "noise_y = 1.0E-6*(25.0 + 50.0*torch.rand(y.size, dtype=dtype, device=device))\n",
    "\n",
    "bpm = ['STP2', 'STP4', 'SRP1', 'SRP2', 'SRP3', 'SRP4', 'SRP5', 'SRP6', 'SRP7', 'SRP8', 'SRP9', 'SIP1', 'SIP2', 'SRP10', 'SRP11', 'SRP12', 'SRP13', 'SRP14', 'SRP15', 'SRP16', 'SRP17', 'SEP5', 'SEP4', 'SEP3', 'SEP1', 'SEP0', 'NEP0', 'NEP1', 'NEP3', 'NEP4', 'NEP5', 'NRP17', 'NRP16', 'NRP15', 'NRP14', 'NRP13', 'NRP12', 'NRP11', 'NRP10', 'NIP3', 'NIP1', 'NRP9', 'NRP8', 'NRP7', 'NRP6', 'NRP5', 'NRP4', 'NRP3', 'NRP2', 'NRP1', 'NTP4', 'NTP2', 'NTP0', 'STP0']\n",
    "\n",
    "length = 2048\n",
    "w = Window(length, 'cosine_window', 1.0, dtype=dtype, device=device)\n",
    "d = Data.from_data(w, data_x[:, :length])\n",
    "d.add_noise(noise_x)\n",
    "d.data.copy_(d.work)\n",
    "pv_list = [pv_make(name, 'X', True) for name in bpm]\n",
    "pv_rise = [0 for _ in range(len(bpm))]\n",
    "d.source = 'epics'\n",
    "d.pv_list = pv_list\n",
    "d.pv_rise = pv_rise\n",
    "d.save_epics()\n",
    "\n",
    "length = 2048\n",
    "w = Window(length, 'cosine_window', 1.0, dtype=dtype, device=device)\n",
    "d = Data.from_data(w, data_y[:, :length])\n",
    "d.add_noise(noise_y)\n",
    "d.data.copy_(d.work)\n",
    "pv_list = [pv_make(name, 'Y', True) for name in bpm]\n",
    "pv_rise = [0 for _ in range(len(bpm))]\n",
    "d.source = 'epics'\n",
    "d.pv_list = pv_list\n",
    "d.pv_rise = pv_rise\n",
    "d.save_epics()"
   ]
  },
  {
   "cell_type": "code",
   "execution_count": null,
   "id": "e3404ca2-a2b9-4e4d-a27e-ff5faa2594e7",
   "metadata": {},
   "outputs": [],
   "source": []
  }
 ],
 "metadata": {
  "colab": {
   "collapsed_sections": [
    "14c18277"
   ],
   "name": "harmonica.ipynb",
   "provenance": []
  },
  "kernelspec": {
   "display_name": "Python 3 (ipykernel)",
   "language": "python",
   "name": "python3"
  },
  "language_info": {
   "codemirror_mode": {
    "name": "ipython",
    "version": 3
   },
   "file_extension": ".py",
   "mimetype": "text/x-python",
   "name": "python",
   "nbconvert_exporter": "python",
   "pygments_lexer": "ipython3",
   "version": "3.10.10"
  },
  "latex_envs": {
   "LaTeX_envs_menu_present": true,
   "autoclose": false,
   "autocomplete": true,
   "bibliofile": "biblio.bib",
   "cite_by": "apalike",
   "current_citInitial": 1,
   "eqLabelWithNumbers": true,
   "eqNumInitial": 1,
   "hotkeys": {
    "equation": "Ctrl-E",
    "itemize": "Ctrl-I"
   },
   "labels_anchors": false,
   "latex_user_defs": false,
   "report_style_numbering": false,
   "user_envs_cfg": false
  },
  "toc-autonumbering": false,
  "toc-showmarkdowntxt": false,
  "toc-showtags": false
 },
 "nbformat": 4,
 "nbformat_minor": 5
}
