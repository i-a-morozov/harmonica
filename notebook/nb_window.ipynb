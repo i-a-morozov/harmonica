{
 "cells": [
  {
   "cell_type": "code",
   "execution_count": 1,
   "id": "37ef29c5",
   "metadata": {},
   "outputs": [
    {
     "name": "stdout",
     "output_type": "stream",
     "text": [
      "True\n",
      "6\n"
     ]
    }
   ],
   "source": [
    "# Import\n",
    "\n",
    "import numpy\n",
    "import torch\n",
    "\n",
    "import sys\n",
    "sys.path.append('..')\n",
    "\n",
    "from harmonica.window import Window\n",
    "\n",
    "import matplotlib.pyplot as plt\n",
    "\n",
    "torch.set_printoptions(precision=12, sci_mode=True)\n",
    "print(torch.cuda.is_available())\n",
    "print(torch.get_num_threads())"
   ]
  },
  {
   "cell_type": "code",
   "execution_count": 2,
   "id": "a228d8a0-b5eb-4443-a26c-d4c9ac2079f0",
   "metadata": {},
   "outputs": [],
   "source": [
    "# Set data type and device\n",
    "\n",
    "dtype = torch.float64\n",
    "device = 'cpu'"
   ]
  },
  {
   "cell_type": "markdown",
   "id": "68c0e3ee",
   "metadata": {
    "heading_collapsed": true,
    "tags": []
   },
   "source": [
    "# Example-01: Window initialization"
   ]
  },
  {
   "cell_type": "code",
   "execution_count": 3,
   "id": "c51b5505-f259-4cd0-b17d-c53a280ee711",
   "metadata": {},
   "outputs": [
    {
     "name": "stdout",
     "output_type": "stream",
     "text": [
      "Window(1024, None, None)\n",
      "1024\n",
      "None\n",
      "None\n",
      "[1. 1. 1. ... 1. 1. 1.]\n",
      "torch.float64\n",
      "cpu\n",
      "tensor(1.024000000000e+03, dtype=torch.float64)\n",
      "[0. 0. 0. ... 0. 0. 0.]\n",
      "[1. 1. 1. ... 1. 1. 1.]\n",
      "[0. 0. 0. ... 0. 0. 0.]\n",
      "[1. 1. 1. ... 1. 1. 1.]\n",
      "[0. 0. 0. ... 0. 0. 0.]\n",
      "length: 1024\n",
      "window: tensor([0., 0., 0.,  ..., 0., 0., 0.], dtype=torch.float64)\n",
      "dtype: torch.float64\n",
      "device: cpu\n",
      "name: None\n",
      "order: None\n"
     ]
    }
   ],
   "source": [
    "# Window is used to fix signal length in computations\n",
    "# Each signal in TbT should have fixed length defined by selected window\n",
    "# Window is also used to set default data type and device for all further computations\n",
    "\n",
    "# Initialize window instance (default parameters)\n",
    "w = Window(length=1024, name=None, order=None, dtype=dtype, device=device)\n",
    "\n",
    "# String representaion\n",
    "print(w)\n",
    "\n",
    "# Window length\n",
    "print(w.length)\n",
    "\n",
    "# Window name\n",
    "# Should be one of the defined static methods ('cosine_window' or 'kaiser_window') or None for empty initialization\n",
    "print(w.name)\n",
    "\n",
    "# Window order\n",
    "# Float, not used if name is None\n",
    "print(w.order)\n",
    "\n",
    "# Window data (all ones by default if window name is None)\n",
    "print(w.window.detach().cpu().numpy())\n",
    "\n",
    "# Window data type\n",
    "print(w.dtype)\n",
    "\n",
    "# Window device\n",
    "print(w.device)\n",
    "\n",
    "# Window total (sum of window data)\n",
    "print(w.total)\n",
    "\n",
    "# Set custom window (copy tensor with matching length to data)\n",
    "w.window.copy_(torch.zeros_like(w.window))\n",
    "print(w.window.detach().cpu().numpy())\n",
    "\n",
    "# Set custom window (use set_data method to invoke defined static method for given window name)\n",
    "w.set_data(name='cosine_window', order=0.0)\n",
    "print(w.window.detach().cpu().numpy())\n",
    "\n",
    "# Set custom window (use set_data method with given input tensor of matching length)\n",
    "w.set_data(data=torch.zeros_like(w.window))\n",
    "print(w.window.detach().cpu().numpy())\n",
    "\n",
    "# Set custom window (invoke set_data)\n",
    "w(name='cosine_window', order=0.0)\n",
    "print(w.window.detach().cpu().numpy())\n",
    "\n",
    "# Set custom window (invoke set_data)\n",
    "w(data=torch.zeros_like(w.window))\n",
    "print(w.window.detach().cpu().numpy())\n",
    "\n",
    "# Print window attibutes\n",
    "for key, value in w.__dict__.items():\n",
    "    print(f'{key}: {value}')"
   ]
  },
  {
   "cell_type": "markdown",
   "id": "c91f7436",
   "metadata": {
    "heading_collapsed": true,
    "tags": []
   },
   "source": [
    "# Example-02: Free CUDA memory"
   ]
  },
  {
   "cell_type": "code",
   "execution_count": 4,
   "id": "49de815b-1eea-41d4-b31e-73b811c7a826",
   "metadata": {},
   "outputs": [
    {
     "name": "stdout",
     "output_type": "stream",
     "text": [
      "Window(1024, 'cosine_window', 1.0)\n",
      "0\n",
      "0\n"
     ]
    }
   ],
   "source": [
    "# Delete data attribute or whole instance to free CUDA memory\n",
    "# Call torch.cuda.empty_cache()\n",
    "\n",
    "# Set window instance\n",
    "w = Window(1024, 'cosine_window', 1.0, dtype=dtype, device=device)\n",
    "print(w)\n",
    "\n",
    "# Print allocated memory info\n",
    "print(torch.cuda.memory_allocated())\n",
    "\n",
    "# Delete window instance\n",
    "del w\n",
    "\n",
    "# Print allocated memory info    \n",
    "print(torch.cuda.memory_allocated())"
   ]
  },
  {
   "cell_type": "markdown",
   "id": "a0701a14",
   "metadata": {
    "heading_collapsed": true,
    "tags": []
   },
   "source": [
    "# Example-03: Cosine window generation (normalized sum)"
   ]
  },
  {
   "cell_type": "code",
   "execution_count": 5,
   "id": "37c6660f-d54a-4148-928b-815f17bbf75f",
   "metadata": {},
   "outputs": [
    {
     "name": "stdout",
     "output_type": "stream",
     "text": [
      "Window(1024, 'cosine_window', 1.0)\n",
      "Window(1024, 'cosine_window', 2.0)\n"
     ]
    },
    {
     "data": {
      "image/png": "[encoded data removed]",
      "text/plain": [
       "<Figure size 1080x216 with 1 Axes>"
      ]
     },
     "metadata": {
      "needs_background": "light"
     },
     "output_type": "display_data"
    }
   ],
   "source": [
    "# Generate and plot cosine window (window total is one)\n",
    "\n",
    "# Set plot size\n",
    "plt.figure(figsize=(15, 3))\n",
    "\n",
    "# Set time\n",
    "t = torch.linspace(0, 1024, 1024, dtype=dtype, device=device)\n",
    "\n",
    "# Set cosine window of order = 1.0\n",
    "w = Window(1024, 'cosine_window', 1.0, dtype=dtype, device=device)\n",
    "print(w)\n",
    "plt.scatter(t.cpu().numpy(), w.window.cpu().numpy(), color='red', marker='o')\n",
    "\n",
    "# Reset cosine window\n",
    "w(name='cosine_window', order=2.0)\n",
    "print(w)\n",
    "plt.scatter(t.cpu().numpy(), w.window.cpu().numpy(), c='blue', marker='o')\n",
    "\n",
    "# Show plots\n",
    "plt.show()"
   ]
  },
  {
   "cell_type": "markdown",
   "id": "8a0e34ef",
   "metadata": {
    "heading_collapsed": true,
    "tags": []
   },
   "source": [
    "# Example-04: Kaiser window (normalized max)"
   ]
  },
  {
   "cell_type": "code",
   "execution_count": 6,
   "id": "6a9f8632-a905-446a-a520-fb272aa92a05",
   "metadata": {},
   "outputs": [
    {
     "name": "stdout",
     "output_type": "stream",
     "text": [
      "Window(1024, 'kaiser_window', 5.0)\n",
      "Window(1024, 'kaiser_window', 10.0)\n"
     ]
    },
    {
     "data": {
      "image/png": "[encoded data removed]",
      "text/plain": [
       "<Figure size 1080x216 with 1 Axes>"
      ]
     },
     "metadata": {
      "needs_background": "light"
     },
     "output_type": "display_data"
    }
   ],
   "source": [
    "# Generate and plot kaiser window (max value is one)\n",
    "\n",
    "# Set plot size\n",
    "plt.figure(figsize=(15, 3))\n",
    "\n",
    "# Set time\n",
    "t = torch.linspace(0, 1024, 1024, dtype=dtype, device=device)\n",
    "\n",
    "# Set kaiser window with order = 5.0\n",
    "w = Window(1024, 'kaiser_window', 5.0, dtype=dtype, device=device)\n",
    "print(w)\n",
    "plt.scatter(t.cpu().numpy(), w.window.cpu().numpy(), color='red', marker='o')\n",
    "\n",
    "# Reset kaiser window\n",
    "w(name='kaiser_window', order=10.0)\n",
    "print(w)\n",
    "plt.scatter(t.cpu().numpy(), w.window.cpu().numpy(), color='blue', marker='o')\n",
    "\n",
    "# Show plots\n",
    "plt.show()"
   ]
  },
  {
   "cell_type": "markdown",
   "id": "7182fd90",
   "metadata": {
    "heading_collapsed": true,
    "tags": []
   },
   "source": [
    "# Example-05: Generate from staticmethods"
   ]
  },
  {
   "cell_type": "code",
   "execution_count": 7,
   "id": "1430d4e5-95a6-4543-b397-9ed47c6da71d",
   "metadata": {},
   "outputs": [
    {
     "name": "stdout",
     "output_type": "stream",
     "text": [
      "Window(1024, None, None)\n",
      "[1. 1. 1. ... 1. 1. 1.]\n",
      "[1. 1. 1. ... 1. 1. 1.]\n",
      "[1. 1. 1. ... 1. 1. 1.]\n"
     ]
    }
   ],
   "source": [
    "# Empty initialization\n",
    "w = Window(1024, dtype=dtype, device=device)\n",
    "print(w)\n",
    "print(w.window.cpu().numpy())\n",
    "\n",
    "# Generate cosine window data with staticmethod\n",
    "print(Window.cosine_window(1024, 0.0).cpu().numpy())\n",
    "\n",
    "# Generate kaiser window data with staticmethod\n",
    "print(Window.kaiser_window(1024, 0.0).cpu().numpy())"
   ]
  },
  {
   "cell_type": "markdown",
   "id": "2d0d407c",
   "metadata": {
    "heading_collapsed": true,
    "tags": []
   },
   "source": [
    "# Example-06: Generate from classmethods"
   ]
  },
  {
   "cell_type": "code",
   "execution_count": 8,
   "id": "d94950ca-c00f-4a24-84d6-25ffecc2f86f",
   "metadata": {},
   "outputs": [
    {
     "name": "stdout",
     "output_type": "stream",
     "text": [
      "Window(1024, 'cosine_window', 0.0)\n",
      "cosine_window\n",
      "0.0\n",
      "[1. 1. 1. ... 1. 1. 1.]\n",
      "Window(1024, 'kaiser_window', 0.0)\n",
      "kaiser_window\n",
      "0.0\n",
      "[1. 1. 1. ... 1. 1. 1.]\n"
     ]
    }
   ],
   "source": [
    "# Initialize using cosine window\n",
    "w = Window.from_cosine(1024, 0.0, dtype=dtype, device=device)\n",
    "print(w)\n",
    "print(w.name)\n",
    "print(w.order)\n",
    "print(w.window.detach().cpu().numpy())\n",
    "\n",
    "# Initialize using kaiser window\n",
    "w = Window.from_kaiser(1024, 0.0, dtype=dtype, device=device)\n",
    "print(w)\n",
    "print(w.name)\n",
    "print(w.order)\n",
    "print(w.window.cpu().numpy())"
   ]
  },
  {
   "cell_type": "markdown",
   "id": "eb3afe51",
   "metadata": {
    "heading_collapsed": true,
    "tags": []
   },
   "source": [
    "# Example-07: Weighted mean"
   ]
  },
  {
   "cell_type": "code",
   "execution_count": 9,
   "id": "03fa4e26-15cd-4cb4-9e14-237993e9d38f",
   "metadata": {},
   "outputs": [
    {
     "name": "stdout",
     "output_type": "stream",
     "text": [
      "tensor(1.003731971546e-01, dtype=torch.float64)\n",
      "Window(4096, 'cosine_window', 5.0)\n",
      "tensor(1.000000000000e-01, dtype=torch.float64)\n",
      "Window(4096, 'kaiser_window', 10.0)\n",
      "tensor(1.000000000000e-01, dtype=torch.float64)\n"
     ]
    }
   ],
   "source": [
    "# Compare estimation of signal mean without and with window weighting\n",
    "\n",
    "# Set test signal with 1.E-1 mean value\n",
    "length = 4096\n",
    "signal = 1.E-1 + torch.sin(2.0*numpy.pi*0.12345*torch.linspace(0, length, length, dtype=dtype, device=device))\n",
    "\n",
    "# Compute mean\n",
    "print(torch.mean(signal))\n",
    "\n",
    "# Compute weighted mean using cosine window\n",
    "w = Window.from_cosine(length, 5.0, dtype=dtype, device=device)\n",
    "print(w)\n",
    "print(torch.dot(signal, w.window)/w.total)\n",
    "\n",
    "# Compute weighted mean using kaiser window\n",
    "w = Window.from_kaiser(length, 10.0, dtype=dtype, device=device)\n",
    "print(w)\n",
    "print(torch.dot(signal, w.window)/w.total)"
   ]
  },
  {
   "cell_type": "markdown",
   "id": "749f5414",
   "metadata": {
    "heading_collapsed": true,
    "tags": []
   },
   "source": [
    "# Example-08: Apply window"
   ]
  },
  {
   "cell_type": "code",
   "execution_count": 10,
   "id": "9affb2c3-4dc8-4c58-a9ca-541904950f88",
   "metadata": {},
   "outputs": [
    {
     "name": "stdout",
     "output_type": "stream",
     "text": [
      "Window(4096, 'cosine_window', 1.0)\n"
     ]
    },
    {
     "data": {
      "image/png": "[encoded data removed]",
      "text/plain": [
       "<Figure size 1080x216 with 1 Axes>"
      ]
     },
     "metadata": {
      "needs_background": "light"
     },
     "output_type": "display_data"
    },
    {
     "name": "stdout",
     "output_type": "stream",
     "text": [
      "Window(4096, 'kaiser_window', 5.0)\n"
     ]
    },
    {
     "data": {
      "image/png": "[encoded data removed]",
      "text/plain": [
       "<Figure size 1080x216 with 1 Axes>"
      ]
     },
     "metadata": {
      "needs_background": "light"
     },
     "output_type": "display_data"
    }
   ],
   "source": [
    "# Apply window to signal and plot result in time domain\n",
    "\n",
    "# Set test signal\n",
    "length = 4096\n",
    "signal = torch.sin(2.0*numpy.pi*0.12345*torch.linspace(0, length, length, dtype=dtype, device=device))\n",
    "\n",
    "\n",
    "# Set time\n",
    "t = torch.linspace(0, length, length, dtype=dtype, device=device)\n",
    "\n",
    "# Set cosine window\n",
    "w = Window.from_cosine(length, 1.0, dtype=dtype, device=device)\n",
    "print(w)\n",
    "\n",
    "# Plot\n",
    "plt.figure(figsize=(15, 3))\n",
    "plt.ylim(-2.5, 2.5)\n",
    "plt.scatter(t.detach().cpu(), signal.detach().cpu(), color='red', marker='o')\n",
    "plt.scatter(t.detach().cpu(), (signal*w.window).detach().cpu(), color='blue', marker='o')\n",
    "plt.show()\n",
    "\n",
    "# Set kaiser window\n",
    "w = Window.from_kaiser(length, 5.0, dtype=dtype, device=device)\n",
    "print(w)\n",
    "\n",
    "# Plot\n",
    "plt.figure(figsize=(15, 3))\n",
    "plt.ylim(-2.5, 2.5)\n",
    "plt.scatter(t.cpu().numpy(), signal.cpu().numpy(), color='red', marker='o')\n",
    "plt.scatter(t.cpu().numpy(), (signal*w.window).cpu().numpy(), color='blue', marker='o')\n",
    "plt.show()"
   ]
  },
  {
   "cell_type": "markdown",
   "id": "c0a2a28b",
   "metadata": {
    "heading_collapsed": true,
    "tags": []
   },
   "source": [
    "# Example-09: Apply window (spectrum)"
   ]
  },
  {
   "cell_type": "code",
   "execution_count": 11,
   "id": "5722ad96-fd73-4290-beda-b9c198229ced",
   "metadata": {},
   "outputs": [
    {
     "name": "stdout",
     "output_type": "stream",
     "text": [
      "Window(4096, 'cosine_window', 2.0)\n"
     ]
    },
    {
     "data": {
      "image/png": "[encoded data removed]",
      "text/plain": [
       "<Figure size 1080x216 with 1 Axes>"
      ]
     },
     "metadata": {
      "needs_background": "light"
     },
     "output_type": "display_data"
    },
    {
     "name": "stdout",
     "output_type": "stream",
     "text": [
      "Window(4096, 'cosine_window', 4.0)\n",
      "tensor(9.998263245766e-01, dtype=torch.float64)\n",
      "tensor(1.000000000001e+00, dtype=torch.float64)\n"
     ]
    }
   ],
   "source": [
    "# Apply window to signal and plot DFT amplitude spectrum\n",
    "\n",
    "# Set test signal\n",
    "length = 4096\n",
    "\n",
    "# Set test signal (two components)\n",
    "signal = torch.zeros(length, dtype=dtype, device=device)\n",
    "signal += 1.0*torch.sin(2.0*numpy.pi*0.120*torch.linspace(0, length, length, dtype=dtype, device=device))\n",
    "signal += 0.1*torch.sin(2.0*numpy.pi*0.125*torch.linspace(0, length, length, dtype=dtype, device=device))\n",
    "\n",
    "# Set frequency grid\n",
    "grid = torch.fft.rfftfreq(length, dtype=dtype, device=device)\n",
    "\n",
    "# Set window\n",
    "w = Window.from_cosine(length, 2.0, dtype=dtype, device=device)\n",
    "print(w)\n",
    "\n",
    "# Plot\n",
    "plt.figure(figsize=(15, 3))\n",
    "plt.xlim(0.10, 0.15)\n",
    "plt.ylim(-4, +4)\n",
    "plt.scatter(grid.cpu().numpy(), torch.log10(torch.abs(torch.fft.rfft(signal))).cpu().numpy(), color='red', marker='o')\n",
    "plt.scatter(grid.cpu().numpy(), torch.log10(torch.abs(torch.fft.rfft(signal*w.window))).cpu().numpy(), color='blue', marker='o'),\n",
    "plt.show()\n",
    "\n",
    "# Compute parameters with known frequency using convolution without and with window\n",
    "\n",
    "# Set window \n",
    "w = Window.from_cosine(length, 4.0, dtype=dtype, device=device)\n",
    "print(w)\n",
    "\n",
    "# Set time\n",
    "t = torch.linspace(0, length, length, dtype=dtype, device=device)\n",
    "\n",
    "# Compute s-amplitude without and with window\n",
    "print(2.0*torch.dot(signal, torch.sin(2.0*numpy.pi*0.120*t))/len(w))\n",
    "print(2.0*torch.dot(signal*w.window, torch.sin(2.0*numpy.pi*0.120*t))/w.total)"
   ]
  },
  {
   "cell_type": "code",
   "execution_count": null,
   "id": "dd37dc03-a8fd-4472-abdf-81978e531458",
   "metadata": {},
   "outputs": [],
   "source": []
  }
 ],
 "metadata": {
  "kernelspec": {
   "display_name": "Python 3 (ipykernel)",
   "language": "python",
   "name": "python3"
  },
  "language_info": {
   "codemirror_mode": {
    "name": "ipython",
    "version": 3
   },
   "file_extension": ".py",
   "mimetype": "text/x-python",
   "name": "python",
   "nbconvert_exporter": "python",
   "pygments_lexer": "ipython3",
   "version": "3.9.7"
  },
  "latex_envs": {
   "LaTeX_envs_menu_present": true,
   "autoclose": false,
   "autocomplete": true,
   "bibliofile": "biblio.bib",
   "cite_by": "apalike",
   "current_citInitial": 1,
   "eqLabelWithNumbers": true,
   "eqNumInitial": 1,
   "hotkeys": {
    "equation": "Ctrl-E",
    "itemize": "Ctrl-I"
   },
   "labels_anchors": false,
   "latex_user_defs": false,
   "report_style_numbering": false,
   "user_envs_cfg": false
  }
 },
 "nbformat": 4,
 "nbformat_minor": 5
}
