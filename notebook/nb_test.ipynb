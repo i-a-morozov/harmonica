{
 "cells": [
  {
   "cell_type": "markdown",
   "id": "9877ea21",
   "metadata": {
    "id": "eTuGZt-gXDRc"
   },
   "source": [
    "## Test"
   ]
  },
  {
   "cell_type": "code",
   "execution_count": 1,
   "id": "2d103150",
   "metadata": {
    "colab": {
     "base_uri": "https://localhost:8080/"
    },
    "executionInfo": {
     "elapsed": 288,
     "status": "ok",
     "timestamp": 1634043394257,
     "user": {
      "displayName": "Ivan Morozov",
      "photoUrl": "https://lh3.googleusercontent.com/a/default-user=s64",
      "userId": "01505246621606466427"
     },
     "user_tz": -420
    },
    "id": "-XncPEzMX4ga",
    "outputId": "6a33d4e7-e8cd-45a4-abcc-66617ca5f25d"
   },
   "outputs": [
    {
     "data": {
      "text/plain": [
       "True"
      ]
     },
     "execution_count": 1,
     "metadata": {},
     "output_type": "execute_result"
    }
   ],
   "source": [
    "# Import\n",
    "\n",
    "import epics\n",
    "import numpy\n",
    "import pandas\n",
    "import torch\n",
    "import nufft\n",
    "\n",
    "import sys\n",
    "sys.path.append('..')\n",
    "\n",
    "from harmonica.window import Window\n",
    "from harmonica.data import Data\n",
    "from harmonica.frequency import Frequency\n",
    "\n",
    "torch.set_printoptions(precision=12, sci_mode=True)\n",
    "torch.cuda.is_available()"
   ]
  },
  {
   "cell_type": "code",
   "execution_count": 2,
   "id": "cebb815a",
   "metadata": {},
   "outputs": [
    {
     "name": "stdout",
     "output_type": "stream",
     "text": [
      "Python 3.9.7\n"
     ]
    }
   ],
   "source": [
    "!python --version"
   ]
  },
  {
   "cell_type": "code",
   "execution_count": 3,
   "id": "6a341c69",
   "metadata": {},
   "outputs": [
    {
     "data": {
      "text/plain": [
       "'1.10.1+cu102'"
      ]
     },
     "execution_count": 3,
     "metadata": {},
     "output_type": "execute_result"
    }
   ],
   "source": [
    "torch.__version__"
   ]
  },
  {
   "cell_type": "code",
   "execution_count": 4,
   "id": "df0da84c",
   "metadata": {},
   "outputs": [],
   "source": [
    "size = 1024\n",
    "length = 8192\n",
    "dtype = torch.float64"
   ]
  },
  {
   "cell_type": "code",
   "execution_count": 5,
   "id": "1c5ea1de",
   "metadata": {},
   "outputs": [],
   "source": [
    "# Test data (cpu)\n",
    "device = 'cpu'\n",
    "w = Window(length, 'cosine_window', 1.0, dtype=dtype, device=device)\n",
    "data = torch.sin(2*numpy.pi*0.12*torch.linspace(1, len(w), len(w), dtype=w.dtype, device=w.device))\n",
    "d = Data.from_data(w, torch.stack([data for _ in range(size)]))\n",
    "f = Frequency(d)"
   ]
  },
  {
   "cell_type": "code",
   "execution_count": 6,
   "id": "6db8c889",
   "metadata": {},
   "outputs": [
    {
     "name": "stdout",
     "output_type": "stream",
     "text": [
      "398 ms ± 7.67 ms per loop (mean ± std. dev. of 7 runs, 1 loop each)\n"
     ]
    }
   ],
   "source": [
    "%%timeit\n",
    "f('parabola')"
   ]
  },
  {
   "cell_type": "code",
   "execution_count": 7,
   "id": "77ce217a",
   "metadata": {},
   "outputs": [],
   "source": [
    "# Clear\n",
    "del w, d, f"
   ]
  },
  {
   "cell_type": "code",
   "execution_count": 8,
   "id": "c82e8960",
   "metadata": {},
   "outputs": [],
   "source": [
    "# Test data (gpu)\n",
    "device = 'cuda' if torch.cuda.is_available() else 'cpu'\n",
    "w = Window(length, 'cosine_window', 1.0, dtype=dtype, device=device)\n",
    "data = torch.sin(2*numpy.pi*0.12*torch.linspace(1, len(w), len(w), dtype=w.dtype, device=w.device))\n",
    "d = Data.from_data(w, torch.stack([data for _ in range(size)]))\n",
    "f = Frequency(d)"
   ]
  },
  {
   "cell_type": "code",
   "execution_count": 9,
   "id": "ce31e86e",
   "metadata": {},
   "outputs": [
    {
     "name": "stdout",
     "output_type": "stream",
     "text": [
      "45.4 ms ± 448 µs per loop (mean ± std. dev. of 7 runs, 10 loops each)\n"
     ]
    }
   ],
   "source": [
    "%%timeit\n",
    "f('parabola')"
   ]
  },
  {
   "cell_type": "code",
   "execution_count": 10,
   "id": "28e49758",
   "metadata": {},
   "outputs": [],
   "source": [
    "# Clear\n",
    "del w, d, f\n",
    "torch.cuda.synchronize()\n",
    "torch.cuda.empty_cache()"
   ]
  },
  {
   "cell_type": "code",
   "execution_count": 11,
   "id": "d40c3555",
   "metadata": {},
   "outputs": [],
   "source": [
    "# SVD"
   ]
  },
  {
   "cell_type": "code",
   "execution_count": 12,
   "id": "59e6267d",
   "metadata": {},
   "outputs": [
    {
     "name": "stdout",
     "output_type": "stream",
     "text": [
      "torch.Size([64, 512, 512])\n",
      "cpu\n"
     ]
    }
   ],
   "source": [
    "# Test data (cpu)\n",
    "device = 'cpu'\n",
    "w = Window(512, 'cosine_window', 1.0, dtype=dtype, device=device)\n",
    "data = torch.sin(2*numpy.pi*0.12*torch.linspace(1, len(w), len(w), dtype=w.dtype, device=w.device))\n",
    "data = torch.stack([data for _ in range(512)])\n",
    "data = torch.stack([data for _ in range(64)])\n",
    "print(data.shape)\n",
    "print(data.device)"
   ]
  },
  {
   "cell_type": "code",
   "execution_count": 13,
   "id": "1da468b9",
   "metadata": {},
   "outputs": [
    {
     "name": "stdout",
     "output_type": "stream",
     "text": [
      "4.45 s ± 84.4 ms per loop (mean ± std. dev. of 7 runs, 1 loop each)\n"
     ]
    }
   ],
   "source": [
    "%%timeit\n",
    "u, s, v = torch.linalg.svd(data)"
   ]
  },
  {
   "cell_type": "code",
   "execution_count": 14,
   "id": "21ff6f97",
   "metadata": {},
   "outputs": [],
   "source": [
    "# Clear\n",
    "del w, data"
   ]
  },
  {
   "cell_type": "code",
   "execution_count": 15,
   "id": "15b41e66",
   "metadata": {},
   "outputs": [
    {
     "name": "stdout",
     "output_type": "stream",
     "text": [
      "torch.Size([64, 512, 512])\n",
      "cuda:0\n"
     ]
    }
   ],
   "source": [
    "# Test data (gpu)\n",
    "device = 'cuda' if torch.cuda.is_available() else 'cpu'\n",
    "w = Window(512, 'cosine_window', 1.0, dtype=dtype, device=device)\n",
    "data = torch.sin(2*numpy.pi*0.12*torch.linspace(1, len(w), len(w), dtype=w.dtype, device=w.device))\n",
    "data = torch.stack([data for _ in range(512)])\n",
    "data = torch.stack([data for _ in range(64)])\n",
    "print(data.shape)\n",
    "print(data.device)"
   ]
  },
  {
   "cell_type": "code",
   "execution_count": 16,
   "id": "400a296c",
   "metadata": {},
   "outputs": [
    {
     "name": "stdout",
     "output_type": "stream",
     "text": [
      "381 ms ± 14.3 ms per loop (mean ± std. dev. of 7 runs, 1 loop each)\n"
     ]
    }
   ],
   "source": [
    "%%timeit\n",
    "u, s, v = torch.linalg.svd(data)"
   ]
  },
  {
   "cell_type": "code",
   "execution_count": 17,
   "id": "51cef28a",
   "metadata": {},
   "outputs": [],
   "source": [
    "# Clear\n",
    "del w, data\n",
    "torch.cuda.synchronize()\n",
    "torch.cuda.empty_cache()"
   ]
  },
  {
   "cell_type": "code",
   "execution_count": 18,
   "id": "68e4445b",
   "metadata": {},
   "outputs": [],
   "source": [
    "# PV"
   ]
  },
  {
   "cell_type": "code",
   "execution_count": 19,
   "id": "d1d7f07c",
   "metadata": {},
   "outputs": [],
   "source": [
    "w = Window(4096, 'cosine_window', 1.0, dtype=torch.float64, device='cpu')\n",
    "pv_list = [\"H:STP2:DATA:X\", \"H:STP4:DATA:X\", \"H:SRP1:DATA:X\", \"H:SRP2:DATA:X\", \"H:SRP3:DATA:X\", \"H:SRP4:DATA:X\", \"H:SRP5:DATA:X\", \"H:SRP6:DATA:X\", \"H:SRP7:DATA:X\", \"H:SRP8:DATA:X\", \"H:SRP9:DATA:X\", \"H:SIP1:DATA:X\", \"H:SIP2:DATA:X\", \"H:SRP10:DATA:X\", \"H:SRP11:DATA:X\", \"H:SRP12:DATA:X\", \"H:SRP13:DATA:X\", \"H:SRP14:DATA:X\", \"H:SRP15:DATA:X\", \"H:SRP16:DATA:X\", \"H:SRP17:DATA:X\", \"H:SEP5:DATA:X\", \"H:SEP4:DATA:X\", \"H:SEP3:DATA:X\", \"H:SEP1:DATA:X\", \"H:SEP0:DATA:X\", \"H:NEP0:DATA:X\", \"H:NEP1:DATA:X\", \"H:NEP3:DATA:X\", \"H:NEP4:DATA:X\", \"H:NEP5:DATA:X\", \"H:NRP17:DATA:X\", \"H:NRP16:DATA:X\", \"H:NRP15:DATA:X\", \"H:NRP14:DATA:X\", \"H:NRP13:DATA:X\", \"H:NRP12:DATA:X\", \"H:NRP11:DATA:X\", \"H:NRP10:DATA:X\", \"H:NIP3:DATA:X\", \"H:NIP1:DATA:X\", \"H:NRP9:DATA:X\", \"H:NRP8:DATA:X\", \"H:NRP7:DATA:X\", \"H:NRP6:DATA:X\", \"H:NRP5:DATA:X\", \"H:NRP4:DATA:X\", \"H:NRP3:DATA:X\", \"H:NRP2:DATA:X\", \"H:NRP1:DATA:X\", \"H:NTP4:DATA:X\", \"H:NTP2:DATA:X\", \"H:NTP0:DATA:X\", \"H:STP0:DATA:X\"]\n",
    "pv_rise = [0 for _ in range(len(pv_list))]"
   ]
  },
  {
   "cell_type": "code",
   "execution_count": 20,
   "id": "66618f95",
   "metadata": {},
   "outputs": [
    {
     "name": "stdout",
     "output_type": "stream",
     "text": [
      "CPU times: user 561 ms, sys: 79.4 ms, total: 641 ms\n",
      "Wall time: 112 ms\n"
     ]
    }
   ],
   "source": [
    "%%time\n",
    "d = Data.from_epics(w, pv_list, pv_rise)"
   ]
  },
  {
   "cell_type": "code",
   "execution_count": 21,
   "id": "3d3d8ec5",
   "metadata": {
    "scrolled": true,
    "tags": []
   },
   "outputs": [
    {
     "name": "stdout",
     "output_type": "stream",
     "text": [
      "Tue Jan 18 11:02:01 2022       \n",
      "+-----------------------------------------------------------------------------+\n",
      "| NVIDIA-SMI 465.19.01    Driver Version: 465.19.01    CUDA Version: 11.3     |\n",
      "|-------------------------------+----------------------+----------------------+\n",
      "| GPU  Name        Persistence-M| Bus-Id        Disp.A | Volatile Uncorr. ECC |\n",
      "| Fan  Temp  Perf  Pwr:Usage/Cap|         Memory-Usage | GPU-Util  Compute M. |\n",
      "|                               |                      |               MIG M. |\n",
      "|===============================+======================+======================|\n",
      "|   0  NVIDIA GeForce ...  On   | 00000000:03:00.0  On |                  N/A |\n",
      "| 34%   48C    P2    52W / 151W |   1243MiB /  8116MiB |     10%      Default |\n",
      "|                               |                      |                  N/A |\n",
      "+-------------------------------+----------------------+----------------------+\n",
      "                                                                               \n",
      "+-----------------------------------------------------------------------------+\n",
      "| Processes:                                                                  |\n",
      "|  GPU   GI   CI        PID   Type   Process name                  GPU Memory |\n",
      "|        ID   ID                                                   Usage      |\n",
      "|=============================================================================|\n",
      "|    0   N/A  N/A      1429      G   /usr/lib/xorg/Xorg                306MiB |\n",
      "|    0   N/A  N/A      3620      G   /usr/bin/compiz                    13MiB |\n",
      "|    0   N/A  N/A      5620      G   ...AAAAAAAAA= --shared-files      150MiB |\n",
      "|    0   N/A  N/A    365482      C   ...conda/envs/gui/bin/python      767MiB |\n",
      "+-----------------------------------------------------------------------------+\n"
     ]
    }
   ],
   "source": [
    "!nvidia-smi"
   ]
  },
  {
   "cell_type": "code",
   "execution_count": 22,
   "id": "facc25b7",
   "metadata": {
    "scrolled": true,
    "tags": []
   },
   "outputs": [
    {
     "name": "stdout",
     "output_type": "stream",
     "text": [
      "\n",
      "CUDA Driver Version:           11030\n",
      "NVRM version:                  NVIDIA UNIX x86_64 Kernel Module  465.19.01  Fri Mar 19 07:44:41 UTC 2021\n",
      "\n",
      "Device Number:                 0\n",
      "Device Name:                   NVIDIA GeForce GTX 1070\n",
      "Device Revision Number:        6.1\n",
      "Global Memory Size:            8510701568\n",
      "Number of Multiprocessors:     15\n",
      "Concurrent Copy and Execution: Yes\n",
      "Total Constant Memory:         65536\n",
      "Total Shared Memory per Block: 49152\n",
      "Registers per Block:           65536\n",
      "Warp Size:                     32\n",
      "Maximum Threads per Block:     1024\n",
      "Maximum Block Dimensions:      1024, 1024, 64\n",
      "Maximum Grid Dimensions:       2147483647 x 65535 x 65535\n",
      "Maximum Memory Pitch:          2147483647B\n",
      "Texture Alignment:             512B\n",
      "Clock Rate:                    1771 MHz\n",
      "Execution Timeout:             Yes\n",
      "Integrated Device:             No\n",
      "Can Map Host Memory:           Yes\n",
      "Compute Mode:                  default\n",
      "Concurrent Kernels:            Yes\n",
      "ECC Enabled:                   No\n",
      "Memory Clock Rate:             4004 MHz\n",
      "Memory Bus Width:              256 bits\n",
      "L2 Cache Size:                 2097152 bytes\n",
      "Max Threads Per SMP:           2048\n",
      "Async Engines:                 2\n",
      "Unified Addressing:            Yes\n",
      "Managed Memory:                Yes\n",
      "Concurrent Managed Memory:     Yes\n",
      "Preemption Supported:          Yes\n",
      "Cooperative Launch:            Yes\n",
      "  Multi-Device:                Yes\n",
      "Default Target:                cc60\n"
     ]
    }
   ],
   "source": [
    "!nvaccelinfo"
   ]
  },
  {
   "cell_type": "code",
   "execution_count": null,
   "id": "d36daf68-d4b2-44b9-a68c-ce50447519b2",
   "metadata": {},
   "outputs": [],
   "source": []
  }
 ],
 "metadata": {
  "colab": {
   "collapsed_sections": [
    "myt0_gMIOq7b",
    "5d97819c"
   ],
   "name": "03_frequency.ipynb",
   "provenance": []
  },
  "kernelspec": {
   "display_name": "Python 3 (ipykernel)",
   "language": "python",
   "name": "python3"
  },
  "language_info": {
   "codemirror_mode": {
    "name": "ipython",
    "version": 3
   },
   "file_extension": ".py",
   "mimetype": "text/x-python",
   "name": "python",
   "nbconvert_exporter": "python",
   "pygments_lexer": "ipython3",
   "version": "3.9.7"
  },
  "latex_envs": {
   "LaTeX_envs_menu_present": true,
   "autoclose": false,
   "autocomplete": true,
   "bibliofile": "biblio.bib",
   "cite_by": "apalike",
   "current_citInitial": 1,
   "eqLabelWithNumbers": true,
   "eqNumInitial": 1,
   "hotkeys": {
    "equation": "Ctrl-E",
    "itemize": "Ctrl-I"
   },
   "labels_anchors": false,
   "latex_user_defs": false,
   "report_style_numbering": false,
   "user_envs_cfg": false
  }
 },
 "nbformat": 4,
 "nbformat_minor": 5
}
