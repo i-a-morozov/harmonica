{
 "cells": [
  {
   "cell_type": "markdown",
   "id": "9877ea21",
   "metadata": {
    "id": "eTuGZt-gXDRc"
   },
   "source": [
    "## Test"
   ]
  },
  {
   "cell_type": "code",
   "execution_count": 1,
   "id": "2d103150",
   "metadata": {
    "colab": {
     "base_uri": "https://localhost:8080/"
    },
    "executionInfo": {
     "elapsed": 288,
     "status": "ok",
     "timestamp": 1634043394257,
     "user": {
      "displayName": "Ivan Morozov",
      "photoUrl": "https://lh3.googleusercontent.com/a/default-user=s64",
      "userId": "01505246621606466427"
     },
     "user_tz": -420
    },
    "id": "-XncPEzMX4ga",
    "outputId": "6a33d4e7-e8cd-45a4-abcc-66617ca5f25d",
    "tags": []
   },
   "outputs": [
    {
     "data": {
      "text/plain": [
       "True"
      ]
     },
     "execution_count": 1,
     "metadata": {},
     "output_type": "execute_result"
    }
   ],
   "source": [
    "# Import\n",
    "\n",
    "import epics\n",
    "import numpy\n",
    "import pandas\n",
    "import torch\n",
    "import nufft\n",
    "\n",
    "import sys\n",
    "sys.path.append('..')\n",
    "\n",
    "from harmonica.window import Window\n",
    "from harmonica.data import Data\n",
    "from harmonica.frequency import Frequency\n",
    "\n",
    "torch.set_printoptions(precision=12, sci_mode=True)\n",
    "torch.cuda.is_available()"
   ]
  },
  {
   "cell_type": "code",
   "execution_count": 2,
   "id": "cebb815a",
   "metadata": {
    "tags": []
   },
   "outputs": [
    {
     "name": "stdout",
     "output_type": "stream",
     "text": [
      "Python 3.10.10\n"
     ]
    }
   ],
   "source": [
    "!python --version"
   ]
  },
  {
   "cell_type": "code",
   "execution_count": 3,
   "id": "6a341c69",
   "metadata": {
    "tags": []
   },
   "outputs": [
    {
     "data": {
      "text/plain": [
       "'2.0.1+cu117'"
      ]
     },
     "execution_count": 3,
     "metadata": {},
     "output_type": "execute_result"
    }
   ],
   "source": [
    "torch.__version__"
   ]
  },
  {
   "cell_type": "code",
   "execution_count": 4,
   "id": "df0da84c",
   "metadata": {
    "tags": []
   },
   "outputs": [],
   "source": [
    "size = 1024\n",
    "length = 8192\n",
    "dtype = torch.float64"
   ]
  },
  {
   "cell_type": "code",
   "execution_count": 5,
   "id": "1c5ea1de",
   "metadata": {
    "tags": []
   },
   "outputs": [],
   "source": [
    "# Test data (cpu)\n",
    "device = 'cpu'\n",
    "w = Window(length, 'cosine_window', 1.0, dtype=dtype, device=device)\n",
    "data = torch.sin(2*numpy.pi*0.12*torch.linspace(1, len(w), len(w), dtype=w.dtype, device=w.device))\n",
    "d = Data.from_data(w, torch.stack([data for _ in range(size)]))\n",
    "f = Frequency(d)"
   ]
  },
  {
   "cell_type": "code",
   "execution_count": 6,
   "id": "6db8c889",
   "metadata": {
    "tags": []
   },
   "outputs": [
    {
     "name": "stdout",
     "output_type": "stream",
     "text": [
      "CPU times: user 1.48 s, sys: 483 ms, total: 1.96 s\n",
      "Wall time: 200 ms\n"
     ]
    }
   ],
   "source": [
    "%%time\n",
    "f('parabola')"
   ]
  },
  {
   "cell_type": "code",
   "execution_count": 7,
   "id": "77ce217a",
   "metadata": {
    "tags": []
   },
   "outputs": [],
   "source": [
    "# Clear\n",
    "del w, d, f"
   ]
  },
  {
   "cell_type": "code",
   "execution_count": 8,
   "id": "c82e8960",
   "metadata": {
    "tags": []
   },
   "outputs": [],
   "source": [
    "# Test data (gpu)\n",
    "device = 'cuda' if torch.cuda.is_available() else 'cpu'\n",
    "w = Window(length, 'cosine_window', 1.0, dtype=dtype, device=device)\n",
    "data = torch.sin(2*numpy.pi*0.12*torch.linspace(1, len(w), len(w), dtype=w.dtype, device=w.device))\n",
    "d = Data.from_data(w, torch.stack([data for _ in range(size)]))\n",
    "f = Frequency(d)"
   ]
  },
  {
   "cell_type": "code",
   "execution_count": 9,
   "id": "ce31e86e",
   "metadata": {
    "tags": []
   },
   "outputs": [
    {
     "name": "stdout",
     "output_type": "stream",
     "text": [
      "CPU times: user 361 ms, sys: 5.92 ms, total: 367 ms\n",
      "Wall time: 366 ms\n"
     ]
    }
   ],
   "source": [
    "%%time\n",
    "f('parabola')"
   ]
  },
  {
   "cell_type": "code",
   "execution_count": 10,
   "id": "28e49758",
   "metadata": {
    "tags": []
   },
   "outputs": [],
   "source": [
    "# Clear\n",
    "del w, d, f\n",
    "torch.cuda.synchronize()\n",
    "torch.cuda.empty_cache()"
   ]
  },
  {
   "cell_type": "code",
   "execution_count": 11,
   "id": "d40c3555",
   "metadata": {
    "tags": []
   },
   "outputs": [],
   "source": [
    "# SVD"
   ]
  },
  {
   "cell_type": "code",
   "execution_count": 12,
   "id": "59e6267d",
   "metadata": {
    "tags": []
   },
   "outputs": [
    {
     "name": "stdout",
     "output_type": "stream",
     "text": [
      "torch.Size([64, 512, 512])\n",
      "cpu\n"
     ]
    }
   ],
   "source": [
    "# Test data (cpu)\n",
    "device = 'cpu'\n",
    "w = Window(512, 'cosine_window', 1.0, dtype=dtype, device=device)\n",
    "data = torch.sin(2*numpy.pi*0.12*torch.linspace(1, len(w), len(w), dtype=w.dtype, device=w.device))\n",
    "data = torch.stack([data for _ in range(512)])\n",
    "data = torch.stack([data for _ in range(64)])\n",
    "print(data.shape)\n",
    "print(data.device)"
   ]
  },
  {
   "cell_type": "code",
   "execution_count": 13,
   "id": "1da468b9",
   "metadata": {
    "tags": []
   },
   "outputs": [
    {
     "name": "stdout",
     "output_type": "stream",
     "text": [
      "CPU times: user 21.7 s, sys: 4.25 s, total: 26 s\n",
      "Wall time: 8.14 s\n"
     ]
    }
   ],
   "source": [
    "%%time\n",
    "u, s, v = torch.linalg.svd(data)"
   ]
  },
  {
   "cell_type": "code",
   "execution_count": 14,
   "id": "21ff6f97",
   "metadata": {
    "tags": []
   },
   "outputs": [],
   "source": [
    "# Clear\n",
    "del w, data"
   ]
  },
  {
   "cell_type": "code",
   "execution_count": 15,
   "id": "15b41e66",
   "metadata": {
    "tags": []
   },
   "outputs": [
    {
     "name": "stdout",
     "output_type": "stream",
     "text": [
      "torch.Size([64, 512, 512])\n",
      "cuda:0\n"
     ]
    }
   ],
   "source": [
    "# Test data (gpu)\n",
    "device = 'cuda' if torch.cuda.is_available() else 'cpu'\n",
    "w = Window(512, 'cosine_window', 1.0, dtype=dtype, device=device)\n",
    "data = torch.sin(2*numpy.pi*0.12*torch.linspace(1, len(w), len(w), dtype=w.dtype, device=w.device))\n",
    "data = torch.stack([data for _ in range(512)])\n",
    "data = torch.stack([data for _ in range(64)])\n",
    "print(data.shape)\n",
    "print(data.device)"
   ]
  },
  {
   "cell_type": "code",
   "execution_count": 16,
   "id": "400a296c",
   "metadata": {
    "tags": []
   },
   "outputs": [
    {
     "name": "stdout",
     "output_type": "stream",
     "text": [
      "CPU times: user 9.98 s, sys: 244 ms, total: 10.2 s\n",
      "Wall time: 10.2 s\n"
     ]
    }
   ],
   "source": [
    "%%time\n",
    "u, s, v = torch.linalg.svd(data)"
   ]
  },
  {
   "cell_type": "code",
   "execution_count": 17,
   "id": "51cef28a",
   "metadata": {
    "tags": []
   },
   "outputs": [],
   "source": [
    "# Clear\n",
    "del w, data\n",
    "torch.cuda.synchronize()\n",
    "torch.cuda.empty_cache()"
   ]
  },
  {
   "cell_type": "code",
   "execution_count": 18,
   "id": "68e4445b",
   "metadata": {
    "tags": []
   },
   "outputs": [],
   "source": [
    "# PV"
   ]
  },
  {
   "cell_type": "code",
   "execution_count": 19,
   "id": "d1d7f07c",
   "metadata": {
    "tags": []
   },
   "outputs": [],
   "source": [
    "w = Window(4096, 'cosine_window', 1.0, dtype=torch.float64, device='cpu')\n",
    "pv_list = [\"H:STP2:DATA:X\", \"H:STP4:DATA:X\", \"H:SRP1:DATA:X\", \"H:SRP2:DATA:X\", \"H:SRP3:DATA:X\", \"H:SRP4:DATA:X\", \"H:SRP5:DATA:X\", \"H:SRP6:DATA:X\", \"H:SRP7:DATA:X\", \"H:SRP8:DATA:X\", \"H:SRP9:DATA:X\", \"H:SIP1:DATA:X\", \"H:SIP2:DATA:X\", \"H:SRP10:DATA:X\", \"H:SRP11:DATA:X\", \"H:SRP12:DATA:X\", \"H:SRP13:DATA:X\", \"H:SRP14:DATA:X\", \"H:SRP15:DATA:X\", \"H:SRP16:DATA:X\", \"H:SRP17:DATA:X\", \"H:SEP5:DATA:X\", \"H:SEP4:DATA:X\", \"H:SEP3:DATA:X\", \"H:SEP1:DATA:X\", \"H:SEP0:DATA:X\", \"H:NEP0:DATA:X\", \"H:NEP1:DATA:X\", \"H:NEP3:DATA:X\", \"H:NEP4:DATA:X\", \"H:NEP5:DATA:X\", \"H:NRP17:DATA:X\", \"H:NRP16:DATA:X\", \"H:NRP15:DATA:X\", \"H:NRP14:DATA:X\", \"H:NRP13:DATA:X\", \"H:NRP12:DATA:X\", \"H:NRP11:DATA:X\", \"H:NRP10:DATA:X\", \"H:NIP3:DATA:X\", \"H:NIP1:DATA:X\", \"H:NRP9:DATA:X\", \"H:NRP8:DATA:X\", \"H:NRP7:DATA:X\", \"H:NRP6:DATA:X\", \"H:NRP5:DATA:X\", \"H:NRP4:DATA:X\", \"H:NRP3:DATA:X\", \"H:NRP2:DATA:X\", \"H:NRP1:DATA:X\", \"H:NTP4:DATA:X\", \"H:NTP2:DATA:X\", \"H:NTP0:DATA:X\", \"H:STP0:DATA:X\"]\n",
    "pv_rise = [0 for _ in range(len(pv_list))]"
   ]
  },
  {
   "cell_type": "code",
   "execution_count": 20,
   "id": "66618f95",
   "metadata": {
    "tags": []
   },
   "outputs": [
    {
     "name": "stdout",
     "output_type": "stream",
     "text": [
      "CPU times: user 857 µs, sys: 26.5 ms, total: 27.3 ms\n",
      "Wall time: 41.9 ms\n"
     ]
    }
   ],
   "source": [
    "%%time\n",
    "d = Data.from_epics(w, pv_list, pv_rise=pv_rise)"
   ]
  },
  {
   "cell_type": "code",
   "execution_count": 21,
   "id": "3d3d8ec5",
   "metadata": {
    "scrolled": true,
    "tags": []
   },
   "outputs": [
    {
     "name": "stdout",
     "output_type": "stream",
     "text": [
      "Fri Aug  4 12:09:32 2023       \n",
      "+-----------------------------------------------------------------------------+\n",
      "| NVIDIA-SMI 525.125.06   Driver Version: 525.125.06   CUDA Version: 12.0     |\n",
      "|-------------------------------+----------------------+----------------------+\n",
      "| GPU  Name        Persistence-M| Bus-Id        Disp.A | Volatile Uncorr. ECC |\n",
      "| Fan  Temp  Perf  Pwr:Usage/Cap|         Memory-Usage | GPU-Util  Compute M. |\n",
      "|                               |                      |               MIG M. |\n",
      "|===============================+======================+======================|\n",
      "|   0  NVIDIA GeForce ...  On   | 00000000:01:00.0  On |                  N/A |\n",
      "|ERR!   52C    P3    30W / 240W |   1954MiB /  8192MiB |      0%      Default |\n",
      "|                               |                      |                  N/A |\n",
      "+-------------------------------+----------------------+----------------------+\n",
      "                                                                               \n",
      "+-----------------------------------------------------------------------------+\n",
      "| Processes:                                                                  |\n",
      "|  GPU   GI   CI        PID   Type   Process name                  GPU Memory |\n",
      "|        ID   ID                                                   Usage      |\n",
      "|=============================================================================|\n",
      "|    0   N/A  N/A      2076      G   /usr/lib/xorg/Xorg                434MiB |\n",
      "|    0   N/A  N/A      2291      G   /usr/bin/gnome-shell               42MiB |\n",
      "|    0   N/A  N/A      4025      G   ...819899091343738031,262144      169MiB |\n",
      "|    0   N/A  N/A    127397      C   ...envs/harmonica/bin/python     1270MiB |\n",
      "+-----------------------------------------------------------------------------+\n"
     ]
    }
   ],
   "source": [
    "!nvidia-smi"
   ]
  },
  {
   "cell_type": "code",
   "execution_count": null,
   "id": "be54f1d7-afa1-46ba-8e8a-b1d03150f7f6",
   "metadata": {},
   "outputs": [],
   "source": []
  }
 ],
 "metadata": {
  "colab": {
   "collapsed_sections": [
    "myt0_gMIOq7b",
    "5d97819c"
   ],
   "name": "03_frequency.ipynb",
   "provenance": []
  },
  "kernelspec": {
   "display_name": "Python 3 (ipykernel)",
   "language": "python",
   "name": "python3"
  },
  "language_info": {
   "codemirror_mode": {
    "name": "ipython",
    "version": 3
   },
   "file_extension": ".py",
   "mimetype": "text/x-python",
   "name": "python",
   "nbconvert_exporter": "python",
   "pygments_lexer": "ipython3",
   "version": "3.10.10"
  },
  "latex_envs": {
   "LaTeX_envs_menu_present": true,
   "autoclose": false,
   "autocomplete": true,
   "bibliofile": "biblio.bib",
   "cite_by": "apalike",
   "current_citInitial": 1,
   "eqLabelWithNumbers": true,
   "eqNumInitial": 1,
   "hotkeys": {
    "equation": "Ctrl-E",
    "itemize": "Ctrl-I"
   },
   "labels_anchors": false,
   "latex_user_defs": false,
   "report_style_numbering": false,
   "user_envs_cfg": false
  }
 },
 "nbformat": 4,
 "nbformat_minor": 5
}
