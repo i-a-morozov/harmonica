{
 "cells": [
  {
   "cell_type": "code",
   "execution_count": 1,
   "id": "d64bccdd",
   "metadata": {},
   "outputs": [
    {
     "name": "stdout",
     "output_type": "stream",
     "text": [
      "True\n"
     ]
    }
   ],
   "source": [
    "# Import\n",
    "\n",
    "import epics\n",
    "import numpy\n",
    "import pandas\n",
    "import torch\n",
    "import nufft\n",
    "\n",
    "import sys\n",
    "sys.path.append('..')\n",
    "\n",
    "from harmonica.util import LENGTH, QX, QZ\n",
    "from harmonica.window import Window\n",
    "from harmonica.data import Data\n",
    "from harmonica.frequency import Frequency\n",
    "\n",
    "import matplotlib.pyplot as plt\n",
    "\n",
    "torch.set_printoptions(precision=12, sci_mode=True)\n",
    "print(torch.cuda.is_available())"
   ]
  },
  {
   "cell_type": "markdown",
   "id": "0ec9fc91",
   "metadata": {
    "heading_collapsed": true,
    "id": "eTuGZt-gXDRc"
   },
   "source": [
    "# Example-01: FFT amplitude spectrum"
   ]
  },
  {
   "cell_type": "code",
   "execution_count": 2,
   "id": "815cc5a6",
   "metadata": {
    "colab": {
     "base_uri": "https://localhost:8080/",
     "height": 320
    },
    "executionInfo": {
     "elapsed": 386,
     "status": "ok",
     "timestamp": 1634042420037,
     "user": {
      "displayName": "Ivan Morozov",
      "photoUrl": "https://lh3.googleusercontent.com/a/default-user=s64",
      "userId": "01505246621606466427"
     },
     "user_tz": -420
    },
    "hidden": true,
    "id": "2Frzu3yu_rVx",
    "outputId": "f8360a62-0672-4f74-bf2c-6cd37cb57afa"
   },
   "outputs": [
    {
     "name": "stdout",
     "output_type": "stream",
     "text": [
      "Window(1024, 'cosine_window', 1.0)\n",
      "Data(64, Window(1024, 'cosine_window', 1.0))\n",
      "Frequency(Data(64, Window(1024, 'cosine_window', 1.0)))\n"
     ]
    },
    {
     "data": {
      "image/png": "[encoded data removed]",
      "text/plain": [
       "<Figure size 720x360 with 1 Axes>"
      ]
     },
     "metadata": {
      "needs_background": "light"
     },
     "output_type": "display_data"
    }
   ],
   "source": [
    "# Set parameters (64 signals with length 1024)\n",
    "dtype, device = torch.float64, 'cpu'\n",
    "size, length = 64, 1024\n",
    "\n",
    "# Set window\n",
    "win = Window.from_cosine(length, order=1.0, dtype=dtype, device=device)\n",
    "print(win)\n",
    "\n",
    "# Set TbT data (64 signals with two components and different amplitudes)\n",
    "t = torch.linspace(1.0, length, length, dtype=dtype)\n",
    "data = torch.stack([i*torch.sin(2.0*numpy.pi*1*0.12*t) + 0.01*i*torch.sin(2.0*numpy.pi*2*0.12*t) for i in range(1, size + 1)])\n",
    "tbt = Data.from_tensor(win, data)\n",
    "print(tbt)\n",
    "\n",
    "# Initialize Frequency instance\n",
    "f = Frequency(tbt)\n",
    "print(f)\n",
    "\n",
    "# Apply window (note, window is applied to work, Frequency methods act on work)\n",
    "f.data.window_remove_mean()\n",
    "f.data.window_apply()\n",
    "\n",
    "# FFT grid is stored in fft_grid (computed on initialization)\n",
    "# FFT spectrum amplitudes are stored in fft_spectrum for each signal\n",
    "\n",
    "# Compute FFT amplitude spectrum\n",
    "f.fft_get_spectrum()\n",
    "\n",
    "# Reset TbT work\n",
    "f.data.reset()\n",
    "\n",
    "# Plot (log10) FFT spectrum for given signal id\n",
    "idx = 0\n",
    "plt.figure(figsize=(10,5))\n",
    "plt.scatter(f.fft_grid.cpu(), torch.log10(f.fft_spectrum[idx].cpu()), s=0.5, c='b')\n",
    "plt.xlim(0.1, 0.3)\n",
    "plt.show()\n",
    "\n",
    "# Clean\n",
    "del win\n",
    "del tbt\n",
    "del f\n",
    "if device != 'cpu':\n",
    "    torch.cuda.synchronize()\n",
    "    torch.cuda.empty_cache()"
   ]
  },
  {
   "cell_type": "markdown",
   "id": "09ec2832",
   "metadata": {
    "heading_collapsed": true
   },
   "source": [
    "# Example-02: FFT amplitude spectrum & zero padding"
   ]
  },
  {
   "cell_type": "code",
   "execution_count": 3,
   "id": "b33e9e44",
   "metadata": {
    "colab": {
     "base_uri": "https://localhost:8080/",
     "height": 320
    },
    "executionInfo": {
     "elapsed": 576,
     "status": "ok",
     "timestamp": 1634042433280,
     "user": {
      "displayName": "Ivan Morozov",
      "photoUrl": "https://lh3.googleusercontent.com/a/default-user=s64",
      "userId": "01505246621606466427"
     },
     "user_tz": -420
    },
    "hidden": true,
    "id": "c6NYerz__rOv",
    "outputId": "99f6476a-2f09-4324-8913-155d6b7191e1"
   },
   "outputs": [
    {
     "name": "stdout",
     "output_type": "stream",
     "text": [
      "Window(1024, 'cosine_window', 1.0)\n",
      "Data(64, Window(1024, 'cosine_window', 1.0))\n",
      "Frequency(Data(64, Window(1024, 'cosine_window', 1.0)))\n",
      "Frequency(Data(64, Window(1024, 'cosine_window', 1.0)))\n"
     ]
    },
    {
     "data": {
      "image/png": "[encoded data removed]",
      "text/plain": [
       "<Figure size 720x360 with 1 Axes>"
      ]
     },
     "metadata": {
      "needs_background": "light"
     },
     "output_type": "display_data"
    }
   ],
   "source": [
    "# Set parameters (64 signals with length 1024)\n",
    "dtype, device = torch.float64, 'cpu'\n",
    "size, length = 64, 1024\n",
    "\n",
    "# Set window\n",
    "win = Window.from_cosine(length, order=1.0, dtype=dtype, device=device)\n",
    "print(win)\n",
    "\n",
    "# Set TbT data (64 signals with two components and different amplitudes)\n",
    "t = torch.linspace(1.0, length, length, dtype=dtype)\n",
    "data = torch.stack([i*torch.sin(2.0*numpy.pi*1*0.12*t) + 0.01*i*torch.sin(2.0*numpy.pi*2*0.12*t) for i in range(1, size + 1)])\n",
    "tbt = Data.from_tensor(win, data)\n",
    "print(tbt)\n",
    "\n",
    "# If pad == 0, it is set to signal length\n",
    "# Spectrum is computed using torch.fft.rfft(..., n=pad)\n",
    "# Padding can be used to interpolate DTFT spectrum in all frequency range\n",
    "# This improves frequency estimation accuracy (assuming frequency corresponds to max of the largest FFT spectrum amplitude peak)\n",
    "# Can be used to obtain a better initial guess, if signal has several frequencies with close amplitudes\n",
    "\n",
    "# Initialize Frequency instances with and without padding\n",
    "f1 = Frequency(tbt, pad=length*2**4)\n",
    "f2 = Frequency(tbt, pad=length*2**0)\n",
    "print(f1)\n",
    "print(f2)\n",
    "\n",
    "# Apply window to data\n",
    "f1.data.window_apply()\n",
    "f2.data.window_apply()\n",
    "\n",
    "# Compute FFT amplitude spectrum\n",
    "f1.fft_get_spectrum()\n",
    "f2.fft_get_spectrum()\n",
    "\n",
    "# Reset TbT work\n",
    "f1.data.reset()\n",
    "f2.data.reset()\n",
    "\n",
    "# Plot (log10) FFT spectrum for given signal id\n",
    "idx = 0\n",
    "plt.figure(figsize=(10,5))\n",
    "plt.scatter(f1.fft_grid.detach().cpu(), torch.log10(f1.fft_spectrum[idx].detach().cpu()), s=0.5, c='r')\n",
    "plt.scatter(f2.fft_grid.detach().cpu(), torch.log10(f2.fft_spectrum[idx].detach().cpu()), s=5.0, c='b')\n",
    "plt.xlim(0.12 - 0.01, 0.12 + 0.01)\n",
    "plt.show()\n",
    "\n",
    "# Clean\n",
    "del win\n",
    "del tbt\n",
    "del f1, f2\n",
    "if device != 'cpu':\n",
    "    torch.cuda.synchronize()\n",
    "    torch.cuda.empty_cache()"
   ]
  },
  {
   "cell_type": "markdown",
   "id": "e10b8b42",
   "metadata": {
    "heading_collapsed": true
   },
   "source": [
    "# Example-03: FFT frequency estimation & zero padding"
   ]
  },
  {
   "cell_type": "code",
   "execution_count": 4,
   "id": "f4c90698",
   "metadata": {
    "colab": {
     "base_uri": "https://localhost:8080/"
    },
    "executionInfo": {
     "elapsed": 257,
     "status": "ok",
     "timestamp": 1634042442884,
     "user": {
      "displayName": "Ivan Morozov",
      "photoUrl": "https://lh3.googleusercontent.com/a/default-user=s64",
      "userId": "01505246621606466427"
     },
     "user_tz": -420
    },
    "hidden": true,
    "id": "mLWyoygI_rMG",
    "outputId": "7a34e19f-d06f-4473-b3cc-269ac7f87751",
    "scrolled": true
   },
   "outputs": [
    {
     "name": "stdout",
     "output_type": "stream",
     "text": [
      "Window(1024, 'cosine_window', 1.0)\n",
      "Data(64, Window(1024, 'cosine_window', 1.0))\n",
      "Frequency(Data(64, Window(1024, 'cosine_window', 1.0)))\n",
      "Frequency(Data(64, Window(1024, 'cosine_window', 1.0)))\n",
      "tensor(1.171875000000e-04, dtype=torch.float64)\n",
      "tensor(-4.882812499996e-06, dtype=torch.float64)\n"
     ]
    }
   ],
   "source": [
    "# FFT frequency estimation is based on location of max bin in the amplitude spectum\n",
    "\n",
    "# Set parameters (64 signals with length 1024)\n",
    "dtype, device = torch.float64, 'cpu'\n",
    "size, length = 64, 1024\n",
    "\n",
    "# Set window\n",
    "win = Window.from_cosine(length, order=1.0, dtype=dtype, device=device)\n",
    "print(win)\n",
    "\n",
    "# Set TbT data (64 signals with two components and different amplitudes)\n",
    "t = torch.linspace(1.0, length, length, dtype=dtype)\n",
    "data = torch.stack([i*torch.sin(2.0*numpy.pi*1*0.12*t) + 0.01*i*torch.sin(2.0*numpy.pi*2*0.12*t) for i in range(1, size + 1)])\n",
    "tbt = Data.from_tensor(win, data)\n",
    "print(tbt)\n",
    "\n",
    "# Initialize Frequency instances with and without padding\n",
    "f1 = Frequency(tbt, pad=length*2**0)\n",
    "f2 = Frequency(tbt, pad=length*2**4)\n",
    "print(f1)\n",
    "print(f2)\n",
    "\n",
    "# Estimate frequency\n",
    "f1('fft')\n",
    "f2('fft')\n",
    "\n",
    "# Compare results\n",
    "print(torch.min(f1.frequency - 0.12))\n",
    "print(torch.min(f2.frequency - 0.12))\n",
    "\n",
    "# In this case call invokes task_fft method\n",
    "f1.task_fft(window=True)\n",
    "f2.task_fft(window=True)\n",
    "\n",
    "# Clean\n",
    "del win\n",
    "del tbt\n",
    "del f1, f2\n",
    "if device != 'cpu':\n",
    "    torch.cuda.synchronize()\n",
    "    torch.cuda.empty_cache()"
   ]
  },
  {
   "cell_type": "markdown",
   "id": "7a07779a",
   "metadata": {
    "heading_collapsed": true
   },
   "source": [
    "# Example-04: FFT frequency estimation & zero padding for given range"
   ]
  },
  {
   "cell_type": "code",
   "execution_count": 5,
   "id": "f2510db3",
   "metadata": {
    "colab": {
     "base_uri": "https://localhost:8080/"
    },
    "executionInfo": {
     "elapsed": 408,
     "status": "ok",
     "timestamp": 1634042494996,
     "user": {
      "displayName": "Ivan Morozov",
      "photoUrl": "https://lh3.googleusercontent.com/a/default-user=s64",
      "userId": "01505246621606466427"
     },
     "user_tz": -420
    },
    "hidden": true,
    "id": "5-o3px8S_rJu",
    "outputId": "1bedf7e9-132d-4fa1-e1f3-49842ba6380a",
    "scrolled": true
   },
   "outputs": [
    {
     "name": "stdout",
     "output_type": "stream",
     "text": [
      "Window(1024, 'cosine_window', 1.0)\n",
      "Data(64, Window(1024, 'cosine_window', 1.0))\n",
      "Frequency(Data(64, Window(1024, 'cosine_window', 1.0)))\n",
      "Frequency(Data(64, Window(1024, 'cosine_window', 1.0)))\n",
      "tensor(2.343750000000e-04, dtype=torch.float64)\n",
      "tensor(-9.765624999991e-06, dtype=torch.float64)\n"
     ]
    }
   ],
   "source": [
    "# Set parameters (64 signals with length 1024)\n",
    "dtype, device = torch.float64, 'cpu'\n",
    "size, length = 64, 1024\n",
    "\n",
    "# Set window\n",
    "win = Window.from_cosine(length, order=1.0, dtype=dtype, device=device)\n",
    "print(win)\n",
    "\n",
    "# Set TbT data (64 signals with two components and different amplitudes)\n",
    "t = torch.linspace(1.0, length, length, dtype=dtype)\n",
    "data = torch.stack([i*torch.sin(2.0*numpy.pi*1*0.12*t) + 0.01*i*torch.sin(2.0*numpy.pi*2*0.12*t) for i in range(1, size + 1)])\n",
    "tbt = Data.from_tensor(win, data)\n",
    "print(tbt)\n",
    "\n",
    "# Initialize Frequency instances with and without padding\n",
    "f1 = Frequency(tbt, pad=length*2**0)\n",
    "f2 = Frequency(tbt, pad=length*2**4)\n",
    "print(f1)\n",
    "print(f2)\n",
    "\n",
    "# By default FFT frequency estimation is performed using (0.0, 0.5) frequency range.\n",
    "# Explicit range can be passed.\n",
    "\n",
    "# Estimate frequency for explicit frequency range\n",
    "f1('fft', f_range=(0.2, 0.25))\n",
    "f2('fft', f_range=(0.2, 0.25))\n",
    "\n",
    "# Compare results\n",
    "print(torch.min(f1.frequency - 0.24))\n",
    "print(torch.min(f2.frequency - 0.24))\n",
    "\n",
    "# Clean\n",
    "del win\n",
    "del tbt\n",
    "del f1, f2\n",
    "if device != 'cpu':\n",
    "    torch.cuda.synchronize()\n",
    "    torch.cuda.empty_cache()"
   ]
  },
  {
   "cell_type": "markdown",
   "id": "2cac819c",
   "metadata": {
    "heading_collapsed": true
   },
   "source": [
    "# Example-05: FFRFT/ZOOM amplitude spectrum"
   ]
  },
  {
   "cell_type": "code",
   "execution_count": 6,
   "id": "3727cc33",
   "metadata": {
    "colab": {
     "base_uri": "https://localhost:8080/",
     "height": 658
    },
    "executionInfo": {
     "elapsed": 936,
     "status": "ok",
     "timestamp": 1634042514276,
     "user": {
      "displayName": "Ivan Morozov",
      "photoUrl": "https://lh3.googleusercontent.com/a/default-user=s64",
      "userId": "01505246621606466427"
     },
     "user_tz": -420
    },
    "hidden": true,
    "id": "cUf2LWcC_rBM",
    "outputId": "a2d20452-714c-459e-d785-95cf80eb6df7"
   },
   "outputs": [
    {
     "name": "stdout",
     "output_type": "stream",
     "text": [
      "Window(1024, 'cosine_window', 1.0)\n",
      "Data(64, Window(1024, 'cosine_window', 1.0))\n",
      "Frequency(Data(64, Window(1024, 'cosine_window', 1.0)))\n",
      "tensor([1.191406250000e-01, 1.210918426514e-01], dtype=torch.float64)\n",
      "tensor([1.191406250000e-01, 1.210937500000e-01], dtype=torch.float64)\n",
      "tensor([1.191406250000e-01, 1.210937500000e-01], dtype=torch.float64)\n"
     ]
    },
    {
     "data": {
      "image/png": "[encoded data removed]",
      "text/plain": [
       "<Figure size 720x360 with 1 Axes>"
      ]
     },
     "metadata": {
      "needs_background": "light"
     },
     "output_type": "display_data"
    },
    {
     "name": "stdout",
     "output_type": "stream",
     "text": [
      "tensor([1.150000000000e-01, 1.249902343750e-01], dtype=torch.float64)\n",
      "tensor([1.150000000000e-01, 1.250000000000e-01], dtype=torch.float64)\n"
     ]
    },
    {
     "data": {
      "image/png": "[encoded data removed]",
      "text/plain": [
       "<Figure size 720x360 with 1 Axes>"
      ]
     },
     "metadata": {
      "needs_background": "light"
     },
     "output_type": "display_data"
    }
   ],
   "source": [
    "# FFRFT can be used for local DTFT spectrum interpolation\n",
    "\n",
    "# Set parameters (64 signals with length 1024)\n",
    "dtype, device = torch.float64, 'cpu'\n",
    "size, length = 64, 1024\n",
    "\n",
    "# Set window\n",
    "win = Window.from_cosine(length, order=1.0, dtype=dtype, device=device)\n",
    "print(win)\n",
    "\n",
    "# Set TbT data (64 signals with two components and different amplitudes)\n",
    "t = torch.linspace(1.0, length, length, dtype=dtype)\n",
    "data = torch.stack([i*torch.sin(2.0*numpy.pi*1*0.12*t) + 0.01*i*torch.sin(2.0*numpy.pi*2*0.12*t) for i in range(1, size + 1)])\n",
    "tbt = Data.from_tensor(win, data)\n",
    "print(tbt)\n",
    "\n",
    "# Initialize Frequency instance\n",
    "f = Frequency(tbt)\n",
    "print(f)\n",
    "\n",
    "# Apply window to data\n",
    "f.data.window_apply()\n",
    "\n",
    "# Compute FFT amplitude spectrum\n",
    "f.fft_get_spectrum()\n",
    "\n",
    "# By default for FFRFT spectrum, FFT frequency estimation is used\n",
    "# And frequency range is equal to 2 FFT bins around max FFT bin\n",
    "# This can be changed by setting fraction parameter on initialization\n",
    "# Or by setting ffrft_span attibute directry after initialization\n",
    "# Use default value.\n",
    "f.ffrft_span = 2.0/f.length\n",
    "\n",
    "# If ffrft_flag is False, ffrft_initialize_spectrum is invoked\n",
    "# ffrft_flag is set to True, futher calls do not reinitialize FFRFT\n",
    "# No need to initialize for fixed signal length\n",
    "\n",
    "# Compute FFT frequency estimation (used to define FFRFT frequency center)\n",
    "f.fft_get_frequency()\n",
    "\n",
    "# Compute FFRFT amplitude spectrum\n",
    "f.ffrft_get_spectrum()\n",
    "\n",
    "# Note, last point is not included\n",
    "print(torch.stack([f.ffrft_get_grid(0)[0], f.ffrft_get_grid(0)[-1]]))\n",
    "print(torch.stack([f.ffrft_get_grid(0)[0], f.ffrft_get_grid(0)[-1] + f.ffrft_span*f.fft_step]))\n",
    "print(torch.stack([f.fft_frequency[0] - f.fft_step, f.fft_frequency[0] + f.fft_step]))\n",
    "\n",
    "# Plot (log10) FFT spectrum for given signal id\n",
    "idx = 0\n",
    "plt.figure(figsize=(10,5))\n",
    "plt.scatter(f.ffrft_get_grid(idx).cpu(), torch.log10(f.ffrft_spectrum[idx].cpu()), s=0.5, c='r')\n",
    "plt.scatter(f.fft_grid.cpu(), torch.log10(f.fft_spectrum[idx].cpu()), s=5.0, c='b')\n",
    "plt.xlim(0.12 - 0.01, 0.12 + 0.01)\n",
    "plt.show()\n",
    "\n",
    "# FFRFT can be used with custom range\n",
    "# In this case all signals share this range, while for the default case, each signal range is defined by its FFT frequency\n",
    "# In all cases range length is the same for all signals\n",
    "\n",
    "# Compute FFRFT amplitude spectrum with custom range\n",
    "# Range (f_min, f_max) = (center - 0.5*span, center + 0.5*span - span/length)\n",
    "f.ffrft_get_spectrum(center=0.12, span=0.01)\n",
    "\n",
    "# Note, last point is not included\n",
    "print(torch.stack([f.ffrft_get_grid(0)[0], f.ffrft_get_grid(0)[-1]]))\n",
    "print(torch.stack([f.ffrft_get_grid(0)[0], f.ffrft_get_grid(0)[-1] + f.ffrft_span*f.fft_step]))\n",
    "\n",
    "# Plot (log10) FFT spectrum for given signal id\n",
    "idx = 0\n",
    "plt.figure(figsize=(10,5))\n",
    "plt.scatter(f.ffrft_get_grid(idx).cpu(), torch.log10(f.ffrft_spectrum[idx].cpu()), s=0.5, c='r')\n",
    "plt.scatter(f.fft_grid.cpu(), torch.log10(f.fft_spectrum[idx].cpu()), s=5.0, c='b')\n",
    "plt.xlim(0.12 - 0.01, 0.12 + 0.01)\n",
    "plt.show()\n",
    "\n",
    "# Clean\n",
    "del win\n",
    "del tbt\n",
    "del f\n",
    "if device != 'cpu':\n",
    "    torch.cuda.synchronize()\n",
    "    torch.cuda.empty_cache()"
   ]
  },
  {
   "cell_type": "markdown",
   "id": "ee7deaa5",
   "metadata": {
    "heading_collapsed": true
   },
   "source": [
    "# Example-06: FFRFT/ZOOM frequency estimation"
   ]
  },
  {
   "cell_type": "code",
   "execution_count": 7,
   "id": "c2b25086",
   "metadata": {
    "colab": {
     "base_uri": "https://localhost:8080/"
    },
    "executionInfo": {
     "elapsed": 394,
     "status": "ok",
     "timestamp": 1634042525118,
     "user": {
      "displayName": "Ivan Morozov",
      "photoUrl": "https://lh3.googleusercontent.com/a/default-user=s64",
      "userId": "01505246621606466427"
     },
     "user_tz": -420
    },
    "hidden": true,
    "id": "pQl53VrA_q2L",
    "outputId": "277ee5ba-e4a0-4942-bda0-dbc21ab8b1f3"
   },
   "outputs": [
    {
     "name": "stdout",
     "output_type": "stream",
     "text": [
      "Window(1024, 'cosine_window', 1.0)\n",
      "Data(64, Window(1024, 'cosine_window', 1.0))\n",
      "Frequency(Data(64, Window(1024, 'cosine_window', 1.0)))\n",
      "Frequency(Data(64, Window(1024, 'cosine_window', 1.0)))\n",
      "tensor(1.171875000000e-04, dtype=torch.float64)\n",
      "tensor(1.171875000000e-04, dtype=torch.float64)\n",
      "tensor(8.392333984419e-07, dtype=torch.float64)\n",
      "tensor(-1.144409179643e-07, dtype=torch.float64)\n"
     ]
    }
   ],
   "source": [
    "# FFRFT frequency estimation is based on local DTFT spectrum interpolation (near expected global maximum)\n",
    "# By default refined spectum is computed inside two FFT bins around maximum bin\n",
    "# In this case expected frequency error is proportional to 1/n^2\n",
    "\n",
    "# Set parameters (64 signals with length 1024)\n",
    "dtype, device = torch.float64, 'cpu'\n",
    "size, length = 64, 1024\n",
    "\n",
    "# Set window\n",
    "win = Window.from_cosine(length, order=1.0, dtype=dtype, device=device)\n",
    "print(win)\n",
    "\n",
    "# Set TbT data (64 signals with two components and different amplitudes)\n",
    "t = torch.linspace(1.0, length, length, dtype=dtype)\n",
    "data = torch.stack([i*torch.sin(2.0*numpy.pi*1*0.12*t) + 0.01*i*torch.sin(2.0*numpy.pi*2*0.12*t) for i in range(1, size + 1)])\n",
    "tbt = Data.from_tensor(win, data)\n",
    "print(tbt)\n",
    "\n",
    "# Initialize Frequency instance\n",
    "f1 = Frequency(tbt)\n",
    "f2 = Frequency(tbt, fraction=1.0)\n",
    "print(f1)\n",
    "print(f2)\n",
    "\n",
    "# Fraction between 1.0-2.0 should be save to use\n",
    "\n",
    "# Estimate frequency, see also task_ffrft\n",
    "f1('ffrft')\n",
    "f2('ffrft')\n",
    "\n",
    "# Compare results FFT & FFRFT estimations\n",
    "print(torch.min(f1.fft_frequency - 0.12))\n",
    "print(torch.min(f2.fft_frequency - 0.12))\n",
    "print(torch.min(f1.ffrft_frequency - 0.12))\n",
    "print(torch.min(f2.ffrft_frequency - 0.12))\n",
    "\n",
    "# Clean\n",
    "del win\n",
    "del tbt\n",
    "del f1, f2\n",
    "if device != 'cpu':\n",
    "    torch.cuda.synchronize()\n",
    "    torch.cuda.empty_cache()"
   ]
  },
  {
   "cell_type": "markdown",
   "id": "a8ff876c",
   "metadata": {
    "heading_collapsed": true
   },
   "source": [
    "# Example-07: Parabola frequency estimation"
   ]
  },
  {
   "cell_type": "code",
   "execution_count": 8,
   "id": "bea4e844",
   "metadata": {
    "colab": {
     "base_uri": "https://localhost:8080/"
    },
    "executionInfo": {
     "elapsed": 263,
     "status": "ok",
     "timestamp": 1634042546481,
     "user": {
      "displayName": "Ivan Morozov",
      "photoUrl": "https://lh3.googleusercontent.com/a/default-user=s64",
      "userId": "01505246621606466427"
     },
     "user_tz": -420
    },
    "hidden": true,
    "id": "YcQ3PuvXLSBY",
    "outputId": "054e5431-e2fd-4ada-aac3-29cacada8561"
   },
   "outputs": [
    {
     "name": "stdout",
     "output_type": "stream",
     "text": [
      "Window(1024, 'cosine_window', 1.0)\n",
      "Data(64, Window(1024, 'cosine_window', 1.0))\n",
      "Frequency(Data(64, Window(1024, 'cosine_window', 1.0)))\n",
      "tensor(1.171875000000e-04, dtype=torch.float64)\n",
      "tensor(8.392333984419e-07, dtype=torch.float64)\n",
      "tensor(3.001190962415e-11, dtype=torch.float64)\n"
     ]
    }
   ],
   "source": [
    "# Parabola frequency estimation is based on parabolic interpolation of FFRFT amplitude spectrum\n",
    "# Three points are used to locate parabola maximum (FFRFT max bin and two poins around it)\n",
    "# Higher order polynomial can be used or a gradient free bracketing maximum search\n",
    "# Instead of interpolation, a polynomial (e.g. a parabola) can be fitted near the peak maximum\n",
    "# Without noise, parabolic interpolation significantly improves estimation accuracy\n",
    "# Window order impoves accuracy in this case too (flat top)\n",
    "# With noise accuracy gain from parabolic interpolation decreases\n",
    "# Application of window increases noise\n",
    "\n",
    "# Set parameters (64 signals with length 1024)\n",
    "dtype, device = torch.float64, 'cpu'\n",
    "size, length = 64, 1024\n",
    "\n",
    "# Set window\n",
    "win = Window.from_cosine(length, order=1.0, dtype=dtype, device=device)\n",
    "print(win)\n",
    "\n",
    "# Set TbT data (64 signals with two components and different amplitudes)\n",
    "t = torch.linspace(1.0, length, length, dtype=dtype)\n",
    "data = torch.stack([i*torch.sin(2.0*numpy.pi*1*0.12*t) + 0.01*i*torch.sin(2.0*numpy.pi*2*0.12*t) for i in range(1, size + 1)])\n",
    "tbt = Data.from_tensor(win, data)\n",
    "print(tbt)\n",
    "\n",
    "# Initialize Frequency instance\n",
    "f = Frequency(tbt)\n",
    "print(f)\n",
    "\n",
    "# Estimate frequency, see also task_parabola\n",
    "f('parabola')\n",
    "\n",
    "# Compare results\n",
    "print(torch.mean(f.fft_frequency)-0.12)\n",
    "print(torch.mean(f.ffrft_frequency)-0.12)\n",
    "print(torch.mean(f.parabola_frequency)-0.12)\n",
    "\n",
    "# Clean\n",
    "del win\n",
    "del tbt\n",
    "del f\n",
    "if device != 'cpu':\n",
    "    torch.cuda.synchronize()\n",
    "    torch.cuda.empty_cache()"
   ]
  },
  {
   "cell_type": "markdown",
   "id": "9524ff78",
   "metadata": {
    "heading_collapsed": true
   },
   "source": [
    "# Example-08: Frequency vs signal start shift"
   ]
  },
  {
   "cell_type": "code",
   "execution_count": 9,
   "id": "14fbd416",
   "metadata": {
    "colab": {
     "base_uri": "https://localhost:8080/",
     "height": 453
    },
    "executionInfo": {
     "elapsed": 374,
     "status": "ok",
     "timestamp": 1634042562924,
     "user": {
      "displayName": "Ivan Morozov",
      "photoUrl": "https://lh3.googleusercontent.com/a/default-user=s64",
      "userId": "01505246621606466427"
     },
     "user_tz": -420
    },
    "hidden": true,
    "id": "ESBZgDg1LR_w",
    "outputId": "111e09cc-9b19-46ee-8f18-8a1d261a242c"
   },
   "outputs": [
    {
     "name": "stdout",
     "output_type": "stream",
     "text": [
      "Window(2048, 'cosine_window', 1.0)\n",
      "Data(1, Window(2048, 'cosine_window', 1.0))\n",
      "Data(1025, Window(1024, 'cosine_window', 1.0))\n",
      "tensor(1.171875000000e-04, dtype=torch.float64)\n",
      "tensor(8.392333984419e-07, dtype=torch.float64)\n",
      "tensor(-4.614364446098e-14, dtype=torch.float64)\n"
     ]
    },
    {
     "data": {
      "image/png": "[encoded data removed]",
      "text/plain": [
       "<Figure size 720x360 with 1 Axes>"
      ]
     },
     "metadata": {
      "needs_background": "light"
     },
     "output_type": "display_data"
    }
   ],
   "source": [
    "# Set parameters (1 signal with length 2048)\n",
    "dtype, device = torch.float64, 'cpu'\n",
    "size, length = 1, 2048\n",
    "\n",
    "# Set window\n",
    "win = Window.from_cosine(length, order=1.0, dtype=dtype, device=device)\n",
    "print(win)\n",
    "\n",
    "# Set TbT data (1 signals with two components)\n",
    "t = torch.linspace(1.0, length, length, dtype=dtype)\n",
    "data = torch.stack([i*torch.sin(2.0*numpy.pi*1*0.12*t) + 0.01*i*torch.sin(2.0*numpy.pi*2*0.12*t) for i in range(1, size + 1)])\n",
    "tbt = Data.from_tensor(win, data)\n",
    "print(tbt)\n",
    "\n",
    "# Generate matrix frim signal\n",
    "tbt = tbt.make_matrix(0, 1024, 1, name='cosine_window', order=1.0)\n",
    "print(tbt)\n",
    "\n",
    "# Initialize Frequency instance\n",
    "f = Frequency(tbt)\n",
    "\n",
    "# Estimate frequency\n",
    "f('parabola')\n",
    "print(torch.mean(f.fft_frequency)-0.12)\n",
    "print(torch.mean(f.ffrft_frequency)-0.12)\n",
    "print(torch.mean(f.parabola_frequency)-0.12)\n",
    "\n",
    "# Plot result\n",
    "shift = torch.linspace(0, len(tbt)-1, len(tbt))\n",
    "plt.figure(figsize=(10,5))\n",
    "plt.scatter(shift, (f.parabola_frequency.cpu()-0.12)/0.12 * 100, s=0.5, c='b')\n",
    "plt.show()\n",
    "\n",
    "# Clean\n",
    "del win\n",
    "del tbt\n",
    "del f\n",
    "if device != 'cpu':\n",
    "    torch.cuda.synchronize()\n",
    "    torch.cuda.empty_cache()"
   ]
  },
  {
   "cell_type": "markdown",
   "id": "32735d0d",
   "metadata": {
    "heading_collapsed": true
   },
   "source": [
    "# Example-09: Frequency vs signal start shift (noise)"
   ]
  },
  {
   "cell_type": "code",
   "execution_count": 10,
   "id": "3ece5c77",
   "metadata": {
    "colab": {
     "base_uri": "https://localhost:8080/",
     "height": 442
    },
    "executionInfo": {
     "elapsed": 921,
     "status": "ok",
     "timestamp": 1634042601654,
     "user": {
      "displayName": "Ivan Morozov",
      "photoUrl": "https://lh3.googleusercontent.com/a/default-user=s64",
      "userId": "01505246621606466427"
     },
     "user_tz": -420
    },
    "hidden": true,
    "id": "vWmcmKtitBdh",
    "outputId": "c7f47eaa-8218-4bab-b8cf-7a6565d1c5c5"
   },
   "outputs": [
    {
     "name": "stdout",
     "output_type": "stream",
     "text": [
      "Window(8192, 'cosine_window', 1.0)\n",
      "Data(1, Window(8192, 'cosine_window', 1.0))\n",
      "Data(7169, Window(1024, 'cosine_window', 1.0))\n",
      "tensor(1.171875000000e-04, dtype=torch.float64)\n",
      "tensor(9.507743164994e-08, dtype=torch.float64)\n",
      "tensor(-1.294518271744e-08, dtype=torch.float64)\n"
     ]
    },
    {
     "data": {
      "image/png": "[encoded data removed]",
      "text/plain": [
       "<Figure size 720x360 with 1 Axes>"
      ]
     },
     "metadata": {
      "needs_background": "light"
     },
     "output_type": "display_data"
    }
   ],
   "source": [
    "# Set parameters (1 signal with length 8192)\n",
    "dtype, device = torch.float64, 'cpu'\n",
    "size, length = 1, 8192\n",
    "\n",
    "# Set window\n",
    "win = Window.from_cosine(length, order=1.0, dtype=dtype, device=device)\n",
    "print(win)\n",
    "\n",
    "# Set TbT data (1 signals with two components)\n",
    "t = torch.linspace(1.0, length, length, dtype=dtype)\n",
    "data = torch.stack([i*torch.sin(2.0*numpy.pi*1*0.12*t) + 0.01*i*torch.sin(2.0*numpy.pi*2*0.12*t) for i in range(1, size + 1)])\n",
    "tbt = Data.from_tensor(win, data)\n",
    "print(tbt)\n",
    "\n",
    "# Generate matrix frim signal\n",
    "tbt = tbt.make_matrix(0, 1024, 1, name='cosine_window', order=1.0)\n",
    "print(tbt)\n",
    "\n",
    "# Add noise to each signal\n",
    "for i in range(tbt.size):\n",
    "    tbt.data[i] += 0.01*torch.randn(tbt.length, dtype=dtype, device=device)\n",
    "tbt.reset()\n",
    "\n",
    "# Initialize Frequency instance\n",
    "f = Frequency(tbt)\n",
    "\n",
    "# Estimate frequency\n",
    "f('parabola', window=True)\n",
    "print(torch.mean(f.fft_frequency)-0.12)\n",
    "print(torch.mean(f.ffrft_frequency)-0.12)\n",
    "print(torch.mean(f.parabola_frequency)-0.12)\n",
    "\n",
    "# Plot result\n",
    "plt.figure(figsize=(10,5))\n",
    "plt.hist((f.parabola_frequency.cpu().numpy()-0.12)/0.12 * 100, bins=50, range=(-0.001, 0.001))\n",
    "plt.show()\n",
    "\n",
    "# Clean\n",
    "del win\n",
    "del tbt\n",
    "del f\n",
    "if device != 'cpu':\n",
    "    torch.cuda.synchronize()\n",
    "    torch.cuda.empty_cache()"
   ]
  },
  {
   "cell_type": "markdown",
   "id": "c4e46a90",
   "metadata": {
    "heading_collapsed": true
   },
   "source": [
    "# Example-10: Frequency vs signal start shift (correlated noise)"
   ]
  },
  {
   "cell_type": "code",
   "execution_count": 11,
   "id": "9ce9df34",
   "metadata": {
    "colab": {
     "base_uri": "https://localhost:8080/",
     "height": 442
    },
    "executionInfo": {
     "elapsed": 1008,
     "status": "ok",
     "timestamp": 1634042645880,
     "user": {
      "displayName": "Ivan Morozov",
      "photoUrl": "https://lh3.googleusercontent.com/a/default-user=s64",
      "userId": "01505246621606466427"
     },
     "user_tz": -420
    },
    "hidden": true,
    "id": "WPvZp_pSLR7X",
    "outputId": "0998e484-9b13-4c4e-86fc-eb17d8095228"
   },
   "outputs": [
    {
     "name": "stdout",
     "output_type": "stream",
     "text": [
      "Window(8192, 'cosine_window', 1.0)\n",
      "Data(1, Window(8192, 'cosine_window', 1.0))\n",
      "Data(7169, Window(1024, 'cosine_window', 1.0))\n",
      "tensor(1.171875000000e-04, dtype=torch.float64)\n",
      "tensor(2.336921111901e-07, dtype=torch.float64)\n",
      "tensor(9.017344135276e-09, dtype=torch.float64)\n"
     ]
    },
    {
     "data": {
      "image/png": "[encoded data removed]",
      "text/plain": [
       "<Figure size 720x360 with 1 Axes>"
      ]
     },
     "metadata": {
      "needs_background": "light"
     },
     "output_type": "display_data"
    }
   ],
   "source": [
    "# Set parameters (1 signal with length 8192)\n",
    "dtype, device = torch.float64, 'cpu'\n",
    "size, length = 1, 8192\n",
    "\n",
    "# Set window\n",
    "win = Window.from_cosine(length, order=1.0, dtype=dtype, device=device)\n",
    "print(win)\n",
    "\n",
    "# Set TbT data (1 signals with two components and random noise)\n",
    "t = torch.linspace(1.0, length, length, dtype=dtype)\n",
    "data = torch.stack([i*torch.sin(2.0*numpy.pi*1*0.12*t) + 0.01*i*torch.sin(2.0*numpy.pi*2*0.12*t) for i in range(1, size + 1)])\n",
    "data += 0.01*torch.randn(length, dtype=dtype, device=device)\n",
    "tbt = Data.from_tensor(win, data)\n",
    "print(tbt)\n",
    "\n",
    "# Generate matrix frim signal\n",
    "tbt = tbt.make_matrix(0, 1024, 1, name='cosine_window', order=1.0)\n",
    "print(tbt)\n",
    "\n",
    "# Initialize Frequency instance\n",
    "f = Frequency(tbt)\n",
    "\n",
    "# Estimate frequency\n",
    "f('parabola', window=True)\n",
    "print(torch.mean(f.fft_frequency)-0.12)\n",
    "print(torch.mean(f.ffrft_frequency)-0.12)\n",
    "print(torch.mean(f.parabola_frequency)-0.12)\n",
    "\n",
    "# Plot result\n",
    "plt.figure(figsize=(10,5))\n",
    "plt.hist((f.parabola_frequency.cpu().numpy()-0.12)/0.12 * 100, bins=50, range=(-0.001, 0.001))\n",
    "plt.show()\n",
    "\n",
    "# Clean\n",
    "del win\n",
    "del tbt\n",
    "del f\n",
    "if device != 'cpu':\n",
    "    torch.cuda.synchronize()\n",
    "    torch.cuda.empty_cache()"
   ]
  },
  {
   "cell_type": "markdown",
   "id": "700e0a0d",
   "metadata": {
    "heading_collapsed": true
   },
   "source": [
    "# Example-11: Iterative decomposition"
   ]
  },
  {
   "cell_type": "code",
   "execution_count": 12,
   "id": "08a246f0",
   "metadata": {
    "colab": {
     "base_uri": "https://localhost:8080/"
    },
    "executionInfo": {
     "elapsed": 255,
     "status": "ok",
     "timestamp": 1634042796465,
     "user": {
      "displayName": "Ivan Morozov",
      "photoUrl": "https://lh3.googleusercontent.com/a/default-user=s64",
      "userId": "01505246621606466427"
     },
     "user_tz": -420
    },
    "hidden": true,
    "id": "3JvEQLfTLR4y",
    "outputId": "8aec3827-e0c2-411e-c43a-ec1adfeab36b"
   },
   "outputs": [
    {
     "name": "stdout",
     "output_type": "stream",
     "text": [
      "[2.]\n",
      "[0.12 1.   0.1 ]\n",
      "[0.24  0.005 0.01 ]\n",
      "[3.6e-01 1.0e-04 1.0e-05]\n",
      "5.759385082140556e-09\n"
     ]
    }
   ],
   "source": [
    "# Set parameters\n",
    "dtype, device = torch.float64, 'cpu'\n",
    "size, length = 1, 1024\n",
    "\n",
    "# Set window\n",
    "win = Window.from_cosine(length, order=4.0, dtype=dtype, device=device)\n",
    "\n",
    "# Set data\n",
    "t  = torch.linspace(1.0, length, length, dtype=dtype, device=device)\n",
    "data  = 1.0000*torch.cos(2.0*numpy.pi*1*0.12*t) + 0.10000*torch.sin(2.0*numpy.pi*1*0.12*t)\n",
    "data += 0.0050*torch.cos(2.0*numpy.pi*2*0.12*t) + 0.01000*torch.sin(2.0*numpy.pi*2*0.12*t)\n",
    "data += 0.0001*torch.cos(2.0*numpy.pi*3*0.12*t) + 0.00001*torch.sin(2.0*numpy.pi*3*0.12*t)\n",
    "data += 2.0\n",
    "data  = torch.stack([data])\n",
    "\n",
    "tbt = Data.from_tensor(win, data)\n",
    "\n",
    "# Compute (window weighted) mean value\n",
    "print(tbt.window_mean().flatten().cpu().numpy())\n",
    "\n",
    "# Remove (window weighted) mean value\n",
    "# Note, mean is removed from work\n",
    "tbt.window_remove_mean()\n",
    "tbt.data.copy_(tbt.work)\n",
    "\n",
    "# Initialize Frequency instance\n",
    "f = Frequency(tbt)\n",
    "\n",
    "# Perform decomposition (component-by-component subtraction)\n",
    "for _ in range(3):\n",
    "    f('parabola')\n",
    "    frequency = f.frequency[0]\n",
    "    c_amp = 2.0*torch.dot(tbt[0]*win.data, torch.cos(2.0*numpy.pi*frequency*t))/win.total\n",
    "    s_amp = 2.0*torch.dot(tbt[0]*win.data, torch.sin(2.0*numpy.pi*frequency*t))/win.total\n",
    "    print(torch.stack([frequency, c_amp, s_amp]).cpu().numpy())\n",
    "    rem = c_amp*torch.cos(2.0*numpy.pi*frequency*t) + s_amp*torch.sin(2.0*numpy.pi*frequency*t)\n",
    "    tbt.data.sub_(rem)\n",
    "    tbt.reset()\n",
    "\n",
    "# Residual norm\n",
    "print(torch.sum(torch.sqrt(tbt.data**2)).item())\n",
    "\n",
    "# Clean\n",
    "del win\n",
    "del tbt\n",
    "del f\n",
    "if device != 'cpu':\n",
    "    torch.cuda.synchronize()\n",
    "    torch.cuda.empty_cache()"
   ]
  },
  {
   "cell_type": "markdown",
   "id": "5c51222b",
   "metadata": {
    "heading_collapsed": true
   },
   "source": [
    "# Example-12: Mixed frequency (direct)"
   ]
  },
  {
   "cell_type": "code",
   "execution_count": 13,
   "id": "46789233",
   "metadata": {
    "hidden": true,
    "scrolled": true
   },
   "outputs": [
    {
     "name": "stdout",
     "output_type": "stream",
     "text": [
      "Frequency(Data(54, Window(4096, 'cosine_window', 1.0)))\n",
      "0.461485904416196\n",
      "1.1758247157674714e-13\n",
      "Frequency(Data(1, Window(3456, 'cosine_window', 1.0)))\n",
      "0.4614880139297153\n",
      "-2.109513519255035e-06\n"
     ]
    }
   ],
   "source": [
    "# Set window\n",
    "device = 'cpu'\n",
    "win = Window(4096, name='cosine_window', order=1.0, dtype=torch.float64, device=device)\n",
    "\n",
    "# Load test TbT data from file (linear lattice without noise)\n",
    "tbt = Data.from_file(54, win, '../virtual_tbt.npy')\n",
    "\n",
    "# Compute frequencies for each BPM\n",
    "f = Frequency(tbt)\n",
    "print(f)\n",
    "f('parabola')\n",
    "\n",
    "# Compute mean and standart deviation\n",
    "f1 = f.frequency.mean()\n",
    "s1 = f.frequency.std()\n",
    "print(f1.item())\n",
    "print(s1.item())\n",
    "\n",
    "# Generate mixed signal using first 64 turns and all signals\n",
    "# Mixed signal is generated from work container\n",
    "tbt = tbt.make_signal(64, name='cosine_window', order=1.0)\n",
    "\n",
    "# Compute frequency from mixed signal\n",
    "f = Frequency(tbt)\n",
    "print(f)\n",
    "f('parabola', f_range=(8.5/54, 8.6/54))\n",
    "f2 = 1.0 - (54*f.frequency.mean() - 8.0)\n",
    "print(f2.item())\n",
    "\n",
    "# Compare\n",
    "print(f1.item() - f2.item())\n",
    "\n",
    "# Clean\n",
    "del win\n",
    "del tbt\n",
    "del f\n",
    "if device != 'cpu':\n",
    "    torch.cuda.synchronize()\n",
    "    torch.cuda.empty_cache()"
   ]
  },
  {
   "cell_type": "markdown",
   "id": "d32219c1",
   "metadata": {
    "heading_collapsed": true
   },
   "source": [
    "# Example-13: Mean spectrum"
   ]
  },
  {
   "cell_type": "code",
   "execution_count": 14,
   "id": "20a38d93",
   "metadata": {
    "hidden": true
   },
   "outputs": [
    {
     "name": "stdout",
     "output_type": "stream",
     "text": [
      "Window(4096, 'cosine_window', 1.0)\n",
      "Data(54, Window(4096, 'cosine_window', 1.0))\n",
      "Frequency(Data(54, Window(4096, 'cosine_window', 1.0)))\n"
     ]
    },
    {
     "data": {
      "image/png": "[encoded data removed]",
      "text/plain": [
       "<Figure size 720x360 with 1 Axes>"
      ]
     },
     "metadata": {
      "needs_background": "light"
     },
     "output_type": "display_data"
    }
   ],
   "source": [
    "# Set window\n",
    "device = 'cpu'\n",
    "win = Window(4096, name='cosine_window', order=1.0, dtype=torch.float64, device=device)\n",
    "print(win)\n",
    "\n",
    "# Load TbT data from file and add noise\n",
    "tbt = Data.from_file(54, win, '../virtual_tbt.npy')\n",
    "std = 1.0E-4 * torch.ones(54, dtype=torch.float64)\n",
    "Data.add_noise(tbt.data, std)\n",
    "tbt.reset()\n",
    "print(tbt)\n",
    "\n",
    "# Initialize Frequency instance\n",
    "f = Frequency(tbt)\n",
    "print(f)\n",
    "\n",
    "# Compute frequencies\n",
    "# These frequencies are used for normalization of each signal spectrum\n",
    "f('parabola', window=True)\n",
    "\n",
    "# Compute mean spectrum\n",
    "# Note, here window flag is used in normalization, spectra are not recomputed\n",
    "grid, spectrum = f.task_mean_spectrum(window=True, log=True)\n",
    "\n",
    "# Plot mean spectrum\n",
    "plt.figure(figsize=(10,5))\n",
    "plt.xlim(0.3, 0.5)\n",
    "plt.scatter(grid.cpu(), spectrum.cpu(), s=0.5, c='r')\n",
    "plt.show()\n",
    "\n",
    "# Clean\n",
    "del win\n",
    "del tbt\n",
    "del f\n",
    "if device != 'cpu':\n",
    "    torch.cuda.synchronize()\n",
    "    torch.cuda.empty_cache()"
   ]
  },
  {
   "cell_type": "markdown",
   "id": "cef87545",
   "metadata": {
    "heading_collapsed": true
   },
   "source": [
    "# Example-14: Mixed spectrum"
   ]
  },
  {
   "cell_type": "code",
   "execution_count": 15,
   "id": "c272651b",
   "metadata": {
    "hidden": true
   },
   "outputs": [
    {
     "name": "stdout",
     "output_type": "stream",
     "text": [
      "Window(4096, 'cosine_window', 1.0)\n",
      "Data(54, Window(4096, 'cosine_window', 1.0))\n",
      "Frequency(Data(54, Window(4096, 'cosine_window', 1.0)))\n"
     ]
    },
    {
     "data": {
      "image/png": "[encoded data removed]",
      "text/plain": [
       "<Figure size 1080x144 with 1 Axes>"
      ]
     },
     "metadata": {
      "needs_background": "light"
     },
     "output_type": "display_data"
    },
    {
     "data": {
      "image/png": "[encoded data removed]",
      "text/plain": [
       "<Figure size 1080x144 with 1 Axes>"
      ]
     },
     "metadata": {
      "needs_background": "light"
     },
     "output_type": "display_data"
    },
    {
     "data": {
      "image/png": "[encoded data removed]",
      "text/plain": [
       "<Figure size 1080x144 with 1 Axes>"
      ]
     },
     "metadata": {
      "needs_background": "light"
     },
     "output_type": "display_data"
    }
   ],
   "source": [
    "# Load model data\n",
    "df = pandas.read_json('../bpm.json')\n",
    "\n",
    "# Set scaled positions (used as locations with NUFFT)\n",
    "position = numpy.array([df[name]['S'] for name in df])/LENGTH\n",
    "\n",
    "# Set scaled accumulated phase advance (used as locations with NUFFT)\n",
    "phase = numpy.array([df[name]['FX'] for name in df])\n",
    "phase = numpy.cumsum(phase)/(2.0*numpy.pi*QX)\n",
    "start, *_ = phase\n",
    "phase = phase - start\n",
    "\n",
    "# Set window\n",
    "device = 'cpu'\n",
    "win = Window(4096, name='cosine_window', order=1.0, dtype=torch.float64, device=device)\n",
    "print(win)\n",
    "\n",
    "# Load TbT data from file and add noise\n",
    "tbt = Data.from_file(54, win, '../virtual_tbt.npy')\n",
    "std = 1.0E-4 * torch.ones(54, dtype=torch.float64)\n",
    "Data.add_noise(tbt.data, std)\n",
    "tbt.reset()\n",
    "print(tbt)\n",
    "\n",
    "# Initialize Frequency instance\n",
    "f = Frequency(tbt)\n",
    "print(f)\n",
    "\n",
    "# Compute & plot mixed spectrum\n",
    "f_range=(5.0, 10.0)\n",
    "s1 = f.task_mixed_spectrum(length=1024, window=True, normalize=True, f_range=f_range)\n",
    "s2 = f.task_mixed_spectrum(length=1024, window=True, normalize=True, f_range=f_range, position=position)\n",
    "s3 = f.task_mixed_spectrum(length=1024, window=True, normalize=True, f_range=f_range, position=phase)\n",
    "plt.figure(figsize=(15,2))\n",
    "plt.scatter(*s1, c='red', s=1)\n",
    "plt.show()\n",
    "plt.figure(figsize=(15,2))\n",
    "plt.scatter(*s2, c='blue', s=1)\n",
    "plt.show()\n",
    "plt.figure(figsize=(15,2))\n",
    "plt.scatter(*s3, c='black', s=1)\n",
    "plt.show()\n",
    "\n",
    "# Clean\n",
    "del win\n",
    "del tbt\n",
    "del f\n",
    "if device != 'cpu':\n",
    "    torch.cuda.synchronize()\n",
    "    torch.cuda.empty_cache()\n",
    "    \n",
    "# s1 -- (red)   pre-normalized mixed signal treated as if it is uniformly sampled\n",
    "# s2 -- (blue)  pre-normalized mixed signal and type-iii nufft with BPM position as location\n",
    "# s3 -- (black) pre-normalized mixed signal and type-iii nufft with BPM phase as location\n",
    "\n",
    "# As it can be seen, here s1 gives wrong integer part (peak with maximum amplitude)\n",
    "# But this is not always the case\n",
    "\n",
    "# Normalization is performed prio to mixing to make mixed signal closer to a stationary one\n",
    "# Another option to reduce the effect of signal being non-stationary is to scale it with beta function\n",
    "# Or to remove BPMs where amplitudes are not close enough"
   ]
  },
  {
   "cell_type": "markdown",
   "id": "0b0f3a36",
   "metadata": {
    "heading_collapsed": true
   },
   "source": [
    "# Example-15: Mixed frequency (task, without noise)"
   ]
  },
  {
   "cell_type": "code",
   "execution_count": 16,
   "id": "d87dd50e",
   "metadata": {
    "hidden": true
   },
   "outputs": [
    {
     "name": "stdout",
     "output_type": "stream",
     "text": [
      "Window(4096, 'cosine_window', 1.0)\n",
      "Frequency(Data(54, Window(4096, 'cosine_window', 1.0)))\n",
      "8.538514095583803\n",
      "1.1758247157674714e-13\n",
      "[8.5        8.53240741 8.53245579]\n",
      "[8.47916667 8.53298611 8.53285945]\n",
      "[8.47916667 8.53761574 8.53746483]\n",
      "0.006058308980022187\n",
      "0.005654646820478615\n",
      "0.0010492665950828095\n",
      "[8.53125    8.53855613 8.53854627]\n",
      "[8.53877315 8.53851997 8.53853624]\n",
      "[8.53877315 8.53851997 8.53851866]\n",
      "-3.217357037071933e-05\n",
      "-2.214332584776768e-05\n",
      "-4.566388271232125e-06\n",
      "[8.53808594 8.5385141  8.5385141 ]\n",
      "[8.53851997 8.5385141  8.5385141 ]\n",
      "[8.53851997 8.5385141  8.53851409]\n",
      "1.1275258504639396e-11\n",
      "-6.459017487525642e-09\n",
      "6.212981074060764e-09\n"
     ]
    }
   ],
   "source": [
    "# Load model data\n",
    "df = pandas.read_json('../bpm.json')\n",
    "\n",
    "# Set scaled positions (used as locations with NUFFT)\n",
    "position = numpy.array([df[name]['S'] for name in df])/LENGTH\n",
    "\n",
    "# Set scaled accumulated phase advance (used as locations with NUFFT)\n",
    "phase = numpy.array([df[name]['FX'] for name in df])\n",
    "phase = numpy.cumsum(phase)/(2.0*numpy.pi*QX)\n",
    "start, *_ = phase\n",
    "phase = phase - start\n",
    "\n",
    "# Set window\n",
    "win = Window(4096, name='cosine_window', order=1.0, dtype=torch.float64, device='cpu')\n",
    "print(win)\n",
    "\n",
    "# Load TbT data from file and add noise\n",
    "tbt = Data.from_file(54, win, '../virtual_tbt.npy')\n",
    "\n",
    "# Initialize Frequency instance\n",
    "f = Frequency(tbt)\n",
    "print(f)\n",
    "\n",
    "# Compute reference frequency\n",
    "f('parabola')\n",
    "mean = torch.mean(f.frequency).item()\n",
    "std = torch.std(f.frequency).item()\n",
    "print(1-mean+8)\n",
    "print(std)\n",
    "\n",
    "# Compute mixed frequencies in given range\n",
    "# Note, for small number of turns, result might be more accurate without window\n",
    "# For large number of turns 'uniform' case is more accurate (might be a numerical problem)\n",
    "\n",
    "length = 8\n",
    "f1 = f.task_mixed_frequency(length=length, window=False, f_range=(8,9), normalize=True)\n",
    "f2 = f.task_mixed_frequency(length=length, window=False, f_range=(8,9), normalize=True, position=position)\n",
    "f3 = f.task_mixed_frequency(length=length, window=False, f_range=(8,9), normalize=True, position=phase)\n",
    "print(f1.cpu().numpy())\n",
    "print(f2.cpu().numpy())\n",
    "print(f3.cpu().numpy())\n",
    "print((1-(f1[-1]-8)-mean).item())\n",
    "print((1-(f2[-1]-8)-mean).item())\n",
    "print((1-(f3[-1]-8)-mean).item())\n",
    "\n",
    "length = 32\n",
    "f1 = f.task_mixed_frequency(length=length, window=True, f_range=(8,9), normalize=True)\n",
    "f2 = f.task_mixed_frequency(length=length, window=True, f_range=(8,9), normalize=True, position=position)\n",
    "f3 = f.task_mixed_frequency(length=length, window=True, f_range=(8,9), normalize=True, position=phase)\n",
    "print(f1.cpu().numpy())\n",
    "print(f2.cpu().numpy())\n",
    "print(f3.cpu().numpy())\n",
    "print((1-(f1[-1]-8)-mean).item())\n",
    "print((1-(f2[-1]-8)-mean).item())\n",
    "print((1-(f3[-1]-8)-mean).item())\n",
    "\n",
    "length = 1024\n",
    "f1 = f.task_mixed_frequency(length=length, window=True, f_range=(8,9), normalize=True)\n",
    "f2 = f.task_mixed_frequency(length=length, window=True, f_range=(8,9), normalize=True, position=position)\n",
    "f3 = f.task_mixed_frequency(length=length, window=True, f_range=(8,9), normalize=True, position=phase)\n",
    "print(f1.cpu().numpy())\n",
    "print(f2.cpu().numpy())\n",
    "print(f3.cpu().numpy())\n",
    "print((1-(f1[-1]-8)-mean).item())\n",
    "print((1-(f2[-1]-8)-mean).item())\n",
    "print((1-(f3[-1]-8)-mean).item())"
   ]
  },
  {
   "cell_type": "markdown",
   "id": "1bee56b6",
   "metadata": {
    "heading_collapsed": true
   },
   "source": [
    "# Example-16: Mixed frequency (task, with noise)"
   ]
  },
  {
   "cell_type": "code",
   "execution_count": 17,
   "id": "05110903",
   "metadata": {
    "hidden": true
   },
   "outputs": [
    {
     "name": "stdout",
     "output_type": "stream",
     "text": [
      "Window(4096, 'cosine_window', 1.0)\n",
      "Data(54, Window(4096, 'cosine_window', 1.0))\n",
      "Frequency(Data(54, Window(4096, 'cosine_window', 1.0)))\n",
      "8.538514087862284\n",
      "1.7842488333799215e-07\n",
      "[8.5        8.53298611 8.5328186 ]\n",
      "[8.47916667 8.53298611 8.53319325]\n",
      "[8.47916667 8.53761574 8.5375337 ]\n",
      "0.005695486587606935\n",
      "0.005320834385228734\n",
      "0.0009803893279639042\n",
      "[8.53125    8.53873698 8.53872317]\n",
      "[8.53877315 8.53870081 8.53870203]\n",
      "[8.53877315 8.53855613 8.5385714 ]\n",
      "-0.00020908567752181417\n",
      "-0.00018793935358368818\n",
      "-5.730931651898308e-05\n",
      "[8.53808594 8.53851435 8.53851435]\n",
      "[8.53851997 8.53851407 8.53851405]\n",
      "[8.53851997 8.53851378 8.53851379]\n",
      "-2.6018180671050217e-07\n",
      "3.4504990920058987e-08\n",
      "2.990450305717651e-07\n"
     ]
    }
   ],
   "source": [
    "# Load model data\n",
    "df = pandas.read_json('../bpm.json')\n",
    "\n",
    "# Set scaled positions (used as locations with NUFFT)\n",
    "position = numpy.array([df[name]['S'] for name in df])/LENGTH\n",
    "\n",
    "# Set scaled accumulated phase advance (used as locations with NUFFT)\n",
    "phase = numpy.array([df[name]['FX'] for name in df])\n",
    "phase = numpy.cumsum(phase)/(2.0*numpy.pi*QX)\n",
    "start, *_ = phase\n",
    "phase = phase - start\n",
    "\n",
    "# Set window\n",
    "win = Window(4096, name='cosine_window', order=1.0, dtype=torch.float64, device='cpu')\n",
    "print(win)\n",
    "\n",
    "# Load TbT data from file and add noise\n",
    "tbt = Data.from_file(54, win, '../virtual_tbt.npy')\n",
    "std = 1.0E-4 * torch.ones(54, dtype=torch.float64)\n",
    "Data.add_noise(tbt.data, std)\n",
    "tbt.reset()\n",
    "print(tbt)\n",
    "\n",
    "# Initialize Frequency instance\n",
    "f = Frequency(tbt)\n",
    "print(f)\n",
    "\n",
    "# Compute reference frequency\n",
    "f('parabola')\n",
    "mean = torch.mean(f.frequency).item()\n",
    "std = torch.std(f.frequency).item()\n",
    "print(1-mean+8)\n",
    "print(std)\n",
    "\n",
    "# Compute mixed frequencies in given range\n",
    "# Note, for small number of turns, result might be more accurate without window\n",
    "# For large number of turns 'uniform' case is more accurate (might be a numerical problem)\n",
    "\n",
    "length = 8\n",
    "f1 = f.task_mixed_frequency(length=length, window=False, f_range=(8,9), normalize=True)\n",
    "f2 = f.task_mixed_frequency(length=length, window=False, f_range=(8,9), normalize=True, position=position)\n",
    "f3 = f.task_mixed_frequency(length=length, window=False, f_range=(8,9), normalize=True, position=phase)\n",
    "print(f1.cpu().numpy())\n",
    "print(f2.cpu().numpy())\n",
    "print(f3.cpu().numpy())\n",
    "print((1-(f1[-1]-8)-mean).item())\n",
    "print((1-(f2[-1]-8)-mean).item())\n",
    "print((1-(f3[-1]-8)-mean).item())\n",
    "\n",
    "length = 32\n",
    "f1 = f.task_mixed_frequency(length=length, window=True, f_range=(8,9), normalize=True)\n",
    "f2 = f.task_mixed_frequency(length=length, window=True, f_range=(8,9), normalize=True, position=position)\n",
    "f3 = f.task_mixed_frequency(length=length, window=True, f_range=(8,9), normalize=True, position=phase)\n",
    "print(f1.cpu().numpy())\n",
    "print(f2.cpu().numpy())\n",
    "print(f3.cpu().numpy())\n",
    "print((1-(f1[-1]-8)-mean).item())\n",
    "print((1-(f2[-1]-8)-mean).item())\n",
    "print((1-(f3[-1]-8)-mean).item())\n",
    "\n",
    "length = 1024\n",
    "f1 = f.task_mixed_frequency(length=length, window=True, f_range=(8,9), normalize=True)\n",
    "f2 = f.task_mixed_frequency(length=length, window=True, f_range=(8,9), normalize=True, position=position)\n",
    "f3 = f.task_mixed_frequency(length=length, window=True, f_range=(8,9), normalize=True, position=phase)\n",
    "print(f1.cpu().numpy())\n",
    "print(f2.cpu().numpy())\n",
    "print(f3.cpu().numpy())\n",
    "print((1-(f1[-1]-8)-mean).item())\n",
    "print((1-(f2[-1]-8)-mean).item())\n",
    "print((1-(f3[-1]-8)-mean).item())"
   ]
  },
  {
   "cell_type": "markdown",
   "id": "a5bcbd33",
   "metadata": {
    "heading_collapsed": true
   },
   "source": [
    "# Example-17: Mean spectrum (masked component)\n"
   ]
  },
  {
   "cell_type": "code",
   "execution_count": 18,
   "id": "21456810",
   "metadata": {
    "hidden": true
   },
   "outputs": [
    {
     "name": "stdout",
     "output_type": "stream",
     "text": [
      "Window(1024, 'cosine_window', 1.0)\n",
      "Frequency(Data(128, Window(1024, 'cosine_window', 1.0)))\n"
     ]
    },
    {
     "data": {
      "image/png": "[encoded data removed]",
      "text/plain": [
       "<Figure size 720x360 with 1 Axes>"
      ]
     },
     "metadata": {
      "needs_background": "light"
     },
     "output_type": "display_data"
    }
   ],
   "source": [
    "# Set window\n",
    "device = 'cpu'\n",
    "win = Window(1024, name='cosine_window', order=1.0, dtype=torch.float64, device=device)\n",
    "print(win)\n",
    "\n",
    "# Set data\n",
    "t = torch.linspace(1.0, len(win), len(win), dtype=win.dtype)\n",
    "data = torch.cos(2.0*numpy.pi*0.12345*t) + 1.E-3*torch.cos(2.0*numpy.pi*2.0*0.12345*t)\n",
    "data = torch.stack([data + 1.E-2*torch.randn(len(win)) for _ in range(128)])\n",
    "\n",
    "# Set TbT\n",
    "tbt = Data.from_tensor(win, data)\n",
    "\n",
    "# Initialize Frequency instance\n",
    "f = Frequency(tbt)\n",
    "print(f)\n",
    "\n",
    "# Compute frequencies\n",
    "f('parabola')\n",
    "\n",
    "# Compute mean spectrum\n",
    "grid, spectrum = f.task_mean_spectrum(window=True, log=True)\n",
    "\n",
    "# Plot\n",
    "plt.figure(figsize=(10,5))\n",
    "plt.xlim(0.0, 0.5)\n",
    "plt.scatter(grid.cpu(), spectrum.cpu(), s=0.5, c='r')\n",
    "plt.show()\n",
    "\n",
    "# Clean\n",
    "del win\n",
    "del tbt\n",
    "del f\n",
    "if device != 'cpu':\n",
    "    torch.cuda.synchronize()\n",
    "    torch.cuda.empty_cache()"
   ]
  },
  {
   "cell_type": "markdown",
   "id": "074a7e40",
   "metadata": {
    "heading_collapsed": true
   },
   "source": [
    "# Example-18: Non-uniform sampling"
   ]
  },
  {
   "cell_type": "code",
   "execution_count": 19,
   "id": "8ff65dfa",
   "metadata": {
    "hidden": true
   },
   "outputs": [
    {
     "data": {
      "image/png": "[encoded data removed]",
      "text/plain": [
       "<Figure size 1080x216 with 1 Axes>"
      ]
     },
     "metadata": {
      "needs_background": "light"
     },
     "output_type": "display_data"
    }
   ],
   "source": [
    "# Uniform sampling (stationary)\n",
    "\n",
    "r = 10\n",
    "l = 4096\n",
    "t = torch.linspace(0.0, 1.0-1.0/r, r, dtype=torch.float64)\n",
    "t = torch.cat([t + i for i in range(l)])\n",
    "\n",
    "a = [1.0, 0.25]\n",
    "f = [1.12345, 3.23456]\n",
    "s = torch.sum(torch.stack([a[i]*torch.cos(2.0*numpy.pi*f[i]*t) for i in range(len(f))]), 0)\n",
    "\n",
    "f_min, f_max = 0.0, 10.0\n",
    "grid = 2.0*numpy.pi*numpy.linspace(f_min, f_max, len(t) + 1)\n",
    "data = nufft.nufft1d3(t, s, grid)\n",
    "\n",
    "plt.figure(figsize=(15, 3))\n",
    "plt.scatter(grid/(2.0*numpy.pi), numpy.abs(data), c='b', s=1)\n",
    "plt.show()"
   ]
  },
  {
   "cell_type": "code",
   "execution_count": 20,
   "id": "0b68412d",
   "metadata": {
    "hidden": true
   },
   "outputs": [
    {
     "data": {
      "image/png": "[encoded data removed]",
      "text/plain": [
       "<Figure size 1080x216 with 1 Axes>"
      ]
     },
     "metadata": {
      "needs_background": "light"
     },
     "output_type": "display_data"
    }
   ],
   "source": [
    "# Non-uniform periodic sampling (stationary)\n",
    "\n",
    "r = 10\n",
    "l = 4096\n",
    "t = torch.sort(torch.rand(r, dtype=dtype)).values\n",
    "t = torch.cat([t + i for i in range(l)])\n",
    "\n",
    "a = [1.0, 0.25]\n",
    "f = [1.12345, 3.23456]\n",
    "s = torch.sum(torch.stack([a[i]*torch.cos(2.0*numpy.pi*f[i]*t) for i in range(len(f))]), 0)\n",
    "\n",
    "f_min, f_max = 0.0, 10.0\n",
    "grid = 2.0*numpy.pi*numpy.linspace(f_min, f_max, len(t) + 1)\n",
    "data = nufft.nufft1d3(t, s, grid)\n",
    "\n",
    "plt.figure(figsize=(15, 3))\n",
    "plt.scatter(grid/(2.0*numpy.pi), numpy.abs(data), c='b', s=1)\n",
    "plt.show()"
   ]
  },
  {
   "cell_type": "code",
   "execution_count": 21,
   "id": "75169322",
   "metadata": {
    "hidden": true
   },
   "outputs": [
    {
     "data": {
      "image/png": "[encoded data removed]",
      "text/plain": [
       "<Figure size 1080x216 with 1 Axes>"
      ]
     },
     "metadata": {
      "needs_background": "light"
     },
     "output_type": "display_data"
    }
   ],
   "source": [
    "# Non-uniform random sampling (stationary)\n",
    "\n",
    "r = 10\n",
    "l = 4096\n",
    "t = torch.cat([torch.sort(torch.rand(r, dtype=dtype)).values + i for i in range(l)])\n",
    "\n",
    "a = [1.0, 0.25]\n",
    "f = [1.12345, 3.23456]\n",
    "s = torch.sum(torch.stack([a[i]*torch.cos(2.0*numpy.pi*f[i]*t) for i in range(len(f))]), 0)\n",
    "\n",
    "f_min, f_max = 0.0, 10.0\n",
    "grid = 2.0*numpy.pi*numpy.linspace(f_min, f_max, len(t) + 1)\n",
    "data = nufft.nufft1d3(t, s, grid)\n",
    "\n",
    "plt.figure(figsize=(15, 3))\n",
    "plt.scatter(grid/(2.0*numpy.pi), numpy.abs(data), c='b', s=1)\n",
    "plt.show()"
   ]
  },
  {
   "cell_type": "code",
   "execution_count": 22,
   "id": "ed05758b",
   "metadata": {
    "hidden": true
   },
   "outputs": [
    {
     "data": {
      "image/png": "[encoded data removed]",
      "text/plain": [
       "<Figure size 1080x216 with 1 Axes>"
      ]
     },
     "metadata": {
      "needs_background": "light"
     },
     "output_type": "display_data"
    }
   ],
   "source": [
    "# Non-uniform periodic sampling with random choice (stationary)\n",
    "\n",
    "c = 10\n",
    "r = 5*10\n",
    "l = 4096\n",
    "t = torch.sort(torch.rand(r, dtype=dtype)).values\n",
    "w = range(r)\n",
    "t = torch.cat([torch.sort(t[numpy.random.choice(w, size=c, replace=False)]).values + i for i in range(l)])\n",
    "\n",
    "a = [1.0, 0.25]\n",
    "f = [1.12345, 3.23456]\n",
    "s = torch.sum(torch.stack([a[i]*torch.cos(2.0*numpy.pi*f[i]*t) for i in range(len(f))]), 0)\n",
    "\n",
    "f_min, f_max = 0.0, 10.0\n",
    "grid = 2.0*numpy.pi*numpy.linspace(f_min, f_max, len(t) + 1)\n",
    "data = nufft.nufft1d3(t, s, grid)\n",
    "\n",
    "plt.figure(figsize=(15, 3))\n",
    "plt.scatter(grid/(2.0*numpy.pi), numpy.abs(data), c='b', s=1)\n",
    "plt.show()\n"
   ]
  },
  {
   "cell_type": "markdown",
   "id": "f9078d0a",
   "metadata": {
    "heading_collapsed": true
   },
   "source": [
    "# Example-19: Mixed frequency (threshold)"
   ]
  },
  {
   "cell_type": "code",
   "execution_count": 23,
   "id": "515d74ac",
   "metadata": {
    "hidden": true
   },
   "outputs": [
    {
     "name": "stdout",
     "output_type": "stream",
     "text": [
      "Frequency(Data(54, Window(4096, 'cosine_window', 1.0)))\n",
      "-3.217357037071933e-05\n",
      "-2.214332584776768e-05\n",
      "-4.566388271232125e-06\n"
     ]
    }
   ],
   "source": [
    "# Load model data\n",
    "df = pandas.read_json('../bpm.json')\n",
    "\n",
    "# Set scaled positions (used as locations with NUFFT)\n",
    "position = numpy.array([df[name]['S'] for name in df])/LENGTH\n",
    "\n",
    "# Set scaled accumulated phase advance (used as locations with NUFFT)\n",
    "phase = numpy.array([df[name]['FX'] for name in df])\n",
    "phase = numpy.cumsum(phase)/(2.0*numpy.pi*QX)\n",
    "start, *_ = phase\n",
    "phase = phase - start\n",
    "\n",
    "# Set window\n",
    "win = Window(4096, name='cosine_window', order=1.0, dtype=torch.float64, device='cpu')\n",
    "\n",
    "# Load TbT data from file\n",
    "tbt = Data.from_file(54, win, '../virtual_tbt.npy')\n",
    "\n",
    "# Initialize Frequency instance\n",
    "f = Frequency(tbt)\n",
    "print(f)\n",
    "\n",
    "# Compute reference frequency\n",
    "f('parabola')\n",
    "mean = torch.mean(f.frequency).item()\n",
    "std = torch.std(f.frequency).item()\n",
    "\n",
    "length = 32\n",
    "f1 = f.task_mixed_frequency(length=length, window=True, f_range=(8,9), normalize=True)\n",
    "f2 = f.task_mixed_frequency(length=length, window=True, f_range=(8,9), normalize=True, position=position)\n",
    "f3 = f.task_mixed_frequency(length=length, window=True, f_range=(8,9), normalize=True, position=phase)\n",
    "print((1-(f1[-1]-8)-mean).item())\n",
    "print((1-(f2[-1]-8)-mean).item())\n",
    "print((1-(f3[-1]-8)-mean).item())"
   ]
  },
  {
   "cell_type": "code",
   "execution_count": 24,
   "id": "ea76fcf9",
   "metadata": {
    "hidden": true,
    "scrolled": true
   },
   "outputs": [
    {
     "name": "stdout",
     "output_type": "stream",
     "text": [
      "Frequency(Data(52, Window(4096, 'cosine_window', 1.0)))\n",
      "-1.6022226644318849e-06\n",
      "6.339928549736751e-05\n",
      "1.7993733404053636e-05\n"
     ]
    }
   ],
   "source": [
    "# Generate new TbT (threshold by max beta value)\n",
    "\n",
    "cut = 50.0\n",
    "\n",
    "# Load model data\n",
    "df = pandas.read_json('../bpm.json')\n",
    "\n",
    "# Set scaled positions (used as locations with NUFFT)\n",
    "position = numpy.array([df[name]['S'] for name in df if df[name]['BX'] <= cut])/LENGTH\n",
    "\n",
    "# Set scaled accumulated phase advance (used as locations with NUFFT)\n",
    "phase = numpy.array([df[name]['FX'] for name in df if df[name]['BX'] <= cut])\n",
    "phase = numpy.cumsum(phase)/(2.0*numpy.pi*QX)\n",
    "start, *_ = phase\n",
    "phase = phase - start\n",
    "\n",
    "# Set window\n",
    "win = Window(4096, name='cosine_window', order=1.0, dtype=torch.float64, device='cpu')\n",
    "\n",
    "# Load TbT data from file\n",
    "tbt = Data.from_file(54, win, '../virtual_tbt.npy')\n",
    "tbt = Data.from_tensor(win, torch.stack([s for (s, name) in zip(tbt, df) if df[name]['BX'] <= cut]))\n",
    "\n",
    "# Initialize Frequency instance\n",
    "f = Frequency(tbt)\n",
    "print(f)\n",
    "\n",
    "# Compute reference frequency\n",
    "f('parabola')\n",
    "mean = torch.mean(f.frequency).item()\n",
    "std = torch.std(f.frequency).item()\n",
    "\n",
    "length = 32\n",
    "f1 = f.task_mixed_frequency(length=length, window=True, f_range=(8,9), normalize=True)\n",
    "f2 = f.task_mixed_frequency(length=length, window=True, f_range=(8,9), normalize=True, position=position)\n",
    "f3 = f.task_mixed_frequency(length=length, window=True, f_range=(8,9), normalize=True, position=phase)\n",
    "print((1-(f1[-1]-8)-mean).item())\n",
    "print((1-(f2[-1]-8)-mean).item())\n",
    "print((1-(f3[-1]-8)-mean).item())"
   ]
  },
  {
   "cell_type": "markdown",
   "id": "2cc51286",
   "metadata": {
    "heading_collapsed": true
   },
   "source": [
    "# Example-20: Uncertainty estimation with error propagation and fit"
   ]
  },
  {
   "cell_type": "code",
   "execution_count": 25,
   "id": "5af73459",
   "metadata": {
    "hidden": true
   },
   "outputs": [
    {
     "name": "stdout",
     "output_type": "stream",
     "text": [
      "frequency: error=8.8058763309e-08, spread=3.57745820015e-06\n",
      "amplitude: error=0.000106296115431, spread=0.00550309295366\n"
     ]
    }
   ],
   "source": [
    "# Estimate frequency and amplitude uncertainty from multiple realizations\n",
    "\n",
    "# Set parameters\n",
    "dtype = torch.float64\n",
    "device = 'cpu'\n",
    "length = 1024\n",
    "\n",
    "# Set signal\n",
    "time = torch.linspace(1, length, length, dtype=dtype, device=device)\n",
    "signal = 1.0*torch.cos(2.0*numpy.pi*0.12345*time) + 0.1*torch.cos(2.0*numpy.pi*2.0*0.12345*time)\n",
    "\n",
    "# Set TbT (signal copies with different noise realizations)\n",
    "std = 0.10\n",
    "win = Window.from_cosine(length, 1.0, dtype=dtype, device=device)\n",
    "tbt = torch.stack([signal + std*torch.randn(length, dtype=dtype, device=device) for _ in range(1024)])\n",
    "tbt = Data.from_tensor(win, tbt)\n",
    "\n",
    "# Estimate frequency\n",
    "f = Frequency(tbt)\n",
    "f('parabola')\n",
    "m_f, s_f = f.frequency.mean().cpu().item(), f.frequency.std().cpu().item()\n",
    "\n",
    "# Print result\n",
    "print(f'frequency: error={abs(0.12345 - m_f):<16.12}, spread={s_f:<16.12}')\n",
    "\n",
    "# Estimate amplitude\n",
    "c = 2.0/win.total*torch.sum(torch.cos(2.0*numpy.pi*m_f*time)*tbt.data*win.data, 1)\n",
    "s = 2.0/win.total*torch.sum(torch.sin(2.0*numpy.pi*m_f*time)*tbt.data*win.data, 1)\n",
    "a = torch.sqrt(c*c + s*s)\n",
    "m_a, s_a = a.mean().cpu().item(), a.std().cpu().item()\n",
    "\n",
    "# Print result\n",
    "print(f'amplitude: error={abs(1.0 - m_a):<16.12}, spread={s_a:<16.12}')"
   ]
  },
  {
   "cell_type": "code",
   "execution_count": 26,
   "id": "dbc4ae1a",
   "metadata": {
    "hidden": true
   },
   "outputs": [
    {
     "name": "stdout",
     "output_type": "stream",
     "text": [
      "0.005503092953655226\n",
      "0.005412658773651817\n"
     ]
    }
   ],
   "source": [
    "# Estimate amplitude uncertainty from one signal using error propagation\n",
    "# Noise sigma is assumed to be known\n",
    "# Frequency uncertainty contribution is generaly small and is ignored here\n",
    "\n",
    "# Amplitude\n",
    "def get_amplitude(frequency, signal):\n",
    "    c = 2.0/win.total*torch.sum(torch.cos(2.0*numpy.pi*frequency*time)*signal*win.data)\n",
    "    s = 2.0/win.total*torch.sum(torch.sin(2.0*numpy.pi*frequency*time)*signal*win.data)\n",
    "    return torch.sqrt(c*c + s*s)\n",
    "\n",
    "# Set signal\n",
    "signal = torch.zeros(length, dtype=dtype, device=device)\n",
    "signal, *_ = tbt\n",
    "get_amplitude(m_f, signal)\n",
    "signal.requires_grad_(True)\n",
    "signal.grad = None\n",
    "\n",
    "# Set covariance matrix\n",
    "m = std**2 + torch.zeros(length, dtype=dtype, device=device)\n",
    "m = torch.diag(m)\n",
    "\n",
    "# Compute amplitude and gradient\n",
    "a = get_amplitude(m_f, signal)\n",
    "a.backward()\n",
    "g = signal.grad\n",
    "\n",
    "# Compute and compare uncertainty estimation\n",
    "print(s_a)\n",
    "print(torch.sqrt(torch.dot(g, torch.matmul(m, g))).detach().cpu().item())"
   ]
  },
  {
   "cell_type": "code",
   "execution_count": 27,
   "id": "8fd967a4",
   "metadata": {
    "hidden": true
   },
   "outputs": [
    {
     "data": {
      "image/png": "[encoded data removed]",
      "text/plain": [
       "<Figure size 1080x216 with 1 Axes>"
      ]
     },
     "metadata": {
      "needs_background": "light"
     },
     "output_type": "display_data"
    },
    {
     "name": "stdout",
     "output_type": "stream",
     "text": [
      "STD: 3.57745820015e-06\n",
      "OLS: 2.58985902321e-06\n",
      "WLS: 2.58986019886e-06\n"
     ]
    }
   ],
   "source": [
    "# Estimate frequency uncertainty from one signal using error propagation\n",
    "# Noise sigma is assumed to be known\n",
    "# For frequency, gradient can't be computed directry, since frequency is estimated as argmax problem\n",
    "# In this case, for several frequencies near expected maximum location, corresponding DTFT amplitudes are computed\n",
    "# A parabola can be then fitted and standart errors for coefficient can be estimated\n",
    "# Error propagation can be used for each frequency value, then weighted fit can be used\n",
    "# In this example OLS and WLS are used from statmodels library\n",
    "# Note, such frequency uncertainty estimation is not particularly accurate\n",
    "# It depends on selected grid of frequencies and might over/under estimate\n",
    "# Still, the order of magnitude can be somewhat meaningful\n",
    "\n",
    "# Set a grid of frequencies near expected maximum\n",
    "# Note, here ffrft grid is used for the 1st signal in TbT\n",
    "# Here, 100 points near maximum are used, number of points should be increased/decreased for larger/smaller noise\n",
    "size = 50\n",
    "position, *_ = f.ffrft_bin.to(torch.int32)\n",
    "grid = f.ffrft_get_grid()\n",
    "grid = grid[position - size : position + size]\n",
    "\n",
    "# Set signal\n",
    "signal = torch.zeros(length, dtype=dtype, device=device)\n",
    "signal, *_ = tbt\n",
    "signal.requires_grad_(True)\n",
    "\n",
    "# Set covariance matrix\n",
    "m = std**2 + torch.zeros(length, dtype=dtype, device=device)\n",
    "m = torch.diag(m)\n",
    "\n",
    "# Amplitude (log10)\n",
    "def get_amplitude(frequency, signal):\n",
    "    c = 2.0/win.total*torch.sum(torch.cos(2.0*numpy.pi*frequency*time)*signal*win.data)\n",
    "    s = 2.0/win.total*torch.sum(torch.sin(2.0*numpy.pi*frequency*time)*signal*win.data)\n",
    "    return torch.log10(torch.sqrt(c*c + s*s))\n",
    "\n",
    "# Compute amplitude and weight for each frequency\n",
    "X = []\n",
    "y = []\n",
    "w = []\n",
    "for frequency in grid:\n",
    "    X.append([frequency.cpu().item()**2, frequency.cpu().item(), 1.0])\n",
    "    a = get_amplitude(frequency, signal)\n",
    "    a.backward()\n",
    "    g = signal.grad\n",
    "    y.append(a.cpu().item())\n",
    "    w.append(1/torch.dot(g, torch.matmul(m, g)).detach().cpu().item())\n",
    "    signal.grad = None\n",
    "\n",
    "# Note, weights are close to one, i.e. OLS and WLS should be close\n",
    "min(w)/max(w)\n",
    "\n",
    "# Plot amplitudes\n",
    "plt.figure(figsize=(15, 3))\n",
    "plt.scatter(grid.cpu(), y - numpy.sqrt(1/numpy.array(w)), c='red')\n",
    "plt.scatter(grid.cpu(), y, c='black')\n",
    "plt.scatter(grid.cpu(), y + numpy.sqrt(1/numpy.array(w)), c='red')\n",
    "plt.show()\n",
    "\n",
    "# Fit\n",
    "from statsmodels.api import OLS, WLS\n",
    "ols = OLS(y, X).fit()\n",
    "wls = WLS(y, X, weights=numpy.array(w)).fit()\n",
    "\n",
    "# Print results\n",
    "print(f'STD: {s_f:<16.12}')\n",
    "\n",
    "a, b, c = ols.params\n",
    "s_a, s_b, s_c = ols.bse\n",
    "sigma = 1.0/(2.0*a**2)*numpy.sqrt(b**2*s_a**2+a**2*s_b**2)\n",
    "print(f'OLS: {sigma:<16.12}')\n",
    "\n",
    "a, b, c = wls.params\n",
    "s_a, s_b, s_c = ols.bse\n",
    "sigma = 1.0/(2.0*a**2)*numpy.sqrt(b**2*s_a**2+a**2*s_b**2)\n",
    "print(f'WLS: {sigma:<16.12}')\n",
    "\n",
    "# Note, this uncertainty estimation can be used to do weighted fit for different BPMs"
   ]
  },
  {
   "cell_type": "code",
   "execution_count": 28,
   "id": "36e0daaf",
   "metadata": {
    "hidden": true
   },
   "outputs": [
    {
     "name": "stdout",
     "output_type": "stream",
     "text": [
      "                            OLS Regression Results                            \n",
      "==============================================================================\n",
      "Dep. Variable:                      y   R-squared:                       1.000\n",
      "Model:                            OLS   Adj. R-squared:                  1.000\n",
      "Method:                 Least Squares   F-statistic:                 2.278e+09\n",
      "Date:                Fri, 26 Nov 2021   Prob (F-statistic):               0.00\n",
      "Time:                        09:59:10   Log-Likelihood:                 1455.9\n",
      "No. Observations:                 100   AIC:                            -2906.\n",
      "Df Residuals:                      97   BIC:                            -2898.\n",
      "Df Model:                           2                                         \n",
      "Covariance Type:            nonrobust                                         \n",
      "==============================================================================\n",
      "                 coef    std err          t      P>|t|      [0.025      0.975]\n",
      "------------------------------------------------------------------------------\n",
      "x1         -2.906e+05      4.311  -6.74e+04      0.000   -2.91e+05   -2.91e+05\n",
      "x2          7.175e+04      1.064   6.74e+04      0.000    7.18e+04    7.18e+04\n",
      "const      -4429.0260      0.066  -6.74e+04      0.000   -4429.156   -4428.896\n",
      "==============================================================================\n",
      "Omnibus:                        5.235   Durbin-Watson:                   0.033\n",
      "Prob(Omnibus):                  0.073   Jarque-Bera (JB):                4.906\n",
      "Skew:                          -0.479   Prob(JB):                       0.0860\n",
      "Kurtosis:                       2.490   Cond. No.                     3.83e+08\n",
      "==============================================================================\n",
      "\n",
      "Notes:\n",
      "[1] Standard Errors assume that the covariance matrix of the errors is correctly specified.\n",
      "[2] The smallest eigenvalue is 6.93e-16. This might indicate that there are\n",
      "strong multicollinearity problems or that the design matrix is singular.\n"
     ]
    }
   ],
   "source": [
    "print(ols.summary())"
   ]
  },
  {
   "cell_type": "code",
   "execution_count": 29,
   "id": "a6bc4e4e",
   "metadata": {
    "hidden": true
   },
   "outputs": [
    {
     "name": "stdout",
     "output_type": "stream",
     "text": [
      "                            WLS Regression Results                            \n",
      "==============================================================================\n",
      "Dep. Variable:                      y   R-squared:                       1.000\n",
      "Model:                            WLS   Adj. R-squared:                  1.000\n",
      "Method:                 Least Squares   F-statistic:                 2.277e+09\n",
      "Date:                Fri, 26 Nov 2021   Prob (F-statistic):               0.00\n",
      "Time:                        09:59:11   Log-Likelihood:                 1456.0\n",
      "No. Observations:                 100   AIC:                            -2906.\n",
      "Df Residuals:                      97   BIC:                            -2898.\n",
      "Df Model:                           2                                         \n",
      "Covariance Type:            nonrobust                                         \n",
      "==============================================================================\n",
      "                 coef    std err          t      P>|t|      [0.025      0.975]\n",
      "------------------------------------------------------------------------------\n",
      "x1         -2.906e+05      4.312  -6.74e+04      0.000   -2.91e+05   -2.91e+05\n",
      "x2          7.175e+04      1.065   6.74e+04      0.000    7.18e+04    7.18e+04\n",
      "const      -4429.0240      0.066  -6.74e+04      0.000   -4429.154   -4428.894\n",
      "==============================================================================\n",
      "Omnibus:                        5.247   Durbin-Watson:                   0.033\n",
      "Prob(Omnibus):                  0.073   Jarque-Bera (JB):                4.916\n",
      "Skew:                          -0.479   Prob(JB):                       0.0856\n",
      "Kurtosis:                       2.489   Cond. No.                     3.83e+08\n",
      "==============================================================================\n",
      "\n",
      "Notes:\n",
      "[1] Standard Errors assume that the covariance matrix of the errors is correctly specified.\n",
      "[2] The condition number is large, 3.83e+08. This might indicate that there are\n",
      "strong multicollinearity or other numerical problems.\n"
     ]
    }
   ],
   "source": [
    "print(wls.summary())"
   ]
  },
  {
   "cell_type": "markdown",
   "id": "e382bc3f",
   "metadata": {
    "heading_collapsed": true
   },
   "source": [
    "# Example-21: Generation and identification of harmonics"
   ]
  },
  {
   "cell_type": "code",
   "execution_count": 30,
   "id": "f246fe0a",
   "metadata": {
    "hidden": true
   },
   "outputs": [
    {
     "name": "stdout",
     "output_type": "stream",
     "text": [
      "\n",
      "(0, 1) 0.31\n",
      "(1, 0) 0.12\n",
      "(0, 2) 0.38\n",
      "(1, -1) 0.19\n",
      "(1, 1) 0.43\n",
      "(2, 0) 0.24\n",
      "\n",
      "(0, 1) [0.31, 0.31, 0.0]\n",
      "(1, 0) [0.12, 0.12, 0.0]\n",
      "(0, 2) [0.38, 0.38, 0.0]\n",
      "(1, -1) [0.19, 0.19, 0.0]\n",
      "(1, 1) [0.43, 0.43, 0.0]\n",
      "(2, 0) [0.24, 0.24, 0.0]\n"
     ]
    }
   ],
   "source": [
    "# For phase space of dimension 2N, quasiperiodic contains N fundamental frequencies\n",
    "# Other harmonics are combinations of fundamental basis\n",
    "\n",
    "# Generate harmonics (real signal with sampling rate equal to one)\n",
    "order = 2\n",
    "basis = [0.12, 0.31]\n",
    "print()\n",
    "for key, value in Frequency.harmonics(order, basis).items():\n",
    "    print(key, value)\n",
    "\n",
    "# Identify harmonics\n",
    "order = 2\n",
    "basis = [0.12, 0.31]\n",
    "frequencies = Frequency.harmonics(order, basis).values()\n",
    "print()\n",
    "for key, value in Frequency.identify(order, basis, frequencies).items():\n",
    "    print(key, value)"
   ]
  },
  {
   "cell_type": "markdown",
   "id": "49ccac7a",
   "metadata": {
    "heading_collapsed": true
   },
   "source": [
    "# Example-22: Frequency fit (task)"
   ]
  },
  {
   "cell_type": "code",
   "execution_count": 31,
   "id": "ac32153b",
   "metadata": {
    "hidden": true
   },
   "outputs": [],
   "source": [
    "# In this example frequency (and its spread) is estimated for each signal using OLS/WLS fit\n",
    "# Fit is performed using DTFT spectrum points near the expected maximum\n",
    "\n",
    "# These estimations are compared with estimations from multiple noise realizations\n",
    "# And with estimations from time shifted signals"
   ]
  },
  {
   "cell_type": "code",
   "execution_count": 32,
   "id": "b3efcf38",
   "metadata": {
    "hidden": true
   },
   "outputs": [
    {
     "name": "stdout",
     "output_type": "stream",
     "text": [
      "0.461485904416  \n",
      "1.07834392788e-16\n"
     ]
    }
   ],
   "source": [
    "# Compute reference frequency\n",
    "# Note, without noise, frequencies for different BPMs are equal to machine precision\n",
    "\n",
    "# Set parameters (signal length, data type and device)\n",
    "length = 4096\n",
    "dtype = torch.float64\n",
    "device = 'cpu'\n",
    "\n",
    "# Set window\n",
    "win = Window(4096, 'cosine_window', 2.0, dtype=dtype, device=device)\n",
    "\n",
    "# Load TbT\n",
    "ref = Data.from_file(54, win, '../virtual_tbt.npy')\n",
    "\n",
    "# Compute frequency\n",
    "f = Frequency(ref)\n",
    "f('parabola')\n",
    "m_ref, s_ref = f.frequency.mean().cpu().item(), f.frequency.std().cpu().item()\n",
    "\n",
    "# Print results\n",
    "print(f'{m_ref:<16.12}')\n",
    "print(f'{s_ref:<16.12}')"
   ]
  },
  {
   "cell_type": "code",
   "execution_count": 33,
   "id": "c5adb3a3",
   "metadata": {
    "hidden": true
   },
   "outputs": [],
   "source": [
    "# Set noise parameters\n",
    "\n",
    "# All BPMs have different noise sigma\n",
    "std = 1.0E-4*(4.0*torch.rand(54) + 1.0)\n",
    "\n",
    "# One BPM has increased noise level\n",
    "std[0] = 3.0E-3"
   ]
  },
  {
   "cell_type": "code",
   "execution_count": 34,
   "id": "69c19b98",
   "metadata": {
    "hidden": true
   },
   "outputs": [
    {
     "data": {
      "image/png": "[encoded data removed]",
      "text/plain": [
       "<Figure size 1080x360 with 1 Axes>"
      ]
     },
     "metadata": {
      "needs_background": "light"
     },
     "output_type": "display_data"
    }
   ],
   "source": [
    "# Estimate spread for different noise realizations\n",
    "\n",
    "# Iterate over noise realizations\n",
    "\n",
    "table = []\n",
    "count = 1024\n",
    "\n",
    "for _ in range(count):\n",
    "    win = Window(1024, 'cosine_window', 1.0, dtype=dtype, device=device)\n",
    "    tbt = Data.from_tensor(win, ref.data[:, :len(win)])\n",
    "    Data.add_noise(tbt.data, std)\n",
    "    tbt.reset()\n",
    "    f = Frequency(tbt)\n",
    "    f('parabola')\n",
    "    table.append(f.frequency)\n",
    "\n",
    "table = torch.stack(table)\n",
    "\n",
    "# Set mean and spread values for each BPM\n",
    "\n",
    "m1, s1 = table.mean(0).cpu(), table.std(0).cpu()\n",
    "\n",
    "# Plot results\n",
    "\n",
    "plt.figure(figsize=(15, 5))\n",
    "plt.errorbar(range(54), m1, yerr=s1, c='red', fmt='o')\n",
    "plt.ylim((m_ref - 5.0E-5, m_ref + 5.0E-5))\n",
    "plt.hlines(m_ref, -1, 55, colors='black')\n",
    "plt.show()"
   ]
  },
  {
   "cell_type": "code",
   "execution_count": 35,
   "id": "7a7893e6",
   "metadata": {
    "hidden": true
   },
   "outputs": [
    {
     "data": {
      "image/png": "[encoded data removed]",
      "text/plain": [
       "<Figure size 1080x360 with 1 Axes>"
      ]
     },
     "metadata": {
      "needs_background": "light"
     },
     "output_type": "display_data"
    },
    {
     "data": {
      "image/png": "[encoded data removed]",
      "text/plain": [
       "<Figure size 1080x360 with 1 Axes>"
      ]
     },
     "metadata": {
      "needs_background": "light"
     },
     "output_type": "display_data"
    }
   ],
   "source": [
    "# Estimate spread from time shifted signals\n",
    "\n",
    "# Load data\n",
    "\n",
    "win = Window(4096, dtype=dtype, device=device)\n",
    "ref = Data.from_tensor(win, torch.tensor(numpy.load('../virtual_tbt.npy')))\n",
    "Data.add_noise(ref.data, std)\n",
    "ref.reset()\n",
    "\n",
    "# Iterate over signals\n",
    "\n",
    "table = []\n",
    "\n",
    "for idx in range(ref.size):\n",
    "    tbt = ref.make_matrix(idx, 1024, 16, 'cosine_window', 1.0)\n",
    "    f = Frequency(tbt)\n",
    "    f('parabola')\n",
    "    table.append(f.frequency)\n",
    "\n",
    "table = torch.stack(table)\n",
    "\n",
    "# Set mean and spread values for each BPM\n",
    "\n",
    "m2, s2 = table.mean(1).cpu(), table.std(1).cpu()\n",
    "\n",
    "# Plot results\n",
    "\n",
    "plt.figure(figsize=(15, 5))\n",
    "plt.errorbar(range(54), m2, yerr=s2, c='red', fmt='o')\n",
    "plt.ylim((m_ref - 5.0E-5, m_ref + 5.0E-5))\n",
    "plt.hlines(m_ref, -1, 55, colors='black')\n",
    "plt.show()\n",
    "\n",
    "# Set mean and spread values for each BPM (peak-to-peak)\n",
    "\n",
    "f_min = table.min(1).values\n",
    "f_max = table.max(1).values\n",
    "\n",
    "m2 = table.mean(1).cpu()\n",
    "s2 = 1/4.0*(f_max - f_min)\n",
    "\n",
    "# Plot results\n",
    "\n",
    "plt.figure(figsize=(15, 5))\n",
    "plt.errorbar(range(54), m2, yerr=s2, c='red', fmt='o')\n",
    "plt.ylim((m_ref - 5.0E-5, m_ref + 5.0E-5))\n",
    "plt.hlines(m_ref, -1, 55, colors='black')\n",
    "plt.show()"
   ]
  },
  {
   "cell_type": "code",
   "execution_count": 36,
   "id": "af998f53",
   "metadata": {
    "hidden": true
   },
   "outputs": [
    {
     "data": {
      "image/png": "[encoded data removed]",
      "text/plain": [
       "<Figure size 1080x360 with 1 Axes>"
      ]
     },
     "metadata": {
      "needs_background": "light"
     },
     "output_type": "display_data"
    },
    {
     "data": {
      "image/png": "[encoded data removed]",
      "text/plain": [
       "<Figure size 1080x360 with 1 Axes>"
      ]
     },
     "metadata": {
      "needs_background": "light"
     },
     "output_type": "display_data"
    }
   ],
   "source": [
    "# Estimate spread from fit\n",
    "\n",
    "# Load data\n",
    "\n",
    "win = Window(1024, 'cosine_window', 2.0, dtype=dtype, device=device)\n",
    "tbt = Data.from_tensor(win, torch.tensor(numpy.load('../virtual_tbt.npy')[:, :len(win)]))\n",
    "Data.add_noise(tbt.data, std)\n",
    "tbt.reset()\n",
    "\n",
    "# Compute frequencies\n",
    "\n",
    "f = Frequency(tbt)\n",
    "f('parabola')\n",
    "\n",
    "# Fit (ols)\n",
    "\n",
    "out = f.task_fit(window=True, size=32, mode='ols')\n",
    "\n",
    "# Set fitted frequencies and spread\n",
    "\n",
    "m3, s3 = out.T\n",
    "\n",
    "plt.figure(figsize=(15, 5))\n",
    "plt.errorbar(range(54), m3, yerr=s3, c='red', fmt='o')\n",
    "plt.ylim((m_ref - 5.0E-5, m_ref + 5.0E-5))\n",
    "plt.hlines(m_ref, -1, 55, colors='black')\n",
    "plt.show()\n",
    "\n",
    "# Fit (wls)\n",
    "\n",
    "out = f.task_fit(window=True, size=32, mode='wls', std=std)\n",
    "\n",
    "# Set fitted frequencies and spread\n",
    "\n",
    "m3, s3 = out.T\n",
    "\n",
    "plt.figure(figsize=(15, 5))\n",
    "plt.errorbar(range(54), m3, yerr=s3, c='red', fmt='o')\n",
    "plt.ylim((m_ref - 5.0E-5, m_ref + 5.0E-5))\n",
    "plt.hlines(m_ref, -1, 55, colors='black')\n",
    "plt.show()"
   ]
  },
  {
   "cell_type": "code",
   "execution_count": 37,
   "id": "resident-radio",
   "metadata": {
    "hidden": true
   },
   "outputs": [
    {
     "data": {
      "image/png": "[encoded data removed]",
      "text/plain": [
       "<Figure size 1080x216 with 1 Axes>"
      ]
     },
     "metadata": {
      "needs_background": "light"
     },
     "output_type": "display_data"
    },
    {
     "data": {
      "image/png": "[encoded data removed]",
      "text/plain": [
       "<Figure size 1080x216 with 1 Axes>"
      ]
     },
     "metadata": {
      "needs_background": "light"
     },
     "output_type": "display_data"
    },
    {
     "data": {
      "image/png": "[encoded data removed]",
      "text/plain": [
       "<Figure size 1080x216 with 1 Axes>"
      ]
     },
     "metadata": {
      "needs_background": "light"
     },
     "output_type": "display_data"
    }
   ],
   "source": [
    "# Compare\n",
    "\n",
    "plt.figure(figsize=(15, 3))\n",
    "plt.bar(range(54), s1, color='red')\n",
    "plt.ylim((0, 5.0E-5))\n",
    "plt.show()\n",
    "\n",
    "plt.figure(figsize=(15, 3))\n",
    "plt.bar(range(54), s2, color='red')\n",
    "plt.ylim((0, 5.0E-5))\n",
    "plt.show()\n",
    "\n",
    "plt.figure(figsize=(15, 3))\n",
    "plt.bar(range(54), s3, color='red')\n",
    "plt.ylim((0, 5.0E-5))\n",
    "plt.show()"
   ]
  },
  {
   "cell_type": "code",
   "execution_count": 38,
   "id": "exotic-aspect",
   "metadata": {
    "hidden": true
   },
   "outputs": [
    {
     "name": "stdout",
     "output_type": "stream",
     "text": [
      "4.835197076058506e-09\n",
      "1.621369289384056e-07\n",
      "2.944985172947945e-07\n"
     ]
    }
   ],
   "source": [
    "# Compare direct mean\n",
    "print(abs(m_ref - m1.mean().cpu().item()))\n",
    "print(abs(m_ref - m2.mean().cpu().item()))\n",
    "print(abs(m_ref - m3.mean().cpu().item()))"
   ]
  },
  {
   "cell_type": "code",
   "execution_count": 39,
   "id": "average-spread",
   "metadata": {
    "hidden": true
   },
   "outputs": [
    {
     "name": "stdout",
     "output_type": "stream",
     "text": [
      "ols: err=4.835197e-09, std=2.393607e-08\n",
      "wls: err=1.7125251e-08, std=1.1893899e-08\n"
     ]
    }
   ],
   "source": [
    "# Fit frequency for all BPMs\n",
    "\n",
    "from statsmodels.api import OLS, WLS\n",
    "\n",
    "X = numpy.ones(54).reshape(1, 54).T\n",
    "y = m1.numpy()\n",
    "w = (1/s1**2).cpu().numpy()\n",
    "\n",
    "ols1 = OLS(y, X).fit()\n",
    "wls1 = WLS(y, X, w).fit()\n",
    "\n",
    "print(f'ols: err={abs(m_ref - ols1.params.item()):12.8}, std={ols1.bse.item():12.8}')\n",
    "print(f'wls: err={abs(m_ref - wls1.params.item()):12.8}, std={wls1.bse.item():12.8}')"
   ]
  },
  {
   "cell_type": "code",
   "execution_count": 40,
   "id": "ed149867",
   "metadata": {
    "hidden": true
   },
   "outputs": [
    {
     "name": "stdout",
     "output_type": "stream",
     "text": [
      "ols: err=1.6213693e-07, std=1.5736229e-07\n",
      "wls: err=1.0408282e-08, std=5.2133059e-08\n"
     ]
    }
   ],
   "source": [
    "# Fit frequency for all BPMs using 'shifted' weights\n",
    "\n",
    "from statsmodels.api import OLS, WLS\n",
    "\n",
    "X = numpy.ones(54).reshape(1, 54).T\n",
    "y = m2.numpy()\n",
    "w = (1/s2**2).cpu().numpy()\n",
    "\n",
    "ols2 = OLS(y, X).fit()\n",
    "wls2 = WLS(y, X, w).fit()\n",
    "\n",
    "print(f'ols: err={abs(m_ref - ols2.params.item()):12.8}, std={ols2.bse.item():12.8}')\n",
    "print(f'wls: err={abs(m_ref - wls2.params.item()):12.8}, std={wls2.bse.item():12.8}')"
   ]
  },
  {
   "cell_type": "code",
   "execution_count": 41,
   "id": "infinite-image",
   "metadata": {
    "hidden": true
   },
   "outputs": [
    {
     "name": "stdout",
     "output_type": "stream",
     "text": [
      "ols: err=2.9449852e-07, std=9.2328633e-07\n",
      "wls: err=4.0200152e-07, std=5.9873974e-07\n"
     ]
    }
   ],
   "source": [
    "# Fit frequency for all BPMs using 'fitted' weights\n",
    "\n",
    "from statsmodels.api import OLS, WLS\n",
    "\n",
    "X = numpy.ones(54).reshape(1, 54).T\n",
    "y = m3.numpy()\n",
    "w = (1/s3**2).cpu().numpy()\n",
    "\n",
    "ols3 = OLS(y, X).fit()\n",
    "wls3 = WLS(y, X, w).fit()\n",
    "\n",
    "print(f'ols: err={abs(m_ref - ols3.params.item()):12.8}, std={ols3.bse.item():12.8}')\n",
    "print(f'wls: err={abs(m_ref - wls3.params.item()):12.8}, std={wls3.bse.item():12.8}')"
   ]
  },
  {
   "cell_type": "markdown",
   "id": "e5a40ae1",
   "metadata": {
    "heading_collapsed": true
   },
   "source": [
    "# Example-23: Envelope and instantaneous frequency"
   ]
  },
  {
   "cell_type": "code",
   "execution_count": 42,
   "id": "0be42961",
   "metadata": {
    "hidden": true
   },
   "outputs": [],
   "source": [
    "# In this example DHT is used to compute signal envelope and instantaneous frequency"
   ]
  },
  {
   "cell_type": "code",
   "execution_count": 43,
   "id": "c9580242",
   "metadata": {
    "hidden": true
   },
   "outputs": [],
   "source": [
    "# Set test signal\n",
    "\n",
    "length = 8192\n",
    "dtype = torch.float64\n",
    "device = 'cpu'\n",
    "\n",
    "t = torch.linspace(1, length, length, dtype=dtype, device=device)\n",
    "s = torch.exp(-0.0001*t*(1 + 0.25*torch.cos(2*numpy.pi*0.001*t)))*torch.cos(2.0*numpy.pi*0.12345*t).unsqueeze(0)\n",
    "\n",
    "# Compute DHT\n",
    "dht = Frequency.dht(s)\n",
    "\n",
    "# Compute envelope\n",
    "envelope = dht.abs()\n",
    "\n",
    "# Compute instantaneous frequency\n",
    "# Note, length is reduced by one\n",
    "frequency = 1/(2.0*numpy.pi)*(dht[:, :-1]*dht[:, 1:].conj()).angle()"
   ]
  },
  {
   "cell_type": "code",
   "execution_count": 44,
   "id": "5a4ea69c",
   "metadata": {
    "hidden": true
   },
   "outputs": [
    {
     "data": {
      "image/png": "[encoded data removed]",
      "text/plain": [
       "<Figure size 1080x360 with 1 Axes>"
      ]
     },
     "metadata": {
      "needs_background": "light"
     },
     "output_type": "display_data"
    }
   ],
   "source": [
    "# Plot signal and envelope\n",
    "# Note, result is not accurate at both ends\n",
    "plt.figure(figsize=(15,5))\n",
    "plt.scatter(range(length), s[0].cpu().numpy(), c='black', s=0.1)\n",
    "plt.scatter(range(length), envelope[0].cpu().numpy(), c='red', s=0.1)\n",
    "plt.show()"
   ]
  },
  {
   "cell_type": "code",
   "execution_count": 45,
   "id": "a19c6b9c",
   "metadata": {
    "hidden": true
   },
   "outputs": [
    {
     "data": {
      "image/png": "[encoded data removed]",
      "text/plain": [
       "<Figure size 1080x360 with 1 Axes>"
      ]
     },
     "metadata": {
      "needs_background": "light"
     },
     "output_type": "display_data"
    }
   ],
   "source": [
    "# Plot instantaneous frequency\n",
    "# Note, result is not accurate at both ends\n",
    "plt.figure(figsize=(15,5))\n",
    "plt.ylim(0.12345-0.01, 0.12345+0.01)\n",
    "plt.scatter(range(length-1), frequency[0].cpu().numpy(), c='red', s=0.1)\n",
    "plt.hlines(0.12345, 1, length, color='black', linestyles='dashed')\n",
    "plt.show()"
   ]
  },
  {
   "cell_type": "markdown",
   "id": "e741aa9f",
   "metadata": {
    "heading_collapsed": true
   },
   "source": [
    "# Example-24: Autocorrelation"
   ]
  },
  {
   "cell_type": "code",
   "execution_count": 46,
   "id": "33f9f34e",
   "metadata": {
    "hidden": true
   },
   "outputs": [
    {
     "data": {
      "image/png": "[encoded data removed]",
      "text/plain": [
       "<Figure size 1080x360 with 1 Axes>"
      ]
     },
     "metadata": {
      "needs_background": "light"
     },
     "output_type": "display_data"
    },
    {
     "data": {
      "image/png": "[encoded data removed]",
      "text/plain": [
       "<Figure size 1080x360 with 1 Axes>"
      ]
     },
     "metadata": {
      "needs_background": "light"
     },
     "output_type": "display_data"
    }
   ],
   "source": [
    "# Compute autocorrelation for random noise and harmonic\n",
    "\n",
    "length = 8192\n",
    "dtype = torch.float64\n",
    "device = 'cpu'\n",
    "\n",
    "s = torch.cos(2.0*numpy.pi*0.12345*torch.linspace(1, length, length, dtype=dtype, device=device)).unsqueeze(0)\n",
    "auto = Frequency.autocorrelation(s)\n",
    "plt.figure(figsize=(15, 5))\n",
    "plt.scatter(range(length), auto[0].cpu().numpy(), c='black', s=0.1)\n",
    "plt.xlim(0, length + 1)\n",
    "plt.ylim(-1.1, 1.1)\n",
    "plt.show()\n",
    "\n",
    "s = torch.randn((1, length), dtype=dtype, device=device)\n",
    "auto = Frequency.autocorrelation(s)\n",
    "plt.figure(figsize=(15, 5))\n",
    "plt.scatter(range(length), auto[0].cpu().numpy(), c='black', s=0.1)\n",
    "plt.xlim(0, length + 1)\n",
    "plt.ylim(-1.1, 1.1)\n",
    "plt.show()"
   ]
  },
  {
   "cell_type": "code",
   "execution_count": null,
   "id": "298f30c6",
   "metadata": {
    "hidden": true
   },
   "outputs": [],
   "source": []
  }
 ],
 "metadata": {
  "colab": {
   "collapsed_sections": [
    "myt0_gMIOq7b",
    "5d97819c"
   ],
   "name": "03_frequency.ipynb",
   "provenance": []
  },
  "kernelspec": {
   "display_name": "Python 3 (ipykernel)",
   "language": "python",
   "name": "python3"
  },
  "language_info": {
   "codemirror_mode": {
    "name": "ipython",
    "version": 3
   },
   "file_extension": ".py",
   "mimetype": "text/x-python",
   "name": "python",
   "nbconvert_exporter": "python",
   "pygments_lexer": "ipython3",
   "version": "3.9.0"
  },
  "latex_envs": {
   "LaTeX_envs_menu_present": true,
   "autoclose": false,
   "autocomplete": true,
   "bibliofile": "biblio.bib",
   "cite_by": "apalike",
   "current_citInitial": 1,
   "eqLabelWithNumbers": true,
   "eqNumInitial": 1,
   "hotkeys": {
    "equation": "Ctrl-E",
    "itemize": "Ctrl-I"
   },
   "labels_anchors": false,
   "latex_user_defs": false,
   "report_style_numbering": false,
   "user_envs_cfg": false
  }
 },
 "nbformat": 4,
 "nbformat_minor": 5
}
