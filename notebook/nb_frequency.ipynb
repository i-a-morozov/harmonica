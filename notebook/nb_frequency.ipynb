{
 "cells": [
  {
   "cell_type": "code",
   "execution_count": 1,
   "id": "d64bccdd",
   "metadata": {},
   "outputs": [
    {
     "name": "stdout",
     "output_type": "stream",
     "text": [
      "True\n",
      "6\n"
     ]
    }
   ],
   "source": [
    "# Import\n",
    "\n",
    "import numpy\n",
    "import torch\n",
    "import nufft\n",
    "import yaml\n",
    "\n",
    "import sys\n",
    "sys.path.append('..')\n",
    "\n",
    "from harmonica.util import LENGTH\n",
    "from harmonica.statistics import weighted_mean, weighted_variance\n",
    "from harmonica.window import Window\n",
    "from harmonica.data import Data\n",
    "from harmonica.frequency import Frequency\n",
    "from harmonica.filter import Filter\n",
    "\n",
    "import matplotlib.pyplot as plt\n",
    "\n",
    "torch.set_printoptions(precision=12, sci_mode=True)\n",
    "print(torch.cuda.is_available())\n",
    "print(torch.get_num_threads())"
   ]
  },
  {
   "cell_type": "code",
   "execution_count": 2,
   "id": "8f33fda4-6b8a-4990-b622-ad6629705cf3",
   "metadata": {},
   "outputs": [],
   "source": [
    "# Set data type and device\n",
    "\n",
    "dtype = torch.float64\n",
    "device = 'cpu'"
   ]
  },
  {
   "cell_type": "markdown",
   "id": "0ec9fc91",
   "metadata": {
    "heading_collapsed": true,
    "id": "eTuGZt-gXDRc",
    "tags": []
   },
   "source": [
    "# Example-01: FFT amplitude spectrum"
   ]
  },
  {
   "cell_type": "code",
   "execution_count": 3,
   "id": "1da45627-33da-46fd-8d7c-1cddbd6ab835",
   "metadata": {},
   "outputs": [
    {
     "name": "stdout",
     "output_type": "stream",
     "text": [
      "Window(1024, 'cosine_window', 1.0)\n",
      "Data(64, Window(1024, 'cosine_window', 1.0))\n",
      "Frequency(Data(64, Window(1024, 'cosine_window', 1.0)), f_range=(0.0, 0.5))\n"
     ]
    },
    {
     "data": {
      "image/png": "[encoded data removed]",
      "text/plain": [
       "<Figure size 1080x360 with 1 Axes>"
      ]
     },
     "metadata": {
      "needs_background": "light"
     },
     "output_type": "display_data"
    }
   ],
   "source": [
    "# Set parameters (64 signals with length 1024)\n",
    "size, length = 64, 1024\n",
    "\n",
    "# Set window\n",
    "w = Window.from_cosine(length, order=1.0, dtype=dtype, device=device)\n",
    "print(w)\n",
    "\n",
    "# Set TbT data (64 signals with two components and different amplitudes)\n",
    "t = torch.linspace(1.0, length, length, dtype=dtype, device=device)\n",
    "data = torch.stack([i*torch.sin(2.0*numpy.pi*1*0.12*t) + 0.01*i*torch.sin(2.0*numpy.pi*2*0.12*t) for i in range(1, size + 1)])\n",
    "d = Data.from_data(w, data)\n",
    "print(d)\n",
    "\n",
    "# Initialize Frequency instance\n",
    "f = Frequency(d)\n",
    "print(f)\n",
    "\n",
    "# Apply window (note, window is applied to work)\n",
    "d.window_remove_mean()\n",
    "d.window_apply()\n",
    "\n",
    "# FFT grid is stored in fft_grid (computed on initialization)\n",
    "# FFT spectrum amplitudes are stored in fft_spectrum for each signal\n",
    "\n",
    "# Compute FFT amplitude spectrum\n",
    "f.fft_get_spectrum()\n",
    "\n",
    "# Reset TbT work (copy data to work)\n",
    "f.data.reset()\n",
    "\n",
    "# Plot (log10) FFT spectrum for given signal id\n",
    "idx = 0\n",
    "plt.figure(figsize=(15,5))\n",
    "plt.scatter(f.fft_grid.cpu().numpy(), torch.log10(f.fft_spectrum[idx]).cpu().numpy(), s=1, c='blue')\n",
    "plt.xlim(0.1, 0.3)\n",
    "plt.ylim(-6.0, 4.0)\n",
    "plt.show()\n",
    "\n",
    "# Clean\n",
    "del w\n",
    "del t, data\n",
    "del d\n",
    "del f\n",
    "if device != 'cpu':\n",
    "    torch.cuda.synchronize()\n",
    "    torch.cuda.empty_cache()"
   ]
  },
  {
   "cell_type": "markdown",
   "id": "09ec2832",
   "metadata": {
    "heading_collapsed": true,
    "tags": []
   },
   "source": [
    "# Example-02: FFT amplitude spectrum & zero padding"
   ]
  },
  {
   "cell_type": "code",
   "execution_count": 4,
   "id": "f2193741-5ed7-459e-87b2-12100f61b2eb",
   "metadata": {},
   "outputs": [
    {
     "name": "stdout",
     "output_type": "stream",
     "text": [
      "Window(1024, 'cosine_window', 1.0)\n",
      "Data(64, Window(1024, 'cosine_window', 1.0))\n",
      "Frequency(Data(64, Window(1024, 'cosine_window', 1.0)), f_range=(0.0, 0.5))\n",
      "Frequency(Data(64, Window(1024, 'cosine_window', 1.0)), f_range=(0.0, 0.5))\n"
     ]
    },
    {
     "data": {
      "image/png": "[encoded data removed]",
      "text/plain": [
       "<Figure size 1080x360 with 1 Axes>"
      ]
     },
     "metadata": {
      "needs_background": "light"
     },
     "output_type": "display_data"
    }
   ],
   "source": [
    "# Set parameters (64 signals with length 1024)\n",
    "size, length = 64, 1024\n",
    "\n",
    "# Set window\n",
    "w = Window.from_cosine(length, order=1.0, dtype=dtype, device=device)\n",
    "print(w)\n",
    "\n",
    "# Set TbT data (64 signals with two components and different amplitudes)\n",
    "t = torch.linspace(1.0, length, length, dtype=dtype, device=device)\n",
    "data = torch.stack([i*torch.sin(2.0*numpy.pi*1*0.12*t) + 0.01*i*torch.sin(2.0*numpy.pi*2*0.12*t) for i in range(1, size + 1)])\n",
    "d = Data.from_data(w, data)\n",
    "print(d)\n",
    "\n",
    "# If pad == 0, it is set to signal length\n",
    "# Spectrum is computed using torch.fft.rfft(..., n=pad)/torch.fft.fft(..., n=pad) for real/complex input\n",
    "# Padding can be used to interpolate DTFT spectrum in all frequency range\n",
    "# This improves frequency estimation accuracy (assuming frequency corresponds to max of the largest FFT spectrum amplitude peak)\n",
    "# Can be used to obtain a better initial guess, if signal has several frequencies with close amplitudes\n",
    "\n",
    "# Initialize Frequency instances with and without padding\n",
    "f1 = Frequency(d, pad=length*2**4)\n",
    "f2 = Frequency(d, pad=length*2**0)\n",
    "print(f1)\n",
    "print(f2)\n",
    "\n",
    "# Apply window (note, window is applied to work)\n",
    "d.window_remove_mean()\n",
    "d.window_apply()\n",
    "\n",
    "# Compute FFT amplitude spectrum\n",
    "f1.fft_get_spectrum()\n",
    "f2.fft_get_spectrum()\n",
    "\n",
    "# Reset TbT work\n",
    "f1.data.reset()\n",
    "f2.data.reset()\n",
    "\n",
    "\n",
    "# Plot (log10) FFT spectrum for given signal id\n",
    "idx = 0\n",
    "plt.figure(figsize=(15,5))\n",
    "plt.scatter(f1.fft_grid.cpu().numpy(), torch.log10(f1.fft_spectrum[idx]).cpu().numpy(), s=0.5, c='red')\n",
    "plt.scatter(f2.fft_grid.cpu().numpy(), torch.log10(f2.fft_spectrum[idx]).cpu().numpy(), s=5.0, c='blue')\n",
    "plt.xlim(0.12 - 0.01, 0.12 + 0.01)\n",
    "plt.ylim(-6.0, 4.0)\n",
    "plt.show()\n",
    "\n",
    "# Clean\n",
    "del w\n",
    "del t, data\n",
    "del d\n",
    "del f1, f2\n",
    "if device != 'cpu':\n",
    "    torch.cuda.synchronize()\n",
    "    torch.cuda.empty_cache()"
   ]
  },
  {
   "cell_type": "markdown",
   "id": "e10b8b42",
   "metadata": {
    "heading_collapsed": true,
    "tags": []
   },
   "source": [
    "# Example-03: FFT frequency estimation & zero padding"
   ]
  },
  {
   "cell_type": "code",
   "execution_count": 5,
   "id": "0441f674-9506-4950-becf-e259e74840fd",
   "metadata": {},
   "outputs": [
    {
     "name": "stdout",
     "output_type": "stream",
     "text": [
      "Window(1024, 'cosine_window', 1.0)\n",
      "Data(64, Window(1024, 'cosine_window', 1.0))\n",
      "Frequency(Data(64, Window(1024, 'cosine_window', 1.0)), f_range=(0.0, 0.5))\n",
      "Frequency(Data(64, Window(1024, 'cosine_window', 1.0)), f_range=(0.0, 0.5))\n",
      "tensor(1.171875000000e-04, dtype=torch.float64)\n",
      "tensor(4.882812499996e-06, dtype=torch.float64)\n",
      "tensor(1.171875000000e-04, dtype=torch.float64)\n",
      "tensor(4.882812499996e-06, dtype=torch.float64)\n"
     ]
    }
   ],
   "source": [
    "# FFT frequency estimation is based on location of max bin in the amplitude spectum\n",
    "\n",
    "# Set parameters (64 signals with length 1024)\n",
    "size, length = 64, 1024\n",
    "\n",
    "# Set window\n",
    "w = Window.from_cosine(length, order=1.0, dtype=dtype, device=device)\n",
    "print(w)\n",
    "\n",
    "# Set TbT data (64 signals with two components and different amplitudes)\n",
    "t = torch.linspace(1.0, length, length, dtype=dtype, device=device)\n",
    "data = torch.stack([i*torch.sin(2.0*numpy.pi*1*0.12*t) + 0.01*i*torch.sin(2.0*numpy.pi*2*0.12*t) for i in range(1, size + 1)])\n",
    "d = Data.from_data(w, data)\n",
    "print(d)\n",
    "\n",
    "# Initialize Frequency instances with and without padding\n",
    "f1 = Frequency(d, pad=length*2**0)\n",
    "f2 = Frequency(d, pad=length*2**4)\n",
    "print(f1)\n",
    "print(f2)\n",
    "\n",
    "# Apply window (note, window is applied to work)\n",
    "d.window_remove_mean()\n",
    "d.window_apply()\n",
    "\n",
    "# Estimate frequency\n",
    "f1('fft')\n",
    "f2('fft')\n",
    "\n",
    "# Compare results\n",
    "print(torch.abs(f1.frequency.mean() - 0.12))\n",
    "print(torch.abs(f2.frequency.mean() - 0.12))\n",
    "\n",
    "# In this case call invokes task_fft method\n",
    "f1.compute_fft()\n",
    "f2.compute_fft()\n",
    "\n",
    "# Compare results\n",
    "print(torch.abs(f1.fft_frequency.mean() - 0.12))\n",
    "print(torch.abs(f2.fft_frequency.mean() - 0.12))\n",
    "\n",
    "# Clean\n",
    "del w\n",
    "del t, data\n",
    "del d\n",
    "del f1, f2\n",
    "if device != 'cpu':\n",
    "    torch.cuda.synchronize()\n",
    "    torch.cuda.empty_cache()"
   ]
  },
  {
   "cell_type": "markdown",
   "id": "7a07779a",
   "metadata": {
    "heading_collapsed": true,
    "tags": []
   },
   "source": [
    "# Example-04: FFT frequency estimation & zero padding for given range"
   ]
  },
  {
   "cell_type": "code",
   "execution_count": 6,
   "id": "f2b806b0-37eb-4392-8ebc-7d37de15b3a9",
   "metadata": {},
   "outputs": [
    {
     "name": "stdout",
     "output_type": "stream",
     "text": [
      "Window(1024, 'cosine_window', 1.0)\n",
      "Data(64, Window(1024, 'cosine_window', 1.0))\n",
      "Frequency(Data(64, Window(1024, 'cosine_window', 1.0)), f_range=(0.0, 0.5))\n",
      "Frequency(Data(64, Window(1024, 'cosine_window', 1.0)), f_range=(0.0, 0.5))\n",
      "tensor(2.343750000000e-04, dtype=torch.float64)\n",
      "tensor(9.765624999991e-06, dtype=torch.float64)\n"
     ]
    }
   ],
   "source": [
    "# Set parameters (64 signals with length 1024)\n",
    "size, length = 64, 1024\n",
    "\n",
    "# Set window\n",
    "w = Window.from_cosine(length, order=1.0, dtype=dtype, device=device)\n",
    "print(w)\n",
    "\n",
    "# Set TbT data (64 signals with two components and different amplitudes)\n",
    "t = torch.linspace(1.0, length, length, dtype=dtype, device=device)\n",
    "data = torch.stack([i*torch.sin(2.0*numpy.pi*1*0.12*t) + 0.01*i*torch.sin(2.0*numpy.pi*2*0.12*t) for i in range(1, size + 1)])\n",
    "d = Data.from_data(w, data)\n",
    "print(d)\n",
    "\n",
    "# Initialize Frequency instances with and without padding\n",
    "f1 = Frequency(d, pad=length*2**0)\n",
    "f2 = Frequency(d, pad=length*2**4)\n",
    "print(f1)\n",
    "print(f2)\n",
    "\n",
    "# Apply window (note, window is applied to work)\n",
    "d.window_remove_mean()\n",
    "d.window_apply()\n",
    "\n",
    "# By default FFT frequency estimation is performed using (0.0, 0.5) frequency range.\n",
    "# Explicit range can be passed.\n",
    "\n",
    "# Estimate frequency for explicit frequency range\n",
    "f1('fft', f_range=(0.2, 0.25))\n",
    "f2('fft', f_range=(0.2, 0.25))\n",
    "\n",
    "# Compare results\n",
    "print(torch.abs(f1.frequency.mean() - 0.24))\n",
    "print(torch.abs(f2.frequency.mean() - 0.24))\n",
    "\n",
    "# Clean\n",
    "del w\n",
    "del t, data\n",
    "del d\n",
    "del f1, f2\n",
    "if device != 'cpu':\n",
    "    torch.cuda.synchronize()\n",
    "    torch.cuda.empty_cache()"
   ]
  },
  {
   "cell_type": "markdown",
   "id": "2cac819c",
   "metadata": {
    "heading_collapsed": true,
    "tags": []
   },
   "source": [
    "# Example-05: FFRFT/ZOOM amplitude spectrum"
   ]
  },
  {
   "cell_type": "code",
   "execution_count": 7,
   "id": "36ef9289-a474-4f03-90dc-c933afdb569d",
   "metadata": {},
   "outputs": [
    {
     "name": "stdout",
     "output_type": "stream",
     "text": [
      "Window(1024, 'cosine_window', 1.0)\n",
      "Data(64, Window(1024, 'cosine_window', 1.0))\n",
      "Frequency(Data(64, Window(1024, 'cosine_window', 1.0)), f_range=(0.0, 0.5))\n",
      "tensor([1.191406250000e-01, 1.210918426514e-01], dtype=torch.float64)\n",
      "tensor([1.191406250000e-01, 1.210937500000e-01], dtype=torch.float64)\n",
      "tensor([1.191406250000e-01, 1.210937500000e-01], dtype=torch.float64)\n"
     ]
    },
    {
     "data": {
      "image/png": "[encoded data removed]",
      "text/plain": [
       "<Figure size 1080x360 with 1 Axes>"
      ]
     },
     "metadata": {
      "needs_background": "light"
     },
     "output_type": "display_data"
    },
    {
     "name": "stdout",
     "output_type": "stream",
     "text": [
      "tensor([1.150000000000e-01, 1.249902343750e-01], dtype=torch.float64)\n",
      "tensor([1.150000000000e-01, 1.250000000000e-01], dtype=torch.float64)\n"
     ]
    },
    {
     "data": {
      "image/png": "[encoded data removed]",
      "text/plain": [
       "<Figure size 1080x360 with 1 Axes>"
      ]
     },
     "metadata": {
      "needs_background": "light"
     },
     "output_type": "display_data"
    }
   ],
   "source": [
    "# FFRFT can be used for local DTFT spectrum interpolation\n",
    "\n",
    "# Set parameters (64 signals with length 1024)\n",
    "size, length = 64, 1024\n",
    "\n",
    "# Set window\n",
    "w = Window.from_cosine(length, order=1.0, dtype=dtype, device=device)\n",
    "print(w)\n",
    "\n",
    "# Set TbT data (64 signals with two components and different amplitudes)\n",
    "t = torch.linspace(1.0, length, length, dtype=dtype, device=device)\n",
    "data = torch.stack([i*torch.sin(2.0*numpy.pi*1*0.12*t) + 0.01*i*torch.sin(2.0*numpy.pi*2*0.12*t) for i in range(1, size + 1)])\n",
    "d = Data.from_data(w, data)\n",
    "print(d)\n",
    "\n",
    "# Initialize Frequency instance\n",
    "f = Frequency(d)\n",
    "print(f)\n",
    "\n",
    "# Apply window (note, window is applied to work)\n",
    "d.window_remove_mean()\n",
    "d.window_apply()\n",
    "\n",
    "# Compute FFT amplitude spectrum\n",
    "f.fft_get_spectrum()\n",
    "\n",
    "# By default for FFRFT spectrum, FFT frequency estimation is used\n",
    "# And frequency range is equal to 2 FFT bins around max FFT bin\n",
    "# This can be changed by setting fraction parameter on initialization\n",
    "# Or by setting ffrft_span attibute directry after initialization\n",
    "# Use default value.\n",
    "f.ffrft_span = 2.0/f.length\n",
    "\n",
    "# If ffrft_flag is False, ffrft_initialize_spectrum is invoked\n",
    "# ffrft_flag is set to True, futher calls do not reinitialize FFRFT\n",
    "# No need to initialize for fixed signal length\n",
    "\n",
    "# Compute FFT frequency estimation (used to define FFRFT frequency center)\n",
    "f.fft_get_frequency()\n",
    "\n",
    "# Compute FFRFT amplitude spectrum\n",
    "f.ffrft_get_spectrum()\n",
    "\n",
    "# Note, last point is not included\n",
    "print(torch.stack([f.ffrft_get_grid(0)[0], f.ffrft_get_grid(0)[-1]]))\n",
    "print(torch.stack([f.ffrft_get_grid(0)[0], f.ffrft_get_grid(0)[-1] + f.ffrft_span*f.fft_step]))\n",
    "print(torch.stack([f.fft_frequency[0] - f.fft_step, f.fft_frequency[0] + f.fft_step]))\n",
    "\n",
    "# Plot (log10) FFT spectrum for given signal id\n",
    "idx = 0\n",
    "plt.figure(figsize=(15,5))\n",
    "plt.scatter(f.ffrft_get_grid(idx).cpu(), torch.log10(f.ffrft_spectrum[idx].cpu()), s=0.5, c='r')\n",
    "plt.scatter(f.fft_grid.cpu(), torch.log10(f.fft_spectrum[idx].cpu()), s=5.0, c='b')\n",
    "plt.xlim(0.12 - 0.01, 0.12 + 0.01)\n",
    "plt.ylim(-6.0, 4.0)\n",
    "plt.show()\n",
    "\n",
    "# FFRFT can be used with custom range\n",
    "# In this case all signals share this range, while for the default case, each signal range is defined by its FFT frequency\n",
    "# In all cases range length is the same for all signals\n",
    "\n",
    "# Compute FFRFT amplitude spectrum with custom range\n",
    "# Range (f_min, f_max) = (center - 0.5*span, center + 0.5*span - span/length)\n",
    "f.ffrft_get_spectrum(center=0.12, span=0.01)\n",
    "\n",
    "# Note, last point is not included\n",
    "print(torch.stack([f.ffrft_get_grid(0)[0], f.ffrft_get_grid(0)[-1]]))\n",
    "print(torch.stack([f.ffrft_get_grid(0)[0], f.ffrft_get_grid(0)[-1] + f.ffrft_span*f.fft_step]))\n",
    "\n",
    "# Plot (log10) FFT spectrum for given signal id\n",
    "idx = 0\n",
    "plt.figure(figsize=(15,5))\n",
    "plt.scatter(f.ffrft_get_grid(idx).cpu().numpy(), torch.log10(f.ffrft_spectrum[idx]).cpu().numpy(), s=0.5, c='red')\n",
    "plt.scatter(f.fft_grid.cpu().numpy(), torch.log10(f.fft_spectrum[idx]).cpu().numpy(), s=5.0, c='blue')\n",
    "plt.xlim(0.12 - 0.01, 0.12 + 0.01)\n",
    "plt.ylim(-6.0, 4.0)\n",
    "plt.vlines(0.12, -6.0, 4.0, colors='black', linestyles='dashed')\n",
    "plt.vlines(0.12 - 0.01/2, -6.0, 4.0, colors='black', linestyles='dashed')\n",
    "plt.vlines(0.12 + 0.01/2, -6.0, 4.0, colors='black', linestyles='dashed')\n",
    "plt.show()\n",
    "\n",
    "# Clean\n",
    "del w\n",
    "del t, data\n",
    "del d\n",
    "del f\n",
    "if device != 'cpu':\n",
    "    torch.cuda.synchronize()\n",
    "    torch.cuda.empty_cache()"
   ]
  },
  {
   "cell_type": "markdown",
   "id": "ee7deaa5",
   "metadata": {
    "heading_collapsed": true,
    "tags": []
   },
   "source": [
    "# Example-06: FFRFT/ZOOM frequency estimation"
   ]
  },
  {
   "cell_type": "code",
   "execution_count": 8,
   "id": "0f9161a5-da72-4640-8a12-c5042e31d255",
   "metadata": {},
   "outputs": [
    {
     "name": "stdout",
     "output_type": "stream",
     "text": [
      "Window(1024, 'cosine_window', 1.0)\n",
      "Data(64, Window(1024, 'cosine_window', 1.0))\n",
      "Frequency(Data(64, Window(1024, 'cosine_window', 1.0)), f_range=(0.0, 0.5))\n",
      "Frequency(Data(64, Window(1024, 'cosine_window', 1.0)), f_range=(0.0, 0.5))\n",
      "tensor(1.171875000000e-04, dtype=torch.float64)\n",
      "tensor(4.882812499996e-06, dtype=torch.float64)\n",
      "tensor(8.392333984419e-07, dtype=torch.float64)\n",
      "tensor(1.144409179643e-07, dtype=torch.float64)\n"
     ]
    }
   ],
   "source": [
    "# FFRFT frequency estimation is based on local DTFT spectrum interpolation (near expected global maximum)\n",
    "# By default refined spectum is computed inside two FFT bins around maximum bin\n",
    "# In this case expected frequency error is proportional to 1/n^2\n",
    "\n",
    "# Set parameters (64 signals with length 1024)\n",
    "size, length = 64, 1024\n",
    "\n",
    "# Set window\n",
    "w = Window.from_cosine(length, order=1.0, dtype=dtype, device=device)\n",
    "print(w)\n",
    "\n",
    "# Set TbT data (64 signals with two components and different amplitudes)\n",
    "t = torch.linspace(1.0, length, length, dtype=dtype, device=device)\n",
    "data = torch.stack([i*torch.sin(2.0*numpy.pi*1*0.12*t) + 0.01*i*torch.sin(2.0*numpy.pi*2*0.12*t) for i in range(1, size + 1)])\n",
    "d = Data.from_data(w, data)\n",
    "print(d)\n",
    "\n",
    "# Initialize Frequency instance\n",
    "f1 = Frequency(d)\n",
    "f2 = Frequency(d, pad=8192, fraction=1.0)\n",
    "print(f1)\n",
    "print(f2)\n",
    "\n",
    "# Apply window (note, window is applied to work)\n",
    "d.window_remove_mean()\n",
    "d.window_apply()\n",
    "\n",
    "# Fraction between 1.0-2.0 should be save to use\n",
    "\n",
    "# Estimate frequency, see also task_ffrft\n",
    "f1('ffrft')\n",
    "f2('ffrft')\n",
    "\n",
    "# Compare results FFT & FFRFT estimations\n",
    "print(torch.abs(f1.fft_frequency.mean() - 0.12))\n",
    "print(torch.abs(f2.fft_frequency.mean() - 0.12))\n",
    "print(torch.abs(f1.ffrft_frequency.mean() - 0.12))\n",
    "print(torch.abs(f2.ffrft_frequency.mean() - 0.12))\n",
    "\n",
    "# Clean\n",
    "del w\n",
    "del t, data\n",
    "del d\n",
    "del f1, f2\n",
    "if device != 'cpu':\n",
    "    torch.cuda.synchronize()\n",
    "    torch.cuda.empty_cache()"
   ]
  },
  {
   "cell_type": "markdown",
   "id": "a8ff876c",
   "metadata": {
    "heading_collapsed": true,
    "tags": []
   },
   "source": [
    "# Example-07: Parabola frequency estimation"
   ]
  },
  {
   "cell_type": "code",
   "execution_count": 9,
   "id": "a5843fa3-1372-476d-8c8f-c1046f7126fd",
   "metadata": {},
   "outputs": [
    {
     "name": "stdout",
     "output_type": "stream",
     "text": [
      "Window(1024, 'cosine_window', 1.0)\n",
      "Data(64, Window(1024, 'cosine_window', 1.0))\n",
      "Frequency(Data(64, Window(1024, 'cosine_window', 1.0)), f_range=(0.0, 0.5))\n",
      "tensor(1.171875000000e-04, dtype=torch.float64)\n",
      "tensor(8.392333984419e-07, dtype=torch.float64)\n",
      "tensor(3.024490380366e-11, dtype=torch.float64)\n"
     ]
    }
   ],
   "source": [
    "# Parabola frequency estimation is based on parabolic interpolation of FFRFT amplitude spectrum\n",
    "# Three points are used to locate parabola maximum (FFRFT max bin and two poins around it)\n",
    "# Higher order polynomial can be used or a gradient free bracketing maximum search\n",
    "# Instead of interpolation, a polynomial (e.g. a parabola) can be fitted near the peak maximum\n",
    "# Without noise, parabolic interpolation significantly improves estimation accuracy\n",
    "# Window order impoves accuracy in this case too (flat top)\n",
    "# With noise accuracy gain from parabolic interpolation decreases\n",
    "# Application of window increases noise\n",
    "\n",
    "# Set parameters (64 signals with length 1024)\n",
    "size, length = 64, 1024\n",
    "\n",
    "# Set window\n",
    "w = Window.from_cosine(length, order=1.0, dtype=dtype, device=device)\n",
    "print(w)\n",
    "\n",
    "# Set TbT data (64 signals with two components and different amplitudes)\n",
    "t = torch.linspace(1.0, length, length, dtype=dtype, device=device)\n",
    "data = torch.stack([i*torch.sin(2.0*numpy.pi*1*0.12*t) + 0.01*i*torch.sin(2.0*numpy.pi*2*0.12*t) for i in range(1, size + 1)])\n",
    "d = Data.from_data(w, data)\n",
    "print(d)\n",
    "\n",
    "# Initialize Frequency instance\n",
    "f = Frequency(d)\n",
    "print(f)\n",
    "\n",
    "# Apply window (note, window is applied to work)\n",
    "d.window_remove_mean()\n",
    "d.window_apply()\n",
    "\n",
    "# Estimate frequency, see also task_parabola\n",
    "f('parabola')\n",
    "\n",
    "# Compare results\n",
    "print(torch.abs(torch.mean(f.fft_frequency)-0.12))\n",
    "print(torch.abs(torch.mean(f.ffrft_frequency)-0.12))\n",
    "print(torch.abs(torch.mean(f.parabola_frequency)-0.12))\n",
    "\n",
    "# Clean\n",
    "del w\n",
    "del t, data\n",
    "del d\n",
    "del f\n",
    "if device != 'cpu':\n",
    "    torch.cuda.synchronize()\n",
    "    torch.cuda.empty_cache()"
   ]
  },
  {
   "cell_type": "markdown",
   "id": "9524ff78",
   "metadata": {
    "heading_collapsed": true,
    "tags": []
   },
   "source": [
    "# Example-08: Frequency vs signal start shift"
   ]
  },
  {
   "cell_type": "code",
   "execution_count": 10,
   "id": "392f7692-f124-4122-95ec-a11e7e041199",
   "metadata": {},
   "outputs": [
    {
     "name": "stdout",
     "output_type": "stream",
     "text": [
      "Window(8192, 'cosine_window', 1.0)\n",
      "Data(1, Window(8192, 'cosine_window', 1.0))\n",
      "Data(7169, Window(1024, 'cosine_window', 1.0))\n",
      "Frequency(Data(7169, Window(1024, 'cosine_window', 1.0)), f_range=(0.0, 0.5))\n",
      "tensor(1.171875000000e-04, dtype=torch.float64)\n",
      "tensor(8.392333984419e-07, dtype=torch.float64)\n",
      "tensor(1.861150122906e-13, dtype=torch.float64)\n"
     ]
    },
    {
     "data": {
      "image/png": "[encoded data removed]",
      "text/plain": [
       "<Figure size 1080x360 with 1 Axes>"
      ]
     },
     "metadata": {
      "needs_background": "light"
     },
     "output_type": "display_data"
    },
    {
     "name": "stdout",
     "output_type": "stream",
     "text": [
      "tensor(2.584960914924e-11, dtype=torch.float64)\n"
     ]
    }
   ],
   "source": [
    "# Set parameters (1 signal with length 8192)\n",
    "size, length = 1, 8192\n",
    "\n",
    "# Set window\n",
    "w = Window.from_cosine(length, order=1.0, dtype=dtype, device=device)\n",
    "print(w)\n",
    "\n",
    "# Set TbT data (1 signals with two components)\n",
    "t = torch.linspace(1.0, length, length, dtype=dtype, device=device)\n",
    "data = torch.stack([i*torch.sin(2.0*numpy.pi*1*0.12*t) + 0.01*i*torch.sin(2.0*numpy.pi*2*0.12*t) for i in range(1, size + 1)])\n",
    "d = Data.from_data(w, data)\n",
    "print(d)\n",
    "\n",
    "# Generate matrix shifted signal\n",
    "data = d.make_matrix(1024, 1, d.data[0])\n",
    "w = Window.from_cosine(1024, order=1.0, dtype=dtype, device=device)\n",
    "d = Data.from_data(w, data)\n",
    "print(d)\n",
    "\n",
    "# Initialize Frequency instance\n",
    "f = Frequency(d)\n",
    "print(f)\n",
    "\n",
    "# Apply window (note, window is applied to work)\n",
    "d.window_remove_mean()\n",
    "d.window_apply()\n",
    "\n",
    "# Estimate frequency, see also task_parabola\n",
    "f('parabola')\n",
    "\n",
    "# Compare results\n",
    "print(torch.abs(torch.mean(f.fft_frequency)-0.12))\n",
    "print(torch.abs(torch.mean(f.ffrft_frequency)-0.12))\n",
    "print(torch.abs(torch.mean(f.parabola_frequency)-0.12))\n",
    "\n",
    "# Plot result\n",
    "plt.figure(figsize=(15,5))\n",
    "plt.hist(100*(f.frequency.cpu().numpy()-0.12)/0.12, bins=50, range=(-1.0E-6, +1.0E-6))\n",
    "plt.xlim(-1.0E-6, +1.0E-6)\n",
    "plt.show()\n",
    "\n",
    "# Spread\n",
    "print(f.parabola_frequency.std().cpu())\n",
    "\n",
    "# Clean\n",
    "del w\n",
    "del t, data\n",
    "del d\n",
    "del f\n",
    "if device != 'cpu':\n",
    "    torch.cuda.synchronize()\n",
    "    torch.cuda.empty_cache()"
   ]
  },
  {
   "cell_type": "markdown",
   "id": "32735d0d",
   "metadata": {
    "heading_collapsed": true,
    "tags": []
   },
   "source": [
    "# Example-09: Frequency vs signal start shift (noise)"
   ]
  },
  {
   "cell_type": "code",
   "execution_count": 11,
   "id": "0e71b948-10a2-4a3a-8bca-2d15c8c122a8",
   "metadata": {},
   "outputs": [
    {
     "name": "stdout",
     "output_type": "stream",
     "text": [
      "Window(8192, 'cosine_window', 1.0)\n",
      "Data(1, Window(8192, 'cosine_window', 1.0))\n",
      "Data(7169, Window(1024, 'cosine_window', 1.0))\n",
      "Frequency(Data(7169, Window(1024, 'cosine_window', 1.0)), f_range=(0.0, 0.5))\n",
      "tensor(1.171875000000e-04, dtype=torch.float64)\n",
      "tensor(1.049214683885e-07, dtype=torch.float64)\n",
      "tensor(5.102371344878e-09, dtype=torch.float64)\n"
     ]
    },
    {
     "data": {
      "image/png": "[encoded data removed]",
      "text/plain": [
       "<Figure size 1080x360 with 1 Axes>"
      ]
     },
     "metadata": {
      "needs_background": "light"
     },
     "output_type": "display_data"
    },
    {
     "name": "stdout",
     "output_type": "stream",
     "text": [
      "tensor(3.637049526241e-07, dtype=torch.float64)\n"
     ]
    }
   ],
   "source": [
    "# Set parameters (1 signal with length 8192)\n",
    "size, length = 1, 8192\n",
    "\n",
    "# Set window\n",
    "w = Window.from_cosine(length, order=1.0, dtype=dtype, device=device)\n",
    "print(w)\n",
    "\n",
    "# Set TbT data (1 signals with two components)\n",
    "t = torch.linspace(1.0, length, length, dtype=dtype, device=device)\n",
    "data = torch.stack([i*torch.sin(2.0*numpy.pi*1*0.12*t) + 0.01*i*torch.sin(2.0*numpy.pi*2*0.12*t) for i in range(1, size + 1)])\n",
    "d = Data.from_data(w, data)\n",
    "print(d)\n",
    "\n",
    "# Generate matrix shifted signal\n",
    "data = d.make_matrix(1024, 1, d.data[0])\n",
    "w = Window.from_cosine(1024, order=1.0, dtype=dtype, device=device)\n",
    "d = Data.from_data(w, data)\n",
    "print(d)\n",
    "\n",
    "# Add noise to each signal\n",
    "for i in range(d.size):\n",
    "    d.data[i] += 0.01*torch.randn(d.length, dtype=dtype, device=device)\n",
    "d.reset()\n",
    "\n",
    "# Initialize Frequency instance\n",
    "f = Frequency(d)\n",
    "print(f)\n",
    "\n",
    "# Apply window (note, window is applied to work)\n",
    "d.window_remove_mean()\n",
    "d.window_apply()\n",
    "\n",
    "# Estimate frequency, see also task_parabola\n",
    "f('parabola')\n",
    "\n",
    "# Compare results\n",
    "print(torch.abs(torch.mean(f.fft_frequency)-0.12))\n",
    "print(torch.abs(torch.mean(f.ffrft_frequency)-0.12))\n",
    "print(torch.abs(torch.mean(f.parabola_frequency)-0.12))\n",
    "\n",
    "# Plot result\n",
    "plt.figure(figsize=(15,5))\n",
    "plt.hist(100*(f.frequency.cpu().numpy()-0.12)/0.12, bins=50, range=(-1.0E-3, +1.0E-3))\n",
    "plt.xlim(-1.0E-3, +1.0E-3)\n",
    "plt.show()\n",
    "\n",
    "# Spread\n",
    "print(f.parabola_frequency.std().cpu())\n",
    "\n",
    "# Clean\n",
    "del w\n",
    "del t, data\n",
    "del d\n",
    "del f\n",
    "if device != 'cpu':\n",
    "    torch.cuda.synchronize()\n",
    "    torch.cuda.empty_cache()"
   ]
  },
  {
   "cell_type": "markdown",
   "id": "c4e46a90",
   "metadata": {
    "heading_collapsed": true,
    "tags": []
   },
   "source": [
    "# Example-10: Frequency vs signal start shift (correlated noise)"
   ]
  },
  {
   "cell_type": "code",
   "execution_count": 12,
   "id": "dc2e5cc5-30b9-4e63-99c7-53a690e4febb",
   "metadata": {},
   "outputs": [
    {
     "name": "stdout",
     "output_type": "stream",
     "text": [
      "Window(8192, 'cosine_window', 1.0)\n",
      "Data(1, Window(8192, 'cosine_window', 1.0))\n",
      "Data(7169, Window(1024, 'cosine_window', 1.0))\n",
      "Frequency(Data(7169, Window(1024, 'cosine_window', 1.0)), f_range=(0.0, 0.5))\n",
      "tensor(1.171875000000e-04, dtype=torch.float64)\n",
      "tensor(1.847379825226e-07, dtype=torch.float64)\n",
      "tensor(1.357242358779e-08, dtype=torch.float64)\n"
     ]
    },
    {
     "data": {
      "image/png": "[encoded data removed]",
      "text/plain": [
       "<Figure size 1080x360 with 1 Axes>"
      ]
     },
     "metadata": {
      "needs_background": "light"
     },
     "output_type": "display_data"
    },
    {
     "name": "stdout",
     "output_type": "stream",
     "text": [
      "tensor(3.003414208200e-07, dtype=torch.float64)\n"
     ]
    }
   ],
   "source": [
    "# Set parameters (1 signal with length 8192)\n",
    "size, length = 1, 8192\n",
    "\n",
    "# Set window\n",
    "w = Window.from_cosine(length, order=1.0, dtype=dtype, device=device)\n",
    "print(w)\n",
    "\n",
    "# Set TbT data (1 signals with two components and random noise)\n",
    "t = torch.linspace(1.0, length, length, dtype=dtype, device=device)\n",
    "data = torch.stack([i*torch.sin(2.0*numpy.pi*1*0.12*t) + 0.01*i*torch.sin(2.0*numpy.pi*2*0.12*t) for i in range(1, size + 1)])\n",
    "data += 0.01*torch.randn(length, dtype=dtype, device=device)\n",
    "d = Data.from_data(w, data)\n",
    "print(d)\n",
    "\n",
    "# Generate matrix shifted signal\n",
    "data = d.make_matrix(1024, 1, d.data[0])\n",
    "w = Window.from_cosine(1024, order=1.0, dtype=dtype, device=device)\n",
    "d = Data.from_data(w, data)\n",
    "print(d)\n",
    "\n",
    "# Initialize Frequency instance\n",
    "f = Frequency(d)\n",
    "print(f)\n",
    "\n",
    "# Apply window (note, window is applied to work)\n",
    "d.window_remove_mean()\n",
    "d.window_apply()\n",
    "\n",
    "# Estimate frequency, see also task_parabola\n",
    "f('parabola')\n",
    "\n",
    "# Compare results\n",
    "print(torch.abs(torch.mean(f.fft_frequency)-0.12))\n",
    "print(torch.abs(torch.mean(f.ffrft_frequency)-0.12))\n",
    "print(torch.abs(torch.mean(f.parabola_frequency)-0.12))\n",
    "\n",
    "# Plot result\n",
    "plt.figure(figsize=(15,5))\n",
    "plt.hist(100*(f.frequency.cpu().numpy()-0.12)/0.12, bins=50, range=(-1.0E-3, +1.0E-3))\n",
    "plt.xlim(-1.0E-3, +1.0E-3)\n",
    "plt.show()\n",
    "\n",
    "# Spread\n",
    "print(f.parabola_frequency.std().cpu())\n",
    "\n",
    "# Clean\n",
    "del w\n",
    "del t, data\n",
    "del d\n",
    "del f\n",
    "if device != 'cpu':\n",
    "    torch.cuda.synchronize()\n",
    "    torch.cuda.empty_cache()"
   ]
  },
  {
   "cell_type": "markdown",
   "id": "700e0a0d",
   "metadata": {
    "heading_collapsed": true,
    "tags": []
   },
   "source": [
    "# Example-11: Iterative decomposition"
   ]
  },
  {
   "cell_type": "code",
   "execution_count": 13,
   "id": "4ba9177b-41fd-408a-b842-31e6e005c76c",
   "metadata": {},
   "outputs": [
    {
     "name": "stdout",
     "output_type": "stream",
     "text": [
      "[2.]\n",
      "[0.12 1.   0.1 ]\n",
      "[0.24  0.005 0.01 ]\n",
      "[3.6e-01 1.0e-04 1.0e-05]\n"
     ]
    },
    {
     "data": {
      "image/png": "[encoded data removed]",
      "text/plain": [
       "<Figure size 1080x360 with 1 Axes>"
      ]
     },
     "metadata": {
      "needs_background": "light"
     },
     "output_type": "display_data"
    },
    {
     "name": "stdout",
     "output_type": "stream",
     "text": [
      "9.731337653646109e-11\n"
     ]
    }
   ],
   "source": [
    "# Set parameters\n",
    "size, length = 1, 1024\n",
    "\n",
    "# Set window\n",
    "w = Window.from_cosine(length, order=4.0, dtype=dtype, device=device)\n",
    "\n",
    "# Set data\n",
    "t  = torch.linspace(0.0, length-1, length, dtype=dtype, device=device)\n",
    "data  = 1.0000*torch.cos(2.0*numpy.pi*1*0.12*t) + 0.10000*torch.sin(2.0*numpy.pi*1*0.12*t)\n",
    "data += 0.0050*torch.cos(2.0*numpy.pi*2*0.12*t) + 0.01000*torch.sin(2.0*numpy.pi*2*0.12*t)\n",
    "data += 0.0001*torch.cos(2.0*numpy.pi*3*0.12*t) + 0.00001*torch.sin(2.0*numpy.pi*3*0.12*t)\n",
    "data += 2.0\n",
    "data  = torch.stack([data])\n",
    "d = Data.from_data(w, data)\n",
    "\n",
    "# Compute (window weighted) mean value\n",
    "print(d.window_mean().flatten().cpu().numpy())\n",
    "\n",
    "# Remove (window weighted) mean value\n",
    "# Note, mean is removed from work\n",
    "d.window_remove_mean()\n",
    "d.data.copy_(d.work)\n",
    "\n",
    "# Initialize Frequency instance\n",
    "f = Frequency(d)\n",
    "\n",
    "# Perform decomposition (component-by-component subtraction)\n",
    "for _ in range(3):\n",
    "    \n",
    "    # Remove mean and apply window\n",
    "    d.window_apply()\n",
    "    \n",
    "    # Estimate main harmonic frequency\n",
    "    f('parabola')\n",
    "    frequency = f.frequency[0]\n",
    "    \n",
    "    # Estimate main harmonic parameters\n",
    "    cos = 2.0*torch.dot(d.data[0]*w.window, torch.cos(2.0*numpy.pi*frequency*t))/w.total\n",
    "    sin = 2.0*torch.dot(d.data[0]*w.window, torch.sin(2.0*numpy.pi*frequency*t))/w.total\n",
    "    \n",
    "    # Subtract harmonic\n",
    "    harmonic = cos*torch.cos(2.0*numpy.pi*frequency*t) + sin*torch.sin(2.0*numpy.pi*frequency*t)\n",
    "    d.data.sub_(harmonic)\n",
    "    \n",
    "    # Reset work\n",
    "    d.reset()\n",
    "    \n",
    "    # Print result\n",
    "    print(torch.stack([frequency, cos, sin]).cpu().numpy())\n",
    "    \n",
    "\n",
    "# Plot Residual\n",
    "plt.figure(figsize=(15,5))\n",
    "plt.hist(d.data[0].cpu().numpy(), bins=100, range=(-1.0E-9, +1.0E-9))\n",
    "plt.show()\n",
    "\n",
    "# Residual spread\n",
    "print(d.data.std().item())\n",
    "\n",
    "# Clean\n",
    "del w\n",
    "del t, data\n",
    "del d\n",
    "del f\n",
    "if device != 'cpu':\n",
    "    torch.cuda.synchronize()\n",
    "    torch.cuda.empty_cache()"
   ]
  },
  {
   "cell_type": "markdown",
   "id": "5c51222b",
   "metadata": {
    "heading_collapsed": true,
    "tags": []
   },
   "source": [
    "# Example-12: Joined frequency (direct computation)"
   ]
  },
  {
   "cell_type": "code",
   "execution_count": 14,
   "id": "e4940c39-2b00-48d3-9291-9ae42d9d3f39",
   "metadata": {},
   "outputs": [
    {
     "name": "stdout",
     "output_type": "stream",
     "text": [
      "0.46311690126299115\n",
      "0.4631161977901517\n",
      "7.034728394805789e-07\n",
      "0.4631161977901517\n"
     ]
    }
   ],
   "source": [
    "# Set window\n",
    "w = Window(4096, name='cosine_window', order=1.0, dtype=dtype, device=device)\n",
    "\n",
    "# Load test TbT data from file (linear lattice without noise)\n",
    "d = Data.from_file(54, w, '../virtual_tbt.npy')\n",
    "\n",
    "# Remove mean and apply window\n",
    "d.window_remove_mean()\n",
    "d.window_apply()\n",
    "\n",
    "# Compute reference frequency\n",
    "f = Frequency(d)\n",
    "f('parabola')\n",
    "ref = f.frequency.mean()\n",
    "print(ref.item())\n",
    "\n",
    "# Generate mixed signal\n",
    "keep = 32\n",
    "data = d.data[:, :keep]\n",
    "data = (data - data.mean(1).reshape(-1, 1))/data.std(1).reshape(-1, 1)\n",
    "data = d.make_signal(keep, data)\n",
    "\n",
    "# Generate window and TbT for mixed signal\n",
    "w = Window(len(data), name='cosine_window', order=1.0, dtype=dtype, device=device)\n",
    "d = Data.from_data(w, data.reshape(1, -1))\n",
    "d.window_apply()\n",
    "\n",
    "# Compute frequency\n",
    "f = Frequency(d)\n",
    "f('parabola', f_range=(8.5/54, 8.6/54))\n",
    "res = 9.0 - 54*f.frequency.mean()\n",
    "print(res.item())\n",
    "\n",
    "# Compare\n",
    "print((ref - res).item())\n",
    "\n",
    "# Note, the above is also avalible as a separate method (work container is used)\n",
    "w = Window(4096, name='cosine_window', order=1.0, dtype=dtype, device=device)\n",
    "d = Data.from_file(54, w, '../virtual_tbt.npy')\n",
    "f = Frequency(d)\n",
    "*_, res = 9.0 - f.compute_joined_frequency(length=keep, f_range=(8.5, 8.6), order=1.0)\n",
    "print(res.item())\n",
    "\n",
    "# Clean\n",
    "del w\n",
    "del data\n",
    "del d\n",
    "del f\n",
    "if device != 'cpu':\n",
    "    torch.cuda.synchronize()\n",
    "    torch.cuda.empty_cache()"
   ]
  },
  {
   "cell_type": "markdown",
   "id": "d32219c1",
   "metadata": {
    "heading_collapsed": true,
    "tags": []
   },
   "source": [
    "# Example-13: Mean spectrum"
   ]
  },
  {
   "cell_type": "code",
   "execution_count": 15,
   "id": "6ec9075f-b671-4efe-9ae3-3c20ea290411",
   "metadata": {},
   "outputs": [
    {
     "name": "stdout",
     "output_type": "stream",
     "text": [
      "Window(4096, 'cosine_window', 1.0)\n",
      "Data(54, Window(4096, 'cosine_window', 1.0))\n",
      "Frequency(Data(54, Window(4096, 'cosine_window', 1.0)), f_range=(0.0, 0.5))\n"
     ]
    },
    {
     "data": {
      "image/png": "[encoded data removed]",
      "text/plain": [
       "<Figure size 1080x360 with 1 Axes>"
      ]
     },
     "metadata": {
      "needs_background": "light"
     },
     "output_type": "display_data"
    }
   ],
   "source": [
    "# Set window\n",
    "w = Window(4096, name='cosine_window', order=1.0, dtype=dtype, device=device)\n",
    "print(w)\n",
    "\n",
    "# Load TbT data from file and add noise\n",
    "d = Data.from_file(54, w, '../virtual_tbt.npy')\n",
    "s = 1.0E-4*torch.ones(54, dtype=dtype, device=device)\n",
    "d.add_noise(s)\n",
    "print(d)\n",
    "\n",
    "# Apply window (note, window is applied to work)\n",
    "d.window_remove_mean()\n",
    "d.window_apply()\n",
    "\n",
    "# Initialize Frequency instance\n",
    "f = Frequency(d)\n",
    "print(f)\n",
    "\n",
    "# Compute frequencies\n",
    "# self.frequency container is used for normalization of each signal spectrum\n",
    "f('parabola')\n",
    "\n",
    "# Compute mean spectrum\n",
    "# Note, spectra are not recomputed, normalization and averaging is performed\n",
    "grid, spectrum = f.compute_mean_spectrum(log=False)\n",
    "\n",
    "# Plot mean spectrum\n",
    "plt.figure(figsize=(15,5))\n",
    "plt.xlim(0.3, 0.5)\n",
    "plt.scatter(grid.cpu(), spectrum.cpu(), s=1, c='r')\n",
    "plt.show()\n",
    "\n",
    "# Clean\n",
    "del w\n",
    "del d\n",
    "del f\n",
    "del grid, spectrum\n",
    "if device != 'cpu':\n",
    "    torch.cuda.synchronize()\n",
    "    torch.cuda.empty_cache()"
   ]
  },
  {
   "cell_type": "markdown",
   "id": "cef87545",
   "metadata": {
    "heading_collapsed": true,
    "tags": []
   },
   "source": [
    "# Example-14: Joined spectrum"
   ]
  },
  {
   "cell_type": "code",
   "execution_count": 16,
   "id": "084ca9b9-cda7-4df8-b8b4-12ddfee0a40f",
   "metadata": {},
   "outputs": [
    {
     "name": "stdout",
     "output_type": "stream",
     "text": [
      "Window(4096, 'cosine_window', 1.0)\n",
      "Data(54, Window(4096, 'cosine_window', 1.0))\n",
      "Frequency(Data(54, Window(4096, 'cosine_window', 1.0)), f_range=(0.0, 0.5))\n"
     ]
    },
    {
     "data": {
      "image/png": "[encoded data removed]",
      "text/plain": [
       "<Figure size 1080x216 with 1 Axes>"
      ]
     },
     "metadata": {
      "needs_background": "light"
     },
     "output_type": "display_data"
    },
    {
     "data": {
      "image/png": "[encoded data removed]",
      "text/plain": [
       "<Figure size 1080x216 with 1 Axes>"
      ]
     },
     "metadata": {
      "needs_background": "light"
     },
     "output_type": "display_data"
    },
    {
     "data": {
      "image/png": "[encoded data removed]",
      "text/plain": [
       "<Figure size 1080x216 with 1 Axes>"
      ]
     },
     "metadata": {
      "needs_background": "light"
     },
     "output_type": "display_data"
    }
   ],
   "source": [
    "# Load model data\n",
    "with open('../config.yaml', 'r') as stream:\n",
    "    config = yaml.safe_load(stream)\n",
    "    config = {key: config[key] for key in sorted(config.keys(), key=lambda name: config[name]['TIME'])}\n",
    "\n",
    "# Set normalized positions (used as locations with NUFFT)\n",
    "position = numpy.array([value['TIME'] for key, value in config.items() if value['TYPE'] == 'MONITOR'])/LENGTH\n",
    "\n",
    "# Set normalized accumulated phase advance between given monitor location and the next monitor location (used as locations with NUFFT)\n",
    "phase = numpy.array([value['FX'] for key, value in config.items() if value['TYPE'] == 'MONITOR' or key == 'TAIL'])\n",
    "*_, tune = phase\n",
    "phase = numpy.diff(phase)\n",
    "phase = numpy.cumsum(phase)/tune\n",
    "start, *_ = phase\n",
    "phase = phase - start\n",
    "\n",
    "# Set window\n",
    "w = Window(4096, name='cosine_window', order=1.0, dtype=dtype, device=device)\n",
    "print(w)\n",
    "\n",
    "# Load TbT data from file and add noise\n",
    "d = Data.from_file(54, w, '../virtual_tbt.npy')\n",
    "s = 1.0E-4*torch.ones(54, dtype=dtype, device=device)\n",
    "d.add_noise(s)\n",
    "print(d)\n",
    "\n",
    "# Initialize Frequency instance\n",
    "f = Frequency(d)\n",
    "print(f)\n",
    "\n",
    "# Compute & plot mixed spectrum\n",
    "f_range=(5.0, 10.0)\n",
    "s1 = f.compute_joined_spectrum(length=1024, normalize=True, f_range=f_range, name='cosine_window', order=1.0, position=None)\n",
    "s2 = f.compute_joined_spectrum(length=1024, normalize=True, f_range=f_range, name='cosine_window', order=1.0, position=position)\n",
    "s3 = f.compute_joined_spectrum(length=1024, normalize=True, f_range=f_range, name='cosine_window', order=1.0, position=phase)\n",
    "plt.figure(figsize=(15,3))\n",
    "plt.scatter(*s1, c='red', s=1)\n",
    "plt.show()\n",
    "plt.figure(figsize=(15,3))\n",
    "plt.scatter(*s2, c='blue', s=1)\n",
    "plt.show()\n",
    "plt.figure(figsize=(15,3))\n",
    "plt.scatter(*s3, c='black', s=1)\n",
    "plt.show()\n",
    "\n",
    "# Clean\n",
    "del w\n",
    "del d\n",
    "del f\n",
    "del s1, s2, s3\n",
    "if device != 'cpu':\n",
    "    torch.cuda.synchronize()\n",
    "    torch.cuda.empty_cache()\n",
    "    \n",
    "# s1 -- (red)   pre-normalized mixed signal treated as if it is uniformly sampled\n",
    "# s2 -- (blue)  pre-normalized mixed signal and type-iii nufft with BPM normalized position as location\n",
    "# s3 -- (black) pre-normalized mixed signal and type-iii nufft with BPM normalized accumulated phase as location\n",
    "\n",
    "# As it can be seen, here s1 gives wrong integer part (location of peak with maximum amplitude)\n",
    "# But this is not always the case, filtering by beta function or phase can resolve this\n",
    "\n",
    "# Normalization is performed before to mixing to make mixed signal closer to a stationary one\n",
    "# Another option to reduce the effect of signal being non-stationary is to scale it with beta function\n",
    "# Or to remove BPMs where amplitudes are not close enough, e.g. near IP"
   ]
  },
  {
   "cell_type": "markdown",
   "id": "0b0f3a36",
   "metadata": {
    "heading_collapsed": true,
    "tags": []
   },
   "source": [
    "# Example-15: Joined frequency (method)"
   ]
  },
  {
   "cell_type": "code",
   "execution_count": 17,
   "id": "a6df3845-75d4-41d5-b739-385ae1f7033b",
   "metadata": {},
   "outputs": [
    {
     "name": "stdout",
     "output_type": "stream",
     "text": [
      "Window(4096, 'cosine_window', 2.0)\n",
      "Data(54, Window(4096, 'cosine_window', 2.0))\n",
      "Frequency(Data(54, Window(4096, 'cosine_window', 2.0)), f_range=(0.0, 0.5))\n",
      "8.536883098737361\n",
      "8.536883098737315\n",
      "4.618527782440651e-14\n",
      "3.2377265211256743e-16\n",
      "[8.53125    8.53689236 8.5368838 ]\n",
      "[8.53676896 8.53689084 8.53689098]\n",
      "[8.53676896 8.53687776 8.53687766]\n",
      "[5.63309874e-03 9.26237375e-06 7.03472487e-07]\n",
      "[1.14135217e-04 7.74121759e-06 7.87950808e-06]\n",
      "[1.14135217e-04 5.33493356e-06 5.44336398e-06]\n"
     ]
    }
   ],
   "source": [
    "# Load model data\n",
    "with open('../config.yaml', 'r') as stream:\n",
    "    config = yaml.safe_load(stream)\n",
    "    config = {key: config[key] for key in sorted(config.keys(), key=lambda name: config[name]['TIME'])}\n",
    "\n",
    "# Set normalized positions (used as locations with NUFFT)\n",
    "position = numpy.array([value['TIME'] for key, value in config.items() if value['TYPE'] == 'MONITOR'])/LENGTH\n",
    "\n",
    "# Set normalized accumulated phase advance between given monitor location and the next monitor location (used as locations with NUFFT)\n",
    "phase = numpy.array([value['FX'] for key, value in config.items() if value['TYPE'] == 'MONITOR' or key == 'TAIL'])\n",
    "*_, tune = phase\n",
    "phase = numpy.diff(phase)\n",
    "phase = numpy.cumsum(phase)/tune\n",
    "start, *_ = phase\n",
    "phase = phase - start\n",
    "tune = tune/(2.0*numpy.pi)\n",
    "\n",
    "# Set window\n",
    "w = Window(4096, name='cosine_window', order=2.0, dtype=dtype, device=device)\n",
    "print(w)\n",
    "\n",
    "# Load TbT data from file\n",
    "d = Data.from_file(54, w, '../virtual_tbt.npy')\n",
    "print(d)\n",
    "\n",
    "# Initialize Frequency instance\n",
    "f = Frequency(d)\n",
    "print(f)\n",
    "\n",
    "# Compute reference frequency\n",
    "d.window_remove_mean()\n",
    "d.window_apply()\n",
    "f('parabola')\n",
    "d.reset()\n",
    "mean = 9.0 - torch.mean(f.frequency).item()\n",
    "std = torch.std(f.frequency).item()\n",
    "print(tune)\n",
    "print(mean)\n",
    "print(abs(mean-tune))\n",
    "print(std)\n",
    "\n",
    "# Compute mixed frequencies in given range\n",
    "# Note, for small number of turns, result might be more accurate without window (set order to zero)\n",
    "# For large number of turns 'uniform' case is more accurate (might indicate a numerical problem with nufft)\n",
    "\n",
    "length = 32\n",
    "f1 = f.compute_joined_frequency(length=length, f_range=(8.5,9.0), order=1.0, normalize=True)\n",
    "f2 = f.compute_joined_frequency(length=length, f_range=(8.5,9.0), order=1.0, normalize=True, position=position)\n",
    "f3 = f.compute_joined_frequency(length=length, f_range=(8.5,9.0), order=1.0, normalize=True, position=phase)\n",
    "print(f1.cpu().numpy())\n",
    "print(f2.cpu().numpy())\n",
    "print(f3.cpu().numpy())\n",
    "print((f1 - tune).abs().cpu().numpy())\n",
    "print((f2 - tune).abs().cpu().numpy())\n",
    "print((f3 - tune).abs().cpu().numpy())\n",
    "\n",
    "# Clean\n",
    "del w\n",
    "del d\n",
    "del f\n",
    "del f1, f2, f3\n",
    "if device != 'cpu':\n",
    "    torch.cuda.synchronize()\n",
    "    torch.cuda.empty_cache()"
   ]
  },
  {
   "cell_type": "markdown",
   "id": "1bee56b6",
   "metadata": {
    "heading_collapsed": true,
    "tags": []
   },
   "source": [
    "# Example-16: Joined frequency (method, with noise)"
   ]
  },
  {
   "cell_type": "code",
   "execution_count": 18,
   "id": "f397cc05-7d62-407b-acc7-a784f97d3bb8",
   "metadata": {},
   "outputs": [
    {
     "name": "stdout",
     "output_type": "stream",
     "text": [
      "Window(4096, 'cosine_window', 2.0)\n",
      "Data(54, Window(4096, 'cosine_window', 2.0))\n",
      "Frequency(Data(54, Window(4096, 'cosine_window', 2.0)), f_range=(0.0, 0.5))\n",
      "8.536883098737361\n",
      "8.536883057198231\n",
      "4.1539129469470026e-08\n",
      "3.2311222550728857e-07\n",
      "[8.53125    8.53700087 8.53700979]\n",
      "[8.53705848 8.53696242 8.53696254]\n",
      "[8.53676896 8.53687776 8.53687791]\n",
      "[0.0056331  0.00011777 0.00012669]\n",
      "[1.75384181e-04 7.93247630e-05 7.94458586e-05]\n",
      "[1.14135217e-04 5.33493356e-06 5.18614829e-06]\n"
     ]
    }
   ],
   "source": [
    "# Load model data\n",
    "with open('../config.yaml', 'r') as stream:\n",
    "    config = yaml.safe_load(stream)\n",
    "    config = {key: config[key] for key in sorted(config.keys(), key=lambda name: config[name]['TIME'])}\n",
    "\n",
    "# Set normalized positions (used as locations with NUFFT)\n",
    "position = numpy.array([value['TIME'] for key, value in config.items() if value['TYPE'] == 'MONITOR'])/LENGTH\n",
    "\n",
    "# Set normalized accumulated phase advance between given monitor location and the next monitor location (used as locations with NUFFT)\n",
    "phase = numpy.array([value['FX'] for key, value in config.items() if value['TYPE'] == 'MONITOR' or key == 'TAIL'])\n",
    "*_, tune = phase\n",
    "phase = numpy.diff(phase)\n",
    "phase = numpy.cumsum(phase)/tune\n",
    "start, *_ = phase\n",
    "phase = phase - start\n",
    "tune = tune/(2.0*numpy.pi)\n",
    "\n",
    "# Set window\n",
    "w = Window(4096, name='cosine_window', order=2.0, dtype=dtype, device=device)\n",
    "print(w)\n",
    "\n",
    "# Load TbT data from file and add noise\n",
    "d = Data.from_file(54, w, '../virtual_tbt.npy')\n",
    "s = 1.0E-4*torch.ones(54, dtype=dtype, device=device)\n",
    "d.add_noise(s)\n",
    "d.data.copy_(d.work)\n",
    "print(d)\n",
    "\n",
    "# Initialize Frequency instance\n",
    "f = Frequency(d)\n",
    "print(f)\n",
    "\n",
    "# Compute reference frequency\n",
    "d.window_remove_mean()\n",
    "d.window_apply()\n",
    "f('parabola')\n",
    "d.reset()\n",
    "mean = 9.0 - torch.mean(f.frequency).item()\n",
    "std = torch.std(f.frequency).item()\n",
    "print(tune)\n",
    "print(mean)\n",
    "print(abs(mean-tune))\n",
    "print(std)\n",
    "\n",
    "# Compute mixed frequencies in given range\n",
    "length = 32\n",
    "f1 = f.compute_joined_frequency(length=length, f_range=(8.5,9.0), order=1.0, normalize=True)\n",
    "f2 = f.compute_joined_frequency(length=length, f_range=(8.5,9.0), order=1.0, normalize=True, position=position)\n",
    "f3 = f.compute_joined_frequency(length=length, f_range=(8.5,9.0), order=1.0, normalize=True, position=phase)\n",
    "print(f1.cpu().numpy())\n",
    "print(f2.cpu().numpy())\n",
    "print(f3.cpu().numpy())\n",
    "print((f1 - tune).abs().cpu().numpy())\n",
    "print((f2 - tune).abs().cpu().numpy())\n",
    "print((f3 - tune).abs().cpu().numpy())\n",
    "\n",
    "# Clean\n",
    "del w\n",
    "del d\n",
    "del f\n",
    "del f1, f2, f3\n",
    "if device != 'cpu':\n",
    "    torch.cuda.synchronize()\n",
    "    torch.cuda.empty_cache()"
   ]
  },
  {
   "cell_type": "markdown",
   "id": "a5bcbd33",
   "metadata": {
    "heading_collapsed": true,
    "tags": []
   },
   "source": [
    "# Example-17: Mean spectrum (masked component)\n"
   ]
  },
  {
   "cell_type": "code",
   "execution_count": 19,
   "id": "7e3c2154-5eeb-4e04-b077-0130d4d0b602",
   "metadata": {},
   "outputs": [
    {
     "name": "stdout",
     "output_type": "stream",
     "text": [
      "Window(1024, 'cosine_window', 1.0)\n",
      "Data(128, Window(1024, 'cosine_window', 1.0))\n",
      "Frequency(Data(128, Window(1024, 'cosine_window', 1.0)), f_range=(0.0, 0.5))\n"
     ]
    },
    {
     "data": {
      "image/png": "[encoded data removed]",
      "text/plain": [
       "<Figure size 1080x360 with 1 Axes>"
      ]
     },
     "metadata": {
      "needs_background": "light"
     },
     "output_type": "display_data"
    }
   ],
   "source": [
    "# Set window\n",
    "w = Window(1024, name='cosine_window', order=1.0, dtype=dtype, device=device)\n",
    "print(w)\n",
    "\n",
    "# Set data\n",
    "t = torch.linspace(0.0, len(w)-1.0, len(w), dtype=dtype, device=device)\n",
    "data = torch.cos(2.0*numpy.pi*0.12345*t) + 1.0E-2*torch.cos(2.0*numpy.pi*2.0*0.12345*t)\n",
    "data = torch.stack([data + 5.0E-2*torch.randn(len(w), dtype=dtype, device=device) for _ in range(128)])\n",
    "\n",
    "# Set TbT\n",
    "d = Data.from_data(w, data)\n",
    "print(d)\n",
    "\n",
    "# Apply window (note, window is applied to work)\n",
    "d.window_remove_mean()\n",
    "d.window_apply()\n",
    "\n",
    "# Initialize Frequency instance\n",
    "f = Frequency(d)\n",
    "print(f)\n",
    "\n",
    "# Compute frequencies\n",
    "# self.frequency container is used for normalization of each signal spectrum\n",
    "f('parabola')\n",
    "\n",
    "# Compute mean spectrum\n",
    "# Note, spectra are not recomputed, normalization and averaging is performed\n",
    "grid, spectrum = f.compute_mean_spectrum(log=True)\n",
    "\n",
    "# Plot mean spectrum\n",
    "plt.figure(figsize=(15,5))\n",
    "plt.xlim(0.1, 0.3)\n",
    "plt.ylim(-3.0, 1.0)\n",
    "plt.scatter(grid.cpu().numpy(), spectrum.cpu().numpy(), s=1, c='r')\n",
    "plt.show()\n",
    "\n",
    "# Clean\n",
    "del w\n",
    "del d\n",
    "del f\n",
    "del grid, spectrum\n",
    "if device != 'cpu':\n",
    "    torch.cuda.synchronize()\n",
    "    torch.cuda.empty_cache()"
   ]
  },
  {
   "cell_type": "markdown",
   "id": "074a7e40",
   "metadata": {
    "heading_collapsed": true,
    "tags": []
   },
   "source": [
    "# Example-18: Non-uniform sampling"
   ]
  },
  {
   "cell_type": "code",
   "execution_count": 20,
   "id": "8ff65dfa",
   "metadata": {
    "hidden": true
   },
   "outputs": [
    {
     "data": {
      "image/png": "[encoded data removed]",
      "text/plain": [
       "<Figure size 1080x360 with 1 Axes>"
      ]
     },
     "metadata": {
      "needs_background": "light"
     },
     "output_type": "display_data"
    }
   ],
   "source": [
    "# Uniform sampling (stationary)\n",
    "\n",
    "r = 10\n",
    "l = 8192\n",
    "t = torch.linspace(0.0, 1.0-1.0/r, r, dtype=torch.float64, device='cpu')\n",
    "t = torch.cat([t + i for i in range(l)])\n",
    "\n",
    "a = [1.0, 0.25]\n",
    "f = [1.12345, 3.23456]\n",
    "s = torch.sum(torch.stack([a[i]*torch.cos(2.0*numpy.pi*f[i]*t) for i in range(len(f))]), 0)\n",
    "\n",
    "f_min, f_max = 0.0, 10.0\n",
    "grid = 2.0*numpy.pi*numpy.linspace(f_min, f_max, len(t) + 1)\n",
    "data = nufft.nufft1d3(t, s, grid)\n",
    "\n",
    "plt.figure(figsize=(15, 5))\n",
    "plt.scatter(grid/(2.0*numpy.pi), numpy.abs(data), c='b', s=1)\n",
    "plt.show()"
   ]
  },
  {
   "cell_type": "code",
   "execution_count": 21,
   "id": "0b68412d",
   "metadata": {
    "hidden": true
   },
   "outputs": [
    {
     "data": {
      "image/png": "[encoded data removed]",
      "text/plain": [
       "<Figure size 1080x360 with 1 Axes>"
      ]
     },
     "metadata": {
      "needs_background": "light"
     },
     "output_type": "display_data"
    }
   ],
   "source": [
    "# Non-uniform periodic sampling (stationary)\n",
    "\n",
    "r = 10\n",
    "l = 8192\n",
    "t = torch.sort(torch.rand(r, dtype=torch.float64, device='cpu')).values\n",
    "t = torch.cat([t + i for i in range(l)])\n",
    "\n",
    "a = [1.0, 0.25]\n",
    "f = [1.12345, 3.23456]\n",
    "s = torch.sum(torch.stack([a[i]*torch.cos(2.0*numpy.pi*f[i]*t) for i in range(len(f))]), 0)\n",
    "\n",
    "f_min, f_max = 0.0, 10.0\n",
    "grid = 2.0*numpy.pi*numpy.linspace(f_min, f_max, len(t) + 1)\n",
    "data = nufft.nufft1d3(t, s, grid)\n",
    "\n",
    "plt.figure(figsize=(15, 5))\n",
    "plt.scatter(grid/(2.0*numpy.pi), numpy.abs(data), c='b', s=1)\n",
    "plt.show()"
   ]
  },
  {
   "cell_type": "code",
   "execution_count": 22,
   "id": "75169322",
   "metadata": {
    "hidden": true
   },
   "outputs": [
    {
     "data": {
      "image/png": "[encoded data removed]",
      "text/plain": [
       "<Figure size 1080x360 with 1 Axes>"
      ]
     },
     "metadata": {
      "needs_background": "light"
     },
     "output_type": "display_data"
    }
   ],
   "source": [
    "# Non-uniform random sampling (stationary)\n",
    "\n",
    "r = 10\n",
    "l = 8192\n",
    "t = torch.cat([torch.sort(torch.rand(r, dtype=torch.float64, device='cpu')).values + i for i in range(l)])\n",
    "\n",
    "a = [1.0, 0.25]\n",
    "f = [1.12345, 3.23456]\n",
    "s = torch.sum(torch.stack([a[i]*torch.cos(2.0*numpy.pi*f[i]*t) for i in range(len(f))]), 0)\n",
    "\n",
    "f_min, f_max = 0.0, 10.0\n",
    "grid = 2.0*numpy.pi*numpy.linspace(f_min, f_max, len(t) + 1)\n",
    "data = nufft.nufft1d3(t, s, grid)\n",
    "\n",
    "plt.figure(figsize=(15, 5))\n",
    "plt.scatter(grid/(2.0*numpy.pi), numpy.abs(data), c='b', s=1)\n",
    "plt.show()"
   ]
  },
  {
   "cell_type": "code",
   "execution_count": 23,
   "id": "ed05758b",
   "metadata": {
    "hidden": true
   },
   "outputs": [
    {
     "data": {
      "image/png": "[encoded data removed]",
      "text/plain": [
       "<Figure size 1080x360 with 1 Axes>"
      ]
     },
     "metadata": {
      "needs_background": "light"
     },
     "output_type": "display_data"
    }
   ],
   "source": [
    "# Non-uniform periodic sampling with random choice (stationary)\n",
    "\n",
    "c = 10\n",
    "r = 5*10\n",
    "l = 8192\n",
    "t = torch.sort(torch.rand(r, dtype=torch.float64, device='cpu')).values\n",
    "w = range(r)\n",
    "t = torch.cat([torch.sort(t[numpy.random.choice(w, size=c, replace=False)]).values + i for i in range(l)])\n",
    "\n",
    "a = [1.0, 0.25]\n",
    "f = [1.12345, 3.23456]\n",
    "s = torch.sum(torch.stack([a[i]*torch.cos(2.0*numpy.pi*f[i]*t) for i in range(len(f))]), 0)\n",
    "\n",
    "f_min, f_max = 0.0, 10.0\n",
    "grid = 2.0*numpy.pi*numpy.linspace(f_min, f_max, len(t) + 1)\n",
    "data = nufft.nufft1d3(t, s, grid)\n",
    "\n",
    "plt.figure(figsize=(15, 5))\n",
    "plt.scatter(grid/(2.0*numpy.pi), numpy.abs(data), c='b', s=1)\n",
    "plt.show()"
   ]
  },
  {
   "cell_type": "markdown",
   "id": "f9078d0a",
   "metadata": {
    "heading_collapsed": true,
    "tags": []
   },
   "source": [
    "# Example-19: Joined frequency (threshold)"
   ]
  },
  {
   "cell_type": "code",
   "execution_count": 24,
   "id": "220f7a62-4642-4674-b313-2464810f69e5",
   "metadata": {},
   "outputs": [
    {
     "name": "stdout",
     "output_type": "stream",
     "text": [
      "Window(4096, 'cosine_window', 2.0)\n",
      "Data(52, Window(4096, 'cosine_window', 2.0))\n",
      "Frequency(Data(52, Window(4096, 'cosine_window', 2.0)), f_range=(0.0, 0.5))\n",
      "8.536883098737361\n",
      "8.536883098737315\n",
      "4.618527782440651e-14\n",
      "3.3685495502282104e-16\n",
      "[8.5390625  8.53688401 8.5368831 ]\n",
      "[8.53688956 8.53688005 8.53688005]\n",
      "[8.53688956 8.53688294 8.53688292]\n",
      "[2.17940126e-03 9.15685716e-07 5.51684920e-10]\n",
      "[6.45798691e-06 3.04775408e-06 3.05088603e-06]\n",
      "[6.45798691e-06 1.57647554e-07 1.77992783e-07]\n"
     ]
    }
   ],
   "source": [
    "# Set beta threshold\n",
    "beta = 50.0\n",
    "\n",
    "# Load model data\n",
    "with open('../config.yaml', 'r') as stream:\n",
    "    config = yaml.safe_load(stream)\n",
    "    config = {key: config[key] for key in sorted(config.keys(), key=lambda name: config[name]['TIME'])}\n",
    "\n",
    "# Set normalized positions (used as locations with NUFFT)\n",
    "position = numpy.array([value['TIME'] for key, value in config.items() if value['TYPE'] == 'MONITOR' and value['BX'] <= beta])/LENGTH\n",
    "\n",
    "# Set normalized accumulated phase advance between given monitor location and the next monitor location (used as locations with NUFFT)\n",
    "phase = numpy.array([value['FX'] for key, value in config.items() if (value['TYPE'] == 'MONITOR' and value['BX'] <= beta) or key == 'TAIL'])\n",
    "*_, tune = phase\n",
    "phase = numpy.diff(phase)\n",
    "phase = numpy.cumsum(phase)/tune\n",
    "start, *_ = phase\n",
    "phase = phase - start\n",
    "tune = tune/(2.0*numpy.pi)\n",
    "\n",
    "# Set window\n",
    "w = Window(4096, name='cosine_window', order=2.0, dtype=dtype, device=device)\n",
    "print(w)\n",
    "\n",
    "# Load TbT data from file\n",
    "d = Data.from_file(54, w, '../virtual_tbt.npy')\n",
    "d = Data.from_data(w, torch.stack([signal for (signal, name) in zip(d, config) if config[name]['BX'] <= beta]))\n",
    "print(d)\n",
    "\n",
    "# Initialize Frequenshapeinstance\n",
    "f = Frequency(d)\n",
    "print(f)\n",
    "\n",
    "# Compute reference frequency\n",
    "d.window_remove_mean()\n",
    "d.window_apply()\n",
    "f('parabola')\n",
    "d.reset()\n",
    "mean = 9.0 - torch.mean(f.frequency).item()\n",
    "std = torch.std(f.frequency).item()\n",
    "print(tune)\n",
    "print(mean)\n",
    "print(abs(mean-tune))\n",
    "print(std)\n",
    "\n",
    "# Compute mixed frequencies in given range\n",
    "length = 128\n",
    "f1 = f.compute_joined_frequency(length=length, f_range=(8.0,9.0), order=1.0, normalize=True)\n",
    "f2 = f.compute_joined_frequency(length=length, f_range=(8.0,9.0), order=1.0, normalize=True, position=position)\n",
    "f3 = f.compute_joined_frequency(length=length, f_range=(8.0,9.0), order=1.0, normalize=True, position=phase)\n",
    "print(f1.cpu().numpy())\n",
    "print(f2.cpu().numpy())\n",
    "print(f3.cpu().numpy())\n",
    "print((f1 - tune).abs().cpu().numpy())\n",
    "print((f2 - tune).abs().cpu().numpy())\n",
    "print((f3 - tune).abs().cpu().numpy())\n",
    "\n",
    "# Clean\n",
    "del w\n",
    "del d\n",
    "del f\n",
    "del f1, f2, f3\n",
    "if device != 'cpu':\n",
    "    torch.cuda.synchronize()\n",
    "    torch.cuda.empty_cache()"
   ]
  },
  {
   "cell_type": "markdown",
   "id": "2cc51286",
   "metadata": {
    "heading_collapsed": true,
    "tags": []
   },
   "source": [
    "# Example-20: Uncertainty estimation with error propagation and fit"
   ]
  },
  {
   "cell_type": "code",
   "execution_count": 25,
   "id": "73467532-4308-40b1-8285-378e60f1692e",
   "metadata": {},
   "outputs": [
    {
     "name": "stdout",
     "output_type": "stream",
     "text": [
      "frequency: error=1.97464447654e-07, spread=3.68703324187e-06\n",
      "amplitude: error=0.000172675553047, spread=0.00569927197317\n"
     ]
    }
   ],
   "source": [
    "# Estimate frequency and amplitude uncertainty from multiple noise realizations\n",
    "\n",
    "# Set parameters\n",
    "length = 1024\n",
    "\n",
    "# Set signal (harmonic signal with two components)\n",
    "time = torch.linspace(1, length, length, dtype=dtype, device=device)\n",
    "signal = 1.0*torch.cos(2.0*numpy.pi*0.12345*time) + 0.1*torch.cos(2.0*numpy.pi*2.0*0.12345*time)\n",
    "\n",
    "# Set TbT (signal copies with different noise realizations)\n",
    "std = 0.10\n",
    "w = Window.from_cosine(length, 1.0, dtype=dtype, device=device)\n",
    "data = torch.stack([signal + std*torch.randn(length, dtype=dtype, device=device) for _ in range(1024)])\n",
    "d = Data.from_data(w, data)\n",
    "\n",
    "# Remove mean and apply window\n",
    "d.window_remove_mean()\n",
    "d.window_apply()\n",
    "\n",
    "# Estimate frequency\n",
    "f = Frequency(d)\n",
    "f('parabola')\n",
    "m_f, s_f = f.frequency.mean().cpu().item(), f.frequency.std().cpu().item()\n",
    "\n",
    "# Reset work\n",
    "d.reset()\n",
    "\n",
    "# Print result\n",
    "print(f'frequency: error={abs(0.12345 - m_f):<16.12}, spread={s_f:<16.12}')\n",
    "\n",
    "# Estimate amplitude\n",
    "c = 2.0/w.total*torch.sum(torch.cos(2.0*numpy.pi*m_f*time)*d.data*w.window, 1)\n",
    "s = 2.0/w.total*torch.sum(torch.sin(2.0*numpy.pi*m_f*time)*d.data*w.window, 1)\n",
    "a = torch.sqrt(c*c + s*s)\n",
    "m_a, s_a = a.mean().cpu().item(), a.std().cpu().item()\n",
    "\n",
    "# Print result\n",
    "print(f'amplitude: error={abs(1.0 - m_a):<16.12}, spread={s_a:<16.12}')"
   ]
  },
  {
   "cell_type": "code",
   "execution_count": 26,
   "id": "e3921e97-136a-4bcb-98dc-00e0c4011760",
   "metadata": {},
   "outputs": [
    {
     "name": "stdout",
     "output_type": "stream",
     "text": [
      "0.005699271973172437\n",
      "0.005412658773651815\n"
     ]
    }
   ],
   "source": [
    "# Estimate amplitude uncertainty from one signal using error propagation\n",
    "# Noise sigma is assumed to be known\n",
    "# Frequency uncertainty contribution (generaly small) is ignored here\n",
    "\n",
    "# Amplitude\n",
    "def get_amplitude(frequency, signal):\n",
    "    c = 2.0/w.total*torch.sum(torch.cos(2.0*numpy.pi*frequency*time)*signal*w.window)\n",
    "    s = 2.0/w.total*torch.sum(torch.sin(2.0*numpy.pi*frequency*time)*signal*w.window)\n",
    "    return torch.sqrt(c*c + s*s)\n",
    "\n",
    "# Set signal\n",
    "signal = torch.zeros(length, dtype=dtype, device=device)\n",
    "signal, *_ = d\n",
    "get_amplitude(m_f, signal)\n",
    "signal.requires_grad_(True)\n",
    "signal.grad = None\n",
    "\n",
    "# Set covariance matrix\n",
    "m = std**2 + torch.zeros(length, dtype=dtype, device=device)\n",
    "m = torch.diag(m)\n",
    "\n",
    "# Compute amplitude and gradient\n",
    "a = get_amplitude(m_f, signal)\n",
    "a.backward()\n",
    "g = signal.grad\n",
    "\n",
    "# Compute and compare uncertainty estimation\n",
    "print(s_a)\n",
    "print(torch.sqrt(torch.dot(g, torch.matmul(m, g))).detach().cpu().item())"
   ]
  },
  {
   "cell_type": "code",
   "execution_count": 27,
   "id": "4a34c404-2c1b-4e48-a83b-e3dce06a66be",
   "metadata": {},
   "outputs": [
    {
     "name": "stdout",
     "output_type": "stream",
     "text": [
      "w_min/w_max = 0.9902689388000488\n"
     ]
    },
    {
     "data": {
      "image/png": "[encoded data removed]",
      "text/plain": [
       "<Figure size 1080x360 with 1 Axes>"
      ]
     },
     "metadata": {
      "needs_background": "light"
     },
     "output_type": "display_data"
    },
    {
     "name": "stdout",
     "output_type": "stream",
     "text": [
      "STD: 3.68703324187e-06\n",
      "OLS: 2.50714029293e-06\n",
      "WLS: 2.50714107272e-06\n"
     ]
    }
   ],
   "source": [
    "# Estimate frequency uncertainty from one signal using error propagation\n",
    "# Noise sigma is assumed to be known if used\n",
    "# For frequency, gradient can't be computed directry, since frequency estimation is an argmax problem\n",
    "# In this case, for several frequencies near expected maximum location, corresponding DTFT amplitudes are computed\n",
    "# A parabola can be then fitted and standart errors for coefficients can be estimated\n",
    "# Error propagation can be used for each frequency value (or for minimum location), then (weighted) fit can be used\n",
    "# In this example OLS and WLS are used from statsmodels library\n",
    "# Note, such frequency uncertainty estimation might not br particularly accurate\n",
    "# It depends on selected grid of frequencies\n",
    "# Still, the order of magnitude can be somewhat meaningful\n",
    "\n",
    "# Set a grid of frequencies near expected maximum\n",
    "# Note, here ffrft grid is used for the 1st signal in TbT\n",
    "# Here, grid points within given amplitude threshold\n",
    "\n",
    "limit = 0.995\n",
    "index, *_ = f.ffrft_bin.to(torch.int32)\n",
    "data, *_ = f.ffrft_spectrum\n",
    "grid = f.ffrft_get_grid()[limit*data[index] - data < 0]\n",
    "\n",
    "# Set signal\n",
    "signal = torch.zeros(length, dtype=dtype, device=device)\n",
    "signal, *_ = d\n",
    "signal.requires_grad_(True)\n",
    "\n",
    "# Set covariance matrix\n",
    "m = std**2 + torch.zeros(length, dtype=dtype, device=device)\n",
    "m = torch.diag(m)\n",
    "\n",
    "# Amplitude (log10)\n",
    "def get_amplitude(frequency, signal):\n",
    "    c = 2.0/w.total*torch.sum(torch.cos(2.0*numpy.pi*frequency*time)*signal*w.window)\n",
    "    s = 2.0/w.total*torch.sum(torch.sin(2.0*numpy.pi*frequency*time)*signal*w.window)\n",
    "    return torch.log10(torch.sqrt(c*c + s*s))\n",
    "\n",
    "# Compute amplitude and weight for each frequency\n",
    "X = []\n",
    "y = []\n",
    "weight = []\n",
    "for frequency in grid:\n",
    "    X.append([frequency.cpu().item()**2, frequency.cpu().item(), 1.0])\n",
    "    a = get_amplitude(frequency, signal)\n",
    "    a.backward()\n",
    "    g = signal.grad\n",
    "    y.append(a.cpu().item())\n",
    "    weight.append(1/torch.dot(g, torch.matmul(m, g)).detach().cpu().item())\n",
    "    signal.grad = None\n",
    "    \n",
    "# Note, weights are close to one, i.e. OLS and WLS should be close\n",
    "print(f'w_min/w_max = {min(weight)/max(weight)}')\n",
    "\n",
    "# Plot amplitudes\n",
    "plt.figure(figsize=(15, 5))\n",
    "plt.scatter(grid.cpu(), y - numpy.sqrt(1/numpy.array(weight)), color='red')\n",
    "plt.scatter(grid.cpu(), y, color='blue')\n",
    "plt.scatter(grid.cpu(), y + numpy.sqrt(1/numpy.array(weight)), color='red')\n",
    "plt.show()\n",
    "\n",
    "# Fit\n",
    "from statsmodels.api import OLS, WLS\n",
    "ols = OLS(y, X).fit()\n",
    "wls = WLS(y, X, weights=numpy.array(weight)).fit()\n",
    "\n",
    "# Print results\n",
    "print(f'STD: {s_f:<16.12}')\n",
    "\n",
    "a, b, c = ols.params\n",
    "s_a, s_b, s_c = ols.bse\n",
    "sigma = 1.0/(2.0*a**2)*numpy.sqrt(b**2*s_a**2+a**2*s_b**2)\n",
    "print(f'OLS: {sigma:<16.12}')\n",
    "\n",
    "a, b, c = wls.params\n",
    "s_a, s_b, s_c = ols.bse\n",
    "sigma = 1.0/(2.0*a**2)*numpy.sqrt(b**2*s_a**2+a**2*s_b**2)\n",
    "print(f'WLS: {sigma:<16.12}')\n",
    "\n",
    "# Note, this uncertainty estimation can be used to do weighted fit for different BPMs"
   ]
  },
  {
   "cell_type": "code",
   "execution_count": 28,
   "id": "36e0daaf",
   "metadata": {
    "hidden": true
   },
   "outputs": [
    {
     "name": "stdout",
     "output_type": "stream",
     "text": [
      "                            OLS Regression Results                            \n",
      "==============================================================================\n",
      "Dep. Variable:                      y   R-squared:                       1.000\n",
      "Model:                            OLS   Adj. R-squared:                  1.000\n",
      "Method:                 Least Squares   F-statistic:                 2.425e+09\n",
      "Date:                Mon, 21 Mar 2022   Prob (F-statistic):               0.00\n",
      "Time:                        10:38:38   Log-Likelihood:                 1336.4\n",
      "No. Observations:                  90   AIC:                            -2667.\n",
      "Df Residuals:                      87   BIC:                            -2659.\n",
      "Df Model:                           2                                         \n",
      "Covariance Type:            nonrobust                                         \n",
      "==============================================================================\n",
      "                 coef    std err          t      P>|t|      [0.025      0.975]\n",
      "------------------------------------------------------------------------------\n",
      "x1         -2.928e+05      4.205  -6.96e+04      0.000   -2.93e+05   -2.93e+05\n",
      "x2           7.23e+04      1.038   6.96e+04      0.000    7.23e+04    7.23e+04\n",
      "const      -4462.4367      0.064  -6.96e+04      0.000   -4462.564   -4462.309\n",
      "==============================================================================\n",
      "Omnibus:                        7.092   Durbin-Watson:                   0.036\n",
      "Prob(Omnibus):                  0.029   Jarque-Bera (JB):                6.509\n",
      "Skew:                          -0.613   Prob(JB):                       0.0386\n",
      "Kurtosis:                       3.485   Cond. No.                     4.73e+08\n",
      "==============================================================================\n",
      "\n",
      "Notes:\n",
      "[1] Standard Errors assume that the covariance matrix of the errors is correctly specified.\n",
      "[2] The smallest eigenvalue is 4.09e-16. This might indicate that there are\n",
      "strong multicollinearity problems or that the design matrix is singular.\n"
     ]
    }
   ],
   "source": [
    "print(ols.summary())"
   ]
  },
  {
   "cell_type": "code",
   "execution_count": 29,
   "id": "a6bc4e4e",
   "metadata": {
    "hidden": true
   },
   "outputs": [
    {
     "name": "stdout",
     "output_type": "stream",
     "text": [
      "                            WLS Regression Results                            \n",
      "==============================================================================\n",
      "Dep. Variable:                      y   R-squared:                       1.000\n",
      "Model:                            WLS   Adj. R-squared:                  1.000\n",
      "Method:                 Least Squares   F-statistic:                 2.424e+09\n",
      "Date:                Mon, 21 Mar 2022   Prob (F-statistic):               0.00\n",
      "Time:                        10:38:39   Log-Likelihood:                 1336.4\n",
      "No. Observations:                  90   AIC:                            -2667.\n",
      "Df Residuals:                      87   BIC:                            -2659.\n",
      "Df Model:                           2                                         \n",
      "Covariance Type:            nonrobust                                         \n",
      "==============================================================================\n",
      "                 coef    std err          t      P>|t|      [0.025      0.975]\n",
      "------------------------------------------------------------------------------\n",
      "x1         -2.928e+05      4.205  -6.96e+04      0.000   -2.93e+05   -2.93e+05\n",
      "x2           7.23e+04      1.038   6.96e+04      0.000    7.23e+04    7.23e+04\n",
      "const      -4462.4353      0.064  -6.96e+04      0.000   -4462.563   -4462.308\n",
      "==============================================================================\n",
      "Omnibus:                        7.097   Durbin-Watson:                   0.036\n",
      "Prob(Omnibus):                  0.029   Jarque-Bera (JB):                6.515\n",
      "Skew:                          -0.613   Prob(JB):                       0.0385\n",
      "Kurtosis:                       3.484   Cond. No.                     4.73e+08\n",
      "==============================================================================\n",
      "\n",
      "Notes:\n",
      "[1] Standard Errors assume that the covariance matrix of the errors is correctly specified.\n",
      "[2] The smallest eigenvalue is 7.43e-11. This might indicate that there are\n",
      "strong multicollinearity problems or that the design matrix is singular.\n"
     ]
    }
   ],
   "source": [
    "print(wls.summary())"
   ]
  },
  {
   "cell_type": "markdown",
   "id": "e382bc3f",
   "metadata": {
    "heading_collapsed": true,
    "tags": []
   },
   "source": [
    "# Example-21: Generation and identification of harmonics"
   ]
  },
  {
   "cell_type": "code",
   "execution_count": 30,
   "id": "63913003-b1b9-4e78-bc3a-d3d3a27ff119",
   "metadata": {},
   "outputs": [
    {
     "name": "stdout",
     "output_type": "stream",
     "text": [
      "\n",
      "(0, 1) 0.31\n",
      "(1, 0) 0.12\n",
      "(0, 2) 0.38\n",
      "(1, -1) 0.19\n",
      "(1, 1) 0.43\n",
      "(2, 0) 0.24\n",
      "\n",
      "(0, 1) [0.31, 0.31, 0.0]\n",
      "(1, 0) [0.12, 0.12, 0.0]\n",
      "(0, 2) [0.38, 0.38, 0.0]\n",
      "(1, -1) [0.19, 0.19, 0.0]\n",
      "(1, 1) [0.43, 0.43, 0.0]\n",
      "(2, 0) [0.24, 0.24, 0.0]\n"
     ]
    }
   ],
   "source": [
    "# For phase space of dimension 2N, quasiperiodic orbit contains N fundamental frequencies\n",
    "# Other harmonics are combinations of this fundamental basis\n",
    "\n",
    "# Generate harmonics (real signal with sampling rate equal to one)\n",
    "order = 2\n",
    "basis = [0.12, 0.31]\n",
    "print()\n",
    "for key, value in Frequency.harmonics(order, basis).items():\n",
    "    print(key, value)\n",
    "    \n",
    "# Identify harmonics (for given basis and maximum order find closest harmonic)\n",
    "order = 2\n",
    "basis = [0.12, 0.31]\n",
    "frequencies = Frequency.harmonics(order, basis).values()\n",
    "print()\n",
    "for key, value in Frequency.identify(order, basis, frequencies).items():\n",
    "    print(key, value)"
   ]
  },
  {
   "cell_type": "markdown",
   "id": "49ccac7a",
   "metadata": {
    "heading_collapsed": true,
    "tags": []
   },
   "source": [
    "# Example-22: Fitted frequency (method)"
   ]
  },
  {
   "cell_type": "code",
   "execution_count": 31,
   "id": "ac32153b",
   "metadata": {
    "hidden": true
   },
   "outputs": [],
   "source": [
    "# In this example frequency (and its spread) is estimated for each signal using OLS/WLS fit\n",
    "# Fit for each signal is performed using DTFT spectrum points near the expected maximum\n",
    "# This provides estimation of frequency and its spread for a signal\n",
    "# Data across signals can be used to fit (optionaly with weights) overall frequency\n",
    "\n",
    "# These estimations are compared with estimations from multiple noise realizations\n",
    "# And with estimations from time shifted signals"
   ]
  },
  {
   "cell_type": "code",
   "execution_count": 32,
   "id": "db634e9d-f700-40da-a859-a07a00c3b541",
   "metadata": {},
   "outputs": [
    {
     "name": "stdout",
     "output_type": "stream",
     "text": [
      "0.463116901263  \n",
      "1.22238738968e-16\n"
     ]
    }
   ],
   "source": [
    "# Compute reference frequency\n",
    "# Note, without noise, frequencies for different BPMs are equal within machine precision (for given length and window)\n",
    "\n",
    "# Set parameters (signal length, data type and device)\n",
    "length = 4096\n",
    "\n",
    "# Set window\n",
    "w = Window(length, 'cosine_window', 4.0, dtype=dtype, device=device)\n",
    "\n",
    "# Load TbT\n",
    "d = Data.from_file(54, w, '../virtual_tbt.npy')\n",
    "\n",
    "# Remove mean and apply window\n",
    "d.window_remove_mean()\n",
    "d.window_apply()\n",
    "\n",
    "# Compute reference frequency\n",
    "f = Frequency(d)\n",
    "f('parabola')\n",
    "m_ref, s_ref = f.frequency.mean().cpu().item(), f.frequency.std().cpu().item()\n",
    "\n",
    "# Reset work\n",
    "d.reset()\n",
    "\n",
    "# Print results\n",
    "print(f'{m_ref:<16.12}')\n",
    "print(f'{s_ref:<16.12}')"
   ]
  },
  {
   "cell_type": "code",
   "execution_count": 33,
   "id": "c5adb3a3",
   "metadata": {
    "hidden": true
   },
   "outputs": [],
   "source": [
    "# Set noise parameters\n",
    "\n",
    "# All BPMs have different noise sigma\n",
    "std = 1.0E-4*(4.0*torch.rand(54) + 1.0)\n",
    "\n",
    "# One BPM has increased noise level\n",
    "std[0] = 3.0E-3"
   ]
  },
  {
   "cell_type": "code",
   "execution_count": 34,
   "id": "107b2839-3d75-45ee-8239-18b44a14e3a0",
   "metadata": {},
   "outputs": [
    {
     "data": {
      "image/png": "[encoded data removed]",
      "text/plain": [
       "<Figure size 1080x360 with 1 Axes>"
      ]
     },
     "metadata": {
      "needs_background": "light"
     },
     "output_type": "display_data"
    }
   ],
   "source": [
    "# Estimate spread for different noise realizations\n",
    "\n",
    "# Iterate over noise realizations\n",
    "\n",
    "table = []\n",
    "count = 1024\n",
    "\n",
    "for _ in range(count):\n",
    "    w = Window(1024, 'cosine_window', 1.0, dtype=dtype, device=device)\n",
    "    t = Data.from_data(w, d.data[:, :len(w)])\n",
    "    t.add_noise(std)\n",
    "    t.window_remove_mean()\n",
    "    t.window_apply()\n",
    "    f = Frequency(t)\n",
    "    f('parabola')\n",
    "    table.append(f.frequency)\n",
    "    \n",
    "table = torch.stack(table)\n",
    "\n",
    "# Set mean and spread values for each BPM\n",
    "\n",
    "m1, s1 = table.mean(0).cpu(), table.std(0).cpu()\n",
    "\n",
    "# Plot results\n",
    "\n",
    "plt.figure(figsize=(15, 5))\n",
    "plt.errorbar(range(54), m1, yerr=s1, c='red', fmt='o')\n",
    "plt.ylim((m_ref - 5.0E-5, m_ref + 5.0E-5))\n",
    "plt.hlines(m_ref, -1, 55, colors='black')\n",
    "plt.show()"
   ]
  },
  {
   "cell_type": "code",
   "execution_count": 35,
   "id": "3c3bc76e-2b5e-4d45-a493-9a48e6502133",
   "metadata": {},
   "outputs": [
    {
     "data": {
      "image/png": "[encoded data removed]",
      "text/plain": [
       "<Figure size 1080x360 with 1 Axes>"
      ]
     },
     "metadata": {
      "needs_background": "light"
     },
     "output_type": "display_data"
    },
    {
     "data": {
      "image/png": "[encoded data removed]",
      "text/plain": [
       "<Figure size 1080x360 with 1 Axes>"
      ]
     },
     "metadata": {
      "needs_background": "light"
     },
     "output_type": "display_data"
    }
   ],
   "source": [
    "# Estimate spread from time shifted signals\n",
    "\n",
    "# Load data\n",
    "\n",
    "w = Window(length, dtype=dtype, device=device)\n",
    "d = Data.from_file(54, w, '../virtual_tbt.npy')\n",
    "d.add_noise(std)\n",
    "\n",
    "# Iterate over signals\n",
    "\n",
    "table = []\n",
    "\n",
    "w = Window(1024, dtype=dtype, device=device)\n",
    "for idx in range(d.size):\n",
    "    t = d.make_matrix(length=w.length, shift=16, signal=d.work[idx])\n",
    "    t = Data.from_data(w, t)\n",
    "    t.window_remove_mean()\n",
    "    t.window_apply()\n",
    "    f = Frequency(t)\n",
    "    f('parabola')\n",
    "    table.append(f.frequency)\n",
    "    \n",
    "table = torch.stack(table)\n",
    "\n",
    "# Set mean and spread values for each BPM\n",
    "# Note, spread is computed as std\n",
    "\n",
    "m2, s2 = table.mean(1).cpu(), table.std(1).cpu()\n",
    "\n",
    "# Plot results\n",
    "\n",
    "plt.figure(figsize=(15, 5))\n",
    "plt.errorbar(range(54), m2, yerr=s2, c='red', fmt='o')\n",
    "plt.ylim((m_ref - 5.0E-5, m_ref + 5.0E-5))\n",
    "plt.hlines(m_ref, -1, 55, colors='black')\n",
    "plt.show()\n",
    "\n",
    "# Set mean and spread values for each BPM\n",
    "# Note, spread is computed from  peak-to-peak\n",
    "\n",
    "f_min = table.min(1).values\n",
    "f_max = table.max(1).values\n",
    "\n",
    "m2 = table.mean(1).cpu()\n",
    "s2 = 1/4.0*(f_max - f_min).cpu()\n",
    "\n",
    "# Plot results\n",
    "\n",
    "plt.figure(figsize=(15, 5))\n",
    "plt.errorbar(range(54), m2, yerr=s2, c='red', fmt='o')\n",
    "plt.ylim((m_ref - 5.0E-5, m_ref + 5.0E-5))\n",
    "plt.hlines(m_ref, -1, 55, colors='black')\n",
    "plt.show()"
   ]
  },
  {
   "cell_type": "code",
   "execution_count": 36,
   "id": "281dfd5e-b059-4758-ab54-fd14fa545f1c",
   "metadata": {},
   "outputs": [
    {
     "data": {
      "image/png": "[encoded data removed]",
      "text/plain": [
       "<Figure size 1080x360 with 1 Axes>"
      ]
     },
     "metadata": {
      "needs_background": "light"
     },
     "output_type": "display_data"
    },
    {
     "data": {
      "image/png": "[encoded data removed]",
      "text/plain": [
       "<Figure size 1080x360 with 1 Axes>"
      ]
     },
     "metadata": {
      "needs_background": "light"
     },
     "output_type": "display_data"
    }
   ],
   "source": [
    "# Estimate spread from fit\n",
    "\n",
    "# Load data\n",
    "w = Window(1024, 'cosine_window', 1.0, dtype=dtype, device=device)\n",
    "d = Data.from_file(54, w, '../virtual_tbt.npy')\n",
    "d.add_noise(std)\n",
    "\n",
    "# Remove mean and apply window\n",
    "d.window_remove_mean()\n",
    "d.window_apply()\n",
    "\n",
    "# Compute frequencies\n",
    "f = Frequency(d)\n",
    "f('parabola')\n",
    "\n",
    "# Fit (ols)\n",
    "\n",
    "out = f.compute_fitted_frequency(fraction=0.995, mode='ols')\n",
    "\n",
    "# Set fitted frequencies and spread\n",
    "\n",
    "m3, s3 = out.T.cpu()\n",
    "\n",
    "plt.figure(figsize=(15, 5))\n",
    "plt.errorbar(range(54), m3, yerr=s3, c='red', fmt='o')\n",
    "plt.ylim((m_ref - 5.0E-5, m_ref + 5.0E-5))\n",
    "plt.hlines(m_ref, -1, 55, colors='black')\n",
    "plt.show()\n",
    "\n",
    "# Fit (wls)\n",
    "\n",
    "out = f.compute_fitted_frequency(fraction=0.995, mode='wls', std=std)\n",
    "\n",
    "# Set fitted frequencies and spread\n",
    "\n",
    "m3, s3 = out.T.cpu()\n",
    "\n",
    "plt.figure(figsize=(15, 5))\n",
    "plt.errorbar(range(54), m3, yerr=s3, c='red', fmt='o')\n",
    "plt.ylim((m_ref - 5.0E-5, m_ref + 5.0E-5))\n",
    "plt.hlines(m_ref, -1, 55, colors='black')\n",
    "plt.show()"
   ]
  },
  {
   "cell_type": "code",
   "execution_count": 37,
   "id": "resident-radio",
   "metadata": {
    "hidden": true
   },
   "outputs": [
    {
     "data": {
      "image/png": "[encoded data removed]",
      "text/plain": [
       "<Figure size 1080x216 with 1 Axes>"
      ]
     },
     "metadata": {
      "needs_background": "light"
     },
     "output_type": "display_data"
    },
    {
     "data": {
      "image/png": "[encoded data removed]",
      "text/plain": [
       "<Figure size 1080x216 with 1 Axes>"
      ]
     },
     "metadata": {
      "needs_background": "light"
     },
     "output_type": "display_data"
    },
    {
     "data": {
      "image/png": "[encoded data removed]",
      "text/plain": [
       "<Figure size 1080x216 with 1 Axes>"
      ]
     },
     "metadata": {
      "needs_background": "light"
     },
     "output_type": "display_data"
    }
   ],
   "source": [
    "# Compare\n",
    "\n",
    "plt.figure(figsize=(15, 3))\n",
    "plt.bar(range(54), s1, color='red')\n",
    "plt.ylim((0, 5.0E-5))\n",
    "plt.show()\n",
    "\n",
    "plt.figure(figsize=(15, 3))\n",
    "plt.bar(range(54), s2, color='red')\n",
    "plt.ylim((0, 5.0E-5))\n",
    "plt.show()\n",
    "\n",
    "plt.figure(figsize=(15, 3))\n",
    "plt.bar(range(54), s3, color='red')\n",
    "plt.ylim((0, 5.0E-5))\n",
    "plt.show()"
   ]
  },
  {
   "cell_type": "code",
   "execution_count": 38,
   "id": "exotic-aspect",
   "metadata": {
    "hidden": true
   },
   "outputs": [
    {
     "name": "stdout",
     "output_type": "stream",
     "text": [
      "4.1018163310369005e-09\n",
      "1.8675626711761595e-08\n",
      "9.045846713351402e-07\n"
     ]
    }
   ],
   "source": [
    "# Compare direct mean\n",
    "print(abs(m_ref - m1.mean().cpu().item()))\n",
    "print(abs(m_ref - m2.mean().cpu().item()))\n",
    "print(abs(m_ref - m3.mean().cpu().item()))"
   ]
  },
  {
   "cell_type": "code",
   "execution_count": 39,
   "id": "average-spread",
   "metadata": {
    "hidden": true
   },
   "outputs": [
    {
     "name": "stdout",
     "output_type": "stream",
     "text": [
      "ols: err=4.1018162e-09, std=2.1909895e-08\n",
      "wls: err=8.1721901e-09, std=1.458965e-08\n"
     ]
    }
   ],
   "source": [
    "# Fit frequency for all BPMs\n",
    "\n",
    "from statsmodels.api import OLS, WLS\n",
    "\n",
    "X = numpy.ones(54).reshape(1, 54).T\n",
    "y = m1.numpy()\n",
    "w = (1/s1**2).cpu().numpy()\n",
    "\n",
    "ols1 = OLS(y, X).fit()\n",
    "wls1 = WLS(y, X, w).fit()\n",
    "\n",
    "print(f'ols: err={abs(m_ref - ols1.params.item()):12.8}, std={ols1.bse.item():12.8}')\n",
    "print(f'wls: err={abs(m_ref - wls1.params.item()):12.8}, std={wls1.bse.item():12.8}')"
   ]
  },
  {
   "cell_type": "code",
   "execution_count": 40,
   "id": "ed149867",
   "metadata": {
    "hidden": true
   },
   "outputs": [
    {
     "name": "stdout",
     "output_type": "stream",
     "text": [
      "ols: err=1.8675627e-08, std=7.7448641e-08\n",
      "wls: err=4.7584808e-08, std=4.5879972e-08\n"
     ]
    }
   ],
   "source": [
    "# Fit frequency for all BPMs using 'shifted' weights\n",
    "\n",
    "from statsmodels.api import OLS, WLS\n",
    "\n",
    "X = numpy.ones(54).reshape(1, 54).T\n",
    "y = m2.numpy()\n",
    "w = (1/s2**2).cpu().numpy()\n",
    "\n",
    "ols2 = OLS(y, X).fit()\n",
    "wls2 = WLS(y, X, w).fit()\n",
    "\n",
    "print(f'ols: err={abs(m_ref - ols2.params.item()):12.8}, std={ols2.bse.item():12.8}')\n",
    "print(f'wls: err={abs(m_ref - wls2.params.item()):12.8}, std={wls2.bse.item():12.8}')"
   ]
  },
  {
   "cell_type": "code",
   "execution_count": 41,
   "id": "infinite-image",
   "metadata": {
    "hidden": true
   },
   "outputs": [
    {
     "name": "stdout",
     "output_type": "stream",
     "text": [
      "ols: err=9.0458467e-07, std=8.4238314e-07\n",
      "wls: err=2.3529964e-07, std=5.9677733e-07\n"
     ]
    }
   ],
   "source": [
    "# Fit frequency for all BPMs using 'fitted' weights\n",
    "\n",
    "from statsmodels.api import OLS, WLS\n",
    "\n",
    "X = numpy.ones(54).reshape(1, 54).T\n",
    "y = m3.numpy()\n",
    "w = (1/s3**2).cpu().numpy()\n",
    "\n",
    "ols3 = OLS(y, X).fit()\n",
    "wls3 = WLS(y, X, w).fit()\n",
    "\n",
    "print(f'ols: err={abs(m_ref - ols3.params.item()):12.8}, std={ols3.bse.item():12.8}')\n",
    "print(f'wls: err={abs(m_ref - wls3.params.item()):12.8}, std={wls3.bse.item():12.8}')"
   ]
  },
  {
   "cell_type": "markdown",
   "id": "e5a40ae1",
   "metadata": {
    "heading_collapsed": true,
    "tags": []
   },
   "source": [
    "# Example-23: Envelope and instantaneous frequency"
   ]
  },
  {
   "cell_type": "code",
   "execution_count": 42,
   "id": "0be42961",
   "metadata": {
    "hidden": true
   },
   "outputs": [],
   "source": [
    "# In this example DHT is used to compute signal envelope and instantaneous frequency"
   ]
  },
  {
   "cell_type": "code",
   "execution_count": 43,
   "id": "c9580242",
   "metadata": {
    "hidden": true
   },
   "outputs": [],
   "source": [
    "# Set test signal\n",
    "\n",
    "length = 8192\n",
    "\n",
    "t = torch.linspace(1, length, length, dtype=dtype, device=device)\n",
    "s = torch.exp(-0.0001*t*(1 + 0.25*torch.cos(2*numpy.pi*0.001*t)))*torch.cos(2.0*numpy.pi*0.12345*t).unsqueeze(0)\n",
    "\n",
    "# Compute DHT\n",
    "dht = Frequency.dht(s)\n",
    "\n",
    "# Compute envelope\n",
    "envelope = dht.abs()\n",
    "\n",
    "# Compute instantaneous frequency\n",
    "# Note, length is reduced by one\n",
    "frequency = 1/(2.0*numpy.pi)*(dht[:, :-1]*dht[:, 1:].conj()).angle()"
   ]
  },
  {
   "cell_type": "code",
   "execution_count": 44,
   "id": "5a4ea69c",
   "metadata": {
    "hidden": true
   },
   "outputs": [
    {
     "data": {
      "image/png": "[encoded data removed]",
      "text/plain": [
       "<Figure size 1080x360 with 1 Axes>"
      ]
     },
     "metadata": {
      "needs_background": "light"
     },
     "output_type": "display_data"
    }
   ],
   "source": [
    "# Plot signal and envelope\n",
    "# Note, result is not accurate at both ends\n",
    "plt.figure(figsize=(15,5))\n",
    "plt.scatter(range(length), s[0].cpu().numpy(), c='black', s=0.1)\n",
    "plt.scatter(range(length), envelope[0].cpu().numpy(), c='red', s=0.1)\n",
    "plt.show()"
   ]
  },
  {
   "cell_type": "code",
   "execution_count": 45,
   "id": "a19c6b9c",
   "metadata": {
    "hidden": true
   },
   "outputs": [
    {
     "data": {
      "image/png": "[encoded data removed]",
      "text/plain": [
       "<Figure size 1080x360 with 1 Axes>"
      ]
     },
     "metadata": {
      "needs_background": "light"
     },
     "output_type": "display_data"
    }
   ],
   "source": [
    "# Plot instantaneous frequency\n",
    "# Note, result is not accurate at both ends\n",
    "plt.figure(figsize=(15,5))\n",
    "plt.ylim(0.12345-0.01, 0.12345+0.01)\n",
    "plt.scatter(range(length-1), frequency[0].cpu().numpy(), c='red', s=0.1)\n",
    "plt.hlines(0.12345, 1, length, color='black', linestyles='dashed')\n",
    "plt.show()"
   ]
  },
  {
   "cell_type": "markdown",
   "id": "e741aa9f",
   "metadata": {
    "heading_collapsed": true,
    "tags": []
   },
   "source": [
    "# Example-24: Autocorrelation"
   ]
  },
  {
   "cell_type": "code",
   "execution_count": 46,
   "id": "33f9f34e",
   "metadata": {
    "hidden": true
   },
   "outputs": [
    {
     "data": {
      "image/png": "[encoded data removed]",
      "text/plain": [
       "<Figure size 1080x216 with 1 Axes>"
      ]
     },
     "metadata": {
      "needs_background": "light"
     },
     "output_type": "display_data"
    },
    {
     "data": {
      "image/png": "[encoded data removed]",
      "text/plain": [
       "<Figure size 1080x216 with 1 Axes>"
      ]
     },
     "metadata": {
      "needs_background": "light"
     },
     "output_type": "display_data"
    },
    {
     "data": {
      "image/png": "[encoded data removed]",
      "text/plain": [
       "<Figure size 1080x216 with 1 Axes>"
      ]
     },
     "metadata": {
      "needs_background": "light"
     },
     "output_type": "display_data"
    }
   ],
   "source": [
    "# Compute autocorrelation for harmonic, random noise and 'hidden' harmonic with noise\n",
    "\n",
    "length = 8192\n",
    "\n",
    "s = torch.cos(2.0*numpy.pi*0.12345*torch.linspace(1, length, length, dtype=dtype, device=device)).unsqueeze(0)\n",
    "auto1 = Frequency.autocorrelation(s)\n",
    "plt.figure(figsize=(15, 3))\n",
    "plt.scatter(range(length), auto1[0].cpu().numpy(), c='black', s=0.1)\n",
    "plt.xlim(0, length + 1)\n",
    "plt.ylim(-1.1, 1.1)\n",
    "plt.show()\n",
    "\n",
    "s = torch.randn((1, length), dtype=dtype, device=device)\n",
    "auto2 = Frequency.autocorrelation(s)\n",
    "plt.figure(figsize=(15, 3))\n",
    "plt.scatter(range(length), auto2[0].cpu().numpy(), c='black', s=0.1)\n",
    "plt.xlim(0, length + 1)\n",
    "plt.ylim(-1.1, 1.1)\n",
    "plt.show()\n",
    "\n",
    "s = 0.5*torch.cos(2.0*numpy.pi*0.12345*torch.linspace(1, length, length, dtype=dtype, device=device)).unsqueeze(0)\n",
    "s += torch.randn((1, length), dtype=dtype, device=device)\n",
    "auto3 = Frequency.autocorrelation(s)\n",
    "plt.figure(figsize=(15, 3))\n",
    "plt.scatter(range(length), auto3[0].cpu().numpy(), c='black', s=0.1)\n",
    "plt.xlim(0, length + 1)\n",
    "plt.ylim(-1.1, 1.1)\n",
    "plt.show()"
   ]
  },
  {
   "cell_type": "code",
   "execution_count": 47,
   "id": "beea504c-2600-4587-b290-8ebbce739304",
   "metadata": {},
   "outputs": [
    {
     "name": "stdout",
     "output_type": "stream",
     "text": [
      "[0.12345006 0.30823128 0.12344746]\n"
     ]
    },
    {
     "data": {
      "image/png": "[encoded data removed]",
      "text/plain": [
       "<Figure size 1080x360 with 1 Axes>"
      ]
     },
     "metadata": {
      "needs_background": "light"
     },
     "output_type": "display_data"
    }
   ],
   "source": [
    "# Examine autocorrelation spectrum\n",
    "\n",
    "w = Window.from_cosine(length, 0.0, dtype=dtype, device=device)\n",
    "d = Data.from_data(w, torch.cat([auto1, auto2, auto3]))\n",
    "d.window_remove_mean()\n",
    "d.window_apply()\n",
    "f = Frequency(d)\n",
    "f('parabola')\n",
    "print(f.frequency.cpu().numpy())\n",
    "\n",
    "plt.figure(figsize=(15, 5))\n",
    "plt.scatter(f.fft_grid.cpu().numpy(), (f.fft_spectrum[2]/f.ffrft_spectrum[2].max()).cpu().numpy(), color='blue', s=0.1)\n",
    "plt.scatter(f.fft_grid.cpu().numpy(), (f.fft_spectrum[1]/f.ffrft_spectrum[1].max()).cpu().numpy(), color='red', s=0.1)\n",
    "plt.scatter(f.fft_grid.cpu().numpy(), (f.fft_spectrum[0]/f.ffrft_spectrum[0].max()).cpu().numpy(), color='black', s=0.1)\n",
    "plt.show()"
   ]
  },
  {
   "cell_type": "markdown",
   "id": "69d7b706-2ff4-4bbc-8317-b0878520d014",
   "metadata": {
    "hidden": true,
    "tags": []
   },
   "source": [
    "# Example-25: Frequency from shifted signals (method)"
   ]
  },
  {
   "cell_type": "code",
   "execution_count": 48,
   "id": "c031d8ce-b755-4dd6-b07e-e206f5ab6d4c",
   "metadata": {},
   "outputs": [
    {
     "name": "stdout",
     "output_type": "stream",
     "text": [
      "torch.Size([2, 3969])\n"
     ]
    }
   ],
   "source": [
    "# Set parameters\n",
    "size, length = 2, 2**15\n",
    "\n",
    "# Set window\n",
    "w = Window.from_cosine(length, order=1.0, dtype=dtype, device=device)\n",
    "\n",
    "# Set TbT\n",
    "t = torch.linspace(1, length, length, dtype=dtype, device=device)\n",
    "x = 0.75*torch.cos(2.0*numpy.pi*0.12*t + 0.10)\n",
    "y = 0.50*torch.cos(2.0*numpy.pi*0.31*t + 0.50)\n",
    "d = Data.from_data(w, torch.stack([x, y]))\n",
    "\n",
    "# Add noise\n",
    "d.add_noise(torch.tensor([1.0E-2, 1.0E-4], dtype=dtype, device=device))\n",
    "\n",
    "# Estimate frequency from shifted signals\n",
    "# Note, work is used in task_shift(), window is applied inside\n",
    "f = Frequency(d)\n",
    "out = f.compute_shifted_frequency(1024, 8)\n",
    "print(out.shape)"
   ]
  },
  {
   "cell_type": "code",
   "execution_count": 49,
   "id": "418e347a-9888-4570-8cf3-8385a0355857",
   "metadata": {},
   "outputs": [
    {
     "data": {
      "image/png": "[encoded data removed]",
      "text/plain": [
       "<Figure size 720x360 with 1 Axes>"
      ]
     },
     "metadata": {
      "needs_background": "light"
     },
     "output_type": "display_data"
    },
    {
     "name": "stdout",
     "output_type": "stream",
     "text": [
      "tensor(3.266433389840e-06, dtype=torch.float64)\n"
     ]
    }
   ],
   "source": [
    "# Plot result (1st signal)\n",
    "plt.figure(figsize=(10,5))\n",
    "plt.hist((out[0].cpu().numpy()-0.12)/0.12 * 100, bins=100, range=(-0.005, 0.005))\n",
    "plt.show()\n",
    "print(out[0].max() - out[0].min())"
   ]
  },
  {
   "cell_type": "code",
   "execution_count": 50,
   "id": "b7e31043-7700-4d41-ad5e-c9cedf4cc9ae",
   "metadata": {},
   "outputs": [
    {
     "data": {
      "image/png": "[encoded data removed]",
      "text/plain": [
       "<Figure size 720x360 with 1 Axes>"
      ]
     },
     "metadata": {
      "needs_background": "light"
     },
     "output_type": "display_data"
    },
    {
     "name": "stdout",
     "output_type": "stream",
     "text": [
      "tensor(4.227335731466e-08, dtype=torch.float64)\n"
     ]
    }
   ],
   "source": [
    "# Plot result (2nd signal)\n",
    "plt.figure(figsize=(10,5))\n",
    "plt.hist((out[1].cpu().numpy()-0.31)/0.31 * 100, bins=100, range=(-0.00005, 0.00005))\n",
    "plt.show()\n",
    "print(out[1].max() - out[1].min())"
   ]
  },
  {
   "cell_type": "markdown",
   "id": "8e0a004f-4eb3-4ba6-bc70-32ae5e9aacbf",
   "metadata": {
    "tags": []
   },
   "source": [
    "# Example-26: Frequency estimation from complex data"
   ]
  },
  {
   "cell_type": "code",
   "execution_count": 51,
   "id": "360b421d-aaea-4dc4-9112-939aa25e7686",
   "metadata": {},
   "outputs": [
    {
     "name": "stdout",
     "output_type": "stream",
     "text": [
      "tensor([1.200000000000e-01], dtype=torch.float64)\n",
      "tensor([8.800000000000e-01], dtype=torch.float64)\n"
     ]
    }
   ],
   "source": [
    "# TbT data can be complex, in this case data type should be passed for Data(), Data.from_file() and Data.from_epics\n",
    "\n",
    "# f < 1/2\n",
    "w = Window.from_cosine(4096, 1.0, dtype=torch.float64, device=device)\n",
    "c = torch.cos(2.0*numpy.pi*0.12*torch.linspace(1, w.length, w.length, dtype=torch.complex128, device=device))\n",
    "s = torch.sin(2.0*numpy.pi*0.12*torch.linspace(1, w.length, w.length, dtype=torch.complex128, device=device))\n",
    "d = torch.stack([c + 1j*s])\n",
    "d = Data.from_data(w, d)\n",
    "d.window_apply()\n",
    "f = Frequency(d, f_range=(0.0, 1.0))\n",
    "f('parabola')\n",
    "print(f.frequency)\n",
    "\n",
    "# f > 1/2\n",
    "w = Window.from_cosine(4096, 1.0, dtype=torch.float64, device=device)\n",
    "c = torch.cos(2.0*numpy.pi*0.88*torch.linspace(1, w.length, w.length, dtype=torch.complex128, device=device))\n",
    "s = torch.sin(2.0*numpy.pi*0.88*torch.linspace(1, w.length, w.length, dtype=torch.complex128, device=device))\n",
    "d = torch.stack([c + 1j*s])\n",
    "d = Data.from_data(w, d)\n",
    "d.window_apply()\n",
    "f = Frequency(d, f_range=(0.0, 1.0))\n",
    "f('parabola')\n",
    "print(f.frequency)"
   ]
  },
  {
   "cell_type": "code",
   "execution_count": 52,
   "id": "7fbad994-fdd5-4042-b4ce-3e851f34a260",
   "metadata": {},
   "outputs": [
    {
     "data": {
      "image/png": "[encoded data removed]",
      "text/plain": [
       "<Figure size 1080x360 with 1 Axes>"
      ]
     },
     "metadata": {
      "needs_background": "light"
     },
     "output_type": "display_data"
    },
    {
     "data": {
      "image/png": "[encoded data removed]",
      "text/plain": [
       "<Figure size 1080x360 with 1 Axes>"
      ]
     },
     "metadata": {
      "needs_background": "light"
     },
     "output_type": "display_data"
    }
   ],
   "source": [
    "# Compare amplitude spectrum for real and complex data\n",
    "# Note, correct iflag for nufft is -1 for complex data\n",
    "\n",
    "# Real signal (FFT and NUFFT)\n",
    "w = Window.from_cosine(4096, 1.0, dtype=torch.float64, device=device)\n",
    "c = torch.cos(2.0*numpy.pi*0.88*torch.linspace(1, w.length, w.length, dtype=torch.complex128, device=device))\n",
    "s = torch.sin(2.0*numpy.pi*0.88*torch.linspace(1, w.length, w.length, dtype=torch.complex128, device=device))\n",
    "d = torch.stack([c])\n",
    "d = Data.from_data(w, d)\n",
    "d.window_apply()\n",
    "f1 = Frequency(d, f_range=(0.0, 1.0))\n",
    "f1('parabola')\n",
    "d.reset()\n",
    "g1, s1 = f1.compute_joined_spectrum(length=w.length, f_range=(0.0, 1.0), position=numpy.array([1.0]), iflag=-1)\n",
    "\n",
    "# Complex signal (FFT and NUFFT)\n",
    "w = Window.from_cosine(4096, 1.0, dtype=torch.float64, device=device)\n",
    "c = torch.cos(2.0*numpy.pi*0.88*torch.linspace(1, w.length, w.length, dtype=torch.complex128, device=device))\n",
    "s = torch.sin(2.0*numpy.pi*0.88*torch.linspace(1, w.length, w.length, dtype=torch.complex128, device=device))\n",
    "d = torch.stack([c + 1j*s])\n",
    "d = Data.from_data(w, d)\n",
    "d.window_apply()\n",
    "f2 = Frequency(d, f_range=(0.0, 1.0))\n",
    "f2('parabola')\n",
    "d.reset()\n",
    "g2, s2 = f2.compute_joined_spectrum(length=w.length, f_range=(0.0, 1.0), position=numpy.array([1.0]), iflag=-1)\n",
    "\n",
    "# Plot results (FFT spectum)\n",
    "plt.figure(figsize=(15, 5))\n",
    "plt.scatter(f1.fft_grid.cpu().numpy(), (f1.fft_spectrum[0]/f1.ffrft_spectrum[0].max()).cpu().numpy(), s=50.0, color='black')\n",
    "plt.scatter(f2.fft_grid.cpu().numpy(), (f2.fft_spectrum[0]/f2.ffrft_spectrum[0].max()).cpu().numpy(), s=05.0, color='red')\n",
    "plt.show()\n",
    "\n",
    "# Plot results (NUFFT spectum)\n",
    "plt.figure(figsize=(15, 5))\n",
    "plt.scatter(g1, s1, s=50.0, color='black')\n",
    "plt.scatter(g2, s2, s=05.0, color='red')\n",
    "plt.show()"
   ]
  },
  {
   "cell_type": "code",
   "execution_count": 53,
   "id": "b39b0779-97fb-4209-a4e5-357d6c737a19",
   "metadata": {},
   "outputs": [
    {
     "data": {
      "image/png": "[encoded data removed]",
      "text/plain": [
       "<Figure size 1080x360 with 1 Axes>"
      ]
     },
     "metadata": {
      "needs_background": "light"
     },
     "output_type": "display_data"
    }
   ],
   "source": [
    "# Insert zeros\n",
    "\n",
    "length = 1000\n",
    "signal = torch.cos(2.0*numpy.pi*0.1*torch.linspace(1, length, length, dtype=torch.complex128, device=device))\n",
    "\n",
    "insert = 1\n",
    "\n",
    "mask = torch.zeros(1 + insert, dtype=torch.float64, device=device)\n",
    "mask[0] = 1.0\n",
    "\n",
    "signal = (mask*signal.reshape(-1, 1)).flatten().reshape(1, -1)\n",
    "\n",
    "w = Window.from_cosine(length*(1 + insert), 0.0, dtype=torch.float64, device=device)\n",
    "d = Data.from_data(w, signal)\n",
    "d.window_apply()\n",
    "f = Frequency(d)\n",
    "f('fft')\n",
    "\n",
    "plt.figure(figsize=(15, 5))\n",
    "plt.scatter(f.fft_grid.cpu().numpy()*(1 + insert), f.fft_spectrum[0].cpu().numpy(), color='black')\n",
    "plt.show()"
   ]
  },
  {
   "cell_type": "markdown",
   "id": "7d1acd2f-b240-4451-9587-0cb2114084c8",
   "metadata": {
    "tags": []
   },
   "source": [
    "# Example-27: Frequency loop"
   ]
  },
  {
   "cell_type": "code",
   "execution_count": 1,
   "id": "e929db76-8e09-4f86-b44a-d310e400d973",
   "metadata": {},
   "outputs": [],
   "source": [
    "# In this example the main frequency is estimated using different methods\n",
    "# In all cases window is used and no data filtering is performed (anomaly detection or noise filtering)\n",
    "# Full signal length is 1024 turns"
   ]
  },
  {
   "cell_type": "code",
   "execution_count": 2,
   "id": "1d071f0c-f691-4f94-bbdd-b68bf0fd145b",
   "metadata": {},
   "outputs": [],
   "source": [
    "# Test cases:\n",
    "\n",
    "# 1. Estimate the main frequency for each signal using 'parabola' interpolation of refined amplitude spectrum\n",
    "#    Estimate frequency as mean over signals and spread as standard deviation\n",
    "#    Estimate frequency with OLS fit and spread as OLS standard error\n",
    "\n",
    "# 2. Estimate the main frequency for each signal using 'parabola' interpolation of refined amplitude spectrum\n",
    "#    Estimate noise for each signal using optimal SVD and use it in WLS\n",
    "#    Note, SNR can be used as weights\n",
    "\n",
    "# 3. Estimate the main frequency for each signal using 'parabola' interpolation of refined amplitude spectrum\n",
    "#    Estimate standard error for each signal using OLS or WLS (use noise for weighting)\n",
    "#    Perform WLS fit for the main frequency and its spread\n",
    "\n",
    "# 4. Estimate the main frequency for sampled signals using 'parabola' interpolation of refined amplitude spectrum\n",
    "#    Estimate spread for each signal using standard deviation in sample frequencies\n",
    "#    Perform WLS fit for the main frequency and its spread\n",
    "\n",
    "# 5. Estimate the main frequency for sampled signals using 'parabola' interpolation of refined amplitude spectrum\n",
    "#    Estimate noise for each sample, WLS fit to estimate sample spread\n",
    "#    WLS fit samples to estimate the signal frequency and its spread\n",
    "#    WLS fit signals to estimate the main frequency and its spread"
   ]
  },
  {
   "cell_type": "code",
   "execution_count": 3,
   "id": "e5ae9785-fc3d-4437-b1e2-98c0d01d17a0",
   "metadata": {},
   "outputs": [
    {
     "name": "stdout",
     "output_type": "stream",
     "text": [
      "True\n",
      "6\n"
     ]
    }
   ],
   "source": [
    "# Import\n",
    "\n",
    "import epics\n",
    "import numpy\n",
    "import pandas\n",
    "import torch\n",
    "import nufft\n",
    "\n",
    "import sys\n",
    "sys.path.append('..')\n",
    "\n",
    "from harmonica.util import LENGTH\n",
    "from harmonica.statistics import weighted_mean, weighted_variance\n",
    "from harmonica.window import Window\n",
    "from harmonica.data import Data\n",
    "from harmonica.frequency import Frequency\n",
    "from harmonica.filter import Filter\n",
    "\n",
    "from statsmodels.api import OLS, WLS\n",
    "\n",
    "import matplotlib.pyplot as plt\n",
    "\n",
    "torch.set_printoptions(precision=12, sci_mode=True)\n",
    "print(torch.cuda.is_available())\n",
    "print(torch.get_num_threads())"
   ]
  },
  {
   "cell_type": "code",
   "execution_count": 4,
   "id": "266530b0-eeca-4e32-b95b-afe784aa3c06",
   "metadata": {},
   "outputs": [],
   "source": [
    "# Set data type and device\n",
    "\n",
    "dtype = torch.float64\n",
    "device = 'cpu'"
   ]
  },
  {
   "cell_type": "code",
   "execution_count": 5,
   "id": "72456a66-bd68-451c-8b3e-003f660f44f8",
   "metadata": {},
   "outputs": [
    {
     "name": "stdout",
     "output_type": "stream",
     "text": [
      "0.463116901     \n",
      "2.30523602e-16  \n"
     ]
    }
   ],
   "source": [
    "# Reference case\n",
    "\n",
    "# Set parameters\n",
    "length = 1024\n",
    "\n",
    "# Set window\n",
    "w = Window(length, 'cosine_window', 5.0, dtype=dtype, device=device)\n",
    "\n",
    "# Load TbT\n",
    "d = Data.from_file(54, w, '../virtual_tbt.npy')\n",
    "\n",
    "# Remove mean and apply window\n",
    "d.window_remove_mean()\n",
    "d.window_apply()\n",
    "\n",
    "# Compute reference frequency\n",
    "f = Frequency(d)\n",
    "f('parabola')\n",
    "f_ref, s_ref = f.frequency.mean().cpu().item(), f.frequency.std().cpu().item()\n",
    "\n",
    "# Reset work\n",
    "d.reset()\n",
    "\n",
    "# Print results\n",
    "print(f'{f_ref:<16.9}')\n",
    "print(f'{s_ref:<16.9}')"
   ]
  },
  {
   "cell_type": "code",
   "execution_count": 6,
   "id": "a4a4e602-e779-406d-af52-b71ca2c8fbfa",
   "metadata": {},
   "outputs": [
    {
     "name": "stdout",
     "output_type": "stream",
     "text": [
      "torch.Size([54, 1024])\n"
     ]
    }
   ],
   "source": [
    "# Set data with noise\n",
    "\n",
    "# Generate noise sigma for each signal\n",
    "std = 1.0E-6*(25.0 + 75.0*torch.rand(54, dtype=dtype, device=device))\n",
    "\n",
    "# Set test data\n",
    "d.reset()\n",
    "d.add_noise(std)\n",
    "data = d.work\n",
    "print(data.shape)\n",
    "\n",
    "# Set spike\n",
    "data[1, 128] += 0.5\n",
    "data[1, 256] -= 0.5"
   ]
  },
  {
   "cell_type": "code",
   "execution_count": 7,
   "id": "1e4ca2a5-c895-4c9e-b0ce-560fce27c792",
   "metadata": {},
   "outputs": [
    {
     "name": "stdout",
     "output_type": "stream",
     "text": [
      "err: 3.03304109e-06  , std: 2.2206638e-05   \n",
      "err: 3.03304109e-06  , std: 3.02194066e-06  \n"
     ]
    }
   ],
   "source": [
    "# Estimate the main frequency for each signal using 'parabola' interpolation of refined amplitude spectrum\n",
    "# Estimate frequency as mean over signal and spread as standard deviation\n",
    "# Estimate frequency with OLS fit and spread as OLS standard error\n",
    "\n",
    "# Set data\n",
    "w = Window(length, 'cosine_window', 1.0, dtype=dtype, device=device)\n",
    "t = Data.from_data(w, data)\n",
    "\n",
    "# Estimate frequency\n",
    "t.window_remove_mean()\n",
    "t.window_apply()\n",
    "f = Frequency(t)\n",
    "f('parabola')\n",
    "t.reset()\n",
    "\n",
    "# Estimate the main frequency and its spread using mean and standard deviation\n",
    "f_out = f.frequency.mean().cpu().item()\n",
    "s_out = f.frequency.std().cpu().item()\n",
    "f_1, s_1 = f_out, s_out\n",
    "print(f'err: {abs(f_out - f_ref):<16.9}, std: {s_out:<16.9}')\n",
    "\n",
    "# Estimate the main frequency and its spread using OLS fit\n",
    "x = numpy.ones((54, 1))\n",
    "y = f.frequency.cpu().numpy()\n",
    "out = OLS(y, x).fit()\n",
    "f_out = out.params.item()\n",
    "s_out = out.bse.item()\n",
    "f_2, s_2 = f_out, s_out\n",
    "print(f'err: {abs(f_out - f_ref):<16.9}, std: {s_out:<16.9}')"
   ]
  },
  {
   "cell_type": "code",
   "execution_count": 8,
   "id": "58a53c6d-ff19-4376-a214-61bf8e5bfdd9",
   "metadata": {},
   "outputs": [
    {
     "data": {
      "image/png": "[encoded data removed]",
      "text/plain": [
       "<Figure size 1080x360 with 1 Axes>"
      ]
     },
     "metadata": {
      "needs_background": "light"
     },
     "output_type": "display_data"
    },
    {
     "name": "stdout",
     "output_type": "stream",
     "text": [
      "err: 1.19164092e-08  , std: 8.59925182e-08  \n"
     ]
    }
   ],
   "source": [
    "# Estimate the main frequency for each signal using 'parabola' interpolation of refined amplitude spectrum\n",
    "# Estimate noise for each signal using optimal SVD and use it in WLS fit as weight\n",
    "\n",
    "# Set data\n",
    "w = Window(length, 'cosine_window', 1.0, dtype=dtype, device=device)\n",
    "t = Data.from_data(w, data)\n",
    "\n",
    "# Estimate frequency\n",
    "t.window_remove_mean()\n",
    "t.window_apply()\n",
    "f = Frequency(t)\n",
    "f('parabola')\n",
    "t.reset()\n",
    "\n",
    "# Estimate noise\n",
    "l = Filter(t)\n",
    "_, s = l.estimate_noise(limit=32)\n",
    "\n",
    "# Plot estimated noise and true noise\n",
    "plt.figure(figsize=(15, 5))\n",
    "plt.scatter(range(54), std.cpu()*1.0E+6, color='black')\n",
    "plt.scatter(range(54), s.cpu()*1.0E+6, color='red', s=5)\n",
    "plt.show()\n",
    "\n",
    "# Estimate the main frequency and its spread using WLS fit\n",
    "x = numpy.ones((54, 1))\n",
    "y = f.frequency.cpu().numpy()\n",
    "w = (1/s**2).cpu().numpy()\n",
    "out = WLS(y, x, w).fit()\n",
    "f_out = out.params.item()\n",
    "s_out = out.bse.item()\n",
    "f_3, s_3 = f_out, s_out\n",
    "print(f'err: {abs(f_out - f_ref):<16.9}, std: {s_out:<16.9}')"
   ]
  },
  {
   "cell_type": "code",
   "execution_count": 9,
   "id": "1c45f515-0d95-40a3-bb94-58d1213390a2",
   "metadata": {},
   "outputs": [
    {
     "name": "stdout",
     "output_type": "stream",
     "text": [
      "err: 1.19164092e-08  , std: 6.35885288e-07  \n",
      "err: 4.30653129e-08  , std: 5.27620102e-07  \n"
     ]
    }
   ],
   "source": [
    "# Use weighted mean and variance estimation\n",
    "\n",
    "# Use estimated noise for weighting\n",
    "weight = 1/s**2\n",
    "print(f'err: {abs(weighted_mean(f.frequency, weight=weight).cpu().item() - f_ref):<16.9}, std: {weighted_variance(f.frequency, weight=weight).sqrt().cpu().item():<16.9}')\n",
    "\n",
    "# Use SNR for weighting\n",
    "weight = 1/s**2*torch.stack([spectrum[index] for index, spectrum in zip(f.ffrft_bin.to(torch.int64), f.ffrft_spectrum)])**2\n",
    "print(f'err: {abs(weighted_mean(f.frequency, weight=weight).cpu().item() - f_ref):<16.9}, std: {weighted_variance(f.frequency, weight=weight).sqrt().cpu().item():<16.9}')"
   ]
  },
  {
   "cell_type": "code",
   "execution_count": 10,
   "id": "61a62e87-9a54-4483-b511-dd0f46059c55",
   "metadata": {},
   "outputs": [
    {
     "data": {
      "image/png": "[encoded data removed]",
      "text/plain": [
       "<Figure size 1080x216 with 1 Axes>"
      ]
     },
     "metadata": {
      "needs_background": "light"
     },
     "output_type": "display_data"
    },
    {
     "name": "stdout",
     "output_type": "stream",
     "text": [
      "err: 1.10103289e-07  , std: 1.05963235e-07  \n"
     ]
    },
    {
     "data": {
      "image/png": "[encoded data removed]",
      "text/plain": [
       "<Figure size 1080x216 with 1 Axes>"
      ]
     },
     "metadata": {
      "needs_background": "light"
     },
     "output_type": "display_data"
    },
    {
     "name": "stdout",
     "output_type": "stream",
     "text": [
      "err: 1.10120801e-07  , std: 1.05956196e-07  \n"
     ]
    }
   ],
   "source": [
    "# Estimate the main frequency for each signal using 'parabola' interpolation of refined amplitude spectrum\n",
    "# Estimate standard error for each signal using OLS/WLS\n",
    "# Perform WLS fit for the main frequency and its spread\n",
    "\n",
    "# Set data\n",
    "w = Window(length, 'cosine_window', 1.0, dtype=dtype, device=device)\n",
    "t = Data.from_data(w, data)\n",
    "\n",
    "# Estimate frequency\n",
    "t.window_remove_mean()\n",
    "t.window_apply()\n",
    "f = Frequency(t)\n",
    "f('parabola')\n",
    "t.reset()\n",
    "\n",
    "# Estimate noise\n",
    "l = Filter(t)\n",
    "_, s = l.estimate_noise(limit=32)\n",
    "\n",
    "# OLS\n",
    "f_out, s_out = f.compute_fitted_frequency(mode='ols').T\n",
    "plt.figure(figsize=(15, 3))\n",
    "plt.hlines(f_ref, 0, 53, color='black')\n",
    "plt.errorbar(range(54), f_out.cpu().numpy(), yerr=s_out.cpu().numpy(), color='red')\n",
    "plt.show()\n",
    "x = numpy.ones((54, 1))\n",
    "y = f_out.cpu().numpy()\n",
    "w = (1/s_out**2).cpu().numpy()\n",
    "out = WLS(y, x, w).fit()\n",
    "f_out = out.params.item()\n",
    "s_out = out.bse.item()\n",
    "f_4, s_4 = f_out, s_out\n",
    "print(f'err: {abs(f_out - f_ref):<16.9}, std: {s_out:<16.9}')\n",
    "\n",
    "# WLS\n",
    "f_out, s_out = f.compute_fitted_frequency(mode='wls', std=s).T\n",
    "plt.figure(figsize=(15, 3))\n",
    "plt.hlines(f_ref, 0, 53, color='black')\n",
    "plt.errorbar(range(54), f_out.cpu().numpy(), yerr=s_out.cpu().numpy(), color='red')\n",
    "plt.show()\n",
    "x = numpy.ones((54, 1))\n",
    "y = f_out.cpu().numpy()\n",
    "w = (1/s_out**2).cpu().numpy()\n",
    "out = WLS(y, x, w).fit()\n",
    "f_out = out.params.item()\n",
    "s_out = out.bse.item()\n",
    "f_5, s_5 = f_out, s_out\n",
    "print(f'err: {abs(f_out - f_ref):<16.9}, std: {s_out:<16.9}')"
   ]
  },
  {
   "cell_type": "code",
   "execution_count": 11,
   "id": "67a25fa1-a32d-4b78-840a-4a096c2301a7",
   "metadata": {},
   "outputs": [
    {
     "data": {
      "image/png": "[encoded data removed]",
      "text/plain": [
       "<Figure size 1080x216 with 1 Axes>"
      ]
     },
     "metadata": {
      "needs_background": "light"
     },
     "output_type": "display_data"
    },
    {
     "name": "stdout",
     "output_type": "stream",
     "text": [
      "err: 1.02803926e-07  , std: 7.71951912e-08  \n"
     ]
    }
   ],
   "source": [
    "# Estimate the main frequency for sampled signals using 'parabola' interpolation of refined amplitude spectrum\n",
    "# Estimate spread for each signal using standard deviation in sample frequencies\n",
    "# Perform WLS fit for the main frequency and its spread\n",
    "\n",
    "# Set data\n",
    "w = Window(length, 'cosine_window', 1.0, dtype=dtype, device=device)\n",
    "t = Data.from_data(w, data)\n",
    "\n",
    "# Estimate frequency\n",
    "t.window_remove_mean()\n",
    "t.window_apply()\n",
    "f = Frequency(t)\n",
    "f('parabola')\n",
    "t.reset()\n",
    "\n",
    "# Estimated frequency for sampled data\n",
    "out = f.compute_shifted_frequency(512, 8)\n",
    "f_out = out.mean(1)\n",
    "s_out = out.std(1)\n",
    "plt.figure(figsize=(15, 3))\n",
    "plt.hlines(f_ref, 0, 53, color='black')\n",
    "plt.errorbar(range(54), f_out.cpu().numpy(), yerr=s_out.cpu().numpy(), color='red')\n",
    "plt.show()\n",
    "\n",
    "# WLS fit\n",
    "x = numpy.ones((54, 1))\n",
    "y = f_out.cpu().numpy()\n",
    "w = (1/s_out**2).cpu().numpy()\n",
    "out = WLS(y, x, w).fit()\n",
    "f_out = out.params.item()\n",
    "s_out = out.bse.item()\n",
    "f_6, s_6 = f_out, s_out\n",
    "print(f'err: {abs(f_out - f_ref):<16.9}, std: {s_out:<16.9}')"
   ]
  },
  {
   "cell_type": "code",
   "execution_count": 12,
   "id": "353ded69-8877-41e6-b7c4-cff7d8b1e0d6",
   "metadata": {},
   "outputs": [
    {
     "data": {
      "image/png": "[encoded data removed]",
      "text/plain": [
       "<Figure size 1080x216 with 1 Axes>"
      ]
     },
     "metadata": {
      "needs_background": "light"
     },
     "output_type": "display_data"
    },
    {
     "name": "stdout",
     "output_type": "stream",
     "text": [
      "err: 9.79603005e-08  , std: 7.7823384e-08   \n"
     ]
    }
   ],
   "source": [
    "# Estimate the main frequency for sampled signals using 'parabola' interpolation of refined amplitude spectrum\n",
    "# Estimate noise for each sample, WLS fit to estimate sample spread\n",
    "# WLS fit samples to estimate signal frequency and its spread\n",
    "# WLS fit signals to estimate the main frequency and its spread\n",
    "\n",
    "# Set data\n",
    "w = Window(length, 'cosine_window', 1.0, dtype=dtype, device=device)\n",
    "t = Data.from_data(w, data)\n",
    "\n",
    "# Sample data\n",
    "w = Window(512, 'cosine_window', 1.0, dtype=dtype, device=device)\n",
    "t = Data.from_data(w, torch.cat([t.make_matrix(512, 8, t.work[i]) for i in range(54)]))\n",
    "n = t.size//54\n",
    "\n",
    "# Estimate noise for all samples\n",
    "l = Filter(t)\n",
    "_, s = l.estimate_noise(limit=32)\n",
    "\n",
    "# Plot noise estimation for signal with spike\n",
    "plt.figure(figsize=(15, 3))\n",
    "plt.scatter(range(n), s.cpu().reshape(54, -1)[1], color='red')\n",
    "plt.show()\n",
    "\n",
    "# Estimate frequency for each sample\n",
    "t.window_remove_mean()\n",
    "t.window_apply()\n",
    "f = Frequency(t)\n",
    "f('parabola')\n",
    "t.reset()\n",
    "\n",
    "# WLS fit samples\n",
    "f_out = f.frequency.reshape(54, -1)\n",
    "s_out = s.reshape(54, -1)\n",
    "table = []\n",
    "for i in range(54):\n",
    "    x = numpy.ones((n, 1))\n",
    "    y = f_out[i].cpu().numpy()\n",
    "    w = (1/s_out[i]**2).cpu().numpy()\n",
    "    out = WLS(y, x, w).fit()\n",
    "    table.append([out.params.item(), out.bse.item()])\n",
    "    \n",
    "f_out, s_out = numpy.array(table).T\n",
    "\n",
    "# WLS fit signals\n",
    "x = numpy.ones((54, 1))\n",
    "y = f_out\n",
    "w = (1/s_out**2)\n",
    "out = WLS(y, x, w).fit()\n",
    "f_out = out.params.item()\n",
    "s_out = out.bse.item()\n",
    "f_7, s_7 = f_out, s_out\n",
    "print(f'err: {abs(f_out - f_ref):<16.9}, std: {s_out:<16.9}')"
   ]
  },
  {
   "cell_type": "code",
   "execution_count": 13,
   "id": "70dca74b-ef66-4d71-8e56-085a311fa1aa",
   "metadata": {},
   "outputs": [
    {
     "name": "stdout",
     "output_type": "stream",
     "text": [
      "case: 1, err: 3.03304109e-06  , std: 2.2206638e-05   \n",
      "case: 2, err: 3.03304109e-06  , std: 3.02194066e-06  \n",
      "case: 3, err: 1.19164092e-08  , std: 8.59925182e-08  \n",
      "case: 4, err: 1.10103289e-07  , std: 1.05963235e-07  \n",
      "case: 5, err: 1.10120801e-07  , std: 1.05956196e-07  \n",
      "case: 6, err: 1.02803926e-07  , std: 7.71951912e-08  \n",
      "case: 7, err: 9.79603005e-08  , std: 7.7823384e-08   \n"
     ]
    }
   ],
   "source": [
    "# Compare results\n",
    "\n",
    "# 1 -- mean & std over signals\n",
    "# 2 -- OLS fit over signals\n",
    "# 3 -- WLS fit over signals using estimated noise as weight\n",
    "# 4 -- OLS fit for signal, WLS fit over signals\n",
    "# 5 -- WLS fit for signal, WLS fit over signals\n",
    "# 6 -- mean & std over samples, WLS fit over signals\n",
    "# 7 -- WLS fit over samples, WLS fit over signals\n",
    "\n",
    "print(f'case: 1, err: {abs(f_1 - f_ref):<16.9}, std: {s_1:<16.9}')\n",
    "print(f'case: 2, err: {abs(f_2 - f_ref):<16.9}, std: {s_2:<16.9}')\n",
    "print(f'case: 3, err: {abs(f_3 - f_ref):<16.9}, std: {s_3:<16.9}')\n",
    "print(f'case: 4, err: {abs(f_4 - f_ref):<16.9}, std: {s_4:<16.9}')\n",
    "print(f'case: 5, err: {abs(f_5 - f_ref):<16.9}, std: {s_5:<16.9}')\n",
    "print(f'case: 6, err: {abs(f_6 - f_ref):<16.9}, std: {s_6:<16.9}')\n",
    "print(f'case: 7, err: {abs(f_7 - f_ref):<16.9}, std: {s_7:<16.9}')"
   ]
  },
  {
   "cell_type": "code",
   "execution_count": 14,
   "id": "4a2c827f-7512-4254-b980-2ae389ba7647",
   "metadata": {},
   "outputs": [
    {
     "name": "stdout",
     "output_type": "stream",
     "text": [
      "err: 5.93681511e-08  , std: 2.48064206e-06  \n",
      "err: 2.97916518e-08  , std: 1.09890647e-06  \n"
     ]
    }
   ],
   "source": [
    "# Weighted mean & variance\n",
    "\n",
    "# Do over samples\n",
    "# Gives more realistic error estimation\n",
    "\n",
    "amplitude = torch.stack([spectrum[index] for index, spectrum in zip(f.ffrft_bin.to(torch.int64), f.ffrft_spectrum)])**2\n",
    "\n",
    "f_out = f.frequency\n",
    "s_out = s\n",
    "\n",
    "center = weighted_mean(f_out, weight=1/s_out**2)\n",
    "spread = weighted_variance(f_out, weight=1/s_out**2, center=center).sqrt()\n",
    "print(f'err: {abs(center.item() - f_ref):<16.9}, std: {spread.item():<16.9}')\n",
    "\n",
    "center = weighted_mean(f_out, weight=amplitude**2/s_out**2)\n",
    "spread = weighted_variance(f_out, weight=amplitude**2/s_out**2, center=center).sqrt()\n",
    "print(f'err: {abs(center.item() - f_ref):<16.9}, std: {spread.item():<16.9}')"
   ]
  },
  {
   "cell_type": "code",
   "execution_count": 15,
   "id": "b1b322b1-b6f3-4d26-8d16-49f1834e8a63",
   "metadata": {},
   "outputs": [
    {
     "data": {
      "image/png": "[encoded data removed]",
      "text/plain": [
       "<Figure size 1080x216 with 1 Axes>"
      ]
     },
     "metadata": {
      "needs_background": "light"
     },
     "output_type": "display_data"
    },
    {
     "name": "stdout",
     "output_type": "stream",
     "text": [
      "err: 9.78593315e-08  , std: 5.87129578e-07  \n"
     ]
    }
   ],
   "source": [
    "# Weighted mean & variance\n",
    "\n",
    "# Do over samples for each signal, do over signals\n",
    "# Gives more realistic error estimation\n",
    "\n",
    "amplitude = torch.stack([spectrum[index] for index, spectrum in zip(f.ffrft_bin.to(torch.int64), f.ffrft_spectrum)])**2\n",
    "\n",
    "f_out = f.frequency.reshape(54, -1)\n",
    "s_out = s.reshape(54, -1)\n",
    "\n",
    "center = weighted_mean(f_out, weight=amplitude.reshape(54, -1)/s_out**2)\n",
    "spread = weighted_variance(f_out, weight=amplitude.reshape(54, -1)/s_out**2, center=center).sqrt()\n",
    "plt.figure(figsize=(15, 3))\n",
    "plt.errorbar(range(54), center.cpu().numpy(), yerr=spread.cpu().numpy(), fmt=' ', color='red', marker='x')\n",
    "center, spread = weighted_mean(center, weight=1/spread**2), weighted_variance(center, weight=1/spread**2).sqrt()\n",
    "plt.hlines(center.cpu().item() - spread.cpu().item(), 0, 53, color='blue')\n",
    "plt.hlines(center.cpu().item(), 0, 53, color='blue')\n",
    "plt.hlines(center.cpu().item() + spread.cpu().item(), 0, 53, color='blue')\n",
    "plt.hlines(f_ref, 0, 53, color='black')\n",
    "plt.show()\n",
    "\n",
    "print(f'err: {abs(center.item() - f_ref):<16.9}, std: {spread.item():<16.9}')"
   ]
  },
  {
   "cell_type": "markdown",
   "id": "59a7438f-6b45-4e3a-8801-399d00d48bd2",
   "metadata": {},
   "source": [
    "# Example-28: Additional frequency processing"
   ]
  },
  {
   "cell_type": "code",
   "execution_count": 1,
   "id": "71bfc7f9-a7e1-4229-a74e-1eee5da7b7ab",
   "metadata": {},
   "outputs": [],
   "source": [
    "# In this example frequency and noise are computed for signals and samples\n",
    "# Noise is used for weighting (or SNR)\n",
    "# Weighted mean and variance are compared with regular mean and variance\n",
    "# Outlies (signals or samples) are detected using different dispersion estimations\n",
    "# Dispersion can be estimated with variance, weighted variance, biweight midvariance or interquatile range\n",
    "# Data points outside given threshold (scaled dispersion) are considered to be outliers\n",
    "\n",
    "# Different center and dispersion estimators are defined in harmonica.statistics\n",
    "# Including trimmed and winsorized variants for mean and variance (not used in this example)\n",
    "\n",
    "# Note, biweight midvariance or interquatile range are robust dispersion estimators, can be used when weights are not avalible"
   ]
  },
  {
   "cell_type": "code",
   "execution_count": 2,
   "id": "35cb2c77-3676-4fe0-9321-4c92d1f5441e",
   "metadata": {},
   "outputs": [
    {
     "name": "stdout",
     "output_type": "stream",
     "text": [
      "True\n",
      "6\n"
     ]
    }
   ],
   "source": [
    "# Import\n",
    "\n",
    "import epics\n",
    "import numpy\n",
    "import pandas\n",
    "import torch\n",
    "import nufft\n",
    "\n",
    "import sys\n",
    "sys.path.append('..')\n",
    "\n",
    "from harmonica.util import LENGTH, make_mark, make_mask\n",
    "\n",
    "from harmonica.window import Window\n",
    "from harmonica.data import Data\n",
    "from harmonica.frequency import Frequency\n",
    "from harmonica.filter import Filter\n",
    "\n",
    "from harmonica.statistics import mean, variance\n",
    "from harmonica.statistics import weighted_mean, weighted_variance\n",
    "from harmonica.statistics import median, biweight_midvariance\n",
    "from harmonica.statistics import quantile, quartiles, interquartile_range, whiskers\n",
    "\n",
    "from harmonica.anomaly import threshold\n",
    "\n",
    "import matplotlib.pyplot as plt\n",
    "\n",
    "torch.set_printoptions(precision=12, sci_mode=True)\n",
    "print(torch.cuda.is_available())\n",
    "print(torch.get_num_threads())"
   ]
  },
  {
   "cell_type": "code",
   "execution_count": 3,
   "id": "dde9999a-bdc0-4c11-b72a-2c142cdc5c19",
   "metadata": {},
   "outputs": [],
   "source": [
    "# Set data type and device\n",
    "\n",
    "dtype = torch.float64\n",
    "device = 'cpu'"
   ]
  },
  {
   "cell_type": "code",
   "execution_count": 4,
   "id": "e890cf9c-c173-41cb-bc4f-1186857e4320",
   "metadata": {},
   "outputs": [
    {
     "name": "stdout",
     "output_type": "stream",
     "text": [
      "0.463116901     \n",
      "2.30523602e-16  \n"
     ]
    }
   ],
   "source": [
    "# Reference case\n",
    "\n",
    "# Set parameters\n",
    "length = 1024\n",
    "\n",
    "# Set window\n",
    "w = Window(length, 'cosine_window', 5.0, dtype=dtype, device=device)\n",
    "\n",
    "# Load TbT\n",
    "d = Data.from_file(54, w, '../virtual_tbt.npy')\n",
    "\n",
    "# Remove mean and apply window\n",
    "d.window_remove_mean()\n",
    "d.window_apply()\n",
    "\n",
    "# Compute reference frequency\n",
    "f = Frequency(d)\n",
    "f('parabola')\n",
    "f_ref, s_ref = f.frequency.mean().cpu().item(), f.frequency.std().cpu().item()\n",
    "\n",
    "# Reset work\n",
    "d.reset()\n",
    "\n",
    "# Print results\n",
    "print(f'{f_ref:<16.9}')\n",
    "print(f'{s_ref:<16.9}')"
   ]
  },
  {
   "cell_type": "code",
   "execution_count": 5,
   "id": "158827e8-3a09-4353-b011-b795752b14b7",
   "metadata": {},
   "outputs": [
    {
     "name": "stdout",
     "output_type": "stream",
     "text": [
      "torch.Size([54, 1024])\n"
     ]
    }
   ],
   "source": [
    "# Set data with noise\n",
    "\n",
    "# Generate noise sigma for each signal\n",
    "std = 1.0E-6*(25.0 + 75.0*torch.rand(54, dtype=dtype, device=device))\n",
    "\n",
    "# Set test data\n",
    "d.reset()\n",
    "d.add_noise(std)\n",
    "data = d.work\n",
    "print(data.shape)\n",
    "\n",
    "# Set spike\n",
    "data[1, 128] += 0.5\n",
    "data[1, 256] -= 0.5\n",
    "data[25, 128] += 0.25\n",
    "data[25, 256] -= 0.25"
   ]
  },
  {
   "cell_type": "code",
   "execution_count": 6,
   "id": "57b3fe7e-c913-4c1d-8c27-27955a7b0f99",
   "metadata": {},
   "outputs": [
    {
     "data": {
      "image/png": "[encoded data removed]",
      "text/plain": [
       "<Figure size 1080x216 with 1 Axes>"
      ]
     },
     "metadata": {
      "needs_background": "light"
     },
     "output_type": "display_data"
    },
    {
     "name": "stdout",
     "output_type": "stream",
     "text": [
      "err: 1.45984812e-06  , std: 2.63229837e-05  \n",
      "err: 2.88144492e-07  , std: 7.03062784e-07  \n"
     ]
    }
   ],
   "source": [
    "# Estimate the main frequency for each signal using 'parabola' interpolation of refined amplitude spectrum\n",
    "# Estimate noise for each signal using optimal SVD\n",
    "\n",
    "# Set data\n",
    "w = Window(length, 'cosine_window', 1.0, dtype=dtype, device=device)\n",
    "t = Data.from_data(w, data)\n",
    "\n",
    "# Estimate noise\n",
    "l = Filter(t)\n",
    "_, s = l.estimate_noise(limit=32)\n",
    "\n",
    "# Estimate frequency\n",
    "t.window_remove_mean()\n",
    "t.window_apply()\n",
    "f = Frequency(t)\n",
    "f('parabola')\n",
    "t.reset()\n",
    "\n",
    "# Set weight\n",
    "weight = 1.0/s**2*torch.stack([spectrum[index] for index, spectrum in zip(f.ffrft_bin.to(torch.int64), f.ffrft_spectrum)])**2\n",
    "\n",
    "# Plot frequencies for each signal\n",
    "plt.figure(figsize=(15, 3))\n",
    "plt.scatter(range(f.size), f.frequency.cpu().numpy(), color='red', marker='o')\n",
    "plt.hlines(f_ref, 0, f.size - 1, color='black')\n",
    "plt.show()\n",
    "\n",
    "# Mean & variance\n",
    "f_out = mean(f.frequency)\n",
    "s_out = variance(f.frequency).sqrt()\n",
    "print(f'err: {abs(f_out - f_ref):<16.9}, std: {s_out:<16.9}')\n",
    "\n",
    "# Weighted mean & variance\n",
    "f_out = weighted_mean(f.frequency, weight=weight)\n",
    "s_out = weighted_variance(f.frequency, weight=weight).sqrt()\n",
    "print(f'err: {abs(f_out - f_ref):<16.9}, std: {s_out:<16.9}')"
   ]
  },
  {
   "cell_type": "code",
   "execution_count": 7,
   "id": "299ca7fc-312d-4452-949b-5d008945548c",
   "metadata": {},
   "outputs": [
    {
     "data": {
      "image/png": "[encoded data removed]",
      "text/plain": [
       "<Figure size 1080x216 with 1 Axes>"
      ]
     },
     "metadata": {
      "needs_background": "light"
     },
     "output_type": "display_data"
    },
    {
     "name": "stdout",
     "output_type": "stream",
     "text": [
      "err: 1.58571727e-06  , std: 1.3989887e-05   \n",
      "err: 2.88136873e-07  , std: 7.02135668e-07  \n"
     ]
    }
   ],
   "source": [
    "# Use mean and variance to remove outliers\n",
    "\n",
    "time = torch.tensor(range(f.size), dtype=dtype, device=device)\n",
    "\n",
    "factor = 5.0\n",
    "center = mean(f.frequency)\n",
    "spread = factor*variance(f.frequency).sqrt()\n",
    "min_value, max_value = center - spread, center + spread\n",
    "mask = threshold(f.frequency, min_value, max_value).squeeze(0)\n",
    "\n",
    "plt.figure(figsize=(15, 3))\n",
    "plt.scatter(time[~mask].cpu().numpy(), f.frequency[~mask].cpu().numpy(), color='red', marker='o')\n",
    "plt.scatter(time[mask].cpu().numpy(), f.frequency[mask].cpu().numpy(), color='blue', marker='o')\n",
    "plt.hlines(center.cpu().numpy(), 0, f.size - 1, color='black')\n",
    "plt.hlines(center.cpu().numpy() - spread.cpu().numpy(), 0, f.size - 1, color='blue')\n",
    "plt.hlines(center.cpu().numpy() + spread.cpu().numpy(), 0, f.size - 1, color='blue')\n",
    "plt.show()\n",
    "\n",
    "# Mean & variance\n",
    "f_out = mean(f.frequency[mask])\n",
    "s_out = variance(f.frequency[mask]).sqrt()\n",
    "print(f'err: {abs(f_out - f_ref):<16.9}, std: {s_out:<16.9}')\n",
    "\n",
    "# Weighted mean & variance\n",
    "weight = 1.0/s**2*torch.stack([spectrum[index] for index, spectrum in zip(f.ffrft_bin.to(torch.int64), f.ffrft_spectrum)])**2\n",
    "f_out = weighted_mean(f.frequency, weight=weight*mask)\n",
    "s_out = weighted_variance(f.frequency, weight=weight*mask).sqrt()\n",
    "print(f'err: {abs(f_out - f_ref):<16.9}, std: {s_out:<16.9}')"
   ]
  },
  {
   "cell_type": "code",
   "execution_count": 8,
   "id": "e4b30e47-06c2-479b-8444-097ffb263142",
   "metadata": {},
   "outputs": [
    {
     "data": {
      "image/png": "[encoded data removed]",
      "text/plain": [
       "<Figure size 1080x216 with 1 Axes>"
      ]
     },
     "metadata": {
      "needs_background": "light"
     },
     "output_type": "display_data"
    },
    {
     "name": "stdout",
     "output_type": "stream",
     "text": [
      "err: 3.30151392e-07  , std: 1.09578054e-06  \n",
      "err: 2.88225514e-07  , std: 6.95364814e-07  \n"
     ]
    }
   ],
   "source": [
    "# Use weighted mean and variance to remove outliers\n",
    "\n",
    "time = torch.tensor(range(f.size), dtype=dtype, device=device)\n",
    "\n",
    "factor = 5.0\n",
    "center = weighted_mean(f.frequency, weight=weight)\n",
    "spread = factor*weighted_variance(f.frequency, weight=weight).sqrt()\n",
    "min_value, max_value = center - spread, center + spread\n",
    "mask = threshold(f.frequency, min_value, max_value).squeeze(0)\n",
    "\n",
    "plt.figure(figsize=(15, 3))\n",
    "plt.scatter(time[~mask].cpu().numpy(), f.frequency[~mask].cpu().numpy(), color='red', marker='o')\n",
    "plt.scatter(time[mask].cpu().numpy(), f.frequency[mask].cpu().numpy(), color='blue', marker='o')\n",
    "plt.hlines(center.cpu().numpy(), 0, f.size - 1, color='black')\n",
    "plt.hlines(center.cpu().numpy() - spread.cpu().numpy(), 0, f.size - 1, color='blue')\n",
    "plt.hlines(center.cpu().numpy() + spread.cpu().numpy(), 0, f.size - 1, color='blue')\n",
    "plt.show()\n",
    "\n",
    "# Mean & variance\n",
    "f_out = mean(f.frequency[mask])\n",
    "s_out = variance(f.frequency[mask]).sqrt()\n",
    "print(f'err: {abs(f_out - f_ref):<16.9}, std: {s_out:<16.9}')\n",
    "\n",
    "# Weighted mean & variance\n",
    "weight = 1.0/s**2*torch.stack([spectrum[index] for index, spectrum in zip(f.ffrft_bin.to(torch.int64), f.ffrft_spectrum)])**2\n",
    "f_out = weighted_mean(f.frequency, weight=weight*mask)\n",
    "s_out = weighted_variance(f.frequency, weight=weight*mask).sqrt()\n",
    "print(f'err: {abs(f_out - f_ref):<16.9}, std: {s_out:<16.9}')"
   ]
  },
  {
   "cell_type": "code",
   "execution_count": 9,
   "id": "fd60cd67-412d-4ada-a90f-a99e5170639b",
   "metadata": {},
   "outputs": [
    {
     "data": {
      "image/png": "[encoded data removed]",
      "text/plain": [
       "<Figure size 1080x216 with 1 Axes>"
      ]
     },
     "metadata": {
      "needs_background": "light"
     },
     "output_type": "display_data"
    },
    {
     "name": "stdout",
     "output_type": "stream",
     "text": [
      "err: 3.30151392e-07  , std: 1.09578054e-06  \n",
      "err: 2.88225514e-07  , std: 6.95364814e-07  \n"
     ]
    }
   ],
   "source": [
    "# Use median and biweight midvariance to remove outliers\n",
    "\n",
    "time = torch.tensor(range(f.size), dtype=dtype, device=device)\n",
    "\n",
    "factor = 5.0\n",
    "center = median(f.frequency)\n",
    "spread = factor*biweight_midvariance(f.frequency).sqrt()\n",
    "min_value, max_value = center - spread, center + spread\n",
    "mask = threshold(f.frequency, min_value, max_value).squeeze(0)\n",
    "\n",
    "plt.figure(figsize=(15, 3))\n",
    "plt.scatter(time[~mask].cpu().numpy(), f.frequency[~mask].cpu().numpy(), color='red', marker='o')\n",
    "plt.scatter(time[mask].cpu().numpy(), f.frequency[mask].cpu().numpy(), color='blue', marker='o')\n",
    "plt.hlines(center.cpu().numpy(), 0, f.size - 1, color='black')\n",
    "plt.hlines(center.cpu().numpy() - spread.cpu().numpy(), 0, f.size - 1, color='blue')\n",
    "plt.hlines(center.cpu().numpy() + spread.cpu().numpy(), 0, f.size - 1, color='blue')\n",
    "plt.show()\n",
    "\n",
    "# Mean & variance\n",
    "f_out = mean(f.frequency[mask])\n",
    "s_out = variance(f.frequency[mask]).sqrt()\n",
    "print(f'err: {abs(f_out - f_ref):<16.9}, std: {s_out:<16.9}')\n",
    "\n",
    "# Weighted mean & variance\n",
    "weight = 1.0/s**2*torch.stack([spectrum[index] for index, spectrum in zip(f.ffrft_bin.to(torch.int64), f.ffrft_spectrum)])**2\n",
    "f_out = weighted_mean(f.frequency, weight=weight*mask)\n",
    "s_out = weighted_variance(f.frequency, weight=weight*mask).sqrt()\n",
    "print(f'err: {abs(f_out - f_ref):<16.9}, std: {s_out:<16.9}')"
   ]
  },
  {
   "cell_type": "code",
   "execution_count": 10,
   "id": "cffdc400-6b63-48ee-822c-36c742ee2cc6",
   "metadata": {},
   "outputs": [
    {
     "data": {
      "image/png": "[encoded data removed]",
      "text/plain": [
       "<Figure size 1080x216 with 1 Axes>"
      ]
     },
     "metadata": {
      "needs_background": "light"
     },
     "output_type": "display_data"
    },
    {
     "name": "stdout",
     "output_type": "stream",
     "text": [
      "err: 3.30151392e-07  , std: 1.09578054e-06  \n",
      "err: 2.88225514e-07  , std: 6.95364814e-07  \n"
     ]
    }
   ],
   "source": [
    "# Use quantiles to remove outliers\n",
    "\n",
    "time = torch.tensor(range(f.size), dtype=dtype, device=device)\n",
    "\n",
    "factor = 5.0\n",
    "center = median(f.frequency)\n",
    "value_min, value_max = whiskers(f.frequency, factor=factor)\n",
    "mask = threshold(f.frequency, min_value, max_value).squeeze(0)\n",
    "\n",
    "plt.figure(figsize=(15, 3))\n",
    "plt.scatter(time[~mask].cpu().numpy(), f.frequency[~mask].cpu().numpy(), color='red', marker='o')\n",
    "plt.scatter(time[mask].cpu().numpy(), f.frequency[mask].cpu().numpy(), color='blue', marker='o')\n",
    "plt.hlines(center.cpu().numpy(), 0, f.size - 1, color='black')\n",
    "plt.hlines(value_min.cpu().numpy(), 0, f.size - 1, color='blue')\n",
    "plt.hlines(value_max.cpu().numpy(), 0, f.size - 1, color='blue')\n",
    "plt.show()\n",
    "\n",
    "# Mean & variance\n",
    "f_out = mean(f.frequency[mask])\n",
    "s_out = variance(f.frequency[mask]).sqrt()\n",
    "print(f'err: {abs(f_out - f_ref):<16.9}, std: {s_out:<16.9}')\n",
    "\n",
    "# Weighted mean & variance\n",
    "weight = 1.0/s**2*torch.stack([spectrum[index] for index, spectrum in zip(f.ffrft_bin.to(torch.int64), f.ffrft_spectrum)])**2\n",
    "f_out = weighted_mean(f.frequency, weight=weight*mask)\n",
    "s_out = weighted_variance(f.frequency, weight=weight*mask).sqrt()\n",
    "print(f'err: {abs(f_out - f_ref):<16.9}, std: {s_out:<16.9}')"
   ]
  },
  {
   "cell_type": "code",
   "execution_count": 11,
   "id": "e0e4dc34-12f8-4cb0-b577-ac036b092c11",
   "metadata": {},
   "outputs": [],
   "source": [
    "# Estimate the main frequency for sampled signals using 'parabola' interpolation of refined amplitude spectrum\n",
    "# Estimate noise for each sample, WLS fit to estimate sample spread\n",
    "\n",
    "# Set data\n",
    "w = Window(length, 'cosine_window', 1.0, dtype=dtype, device=device)\n",
    "t = Data.from_data(w, data)\n",
    "\n",
    "# Sample data\n",
    "w = Window(512, 'cosine_window', 1.0, dtype=dtype, device=device)\n",
    "t = Data.from_data(w, torch.cat([t.make_matrix(512, 8, t.work[i]) for i in range(54)]))\n",
    "n = t.size//54\n",
    "\n",
    "# Estimate noise for all samples\n",
    "l = Filter(t)\n",
    "_, s = l.estimate_noise(limit=32)\n",
    "\n",
    "# Estimate frequency for each sample\n",
    "t.window_remove_mean()\n",
    "t.window_apply()\n",
    "f = Frequency(t)\n",
    "f('parabola')\n",
    "t.reset()\n",
    "\n",
    "# Set weight\n",
    "weight = 1.0/s**2*torch.stack([spectrum[index] for index, spectrum in zip(f.ffrft_bin.to(torch.int64), f.ffrft_spectrum)])**2"
   ]
  },
  {
   "cell_type": "code",
   "execution_count": 12,
   "id": "bca65c54-a37c-46fc-8c60-24fc2c89f6cf",
   "metadata": {},
   "outputs": [
    {
     "data": {
      "image/png": "[encoded data removed]",
      "text/plain": [
       "<Figure size 1080x216 with 1 Axes>"
      ]
     },
     "metadata": {
      "needs_background": "light"
     },
     "output_type": "display_data"
    },
    {
     "name": "stdout",
     "output_type": "stream",
     "text": [
      "err: 2.92824011e-07  , std: 5.95261228e-05  \n",
      "err: 2.4054895e-07   , std: 1.93817089e-06  \n"
     ]
    }
   ],
   "source": [
    "# Process by samples\n",
    "\n",
    "# Plot frequencies for each sample\n",
    "plt.figure(figsize=(15, 3))\n",
    "plt.scatter(range(f.size), f.frequency.cpu().numpy(), color='red', marker='o')\n",
    "plt.hlines(f_ref, 0, f.size - 1, color='black')\n",
    "plt.show()\n",
    "\n",
    "# Mean & variance\n",
    "f_out = mean(f.frequency)\n",
    "s_out = variance(f.frequency).sqrt()\n",
    "print(f'err: {abs(f_out - f_ref):<16.9}, std: {s_out:<16.9}')\n",
    "\n",
    "# Weighted mean & variance\n",
    "f_out = weighted_mean(f.frequency, weight=weight)\n",
    "s_out = weighted_variance(f.frequency, weight=weight).sqrt()\n",
    "print(f'err: {abs(f_out - f_ref):<16.9}, std: {s_out:<16.9}')"
   ]
  },
  {
   "cell_type": "code",
   "execution_count": 13,
   "id": "1ba0fe13-02cd-4dd9-b480-8e7a7b60b3bf",
   "metadata": {},
   "outputs": [
    {
     "name": "stdout",
     "output_type": "stream",
     "text": [
      "err: 2.92824011e-07  , std: 1.94911942e-05  \n",
      "err: 1.33519247e-07  , std: 6.05196249e-07  \n"
     ]
    },
    {
     "data": {
      "image/png": "[encoded data removed]",
      "text/plain": [
       "<Figure size 1080x216 with 1 Axes>"
      ]
     },
     "metadata": {
      "needs_background": "light"
     },
     "output_type": "display_data"
    }
   ],
   "source": [
    "# Process by signals\n",
    "\n",
    "plt.figure(figsize=(15, 3))\n",
    "\n",
    "# Mean & variance\n",
    "f_out = mean(f.frequency.reshape(54, -1))\n",
    "s_out = variance(f.frequency.reshape(54, -1)).sqrt()\n",
    "\n",
    "plt.errorbar(range(54), f_out.cpu().numpy(), yerr=s_out.cpu().numpy(), fmt=' ', color='red', marker='o')\n",
    "plt.hlines(f_ref, 0, 54 - 1, color='black')\n",
    "\n",
    "f_out, s_out = mean(f_out), variance(f_out).sqrt()\n",
    "print(f'err: {abs(f_out - f_ref):<16.9}, std: {s_out:<16.9}')\n",
    "\n",
    "# Weighted mean & variance\n",
    "f_out = weighted_mean(f.frequency.reshape(54, -1), weight=weight.reshape(54, -1))\n",
    "s_out = weighted_variance(f.frequency.reshape(54, -1), weight=weight.reshape(54, -1)).sqrt()\n",
    "\n",
    "plt.errorbar(range(54), f_out.cpu().numpy(), yerr=s_out.cpu().numpy(), fmt=' ', color='blue', marker='x')\n",
    "plt.hlines(f_ref, 0, 54 - 1, color='black')\n",
    "\n",
    "f_out, s_out = weighted_mean(f_out, weight=1/s_out**2), weighted_variance(f_out, weight=1/s_out**2).sqrt()\n",
    "print(f'err: {abs(f_out - f_ref):<16.9}, std: {s_out:<16.9}')\n",
    "\n",
    "plt.show()"
   ]
  },
  {
   "cell_type": "code",
   "execution_count": 14,
   "id": "f82a8b8f-7125-4c6d-802c-e662eb8992d1",
   "metadata": {},
   "outputs": [],
   "source": [
    "# Data filtering based on (robust) dispecrion can be performed for all samples\n",
    "# Samples outside the threshold region (or entier signals with such samples) can be removed"
   ]
  },
  {
   "cell_type": "markdown",
   "id": "8912308a-7ae5-4794-bf23-6fcd12c42d2e",
   "metadata": {},
   "source": [
    "# Example-29: Detection of anomalies using frequency data"
   ]
  },
  {
   "cell_type": "code",
   "execution_count": 1,
   "id": "2c7cedc6-5041-479e-9a73-83a0fd048fac",
   "metadata": {},
   "outputs": [],
   "source": [
    "# In this example the objective is to detect signals with anomalies using frequency data\n",
    "\n",
    "# To achieving this, shifted samples are generated from each signal\n",
    "# For each sample frequency is computed\n",
    "# These frequencies are used as features in anomaly detection\n",
    "\n",
    "# For anomaly detection, several methods are used\n",
    "# Threshold based detector is based on (robust) dispersion estimation\n",
    "# In this case samples with frequencies outside threshold interval are marked as potential anomaly candidates\n",
    "# DBSCAN is also used to flag anomaly candidates, samples with frequencies not in the main cluster are marked\n",
    "# Local outlier factor and Isolation Forest are applied to frequencies\n",
    "# The main hyperparameter for later methods is contamination\n",
    "\n",
    "# Each method returns a mask with True/False values for each sample\n",
    "# The number of flaged samples in a signal can be viewed as anomaly score\n",
    "\n",
    "# For finial decision, the following procedure is performed\n",
    "# Anomaly scores for each method are summed and signals with scores above the certain threshold are flagged\n",
    "# Signals are also required to be flagged by several methods\n",
    "\n",
    "# Note, spike anomalies in signals normaly appear in both planes, but this is not used here\n",
    "# Anomaly might spoil only one plane\n",
    "\n",
    "# Ones anomaly detection is done, several options are available\n",
    "# One can discard all data and perform new measurement, since anomalies are normaly rare\n",
    "# Flagged signals or samples can be removed from further computations\n",
    "# Weights can be adjacted"
   ]
  },
  {
   "cell_type": "code",
   "execution_count": 2,
   "id": "ecaef588-e7e0-4477-bbf3-51d0a68151d3",
   "metadata": {},
   "outputs": [
    {
     "name": "stdout",
     "output_type": "stream",
     "text": [
      "True\n",
      "6\n"
     ]
    }
   ],
   "source": [
    "# Import\n",
    "\n",
    "import pandas\n",
    "import torch\n",
    "\n",
    "import sys\n",
    "sys.path.append('..')\n",
    "\n",
    "from harmonica.util import LENGTH, make_mark, make_mask\n",
    "\n",
    "from harmonica.window import Window\n",
    "from harmonica.data import Data\n",
    "from harmonica.frequency import Frequency\n",
    "from harmonica.filter import Filter\n",
    "\n",
    "from harmonica.statistics import mean, variance, median, biweight_midvariance, standardize, rescale\n",
    "\n",
    "from harmonica.anomaly import threshold, dbscan, local_outlier_factor, isolation_forest, score\n",
    "\n",
    "import matplotlib.pyplot as plt\n",
    "\n",
    "torch.set_printoptions(precision=12, sci_mode=True)\n",
    "print(torch.cuda.is_available())\n",
    "print(torch.get_num_threads())"
   ]
  },
  {
   "cell_type": "code",
   "execution_count": 3,
   "id": "d7dce9b2-99cf-468b-bb5d-9b0e57fe4cf2",
   "metadata": {},
   "outputs": [],
   "source": [
    "# Set data type and device\n",
    "\n",
    "dtype = torch.float64\n",
    "device = 'cpu'"
   ]
  },
  {
   "cell_type": "code",
   "execution_count": 4,
   "id": "754b845e-09b5-4203-87fc-b99a4886bc53",
   "metadata": {},
   "outputs": [
    {
     "name": "stdout",
     "output_type": "stream",
     "text": [
      "nux:  0.463116901, 2.18481102e-16\n",
      "nuy:  0.423225367, 1.13097665e-16\n",
      "torch.Size([54, 129])\n",
      "torch.Size([54, 129])\n",
      "nux:  0.463119709, 5.59885494e-05\n",
      "nuy:  0.423227328, 3.62310249e-05\n",
      "error_x: 2.80748884e-06\n",
      "error_y: 1.96094349e-06\n"
     ]
    }
   ],
   "source": [
    "# Import test data\n",
    "df = pandas.read_pickle('../virtual_tbt.pkl.gz')\n",
    "\n",
    "# Set parameters\n",
    "length = 1024\n",
    "\n",
    "# Set initial data\n",
    "w = Window(length, 'cosine_window', 4.0, dtype=dtype, device=device)\n",
    "x = Data.from_data(w, torch.tensor(df.X.to_list(), dtype=dtype, device=device)[:, :length])\n",
    "y = Data.from_data(w, torch.tensor(df.Y.to_list(), dtype=dtype, device=device)[:, :length])\n",
    "\n",
    "# Compute referense frequencies\n",
    "\n",
    "x.window_remove_mean()\n",
    "x.window_apply()\n",
    "f_x = Frequency(x)\n",
    "f_x('parabola')\n",
    "x.reset()\n",
    "nux = f_x.frequency.mean().cpu().item()\n",
    "print(f'nux: {nux:12.9}, {f_x.frequency.std().cpu().item():12.9}')\n",
    "\n",
    "y.window_remove_mean()\n",
    "y.window_apply()\n",
    "f_y = Frequency(y)\n",
    "f_y('parabola')\n",
    "y.reset()\n",
    "nuy = f_y.frequency.mean().cpu().item()\n",
    "print(f'nuy: {nuy:12.9}, {f_y.frequency.std().cpu().item():12.9}')\n",
    "\n",
    "# Set noise\n",
    "std_x = 1.0E-6*(25.0 + 50.0*torch.rand(x.size, dtype=dtype, device=device))\n",
    "std_y = 1.0E-6*(25.0 + 50.0*torch.rand(y.size, dtype=dtype, device=device))\n",
    "\n",
    "# Add noise\n",
    "x.add_noise(std_x)\n",
    "y.add_noise(std_y)\n",
    "\n",
    "# Set data with noise\n",
    "x, y = x.work, y.work\n",
    "\n",
    "# Add anomalies (one signal with increased noise and two signals with spikes)\n",
    "x[10] += 1.0E-3*torch.randn(length, dtype=dtype, device=device)\n",
    "y[10] += 1.0E-3*torch.randn(length, dtype=dtype, device=device)\n",
    "x[20, 128] += 0.1\n",
    "y[20, 128] += 0.2\n",
    "x[30, 256] -= 0.2\n",
    "y[30, 256] -= 0.1\n",
    "\n",
    "# Compute shifted frequencies\n",
    "\n",
    "x = Data.from_data(w, x)\n",
    "f_x = Frequency(x)\n",
    "data_x = f_x.compute_shifted_frequency(512, 4)\n",
    "print(data_x.shape)\n",
    "\n",
    "y = Data.from_data(w, y)\n",
    "f_y = Frequency(y)\n",
    "data_y = f_y.compute_shifted_frequency(512, 4)\n",
    "print(data_y.shape)\n",
    "\n",
    "# Estimate frequencies with anomalies\n",
    "print(f'nux: {mean(data_x.flatten()).cpu().item():12.9}, {variance(data_x.flatten()).sqrt().cpu().item():12.9}')\n",
    "print(f'nuy: {mean(data_y.flatten()).cpu().item():12.9}, {variance(data_y.flatten()).sqrt().cpu().item():12.9}')\n",
    "\n",
    "# Frequency error\n",
    "print(f'error_x: {abs(nux - mean(data_x.flatten()).cpu().item()):12.9}')\n",
    "print(f'error_y: {abs(nuy - mean(data_y.flatten()).cpu().item()):12.9}')\n",
    "\n",
    "# Normalize data \n",
    "feature_x = standardize(data_x.flatten(), center_estimator=median, spread_estimator=biweight_midvariance)\n",
    "feature_y = standardize(data_y.flatten(), center_estimator=median, spread_estimator=biweight_midvariance)"
   ]
  },
  {
   "cell_type": "code",
   "execution_count": 5,
   "id": "c3059823-bbd2-487a-8b7f-2ceb5b8da536",
   "metadata": {},
   "outputs": [
    {
     "data": {
      "image/png": "[encoded data removed]",
      "text/plain": [
       "<Figure size 1080x216 with 1 Axes>"
      ]
     },
     "metadata": {
      "needs_background": "light"
     },
     "output_type": "display_data"
    },
    {
     "data": {
      "image/png": "[encoded data removed]",
      "text/plain": [
       "<Figure size 1080x216 with 1 Axes>"
      ]
     },
     "metadata": {
      "needs_background": "light"
     },
     "output_type": "display_data"
    }
   ],
   "source": [
    "# Plot data grouped by signal\n",
    "\n",
    "index = torch.ones(129, dtype=dtype, device=device)*torch.linspace(0, 54 - 1, 54, dtype=dtype, device=device).reshape(-1, 1)\n",
    "\n",
    "plt.figure(figsize=(15, 3))\n",
    "for i, value in zip(index, feature_x.reshape(54, -1)):\n",
    "    plt.scatter(i.cpu().numpy(), value.cpu().numpy(), color='red')\n",
    "plt.show()\n",
    "\n",
    "plt.figure(figsize=(15, 3))\n",
    "for i, value in zip(index, feature_y.reshape(54, -1)):\n",
    "    plt.scatter(i.cpu().numpy(), value.cpu().numpy(), color='red')\n",
    "plt.show()\n",
    "\n",
    "# As it can be seen, signals with anomalies (10, 20 and 30) have large spread compared to other signals"
   ]
  },
  {
   "cell_type": "code",
   "execution_count": 6,
   "id": "fc2184b7-0909-4850-bb5a-9d0c5763d460",
   "metadata": {},
   "outputs": [
    {
     "data": {
      "image/png": "[encoded data removed]",
      "text/plain": [
       "<Figure size 1080x216 with 1 Axes>"
      ]
     },
     "metadata": {
      "needs_background": "light"
     },
     "output_type": "display_data"
    },
    {
     "data": {
      "image/png": "[encoded data removed]",
      "text/plain": [
       "<Figure size 1080x216 with 1 Axes>"
      ]
     },
     "metadata": {
      "needs_background": "light"
     },
     "output_type": "display_data"
    }
   ],
   "source": [
    "# Detect anomalies by threshold & plot marked samples (separately for x & y planes)\n",
    "\n",
    "factor = 8.0\n",
    "\n",
    "center = median(feature_x)\n",
    "spread = biweight_midvariance(feature_x).sqrt()\n",
    "min_value, max_value = center - factor*spread, center + factor*spread\n",
    "threshold_mask_x = threshold(feature_x, min_value, max_value)\n",
    "\n",
    "plt.figure(figsize=(15, 3))\n",
    "plt.scatter(index.cpu().numpy(), feature_x.reshape_as(index).cpu().numpy(), color='blue')\n",
    "plt.scatter(index[threshold_mask_x.reshape_as(index).logical_not()].cpu().numpy(), feature_x.reshape_as(index)[threshold_mask_x.reshape_as(index).logical_not()].cpu().numpy(), color='red', marker='x')\n",
    "plt.show()\n",
    "\n",
    "center = median(feature_y)\n",
    "spread = biweight_midvariance(feature_y).sqrt()\n",
    "min_value, max_value = center - factor*spread, center + factor*spread\n",
    "threshold_mask_y = threshold(feature_y, min_value, max_value)\n",
    "\n",
    "plt.figure(figsize=(15, 3))\n",
    "plt.scatter(index.cpu().numpy(), feature_y.reshape_as(index).cpu().numpy(), color='blue')\n",
    "plt.scatter(index[threshold_mask_y.reshape_as(index).logical_not()].cpu().numpy(), feature_y.reshape_as(index)[threshold_mask_y.reshape_as(index).logical_not()].cpu().numpy(), color='red', marker='x')\n",
    "plt.show()"
   ]
  },
  {
   "cell_type": "code",
   "execution_count": 7,
   "id": "d80a6b8c-51b7-4152-b574-a5c1887fafc4",
   "metadata": {},
   "outputs": [
    {
     "data": {
      "image/png": "[encoded data removed]",
      "text/plain": [
       "<Figure size 1080x216 with 1 Axes>"
      ]
     },
     "metadata": {
      "needs_background": "light"
     },
     "output_type": "display_data"
    }
   ],
   "source": [
    "# Compute & plot anomaly scores (threshold)\n",
    "\n",
    "threshold_score_x = score(54, threshold_mask_x)\n",
    "threshold_score_y = score(54, threshold_mask_y)\n",
    "\n",
    "plt.figure(figsize=(15, 3))\n",
    "plt.scatter(range(54), threshold_score_x.cpu().numpy(), color='blue', marker='o')\n",
    "plt.scatter(range(54), threshold_score_y.cpu().numpy(), color='red', marker='x')\n",
    "plt.vlines([10, 20, 30], 0, 129, colors='black', linestyles='dashed')\n",
    "plt.show()\n",
    "\n",
    "threshold_score = threshold_score_x + threshold_score_y"
   ]
  },
  {
   "cell_type": "code",
   "execution_count": 8,
   "id": "cec96858-a9f3-49e8-8d07-fc7680c42a9c",
   "metadata": {},
   "outputs": [
    {
     "data": {
      "image/png": "[encoded data removed]",
      "text/plain": [
       "<Figure size 1080x216 with 1 Axes>"
      ]
     },
     "metadata": {
      "needs_background": "light"
     },
     "output_type": "display_data"
    },
    {
     "data": {
      "image/png": "[encoded data removed]",
      "text/plain": [
       "<Figure size 1080x216 with 1 Axes>"
      ]
     },
     "metadata": {
      "needs_background": "light"
     },
     "output_type": "display_data"
    }
   ],
   "source": [
    "# Detect anomalies with DBSCAN\n",
    "\n",
    "factor = 2.0\n",
    "spread = 1.0\n",
    "epsilon = factor*spread\n",
    "\n",
    "dbscan_mask = dbscan(torch.stack([feature_x, feature_y]).T, epsilon)\n",
    "\n",
    "plt.figure(figsize=(15, 3))\n",
    "plt.scatter(index.cpu().numpy(), feature_x.reshape_as(index).cpu().numpy(), color='blue')\n",
    "plt.scatter(index[dbscan_mask.reshape_as(index).logical_not()].cpu().numpy(), feature_x.reshape_as(index)[dbscan_mask.reshape_as(index).logical_not()].cpu().numpy(), color='red', marker='x')\n",
    "plt.show()\n",
    "\n",
    "plt.figure(figsize=(15, 3))\n",
    "plt.scatter(index.cpu().numpy(), feature_y.reshape_as(index).cpu().numpy(), color='blue')\n",
    "plt.scatter(index[dbscan_mask.reshape_as(index).logical_not()].cpu().numpy(), feature_y.reshape_as(index)[dbscan_mask.reshape_as(index).logical_not()].cpu().numpy(), color='red', marker='x')\n",
    "plt.show()"
   ]
  },
  {
   "cell_type": "code",
   "execution_count": 9,
   "id": "6a3578b8-9da5-469f-92d2-8e16bde2c2b5",
   "metadata": {},
   "outputs": [
    {
     "data": {
      "image/png": "[encoded data removed]",
      "text/plain": [
       "<Figure size 1080x216 with 1 Axes>"
      ]
     },
     "metadata": {
      "needs_background": "light"
     },
     "output_type": "display_data"
    }
   ],
   "source": [
    "# Compute & plot anomaly scores (dbscan)\n",
    "dbscan_score = score(54, dbscan_mask)\n",
    "plt.figure(figsize=(15, 3))\n",
    "plt.scatter(range(54), dbscan_score.cpu().numpy(), color='blue', marker='o')\n",
    "plt.vlines([10, 20, 30], 0, 129, colors='black', linestyles='dashed')\n",
    "plt.show()"
   ]
  },
  {
   "cell_type": "code",
   "execution_count": 10,
   "id": "1249a437-fe6b-44f9-bcb4-d1382c8b5e77",
   "metadata": {},
   "outputs": [
    {
     "data": {
      "image/png": "[encoded data removed]",
      "text/plain": [
       "<Figure size 1080x216 with 1 Axes>"
      ]
     },
     "metadata": {
      "needs_background": "light"
     },
     "output_type": "display_data"
    },
    {
     "data": {
      "image/png": "[encoded data removed]",
      "text/plain": [
       "<Figure size 1080x216 with 1 Axes>"
      ]
     },
     "metadata": {
      "needs_background": "light"
     },
     "output_type": "display_data"
    }
   ],
   "source": [
    "# Detect anomalies with local_outlier_factor\n",
    "\n",
    "contamination = 0.01\n",
    "\n",
    "local_outlier_factor_mask = local_outlier_factor(torch.stack([feature_x, feature_y]).T, contamination=contamination)\n",
    "\n",
    "plt.figure(figsize=(15, 3))\n",
    "plt.scatter(index.cpu().numpy(), feature_x.reshape_as(index).cpu().numpy(), color='blue')\n",
    "plt.scatter(index[local_outlier_factor_mask.reshape_as(index).logical_not()].cpu().numpy(), feature_x.reshape_as(index)[local_outlier_factor_mask.reshape_as(index).logical_not()].cpu().numpy(), color='red', marker='x')\n",
    "plt.show()\n",
    "\n",
    "plt.figure(figsize=(15, 3))\n",
    "plt.scatter(index.cpu().numpy(), feature_y.reshape_as(index).cpu().numpy(), color='blue')\n",
    "plt.scatter(index[local_outlier_factor_mask.reshape_as(index).logical_not()].cpu().numpy(), feature_y.reshape_as(index)[local_outlier_factor_mask.reshape_as(index).logical_not()].cpu().numpy(), color='red', marker='x')\n",
    "plt.show()"
   ]
  },
  {
   "cell_type": "code",
   "execution_count": 11,
   "id": "c5118084-f856-428b-b8f7-b37c92b7fda0",
   "metadata": {},
   "outputs": [
    {
     "data": {
      "image/png": "[encoded data removed]",
      "text/plain": [
       "<Figure size 1080x216 with 1 Axes>"
      ]
     },
     "metadata": {
      "needs_background": "light"
     },
     "output_type": "display_data"
    }
   ],
   "source": [
    "# Compute & plot anomaly scores (local_outlier_factor)\n",
    "local_outlier_factor_score = score(54, local_outlier_factor_mask)\n",
    "plt.figure(figsize=(15, 3))\n",
    "plt.scatter(range(54), local_outlier_factor_score.cpu().numpy(), color='blue', marker='o')\n",
    "plt.vlines([10, 20, 30], 0, 129, colors='black', linestyles='dashed')\n",
    "plt.show()"
   ]
  },
  {
   "cell_type": "code",
   "execution_count": 12,
   "id": "d48e1449-0f84-44a5-81c4-d5faaf98abd3",
   "metadata": {},
   "outputs": [
    {
     "data": {
      "image/png": "[encoded data removed]",
      "text/plain": [
       "<Figure size 1080x216 with 1 Axes>"
      ]
     },
     "metadata": {
      "needs_background": "light"
     },
     "output_type": "display_data"
    },
    {
     "data": {
      "image/png": "[encoded data removed]",
      "text/plain": [
       "<Figure size 1080x216 with 1 Axes>"
      ]
     },
     "metadata": {
      "needs_background": "light"
     },
     "output_type": "display_data"
    }
   ],
   "source": [
    "# Detect anomalies with isolation_forest\n",
    "\n",
    "contamination = 0.02\n",
    "\n",
    "isolation_forest_mask = isolation_forest(torch.stack([feature_x, feature_y]).T, contamination=contamination)\n",
    "\n",
    "plt.figure(figsize=(15, 3))\n",
    "plt.scatter(index.cpu().numpy(), feature_x.reshape_as(index).cpu().numpy(), color='blue')\n",
    "plt.scatter(index[isolation_forest_mask.reshape_as(index).logical_not()].cpu().numpy(), feature_x.reshape_as(index)[isolation_forest_mask.reshape_as(index).logical_not()].cpu().numpy(), color='red', marker='x')\n",
    "plt.show()\n",
    "\n",
    "plt.figure(figsize=(15, 3))\n",
    "plt.scatter(index.cpu().numpy(), feature_y.reshape_as(index).cpu().numpy(), color='blue')\n",
    "plt.scatter(index[isolation_forest_mask.reshape_as(index).logical_not()].cpu().numpy(), feature_y.reshape_as(index)[isolation_forest_mask.reshape_as(index).logical_not()].cpu().numpy(), color='red', marker='x')\n",
    "plt.show()"
   ]
  },
  {
   "cell_type": "code",
   "execution_count": 13,
   "id": "79283dba-5d17-428a-83c4-2086a288b67c",
   "metadata": {},
   "outputs": [
    {
     "data": {
      "image/png": "[encoded data removed]",
      "text/plain": [
       "<Figure size 1080x216 with 1 Axes>"
      ]
     },
     "metadata": {
      "needs_background": "light"
     },
     "output_type": "display_data"
    }
   ],
   "source": [
    "# Compute & plot anomaly scores (isolation_forest)\n",
    "isolation_forest_score = score(54, isolation_forest_mask)\n",
    "plt.figure(figsize=(15, 3))\n",
    "plt.scatter(range(54), isolation_forest_score.cpu().numpy(), color='blue', marker='o')\n",
    "plt.vlines([10, 20, 30], 0, 129, colors='black', linestyles='dashed')\n",
    "plt.show()"
   ]
  },
  {
   "cell_type": "code",
   "execution_count": 14,
   "id": "90fe283e-b6d1-4318-b872-993da29dfc58",
   "metadata": {},
   "outputs": [],
   "source": [
    "# Note, both Local Outlier Factor and Isolation Forest can produce rather large number of false positives\n",
    "# This is the case for large contamination factor"
   ]
  },
  {
   "cell_type": "code",
   "execution_count": 15,
   "id": "0afe52a6-c0b7-4d73-a351-b05ed8fe3f9e",
   "metadata": {},
   "outputs": [
    {
     "data": {
      "image/png": "[encoded data removed]",
      "text/plain": [
       "<Figure size 1080x216 with 1 Axes>"
      ]
     },
     "metadata": {
      "needs_background": "light"
     },
     "output_type": "display_data"
    }
   ],
   "source": [
    "# Combine & threshold scores\n",
    "\n",
    "total = (threshold_score + dbscan_score + local_outlier_factor_score + isolation_forest_score).to(torch.float64)\n",
    "total = rescale(total, scale_min=0.0, scale_max=1.0)\n",
    "\n",
    "limit = 5.0*variance(total) \n",
    "clear = total < limit\n",
    "\n",
    "plt.figure(figsize=(15, 3))\n",
    "plt.scatter(range(54), total.cpu().numpy(), color='blue', marker='o')\n",
    "plt.vlines([10, 20, 30], 0, 1, colors='black', linestyles='dashed')\n",
    "plt.hlines(limit.cpu().numpy(), 0, 53, colors='black', linestyles='dashed')\n",
    "plt.show()"
   ]
  },
  {
   "cell_type": "code",
   "execution_count": 16,
   "id": "bb0d63e2-5b37-4872-9ade-dcd465706574",
   "metadata": {},
   "outputs": [
    {
     "name": "stdout",
     "output_type": "stream",
     "text": [
      "+ anomalies\n",
      "nux:  0.463119709, 5.59885494e-05\n",
      "nuy:  0.423227328, 3.62310249e-05\n",
      "error_x: 2.80748884e-06\n",
      "error_y: 1.96094349e-06\n",
      "\n",
      "- anomalies\n",
      "nux:  0.463116722, 2.79277941e-06\n",
      "nuy:  0.423225666, 3.65139498e-06\n",
      "error_x: 1.79064805e-07\n",
      "error_y: 2.99249195e-07\n",
      "\n"
     ]
    }
   ],
   "source": [
    "# Estimate frequency with removed anomaly signals (all samples are removed)\n",
    "\n",
    "# + anomalies\n",
    "print('+ anomalies')\n",
    "print(f'nux: {mean(data_x.flatten()).cpu().item():12.9}, {variance(data_x.flatten()).sqrt().cpu().item():12.9}')\n",
    "print(f'nuy: {mean(data_y.flatten()).cpu().item():12.9}, {variance(data_y.flatten()).sqrt().cpu().item():12.9}')\n",
    "print(f'error_x: {abs(nux - mean(data_x.flatten()).cpu().item()):12.9}')\n",
    "print(f'error_y: {abs(nuy - mean(data_y.flatten()).cpu().item()):12.9}')\n",
    "print()\n",
    "\n",
    "# - anomalies\n",
    "print('- anomalies')\n",
    "print(f'nux: {mean(data_x[clear].flatten()).cpu().item():12.9}, {variance(data_x[clear].flatten()).sqrt().cpu().item():12.9}')\n",
    "print(f'nuy: {mean(data_y[clear].flatten()).cpu().item():12.9}, {variance(data_y[clear].flatten()).sqrt().cpu().item():12.9}')\n",
    "print(f'error_x: {abs(nux - mean(data_x[clear].flatten()).cpu().item()):12.9}')\n",
    "print(f'error_y: {abs(nuy - mean(data_y[clear].flatten()).cpu().item()):12.9}')\n",
    "print()\n",
    "\n",
    "# In general, with removed anomalies, both center and spread estimation are improved"
   ]
  },
  {
   "cell_type": "code",
   "execution_count": 17,
   "id": "8166ad1a-2896-4cb8-a6b6-b9cec8e21cc0",
   "metadata": {},
   "outputs": [
    {
     "name": "stdout",
     "output_type": "stream",
     "text": [
      "nux:  0.463116744, 2.7921916e-06\n",
      "nuy:  0.423225685, 3.71721606e-06\n",
      "error_x: 1.5757875e-07\n",
      "error_y: 3.1824523e-07\n",
      "\n"
     ]
    }
   ],
   "source": [
    "# Slightly better results might be obtained if only marked samples are removed (even better, if weights are avalible)\n",
    "# Note, here x & y planes are used together, note, 'good' samples can be exluded based on the other plane\n",
    "\n",
    "# Remove flagged samples only from marked signals\n",
    "\n",
    "mask_x = threshold_mask_x*threshold_mask_y*dbscan_mask*local_outlier_factor_mask*isolation_forest_mask\n",
    "mask_x = mask_x.reshape(54, -1)\n",
    "mask_x[clear] = True\n",
    "\n",
    "mask_y = threshold_mask_x*threshold_mask_y*dbscan_mask*local_outlier_factor_mask*isolation_forest_mask\n",
    "mask_y = mask_y.reshape(54, -1)\n",
    "mask_y[clear] = True\n",
    "\n",
    "print(f'nux: {mean(data_x[mask_x].flatten()).cpu().item():12.9}, {variance(data_x[mask_x].flatten()).sqrt().cpu().item():12.9}')\n",
    "print(f'nuy: {mean(data_y[mask_y].flatten()).cpu().item():12.9}, {variance(data_y[mask_y].flatten()).sqrt().cpu().item():12.9}')\n",
    "print(f'error_x: {abs(nux - mean(data_x[mask_x].flatten()).cpu().item()):12.9}')\n",
    "print(f'error_y: {abs(nuy - mean(data_y[mask_y].flatten()).cpu().item()):12.9}')\n",
    "print()"
   ]
  },
  {
   "cell_type": "code",
   "execution_count": null,
   "id": "38ae4824-d35f-4f08-8af7-095458142318",
   "metadata": {},
   "outputs": [],
   "source": []
  }
 ],
 "metadata": {
  "colab": {
   "collapsed_sections": [
    "myt0_gMIOq7b",
    "5d97819c"
   ],
   "name": "03_frequency.ipynb",
   "provenance": []
  },
  "kernelspec": {
   "display_name": "Python 3 (ipykernel)",
   "language": "python",
   "name": "python3"
  },
  "language_info": {
   "codemirror_mode": {
    "name": "ipython",
    "version": 3
   },
   "file_extension": ".py",
   "mimetype": "text/x-python",
   "name": "python",
   "nbconvert_exporter": "python",
   "pygments_lexer": "ipython3",
   "version": "3.9.7"
  },
  "latex_envs": {
   "LaTeX_envs_menu_present": true,
   "autoclose": false,
   "autocomplete": true,
   "bibliofile": "biblio.bib",
   "cite_by": "apalike",
   "current_citInitial": 1,
   "eqLabelWithNumbers": true,
   "eqNumInitial": 1,
   "hotkeys": {
    "equation": "Ctrl-E",
    "itemize": "Ctrl-I"
   },
   "labels_anchors": false,
   "latex_user_defs": false,
   "report_style_numbering": false,
   "user_envs_cfg": false
  }
 },
 "nbformat": 4,
 "nbformat_minor": 5
}
