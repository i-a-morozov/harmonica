{
 "cells": [
  {
   "cell_type": "code",
   "execution_count": 1,
   "id": "d64bccdd",
   "metadata": {},
   "outputs": [
    {
     "name": "stdout",
     "output_type": "stream",
     "text": [
      "True\n",
      "6\n"
     ]
    }
   ],
   "source": [
    "# Import\n",
    "\n",
    "import epics\n",
    "import numpy\n",
    "import pandas\n",
    "import torch\n",
    "import nufft\n",
    "import yaml\n",
    "\n",
    "import sys\n",
    "sys.path.append('..')\n",
    "\n",
    "from harmonica.util import LENGTH, data_load\n",
    "from harmonica.window import Window\n",
    "from harmonica.data import Data\n",
    "from harmonica.frequency import Frequency\n",
    "from harmonica.filter import Filter\n",
    "\n",
    "import matplotlib.pyplot as plt\n",
    "\n",
    "torch.set_printoptions(precision=12, sci_mode=True)\n",
    "print(torch.cuda.is_available())\n",
    "print(torch.get_num_threads())"
   ]
  },
  {
   "cell_type": "markdown",
   "id": "0ec9fc91",
   "metadata": {
    "heading_collapsed": true,
    "id": "eTuGZt-gXDRc",
    "tags": []
   },
   "source": [
    "# Example-01: FFT amplitude spectrum"
   ]
  },
  {
   "cell_type": "code",
   "execution_count": 2,
   "id": "1da45627-33da-46fd-8d7c-1cddbd6ab835",
   "metadata": {},
   "outputs": [
    {
     "name": "stdout",
     "output_type": "stream",
     "text": [
      "Window(1024, 'cosine_window', 1.0)\n",
      "Data(64, Window(1024, 'cosine_window', 1.0))\n",
      "Frequency(Data(64, Window(1024, 'cosine_window', 1.0)), f_range=(0.0, 0.5))\n"
     ]
    },
    {
     "data": {
      "image/png": "[encoded data removed]",
      "text/plain": [
       "<Figure size 1080x360 with 1 Axes>"
      ]
     },
     "metadata": {
      "needs_background": "light"
     },
     "output_type": "display_data"
    }
   ],
   "source": [
    "# Set parameters (64 signals with length 1024)\n",
    "dtype, device = torch.float64, 'cpu'\n",
    "size, length = 64, 1024\n",
    "\n",
    "# Set window\n",
    "w = Window.from_cosine(length, order=1.0, dtype=dtype, device=device)\n",
    "print(w)\n",
    "\n",
    "# Set TbT data (64 signals with two components and different amplitudes)\n",
    "t = torch.linspace(1.0, length, length, dtype=dtype, device=device)\n",
    "data = torch.stack([i*torch.sin(2.0*numpy.pi*1*0.12*t) + 0.01*i*torch.sin(2.0*numpy.pi*2*0.12*t) for i in range(1, size + 1)])\n",
    "d = Data.from_data(w, data)\n",
    "print(d)\n",
    "\n",
    "# Initialize Frequency instance\n",
    "f = Frequency(d)\n",
    "print(f)\n",
    "\n",
    "# Apply window (note, window is applied to work)\n",
    "d.window_remove_mean()\n",
    "d.window_apply()\n",
    "\n",
    "# FFT grid is stored in fft_grid (computed on initialization)\n",
    "# FFT spectrum amplitudes are stored in fft_spectrum for each signal\n",
    "\n",
    "# Compute FFT amplitude spectrum\n",
    "f.fft_get_spectrum()\n",
    "\n",
    "# Reset TbT work (copy data to work)\n",
    "f.data.reset()\n",
    "\n",
    "# Plot (log10) FFT spectrum for given signal id\n",
    "idx = 0\n",
    "plt.figure(figsize=(15,5))\n",
    "plt.scatter(f.fft_grid.cpu(), torch.log10(f.fft_spectrum[idx].cpu()), s=1, c='b')\n",
    "plt.xlim(0.1, 0.3)\n",
    "plt.ylim(-6.0, 4.0)\n",
    "plt.show()\n",
    "\n",
    "# Clean\n",
    "del w\n",
    "del t, data\n",
    "del d\n",
    "del f\n",
    "if device != 'cpu':\n",
    "    torch.cuda.synchronize()\n",
    "    torch.cuda.empty_cache()"
   ]
  },
  {
   "cell_type": "markdown",
   "id": "09ec2832",
   "metadata": {
    "heading_collapsed": true,
    "tags": []
   },
   "source": [
    "# Example-02: FFT amplitude spectrum & zero padding"
   ]
  },
  {
   "cell_type": "code",
   "execution_count": 3,
   "id": "f2193741-5ed7-459e-87b2-12100f61b2eb",
   "metadata": {},
   "outputs": [
    {
     "name": "stdout",
     "output_type": "stream",
     "text": [
      "Window(1024, 'cosine_window', 1.0)\n",
      "Data(64, Window(1024, 'cosine_window', 1.0))\n",
      "Frequency(Data(64, Window(1024, 'cosine_window', 1.0)), f_range=(0.0, 0.5))\n",
      "Frequency(Data(64, Window(1024, 'cosine_window', 1.0)), f_range=(0.0, 0.5))\n"
     ]
    },
    {
     "data": {
      "image/png": "[encoded data removed]",
      "text/plain": [
       "<Figure size 1080x360 with 1 Axes>"
      ]
     },
     "metadata": {
      "needs_background": "light"
     },
     "output_type": "display_data"
    }
   ],
   "source": [
    "# Set parameters (64 signals with length 1024)\n",
    "dtype, device = torch.float64, 'cpu'\n",
    "size, length = 64, 1024\n",
    "\n",
    "# Set window\n",
    "w = Window.from_cosine(length, order=1.0, dtype=dtype, device=device)\n",
    "print(w)\n",
    "\n",
    "# Set TbT data (64 signals with two components and different amplitudes)\n",
    "t = torch.linspace(1.0, length, length, dtype=dtype, device=device)\n",
    "data = torch.stack([i*torch.sin(2.0*numpy.pi*1*0.12*t) + 0.01*i*torch.sin(2.0*numpy.pi*2*0.12*t) for i in range(1, size + 1)])\n",
    "d = Data.from_data(w, data)\n",
    "print(d)\n",
    "\n",
    "# If pad == 0, it is set to signal length\n",
    "# Spectrum is computed using torch.fft.rfft(..., n=pad)/torch.fft.fft(..., n=pad) for real/complex input\n",
    "# Padding can be used to interpolate DTFT spectrum in all frequency range\n",
    "# This improves frequency estimation accuracy (assuming frequency corresponds to max of the largest FFT spectrum amplitude peak)\n",
    "# Can be used to obtain a better initial guess, if signal has several frequencies with close amplitudes\n",
    "\n",
    "# Initialize Frequency instances with and without padding\n",
    "f1 = Frequency(d, pad=length*2**4)\n",
    "f2 = Frequency(d, pad=length*2**0)\n",
    "print(f1)\n",
    "print(f2)\n",
    "\n",
    "# Apply window (note, window is applied to work)\n",
    "d.window_remove_mean()\n",
    "d.window_apply()\n",
    "\n",
    "# Compute FFT amplitude spectrum\n",
    "f1.fft_get_spectrum()\n",
    "f2.fft_get_spectrum()\n",
    "\n",
    "# Reset TbT work\n",
    "f1.data.reset()\n",
    "f2.data.reset()\n",
    "\n",
    "\n",
    "# Plot (log10) FFT spectrum for given signal id\n",
    "idx = 0\n",
    "plt.figure(figsize=(15,5))\n",
    "plt.scatter(f1.fft_grid.detach().cpu(), torch.log10(f1.fft_spectrum[idx].detach().cpu()), s=0.5, c='r')\n",
    "plt.scatter(f2.fft_grid.detach().cpu(), torch.log10(f2.fft_spectrum[idx].detach().cpu()), s=5.0, c='b')\n",
    "plt.xlim(0.12 - 0.01, 0.12 + 0.01)\n",
    "plt.ylim(-6.0, 4.0)\n",
    "plt.show()\n",
    "\n",
    "# Clean\n",
    "del w\n",
    "del t, data\n",
    "del d\n",
    "del f1, f2\n",
    "if device != 'cpu':\n",
    "    torch.cuda.synchronize()\n",
    "    torch.cuda.empty_cache()"
   ]
  },
  {
   "cell_type": "markdown",
   "id": "e10b8b42",
   "metadata": {
    "heading_collapsed": true,
    "tags": []
   },
   "source": [
    "# Example-03: FFT frequency estimation & zero padding"
   ]
  },
  {
   "cell_type": "code",
   "execution_count": 4,
   "id": "0441f674-9506-4950-becf-e259e74840fd",
   "metadata": {},
   "outputs": [
    {
     "name": "stdout",
     "output_type": "stream",
     "text": [
      "Window(1024, 'cosine_window', 1.0)\n",
      "Data(64, Window(1024, 'cosine_window', 1.0))\n",
      "Frequency(Data(64, Window(1024, 'cosine_window', 1.0)), f_range=(0.0, 0.5))\n",
      "Frequency(Data(64, Window(1024, 'cosine_window', 1.0)), f_range=(0.0, 0.5))\n",
      "tensor(1.171875000000e-04, dtype=torch.float64)\n",
      "tensor(4.882812499996e-06, dtype=torch.float64)\n",
      "tensor(1.171875000000e-04, dtype=torch.float64)\n",
      "tensor(4.882812499996e-06, dtype=torch.float64)\n"
     ]
    }
   ],
   "source": [
    "# FFT frequency estimation is based on location of max bin in the amplitude spectum\n",
    "\n",
    "# Set parameters (64 signals with length 1024)\n",
    "dtype, device = torch.float64, 'cpu'\n",
    "size, length = 64, 1024\n",
    "\n",
    "# Set window\n",
    "w = Window.from_cosine(length, order=1.0, dtype=dtype, device=device)\n",
    "print(w)\n",
    "\n",
    "# Set TbT data (64 signals with two components and different amplitudes)\n",
    "t = torch.linspace(1.0, length, length, dtype=dtype, device=device)\n",
    "data = torch.stack([i*torch.sin(2.0*numpy.pi*1*0.12*t) + 0.01*i*torch.sin(2.0*numpy.pi*2*0.12*t) for i in range(1, size + 1)])\n",
    "d = Data.from_data(w, data)\n",
    "print(d)\n",
    "\n",
    "# Initialize Frequency instances with and without padding\n",
    "f1 = Frequency(d, pad=length*2**0)\n",
    "f2 = Frequency(d, pad=length*2**4)\n",
    "print(f1)\n",
    "print(f2)\n",
    "\n",
    "# Apply window (note, window is applied to work)\n",
    "d.window_remove_mean()\n",
    "d.window_apply()\n",
    "\n",
    "# Estimate frequency\n",
    "f1('fft')\n",
    "f2('fft')\n",
    "\n",
    "# Compare results\n",
    "print(torch.abs(f1.frequency.mean() - 0.12))\n",
    "print(torch.abs(f2.frequency.mean() - 0.12))\n",
    "\n",
    "# In this case call invokes task_fft method\n",
    "f1.task_fft()\n",
    "f2.task_fft()\n",
    "\n",
    "# Compare results\n",
    "print(torch.abs(f1.fft_frequency.mean() - 0.12))\n",
    "print(torch.abs(f2.fft_frequency.mean() - 0.12))\n",
    "\n",
    "# Clean\n",
    "del w\n",
    "del t, data\n",
    "del d\n",
    "del f1, f2\n",
    "if device != 'cpu':\n",
    "    torch.cuda.synchronize()\n",
    "    torch.cuda.empty_cache()"
   ]
  },
  {
   "cell_type": "markdown",
   "id": "7a07779a",
   "metadata": {
    "heading_collapsed": true,
    "tags": []
   },
   "source": [
    "# Example-04: FFT frequency estimation & zero padding for given range"
   ]
  },
  {
   "cell_type": "code",
   "execution_count": 5,
   "id": "f2b806b0-37eb-4392-8ebc-7d37de15b3a9",
   "metadata": {},
   "outputs": [
    {
     "name": "stdout",
     "output_type": "stream",
     "text": [
      "Window(1024, 'cosine_window', 1.0)\n",
      "Data(64, Window(1024, 'cosine_window', 1.0))\n",
      "Frequency(Data(64, Window(1024, 'cosine_window', 1.0)), f_range=(0.0, 0.5))\n",
      "Frequency(Data(64, Window(1024, 'cosine_window', 1.0)), f_range=(0.0, 0.5))\n",
      "tensor(2.343750000000e-04, dtype=torch.float64)\n",
      "tensor(9.765624999991e-06, dtype=torch.float64)\n"
     ]
    }
   ],
   "source": [
    "# Set parameters (64 signals with length 1024)\n",
    "dtype, device = torch.float64, 'cpu'\n",
    "size, length = 64, 1024\n",
    "\n",
    "# Set window\n",
    "w = Window.from_cosine(length, order=1.0, dtype=dtype, device=device)\n",
    "print(w)\n",
    "\n",
    "# Set TbT data (64 signals with two components and different amplitudes)\n",
    "t = torch.linspace(1.0, length, length, dtype=dtype, device=device)\n",
    "data = torch.stack([i*torch.sin(2.0*numpy.pi*1*0.12*t) + 0.01*i*torch.sin(2.0*numpy.pi*2*0.12*t) for i in range(1, size + 1)])\n",
    "d = Data.from_data(w, data)\n",
    "print(d)\n",
    "\n",
    "# Initialize Frequency instances with and without padding\n",
    "f1 = Frequency(d, pad=length*2**0)\n",
    "f2 = Frequency(d, pad=length*2**4)\n",
    "print(f1)\n",
    "print(f2)\n",
    "\n",
    "# Apply window (note, window is applied to work)\n",
    "d.window_remove_mean()\n",
    "d.window_apply()\n",
    "\n",
    "# By default FFT frequency estimation is performed using (0.0, 0.5) frequency range.\n",
    "# Explicit range can be passed.\n",
    "\n",
    "# Estimate frequency for explicit frequency range\n",
    "f1('fft', f_range=(0.2, 0.25))\n",
    "f2('fft', f_range=(0.2, 0.25))\n",
    "\n",
    "# Compare results\n",
    "print(torch.abs(f1.frequency.mean() - 0.24))\n",
    "print(torch.abs(f2.frequency.mean() - 0.24))\n",
    "\n",
    "# Clean\n",
    "del w\n",
    "del t, data\n",
    "del d\n",
    "del f1, f2\n",
    "if device != 'cpu':\n",
    "    torch.cuda.synchronize()\n",
    "    torch.cuda.empty_cache()"
   ]
  },
  {
   "cell_type": "markdown",
   "id": "2cac819c",
   "metadata": {
    "heading_collapsed": true,
    "tags": []
   },
   "source": [
    "# Example-05: FFRFT/ZOOM amplitude spectrum"
   ]
  },
  {
   "cell_type": "code",
   "execution_count": 6,
   "id": "36ef9289-a474-4f03-90dc-c933afdb569d",
   "metadata": {},
   "outputs": [
    {
     "name": "stdout",
     "output_type": "stream",
     "text": [
      "Window(1024, 'cosine_window', 1.0)\n",
      "Data(64, Window(1024, 'cosine_window', 1.0))\n",
      "Frequency(Data(64, Window(1024, 'cosine_window', 1.0)), f_range=(0.0, 0.5))\n",
      "tensor([1.191406250000e-01, 1.210918426514e-01], dtype=torch.float64)\n",
      "tensor([1.191406250000e-01, 1.210937500000e-01], dtype=torch.float64)\n",
      "tensor([1.191406250000e-01, 1.210937500000e-01], dtype=torch.float64)\n"
     ]
    },
    {
     "data": {
      "image/png": "[encoded data removed]",
      "text/plain": [
       "<Figure size 1080x360 with 1 Axes>"
      ]
     },
     "metadata": {
      "needs_background": "light"
     },
     "output_type": "display_data"
    },
    {
     "name": "stdout",
     "output_type": "stream",
     "text": [
      "tensor([1.150000000000e-01, 1.249902343750e-01], dtype=torch.float64)\n",
      "tensor([1.150000000000e-01, 1.250000000000e-01], dtype=torch.float64)\n"
     ]
    },
    {
     "data": {
      "image/png": "[encoded data removed]",
      "text/plain": [
       "<Figure size 1080x360 with 1 Axes>"
      ]
     },
     "metadata": {
      "needs_background": "light"
     },
     "output_type": "display_data"
    }
   ],
   "source": [
    "# FFRFT can be used for local DTFT spectrum interpolation\n",
    "\n",
    "# Set parameters (64 signals with length 1024)\n",
    "dtype, device = torch.float64, 'cpu'\n",
    "size, length = 64, 1024\n",
    "\n",
    "# Set window\n",
    "w = Window.from_cosine(length, order=1.0, dtype=dtype, device=device)\n",
    "print(w)\n",
    "\n",
    "# Set TbT data (64 signals with two components and different amplitudes)\n",
    "t = torch.linspace(1.0, length, length, dtype=dtype, device=device)\n",
    "data = torch.stack([i*torch.sin(2.0*numpy.pi*1*0.12*t) + 0.01*i*torch.sin(2.0*numpy.pi*2*0.12*t) for i in range(1, size + 1)])\n",
    "d = Data.from_data(w, data)\n",
    "print(d)\n",
    "\n",
    "# Initialize Frequency instance\n",
    "f = Frequency(d)\n",
    "print(f)\n",
    "\n",
    "# Apply window (note, window is applied to work)\n",
    "d.window_remove_mean()\n",
    "d.window_apply()\n",
    "\n",
    "# Compute FFT amplitude spectrum\n",
    "f.fft_get_spectrum()\n",
    "\n",
    "# By default for FFRFT spectrum, FFT frequency estimation is used\n",
    "# And frequency range is equal to 2 FFT bins around max FFT bin\n",
    "# This can be changed by setting fraction parameter on initialization\n",
    "# Or by setting ffrft_span attibute directry after initialization\n",
    "# Use default value.\n",
    "f.ffrft_span = 2.0/f.length\n",
    "\n",
    "# If ffrft_flag is False, ffrft_initialize_spectrum is invoked\n",
    "# ffrft_flag is set to True, futher calls do not reinitialize FFRFT\n",
    "# No need to initialize for fixed signal length\n",
    "\n",
    "# Compute FFT frequency estimation (used to define FFRFT frequency center)\n",
    "f.fft_get_frequency()\n",
    "\n",
    "# Compute FFRFT amplitude spectrum\n",
    "f.ffrft_get_spectrum()\n",
    "\n",
    "# Note, last point is not included\n",
    "print(torch.stack([f.ffrft_get_grid(0)[0], f.ffrft_get_grid(0)[-1]]))\n",
    "print(torch.stack([f.ffrft_get_grid(0)[0], f.ffrft_get_grid(0)[-1] + f.ffrft_span*f.fft_step]))\n",
    "print(torch.stack([f.fft_frequency[0] - f.fft_step, f.fft_frequency[0] + f.fft_step]))\n",
    "\n",
    "# Plot (log10) FFT spectrum for given signal id\n",
    "idx = 0\n",
    "plt.figure(figsize=(15,5))\n",
    "plt.scatter(f.ffrft_get_grid(idx).cpu(), torch.log10(f.ffrft_spectrum[idx].cpu()), s=0.5, c='r')\n",
    "plt.scatter(f.fft_grid.cpu(), torch.log10(f.fft_spectrum[idx].cpu()), s=5.0, c='b')\n",
    "plt.xlim(0.12 - 0.01, 0.12 + 0.01)\n",
    "plt.ylim(-6.0, 4.0)\n",
    "plt.show()\n",
    "\n",
    "# FFRFT can be used with custom range\n",
    "# In this case all signals share this range, while for the default case, each signal range is defined by its FFT frequency\n",
    "# In all cases range length is the same for all signals\n",
    "\n",
    "# Compute FFRFT amplitude spectrum with custom range\n",
    "# Range (f_min, f_max) = (center - 0.5*span, center + 0.5*span - span/length)\n",
    "f.ffrft_get_spectrum(center=0.12, span=0.01)\n",
    "\n",
    "# Note, last point is not included\n",
    "print(torch.stack([f.ffrft_get_grid(0)[0], f.ffrft_get_grid(0)[-1]]))\n",
    "print(torch.stack([f.ffrft_get_grid(0)[0], f.ffrft_get_grid(0)[-1] + f.ffrft_span*f.fft_step]))\n",
    "\n",
    "# Plot (log10) FFT spectrum for given signal id\n",
    "idx = 0\n",
    "plt.figure(figsize=(15,5))\n",
    "plt.scatter(f.ffrft_get_grid(idx).cpu(), torch.log10(f.ffrft_spectrum[idx].cpu()), s=0.5, c='r')\n",
    "plt.scatter(f.fft_grid.cpu(), torch.log10(f.fft_spectrum[idx].cpu()), s=5.0, c='b')\n",
    "plt.xlim(0.12 - 0.01, 0.12 + 0.01)\n",
    "plt.ylim(-6.0, 4.0)\n",
    "plt.vlines(0.12, -6.0, 4.0, colors='black', linestyles='dashed')\n",
    "plt.vlines(0.12 - 0.01/2, -6.0, 4.0, colors='black', linestyles='dashed')\n",
    "plt.vlines(0.12 + 0.01/2, -6.0, 4.0, colors='black', linestyles='dashed')\n",
    "plt.show()\n",
    "\n",
    "# Clean\n",
    "del w\n",
    "del t, data\n",
    "del d\n",
    "del f\n",
    "if device != 'cpu':\n",
    "    torch.cuda.synchronize()\n",
    "    torch.cuda.empty_cache()"
   ]
  },
  {
   "cell_type": "markdown",
   "id": "ee7deaa5",
   "metadata": {
    "heading_collapsed": true,
    "tags": []
   },
   "source": [
    "# Example-06: FFRFT/ZOOM frequency estimation"
   ]
  },
  {
   "cell_type": "code",
   "execution_count": 7,
   "id": "0f9161a5-da72-4640-8a12-c5042e31d255",
   "metadata": {},
   "outputs": [
    {
     "name": "stdout",
     "output_type": "stream",
     "text": [
      "Window(1024, 'cosine_window', 1.0)\n",
      "Data(64, Window(1024, 'cosine_window', 1.0))\n",
      "Frequency(Data(64, Window(1024, 'cosine_window', 1.0)), f_range=(0.0, 0.5))\n",
      "Frequency(Data(64, Window(1024, 'cosine_window', 1.0)), f_range=(0.0, 0.5))\n",
      "tensor(1.171875000000e-04, dtype=torch.float64)\n",
      "tensor(4.882812499996e-06, dtype=torch.float64)\n",
      "tensor(8.392333984419e-07, dtype=torch.float64)\n",
      "tensor(1.144409179643e-07, dtype=torch.float64)\n"
     ]
    }
   ],
   "source": [
    "# FFRFT frequency estimation is based on local DTFT spectrum interpolation (near expected global maximum)\n",
    "# By default refined spectum is computed inside two FFT bins around maximum bin\n",
    "# In this case expected frequency error is proportional to 1/n^2\n",
    "\n",
    "# Set parameters (64 signals with length 1024)\n",
    "dtype, device = torch.float64, 'cpu'\n",
    "size, length = 64, 1024\n",
    "\n",
    "# Set window\n",
    "w = Window.from_cosine(length, order=1.0, dtype=dtype, device=device)\n",
    "print(w)\n",
    "\n",
    "# Set TbT data (64 signals with two components and different amplitudes)\n",
    "t = torch.linspace(1.0, length, length, dtype=dtype, device=device)\n",
    "data = torch.stack([i*torch.sin(2.0*numpy.pi*1*0.12*t) + 0.01*i*torch.sin(2.0*numpy.pi*2*0.12*t) for i in range(1, size + 1)])\n",
    "d = Data.from_data(w, data)\n",
    "print(d)\n",
    "\n",
    "# Initialize Frequency instance\n",
    "f1 = Frequency(d)\n",
    "f2 = Frequency(d, pad=8192, fraction=1.0)\n",
    "print(f1)\n",
    "print(f2)\n",
    "\n",
    "# Apply window (note, window is applied to work)\n",
    "d.window_remove_mean()\n",
    "d.window_apply()\n",
    "\n",
    "# Fraction between 1.0-2.0 should be save to use\n",
    "\n",
    "# Estimate frequency, see also task_ffrft\n",
    "f1('ffrft')\n",
    "f2('ffrft')\n",
    "\n",
    "# Compare results FFT & FFRFT estimations\n",
    "print(torch.abs(f1.fft_frequency.mean() - 0.12))\n",
    "print(torch.abs(f2.fft_frequency.mean() - 0.12))\n",
    "print(torch.abs(f1.ffrft_frequency.mean() - 0.12))\n",
    "print(torch.abs(f2.ffrft_frequency.mean() - 0.12))\n",
    "\n",
    "# Clean\n",
    "del w\n",
    "del t, data\n",
    "del d\n",
    "del f1, f2\n",
    "if device != 'cpu':\n",
    "    torch.cuda.synchronize()\n",
    "    torch.cuda.empty_cache()"
   ]
  },
  {
   "cell_type": "markdown",
   "id": "a8ff876c",
   "metadata": {
    "heading_collapsed": true,
    "tags": []
   },
   "source": [
    "# Example-07: Parabola frequency estimation"
   ]
  },
  {
   "cell_type": "code",
   "execution_count": 8,
   "id": "a5843fa3-1372-476d-8c8f-c1046f7126fd",
   "metadata": {},
   "outputs": [
    {
     "name": "stdout",
     "output_type": "stream",
     "text": [
      "Window(1024, 'cosine_window', 1.0)\n",
      "Data(64, Window(1024, 'cosine_window', 1.0))\n",
      "Frequency(Data(64, Window(1024, 'cosine_window', 1.0)), f_range=(0.0, 0.5))\n",
      "tensor(1.171875000000e-04, dtype=torch.float64)\n",
      "tensor(8.392333984419e-07, dtype=torch.float64)\n",
      "tensor(3.024490380366e-11, dtype=torch.float64)\n"
     ]
    }
   ],
   "source": [
    "# Parabola frequency estimation is based on parabolic interpolation of FFRFT amplitude spectrum\n",
    "# Three points are used to locate parabola maximum (FFRFT max bin and two poins around it)\n",
    "# Higher order polynomial can be used or a gradient free bracketing maximum search\n",
    "# Instead of interpolation, a polynomial (e.g. a parabola) can be fitted near the peak maximum\n",
    "# Without noise, parabolic interpolation significantly improves estimation accuracy\n",
    "# Window order impoves accuracy in this case too (flat top)\n",
    "# With noise accuracy gain from parabolic interpolation decreases\n",
    "# Application of window increases noise\n",
    "\n",
    "# Set parameters (64 signals with length 1024)\n",
    "dtype, device = torch.float64, 'cpu'\n",
    "size, length = 64, 1024\n",
    "\n",
    "# Set window\n",
    "w = Window.from_cosine(length, order=1.0, dtype=dtype, device=device)\n",
    "print(w)\n",
    "\n",
    "# Set TbT data (64 signals with two components and different amplitudes)\n",
    "t = torch.linspace(1.0, length, length, dtype=dtype, device=device)\n",
    "data = torch.stack([i*torch.sin(2.0*numpy.pi*1*0.12*t) + 0.01*i*torch.sin(2.0*numpy.pi*2*0.12*t) for i in range(1, size + 1)])\n",
    "d = Data.from_data(w, data)\n",
    "print(d)\n",
    "\n",
    "# Initialize Frequency instance\n",
    "f = Frequency(d)\n",
    "print(f)\n",
    "\n",
    "# Apply window (note, window is applied to work)\n",
    "d.window_remove_mean()\n",
    "d.window_apply()\n",
    "\n",
    "# Estimate frequency, see also task_parabola\n",
    "f('parabola')\n",
    "\n",
    "# Compare results\n",
    "print(torch.abs(torch.mean(f.fft_frequency)-0.12))\n",
    "print(torch.abs(torch.mean(f.ffrft_frequency)-0.12))\n",
    "print(torch.abs(torch.mean(f.parabola_frequency)-0.12))\n",
    "\n",
    "# Clean\n",
    "del w\n",
    "del t, data\n",
    "del d\n",
    "del f\n",
    "if device != 'cpu':\n",
    "    torch.cuda.synchronize()\n",
    "    torch.cuda.empty_cache()"
   ]
  },
  {
   "cell_type": "markdown",
   "id": "9524ff78",
   "metadata": {
    "heading_collapsed": true,
    "tags": []
   },
   "source": [
    "# Example-08: Frequency vs signal start shift"
   ]
  },
  {
   "cell_type": "code",
   "execution_count": 9,
   "id": "392f7692-f124-4122-95ec-a11e7e041199",
   "metadata": {},
   "outputs": [
    {
     "name": "stdout",
     "output_type": "stream",
     "text": [
      "Window(8192, 'cosine_window', 1.0)\n",
      "Data(1, Window(8192, 'cosine_window', 1.0))\n",
      "Data(7169, Window(1024, 'cosine_window', 1.0))\n",
      "Frequency(Data(7169, Window(1024, 'cosine_window', 1.0)), f_range=(0.0, 0.5))\n",
      "tensor(1.171875000000e-04, dtype=torch.float64)\n",
      "tensor(8.392333984419e-07, dtype=torch.float64)\n",
      "tensor(1.861150122906e-13, dtype=torch.float64)\n"
     ]
    },
    {
     "data": {
      "image/png": "[encoded data removed]",
      "text/plain": [
       "<Figure size 1080x360 with 1 Axes>"
      ]
     },
     "metadata": {
      "needs_background": "light"
     },
     "output_type": "display_data"
    },
    {
     "name": "stdout",
     "output_type": "stream",
     "text": [
      "tensor(2.584960914924e-11, dtype=torch.float64)\n"
     ]
    }
   ],
   "source": [
    "# Set parameters (1 signal with length 8192)\n",
    "dtype, device = torch.float64, 'cpu'\n",
    "size, length = 1, 8192\n",
    "\n",
    "# Set window\n",
    "w = Window.from_cosine(length, order=1.0, dtype=dtype, device=device)\n",
    "print(w)\n",
    "\n",
    "# Set TbT data (1 signals with two components)\n",
    "t = torch.linspace(1.0, length, length, dtype=dtype, device=device)\n",
    "data = torch.stack([i*torch.sin(2.0*numpy.pi*1*0.12*t) + 0.01*i*torch.sin(2.0*numpy.pi*2*0.12*t) for i in range(1, size + 1)])\n",
    "d = Data.from_data(w, data)\n",
    "print(d)\n",
    "\n",
    "# Generate matrix shifted signal\n",
    "data = d.make_matrix(1024, 1, d.data[0])\n",
    "w = Window.from_cosine(1024, order=1.0, dtype=dtype, device=device)\n",
    "d = Data.from_data(w, data)\n",
    "print(d)\n",
    "\n",
    "# Initialize Frequency instance\n",
    "f = Frequency(d)\n",
    "print(f)\n",
    "\n",
    "# Apply window (note, window is applied to work)\n",
    "d.window_remove_mean()\n",
    "d.window_apply()\n",
    "\n",
    "# Estimate frequency, see also task_parabola\n",
    "f('parabola')\n",
    "\n",
    "# Compare results\n",
    "print(torch.abs(torch.mean(f.fft_frequency)-0.12))\n",
    "print(torch.abs(torch.mean(f.ffrft_frequency)-0.12))\n",
    "print(torch.abs(torch.mean(f.parabola_frequency)-0.12))\n",
    "\n",
    "# Plot result\n",
    "plt.figure(figsize=(15,5))\n",
    "plt.hist(100*(f.frequency.cpu().numpy()-0.12)/0.12, bins=50, range=(-1.0E-6, +1.0E-6))\n",
    "plt.xlim(-1.0E-6, +1.0E-6)\n",
    "plt.show()\n",
    "\n",
    "# Spread\n",
    "print(f.parabola_frequency.std().cpu())\n",
    "\n",
    "# Clean\n",
    "del w\n",
    "del t, data\n",
    "del d\n",
    "del f\n",
    "if device != 'cpu':\n",
    "    torch.cuda.synchronize()\n",
    "    torch.cuda.empty_cache()"
   ]
  },
  {
   "cell_type": "markdown",
   "id": "32735d0d",
   "metadata": {
    "heading_collapsed": true,
    "tags": []
   },
   "source": [
    "# Example-09: Frequency vs signal start shift (noise)"
   ]
  },
  {
   "cell_type": "code",
   "execution_count": 10,
   "id": "0e71b948-10a2-4a3a-8bca-2d15c8c122a8",
   "metadata": {},
   "outputs": [
    {
     "name": "stdout",
     "output_type": "stream",
     "text": [
      "Window(8192, 'cosine_window', 1.0)\n",
      "Data(1, Window(8192, 'cosine_window', 1.0))\n",
      "Data(7169, Window(1024, 'cosine_window', 1.0))\n",
      "Frequency(Data(7169, Window(1024, 'cosine_window', 1.0)), f_range=(0.0, 0.5))\n",
      "tensor(1.171875000000e-04, dtype=torch.float64)\n",
      "tensor(1.216829363521e-07, dtype=torch.float64)\n",
      "tensor(7.003482835333e-09, dtype=torch.float64)\n"
     ]
    },
    {
     "data": {
      "image/png": "[encoded data removed]",
      "text/plain": [
       "<Figure size 1080x360 with 1 Axes>"
      ]
     },
     "metadata": {
      "needs_background": "light"
     },
     "output_type": "display_data"
    },
    {
     "name": "stdout",
     "output_type": "stream",
     "text": [
      "tensor(3.649379732459e-07, dtype=torch.float64)\n"
     ]
    }
   ],
   "source": [
    "# Set parameters (1 signal with length 8192)\n",
    "dtype, device = torch.float64, 'cpu'\n",
    "size, length = 1, 8192\n",
    "\n",
    "# Set window\n",
    "w = Window.from_cosine(length, order=1.0, dtype=dtype, device=device)\n",
    "print(w)\n",
    "\n",
    "# Set TbT data (1 signals with two components)\n",
    "t = torch.linspace(1.0, length, length, dtype=dtype, device=device)\n",
    "data = torch.stack([i*torch.sin(2.0*numpy.pi*1*0.12*t) + 0.01*i*torch.sin(2.0*numpy.pi*2*0.12*t) for i in range(1, size + 1)])\n",
    "d = Data.from_data(w, data)\n",
    "print(d)\n",
    "\n",
    "# Generate matrix shifted signal\n",
    "data = d.make_matrix(1024, 1, d.data[0])\n",
    "w = Window.from_cosine(1024, order=1.0, dtype=dtype, device=device)\n",
    "d = Data.from_data(w, data)\n",
    "print(d)\n",
    "\n",
    "# Add noise to each signal\n",
    "for i in range(d.size):\n",
    "    d.data[i] += 0.01*torch.randn(d.length, dtype=dtype, device=device)\n",
    "d.reset()\n",
    "\n",
    "# Initialize Frequency instance\n",
    "f = Frequency(d)\n",
    "print(f)\n",
    "\n",
    "# Apply window (note, window is applied to work)\n",
    "d.window_remove_mean()\n",
    "d.window_apply()\n",
    "\n",
    "# Estimate frequency, see also task_parabola\n",
    "f('parabola')\n",
    "\n",
    "# Compare results\n",
    "print(torch.abs(torch.mean(f.fft_frequency)-0.12))\n",
    "print(torch.abs(torch.mean(f.ffrft_frequency)-0.12))\n",
    "print(torch.abs(torch.mean(f.parabola_frequency)-0.12))\n",
    "\n",
    "# Plot result\n",
    "plt.figure(figsize=(15,5))\n",
    "plt.hist(100*(f.frequency.cpu().numpy()-0.12)/0.12, bins=50, range=(-1.0E-3, +1.0E-3))\n",
    "plt.xlim(-1.0E-3, +1.0E-3)\n",
    "plt.show()\n",
    "\n",
    "# Spread\n",
    "print(f.parabola_frequency.std().cpu())\n",
    "\n",
    "# Clean\n",
    "del w\n",
    "del t, data\n",
    "del d\n",
    "del f\n",
    "if device != 'cpu':\n",
    "    torch.cuda.synchronize()\n",
    "    torch.cuda.empty_cache()"
   ]
  },
  {
   "cell_type": "markdown",
   "id": "c4e46a90",
   "metadata": {
    "heading_collapsed": true,
    "tags": []
   },
   "source": [
    "# Example-10: Frequency vs signal start shift (correlated noise)"
   ]
  },
  {
   "cell_type": "code",
   "execution_count": 11,
   "id": "dc2e5cc5-30b9-4e63-99c7-53a690e4febb",
   "metadata": {},
   "outputs": [
    {
     "name": "stdout",
     "output_type": "stream",
     "text": [
      "Window(8192, 'cosine_window', 1.0)\n",
      "Data(1, Window(8192, 'cosine_window', 1.0))\n",
      "Data(7169, Window(1024, 'cosine_window', 1.0))\n",
      "Frequency(Data(7169, Window(1024, 'cosine_window', 1.0)), f_range=(0.0, 0.5))\n",
      "tensor(1.171875000000e-04, dtype=torch.float64)\n",
      "tensor(5.570128466803e-08, dtype=torch.float64)\n",
      "tensor(8.571680643055e-09, dtype=torch.float64)\n"
     ]
    },
    {
     "data": {
      "image/png": "[encoded data removed]",
      "text/plain": [
       "<Figure size 1080x360 with 1 Axes>"
      ]
     },
     "metadata": {
      "needs_background": "light"
     },
     "output_type": "display_data"
    },
    {
     "name": "stdout",
     "output_type": "stream",
     "text": [
      "tensor(3.755888063949e-07, dtype=torch.float64)\n"
     ]
    }
   ],
   "source": [
    "# Set parameters (1 signal with length 8192)\n",
    "dtype, device = torch.float64, 'cpu'\n",
    "size, length = 1, 8192\n",
    "\n",
    "# Set window\n",
    "w = Window.from_cosine(length, order=1.0, dtype=dtype, device=device)\n",
    "print(w)\n",
    "\n",
    "# Set TbT data (1 signals with two components and random noise)\n",
    "t = torch.linspace(1.0, length, length, dtype=dtype, device=device)\n",
    "data = torch.stack([i*torch.sin(2.0*numpy.pi*1*0.12*t) + 0.01*i*torch.sin(2.0*numpy.pi*2*0.12*t) for i in range(1, size + 1)])\n",
    "data += 0.01*torch.randn(length, dtype=dtype, device=device)\n",
    "d = Data.from_data(w, data)\n",
    "print(d)\n",
    "\n",
    "# Generate matrix shifted signal\n",
    "data = d.make_matrix(1024, 1, d.data[0])\n",
    "w = Window.from_cosine(1024, order=1.0, dtype=dtype, device=device)\n",
    "d = Data.from_data(w, data)\n",
    "print(d)\n",
    "\n",
    "# Initialize Frequency instance\n",
    "f = Frequency(d)\n",
    "print(f)\n",
    "\n",
    "# Apply window (note, window is applied to work)\n",
    "d.window_remove_mean()\n",
    "d.window_apply()\n",
    "\n",
    "# Estimate frequency, see also task_parabola\n",
    "f('parabola')\n",
    "\n",
    "# Compare results\n",
    "print(torch.abs(torch.mean(f.fft_frequency)-0.12))\n",
    "print(torch.abs(torch.mean(f.ffrft_frequency)-0.12))\n",
    "print(torch.abs(torch.mean(f.parabola_frequency)-0.12))\n",
    "\n",
    "# Plot result\n",
    "plt.figure(figsize=(15,5))\n",
    "plt.hist(100*(f.frequency.cpu().numpy()-0.12)/0.12, bins=50, range=(-1.0E-3, +1.0E-3))\n",
    "plt.xlim(-1.0E-3, +1.0E-3)\n",
    "plt.show()\n",
    "\n",
    "# Spread\n",
    "print(f.parabola_frequency.std().cpu())\n",
    "\n",
    "# Clean\n",
    "del w\n",
    "del t, data\n",
    "del d\n",
    "del f\n",
    "if device != 'cpu':\n",
    "    torch.cuda.synchronize()\n",
    "    torch.cuda.empty_cache()"
   ]
  },
  {
   "cell_type": "markdown",
   "id": "700e0a0d",
   "metadata": {
    "heading_collapsed": true,
    "tags": []
   },
   "source": [
    "# Example-11: Iterative decomposition"
   ]
  },
  {
   "cell_type": "code",
   "execution_count": 12,
   "id": "4ba9177b-41fd-408a-b842-31e6e005c76c",
   "metadata": {},
   "outputs": [
    {
     "name": "stdout",
     "output_type": "stream",
     "text": [
      "[2.]\n",
      "[0.12 1.   0.1 ]\n",
      "[0.24  0.005 0.01 ]\n",
      "[3.6e-01 1.0e-04 1.0e-05]\n"
     ]
    },
    {
     "data": {
      "image/png": "[encoded data removed]",
      "text/plain": [
       "<Figure size 1080x360 with 1 Axes>"
      ]
     },
     "metadata": {
      "needs_background": "light"
     },
     "output_type": "display_data"
    },
    {
     "name": "stdout",
     "output_type": "stream",
     "text": [
      "9.731337653646109e-11\n"
     ]
    }
   ],
   "source": [
    "# Set parameters\n",
    "dtype, device = torch.float64, 'cpu'\n",
    "size, length = 1, 1024\n",
    "\n",
    "# Set window\n",
    "w = Window.from_cosine(length, order=4.0, dtype=dtype, device=device)\n",
    "\n",
    "# Set data\n",
    "t  = torch.linspace(0.0, length-1, length, dtype=dtype, device=device)\n",
    "data  = 1.0000*torch.cos(2.0*numpy.pi*1*0.12*t) + 0.10000*torch.sin(2.0*numpy.pi*1*0.12*t)\n",
    "data += 0.0050*torch.cos(2.0*numpy.pi*2*0.12*t) + 0.01000*torch.sin(2.0*numpy.pi*2*0.12*t)\n",
    "data += 0.0001*torch.cos(2.0*numpy.pi*3*0.12*t) + 0.00001*torch.sin(2.0*numpy.pi*3*0.12*t)\n",
    "data += 2.0\n",
    "data  = torch.stack([data])\n",
    "d = Data.from_data(w, data)\n",
    "\n",
    "# Compute (window weighted) mean value\n",
    "print(d.window_mean().flatten().cpu().numpy())\n",
    "\n",
    "# Remove (window weighted) mean value\n",
    "# Note, mean is removed from work\n",
    "d.window_remove_mean()\n",
    "d.data.copy_(d.work)\n",
    "\n",
    "# Initialize Frequency instance\n",
    "f = Frequency(d)\n",
    "\n",
    "# Perform decomposition (component-by-component subtraction)\n",
    "for _ in range(3):\n",
    "    \n",
    "    # Remove mean and apply window\n",
    "    d.window_apply()\n",
    "    \n",
    "    # Estimate main harmonic frequency\n",
    "    f('parabola')\n",
    "    frequency = f.frequency[0]\n",
    "    \n",
    "    # Estimate main harmonic parameters\n",
    "    cos = 2.0*torch.dot(d.data[0]*w.window, torch.cos(2.0*numpy.pi*frequency*t))/w.total\n",
    "    sin = 2.0*torch.dot(d.data[0]*w.window, torch.sin(2.0*numpy.pi*frequency*t))/w.total\n",
    "    \n",
    "    # Subtract harmonic\n",
    "    harmonic = cos*torch.cos(2.0*numpy.pi*frequency*t) + sin*torch.sin(2.0*numpy.pi*frequency*t)\n",
    "    d.data.sub_(harmonic)\n",
    "    \n",
    "    # Reset work\n",
    "    d.reset()\n",
    "    \n",
    "    # Print result\n",
    "    print(torch.stack([frequency, cos, sin]).cpu().numpy())\n",
    "    \n",
    "\n",
    "# Plot Residual\n",
    "plt.figure(figsize=(15,5))\n",
    "plt.hist(d.data[0].cpu().numpy(), bins=100, range=(-1.0E-9, +1.0E-9))\n",
    "plt.show()\n",
    "\n",
    "# Residual spread\n",
    "print(d.data.std().item())\n",
    "\n",
    "# Clean\n",
    "del w\n",
    "del t, data\n",
    "del d\n",
    "del f\n",
    "if device != 'cpu':\n",
    "    torch.cuda.synchronize()\n",
    "    torch.cuda.empty_cache()"
   ]
  },
  {
   "cell_type": "markdown",
   "id": "5c51222b",
   "metadata": {
    "heading_collapsed": true,
    "tags": []
   },
   "source": [
    "# Example-12: Mixed frequency (direct computation)"
   ]
  },
  {
   "cell_type": "code",
   "execution_count": 13,
   "id": "e4940c39-2b00-48d3-9291-9ae42d9d3f39",
   "metadata": {},
   "outputs": [
    {
     "name": "stdout",
     "output_type": "stream",
     "text": [
      "0.46311690126299115\n",
      "0.4631161977901517\n",
      "7.034728394805789e-07\n",
      "0.4631161977901517\n"
     ]
    }
   ],
   "source": [
    "# Set window\n",
    "device = 'cpu'\n",
    "w = Window(4096, name='cosine_window', order=1.0, dtype=torch.float64, device=device)\n",
    "\n",
    "# Load test TbT data from file (linear lattice without noise)\n",
    "d = Data.from_file(54, w, '../virtual_tbt.npy')\n",
    "\n",
    "# Remove mean and apply window\n",
    "d.window_remove_mean()\n",
    "d.window_apply()\n",
    "\n",
    "# Compute reference frequency\n",
    "f = Frequency(d)\n",
    "f('parabola')\n",
    "ref = f.frequency.mean()\n",
    "print(ref.item())\n",
    "\n",
    "# Generate mixed signal\n",
    "keep = 32\n",
    "data = d.data[:, :keep]\n",
    "data = (data - data.mean(1).reshape(-1, 1))/data.std(1).reshape(-1, 1)\n",
    "data = d.make_signal(keep, data)\n",
    "\n",
    "# Generate window and TbT for mixed signal\n",
    "w = Window(len(data), name='cosine_window', order=1.0, dtype=torch.float64, device=device)\n",
    "d = Data.from_data(w, data.reshape(1, -1))\n",
    "d.window_apply()\n",
    "\n",
    "# Compute frequency\n",
    "f = Frequency(d)\n",
    "f('parabola', f_range=(8.5/54, 8.6/54))\n",
    "res = 9.0 - 54*f.frequency.mean()\n",
    "print(res.item())\n",
    "\n",
    "# Compare\n",
    "print((ref - res).item())\n",
    "\n",
    "# Note, the above is also avalible as a separate method (work container is used)\n",
    "w = Window(4096, name='cosine_window', order=1.0, dtype=torch.float64, device=device)\n",
    "d = Data.from_file(54, w, '../virtual_tbt.npy')\n",
    "f = Frequency(d)\n",
    "*_, res = 9.0 - f.task_mixed_frequency(length=keep, f_range=(8.5, 8.6), order=1.0)\n",
    "print(res.item())\n",
    "\n",
    "# Clean\n",
    "del w\n",
    "del data\n",
    "del d\n",
    "del f\n",
    "if device != 'cpu':\n",
    "    torch.cuda.synchronize()\n",
    "    torch.cuda.empty_cache()"
   ]
  },
  {
   "cell_type": "markdown",
   "id": "d32219c1",
   "metadata": {
    "heading_collapsed": true,
    "tags": []
   },
   "source": [
    "# Example-13: Mean spectrum"
   ]
  },
  {
   "cell_type": "code",
   "execution_count": 14,
   "id": "6ec9075f-b671-4efe-9ae3-3c20ea290411",
   "metadata": {},
   "outputs": [
    {
     "name": "stdout",
     "output_type": "stream",
     "text": [
      "Window(4096, 'cosine_window', 1.0)\n",
      "Data(54, Window(4096, 'cosine_window', 1.0))\n",
      "Frequency(Data(54, Window(4096, 'cosine_window', 1.0)), f_range=(0.0, 0.5))\n"
     ]
    },
    {
     "data": {
      "image/png": "[encoded data removed]",
      "text/plain": [
       "<Figure size 1080x360 with 1 Axes>"
      ]
     },
     "metadata": {
      "needs_background": "light"
     },
     "output_type": "display_data"
    }
   ],
   "source": [
    "# Set window\n",
    "device = 'cpu'\n",
    "w = Window(4096, name='cosine_window', order=1.0, dtype=torch.float64, device=device)\n",
    "print(w)\n",
    "\n",
    "# Load TbT data from file and add noise\n",
    "d = Data.from_file(54, w, '../virtual_tbt.npy')\n",
    "s = 1.0E-4*torch.ones(54, dtype=torch.float64)\n",
    "d.add_noise(s)\n",
    "print(d)\n",
    "\n",
    "# Apply window (note, window is applied to work)\n",
    "d.window_remove_mean()\n",
    "d.window_apply()\n",
    "\n",
    "# Initialize Frequency instance\n",
    "f = Frequency(d)\n",
    "print(f)\n",
    "\n",
    "# Compute frequencies\n",
    "# self.frequency container is used for normalization of each signal spectrum\n",
    "f('parabola')\n",
    "\n",
    "# Compute mean spectrum\n",
    "# Note, spectra are not recomputed, normalization and averaging is performed\n",
    "grid, spectrum = f.task_mean_spectrum(log=False)\n",
    "\n",
    "# Plot mean spectrum\n",
    "plt.figure(figsize=(15,5))\n",
    "plt.xlim(0.3, 0.5)\n",
    "plt.scatter(grid.cpu(), spectrum.cpu(), s=1, c='r')\n",
    "plt.show()\n",
    "\n",
    "# Clean\n",
    "del w\n",
    "del d\n",
    "del f\n",
    "del grid, spectrum\n",
    "if device != 'cpu':\n",
    "    torch.cuda.synchronize()\n",
    "    torch.cuda.empty_cache()"
   ]
  },
  {
   "cell_type": "markdown",
   "id": "cef87545",
   "metadata": {
    "heading_collapsed": true,
    "tags": []
   },
   "source": [
    "# Example-14: Mixed spectrum"
   ]
  },
  {
   "cell_type": "code",
   "execution_count": 15,
   "id": "084ca9b9-cda7-4df8-b8b4-12ddfee0a40f",
   "metadata": {},
   "outputs": [
    {
     "name": "stdout",
     "output_type": "stream",
     "text": [
      "Window(4096, 'cosine_window', 1.0)\n",
      "Data(54, Window(4096, 'cosine_window', 1.0))\n",
      "Frequency(Data(54, Window(4096, 'cosine_window', 1.0)), f_range=(0.0, 0.5))\n"
     ]
    },
    {
     "data": {
      "image/png": "[encoded data removed]",
      "text/plain": [
       "<Figure size 1080x216 with 1 Axes>"
      ]
     },
     "metadata": {
      "needs_background": "light"
     },
     "output_type": "display_data"
    },
    {
     "data": {
      "image/png": "[encoded data removed]",
      "text/plain": [
       "<Figure size 1080x216 with 1 Axes>"
      ]
     },
     "metadata": {
      "needs_background": "light"
     },
     "output_type": "display_data"
    },
    {
     "data": {
      "image/png": "[encoded data removed]",
      "text/plain": [
       "<Figure size 1080x216 with 1 Axes>"
      ]
     },
     "metadata": {
      "needs_background": "light"
     },
     "output_type": "display_data"
    }
   ],
   "source": [
    "# Load model data\n",
    "with open('../config.yaml', 'r') as stream:\n",
    "    config = yaml.safe_load(stream)\n",
    "    config = {key: config[key] for key in sorted(config.keys(), key=lambda name: config[name]['S'])}\n",
    "\n",
    "# Set normalized positions (used as locations with NUFFT)\n",
    "position = numpy.array([value['S'] for key, value in config.items() if value['TYPE'] == 'MONITOR'])/LENGTH\n",
    "\n",
    "# Set normalized accumulated phase advance between given monitor location and the next monitor location (used as locations with NUFFT)\n",
    "phase = numpy.array([value['FX'] for key, value in config.items() if value['TYPE'] == 'MONITOR' or key == 'END'])\n",
    "*_, tune = phase\n",
    "phase = numpy.diff(phase)\n",
    "phase = numpy.cumsum(phase)/tune\n",
    "start, *_ = phase\n",
    "phase = phase - start\n",
    "\n",
    "# Set window\n",
    "device = 'cpu'\n",
    "w = Window(4096, name='cosine_window', order=1.0, dtype=torch.float64, device=device)\n",
    "print(w)\n",
    "\n",
    "# Load TbT data from file and add noise\n",
    "d = Data.from_file(54, w, '../virtual_tbt.npy')\n",
    "s = 1.0E-4*torch.ones(54, dtype=torch.float64)\n",
    "d.add_noise(s)\n",
    "print(d)\n",
    "\n",
    "# Initialize Frequency instance\n",
    "f = Frequency(d)\n",
    "print(f)\n",
    "\n",
    "# Compute & plot mixed spectrum\n",
    "f_range=(5.0, 10.0)\n",
    "s1 = f.task_mixed_spectrum(length=1024, normalize=True, f_range=f_range, name='cosine_window', order=1.0, position=None)\n",
    "s2 = f.task_mixed_spectrum(length=1024, normalize=True, f_range=f_range, name='cosine_window', order=1.0, position=position)\n",
    "s3 = f.task_mixed_spectrum(length=1024, normalize=True, f_range=f_range, name='cosine_window', order=1.0, position=phase)\n",
    "plt.figure(figsize=(15,3))\n",
    "plt.scatter(*s1, c='red', s=1)\n",
    "plt.show()\n",
    "plt.figure(figsize=(15,3))\n",
    "plt.scatter(*s2, c='blue', s=1)\n",
    "plt.show()\n",
    "plt.figure(figsize=(15,3))\n",
    "plt.scatter(*s3, c='black', s=1)\n",
    "plt.show()\n",
    "\n",
    "# Clean\n",
    "del w\n",
    "del d\n",
    "del f\n",
    "del s1, s2, s3\n",
    "if device != 'cpu':\n",
    "    torch.cuda.synchronize()\n",
    "    torch.cuda.empty_cache()\n",
    "    \n",
    "# s1 -- (red)   pre-normalized mixed signal treated as if it is uniformly sampled\n",
    "# s2 -- (blue)  pre-normalized mixed signal and type-iii nufft with BPM normalized position as location\n",
    "# s3 -- (black) pre-normalized mixed signal and type-iii nufft with BPM normalized accumulated phase as location\n",
    "\n",
    "# As it can be seen, here s1 gives wrong integer part (location of peak with maximum amplitude)\n",
    "# But this is not always the case, filtering by beta function or phase can resolve this\n",
    "\n",
    "# Normalization is performed before to mixing to make mixed signal closer to a stationary one\n",
    "# Another option to reduce the effect of signal being non-stationary is to scale it with beta function\n",
    "# Or to remove BPMs where amplitudes are not close enough, e.g. near IP"
   ]
  },
  {
   "cell_type": "markdown",
   "id": "0b0f3a36",
   "metadata": {
    "heading_collapsed": true,
    "tags": []
   },
   "source": [
    "# Example-15: Mixed frequency (task)"
   ]
  },
  {
   "cell_type": "code",
   "execution_count": 16,
   "id": "a6df3845-75d4-41d5-b739-385ae1f7033b",
   "metadata": {},
   "outputs": [
    {
     "name": "stdout",
     "output_type": "stream",
     "text": [
      "Window(4096, 'cosine_window', 2.0)\n",
      "Data(54, Window(4096, 'cosine_window', 2.0))\n",
      "Frequency(Data(54, Window(4096, 'cosine_window', 2.0)), f_range=(0.0, 0.5))\n",
      "8.536883098737361\n",
      "8.536883098737315\n",
      "4.618527782440651e-14\n",
      "3.2377265211256743e-16\n",
      "[8.53125    8.53689236 8.5368838 ]\n",
      "[8.53676896 8.53689084 8.53689098]\n",
      "[8.53676896 8.53687776 8.53687766]\n",
      "[5.63309874e-03 9.26237375e-06 7.03472487e-07]\n",
      "[1.14135217e-04 7.74121759e-06 7.87950808e-06]\n",
      "[1.14135217e-04 5.33493356e-06 5.44336398e-06]\n"
     ]
    }
   ],
   "source": [
    "# Load model data\n",
    "with open('../config.yaml', 'r') as stream:\n",
    "    config = yaml.safe_load(stream)\n",
    "    config = {key: config[key] for key in sorted(config.keys(), key=lambda name: config[name]['S'])}\n",
    "\n",
    "# Set normalized positions (used as locations with NUFFT)\n",
    "position = numpy.array([value['S'] for key, value in config.items() if value['TYPE'] == 'MONITOR'])/LENGTH\n",
    "\n",
    "# Set normalized accumulated phase advance between given monitor location and the next monitor location (used as locations with NUFFT)\n",
    "phase = numpy.array([value['FX'] for key, value in config.items() if value['TYPE'] == 'MONITOR' or key == 'END'])\n",
    "*_, tune = phase\n",
    "phase = numpy.diff(phase)\n",
    "phase = numpy.cumsum(phase)/tune\n",
    "start, *_ = phase\n",
    "phase = phase - start\n",
    "tune = tune/(2.0*numpy.pi)\n",
    "\n",
    "# Set window\n",
    "device = 'cpu'\n",
    "w = Window(4096, name='cosine_window', order=2.0, dtype=torch.float64, device=device)\n",
    "print(w)\n",
    "\n",
    "# Load TbT data from file\n",
    "d = Data.from_file(54, w, '../virtual_tbt.npy')\n",
    "print(d)\n",
    "\n",
    "# Initialize Frequency instance\n",
    "f = Frequency(d)\n",
    "print(f)\n",
    "\n",
    "# Compute reference frequency\n",
    "d.window_remove_mean()\n",
    "d.window_apply()\n",
    "f('parabola')\n",
    "d.reset()\n",
    "mean = 9.0 - torch.mean(f.frequency).item()\n",
    "std = torch.std(f.frequency).item()\n",
    "print(tune)\n",
    "print(mean)\n",
    "print(abs(mean-tune))\n",
    "print(std)\n",
    "\n",
    "# Compute mixed frequencies in given range\n",
    "# Note, for small number of turns, result might be more accurate without window (set order to zero)\n",
    "# For large number of turns 'uniform' case is more accurate (might indicate a numerical problem with nufft)\n",
    "\n",
    "length = 32\n",
    "f1 = f.task_mixed_frequency(length=length, f_range=(8.5,9.0), order=1.0, normalize=True)\n",
    "f2 = f.task_mixed_frequency(length=length, f_range=(8.5,9.0), order=1.0, normalize=True, position=position)\n",
    "f3 = f.task_mixed_frequency(length=length, f_range=(8.5,9.0), order=1.0, normalize=True, position=phase)\n",
    "print(f1.cpu().numpy())\n",
    "print(f2.cpu().numpy())\n",
    "print(f3.cpu().numpy())\n",
    "print((f1 - tune).abs().cpu().numpy())\n",
    "print((f2 - tune).abs().cpu().numpy())\n",
    "print((f3 - tune).abs().cpu().numpy())\n",
    "\n",
    "# Clean\n",
    "del w\n",
    "del d\n",
    "del f\n",
    "del f1, f2, f3\n",
    "if device != 'cpu':\n",
    "    torch.cuda.synchronize()\n",
    "    torch.cuda.empty_cache()"
   ]
  },
  {
   "cell_type": "markdown",
   "id": "1bee56b6",
   "metadata": {
    "heading_collapsed": true,
    "tags": []
   },
   "source": [
    "# Example-16: Mixed frequency (task, with noise)"
   ]
  },
  {
   "cell_type": "code",
   "execution_count": 17,
   "id": "f397cc05-7d62-407b-acc7-a784f97d3bb8",
   "metadata": {},
   "outputs": [
    {
     "name": "stdout",
     "output_type": "stream",
     "text": [
      "Window(4096, 'cosine_window', 2.0)\n",
      "Data(54, Window(4096, 'cosine_window', 2.0))\n",
      "Frequency(Data(54, Window(4096, 'cosine_window', 2.0)), f_range=(0.0, 0.5))\n",
      "8.536883098737361\n",
      "8.536883125305092\n",
      "2.6567731126192484e-08\n",
      "3.072168524061256e-07\n",
      "[8.53125    8.53674769 8.53675048]\n",
      "[8.53676896 8.5367869  8.53678681]\n",
      "[8.53676896 8.53682009 8.53682015]\n",
      "[0.0056331  0.00013541 0.00013262]\n",
      "[1.14135217e-04 9.61974197e-05 9.62937221e-05]\n",
      "[1.14135217e-04 6.30041130e-05 6.29531968e-05]\n"
     ]
    }
   ],
   "source": [
    "# Load model data\n",
    "with open('../config.yaml', 'r') as stream:\n",
    "    config = yaml.safe_load(stream)\n",
    "    config = {key: config[key] for key in sorted(config.keys(), key=lambda name: config[name]['S'])}\n",
    "\n",
    "# Set normalized positions (used as locations with NUFFT)\n",
    "position = numpy.array([value['S'] for key, value in config.items() if value['TYPE'] == 'MONITOR'])/LENGTH\n",
    "\n",
    "# Set normalized accumulated phase advance between given monitor location and the next monitor location (used as locations with NUFFT)\n",
    "phase = numpy.array([value['FX'] for key, value in config.items() if value['TYPE'] == 'MONITOR' or key == 'END'])\n",
    "*_, tune = phase\n",
    "phase = numpy.diff(phase)\n",
    "phase = numpy.cumsum(phase)/tune\n",
    "start, *_ = phase\n",
    "phase = phase - start\n",
    "tune = tune/(2.0*numpy.pi)\n",
    "\n",
    "# Set window\n",
    "device = 'cpu'\n",
    "w = Window(4096, name='cosine_window', order=2.0, dtype=torch.float64, device=device)\n",
    "print(w)\n",
    "\n",
    "# Load TbT data from file and add noise\n",
    "d = Data.from_file(54, w, '../virtual_tbt.npy')\n",
    "s = 1.0E-4*torch.ones(54, dtype=torch.float64)\n",
    "d.add_noise(s)\n",
    "d.data.copy_(d.work)\n",
    "print(d)\n",
    "\n",
    "# Initialize Frequency instance\n",
    "f = Frequency(d)\n",
    "print(f)\n",
    "\n",
    "# Compute reference frequency\n",
    "d.window_remove_mean()\n",
    "d.window_apply()\n",
    "f('parabola')\n",
    "d.reset()\n",
    "mean = 9.0 - torch.mean(f.frequency).item()\n",
    "std = torch.std(f.frequency).item()\n",
    "print(tune)\n",
    "print(mean)\n",
    "print(abs(mean-tune))\n",
    "print(std)\n",
    "\n",
    "# Compute mixed frequencies in given range\n",
    "length = 32\n",
    "f1 = f.task_mixed_frequency(length=length, f_range=(8.5,9.0), order=1.0, normalize=True)\n",
    "f2 = f.task_mixed_frequency(length=length, f_range=(8.5,9.0), order=1.0, normalize=True, position=position)\n",
    "f3 = f.task_mixed_frequency(length=length, f_range=(8.5,9.0), order=1.0, normalize=True, position=phase)\n",
    "print(f1.cpu().numpy())\n",
    "print(f2.cpu().numpy())\n",
    "print(f3.cpu().numpy())\n",
    "print((f1 - tune).abs().cpu().numpy())\n",
    "print((f2 - tune).abs().cpu().numpy())\n",
    "print((f3 - tune).abs().cpu().numpy())\n",
    "\n",
    "# Clean\n",
    "del w\n",
    "del d\n",
    "del f\n",
    "del f1, f2, f3\n",
    "if device != 'cpu':\n",
    "    torch.cuda.synchronize()\n",
    "    torch.cuda.empty_cache()"
   ]
  },
  {
   "cell_type": "markdown",
   "id": "a5bcbd33",
   "metadata": {
    "heading_collapsed": true,
    "tags": []
   },
   "source": [
    "# Example-17: Mean spectrum (masked component)\n"
   ]
  },
  {
   "cell_type": "code",
   "execution_count": 18,
   "id": "7e3c2154-5eeb-4e04-b077-0130d4d0b602",
   "metadata": {},
   "outputs": [
    {
     "name": "stdout",
     "output_type": "stream",
     "text": [
      "Window(1024, 'cosine_window', 1.0)\n",
      "Data(128, Window(1024, 'cosine_window', 1.0))\n",
      "Frequency(Data(128, Window(1024, 'cosine_window', 1.0)), f_range=(0.0, 0.5))\n"
     ]
    },
    {
     "data": {
      "image/png": "[encoded data removed]",
      "text/plain": [
       "<Figure size 1080x360 with 1 Axes>"
      ]
     },
     "metadata": {
      "needs_background": "light"
     },
     "output_type": "display_data"
    }
   ],
   "source": [
    "# Set window\n",
    "device = 'cpu'\n",
    "w = Window(1024, name='cosine_window', order=1.0, dtype=torch.float64, device=device)\n",
    "print(w)\n",
    "\n",
    "# Set data\n",
    "t = torch.linspace(0.0, len(w)-1.0, len(w), dtype=w.dtype, device=w.device)\n",
    "data = torch.cos(2.0*numpy.pi*0.12345*t) + 1.0E-2*torch.cos(2.0*numpy.pi*2.0*0.12345*t)\n",
    "data = torch.stack([data + 5.0E-2*torch.randn(len(w)) for _ in range(128)])\n",
    "\n",
    "# Set TbT\n",
    "d = Data.from_data(w, data)\n",
    "print(d)\n",
    "\n",
    "# Apply window (note, window is applied to work)\n",
    "d.window_remove_mean()\n",
    "d.window_apply()\n",
    "\n",
    "# Initialize Frequency instance\n",
    "f = Frequency(d)\n",
    "print(f)\n",
    "\n",
    "# Compute frequencies\n",
    "# self.frequency container is used for normalization of each signal spectrum\n",
    "f('parabola')\n",
    "\n",
    "# Compute mean spectrum\n",
    "# Note, spectra are not recomputed, normalization and averaging is performed\n",
    "grid, spectrum = f.task_mean_spectrum(log=True)\n",
    "\n",
    "# Plot mean spectrum\n",
    "plt.figure(figsize=(15,5))\n",
    "plt.xlim(0.1, 0.3)\n",
    "plt.ylim(-3.0, 1.0)\n",
    "plt.scatter(grid.cpu(), spectrum.cpu(), s=1, c='r')\n",
    "plt.show()\n",
    "\n",
    "# Clean\n",
    "del w\n",
    "del d\n",
    "del f\n",
    "del grid, spectrum\n",
    "if device != 'cpu':\n",
    "    torch.cuda.synchronize()\n",
    "    torch.cuda.empty_cache()"
   ]
  },
  {
   "cell_type": "markdown",
   "id": "074a7e40",
   "metadata": {
    "heading_collapsed": true,
    "tags": []
   },
   "source": [
    "# Example-18: Non-uniform sampling"
   ]
  },
  {
   "cell_type": "code",
   "execution_count": 19,
   "id": "8ff65dfa",
   "metadata": {
    "hidden": true
   },
   "outputs": [
    {
     "data": {
      "image/png": "[encoded data removed]",
      "text/plain": [
       "<Figure size 1080x360 with 1 Axes>"
      ]
     },
     "metadata": {
      "needs_background": "light"
     },
     "output_type": "display_data"
    }
   ],
   "source": [
    "# Uniform sampling (stationary)\n",
    "\n",
    "r = 10\n",
    "l = 8192\n",
    "t = torch.linspace(0.0, 1.0-1.0/r, r, dtype=torch.float64)\n",
    "t = torch.cat([t + i for i in range(l)])\n",
    "\n",
    "a = [1.0, 0.25]\n",
    "f = [1.12345, 3.23456]\n",
    "s = torch.sum(torch.stack([a[i]*torch.cos(2.0*numpy.pi*f[i]*t) for i in range(len(f))]), 0)\n",
    "\n",
    "f_min, f_max = 0.0, 10.0\n",
    "grid = 2.0*numpy.pi*numpy.linspace(f_min, f_max, len(t) + 1)\n",
    "data = nufft.nufft1d3(t, s, grid)\n",
    "\n",
    "plt.figure(figsize=(15, 5))\n",
    "plt.scatter(grid/(2.0*numpy.pi), numpy.abs(data), c='b', s=1)\n",
    "plt.show()"
   ]
  },
  {
   "cell_type": "code",
   "execution_count": 20,
   "id": "0b68412d",
   "metadata": {
    "hidden": true
   },
   "outputs": [
    {
     "data": {
      "image/png": "[encoded data removed]",
      "text/plain": [
       "<Figure size 1080x360 with 1 Axes>"
      ]
     },
     "metadata": {
      "needs_background": "light"
     },
     "output_type": "display_data"
    }
   ],
   "source": [
    "# Non-uniform periodic sampling (stationary)\n",
    "\n",
    "r = 10\n",
    "l = 8192\n",
    "t = torch.sort(torch.rand(r, dtype=dtype)).values\n",
    "t = torch.cat([t + i for i in range(l)])\n",
    "\n",
    "a = [1.0, 0.25]\n",
    "f = [1.12345, 3.23456]\n",
    "s = torch.sum(torch.stack([a[i]*torch.cos(2.0*numpy.pi*f[i]*t) for i in range(len(f))]), 0)\n",
    "\n",
    "f_min, f_max = 0.0, 10.0\n",
    "grid = 2.0*numpy.pi*numpy.linspace(f_min, f_max, len(t) + 1)\n",
    "data = nufft.nufft1d3(t, s, grid)\n",
    "\n",
    "plt.figure(figsize=(15, 5))\n",
    "plt.scatter(grid/(2.0*numpy.pi), numpy.abs(data), c='b', s=1)\n",
    "plt.show()"
   ]
  },
  {
   "cell_type": "code",
   "execution_count": 21,
   "id": "75169322",
   "metadata": {
    "hidden": true
   },
   "outputs": [
    {
     "data": {
      "image/png": "[encoded data removed]",
      "text/plain": [
       "<Figure size 1080x360 with 1 Axes>"
      ]
     },
     "metadata": {
      "needs_background": "light"
     },
     "output_type": "display_data"
    }
   ],
   "source": [
    "# Non-uniform random sampling (stationary)\n",
    "\n",
    "r = 10\n",
    "l = 8192\n",
    "t = torch.cat([torch.sort(torch.rand(r, dtype=dtype)).values + i for i in range(l)])\n",
    "\n",
    "a = [1.0, 0.25]\n",
    "f = [1.12345, 3.23456]\n",
    "s = torch.sum(torch.stack([a[i]*torch.cos(2.0*numpy.pi*f[i]*t) for i in range(len(f))]), 0)\n",
    "\n",
    "f_min, f_max = 0.0, 10.0\n",
    "grid = 2.0*numpy.pi*numpy.linspace(f_min, f_max, len(t) + 1)\n",
    "data = nufft.nufft1d3(t, s, grid)\n",
    "\n",
    "plt.figure(figsize=(15, 5))\n",
    "plt.scatter(grid/(2.0*numpy.pi), numpy.abs(data), c='b', s=1)\n",
    "plt.show()"
   ]
  },
  {
   "cell_type": "code",
   "execution_count": 22,
   "id": "ed05758b",
   "metadata": {
    "hidden": true
   },
   "outputs": [
    {
     "data": {
      "image/png": "[encoded data removed]",
      "text/plain": [
       "<Figure size 1080x360 with 1 Axes>"
      ]
     },
     "metadata": {
      "needs_background": "light"
     },
     "output_type": "display_data"
    }
   ],
   "source": [
    "# Non-uniform periodic sampling with random choice (stationary)\n",
    "\n",
    "c = 10\n",
    "r = 5*10\n",
    "l = 8192\n",
    "t = torch.sort(torch.rand(r, dtype=dtype)).values\n",
    "w = range(r)\n",
    "t = torch.cat([torch.sort(t[numpy.random.choice(w, size=c, replace=False)]).values + i for i in range(l)])\n",
    "\n",
    "a = [1.0, 0.25]\n",
    "f = [1.12345, 3.23456]\n",
    "s = torch.sum(torch.stack([a[i]*torch.cos(2.0*numpy.pi*f[i]*t) for i in range(len(f))]), 0)\n",
    "\n",
    "f_min, f_max = 0.0, 10.0\n",
    "grid = 2.0*numpy.pi*numpy.linspace(f_min, f_max, len(t) + 1)\n",
    "data = nufft.nufft1d3(t, s, grid)\n",
    "\n",
    "plt.figure(figsize=(15, 5))\n",
    "plt.scatter(grid/(2.0*numpy.pi), numpy.abs(data), c='b', s=1)\n",
    "plt.show()"
   ]
  },
  {
   "cell_type": "markdown",
   "id": "f9078d0a",
   "metadata": {
    "heading_collapsed": true,
    "tags": []
   },
   "source": [
    "# Example-19: Mixed frequency (threshold)"
   ]
  },
  {
   "cell_type": "code",
   "execution_count": 23,
   "id": "220f7a62-4642-4674-b313-2464810f69e5",
   "metadata": {},
   "outputs": [
    {
     "name": "stdout",
     "output_type": "stream",
     "text": [
      "Window(4096, 'cosine_window', 2.0)\n",
      "Data(52, Window(4096, 'cosine_window', 2.0))\n",
      "Frequency(Data(52, Window(4096, 'cosine_window', 2.0)), f_range=(0.0, 0.5))\n",
      "8.536883098737361\n",
      "8.536883098737315\n",
      "4.618527782440651e-14\n",
      "3.3685495502282104e-16\n",
      "[8.5390625  8.53688401 8.5368831 ]\n",
      "[8.53688956 8.53688005 8.53688005]\n",
      "[8.53688956 8.53688294 8.53688292]\n",
      "[2.17940126e-03 9.15685716e-07 5.51684920e-10]\n",
      "[6.45798691e-06 3.04775408e-06 3.05088603e-06]\n",
      "[6.45798691e-06 1.57647554e-07 1.77992783e-07]\n"
     ]
    }
   ],
   "source": [
    "# Set beta threshold\n",
    "beta = 50.0\n",
    "\n",
    "# Load model data\n",
    "with open('../config.yaml', 'r') as stream:\n",
    "    config = yaml.safe_load(stream)\n",
    "    config = {key: config[key] for key in sorted(config.keys(), key=lambda name: config[name]['S'])}\n",
    "\n",
    "# Set normalized positions (used as locations with NUFFT)\n",
    "position = numpy.array([value['S'] for key, value in config.items() if value['TYPE'] == 'MONITOR' and value['BX'] <= beta])/LENGTH\n",
    "\n",
    "# Set normalized accumulated phase advance between given monitor location and the next monitor location (used as locations with NUFFT)\n",
    "phase = numpy.array([value['FX'] for key, value in config.items() if (value['TYPE'] == 'MONITOR' and value['BX'] <= beta) or key == 'END'])\n",
    "*_, tune = phase\n",
    "phase = numpy.diff(phase)\n",
    "phase = numpy.cumsum(phase)/tune\n",
    "start, *_ = phase\n",
    "phase = phase - start\n",
    "tune = tune/(2.0*numpy.pi)\n",
    "\n",
    "# Set window\n",
    "device = 'cpu'\n",
    "w = Window(4096, name='cosine_window', order=2.0, dtype=torch.float64, device=device)\n",
    "print(w)\n",
    "\n",
    "# Load TbT data from file\n",
    "d = Data.from_file(54, w, '../virtual_tbt.npy')\n",
    "d = Data.from_data(w, torch.stack([signal for (signal, name) in zip(d, config) if config[name]['BX'] <= beta]))\n",
    "print(d)\n",
    "\n",
    "# Initialize Frequenshapeinstance\n",
    "f = Frequency(d)\n",
    "print(f)\n",
    "\n",
    "# Compute reference frequency\n",
    "d.window_remove_mean()\n",
    "d.window_apply()\n",
    "f('parabola')\n",
    "d.reset()\n",
    "mean = 9.0 - torch.mean(f.frequency).item()\n",
    "std = torch.std(f.frequency).item()\n",
    "print(tune)\n",
    "print(mean)\n",
    "print(abs(mean-tune))\n",
    "print(std)\n",
    "\n",
    "# Compute mixed frequencies in given range\n",
    "length = 128\n",
    "f1 = f.task_mixed_frequency(length=length, f_range=(8.0,9.0), order=1.0, normalize=True)\n",
    "f2 = f.task_mixed_frequency(length=length, f_range=(8.0,9.0), order=1.0, normalize=True, position=position)\n",
    "f3 = f.task_mixed_frequency(length=length, f_range=(8.0,9.0), order=1.0, normalize=True, position=phase)\n",
    "print(f1.cpu().numpy())\n",
    "print(f2.cpu().numpy())\n",
    "print(f3.cpu().numpy())\n",
    "print((f1 - tune).abs().cpu().numpy())\n",
    "print((f2 - tune).abs().cpu().numpy())\n",
    "print((f3 - tune).abs().cpu().numpy())\n",
    "\n",
    "# Clean\n",
    "del w\n",
    "del d\n",
    "del f\n",
    "del f1, f2, f3\n",
    "if device != 'cpu':\n",
    "    torch.cuda.synchronize()\n",
    "    torch.cuda.empty_cache()"
   ]
  },
  {
   "cell_type": "markdown",
   "id": "2cc51286",
   "metadata": {
    "heading_collapsed": true,
    "tags": []
   },
   "source": [
    "# Example-20: Uncertainty estimation with error propagation and fit"
   ]
  },
  {
   "cell_type": "code",
   "execution_count": 24,
   "id": "73467532-4308-40b1-8285-378e60f1692e",
   "metadata": {},
   "outputs": [
    {
     "name": "stdout",
     "output_type": "stream",
     "text": [
      "frequency: error=8.28638241773e-08, spread=3.67760443878e-06\n",
      "amplitude: error=6.34740507597e-05, spread=0.00523962927182\n"
     ]
    }
   ],
   "source": [
    "# Estimate frequency and amplitude uncertainty from multiple noise realizations\n",
    "\n",
    "# Set parameters\n",
    "dtype = torch.float64\n",
    "device = 'cpu'\n",
    "length = 1024\n",
    "\n",
    "# Set signal (harmonic signal with two components)\n",
    "time = torch.linspace(1, length, length, dtype=dtype, device=device)\n",
    "signal = 1.0*torch.cos(2.0*numpy.pi*0.12345*time) + 0.1*torch.cos(2.0*numpy.pi*2.0*0.12345*time)\n",
    "\n",
    "# Set TbT (signal copies with different noise realizations)\n",
    "std = 0.10\n",
    "w = Window.from_cosine(length, 1.0, dtype=dtype, device=device)\n",
    "data = torch.stack([signal + std*torch.randn(length, dtype=dtype, device=device) for _ in range(1024)])\n",
    "d = Data.from_data(w, data)\n",
    "\n",
    "# Remove mean and apply window\n",
    "d.window_remove_mean()\n",
    "d.window_apply()\n",
    "\n",
    "# Estimate frequency\n",
    "f = Frequency(d)\n",
    "f('parabola')\n",
    "m_f, s_f = f.frequency.mean().cpu().item(), f.frequency.std().cpu().item()\n",
    "\n",
    "# Reset work\n",
    "d.reset()\n",
    "\n",
    "# Print result\n",
    "print(f'frequency: error={abs(0.12345 - m_f):<16.12}, spread={s_f:<16.12}')\n",
    "\n",
    "# Estimate amplitude\n",
    "c = 2.0/w.total*torch.sum(torch.cos(2.0*numpy.pi*m_f*time)*d.data*w.window, 1)\n",
    "s = 2.0/w.total*torch.sum(torch.sin(2.0*numpy.pi*m_f*time)*d.data*w.window, 1)\n",
    "a = torch.sqrt(c*c + s*s)\n",
    "m_a, s_a = a.mean().cpu().item(), a.std().cpu().item()\n",
    "\n",
    "# Print result\n",
    "print(f'amplitude: error={abs(1.0 - m_a):<16.12}, spread={s_a:<16.12}')"
   ]
  },
  {
   "cell_type": "code",
   "execution_count": 25,
   "id": "e3921e97-136a-4bcb-98dc-00e0c4011760",
   "metadata": {},
   "outputs": [
    {
     "name": "stdout",
     "output_type": "stream",
     "text": [
      "0.00523962927182024\n",
      "0.005412658773651804\n"
     ]
    }
   ],
   "source": [
    "# Estimate amplitude uncertainty from one signal using error propagation\n",
    "# Noise sigma is assumed to be known\n",
    "# Frequency uncertainty contribution (generaly small) is ignored here\n",
    "\n",
    "# Amplitude\n",
    "def get_amplitude(frequency, signal):\n",
    "    c = 2.0/w.total*torch.sum(torch.cos(2.0*numpy.pi*frequency*time)*signal*w.window)\n",
    "    s = 2.0/w.total*torch.sum(torch.sin(2.0*numpy.pi*frequency*time)*signal*w.window)\n",
    "    return torch.sqrt(c*c + s*s)\n",
    "\n",
    "# Set signal\n",
    "signal = torch.zeros(length, dtype=dtype, device=device)\n",
    "signal, *_ = d\n",
    "get_amplitude(m_f, signal)\n",
    "signal.requires_grad_(True)\n",
    "signal.grad = None\n",
    "\n",
    "# Set covariance matrix\n",
    "m = std**2 + torch.zeros(length, dtype=dtype, device=device)\n",
    "m = torch.diag(m)\n",
    "\n",
    "# Compute amplitude and gradient\n",
    "a = get_amplitude(m_f, signal)\n",
    "a.backward()\n",
    "g = signal.grad\n",
    "\n",
    "# Compute and compare uncertainty estimation\n",
    "print(s_a)\n",
    "print(torch.sqrt(torch.dot(g, torch.matmul(m, g))).detach().cpu().item())"
   ]
  },
  {
   "cell_type": "code",
   "execution_count": 26,
   "id": "0ac53f07-4672-48ff-8c68-cd7705da3bdf",
   "metadata": {},
   "outputs": [
    {
     "name": "stdout",
     "output_type": "stream",
     "text": [
      "w_min/w_max = 0.9875147940789751\n"
     ]
    },
    {
     "data": {
      "image/png": "[encoded data removed]",
      "text/plain": [
       "<Figure size 1080x360 with 1 Axes>"
      ]
     },
     "metadata": {
      "needs_background": "light"
     },
     "output_type": "display_data"
    },
    {
     "name": "stdout",
     "output_type": "stream",
     "text": [
      "STD: 3.67760443878e-06\n",
      "OLS: 2.88309506845e-06\n",
      "WLS: 2.88309652578e-06\n"
     ]
    }
   ],
   "source": [
    "# Estimate frequency uncertainty from one signal using error propagation\n",
    "# Noise sigma is assumed to be known\n",
    "# For frequency, gradient can't be computed directry, since frequency estimation is an argmax problem\n",
    "# In this case, for several frequencies near expected maximum location, corresponding DTFT amplitudes are computed\n",
    "# A parabola can be then fitted and standart errors for coefficients can be estimated\n",
    "# Error propagation can be used for each frequency value (or for minimum location), then weighted fit can be used\n",
    "# In this example OLS and WLS are used from statmodels library\n",
    "# Note, such frequency uncertainty estimation is not particularly accurate\n",
    "# It depends on selected grid of frequencies and might over/under estimate\n",
    "# Still, the order of magnitude can be somewhat meaningful\n",
    "\n",
    "# Set a grid of frequencies near expected maximum\n",
    "# Note, here ffrft grid is used for the 1st signal in TbT\n",
    "# Here, 100 points near maximum are used, number of points should be increased/decreased for larger/smaller noise\n",
    "size = 50\n",
    "position, *_ = f.ffrft_bin.to(torch.int32)\n",
    "grid = f.ffrft_get_grid()\n",
    "grid = grid[position - size : position + size]\n",
    "\n",
    "# Set signal\n",
    "signal = torch.zeros(length, dtype=dtype, device=device)\n",
    "signal, *_ = d\n",
    "signal.requires_grad_(True)\n",
    "\n",
    "# Set covariance matrix\n",
    "m = std**2 + torch.zeros(length, dtype=dtype, device=device)\n",
    "m = torch.diag(m)\n",
    "\n",
    "# Amplitude (log10)\n",
    "def get_amplitude(frequency, signal):\n",
    "    c = 2.0/w.total*torch.sum(torch.cos(2.0*numpy.pi*frequency*time)*signal*w.window)\n",
    "    s = 2.0/w.total*torch.sum(torch.sin(2.0*numpy.pi*frequency*time)*signal*w.window)\n",
    "    return torch.log10(torch.sqrt(c*c + s*s))\n",
    "\n",
    "# Compute amplitude and weight for each frequency\n",
    "X = []\n",
    "y = []\n",
    "weight = []\n",
    "for frequency in grid:\n",
    "    X.append([frequency.cpu().item()**2, frequency.cpu().item(), 1.0])\n",
    "    a = get_amplitude(frequency, signal)\n",
    "    a.backward()\n",
    "    g = signal.grad\n",
    "    y.append(a.cpu().item())\n",
    "    weight.append(1/torch.dot(g, torch.matmul(m, g)).detach().cpu().item())\n",
    "    signal.grad = None\n",
    "    \n",
    "# Note, weights are close to one, i.e. OLS and WLS should be close\n",
    "print(f'w_min/w_max = {min(weight)/max(weight)}')\n",
    "\n",
    "# Plot amplitudes\n",
    "plt.figure(figsize=(15, 5))\n",
    "plt.scatter(grid.cpu(), y - numpy.sqrt(1/numpy.array(weight)), c='red')\n",
    "plt.scatter(grid.cpu(), y, c='black')\n",
    "plt.scatter(grid.cpu(), y + numpy.sqrt(1/numpy.array(weight)), c='red')\n",
    "plt.show()\n",
    "\n",
    "# Fit\n",
    "from statsmodels.api import OLS, WLS\n",
    "ols = OLS(y, X).fit()\n",
    "wls = WLS(y, X, weights=numpy.array(weight)).fit()\n",
    "\n",
    "# Print results\n",
    "print(f'STD: {s_f:<16.12}')\n",
    "\n",
    "a, b, c = ols.params\n",
    "s_a, s_b, s_c = ols.bse\n",
    "sigma = 1.0/(2.0*a**2)*numpy.sqrt(b**2*s_a**2+a**2*s_b**2)\n",
    "print(f'OLS: {sigma:<16.12}')\n",
    "\n",
    "a, b, c = wls.params\n",
    "s_a, s_b, s_c = ols.bse\n",
    "sigma = 1.0/(2.0*a**2)*numpy.sqrt(b**2*s_a**2+a**2*s_b**2)\n",
    "print(f'WLS: {sigma:<16.12}')\n",
    "\n",
    "# Note, this uncertainty estimation can be used to do weighted fit for different BPMs"
   ]
  },
  {
   "cell_type": "code",
   "execution_count": 27,
   "id": "36e0daaf",
   "metadata": {
    "hidden": true
   },
   "outputs": [
    {
     "name": "stdout",
     "output_type": "stream",
     "text": [
      "                            OLS Regression Results                            \n",
      "==============================================================================\n",
      "Dep. Variable:                      y   R-squared:                       1.000\n",
      "Model:                            OLS   Adj. R-squared:                  1.000\n",
      "Method:                 Least Squares   F-statistic:                 1.844e+09\n",
      "Date:                Tue, 18 Jan 2022   Prob (F-statistic):               0.00\n",
      "Time:                        11:47:46   Log-Likelihood:                 1443.9\n",
      "No. Observations:                 100   AIC:                            -2882.\n",
      "Df Residuals:                      97   BIC:                            -2874.\n",
      "Df Model:                           2                                         \n",
      "Covariance Type:            nonrobust                                         \n",
      "==============================================================================\n",
      "                 coef    std err          t      P>|t|      [0.025      0.975]\n",
      "------------------------------------------------------------------------------\n",
      "x1         -2.942e+05      4.858  -6.06e+04      0.000   -2.94e+05   -2.94e+05\n",
      "x2          7.263e+04      1.199   6.06e+04      0.000    7.26e+04    7.26e+04\n",
      "const      -4483.1962      0.074  -6.06e+04      0.000   -4483.343   -4483.049\n",
      "==============================================================================\n",
      "Omnibus:                        4.823   Durbin-Watson:                   0.032\n",
      "Prob(Omnibus):                  0.090   Jarque-Bera (JB):                4.755\n",
      "Skew:                          -0.532   Prob(JB):                       0.0928\n",
      "Kurtosis:                       2.896   Cond. No.                     3.83e+08\n",
      "==============================================================================\n",
      "\n",
      "Notes:\n",
      "[1] Standard Errors assume that the covariance matrix of the errors is correctly specified.\n",
      "[2] The smallest eigenvalue is 6.93e-16. This might indicate that there are\n",
      "strong multicollinearity problems or that the design matrix is singular.\n"
     ]
    }
   ],
   "source": [
    "print(ols.summary())"
   ]
  },
  {
   "cell_type": "code",
   "execution_count": 28,
   "id": "a6bc4e4e",
   "metadata": {
    "hidden": true
   },
   "outputs": [
    {
     "name": "stdout",
     "output_type": "stream",
     "text": [
      "                            WLS Regression Results                            \n",
      "==============================================================================\n",
      "Dep. Variable:                      y   R-squared:                       1.000\n",
      "Model:                            WLS   Adj. R-squared:                  1.000\n",
      "Method:                 Least Squares   F-statistic:                 1.844e+09\n",
      "Date:                Tue, 18 Jan 2022   Prob (F-statistic):               0.00\n",
      "Time:                        11:47:47   Log-Likelihood:                 1444.0\n",
      "No. Observations:                 100   AIC:                            -2882.\n",
      "Df Residuals:                      97   BIC:                            -2874.\n",
      "Df Model:                           2                                         \n",
      "Covariance Type:            nonrobust                                         \n",
      "==============================================================================\n",
      "                 coef    std err          t      P>|t|      [0.025      0.975]\n",
      "------------------------------------------------------------------------------\n",
      "x1         -2.942e+05      4.858  -6.06e+04      0.000   -2.94e+05   -2.94e+05\n",
      "x2          7.263e+04      1.199   6.06e+04      0.000    7.26e+04    7.26e+04\n",
      "const      -4483.1939      0.074  -6.06e+04      0.000   -4483.341   -4483.047\n",
      "==============================================================================\n",
      "Omnibus:                        4.830   Durbin-Watson:                   0.032\n",
      "Prob(Omnibus):                  0.089   Jarque-Bera (JB):                4.764\n",
      "Skew:                          -0.532   Prob(JB):                       0.0923\n",
      "Kurtosis:                       2.894   Cond. No.                     3.83e+08\n",
      "==============================================================================\n",
      "\n",
      "Notes:\n",
      "[1] Standard Errors assume that the covariance matrix of the errors is correctly specified.\n",
      "[2] The condition number is large, 3.83e+08. This might indicate that there are\n",
      "strong multicollinearity or other numerical problems.\n"
     ]
    }
   ],
   "source": [
    "print(wls.summary())"
   ]
  },
  {
   "cell_type": "markdown",
   "id": "e382bc3f",
   "metadata": {
    "heading_collapsed": true,
    "tags": []
   },
   "source": [
    "# Example-21: Generation and identification of harmonics"
   ]
  },
  {
   "cell_type": "code",
   "execution_count": 29,
   "id": "63913003-b1b9-4e78-bc3a-d3d3a27ff119",
   "metadata": {},
   "outputs": [
    {
     "name": "stdout",
     "output_type": "stream",
     "text": [
      "\n",
      "(0, 1) 0.31\n",
      "(1, 0) 0.12\n",
      "(0, 2) 0.38\n",
      "(1, -1) 0.19\n",
      "(1, 1) 0.43\n",
      "(2, 0) 0.24\n",
      "\n",
      "(0, 1) [0.31, 0.31, 0.0]\n",
      "(1, 0) [0.12, 0.12, 0.0]\n",
      "(0, 2) [0.38, 0.38, 0.0]\n",
      "(1, -1) [0.19, 0.19, 0.0]\n",
      "(1, 1) [0.43, 0.43, 0.0]\n",
      "(2, 0) [0.24, 0.24, 0.0]\n"
     ]
    }
   ],
   "source": [
    "# For phase space of dimension 2N, quasiperiodic orbit contains N fundamental frequencies\n",
    "# Other harmonics are combinations of this fundamental basis\n",
    "\n",
    "# Generate harmonics (real signal with sampling rate equal to one)\n",
    "order = 2\n",
    "basis = [0.12, 0.31]\n",
    "print()\n",
    "for key, value in Frequency.harmonics(order, basis).items():\n",
    "    print(key, value)\n",
    "    \n",
    "# Identify harmonics (for given basis and maximum order find closest harmonic)\n",
    "order = 2\n",
    "basis = [0.12, 0.31]\n",
    "frequencies = Frequency.harmonics(order, basis).values()\n",
    "print()\n",
    "for key, value in Frequency.identify(order, basis, frequencies).items():\n",
    "    print(key, value)"
   ]
  },
  {
   "cell_type": "markdown",
   "id": "49ccac7a",
   "metadata": {
    "heading_collapsed": true,
    "tags": []
   },
   "source": [
    "# Example-22: Frequency fit (task)"
   ]
  },
  {
   "cell_type": "code",
   "execution_count": 30,
   "id": "ac32153b",
   "metadata": {
    "hidden": true
   },
   "outputs": [],
   "source": [
    "# In this example frequency (and its spread) is estimated for each signal using OLS/WLS fit\n",
    "# Fit for each signal is performed using DTFT spectrum points near the expected maximum\n",
    "# This provides estimation of frequency and its spread for a signal\n",
    "# Data across signals can be used to fit (optionaly with weights) overall frequency\n",
    "\n",
    "# These estimations are compared with estimations from multiple noise realizations\n",
    "# And with estimations from time shifted signals"
   ]
  },
  {
   "cell_type": "code",
   "execution_count": 31,
   "id": "db634e9d-f700-40da-a859-a07a00c3b541",
   "metadata": {},
   "outputs": [
    {
     "name": "stdout",
     "output_type": "stream",
     "text": [
      "0.463116901263  \n",
      "1.22238738968e-16\n"
     ]
    }
   ],
   "source": [
    "# Compute reference frequency\n",
    "# Note, without noise, frequencies for different BPMs are equal within machine precision (for given length and window)\n",
    "\n",
    "# Set parameters (signal length, data type and device)\n",
    "length = 4096\n",
    "dtype = torch.float64\n",
    "device = 'cpu'\n",
    "\n",
    "# Set window\n",
    "w = Window(length, 'cosine_window', 4.0, dtype=dtype, device=device)\n",
    "\n",
    "# Load TbT\n",
    "d = Data.from_file(54, w, '../virtual_tbt.npy')\n",
    "\n",
    "# Remove mean and apply window\n",
    "d.window_remove_mean()\n",
    "d.window_apply()\n",
    "\n",
    "# Compute reference frequency\n",
    "f = Frequency(d)\n",
    "f('parabola')\n",
    "m_ref, s_ref = f.frequency.mean().cpu().item(), f.frequency.std().cpu().item()\n",
    "\n",
    "# Reset work\n",
    "d.reset()\n",
    "\n",
    "# Print results\n",
    "print(f'{m_ref:<16.12}')\n",
    "print(f'{s_ref:<16.12}')"
   ]
  },
  {
   "cell_type": "code",
   "execution_count": 32,
   "id": "c5adb3a3",
   "metadata": {
    "hidden": true
   },
   "outputs": [],
   "source": [
    "# Set noise parameters\n",
    "\n",
    "# All BPMs have different noise sigma\n",
    "std = 1.0E-4*(4.0*torch.rand(54) + 1.0)\n",
    "\n",
    "# One BPM has increased noise level\n",
    "std[0] = 3.0E-3"
   ]
  },
  {
   "cell_type": "code",
   "execution_count": 33,
   "id": "107b2839-3d75-45ee-8239-18b44a14e3a0",
   "metadata": {},
   "outputs": [
    {
     "data": {
      "image/png": "[encoded data removed]",
      "text/plain": [
       "<Figure size 1080x360 with 1 Axes>"
      ]
     },
     "metadata": {
      "needs_background": "light"
     },
     "output_type": "display_data"
    }
   ],
   "source": [
    "# Estimate spread for different noise realizations\n",
    "\n",
    "# Iterate over noise realizations\n",
    "\n",
    "table = []\n",
    "count = 1024\n",
    "\n",
    "for _ in range(count):\n",
    "    w = Window(1024, 'cosine_window', 1.0, dtype=dtype, device=device)\n",
    "    t = Data.from_data(w, d.data[:, :len(w)])\n",
    "    t.add_noise(std)\n",
    "    t.window_remove_mean()\n",
    "    t.window_apply()\n",
    "    f = Frequency(t)\n",
    "    f('parabola')\n",
    "    table.append(f.frequency)\n",
    "    \n",
    "table = torch.stack(table)\n",
    "\n",
    "# Set mean and spread values for each BPM\n",
    "\n",
    "m1, s1 = table.mean(0).cpu(), table.std(0).cpu()\n",
    "\n",
    "# Plot results\n",
    "\n",
    "plt.figure(figsize=(15, 5))\n",
    "plt.errorbar(range(54), m1, yerr=s1, c='red', fmt='o')\n",
    "plt.ylim((m_ref - 5.0E-5, m_ref + 5.0E-5))\n",
    "plt.hlines(m_ref, -1, 55, colors='black')\n",
    "plt.show()"
   ]
  },
  {
   "cell_type": "code",
   "execution_count": 34,
   "id": "3c3bc76e-2b5e-4d45-a493-9a48e6502133",
   "metadata": {},
   "outputs": [
    {
     "data": {
      "image/png": "[encoded data removed]",
      "text/plain": [
       "<Figure size 1080x360 with 1 Axes>"
      ]
     },
     "metadata": {
      "needs_background": "light"
     },
     "output_type": "display_data"
    },
    {
     "data": {
      "image/png": "[encoded data removed]",
      "text/plain": [
       "<Figure size 1080x360 with 1 Axes>"
      ]
     },
     "metadata": {
      "needs_background": "light"
     },
     "output_type": "display_data"
    }
   ],
   "source": [
    "# Estimate spread from time shifted signals\n",
    "\n",
    "# Load data\n",
    "\n",
    "w = Window(length, dtype=dtype, device=device)\n",
    "d = Data.from_file(54, w, '../virtual_tbt.npy')\n",
    "d.add_noise(std)\n",
    "\n",
    "# Iterate over signals\n",
    "\n",
    "table = []\n",
    "\n",
    "w = Window(1024, dtype=dtype, device=device)\n",
    "for idx in range(d.size):\n",
    "    t = d.make_matrix(length=w.length, shift=16, signal=d.work[idx])\n",
    "    t = Data.from_data(w, t)\n",
    "    t.window_remove_mean()\n",
    "    t.window_apply()\n",
    "    f = Frequency(t)\n",
    "    f('parabola')\n",
    "    table.append(f.frequency)\n",
    "    \n",
    "table = torch.stack(table)\n",
    "\n",
    "# Set mean and spread values for each BPM\n",
    "# Note, spread is computed as std\n",
    "\n",
    "m2, s2 = table.mean(1).cpu(), table.std(1).cpu()\n",
    "\n",
    "# Plot results\n",
    "\n",
    "plt.figure(figsize=(15, 5))\n",
    "plt.errorbar(range(54), m2, yerr=s2, c='red', fmt='o')\n",
    "plt.ylim((m_ref - 5.0E-5, m_ref + 5.0E-5))\n",
    "plt.hlines(m_ref, -1, 55, colors='black')\n",
    "plt.show()\n",
    "\n",
    "# Set mean and spread values for each BPM\n",
    "# Note, spread is computed from  peak-to-peak\n",
    "\n",
    "f_min = table.min(1).values\n",
    "f_max = table.max(1).values\n",
    "\n",
    "m2 = table.mean(1).cpu()\n",
    "s2 = 1/4.0*(f_max - f_min)\n",
    "\n",
    "# Plot results\n",
    "\n",
    "plt.figure(figsize=(15, 5))\n",
    "plt.errorbar(range(54), m2, yerr=s2, c='red', fmt='o')\n",
    "plt.ylim((m_ref - 5.0E-5, m_ref + 5.0E-5))\n",
    "plt.hlines(m_ref, -1, 55, colors='black')\n",
    "plt.show()"
   ]
  },
  {
   "cell_type": "code",
   "execution_count": 35,
   "id": "281dfd5e-b059-4758-ab54-fd14fa545f1c",
   "metadata": {},
   "outputs": [
    {
     "data": {
      "image/png": "[encoded data removed]",
      "text/plain": [
       "<Figure size 1080x360 with 1 Axes>"
      ]
     },
     "metadata": {
      "needs_background": "light"
     },
     "output_type": "display_data"
    },
    {
     "data": {
      "image/png": "[encoded data removed]",
      "text/plain": [
       "<Figure size 1080x360 with 1 Axes>"
      ]
     },
     "metadata": {
      "needs_background": "light"
     },
     "output_type": "display_data"
    }
   ],
   "source": [
    "# Estimate spread from fit\n",
    "\n",
    "# Load data\n",
    "w = Window(1024, 'cosine_window', 1.0, dtype=dtype, device=device)\n",
    "d = Data.from_file(54, w, '../virtual_tbt.npy')\n",
    "d.add_noise(std)\n",
    "\n",
    "# Remove mean and apply window\n",
    "d.window_remove_mean()\n",
    "d.window_apply()\n",
    "\n",
    "# Compute frequencies\n",
    "f = Frequency(d)\n",
    "f('parabola')\n",
    "\n",
    "# Fit (ols)\n",
    "\n",
    "out = f.task_fit(size=32, mode='ols')\n",
    "\n",
    "# Set fitted frequencies and spread\n",
    "\n",
    "m3, s3 = out.T\n",
    "\n",
    "plt.figure(figsize=(15, 5))\n",
    "plt.errorbar(range(54), m3, yerr=s3, c='red', fmt='o')\n",
    "plt.ylim((m_ref - 5.0E-5, m_ref + 5.0E-5))\n",
    "plt.hlines(m_ref, -1, 55, colors='black')\n",
    "plt.show()\n",
    "\n",
    "# Fit (wls)\n",
    "\n",
    "out = f.task_fit(size=32, mode='wls', std=std)\n",
    "\n",
    "# Set fitted frequencies and spread\n",
    "\n",
    "m3, s3 = out.T\n",
    "\n",
    "plt.figure(figsize=(15, 5))\n",
    "plt.errorbar(range(54), m3, yerr=s3, c='red', fmt='o')\n",
    "plt.ylim((m_ref - 5.0E-5, m_ref + 5.0E-5))\n",
    "plt.hlines(m_ref, -1, 55, colors='black')\n",
    "plt.show()"
   ]
  },
  {
   "cell_type": "code",
   "execution_count": 36,
   "id": "resident-radio",
   "metadata": {
    "hidden": true
   },
   "outputs": [
    {
     "data": {
      "image/png": "[encoded data removed]",
      "text/plain": [
       "<Figure size 1080x216 with 1 Axes>"
      ]
     },
     "metadata": {
      "needs_background": "light"
     },
     "output_type": "display_data"
    },
    {
     "data": {
      "image/png": "[encoded data removed]",
      "text/plain": [
       "<Figure size 1080x216 with 1 Axes>"
      ]
     },
     "metadata": {
      "needs_background": "light"
     },
     "output_type": "display_data"
    },
    {
     "data": {
      "image/png": "[encoded data removed]",
      "text/plain": [
       "<Figure size 1080x216 with 1 Axes>"
      ]
     },
     "metadata": {
      "needs_background": "light"
     },
     "output_type": "display_data"
    }
   ],
   "source": [
    "# Compare\n",
    "\n",
    "plt.figure(figsize=(15, 3))\n",
    "plt.bar(range(54), s1, color='red')\n",
    "plt.ylim((0, 5.0E-5))\n",
    "plt.show()\n",
    "\n",
    "plt.figure(figsize=(15, 3))\n",
    "plt.bar(range(54), s2, color='red')\n",
    "plt.ylim((0, 5.0E-5))\n",
    "plt.show()\n",
    "\n",
    "plt.figure(figsize=(15, 3))\n",
    "plt.bar(range(54), s3, color='red')\n",
    "plt.ylim((0, 5.0E-5))\n",
    "plt.show()"
   ]
  },
  {
   "cell_type": "code",
   "execution_count": 37,
   "id": "exotic-aspect",
   "metadata": {
    "hidden": true
   },
   "outputs": [
    {
     "name": "stdout",
     "output_type": "stream",
     "text": [
      "5.3602015603892994e-08\n",
      "1.606261113562546e-07\n",
      "1.1667411392579652e-07\n"
     ]
    }
   ],
   "source": [
    "# Compare direct mean\n",
    "print(abs(m_ref - m1.mean().cpu().item()))\n",
    "print(abs(m_ref - m2.mean().cpu().item()))\n",
    "print(abs(m_ref - m3.mean().cpu().item()))"
   ]
  },
  {
   "cell_type": "code",
   "execution_count": 38,
   "id": "average-spread",
   "metadata": {
    "hidden": true
   },
   "outputs": [
    {
     "name": "stdout",
     "output_type": "stream",
     "text": [
      "ols: err=5.3602016e-08, std=1.9052149e-08\n",
      "wls: err=1.3050425e-08, std=1.1615169e-08\n"
     ]
    }
   ],
   "source": [
    "# Fit frequency for all BPMs\n",
    "\n",
    "from statsmodels.api import OLS, WLS\n",
    "\n",
    "X = numpy.ones(54).reshape(1, 54).T\n",
    "y = m1.numpy()\n",
    "w = (1/s1**2).cpu().numpy()\n",
    "\n",
    "ols1 = OLS(y, X).fit()\n",
    "wls1 = WLS(y, X, w).fit()\n",
    "\n",
    "print(f'ols: err={abs(m_ref - ols1.params.item()):12.8}, std={ols1.bse.item():12.8}')\n",
    "print(f'wls: err={abs(m_ref - wls1.params.item()):12.8}, std={wls1.bse.item():12.8}')"
   ]
  },
  {
   "cell_type": "code",
   "execution_count": 39,
   "id": "ed149867",
   "metadata": {
    "hidden": true
   },
   "outputs": [
    {
     "name": "stdout",
     "output_type": "stream",
     "text": [
      "ols: err=1.6062611e-07, std=6.4873936e-08\n",
      "wls: err=1.4264266e-08, std=4.2532783e-08\n"
     ]
    }
   ],
   "source": [
    "# Fit frequency for all BPMs using 'shifted' weights\n",
    "\n",
    "from statsmodels.api import OLS, WLS\n",
    "\n",
    "X = numpy.ones(54).reshape(1, 54).T\n",
    "y = m2.numpy()\n",
    "w = (1/s2**2).cpu().numpy()\n",
    "\n",
    "ols2 = OLS(y, X).fit()\n",
    "wls2 = WLS(y, X, w).fit()\n",
    "\n",
    "print(f'ols: err={abs(m_ref - ols2.params.item()):12.8}, std={ols2.bse.item():12.8}')\n",
    "print(f'wls: err={abs(m_ref - wls2.params.item()):12.8}, std={wls2.bse.item():12.8}')"
   ]
  },
  {
   "cell_type": "code",
   "execution_count": 40,
   "id": "infinite-image",
   "metadata": {
    "hidden": true
   },
   "outputs": [
    {
     "name": "stdout",
     "output_type": "stream",
     "text": [
      "ols: err=1.1667411e-07, std=1.723805e-06\n",
      "wls: err=4.873818e-07, std=6.014916e-07\n"
     ]
    }
   ],
   "source": [
    "# Fit frequency for all BPMs using 'fitted' weights\n",
    "\n",
    "from statsmodels.api import OLS, WLS\n",
    "\n",
    "X = numpy.ones(54).reshape(1, 54).T\n",
    "y = m3.numpy()\n",
    "w = (1/s3**2).cpu().numpy()\n",
    "\n",
    "ols3 = OLS(y, X).fit()\n",
    "wls3 = WLS(y, X, w).fit()\n",
    "\n",
    "print(f'ols: err={abs(m_ref - ols3.params.item()):12.8}, std={ols3.bse.item():12.8}')\n",
    "print(f'wls: err={abs(m_ref - wls3.params.item()):12.8}, std={wls3.bse.item():12.8}')"
   ]
  },
  {
   "cell_type": "markdown",
   "id": "e5a40ae1",
   "metadata": {
    "heading_collapsed": true,
    "tags": []
   },
   "source": [
    "# Example-23: Envelope and instantaneous frequency"
   ]
  },
  {
   "cell_type": "code",
   "execution_count": 41,
   "id": "0be42961",
   "metadata": {
    "hidden": true
   },
   "outputs": [],
   "source": [
    "# In this example DHT is used to compute signal envelope and instantaneous frequency"
   ]
  },
  {
   "cell_type": "code",
   "execution_count": 42,
   "id": "c9580242",
   "metadata": {
    "hidden": true
   },
   "outputs": [],
   "source": [
    "# Set test signal\n",
    "\n",
    "length = 8192\n",
    "dtype = torch.float64\n",
    "device = 'cpu'\n",
    "\n",
    "t = torch.linspace(1, length, length, dtype=dtype, device=device)\n",
    "s = torch.exp(-0.0001*t*(1 + 0.25*torch.cos(2*numpy.pi*0.001*t)))*torch.cos(2.0*numpy.pi*0.12345*t).unsqueeze(0)\n",
    "\n",
    "# Compute DHT\n",
    "dht = Frequency.dht(s)\n",
    "\n",
    "# Compute envelope\n",
    "envelope = dht.abs()\n",
    "\n",
    "# Compute instantaneous frequency\n",
    "# Note, length is reduced by one\n",
    "frequency = 1/(2.0*numpy.pi)*(dht[:, :-1]*dht[:, 1:].conj()).angle()"
   ]
  },
  {
   "cell_type": "code",
   "execution_count": 43,
   "id": "5a4ea69c",
   "metadata": {
    "hidden": true
   },
   "outputs": [
    {
     "data": {
      "image/png": "[encoded data removed]",
      "text/plain": [
       "<Figure size 1080x360 with 1 Axes>"
      ]
     },
     "metadata": {
      "needs_background": "light"
     },
     "output_type": "display_data"
    }
   ],
   "source": [
    "# Plot signal and envelope\n",
    "# Note, result is not accurate at both ends\n",
    "plt.figure(figsize=(15,5))\n",
    "plt.scatter(range(length), s[0].cpu().numpy(), c='black', s=0.1)\n",
    "plt.scatter(range(length), envelope[0].cpu().numpy(), c='red', s=0.1)\n",
    "plt.show()"
   ]
  },
  {
   "cell_type": "code",
   "execution_count": 44,
   "id": "a19c6b9c",
   "metadata": {
    "hidden": true
   },
   "outputs": [
    {
     "data": {
      "image/png": "[encoded data removed]",
      "text/plain": [
       "<Figure size 1080x360 with 1 Axes>"
      ]
     },
     "metadata": {
      "needs_background": "light"
     },
     "output_type": "display_data"
    }
   ],
   "source": [
    "# Plot instantaneous frequency\n",
    "# Note, result is not accurate at both ends\n",
    "plt.figure(figsize=(15,5))\n",
    "plt.ylim(0.12345-0.01, 0.12345+0.01)\n",
    "plt.scatter(range(length-1), frequency[0].cpu().numpy(), c='red', s=0.1)\n",
    "plt.hlines(0.12345, 1, length, color='black', linestyles='dashed')\n",
    "plt.show()"
   ]
  },
  {
   "cell_type": "markdown",
   "id": "e741aa9f",
   "metadata": {
    "heading_collapsed": true,
    "tags": []
   },
   "source": [
    "# Example-24: Autocorrelation"
   ]
  },
  {
   "cell_type": "code",
   "execution_count": 45,
   "id": "33f9f34e",
   "metadata": {
    "hidden": true
   },
   "outputs": [
    {
     "data": {
      "image/png": "[encoded data removed]",
      "text/plain": [
       "<Figure size 1080x216 with 1 Axes>"
      ]
     },
     "metadata": {
      "needs_background": "light"
     },
     "output_type": "display_data"
    },
    {
     "data": {
      "image/png": "[encoded data removed]",
      "text/plain": [
       "<Figure size 1080x216 with 1 Axes>"
      ]
     },
     "metadata": {
      "needs_background": "light"
     },
     "output_type": "display_data"
    },
    {
     "data": {
      "image/png": "[encoded data removed]",
      "text/plain": [
       "<Figure size 1080x216 with 1 Axes>"
      ]
     },
     "metadata": {
      "needs_background": "light"
     },
     "output_type": "display_data"
    }
   ],
   "source": [
    "# Compute autocorrelation for harmonic, random noise and 'hidden' harmonic with noise\n",
    "\n",
    "length = 8192\n",
    "dtype = torch.float64\n",
    "device = 'cpu'\n",
    "\n",
    "s = torch.cos(2.0*numpy.pi*0.12345*torch.linspace(1, length, length, dtype=dtype, device=device)).unsqueeze(0)\n",
    "auto1 = Frequency.autocorrelation(s)\n",
    "plt.figure(figsize=(15, 3))\n",
    "plt.scatter(range(length), auto1[0].cpu().numpy(), c='black', s=0.1)\n",
    "plt.xlim(0, length + 1)\n",
    "plt.ylim(-1.1, 1.1)\n",
    "plt.show()\n",
    "\n",
    "s = torch.randn((1, length), dtype=dtype, device=device)\n",
    "auto2 = Frequency.autocorrelation(s)\n",
    "plt.figure(figsize=(15, 3))\n",
    "plt.scatter(range(length), auto2[0].cpu().numpy(), c='black', s=0.1)\n",
    "plt.xlim(0, length + 1)\n",
    "plt.ylim(-1.1, 1.1)\n",
    "plt.show()\n",
    "\n",
    "s = 0.5*torch.cos(2.0*numpy.pi*0.12345*torch.linspace(1, length, length, dtype=dtype, device=device)).unsqueeze(0)\n",
    "s += torch.randn((1, length), dtype=dtype, device=device)\n",
    "auto3 = Frequency.autocorrelation(s)\n",
    "plt.figure(figsize=(15, 3))\n",
    "plt.scatter(range(length), auto3[0].cpu().numpy(), c='black', s=0.1)\n",
    "plt.xlim(0, length + 1)\n",
    "plt.ylim(-1.1, 1.1)\n",
    "plt.show()"
   ]
  },
  {
   "cell_type": "code",
   "execution_count": 46,
   "id": "beea504c-2600-4587-b290-8ebbce739304",
   "metadata": {},
   "outputs": [
    {
     "name": "stdout",
     "output_type": "stream",
     "text": [
      "[0.12345006 0.02625753 0.12345055]\n"
     ]
    },
    {
     "data": {
      "image/png": "[encoded data removed]",
      "text/plain": [
       "<Figure size 1080x360 with 1 Axes>"
      ]
     },
     "metadata": {
      "needs_background": "light"
     },
     "output_type": "display_data"
    }
   ],
   "source": [
    "# Examine autocorrelation spectrum\n",
    "\n",
    "w = Window.from_cosine(length, 0.0, dtype=dtype, device=device)\n",
    "d = Data.from_data(w, torch.cat([auto1, auto2, auto3]))\n",
    "d.window_remove_mean()\n",
    "d.window_apply()\n",
    "f = Frequency(d)\n",
    "f('parabola')\n",
    "print(f.frequency.cpu().numpy())\n",
    "\n",
    "plt.figure(figsize=(15, 5))\n",
    "plt.scatter(f.fft_grid, f.fft_spectrum[2]/f.ffrft_spectrum[2].max(), color='blue', s=0.1)\n",
    "plt.scatter(f.fft_grid, f.fft_spectrum[1]/f.ffrft_spectrum[1].max(), color='red', s=0.1)\n",
    "plt.scatter(f.fft_grid, f.fft_spectrum[0]/f.ffrft_spectrum[0].max(), color='black', s=0.1)\n",
    "plt.show()"
   ]
  },
  {
   "cell_type": "markdown",
   "id": "69d7b706-2ff4-4bbc-8317-b0878520d014",
   "metadata": {
    "hidden": true,
    "tags": []
   },
   "source": [
    "# Example-25: Frequency from shifted signals (task)"
   ]
  },
  {
   "cell_type": "code",
   "execution_count": 47,
   "id": "c031d8ce-b755-4dd6-b07e-e206f5ab6d4c",
   "metadata": {},
   "outputs": [
    {
     "name": "stdout",
     "output_type": "stream",
     "text": [
      "torch.Size([2, 3969])\n"
     ]
    }
   ],
   "source": [
    "# Set parameters\n",
    "dtype, device = torch.float64, 'cpu'\n",
    "size, length = 2, 2**15\n",
    "\n",
    "# Set window\n",
    "w = Window.from_cosine(length, order=1.0, dtype=dtype, device=device)\n",
    "\n",
    "# Set TbT\n",
    "t = torch.linspace(1, length, length, dtype=dtype, device=device)\n",
    "x = 0.75*torch.cos(2.0*numpy.pi*0.12*t + 0.10)\n",
    "y = 0.50*torch.cos(2.0*numpy.pi*0.31*t + 0.50)\n",
    "d = Data.from_data(w, torch.stack([x, y]))\n",
    "\n",
    "# Add noise\n",
    "d.add_noise(torch.tensor([1.0E-2, 1.0E-4], dtype=dtype, device=device))\n",
    "\n",
    "# Estimate frequency from shifted signals\n",
    "# Note, work is used in task_shift(), window is applied inside\n",
    "f = Frequency(d)\n",
    "out = f.task_shift(1024, 8)\n",
    "print(out.shape)"
   ]
  },
  {
   "cell_type": "code",
   "execution_count": 48,
   "id": "418e347a-9888-4570-8cf3-8385a0355857",
   "metadata": {},
   "outputs": [
    {
     "data": {
      "image/png": "[encoded data removed]",
      "text/plain": [
       "<Figure size 720x360 with 1 Axes>"
      ]
     },
     "metadata": {
      "needs_background": "light"
     },
     "output_type": "display_data"
    },
    {
     "name": "stdout",
     "output_type": "stream",
     "text": [
      "tensor(2.897528003226e-06, dtype=torch.float64)\n"
     ]
    }
   ],
   "source": [
    "# Plot result (1st signal)\n",
    "plt.figure(figsize=(10,5))\n",
    "plt.hist((out[0].cpu().numpy()-0.12)/0.12 * 100, bins=100, range=(-0.005, 0.005))\n",
    "plt.show()\n",
    "print(out[0].max() - out[0].min())"
   ]
  },
  {
   "cell_type": "code",
   "execution_count": 49,
   "id": "b7e31043-7700-4d41-ad5e-c9cedf4cc9ae",
   "metadata": {},
   "outputs": [
    {
     "data": {
      "image/png": "[encoded data removed]",
      "text/plain": [
       "<Figure size 720x360 with 1 Axes>"
      ]
     },
     "metadata": {
      "needs_background": "light"
     },
     "output_type": "display_data"
    },
    {
     "name": "stdout",
     "output_type": "stream",
     "text": [
      "tensor(4.122801333661e-08, dtype=torch.float64)\n"
     ]
    }
   ],
   "source": [
    "# Plot result (2nd signal)\n",
    "plt.figure(figsize=(10,5))\n",
    "plt.hist((out[1].cpu().numpy()-0.31)/0.31 * 100, bins=100, range=(-0.00005, 0.00005))\n",
    "plt.show()\n",
    "print(out[1].max() - out[1].min())"
   ]
  },
  {
   "cell_type": "markdown",
   "id": "8e0a004f-4eb3-4ba6-bc70-32ae5e9aacbf",
   "metadata": {
    "tags": []
   },
   "source": [
    "# Example-26: Frequency estimation from complex data"
   ]
  },
  {
   "cell_type": "code",
   "execution_count": 50,
   "id": "360b421d-aaea-4dc4-9112-939aa25e7686",
   "metadata": {},
   "outputs": [
    {
     "name": "stdout",
     "output_type": "stream",
     "text": [
      "tensor([1.200000000000e-01], dtype=torch.float64)\n",
      "tensor([8.800000000000e-01], dtype=torch.float64)\n"
     ]
    }
   ],
   "source": [
    "# TbT data can be complex, in this case data type should be passed for Data(), Data.from_file() and Data.from_epics\n",
    "\n",
    "# f < 1/2\n",
    "w = Window.from_cosine(4096, 1.0, dtype=torch.float64)\n",
    "c = torch.cos(2.0*numpy.pi*0.12*torch.linspace(1, w.length, w.length, dtype=torch.complex128))\n",
    "s = torch.sin(2.0*numpy.pi*0.12*torch.linspace(1, w.length, w.length, dtype=torch.complex128))\n",
    "d = torch.stack([c + 1j*s])\n",
    "d = Data.from_data(w, d)\n",
    "d.window_apply()\n",
    "f = Frequency(d, f_range=(0.0, 1.0))\n",
    "f('parabola')\n",
    "print(f.frequency)\n",
    "\n",
    "# f > 1/2\n",
    "w = Window.from_cosine(4096, 1.0, dtype=torch.float64)\n",
    "c = torch.cos(2.0*numpy.pi*0.88*torch.linspace(1, w.length, w.length, dtype=torch.complex128))\n",
    "s = torch.sin(2.0*numpy.pi*0.88*torch.linspace(1, w.length, w.length, dtype=torch.complex128))\n",
    "d = torch.stack([c + 1j*s])\n",
    "d = Data.from_data(w, d)\n",
    "d.window_apply()\n",
    "f = Frequency(d, f_range=(0.0, 1.0))\n",
    "f('parabola')\n",
    "print(f.frequency)"
   ]
  },
  {
   "cell_type": "code",
   "execution_count": 51,
   "id": "7fbad994-fdd5-4042-b4ce-3e851f34a260",
   "metadata": {},
   "outputs": [
    {
     "data": {
      "image/png": "[encoded data removed]",
      "text/plain": [
       "<Figure size 1080x360 with 1 Axes>"
      ]
     },
     "metadata": {
      "needs_background": "light"
     },
     "output_type": "display_data"
    },
    {
     "data": {
      "image/png": "[encoded data removed]",
      "text/plain": [
       "<Figure size 1080x360 with 1 Axes>"
      ]
     },
     "metadata": {
      "needs_background": "light"
     },
     "output_type": "display_data"
    }
   ],
   "source": [
    "# Compare amplitude spectrum for real and complex data\n",
    "# Note, correct iflag for nufft is -1 for complex data\n",
    "\n",
    "# Real signal (FFT and NUFFT)\n",
    "w = Window.from_cosine(4096, 1.0, dtype=torch.float64)\n",
    "c = torch.cos(2.0*numpy.pi*0.88*torch.linspace(1, w.length, w.length, dtype=torch.complex128))\n",
    "s = torch.sin(2.0*numpy.pi*0.88*torch.linspace(1, w.length, w.length, dtype=torch.complex128))\n",
    "d = torch.stack([c])\n",
    "d = Data.from_data(w, d)\n",
    "d.window_apply()\n",
    "f1 = Frequency(d, f_range=(0.0, 1.0))\n",
    "f1('parabola')\n",
    "d.reset()\n",
    "g1, s1 = f1.task_mixed_spectrum(length=w.length, f_range=(0.0, 1.0), position=numpy.array([1.0]), iflag=-1)\n",
    "\n",
    "# Complex signal (FFT and NUFFT)\n",
    "w = Window.from_cosine(4096, 1.0, dtype=torch.float64)\n",
    "c = torch.cos(2.0*numpy.pi*0.88*torch.linspace(1, w.length, w.length, dtype=torch.complex128))\n",
    "s = torch.sin(2.0*numpy.pi*0.88*torch.linspace(1, w.length, w.length, dtype=torch.complex128))\n",
    "d = torch.stack([c + 1j*s])\n",
    "d = Data.from_data(w, d)\n",
    "d.window_apply()\n",
    "f2 = Frequency(d, f_range=(0.0, 1.0))\n",
    "f2('parabola')\n",
    "d.reset()\n",
    "g2, s2 = f2.task_mixed_spectrum(length=w.length, f_range=(0.0, 1.0), position=numpy.array([1.0]), iflag=-1)\n",
    "\n",
    "# Plot results (FFT spectum)\n",
    "plt.figure(figsize=(15, 5))\n",
    "plt.scatter(f1.fft_grid, f1.fft_spectrum[0]/f1.ffrft_spectrum[0].max(), s=50.0, color='black')\n",
    "plt.scatter(f2.fft_grid, f2.fft_spectrum[0]/f2.ffrft_spectrum[0].max(), s=05.0, color='red')\n",
    "plt.show()\n",
    "\n",
    "# Plot results (NUFFT spectum)\n",
    "plt.figure(figsize=(15, 5))\n",
    "plt.scatter(g1, s1, s=50.0, color='black')\n",
    "plt.scatter(g2, s2, s=05.0, color='red')\n",
    "plt.show()"
   ]
  },
  {
   "cell_type": "code",
   "execution_count": 52,
   "id": "b39b0779-97fb-4209-a4e5-357d6c737a19",
   "metadata": {},
   "outputs": [
    {
     "data": {
      "image/png": "[encoded data removed]",
      "text/plain": [
       "<Figure size 1080x360 with 1 Axes>"
      ]
     },
     "metadata": {
      "needs_background": "light"
     },
     "output_type": "display_data"
    }
   ],
   "source": [
    "# Insert zeros\n",
    "\n",
    "length = 1000\n",
    "signal = torch.cos(2.0*numpy.pi*0.1*torch.linspace(1, length, length, dtype=torch.complex128))\n",
    "\n",
    "insert = 1\n",
    "\n",
    "mask = torch.zeros(1 + insert, dtype=torch.float64)\n",
    "mask[0] = 1.0\n",
    "\n",
    "signal = (mask*signal.reshape(-1, 1)).flatten().reshape(1, -1)\n",
    "\n",
    "w = Window.from_cosine(length*(1 + insert), 0.0, dtype=torch.float64)\n",
    "d = Data.from_data(w, signal)\n",
    "d.window_apply()\n",
    "f = Frequency(d)\n",
    "f('fft')\n",
    "\n",
    "plt.figure(figsize=(15, 5))\n",
    "plt.scatter(f.fft_grid*(1 + insert), f.fft_spectrum[0], color='black')\n",
    "plt.show()"
   ]
  },
  {
   "cell_type": "markdown",
   "id": "7d1acd2f-b240-4451-9587-0cb2114084c8",
   "metadata": {
    "tags": []
   },
   "source": [
    "# Example-27: Main frequency loop"
   ]
  },
  {
   "cell_type": "code",
   "execution_count": 53,
   "id": "e929db76-8e09-4f86-b44a-d310e400d973",
   "metadata": {},
   "outputs": [],
   "source": [
    "# In this example the main frequency is estimated using different methods\n",
    "# In all cases window is used and no data  filtering is performed\n",
    "# Full signal length is 2048 turns"
   ]
  },
  {
   "cell_type": "code",
   "execution_count": 54,
   "id": "1d071f0c-f691-4f94-bbdd-b68bf0fd145b",
   "metadata": {},
   "outputs": [],
   "source": [
    "# Test cases:\n",
    "\n",
    "# 1. Estimate the main frequency for each signal using 'parabola' interpolation of refined amplitude spectrum\n",
    "#    Estimate frequency as mean over signal and spread as standard deviation\n",
    "#    Estimate frequency with OLS fit and spread as OLS standard error\n",
    "\n",
    "# 2. Estimate the main frequency for each signal using 'parabola' interpolation of refined amplitude spectrum\n",
    "#    Estimate noise for each signal using optimal SVD and use it in WLS fit as weight\n",
    "\n",
    "# 3. Estimate the main frequency for each signal using 'parabola' interpolation of refined amplitude spectrum\n",
    "#    Estimate standard error for each signal using OLS/WLS\n",
    "#    Perform WLS fit for the main frequency and its spread\n",
    "\n",
    "# 4. Estimate the main frequency for sampled signals using 'parabola' interpolation of refined amplitude spectrum\n",
    "#    Estimate spread for each signal using standard deviation in sample frequencies\n",
    "#    Perform WLS fit for the main frequency and its spread\n",
    "\n",
    "# 5. Estimate the main frequency for sampled signals using 'parabola' interpolation of refined amplitude spectrum\n",
    "#    Estimate noise for each sample, WLS fit to estimate sample spread\n",
    "#    WLS fit samples to estimate signal frequency and its spread\n",
    "#    WLS fit signlas to estimate the main frequency and its spread"
   ]
  },
  {
   "cell_type": "code",
   "execution_count": 55,
   "id": "e5ae9785-fc3d-4437-b1e2-98c0d01d17a0",
   "metadata": {},
   "outputs": [
    {
     "name": "stdout",
     "output_type": "stream",
     "text": [
      "True\n",
      "6\n"
     ]
    }
   ],
   "source": [
    "# Import\n",
    "\n",
    "import epics\n",
    "import numpy\n",
    "import pandas\n",
    "import torch\n",
    "import nufft\n",
    "\n",
    "import sys\n",
    "sys.path.append('..')\n",
    "\n",
    "from harmonica.util import LENGTH\n",
    "from harmonica.window import Window\n",
    "from harmonica.data import Data\n",
    "from harmonica.frequency import Frequency\n",
    "from harmonica.filter import Filter\n",
    "\n",
    "from statsmodels.api import OLS, WLS\n",
    "\n",
    "import matplotlib.pyplot as plt\n",
    "\n",
    "torch.set_printoptions(precision=12, sci_mode=True)\n",
    "print(torch.cuda.is_available())\n",
    "print(torch.get_num_threads())"
   ]
  },
  {
   "cell_type": "code",
   "execution_count": 56,
   "id": "72456a66-bd68-451c-8b3e-003f660f44f8",
   "metadata": {},
   "outputs": [
    {
     "name": "stdout",
     "output_type": "stream",
     "text": [
      "0.463116901     \n",
      "2.77869793e-16  \n"
     ]
    }
   ],
   "source": [
    "# Reference case\n",
    "\n",
    "# Set parameters\n",
    "length = 2048\n",
    "dtype = torch.float64\n",
    "device = 'cpu'\n",
    "\n",
    "# Set window\n",
    "w = Window(length, 'cosine_window', 5.0, dtype=dtype, device=device)\n",
    "\n",
    "# Load TbT\n",
    "d = Data.from_file(54, w, '../virtual_tbt.npy')\n",
    "\n",
    "# Remove mean and apply window\n",
    "d.window_remove_mean()\n",
    "d.window_apply()\n",
    "\n",
    "# Compute reference frequency\n",
    "f = Frequency(d)\n",
    "f('parabola')\n",
    "f_ref, s_ref = f.frequency.mean().cpu().item(), f.frequency.std().cpu().item()\n",
    "\n",
    "# Reset work\n",
    "d.reset()\n",
    "\n",
    "# Print results\n",
    "print(f'{f_ref:<16.9}')\n",
    "print(f'{s_ref:<16.9}')"
   ]
  },
  {
   "cell_type": "code",
   "execution_count": 57,
   "id": "a4a4e602-e779-406d-af52-b71ca2c8fbfa",
   "metadata": {},
   "outputs": [
    {
     "name": "stdout",
     "output_type": "stream",
     "text": [
      "torch.Size([54, 2048])\n"
     ]
    }
   ],
   "source": [
    "# Set data with noise\n",
    "\n",
    "# Generate noise sigma for each signal\n",
    "std = 1.0E-6*(50.0 + 150.0*torch.rand(54, dtype=dtype, device=device))\n",
    "\n",
    "# Set increased noise\n",
    "std[0] = 1.0E-6*300.0\n",
    "\n",
    "# Set test data\n",
    "d.reset()\n",
    "d.add_noise(std)\n",
    "data = d.work\n",
    "print(data.shape)\n",
    "\n",
    "# Set spike\n",
    "data[1, 128] += 0.1"
   ]
  },
  {
   "cell_type": "code",
   "execution_count": 58,
   "id": "1e4ca2a5-c895-4c9e-b0ce-560fce27c792",
   "metadata": {},
   "outputs": [
    {
     "name": "stdout",
     "output_type": "stream",
     "text": [
      "err: 9.5482834e-08   , std: 7.97503517e-07  \n",
      "err: 9.54828339e-08  , std: 1.08526483e-07  \n"
     ]
    }
   ],
   "source": [
    "# Estimate the main frequency for each signal using 'parabola' interpolation of refined amplitude spectrum\n",
    "# Estimate frequency as mean over signal and spread as standard deviation\n",
    "# Estimate frequency with OLS fit and spread as OLS standard error\n",
    "\n",
    "# Set data\n",
    "w = Window(length, 'cosine_window', 1.0, dtype=dtype, device=device)\n",
    "t = Data.from_data(w, data)\n",
    "\n",
    "# Estimate frequency\n",
    "t.window_remove_mean()\n",
    "t.window_apply()\n",
    "f = Frequency(t)\n",
    "f('parabola')\n",
    "t.reset()\n",
    "\n",
    "# Estimate the main frequency and its spread using mean and standard deviation\n",
    "f_out = f.frequency.mean().cpu().item()\n",
    "s_out = f.frequency.std().cpu().item()\n",
    "f_1, s_1 = f_out, s_out\n",
    "print(f'err: {abs(f_out - f_ref):<16.9}, std: {s_out:<16.9}')\n",
    "\n",
    "# Estimate the main frequency and its spread using OLS fit\n",
    "x = numpy.ones((54, 1))\n",
    "y = f.frequency.cpu().numpy()\n",
    "out = OLS(y, x).fit()\n",
    "f_out = out.params.item()\n",
    "s_out = out.bse.item()\n",
    "f_2, s_2 = f_out, s_out\n",
    "print(f'err: {abs(f_out - f_ref):<16.9}, std: {s_out:<16.9}')"
   ]
  },
  {
   "cell_type": "code",
   "execution_count": 59,
   "id": "58a53c6d-ff19-4376-a214-61bf8e5bfdd9",
   "metadata": {},
   "outputs": [
    {
     "data": {
      "image/png": "[encoded data removed]",
      "text/plain": [
       "<Figure size 1080x360 with 1 Axes>"
      ]
     },
     "metadata": {
      "needs_background": "light"
     },
     "output_type": "display_data"
    },
    {
     "name": "stdout",
     "output_type": "stream",
     "text": [
      "err: 1.08852864e-07  , std: 8.23848867e-08  \n"
     ]
    }
   ],
   "source": [
    "# Estimate the main frequency for each signal using 'parabola' interpolation of refined amplitude spectrum\n",
    "# Estimate noise for each signal using optimal SVD and use it in WLS fit as weight\n",
    "\n",
    "# Set data\n",
    "w = Window(length, 'cosine_window', 1.0, dtype=dtype, device=device)\n",
    "t = Data.from_data(w, data)\n",
    "\n",
    "# Estimate frequency\n",
    "t.window_remove_mean()\n",
    "t.window_apply()\n",
    "f = Frequency(t)\n",
    "f('parabola')\n",
    "t.reset()\n",
    "\n",
    "# Estimate noise\n",
    "l = Filter(t)\n",
    "_, s = l.estimate_noise(limit=32)\n",
    "\n",
    "# Plot estimated noise and true noise\n",
    "plt.figure(figsize=(15, 5))\n",
    "plt.scatter(range(54), std*1.0E+6, color='black')\n",
    "plt.scatter(range(54), s*1.0E+6, color='red', s=5)\n",
    "plt.show()\n",
    "\n",
    "# Estimate the main frequency and its spread using WLS fit\n",
    "x = numpy.ones((54, 1))\n",
    "y = f.frequency.cpu().numpy()\n",
    "w = (1/s**2).cpu().numpy()\n",
    "out = WLS(y, x, w).fit()\n",
    "f_out = out.params.item()\n",
    "s_out = out.bse.item()\n",
    "f_3, s_3 = f_out, s_out\n",
    "print(f'err: {abs(f_out - f_ref):<16.9}, std: {s_out:<16.9}')"
   ]
  },
  {
   "cell_type": "code",
   "execution_count": 60,
   "id": "61a62e87-9a54-4483-b511-dd0f46059c55",
   "metadata": {},
   "outputs": [
    {
     "data": {
      "image/png": "[encoded data removed]",
      "text/plain": [
       "<Figure size 1080x216 with 1 Axes>"
      ]
     },
     "metadata": {
      "needs_background": "light"
     },
     "output_type": "display_data"
    },
    {
     "name": "stdout",
     "output_type": "stream",
     "text": [
      "err: 1.43710867e-08  , std: 1.2692283e-07   \n"
     ]
    },
    {
     "data": {
      "image/png": "[encoded data removed]",
      "text/plain": [
       "<Figure size 1080x216 with 1 Axes>"
      ]
     },
     "metadata": {
      "needs_background": "light"
     },
     "output_type": "display_data"
    },
    {
     "name": "stdout",
     "output_type": "stream",
     "text": [
      "err: 2.25370929e-08  , std: 1.27617624e-07  \n"
     ]
    }
   ],
   "source": [
    "# Estimate the main frequency for each signal using 'parabola' interpolation of refined amplitude spectrum\n",
    "# Estimate standard error for each signal using OLS/WLS\n",
    "# Perform WLS fit for the main frequency and its spread\n",
    "\n",
    "# Set data\n",
    "w = Window(length, 'cosine_window', 1.0, dtype=dtype, device=device)\n",
    "t = Data.from_data(w, data)\n",
    "\n",
    "# Estimate frequency\n",
    "t.window_remove_mean()\n",
    "t.window_apply()\n",
    "f = Frequency(t)\n",
    "f('parabola')\n",
    "t.reset()\n",
    "\n",
    "# Estimate noise\n",
    "l = Filter(t)\n",
    "_, s = l.estimate_noise(limit=32)\n",
    "\n",
    "# OLS\n",
    "f_out, s_out = f.task_fit(size=64, mode='ols').T\n",
    "plt.figure(figsize=(15, 3))\n",
    "plt.hlines(f_ref, 0, 53, color='black')\n",
    "plt.errorbar(range(54), f_out.cpu().numpy(), yerr=s_out.cpu().numpy(), color='red')\n",
    "plt.show()\n",
    "x = numpy.ones((54, 1))\n",
    "y = f_out.cpu().numpy()\n",
    "w = (1/s_out**2).cpu().numpy()\n",
    "out = WLS(y, x, w).fit()\n",
    "f_out = out.params.item()\n",
    "s_out = out.bse.item()\n",
    "f_4, s_4 = f_out, s_out\n",
    "print(f'err: {abs(f_out - f_ref):<16.9}, std: {s_out:<16.9}')\n",
    "\n",
    "# WLS\n",
    "f_out, s_out = f.task_fit(size=64, mode='wls', std=s).T\n",
    "plt.figure(figsize=(15, 3))\n",
    "plt.hlines(f_ref, 0, 53, color='black')\n",
    "plt.errorbar(range(54), f_out.cpu().numpy(), yerr=s_out.cpu().numpy(), color='red')\n",
    "plt.show()\n",
    "x = numpy.ones((54, 1))\n",
    "y = f_out.cpu().numpy()\n",
    "w = (1/s_out**2).cpu().numpy()\n",
    "out = WLS(y, x, w).fit()\n",
    "f_out = out.params.item()\n",
    "s_out = out.bse.item()\n",
    "f_5, s_5 = f_out, s_out\n",
    "print(f'err: {abs(f_out - f_ref):<16.9}, std: {s_out:<16.9}')"
   ]
  },
  {
   "cell_type": "code",
   "execution_count": 61,
   "id": "67a25fa1-a32d-4b78-840a-4a096c2301a7",
   "metadata": {},
   "outputs": [
    {
     "data": {
      "image/png": "[encoded data removed]",
      "text/plain": [
       "<Figure size 1080x216 with 1 Axes>"
      ]
     },
     "metadata": {
      "needs_background": "light"
     },
     "output_type": "display_data"
    },
    {
     "name": "stdout",
     "output_type": "stream",
     "text": [
      "err: 6.13502132e-08  , std: 5.57490558e-08  \n"
     ]
    }
   ],
   "source": [
    "# Estimate the main frequency for sampled signals using 'parabola' interpolation of refined amplitude spectrum\n",
    "# Estimate spread for each signal using standard deviation in sample frequencies\n",
    "# Perform WLS fit for the main frequency and its spread\n",
    "\n",
    "# Set data\n",
    "w = Window(length, 'cosine_window', 1.0, dtype=dtype, device=device)\n",
    "t = Data.from_data(w, data)\n",
    "\n",
    "# Estimate frequency\n",
    "t.window_remove_mean()\n",
    "t.window_apply()\n",
    "f = Frequency(t)\n",
    "f('parabola')\n",
    "t.reset()\n",
    "\n",
    "# Estimated frequency for sampled data\n",
    "out = f.task_shift(1024, 4)\n",
    "f_out = out.mean(1)\n",
    "s_out = out.std(1)\n",
    "plt.figure(figsize=(15, 3))\n",
    "plt.hlines(f_ref, 0, 53, color='black')\n",
    "plt.errorbar(range(54), f_out.cpu().numpy(), yerr=s_out.cpu().numpy(), color='red')\n",
    "plt.show()\n",
    "\n",
    "# WLS fit\n",
    "x = numpy.ones((54, 1))\n",
    "y = f_out.cpu().numpy()\n",
    "w = (1/s_out**2).cpu().numpy()\n",
    "out = WLS(y, x, w).fit()\n",
    "f_out = out.params.item()\n",
    "s_out = out.bse.item()\n",
    "f_6, s_6 = f_out, s_out\n",
    "print(f'err: {abs(f_out - f_ref):<16.9}, std: {s_out:<16.9}')"
   ]
  },
  {
   "cell_type": "code",
   "execution_count": 62,
   "id": "353ded69-8877-41e6-b7c4-cff7d8b1e0d6",
   "metadata": {},
   "outputs": [
    {
     "data": {
      "image/png": "[encoded data removed]",
      "text/plain": [
       "<Figure size 1080x216 with 1 Axes>"
      ]
     },
     "metadata": {
      "needs_background": "light"
     },
     "output_type": "display_data"
    },
    {
     "name": "stdout",
     "output_type": "stream",
     "text": [
      "err: 5.7856377e-08   , std: 5.61801728e-08  \n"
     ]
    }
   ],
   "source": [
    "# Estimate the main frequency for sampled signals using 'parabola' interpolation of refined amplitude spectrum\n",
    "# Estimate noise for each sample, WLS fit to estimate sample spread\n",
    "# WLS fit samples to estimate signal frequency and its spread\n",
    "# WLS fit signlas to estimate the main frequency and its spread\n",
    "\n",
    "# Set data\n",
    "w = Window(length, 'cosine_window', 1.0, dtype=dtype, device=device)\n",
    "t = Data.from_data(w, data)\n",
    "\n",
    "# Sample data\n",
    "w = Window(1024, 'cosine_window', 1.0, dtype=dtype, device=device)\n",
    "t = Data.from_data(w, torch.cat([t.make_matrix(1024, 4, t.work[i]) for i in range(54)]))\n",
    "n = t.size//54\n",
    "\n",
    "# Estimate noise for all samples\n",
    "l = Filter(t)\n",
    "_, s = l.estimate_noise(limit=32)\n",
    "\n",
    "# Plot noise estimation for signal with spike\n",
    "plt.figure(figsize=(15, 3))\n",
    "plt.scatter(range(n), s.reshape(54, -1)[1], color='red')\n",
    "plt.show()\n",
    "\n",
    "# Estimate frequency for each sample\n",
    "t.window_remove_mean()\n",
    "t.window_apply()\n",
    "f = Frequency(t)\n",
    "f('parabola')\n",
    "t.reset()\n",
    "\n",
    "# WLS fit samples\n",
    "f_out = f.frequency.reshape(54, -1)\n",
    "s_out = s.reshape(54, -1)\n",
    "table = []\n",
    "for i in range(54):\n",
    "    x = numpy.ones((n, 1))\n",
    "    y = f_out[i].cpu().numpy()\n",
    "    w = (1/s_out[i]**2).cpu().numpy()\n",
    "    out = WLS(y, x, w).fit()\n",
    "    table.append([out.params.item(), out.bse.item()])\n",
    "    \n",
    "f_out, s_out = numpy.array(table).T\n",
    "\n",
    "# WLS fit signals\n",
    "x = numpy.ones((54, 1))\n",
    "y = f_out\n",
    "w = (1/s_out**2)\n",
    "out = WLS(y, x, w).fit()\n",
    "f_out = out.params.item()\n",
    "s_out = out.bse.item()\n",
    "f_7, s_7 = f_out, s_out\n",
    "print(f'err: {abs(f_out - f_ref):<16.9}, std: {s_out:<16.9}')"
   ]
  },
  {
   "cell_type": "code",
   "execution_count": 63,
   "id": "70dca74b-ef66-4d71-8e56-085a311fa1aa",
   "metadata": {},
   "outputs": [
    {
     "name": "stdout",
     "output_type": "stream",
     "text": [
      "case: 1, err: 9.5482834e-08   , std: 7.97503517e-07  \n",
      "case: 2, err: 9.54828339e-08  , std: 1.08526483e-07  \n",
      "case: 3, err: 1.08852864e-07  , std: 8.23848867e-08  \n",
      "case: 4, err: 1.43710867e-08  , std: 1.2692283e-07   \n",
      "case: 5, err: 2.25370929e-08  , std: 1.27617624e-07  \n",
      "case: 6, err: 6.13502132e-08  , std: 5.57490558e-08  \n",
      "case: 7, err: 5.7856377e-08   , std: 5.61801728e-08  \n"
     ]
    }
   ],
   "source": [
    "# Compare results\n",
    "\n",
    "# 1 -- mean & std over signals\n",
    "# 2 -- OLS fit over signals\n",
    "# 3 -- WLS fit over signals using estimated noise as weight\n",
    "# 4 -- OLS fit for signal, WLS fit over signals\n",
    "# 5 -- WLS fit for signal, WLS fit over signals\n",
    "# 6 -- mean & std over samples, WLS fit over signals\n",
    "# 7 -- WLS fit over samples, WLS fit over signals\n",
    "\n",
    "print(f'case: 1, err: {abs(f_1 - f_ref):<16.9}, std: {s_1:<16.9}')\n",
    "print(f'case: 2, err: {abs(f_2 - f_ref):<16.9}, std: {s_2:<16.9}')\n",
    "print(f'case: 3, err: {abs(f_3 - f_ref):<16.9}, std: {s_3:<16.9}')\n",
    "print(f'case: 4, err: {abs(f_4 - f_ref):<16.9}, std: {s_4:<16.9}')\n",
    "print(f'case: 5, err: {abs(f_5 - f_ref):<16.9}, std: {s_5:<16.9}')\n",
    "print(f'case: 6, err: {abs(f_6 - f_ref):<16.9}, std: {s_6:<16.9}')\n",
    "print(f'case: 7, err: {abs(f_7 - f_ref):<16.9}, std: {s_7:<16.9}')"
   ]
  },
  {
   "cell_type": "code",
   "execution_count": null,
   "id": "b98043b8-e5bd-4497-9449-6b54d4d47762",
   "metadata": {},
   "outputs": [],
   "source": []
  }
 ],
 "metadata": {
  "colab": {
   "collapsed_sections": [
    "myt0_gMIOq7b",
    "5d97819c"
   ],
   "name": "03_frequency.ipynb",
   "provenance": []
  },
  "kernelspec": {
   "display_name": "Python 3 (ipykernel)",
   "language": "python",
   "name": "python3"
  },
  "language_info": {
   "codemirror_mode": {
    "name": "ipython",
    "version": 3
   },
   "file_extension": ".py",
   "mimetype": "text/x-python",
   "name": "python",
   "nbconvert_exporter": "python",
   "pygments_lexer": "ipython3",
   "version": "3.9.7"
  },
  "latex_envs": {
   "LaTeX_envs_menu_present": true,
   "autoclose": false,
   "autocomplete": true,
   "bibliofile": "biblio.bib",
   "cite_by": "apalike",
   "current_citInitial": 1,
   "eqLabelWithNumbers": true,
   "eqNumInitial": 1,
   "hotkeys": {
    "equation": "Ctrl-E",
    "itemize": "Ctrl-I"
   },
   "labels_anchors": false,
   "latex_user_defs": false,
   "report_style_numbering": false,
   "user_envs_cfg": false
  }
 },
 "nbformat": 4,
 "nbformat_minor": 5
}
