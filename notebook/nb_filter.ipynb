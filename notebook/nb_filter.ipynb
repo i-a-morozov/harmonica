{
 "cells": [
  {
   "cell_type": "code",
   "execution_count": 1,
   "id": "38a3d71f",
   "metadata": {},
   "outputs": [
    {
     "name": "stdout",
     "output_type": "stream",
     "text": [
      "True\n"
     ]
    }
   ],
   "source": [
    "# Import\n",
    "\n",
    "import numpy\n",
    "import torch\n",
    "\n",
    "import sys\n",
    "sys.path.append('..')\n",
    "\n",
    "from harmonica.window import Window\n",
    "from harmonica.data import Data\n",
    "from harmonica.frequency import Frequency\n",
    "from harmonica.filter import Filter\n",
    "\n",
    "import matplotlib.pyplot as plt\n",
    "\n",
    "torch.set_printoptions(precision=12, sci_mode=True)\n",
    "print(torch.cuda.is_available())"
   ]
  },
  {
   "cell_type": "markdown",
   "id": "28d9ba26",
   "metadata": {
    "heading_collapsed": true
   },
   "source": [
    "# Example-01: Filter initialization & Matrix representation"
   ]
  },
  {
   "cell_type": "code",
   "execution_count": 2,
   "id": "df273619",
   "metadata": {
    "hidden": true
   },
   "outputs": [
    {
     "name": "stdout",
     "output_type": "stream",
     "text": [
      "None\n",
      "1\n",
      "[[1 2 3 4 5 6 7 8]]\n",
      "[[[1 2 3 4]\n",
      "  [2 3 4 5]\n",
      "  [3 4 5 6]\n",
      "  [4 5 6 7]\n",
      "  [5 6 7 8]]]\n",
      "[[1 2 3 4 5 6 7 8]]\n"
     ]
    }
   ],
   "source": [
    "# Initialize Filter instance\n",
    "\n",
    "# Data instance should be passed as the first argument\n",
    "# Random seed is used only in randomized range estimation for approximate SVD computation\n",
    "\n",
    "# Filter class contains several static and class method, that can be used without passing Data instance\n",
    "\n",
    "f = Filter(None, random_seed=1)\n",
    "print(f.data)\n",
    "print(f.random_seed)\n",
    "\n",
    "# make_matrix and make_signal functions can be used for matrix representation of a signal (Hankel matrix)\n",
    "# Both functions act on a batch of signals and matrices, respectively\n",
    "\n",
    "# Define test signal\n",
    "signal = torch.linspace(1, 8, 8, dtype=torch.float64).unsqueeze(0)\n",
    "print(signal.cpu().to(torch.int).numpy())\n",
    "\n",
    "# Generate matrix representation\n",
    "matrix = Filter.make_matrix(signal)\n",
    "print(matrix.cpu().to(torch.int).numpy())\n",
    "\n",
    "# Generate signal representation (average over skew diagonals)\n",
    "print(Filter.make_signal(matrix).cpu().to(torch.int).numpy())"
   ]
  },
  {
   "cell_type": "markdown",
   "id": "d2570393",
   "metadata": {
    "heading_collapsed": true
   },
   "source": [
    "# Example-02: Singular values"
   ]
  },
  {
   "cell_type": "code",
   "execution_count": 3,
   "id": "5b137074",
   "metadata": {
    "hidden": true
   },
   "outputs": [
    {
     "name": "stdout",
     "output_type": "stream",
     "text": [
      "256.518221536       256.518221536       5.68434188608e-14   \n",
      "255.980457668       255.980457668       2.84217094304e-14   \n",
      "25.6585560702       25.6585560702       7.1054273576e-15    \n",
      "25.5899723888       25.5899723888       0.0                 \n",
      "0.256513879015      0.256513879015      1.05471187339e-15   \n",
      "0.255971936601      0.255971936601      6.66133814775e-16   \n"
     ]
    }
   ],
   "source": [
    "# svd_list and svd_list_randomized can be used to compute singular values\n",
    "# svd_list performs full SVD and svd_list_randimized performs randomized SVD\n",
    "# In both cases, requested number of largest singular values is returned\n",
    "\n",
    "# Generate test signal (real signal with three harmonics)\n",
    "dtype = torch.float64\n",
    "device = 'cpu'\n",
    "length = 1024\n",
    "time = torch.linspace(1, length, length, dtype=dtype, device=device)\n",
    "signal = 1.0*torch.sin(2*numpy.pi*0.12*time) + 0.1*torch.sin(2*numpy.pi*0.24*time) + 1.E-3*torch.sin(2*numpy.pi*0.31*time)\n",
    "signal.unsqueeze_(0)\n",
    "\n",
    "# Generate matrix representation\n",
    "matrix = Filter.make_matrix(signal)\n",
    "\n",
    "# Since, test signal contains three harmonics, it's matrix is expected to have six non-zero singular values\n",
    "torch.linalg.matrix_rank(matrix)\n",
    "\n",
    "# Compute singular values (full SVD)\n",
    "S1 = Filter.svd_list(rank=6, matrix=matrix, cpu=True)\n",
    "\n",
    "# svd_list used full SVD to compute singular values\n",
    "# number of returned singular values is set by rank parameter\n",
    "# input matrix should be a batch of matrices\n",
    "# cpu flag is used to compute SVD using CPU\n",
    "\n",
    "# Compute singular values (randomized SVD)\n",
    "S2 = Filter.svd_list_randomized(rank=6, matrix=matrix, buffer=8, count=8, random_seed=0, cpu=True)\n",
    "\n",
    "# svd_list_randomized used randomized SVD to compute singular values\n",
    "# randomized_range function is used to estimate matrix range with QR decomposition\n",
    "# buffer parameter sets the number of extra dimensions, randomized range column rank is rank + buffer\n",
    "# count parameter sets number of iterations\n",
    "# random_seed is used for initialization\n",
    "\n",
    "# Compare singular values\n",
    "fmt = 3 * '{:<20.12}'\n",
    "for s1, s2 in zip(S1.squeeze().cpu(), S2.squeeze().cpu()):\n",
    "    print(fmt.format(s1, s2, abs(s1 - s2)))"
   ]
  },
  {
   "cell_type": "markdown",
   "id": "15b63e0d",
   "metadata": {
    "heading_collapsed": true
   },
   "source": [
    "# Example-03: SVD truncation"
   ]
  },
  {
   "cell_type": "code",
   "execution_count": 4,
   "id": "97195ad4",
   "metadata": {
    "hidden": true
   },
   "outputs": [
    {
     "name": "stdout",
     "output_type": "stream",
     "text": [
      "tensor([4])\n",
      "tensor([4])\n",
      "256.508146204       256.508146204       1.13686837722e-13   \n",
      "255.970590226       255.970590226       1.42108547152e-13   \n",
      "25.6435936186       25.6435936186       1.7763568394e-14    \n",
      "25.5754509016       25.5754509016       2.13162820728e-14   \n",
      "3.476976521248273e-13\n",
      "0.5993786989697338\n",
      "0.599378698969838\n"
     ]
    },
    {
     "data": {
      "image/png": "[encoded data removed]",
      "text/plain": [
       "<Figure size 1080x216 with 1 Axes>"
      ]
     },
     "metadata": {
      "needs_background": "light"
     },
     "output_type": "display_data"
    },
    {
     "data": {
      "image/png": "[encoded data removed]",
      "text/plain": [
       "<Figure size 1080x216 with 1 Axes>"
      ]
     },
     "metadata": {
      "needs_background": "light"
     },
     "output_type": "display_data"
    }
   ],
   "source": [
    "# svd_truncation and svd_truncation_randomized can be used to perform SVD truncation\n",
    "# svd_truncation performs full SVD and svd_truncation_randomized performs randomized SVD\n",
    "# In both cases, only the requested number of largest singular values are used to generated truncated matrix\n",
    "# Truncated matrix is the best rank k approximation of the input\n",
    "# These function return list of singular values and truncated matrices\n",
    "\n",
    "# Generate test signal (real signal with two harmonics and random noise)\n",
    "dtype = torch.float64\n",
    "device = 'cpu'\n",
    "length = 1024\n",
    "time = torch.linspace(1, length, length, dtype=dtype, device=device)\n",
    "signal = 1.0*torch.sin(2*numpy.pi*0.12*time) + 0.1*torch.sin(2*numpy.pi*0.24*time)\n",
    "sigma = 1.0E-2\n",
    "signal.add_(sigma*torch.randn(length, dtype=dtype, device=device))\n",
    "signal.unsqueeze_(0)\n",
    "\n",
    "# Generate matrix representation\n",
    "matrix = Filter.make_matrix(signal)\n",
    "\n",
    "# Since noise is added, matrix is expected to have full rank\n",
    "torch.linalg.matrix_rank(matrix)\n",
    "\n",
    "# Perform SVD truncation (full SVD)\n",
    "S1, M1 = Filter.svd_truncation(rank=4, matrix=matrix, cpu=True)\n",
    "print(torch.linalg.matrix_rank(M1))\n",
    "\n",
    "# Perform SVD truncation (randomized SVD)\n",
    "S2, M2 = Filter.svd_truncation_randomized(rank=4, matrix=matrix, buffer=8, count=8, random_seed=0, cpu=True)\n",
    "print(torch.linalg.matrix_rank(M2))\n",
    "\n",
    "# Compare singular values\n",
    "fmt = 3 * '{:<20.12}'\n",
    "for s1, s2 in zip(S1.squeeze().cpu(), S2.squeeze().cpu()):\n",
    "    print(fmt.format(s1, s2, abs(s1 - s2)))\n",
    "    \n",
    "# Compare truncated matrices\n",
    "print(torch.linalg.norm(M1-M2).cpu().numpy())\n",
    "\n",
    "# Estimate noise\n",
    "print(100*abs(sigma-torch.std(matrix - M1).cpu().numpy())/sigma)\n",
    "print(100*abs(sigma-torch.std(matrix - M2).cpu().numpy())/sigma)\n",
    "\n",
    "# Convert to signal representation and DFT compare spectra\n",
    "s1 = Filter.make_signal(M1).squeeze()\n",
    "s2 = Filter.make_signal(M2).squeeze()\n",
    "grid = torch.fft.rfftfreq(length, dtype=dtype)\n",
    "plt.figure(figsize=(15, 3))\n",
    "plt.scatter(grid, torch.log10(torch.abs(torch.fft.rfft(signal.squeeze()))).cpu(), c='black')\n",
    "plt.scatter(grid, torch.log10(torch.abs(torch.fft.rfft(s1))).cpu(), c='red')\n",
    "plt.show()\n",
    "plt.figure(figsize=(15, 3))\n",
    "plt.scatter(grid, torch.log10(torch.abs(torch.fft.rfft(signal.squeeze()))).cpu(), c='black')\n",
    "plt.scatter(grid, torch.log10(torch.abs(torch.fft.rfft(s2))).cpu(), c='blue')\n",
    "plt.show()\n",
    "\n",
    "# Filtering potentialy allows to apply window function with less noise amplification\n",
    "# Note, signals are assumed to have zero mean\n",
    "# Remove mean before processing or increase number of requested singular values by one"
   ]
  },
  {
   "cell_type": "markdown",
   "id": "dd7f7d24",
   "metadata": {},
   "source": [
    "# Example-04: Optimal SVD truncation, rank and noise estimation"
   ]
  },
  {
   "cell_type": "code",
   "execution_count": 5,
   "id": "a1ceee5c",
   "metadata": {},
   "outputs": [
    {
     "name": "stdout",
     "output_type": "stream",
     "text": [
      "Data(54, Window(1024, 'cosine_window', 1.0))\n"
     ]
    }
   ],
   "source": [
    "# estimate_noise function can be used for truncation rank and noise value estimation\n",
    "# This function can be used when number of components in signal is not known\n",
    "\n",
    "# Load test TbT data and add random noise\n",
    "dtype = torch.float64\n",
    "device = 'cpu'\n",
    "length = 1024\n",
    "win = Window(length, 'cosine_window', 1.0, dtype=dtype, device=device)\n",
    "tbt = Data.from_tensor(win, torch.tensor(numpy.load('../virtual_tbt.npy')[:, :length], dtype=dtype, device=device))\n",
    "std = 1.E-4*torch.rand(54, dtype=dtype, device=device)\n",
    "Data.add_noise(tbt.data, std)\n",
    "tbt.reset()\n",
    "print(tbt)\n",
    "\n",
    "# Filter instance\n",
    "f = Filter(tbt)\n",
    "\n",
    "# For estimation, only several first columns can ne used (64 by default)\n",
    "R1, N1 = f.estimate_noise(limit=16, cpu=True)\n",
    "R2, N2 = f.estimate_noise(limit=64, cpu=True)\n",
    "R3, N3 = f.estimate_noise(limit=256, cpu=True)\n",
    "\n",
    "# Estimate noise (average over samples)\n",
    "# Generate several samples of length 256 from each signal using start shift 8\n",
    "N4 = []\n",
    "for i in range(54):\n",
    "    f = Filter(tbt.make_matrix(i, 256, 8))\n",
    "    _, noise = f.estimate_noise(limit=64)\n",
    "    N4.append(noise.mean().item())"
   ]
  },
  {
   "cell_type": "code",
   "execution_count": 6,
   "id": "a0406516",
   "metadata": {},
   "outputs": [
    {
     "name": "stdout",
     "output_type": "stream",
     "text": [
      "      16    64    256   \n",
      "0     2     4     4     \n",
      "1     2     2     2     \n",
      "2     2     2     2     \n",
      "3     2     2     2     \n",
      "4     2     2     2     \n",
      "5     2     2     2     \n",
      "6     2     2     2     \n",
      "7     2     2     4     \n",
      "8     2     2     4     \n",
      "9     2     2     6     \n",
      "10    2     2     2     \n",
      "11    2     2     4     \n",
      "12    2     2     4     \n",
      "13    2     2     5     \n",
      "14    2     2     2     \n",
      "15    2     2     2     \n",
      "16    2     2     2     \n",
      "17    2     2     2     \n",
      "18    2     2     2     \n",
      "19    2     2     4     \n",
      "20    2     2     2     \n",
      "21    2     2     2     \n",
      "22    2     2     4     \n",
      "23    2     2     2     \n",
      "24    2     2     2     \n",
      "25    2     2     2     \n",
      "26    2     2     4     \n",
      "27    2     2     4     \n",
      "28    2     2     5     \n",
      "29    2     2     2     \n",
      "30    2     2     2     \n",
      "31    2     2     2     \n",
      "32    2     2     2     \n",
      "33    2     2     2     \n",
      "34    2     2     2     \n",
      "35    2     2     2     \n",
      "36    2     2     6     \n",
      "37    2     2     2     \n",
      "38    2     2     2     \n",
      "39    2     2     4     \n",
      "40    2     2     4     \n",
      "41    2     2     2     \n",
      "42    2     2     2     \n",
      "43    2     2     6     \n",
      "44    2     2     4     \n",
      "45    2     2     2     \n",
      "46    2     2     2     \n",
      "47    2     2     2     \n",
      "48    2     2     4     \n",
      "49    2     2     2     \n",
      "50    2     2     2     \n",
      "51    2     2     8     \n",
      "52    2     2     2     \n",
      "53    2     2     2     \n"
     ]
    }
   ],
   "source": [
    "# Compare estimated ranks (note, expected rank is two)\n",
    "fmt = 4 * '{:<6}'\n",
    "print(fmt.format(\"\", 16, 64, 256))\n",
    "for i, (r1, r2, r3) in enumerate(zip(R1.cpu(), R2.cpu(), R3.cpu())):\n",
    "    print(fmt.format(i, r1, r2, r3))\n",
    "    \n",
    "# Note, depending on particular noise parameters, results might be different\n",
    "# In general, rank tends to be over estimated if large number of columns is used"
   ]
  },
  {
   "cell_type": "code",
   "execution_count": 7,
   "id": "692b3144",
   "metadata": {},
   "outputs": [
    {
     "name": "stdout",
     "output_type": "stream",
     "text": [
      "                16              64              256             ave             \n",
      "0               7.6177223       3.6503608       6.6503644       2.2813106       \n",
      "1               0.50477224      1.682291        0.58419474      1.5876059       \n",
      "2               1.7428685       0.65950903      0.93449122      1.4006352       \n",
      "3               3.7464685       1.3476199       1.1082647       0.045203966     \n",
      "4               6.8322246       5.1663288       6.5903629       8.9951808       \n",
      "5               2.3788745       3.6745596       0.4810288       0.44044279      \n",
      "6               9.4947635       6.1175316       4.2701819       8.0192824       \n",
      "7               3.635914        1.9792113       2.0263077       0.42106898      \n",
      "8               0.27340766      1.7977394       2.8163681       0.41626287      \n",
      "9               1.5642087       3.826295        4.2553263       1.7231383       \n",
      "10              1.4436487       0.7740576       1.40227         2.0670347       \n",
      "11              1.092699        3.0892106       0.51700244      1.8091587       \n",
      "12              5.2774477       6.4197548       5.3934378       2.6512113       \n",
      "13              0.87354489      0.76193727      3.0922187       0.66433013      \n",
      "14              3.4057484       3.5367305       7.0252267       4.1537003       \n",
      "15              3.2125542       3.5668924       5.8120891       3.5489486       \n",
      "16              8.0944431       3.3240074       2.0895058       2.828961        \n",
      "17              5.9899662       0.32533934      2.508352        1.3149483       \n",
      "18              2.0922902       2.6422489       2.2326274       1.9737667       \n",
      "19              3.9406876       1.5870449       2.108339        2.4409762       \n",
      "20              1.4007752       0.9507124       2.6968023       4.6261426       \n",
      "21              1.991944        3.0201116       2.2081617       0.29417618      \n",
      "22              0.3356235       2.7489252       1.7037782       3.0775088       \n",
      "23              0.54493103      1.8983871       0.47538451      0.25376881      \n",
      "24              0.68212151      0.38563603      0.6528107       1.2007917       \n",
      "25              0.2034505       1.6764874       0.079179708     0.55621084      \n",
      "26              2.3596051       0.94074619      0.93208148      3.6225002       \n",
      "27              6.9154228       2.0214826       0.35821         0.80854866      \n",
      "28              4.2912115       1.3972491       4.2531253       5.0605806       \n",
      "29              1.3871002       1.040644        0.32981243      3.8995421       \n",
      "30              5.4313491       4.7183784       4.2611509       4.251007        \n",
      "31              2.8247835       3.6813552       6.6043689       4.6777644       \n",
      "32              0.053801888     0.91862195      3.2630351       1.7930638       \n",
      "33              2.3466388       4.1457667       2.2687597       0.87339771      \n",
      "34              4.1395672       1.7774479       0.78569701      1.533496        \n",
      "35              7.2267751       7.6834123       7.0847458       4.9162634       \n",
      "36              5.5303009       1.5906859       0.73907723      1.1863829       \n",
      "37              0.72780849      0.082747788     3.2639147       2.185066        \n",
      "38              7.5695012       5.6866485       0.053631517     3.1817923       \n",
      "39              3.8789909       3.2249288       1.3568451       1.3590773       \n",
      "40              2.0243488       3.2456617       5.3358009       0.92677959      \n",
      "41              5.6836532       1.473756        3.8438593       2.2280038       \n",
      "42              7.9494484       10.410853       9.0655304       7.9876646       \n",
      "43              4.2980973       0.10085479      3.3636181       0.68913286      \n",
      "44              1.9099065       3.477782        1.3036374       0.20922749      \n",
      "45              0.94513063      3.8769121       0.6827052       3.3749722       \n",
      "46              1.3576356       0.86170368      2.7710728       4.339293        \n",
      "47              3.4752898       1.2488501       0.6499692       0.76594362      \n",
      "48              0.84558912      1.7693332       2.6168998       3.1831188       \n",
      "49              2.0896647       0.53452218      2.5003456       2.2790856       \n",
      "50              3.4209479       2.626442        6.5626522       2.616992        \n",
      "51              5.5209767       2.1174846       1.1614404       2.9315889       \n",
      "52              5.8270946       1.1863191       2.2743756       2.0771441       \n",
      "53              1.3176023       0.6303784       1.6050627       3.0114134       \n"
     ]
    }
   ],
   "source": [
    "# Compare estimated noise\n",
    "fmt = 5 * '{:<16}'\n",
    "print(fmt.format(\"\", 16, 64, 256, \"ave\"))\n",
    "fmt = '{:<16}' + 4 * '{:<16.8}'\n",
    "for i, (n0, n1, n2, n3, n4) in enumerate(zip(std.cpu(), N1.cpu(), N2.cpu(), N3.cpu(), N4)):\n",
    "    print(fmt.format(i, 100*abs(n1-n0)/n0, 100*abs(n2-n0)/n0, 100*abs(n3-n0)/n0, 100*abs(n4-n0)/n0))\n",
    "    \n",
    "# Note, for noise sigma estimation, approximate expression is used\n",
    "# In this example, noise estimation accuracy is better than 10%\n",
    "# Using larger number of columns or averaging over samples do not affect estimation accuracy significantly (but better on average in both cases)"
   ]
  },
  {
   "cell_type": "markdown",
   "id": "abc46d5e",
   "metadata": {
    "heading_collapsed": true
   },
   "source": [
    "# Example-05: RPCA"
   ]
  },
  {
   "cell_type": "code",
   "execution_count": 8,
   "id": "2cdb6605",
   "metadata": {
    "hidden": true
   },
   "outputs": [
    {
     "name": "stdout",
     "output_type": "stream",
     "text": [
      "(100, 120)\n",
      "[[10. 10. 10. ... 30. 30. 30.]\n",
      " [10. 10. 10. ... 30. 30. 30.]\n",
      " [10. 10. 10. ... 30. 30. 30.]\n",
      " ...\n",
      " [10. 10. 10. ... 30. 30. 30.]\n",
      " [10. 10. 10. ... 30. 30. 30.]\n",
      " [10. 10. 10. ... 30. 30. 30.]]\n",
      "tensor(1)\n",
      "(100, 120)\n",
      "[[10. 10. 10. ... 30. 30. 30.]\n",
      " [10. 10. 10. ... 30.  0. 30.]\n",
      " [10. 10.  0. ... 30.  0. 30.]\n",
      " ...\n",
      " [10. 10. 10. ... 30. 30. 30.]\n",
      " [10. 10. 10. ... 30. 30. 30.]\n",
      " [10. 10. 10. ... 30. 30. 30.]]\n",
      "tensor(100)\n",
      "378\n",
      "tensor(1.915177428056e-10, dtype=torch.float64)\n",
      "tensor(1)\n",
      "[[10. 10. 10. ... 30. 30. 30.]\n",
      " [10. 10. 10. ... 30. 30. 30.]\n",
      " [10. 10. 10. ... 30. 30. 30.]\n",
      " ...\n",
      " [10. 10. 10. ... 30. 30. 30.]\n",
      " [10. 10. 10. ... 30. 30. 30.]\n",
      " [10. 10. 10. ... 30. 30. 30.]]\n",
      "2.7533531010703882e-11\n"
     ]
    }
   ],
   "source": [
    "# https://arxiv.org/abs/0912.3599\n",
    "# RPCA can be performed with rpca classmethod\n",
    "# Single matrix should be passed on input (this can be a full TbT matrix or a Hankel matrix of a signal)\n",
    "\n",
    "# Separate 'grained' noise using RPCA\n",
    "\n",
    "# Generate original low rank matrix\n",
    "n = 100\n",
    "k = 3\n",
    "m = 40\n",
    "X = numpy.hstack([numpy.ones((n, m)) * (i + 1) * 10 for i in range(k)])\n",
    "print(X.shape)\n",
    "print(X)\n",
    "print(torch.linalg.matrix_rank(torch.tensor(X)))\n",
    "\n",
    "# Generate matrix with missing values (change fraction of missing values to observe convergence)\n",
    "Y = numpy.copy(X)\n",
    "Y[numpy.random.rand(*Y.shape) < 0.1] = 0.0\n",
    "print(Y.shape)\n",
    "print(Y)\n",
    "print(torch.linalg.matrix_rank(torch.tensor(Y)))\n",
    "\n",
    "# Perform RPCA (change the number of iterations and/or the tolerance factor to observe convergence)\n",
    "count, error, L, S = Filter.rpca(torch.tensor(Y), limit=8912, factor=1.E-12, cpu=True)\n",
    "\n",
    "# Number of iterations and final error\n",
    "print(count)\n",
    "print(error)\n",
    "\n",
    "# 'Cleaned' matrix rank\n",
    "print(torch.linalg.matrix_rank(L))\n",
    "print(L.cpu().numpy())\n",
    "\n",
    "# Maximum element-wise error\n",
    "print(numpy.max(numpy.abs((X - L.cpu().numpy()))))"
   ]
  },
  {
   "cell_type": "markdown",
   "id": "e70727d5",
   "metadata": {
    "heading_collapsed": true
   },
   "source": [
    "# Example-06: TbT filtering (SVD & Hankel & RPCA)"
   ]
  },
  {
   "cell_type": "code",
   "execution_count": 9,
   "id": "4dd6eaa6",
   "metadata": {
    "hidden": true
   },
   "outputs": [],
   "source": [
    "# In this example frequency uncertanty is compared for different TbT filtering"
   ]
  },
  {
   "cell_type": "code",
   "execution_count": 10,
   "id": "6508f38c",
   "metadata": {
    "hidden": true
   },
   "outputs": [
    {
     "name": "stdout",
     "output_type": "stream",
     "text": [
      "0.46148590441619713\n"
     ]
    }
   ],
   "source": [
    "# Compute reference frequency for test TbT data\n",
    "\n",
    "# Load TbT\n",
    "dtype = torch.float64\n",
    "device = 'cpu'\n",
    "length = 4096\n",
    "win = Window(length, 'cosine_window', 2.0, dtype=dtype, device=device)\n",
    "tbt = Data.from_tensor(win, torch.tensor(numpy.load('../virtual_tbt.npy')[:, :length], dtype=dtype, device=device))\n",
    "\n",
    "# Compute reference frequency\n",
    "f = Frequency(tbt)\n",
    "f('parabola')\n",
    "ref = f.frequency.mean().cpu().item()\n",
    "print(ref)"
   ]
  },
  {
   "cell_type": "code",
   "execution_count": 11,
   "id": "2543470c",
   "metadata": {
    "hidden": true
   },
   "outputs": [],
   "source": [
    "# Set parameters\n",
    "dtype = torch.float64\n",
    "device = 'cpu'\n",
    "length = 1024\n",
    "\n",
    "# Set noise std for each BPM\n",
    "# Note, each BPM has a different value of noise sigma\n",
    "std = 1.0E-4*torch.rand(54, dtype=dtype, device=device)\n",
    "\n",
    "# Test TbT data with random noise\n",
    "win = Window(length, 'cosine_window', 1.0, dtype=dtype, device=device)\n",
    "tbt = Data.from_tensor(win, torch.tensor(numpy.load('../virtual_tbt.npy')[:, :length], dtype=dtype, device=device))\n",
    "Data.add_noise(tbt.data, std.to(dtype).to(device))\n",
    "tbt.reset()\n",
    "\n",
    "# Set seed (randomized range estimation)\n",
    "seed = numpy.random.randint(0, 1000)\n",
    "\n",
    "# Set filter instance\n",
    "flt = Filter(tbt, random_seed=seed)\n",
    "\n",
    "# Set frequency instance\n",
    "fre = Frequency(tbt)"
   ]
  },
  {
   "cell_type": "code",
   "execution_count": 12,
   "id": "c1d625c0",
   "metadata": {
    "hidden": true
   },
   "outputs": [
    {
     "name": "stdout",
     "output_type": "stream",
     "text": [
      "8.523581542617128\n"
     ]
    }
   ],
   "source": [
    "# Estimate noise (optimal SVD truncation)\n",
    "_, noise = flt.estimate_noise(limit=32, cpu=True)\n",
    "\n",
    "# Maximum noise estimation error\n",
    "print(torch.max(100*torch.abs(noise - std)/std).cpu().item())"
   ]
  },
  {
   "cell_type": "code",
   "execution_count": 13,
   "id": "c083d02f",
   "metadata": {
    "hidden": true
   },
   "outputs": [
    {
     "name": "stdout",
     "output_type": "stream",
     "text": [
      "error: 8.1130052e-08    spread: 2.52871944e-06   case: raw data without window\n",
      "error: 2.091952e-07     spread: 1.00703458e-06   case: raw data with window\n"
     ]
    }
   ],
   "source": [
    "# Compute frequencies without filtering\n",
    "# Note, since error is random, i.e. deviation of mean from the reference\n",
    "# The result should be judged mostly by frequency spread (assuming bias can be neglected)\n",
    "f = Frequency(tbt)\n",
    "\n",
    "# Without window\n",
    "f('parabola', window=False)\n",
    "m, s = f.frequency.mean().cpu().item(), f.frequency.std().cpu().item()\n",
    "print(f'error: {abs(ref - m):<16.9} spread: {s:<16.9} case: raw data without window')\n",
    "\n",
    "# With window\n",
    "# Note, in general, window will increase frequency spread, but reduce bias\n",
    "f('parabola', window=True)\n",
    "m, s = f.frequency.mean().cpu().item(), f.frequency.std().cpu().item()\n",
    "print(f'error: {abs(ref - m):<16.9} spread: {s:<16.9} case: raw data with window')"
   ]
  },
  {
   "cell_type": "code",
   "execution_count": 14,
   "id": "52d2de6f",
   "metadata": {
    "hidden": true
   },
   "outputs": [
    {
     "name": "stdout",
     "output_type": "stream",
     "text": [
      "533.4385865798112\n",
      "error: 1.56799006e-07   spread: 2.43066462e-06   case: SVD filtering without window\n",
      "error: 2.57954144e-07   spread: 7.29394137e-08   case: SVD filtering with window\n"
     ]
    }
   ],
   "source": [
    "# Perform SVD filtering (full TbT)\n",
    "# Note, filter modifies work container of TbT, computation of frequency resets work container if window is used\n",
    "flt.filter_svd(rank=2, cpu=True)\n",
    "\n",
    "# Maximum noise estimation error\n",
    "noise = torch.std(tbt.data - tbt.work, 1)\n",
    "print(torch.max(100*torch.abs(noise - std)/std).cpu().item())\n",
    "\n",
    "# Compute frequencies with SVD filtering\n",
    "\n",
    "# Without window\n",
    "# Note, frequency spread is generaly reduced by SVD filtering\n",
    "f('parabola', window=False)\n",
    "m, s = f.frequency.mean().cpu().item(), f.frequency.std().cpu().item()\n",
    "print(f'error: {abs(ref - m):<16.9} spread: {s:<16.9} case: SVD filtering without window')\n",
    "\n",
    "# With window\n",
    "# Note, filtering allows application of window without harmful effect on frequency spread\n",
    "# In some cases frequency spread is further reduced\n",
    "f('parabola', window=True)\n",
    "m, s = f.frequency.mean().cpu().item(), f.frequency.std().cpu().item()\n",
    "print(f'error: {abs(ref - m):<16.9} spread: {s:<16.9} case: SVD filtering with window')"
   ]
  },
  {
   "cell_type": "code",
   "execution_count": 15,
   "id": "27d834f6",
   "metadata": {
    "hidden": true
   },
   "outputs": [
    {
     "name": "stdout",
     "output_type": "stream",
     "text": [
      "4.725072364787726\n",
      "error: 2.18310542e-07   spread: 2.58049435e-06   case: Hankel filtering without window\n",
      "error: 1.5771785e-07    spread: 8.8182188e-07    case: Hankel filtering with window\n"
     ]
    }
   ],
   "source": [
    "# Perform Hankel filtering\n",
    "# Note, when applied to raw TbT, Hankel filtering performs worse than SVD\n",
    "flt.filter_hankel(rank=2, cpu=True, random=True, buffer=16, count=32)\n",
    "\n",
    "# Maximum noise estimation error\n",
    "noise = torch.std(tbt.data - tbt.work, 1)\n",
    "print(torch.max(100*torch.abs(noise - std)/std).cpu().item())\n",
    "\n",
    "# Compute frequencies with Hankel filtering\n",
    "\n",
    "# Without window\n",
    "f('parabola', window=False)\n",
    "m, s = f.frequency.mean().cpu().item(), f.frequency.std().cpu().item()\n",
    "print(f'error: {abs(ref - m):<16.9} spread: {s:<16.9} case: Hankel filtering without window')\n",
    "\n",
    "# With window\n",
    "f('parabola', window=True)\n",
    "m, s = f.frequency.mean().cpu().item(), f.frequency.std().cpu().item()\n",
    "print(f'error: {abs(ref - m):<16.9} spread: {s:<16.9} case: Hankel filtering with window')"
   ]
  },
  {
   "cell_type": "code",
   "execution_count": 16,
   "id": "98814290",
   "metadata": {
    "hidden": true
   },
   "outputs": [
    {
     "name": "stdout",
     "output_type": "stream",
     "text": [
      "14.907824795769596\n",
      "error: 2.7789705e-07    spread: 2.40834492e-06   case: SVD & Hankel filtering without window\n",
      "error: 2.11268914e-07   spread: 6.39309547e-08   case: SVD & Hankel filtering with window\n"
     ]
    }
   ],
   "source": [
    "# Perform SVD & Hankel filtering\n",
    "# If Hankel filtering is applied after SVD, the frequency spread is further slightly reduced on average\n",
    "flt.filter_svd(rank=2, cpu=True)\n",
    "flt.filter_hankel(rank=2, cpu=True, random=True, buffer=8, count=16)\n",
    "\n",
    "# Maximum noise estimation error\n",
    "noise = torch.std(tbt.data - tbt.work, 1)\n",
    "print(torch.max(100*torch.abs(noise - std)/std).cpu().item())\n",
    "\n",
    "# Without window\n",
    "f('parabola', window=False)\n",
    "m, s = f.frequency.mean().cpu().item(), f.frequency.std().cpu().item()\n",
    "print(f'error: {abs(ref - m):<16.9} spread: {s:<16.9} case: SVD & Hankel filtering without window')\n",
    "\n",
    "# With window\n",
    "f('parabola', window=True)\n",
    "m, s = f.frequency.mean().cpu().item(), f.frequency.std().cpu().item()\n",
    "print(f'error: {abs(ref - m):<16.9} spread: {s:<16.9} case: SVD & Hankel filtering with window')"
   ]
  },
  {
   "cell_type": "code",
   "execution_count": 17,
   "id": "44528bab",
   "metadata": {
    "hidden": true
   },
   "outputs": [
    {
     "name": "stdout",
     "output_type": "stream",
     "text": [
      "221.1715107856178\n",
      "error: 1.13925958e-07   spread: 2.41581273e-06   case: RPCA filtering without window\n",
      "error: 2.50763706e-07   spread: 4.01000314e-07   case: RPCA filtering with window\n"
     ]
    }
   ],
   "source": [
    "# Perform RPCA filtering\n",
    "# Note, RPCA is not perfect for normal noise, large number of iterations is required in this case\n",
    "flt.filter_rpca(limit=2**10, factor=1.E-15, cpu=True)\n",
    "\n",
    "# Maximum noise estimation error\n",
    "noise = torch.std(tbt.data - tbt.work, 1)\n",
    "print(torch.max(100*torch.abs(noise - std)/std).cpu().item())\n",
    "\n",
    "# Without window\n",
    "f('parabola', window=False)\n",
    "m, s = f.frequency.mean().cpu().item(), f.frequency.std().cpu().item()\n",
    "print(f'error: {abs(ref - m):<16.9} spread: {s:<16.9} case: RPCA filtering without window')\n",
    "\n",
    "# With window\n",
    "f('parabola', window=True)\n",
    "m, s = f.frequency.mean().cpu().item(), f.frequency.std().cpu().item()\n",
    "print(f'error: {abs(ref - m):<16.9} spread: {s:<16.9} case: RPCA filtering with window')\n",
    "\n",
    "# RPCA can be combined also combined with other filters"
   ]
  },
  {
   "cell_type": "markdown",
   "id": "d51828c3",
   "metadata": {},
   "source": [
    "# Example-07: Effect of filtering on uncertainties"
   ]
  },
  {
   "cell_type": "code",
   "execution_count": 18,
   "id": "9e60d3f2",
   "metadata": {},
   "outputs": [
    {
     "name": "stdout",
     "output_type": "stream",
     "text": [
      "frequency: error=1.28052105364e-07, spread=3.72335044926e-06\n",
      "amplitude: error=2.27846163471e-05, spread=0.00562484018989\n"
     ]
    }
   ],
   "source": [
    "# Estimate frequency and amplitude uncertainty from multiple realizations\n",
    "\n",
    "# Set parameters\n",
    "dtype = torch.float64\n",
    "device = 'cpu'\n",
    "length = 1024\n",
    "\n",
    "# Set signal\n",
    "time = torch.linspace(1, length, length, dtype=dtype, device=device)\n",
    "signal = 1.0*torch.cos(2.0*numpy.pi*0.12345*time) + 0.1*torch.cos(2.0*numpy.pi*2.0*0.12345*time)\n",
    "\n",
    "# Set TbT (signal copies with different noise realizations)\n",
    "std = 0.10\n",
    "win = Window.from_cosine(length, 1.0, dtype=dtype, device=device)\n",
    "tbt = torch.stack([signal + std*torch.randn(length, dtype=dtype, device=device) for _ in range(256)])\n",
    "tbt = Data.from_tensor(win, tbt)\n",
    "\n",
    "# Estimate frequency\n",
    "f = Frequency(tbt)\n",
    "f('parabola')\n",
    "m_f, s_f = f.frequency.mean().cpu().item(), f.frequency.std().cpu().item()\n",
    "\n",
    "# Print result\n",
    "print(f'frequency: error={abs(0.12345 - m_f):<16.12}, spread={s_f:<16.12}')\n",
    "\n",
    "# Estimate amplitude\n",
    "c = 2.0/win.total*torch.sum(torch.cos(2.0*numpy.pi*m_f*time)*tbt.data*win.data, 1)\n",
    "s = 2.0/win.total*torch.sum(torch.sin(2.0*numpy.pi*m_f*time)*tbt.data*win.data, 1)\n",
    "a = torch.sqrt(c*c + s*s)\n",
    "m_a, s_a = a.mean().cpu().item(), a.std().cpu().item()\n",
    "\n",
    "# Print result\n",
    "print(f'amplitude: error={abs(1.0 - m_a):<16.12}, spread={s_a:<16.12}')"
   ]
  },
  {
   "cell_type": "code",
   "execution_count": 19,
   "id": "0464c55d",
   "metadata": {},
   "outputs": [
    {
     "name": "stdout",
     "output_type": "stream",
     "text": [
      "min: 4\n",
      "max: 4\n",
      "std: 0.1012254517915858\n"
     ]
    }
   ],
   "source": [
    "# Estimate rank/noise\n",
    "flt = Filter(tbt)\n",
    "rank, noise = flt.estimate_noise(limit=32, cpu=True)\n",
    "print(f'min: {rank.min().cpu().item()}')\n",
    "print(f'max: {rank.max().cpu().item()}')\n",
    "print(f'std: {noise.mean().cpu().item()}')"
   ]
  },
  {
   "cell_type": "code",
   "execution_count": 20,
   "id": "27319d30",
   "metadata": {},
   "outputs": [
    {
     "name": "stdout",
     "output_type": "stream",
     "text": [
      "frequency: error=1.28102835104e-07, spread=3.84862827805e-07\n",
      "amplitude: error=3.55922919033e-05, spread=0.00461545837535\n"
     ]
    }
   ],
   "source": [
    "# SVD\n",
    "\n",
    "# Estimate frequency\n",
    "flt.filter_svd(rank=4, random=False, cpu=True)\n",
    "f = Frequency(tbt)\n",
    "f('parabola')\n",
    "m_f, s_f = f.frequency.mean().cpu().item(), f.frequency.std().cpu().item()\n",
    "print(f'frequency: error={abs(0.12345 - m_f):<16.12}, spread={s_f:<16.12}')\n",
    "\n",
    "# Estimate amplitude\n",
    "flt.filter_svd(rank=4, random=False, cpu=True)\n",
    "c = 2.0/win.total*torch.sum(torch.cos(2.0*numpy.pi*m_f*time)*tbt.work*win.data, 1)\n",
    "s = 2.0/win.total*torch.sum(torch.sin(2.0*numpy.pi*m_f*time)*tbt.work*win.data, 1)\n",
    "a = torch.sqrt(c*c + s*s)\n",
    "m_a, s_a = a.mean().cpu().item(), a.std().cpu().item()\n",
    "print(f'amplitude: error={abs(1.0 - m_a):<16.12}, spread={s_a:<16.12}')"
   ]
  },
  {
   "cell_type": "code",
   "execution_count": 21,
   "id": "3ee434e1",
   "metadata": {},
   "outputs": [
    {
     "name": "stdout",
     "output_type": "stream",
     "text": [
      "frequency: error=1.86836980748e-07, spread=2.441272885e-07 \n",
      "amplitude: error=2.7220889757e-05, spread=0.00461352704517\n"
     ]
    }
   ],
   "source": [
    "# SVD & Hankel\n",
    "\n",
    "# Estimate frequency\n",
    "flt.filter_svd(rank=4, random=False, cpu=True)\n",
    "flt.filter_hankel(rank=4, random=True, buffer=8, count=16, cpu=True)\n",
    "f = Frequency(tbt)\n",
    "f('parabola')\n",
    "m_f, s_f = f.frequency.mean().cpu().item(), f.frequency.std().cpu().item()\n",
    "print(f'frequency: error={abs(0.12345 - m_f):<16.12}, spread={s_f:<16.12}')\n",
    "\n",
    "# Estimate amplitude\n",
    "flt.filter_svd(rank=4, random=False, cpu=True)\n",
    "flt.filter_hankel(rank=4, random=True, buffer=8, count=16, cpu=True)\n",
    "c = 2.0/win.total*torch.sum(torch.cos(2.0*numpy.pi*m_f*time)*tbt.work*win.data, 1)\n",
    "s = 2.0/win.total*torch.sum(torch.sin(2.0*numpy.pi*m_f*time)*tbt.work*win.data, 1)\n",
    "a = torch.sqrt(c*c + s*s)\n",
    "m_a, s_a = a.mean().cpu().item(), a.std().cpu().item()\n",
    "print(f'amplitude: error={abs(1.0 - m_a):<16.12}, spread={s_a:<16.12}')"
   ]
  },
  {
   "cell_type": "code",
   "execution_count": 22,
   "id": "4e10558b",
   "metadata": {},
   "outputs": [
    {
     "name": "stdout",
     "output_type": "stream",
     "text": [
      "frequency: error=1.86836941141e-07, spread=2.44127601146e-07\n",
      "amplitude: error=0.00791485396422, spread=0.0053367138622 \n"
     ]
    }
   ],
   "source": [
    "# RPCA\n",
    "\n",
    "# Estimate frequency\n",
    "flt.filter_rpca(limit=4096, factor=1.E-12, cpu=True)\n",
    "f = Frequency(tbt)\n",
    "f('parabola')\n",
    "m_f, s_f = f.frequency.mean().cpu().item(), f.frequency.std().cpu().item()\n",
    "print(f'frequency: error={abs(0.12345 - m_f):<16.12}, spread={s_f:<16.12}')\n",
    "\n",
    "# Estimate amplitude\n",
    "flt.filter_rpca(limit=4096, factor=1.E-12, cpu=True)\n",
    "c = 2.0/win.total*torch.sum(torch.cos(2.0*numpy.pi*m_f*time)*tbt.work*win.data, 1)\n",
    "s = 2.0/win.total*torch.sum(torch.sin(2.0*numpy.pi*m_f*time)*tbt.work*win.data, 1)\n",
    "a = torch.sqrt(c*c + s*s)\n",
    "m_a, s_a = a.mean().cpu().item(), a.std().cpu().item()\n",
    "print(f'amplitude: error={abs(1.0 - m_a):<16.12}, spread={s_a:<16.12}')"
   ]
  },
  {
   "cell_type": "code",
   "execution_count": null,
   "id": "0d08a20e",
   "metadata": {},
   "outputs": [],
   "source": []
  }
 ],
 "metadata": {
  "colab": {
   "collapsed_sections": [
    "myt0_gMIOq7b",
    "5d97819c"
   ],
   "name": "03_frequency.ipynb",
   "provenance": []
  },
  "kernelspec": {
   "display_name": "Python 3 (ipykernel)",
   "language": "python",
   "name": "python3"
  },
  "language_info": {
   "codemirror_mode": {
    "name": "ipython",
    "version": 3
   },
   "file_extension": ".py",
   "mimetype": "text/x-python",
   "name": "python",
   "nbconvert_exporter": "python",
   "pygments_lexer": "ipython3",
   "version": "3.9.0"
  },
  "latex_envs": {
   "LaTeX_envs_menu_present": true,
   "autoclose": false,
   "autocomplete": true,
   "bibliofile": "biblio.bib",
   "cite_by": "apalike",
   "current_citInitial": 1,
   "eqLabelWithNumbers": true,
   "eqNumInitial": 1,
   "hotkeys": {
    "equation": "Ctrl-E",
    "itemize": "Ctrl-I"
   },
   "labels_anchors": false,
   "latex_user_defs": false,
   "report_style_numbering": false,
   "user_envs_cfg": false
  }
 },
 "nbformat": 4,
 "nbformat_minor": 5
}
