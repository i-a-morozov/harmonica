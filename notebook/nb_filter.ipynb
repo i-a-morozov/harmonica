{
 "cells": [
  {
   "cell_type": "code",
   "execution_count": 1,
   "id": "38a3d71f",
   "metadata": {},
   "outputs": [
    {
     "name": "stdout",
     "output_type": "stream",
     "text": [
      "True\n"
     ]
    }
   ],
   "source": [
    "# Import\n",
    "\n",
    "import numpy\n",
    "import torch\n",
    "\n",
    "import sys\n",
    "sys.path.append('..')\n",
    "\n",
    "from harmonica.util import data_load\n",
    "from harmonica.window import Window\n",
    "from harmonica.data import Data\n",
    "from harmonica.frequency import Frequency\n",
    "from harmonica.filter import Filter\n",
    "\n",
    "import matplotlib.pyplot as plt\n",
    "\n",
    "torch.set_printoptions(precision=12, sci_mode=True)\n",
    "print(torch.cuda.is_available())"
   ]
  },
  {
   "cell_type": "code",
   "execution_count": 2,
   "id": "af8a5804-7b75-4b7a-8eac-e755703759a8",
   "metadata": {},
   "outputs": [],
   "source": [
    "# Set data type and device\n",
    "\n",
    "dtype = torch.float64\n",
    "device = torch.device('cpu')"
   ]
  },
  {
   "cell_type": "markdown",
   "id": "28d9ba26",
   "metadata": {
    "heading_collapsed": true,
    "tags": []
   },
   "source": [
    "# Example-01: Filter initialization & Matrix representation"
   ]
  },
  {
   "cell_type": "code",
   "execution_count": 3,
   "id": "df273619",
   "metadata": {
    "hidden": true
   },
   "outputs": [
    {
     "name": "stdout",
     "output_type": "stream",
     "text": [
      "None\n",
      "[[1 2 3 4 5 6 7 8]]\n",
      "[[[1 2 3 4]\n",
      "  [2 3 4 5]\n",
      "  [3 4 5 6]\n",
      "  [4 5 6 7]\n",
      "  [5 6 7 8]]]\n",
      "[[1 2 3 4 5 6 7 8]]\n"
     ]
    }
   ],
   "source": [
    "# Initialize Filter instance\n",
    "\n",
    "# Data instance should be passed as the first argument\n",
    "# Filter class contains several static and class method, that can be used without passing Data instance\n",
    "\n",
    "f = Filter(None)\n",
    "print(f.data)\n",
    "\n",
    "# make_matrix and make_signal functions can be used for matrix representation of a signal (Hankel matrix)\n",
    "# Both functions act on a batch of signals and matrices, respectively\n",
    "\n",
    "# Define test signal\n",
    "\n",
    "signal = torch.linspace(1, 8, 8, dtype=dtype, device=device).unsqueeze(0)\n",
    "print(signal.cpu().to(torch.int).numpy())\n",
    "\n",
    "# Generate matrix representation\n",
    "\n",
    "matrix = Filter.make_matrix(signal)\n",
    "print(matrix.cpu().to(torch.int).numpy())\n",
    "\n",
    "# Generate signal representation (average over skew diagonals)\n",
    "\n",
    "print(Filter.make_signal(matrix).cpu().to(torch.int).numpy())"
   ]
  },
  {
   "cell_type": "markdown",
   "id": "d2570393",
   "metadata": {
    "heading_collapsed": true,
    "tags": []
   },
   "source": [
    "# Example-02: Singular values"
   ]
  },
  {
   "cell_type": "code",
   "execution_count": 4,
   "id": "5b137074",
   "metadata": {
    "hidden": true
   },
   "outputs": [
    {
     "name": "stdout",
     "output_type": "stream",
     "text": [
      "tensor([6])\n",
      "256.518221536       256.518221536       5.68434188608e-14   \n",
      "255.980457668       255.980457668       2.84217094304e-14   \n",
      "25.6585560702       25.6585560702       3.5527136788e-15    \n",
      "25.5899723888       25.5899723888       7.1054273576e-15    \n",
      "0.256513879015      0.256513879015      6.66133814775e-16   \n",
      "0.255971936601      0.255971936601      5.55111512313e-16   \n"
     ]
    }
   ],
   "source": [
    "# svd_list and svd_list_randomized can be used to compute singular values\n",
    "# svd_list performs full SVD and svd_list_randimized performs randomized SVD\n",
    "# In both cases, requested number of largest singular values is returned\n",
    "\n",
    "# Generate test signal (real signal with three harmonics)\n",
    "\n",
    "length = 1024\n",
    "time = torch.linspace(1, length, length, dtype=dtype, device=device)\n",
    "signal = 1.0*torch.sin(2*numpy.pi*0.12*time) + 0.1*torch.sin(2*numpy.pi*0.24*time) + 1.E-3*torch.sin(2*numpy.pi*0.31*time)\n",
    "signal.unsqueeze_(0)\n",
    "\n",
    "# Generate matrix representation\n",
    "\n",
    "matrix = Filter.make_matrix(signal)\n",
    "\n",
    "# Since, test signal contains three harmonics, it's matrix is expected to have six non-zero singular values\n",
    "\n",
    "print(torch.linalg.matrix_rank(matrix))\n",
    "\n",
    "# Compute singular values (full SVD)\n",
    "\n",
    "S1 = Filter.svd_list(rank=6, matrix=matrix, cpu=True)\n",
    "\n",
    "# svd_list used full SVD to compute singular values\n",
    "# number of returned singular values is set by rank parameter\n",
    "# input matrix should be a batch of matrices\n",
    "# cpu flag is used to compute SVD using CPU\n",
    "\n",
    "# Compute singular values (randomized SVD)\n",
    "\n",
    "S2 = Filter.svd_list_randomized(rank=6, matrix=matrix, buffer=8, count=8, cpu=True)\n",
    "\n",
    "# svd_list_randomized used randomized SVD to compute singular values\n",
    "# randomized_range function is used to estimate matrix range with QR decomposition\n",
    "# buffer parameter sets the number of extra dimensions, randomized range column rank is rank + buffer\n",
    "# count parameter sets number of iterations\n",
    "\n",
    "# Compare singular values\n",
    "\n",
    "fmt = 3 * '{:<20.12}'\n",
    "for s1, s2 in zip(S1.squeeze().cpu(), S2.squeeze().cpu()):\n",
    "    print(fmt.format(s1, s2, abs(s1 - s2)))"
   ]
  },
  {
   "cell_type": "markdown",
   "id": "15b63e0d",
   "metadata": {
    "heading_collapsed": true,
    "tags": []
   },
   "source": [
    "# Example-03: SVD truncation"
   ]
  },
  {
   "cell_type": "code",
   "execution_count": 5,
   "id": "97195ad4",
   "metadata": {
    "hidden": true
   },
   "outputs": [
    {
     "name": "stdout",
     "output_type": "stream",
     "text": [
      "tensor([4])\n",
      "tensor([4])\n",
      "256.511897693       256.511897693       5.68434188608e-14   \n",
      "255.974413686       255.974413686       2.84217094304e-14   \n",
      "25.5993373373       25.5993373373       2.48689957516e-14   \n",
      "25.5310530811       25.5310530811       1.42108547152e-14   \n",
      "4.706903549434361e-13\n",
      "2.7879678870313533\n",
      "2.7879678870314053\n"
     ]
    },
    {
     "data": {
      "image/png": "[encoded data removed]",
      "text/plain": [
       "<Figure size 1440x216 with 1 Axes>"
      ]
     },
     "metadata": {
      "needs_background": "light"
     },
     "output_type": "display_data"
    },
    {
     "data": {
      "image/png": "[encoded data removed]",
      "text/plain": [
       "<Figure size 1440x216 with 1 Axes>"
      ]
     },
     "metadata": {
      "needs_background": "light"
     },
     "output_type": "display_data"
    }
   ],
   "source": [
    "# svd_truncation and svd_truncation_randomized can be used to perform SVD truncation\n",
    "# svd_truncation performs full SVD and svd_truncation_randomized performs randomized SVD\n",
    "# In both cases, only the requested number of largest singular values are used to generated truncated matrix\n",
    "# Truncated matrix is the best rank k approximation of the input\n",
    "# These functions return list of singular values and truncated matrices\n",
    "\n",
    "# Generate test signal (real signal with two harmonics and random noise)\n",
    "\n",
    "length = 1024\n",
    "time = torch.linspace(1, length, length, dtype=dtype, device=device)\n",
    "signal = 1.0*torch.sin(2*numpy.pi*0.12*time) + 0.1*torch.sin(2*numpy.pi*0.24*time)\n",
    "sigma = 1.0E-2\n",
    "signal.add_(sigma*torch.randn(length, dtype=dtype, device=device))\n",
    "signal.unsqueeze_(0)\n",
    "\n",
    "# Generate matrix representation\n",
    "\n",
    "matrix = Filter.make_matrix(signal)\n",
    "\n",
    "# Since noise is added, matrix is expected to have full rank\n",
    "\n",
    "torch.linalg.matrix_rank(matrix)\n",
    "\n",
    "# Perform SVD truncation (full SVD)\n",
    "\n",
    "S1, M1 = Filter.svd_truncation(rank=4, matrix=matrix, cpu=True)\n",
    "print(torch.linalg.matrix_rank(M1))\n",
    "\n",
    "# Perform SVD truncation (randomized SVD)\n",
    "\n",
    "S2, M2 = Filter.svd_truncation_randomized(rank=4, matrix=matrix, buffer=8, count=8, cpu=True)\n",
    "print(torch.linalg.matrix_rank(M2))\n",
    "\n",
    "# Compare singular values\n",
    "\n",
    "fmt = 3 * '{:<20.12}'\n",
    "for s1, s2 in zip(S1.squeeze().cpu(), S2.squeeze().cpu()):\n",
    "    print(fmt.format(s1, s2, abs(s1 - s2)))\n",
    "    \n",
    "# Compare truncated matrices\n",
    "\n",
    "print(torch.linalg.norm(M1 - M2).cpu().numpy())\n",
    "\n",
    "# Estimate noise\n",
    "\n",
    "print(100*abs(sigma-torch.std(matrix - M1).cpu().numpy())/sigma)\n",
    "print(100*abs(sigma-torch.std(matrix - M2).cpu().numpy())/sigma)\n",
    "\n",
    "# Convert to signal representation and DFT compare spectra\n",
    "\n",
    "s1 = Filter.make_signal(M1).squeeze()\n",
    "s2 = Filter.make_signal(M2).squeeze()\n",
    "grid = torch.fft.rfftfreq(length, dtype=dtype)\n",
    "\n",
    "plt.figure(figsize=(20, 3))\n",
    "plt.scatter(grid, torch.log10(torch.abs(torch.fft.rfft(signal.squeeze()))).cpu(), c='black')\n",
    "plt.scatter(grid, torch.log10(torch.abs(torch.fft.rfft(s1))).cpu(), c='red')\n",
    "plt.show()\n",
    "\n",
    "plt.figure(figsize=(20, 3))\n",
    "plt.scatter(grid, torch.log10(torch.abs(torch.fft.rfft(signal.squeeze()))).cpu(), c='black')\n",
    "plt.scatter(grid, torch.log10(torch.abs(torch.fft.rfft(s2))).cpu(), c='blue')\n",
    "plt.show()\n",
    "\n",
    "# Filtering potentialy allows to apply window function with less noise amplification\n",
    "# Note, signals are assumed to have zero mean\n",
    "# Remove mean before processing or increase number of requested singular values by one"
   ]
  },
  {
   "cell_type": "markdown",
   "id": "dd7f7d24",
   "metadata": {
    "tags": []
   },
   "source": [
    "# Example-04: Optimal SVD truncation, rank and noise estimation"
   ]
  },
  {
   "cell_type": "code",
   "execution_count": 6,
   "id": "c52356cb-554a-4586-9deb-82e1bc54ac33",
   "metadata": {},
   "outputs": [
    {
     "name": "stdout",
     "output_type": "stream",
     "text": [
      "Data(54, Window(1024, 'cosine_window', 1.0))\n"
     ]
    }
   ],
   "source": [
    "# estimate_noise function can be used for truncation rank and noise value estimation\n",
    "# This function can be used when number of components in signal is not known\n",
    "\n",
    "# Load test TbT data and add random noise\n",
    "\n",
    "length = 1024\n",
    "\n",
    "w = Window(length, 'cosine_window', 1.0, dtype=dtype, device=device)\n",
    "d = Data.from_file(54, w, '../virtual_tbt.npy')\n",
    "s = 1.0E-4*torch.rand(54, dtype=dtype, device=device)\n",
    "d.add_noise(s)\n",
    "print(d)\n",
    "\n",
    "# Filter instance\n",
    "\n",
    "l = Filter(d)\n",
    "\n",
    "# For estimation, only several first columns can ne used (32 by default)\n",
    "\n",
    "R1, N1 = l.estimate_noise(limit=16, cpu=True)\n",
    "R2, N2 = l.estimate_noise(limit=64, cpu=True)\n",
    "R3, N3 = l.estimate_noise(limit=256, cpu=True)\n",
    "\n",
    "# Estimate noise (average over samples)\n",
    "# Generate several samples of length 256 from each signal using start shift 8\n",
    "\n",
    "w = Window(256)\n",
    "N4 = []\n",
    "for i in range(54):\n",
    "    l = Filter(Data.from_data(w, d.make_matrix(256, 8, d.work[i])))\n",
    "    _, noise = l.estimate_noise(limit=64)\n",
    "    N4.append(noise.mean().item())"
   ]
  },
  {
   "cell_type": "code",
   "execution_count": 7,
   "id": "a0406516",
   "metadata": {},
   "outputs": [
    {
     "name": "stdout",
     "output_type": "stream",
     "text": [
      "      16    64    256   \n",
      "0     2     2     2     \n",
      "1     2     2     2     \n",
      "2     2     2     2     \n",
      "3     2     2     2     \n",
      "4     2     2     2     \n",
      "5     2     2     4     \n",
      "6     2     2     2     \n",
      "7     2     2     2     \n",
      "8     2     2     6     \n",
      "9     2     2     2     \n",
      "10    2     2     2     \n",
      "11    2     2     3     \n",
      "12    2     2     4     \n",
      "13    2     2     3     \n",
      "14    2     2     4     \n",
      "15    2     2     4     \n",
      "16    2     2     4     \n",
      "17    2     2     2     \n",
      "18    2     2     2     \n",
      "19    2     2     4     \n",
      "20    2     2     2     \n",
      "21    2     2     2     \n",
      "22    2     2     2     \n",
      "23    2     2     2     \n",
      "24    2     2     2     \n",
      "25    2     2     2     \n",
      "26    2     2     2     \n",
      "27    2     2     2     \n",
      "28    2     2     2     \n",
      "29    2     2     2     \n",
      "30    2     2     2     \n",
      "31    2     2     4     \n",
      "32    2     2     2     \n",
      "33    2     2     2     \n",
      "34    2     2     2     \n",
      "35    2     2     2     \n",
      "36    2     2     2     \n",
      "37    2     2     9     \n",
      "38    2     2     2     \n",
      "39    2     2     2     \n",
      "40    2     2     4     \n",
      "41    2     2     7     \n",
      "42    2     2     2     \n",
      "43    2     2     2     \n",
      "44    2     2     2     \n",
      "45    2     2     4     \n",
      "46    2     2     2     \n",
      "47    2     2     2     \n",
      "48    2     2     7     \n",
      "49    2     2     6     \n",
      "50    2     2     2     \n",
      "51    2     2     2     \n",
      "52    2     2     6     \n",
      "53    2     2     4     \n"
     ]
    }
   ],
   "source": [
    "# Compare estimated ranks (note, expected rank is two)\n",
    "\n",
    "fmt = 4 * '{:<6}'\n",
    "print(fmt.format(\"\", 16, 64, 256))\n",
    "for i, (r1, r2, r3) in enumerate(zip(R1.cpu(), R2.cpu(), R3.cpu())):\n",
    "    print(fmt.format(i, r1, r2, r3))\n",
    "    \n",
    "# Note, depending on particular noise parameters, results might be different\n",
    "# In general, rank tends to be overestimated if large number of columns is used"
   ]
  },
  {
   "cell_type": "code",
   "execution_count": 8,
   "id": "692b3144",
   "metadata": {},
   "outputs": [
    {
     "name": "stdout",
     "output_type": "stream",
     "text": [
      "                16              64              256             ave             \n",
      "0               0.9352071       1.4700834       0.97855446      2.3155003       \n",
      "1               4.6052103       6.3632173       3.0795302       2.8098426       \n",
      "2               1.329159        0.086928037     0.70613815      0.75152088      \n",
      "3               2.8577566       2.8896952       1.1323199       0.82851788      \n",
      "4               4.4403177       3.5307527       1.2071978       1.9749881       \n",
      "5               2.8602841       0.052918013     4.1358647       3.8304438       \n",
      "6               5.1563409       2.1266425       1.8850284       0.29797967      \n",
      "7               6.7107604       2.2212621       4.9020706       2.692912        \n",
      "8               2.0142189       3.0241853       1.7430891       3.3430402       \n",
      "9               0.18972163      0.39169036      1.5425626       1.6599444       \n",
      "10              0.83017195      0.24491062      2.2961955       0.30674977      \n",
      "11              3.5479701       1.2216726       3.2431374       0.4172431       \n",
      "12              4.0092597       3.2871941       6.404594        0.059503571     \n",
      "13              5.1962945       3.987526        2.7313665       2.434826        \n",
      "14              0.98061935      1.001171        2.5257573       2.3349111       \n",
      "15              8.4908742       8.6843909       4.9069352       4.5942888       \n",
      "16              2.3507601       2.9892857       0.42757914      1.8205768       \n",
      "17              0.69872112      1.8114946       1.0755292       1.9733418       \n",
      "18              0.076578602     1.4379836       2.9958483       2.77158         \n",
      "19              1.3597685       0.1961597       1.5259698       0.20171472      \n",
      "20              4.8591526       1.9309505       3.3419055       0.6297746       \n",
      "21              2.2752809       3.4615534       1.9742062       0.076231283     \n",
      "22              4.6632722       4.1339603       3.6162441       4.4731622       \n",
      "23              4.552263        5.4874188       1.8568029       3.5223517       \n",
      "24              0.99828955      1.7628619       0.51772252      0.39068578      \n",
      "25              0.023298167     0.20889348      1.5402605       1.4595473       \n",
      "26              0.54015501      0.24757405      2.3634295       2.7348966       \n",
      "27              0.17858355      2.514022        1.9607098       2.1222761       \n",
      "28              8.5471561       4.4908858       1.9898156       2.5208552       \n",
      "29              4.2638175       2.9085458       4.8683289       0.071053801     \n",
      "30              2.1160743       0.099446871     1.8368925       1.3904776       \n",
      "31              1.5383754       0.8513288       0.10391098      0.29627013      \n",
      "32              6.0621281       3.6413537       4.6021718       2.7459129       \n",
      "33              2.5840784       2.9395354       4.7969036       4.9567822       \n",
      "34              1.1900427       0.64260869      3.0737315       0.71849279      \n",
      "35              0.66914965      0.94753743      1.0764944       2.7596687       \n",
      "36              6.6149018       6.4278009       7.3510156       5.1220579       \n",
      "37              4.1205622       6.1307303       7.2790418       0.4722889       \n",
      "38              0.10687797      0.92635676      0.94012532      0.42475798      \n",
      "39              0.17935296      3.0400208       1.9909461       0.6154455       \n",
      "40              0.68552555      1.2164861       1.4940278       0.83226418      \n",
      "41              2.9459459       1.7355056       0.25507394      5.8569998       \n",
      "42              6.2032535       1.8094803       3.0369401       2.1847248       \n",
      "43              5.2912835       3.8180423       6.1391256       3.366175        \n",
      "44              1.2778174       3.1045244       1.573194        0.86143935      \n",
      "45              2.5527908       2.9513288       3.0422955       1.0409691       \n",
      "46              0.082773458     5.3531904       5.9991931       1.7242923       \n",
      "47              0.95184754      0.62202527      1.2042442       2.000052        \n",
      "48              5.7924283       2.0597087       1.5733072       2.7717761       \n",
      "49              4.6749928       5.9484688       6.7561263       2.9923871       \n",
      "50              3.3093886       3.5450247       1.3841168       0.97936538      \n",
      "51              0.83705574      3.1186125       1.3176013       2.5027147       \n",
      "52              0.26465738      4.8457494       7.0998344       4.5722043       \n",
      "53              3.8754908       2.4745153       1.4420041       3.4303857       \n"
     ]
    }
   ],
   "source": [
    "# Compare estimated noise\n",
    "\n",
    "fmt = 5 * '{:<16}'\n",
    "print(fmt.format(\"\", 16, 64, 256, \"ave\"))\n",
    "fmt = '{:<16}' + 4 * '{:<16.8}'\n",
    "for i, (n0, n1, n2, n3, n4) in enumerate(zip(s.cpu(), N1.cpu(), N2.cpu(), N3.cpu(), N4)):\n",
    "    print(fmt.format(i, 100*abs(n1-n0)/n0, 100*abs(n2-n0)/n0, 100*abs(n3-n0)/n0, 100*abs(n4-n0)/n0))\n",
    "    \n",
    "# Note, for noise sigma estimation, approximate expression is used\n",
    "# In this example, noise estimation accuracy is better than 10%\n",
    "# Using larger number of columns or averaging over samples do not affect estimation accuracy significantly (but better on average in both cases)"
   ]
  },
  {
   "cell_type": "code",
   "execution_count": 9,
   "id": "5d553873-8c8c-424d-b7fe-d39a8fdcc956",
   "metadata": {},
   "outputs": [
    {
     "name": "stdout",
     "output_type": "stream",
     "text": [
      "tensor(7.268305186407e-06, dtype=torch.float64)\n",
      "tensor(7.061473397552e-06, dtype=torch.float64)\n"
     ]
    }
   ],
   "source": [
    "# Estimate noise using randomized SVD\n",
    "\n",
    "l = Filter(d)\n",
    "r1, s1 = l.estimate_noise(limit=32)\n",
    "r2, s2 = l.estimate_noise(limit=512, randomized=True)\n",
    "\n",
    "print((s1 - s).abs().max())\n",
    "print((s2 - s).abs().max())"
   ]
  },
  {
   "cell_type": "markdown",
   "id": "abc46d5e",
   "metadata": {
    "heading_collapsed": true,
    "tags": []
   },
   "source": [
    "# Example-05: RPCA"
   ]
  },
  {
   "cell_type": "code",
   "execution_count": 10,
   "id": "2cdb6605",
   "metadata": {
    "hidden": true
   },
   "outputs": [
    {
     "name": "stdout",
     "output_type": "stream",
     "text": [
      "(100, 120)\n",
      "[[10. 10. 10. ... 30. 30. 30.]\n",
      " [10. 10. 10. ... 30. 30. 30.]\n",
      " [10. 10. 10. ... 30. 30. 30.]\n",
      " ...\n",
      " [10. 10. 10. ... 30. 30. 30.]\n",
      " [10. 10. 10. ... 30. 30. 30.]\n",
      " [10. 10. 10. ... 30. 30. 30.]]\n",
      "tensor(1)\n",
      "(100, 120)\n",
      "[[10. 10. 10. ... 30.  0. 30.]\n",
      " [10. 10. 10. ...  0. 30.  0.]\n",
      " [10. 10. 10. ... 30. 30. 30.]\n",
      " ...\n",
      " [10. 10. 10. ... 30. 30. 30.]\n",
      " [10. 10. 10. ... 30. 30. 30.]\n",
      " [10. 10. 10. ... 30.  0. 30.]]\n",
      "tensor(100)\n",
      "308\n",
      "tensor(1.238826595264e-09, dtype=torch.float64)\n",
      "tensor(1)\n",
      "[[10. 10. 10. ... 30. 30. 30.]\n",
      " [10. 10. 10. ... 30. 30. 30.]\n",
      " [10. 10. 10. ... 30. 30. 30.]\n",
      " ...\n",
      " [10. 10. 10. ... 30. 30. 30.]\n",
      " [10. 10. 10. ... 30. 30. 30.]\n",
      " [10. 10. 10. ... 30. 30. 30.]]\n",
      "1.4841816664556973e-10\n"
     ]
    }
   ],
   "source": [
    "# https://arxiv.org/abs/0912.3599\n",
    "# RPCA can be performed with rpca classmethod\n",
    "# Single matrix should be passed on input (this can be a full TbT matrix or a Hankel matrix of a signal)\n",
    "\n",
    "# Separate 'grained' noise using RPCA\n",
    "\n",
    "# Generate original low rank matrix\n",
    "\n",
    "n = 100\n",
    "k = 3\n",
    "m = 40\n",
    "X = numpy.hstack([numpy.ones((n, m)) * (i + 1) * 10 for i in range(k)])\n",
    "print(X.shape)\n",
    "print(X)\n",
    "print(torch.linalg.matrix_rank(torch.tensor(X)))\n",
    "\n",
    "# Generate matrix with missing values (change fraction of missing values to observe convergence)\n",
    "\n",
    "Y = numpy.copy(X)\n",
    "Y[numpy.random.rand(*Y.shape) < 0.1] = 0.0\n",
    "print(Y.shape)\n",
    "print(Y)\n",
    "print(torch.linalg.matrix_rank(torch.tensor(Y)))\n",
    "\n",
    "# Perform RPCA (change the number of iterations and/or the tolerance factor to observe convergence)\n",
    "\n",
    "count, error, L, S = Filter.rpca(torch.tensor(Y, dtype=dtype, device=device), limit=8912, factor=1.0E-12, cpu=True)\n",
    "\n",
    "# Number of iterations and final error\n",
    "\n",
    "print(count)\n",
    "print(error)\n",
    "\n",
    "# 'Cleaned' matrix rank\n",
    "\n",
    "print(torch.linalg.matrix_rank(L))\n",
    "print(L.cpu().numpy())\n",
    "\n",
    "# Maximum element-wise error\n",
    "\n",
    "print(numpy.max(numpy.abs((X - L.cpu().numpy()))))"
   ]
  },
  {
   "cell_type": "code",
   "execution_count": 11,
   "id": "80ecb475-305f-4f49-852b-47ed22efec00",
   "metadata": {},
   "outputs": [
    {
     "data": {
      "image/png": "[encoded data removed]",
      "text/plain": [
       "<Figure size 1728x1728 with 3 Axes>"
      ]
     },
     "metadata": {
      "needs_background": "light"
     },
     "output_type": "display_data"
    }
   ],
   "source": [
    "# Plot matrices\n",
    "\n",
    "plt.figure(figsize=(3*8, 3*8))\n",
    "ax = plt.subplot(331)\n",
    "ax.imshow(X)\n",
    "ax = plt.subplot(332)\n",
    "ax.imshow(Y)\n",
    "ax = plt.subplot(333)\n",
    "ax.imshow(L)\n",
    "plt.show()"
   ]
  },
  {
   "cell_type": "markdown",
   "id": "e70727d5",
   "metadata": {
    "heading_collapsed": true,
    "tags": []
   },
   "source": [
    "# Example-06: TbT filtering (SVD & Hankel & RPCA)"
   ]
  },
  {
   "cell_type": "code",
   "execution_count": 12,
   "id": "4dd6eaa6",
   "metadata": {
    "hidden": true
   },
   "outputs": [],
   "source": [
    "# In this example frequency uncertanty is compared for different TbT filtering"
   ]
  },
  {
   "cell_type": "code",
   "execution_count": 13,
   "id": "e73bfbed-e357-4ed6-977b-bbdc03ef8e27",
   "metadata": {},
   "outputs": [
    {
     "name": "stdout",
     "output_type": "stream",
     "text": [
      "0.463116901262685\n"
     ]
    }
   ],
   "source": [
    "# Compute reference frequency for test TbT data\n",
    "\n",
    "# Load TbT\n",
    "\n",
    "length = 4096\n",
    "\n",
    "w = Window(length, 'cosine_window', 2.0, dtype=dtype, device=device)\n",
    "d = Data.from_file(54, w, '../virtual_tbt.npy', dtype=dtype, device=device)\n",
    "\n",
    "# Compute reference frequency\n",
    "\n",
    "d.window_remove_mean()\n",
    "d.window_apply()\n",
    "f = Frequency(d)\n",
    "f('parabola')\n",
    "d.reset()\n",
    "ref = f.frequency.mean().cpu().item()\n",
    "print(ref)"
   ]
  },
  {
   "cell_type": "code",
   "execution_count": 14,
   "id": "9057b783-3123-4397-8d5a-3137b5d50013",
   "metadata": {},
   "outputs": [],
   "source": [
    "# Set parameters\n",
    "\n",
    "length = 1024\n",
    "\n",
    "# Set noise std for each BPM\n",
    "# Note, each BPM has a different value of noise sigma\n",
    "\n",
    "s = 1.0E-4*torch.rand(54, dtype=dtype, device=device)\n",
    "\n",
    "# Test TbT data with random noise\n",
    "\n",
    "w = Window(length, 'cosine_window', 1.0, dtype=dtype, device=device)\n",
    "d = Data.from_file(54, w, '../virtual_tbt.npy', dtype=dtype, device=device)\n",
    "d.add_noise(s)\n",
    "d.data.copy_(d.work)\n",
    "\n",
    "# Set filter instance\n",
    "\n",
    "l = Filter(d)\n",
    "\n",
    "# Set frequency instance\n",
    "\n",
    "f = Frequency(d)"
   ]
  },
  {
   "cell_type": "code",
   "execution_count": 15,
   "id": "c1d625c0",
   "metadata": {
    "hidden": true
   },
   "outputs": [
    {
     "name": "stdout",
     "output_type": "stream",
     "text": [
      "13.818346178258619\n"
     ]
    }
   ],
   "source": [
    "# Estimate noise (optimal SVD truncation)\n",
    "\n",
    "_, n = l.estimate_noise(limit=64, cpu=True)\n",
    "\n",
    "# Maximum noise estimation error\n",
    "\n",
    "print(torch.max(100*torch.abs(n - s)/s).cpu().item())"
   ]
  },
  {
   "cell_type": "code",
   "execution_count": 16,
   "id": "c083d02f",
   "metadata": {
    "hidden": true
   },
   "outputs": [
    {
     "name": "stdout",
     "output_type": "stream",
     "text": [
      "error: 4.93095612e-08   spread: 7.05502703e-07   case: raw data without window\n",
      "error: 1.12064477e-07   spread: 7.9093192e-07    case: raw data with window\n"
     ]
    }
   ],
   "source": [
    "# Compute frequencies without filtering\n",
    "\n",
    "# Note, since error is random, i.e. deviation of mean from the reference\n",
    "# The result should be judged mostly by frequency spread (assuming bias can be neglected)\n",
    "# Depending on the noise level, windowing might (and in general does) increase spread\n",
    "\n",
    "f = Frequency(d)\n",
    "\n",
    "# Without window\n",
    "\n",
    "f('parabola')\n",
    "m, s = f.frequency.mean().cpu().item(), f.frequency.std().cpu().item()\n",
    "print(f'error: {abs(ref - m):<16.9} spread: {s:<16.9} case: raw data without window')\n",
    "\n",
    "# With window\n",
    "# Note, in general, window will increase frequency spread, but reduce bias\n",
    "\n",
    "d.window_remove_mean()\n",
    "d.window_apply()\n",
    "f('parabola')\n",
    "d.reset()\n",
    "m, s = f.frequency.mean().cpu().item(), f.frequency.std().cpu().item()\n",
    "print(f'error: {abs(ref - m):<16.9} spread: {s:<16.9} case: raw data with window')"
   ]
  },
  {
   "cell_type": "code",
   "execution_count": 17,
   "id": "26563735-c241-4d85-b1ef-703b748c3f28",
   "metadata": {},
   "outputs": [
    {
     "name": "stdout",
     "output_type": "stream",
     "text": [
      "error: 2.242266e-08     spread: 4.68073863e-07   case: SVD filtering without window\n",
      "error: 2.01748556e-08   spread: 3.94548899e-07   case: SVD filtering with window\n"
     ]
    }
   ],
   "source": [
    "# Perform SVD filtering (full TbT)\n",
    "# Note, filter modifies work container\n",
    "\n",
    "d.reset()\n",
    "l.filter_svd(rank=8, cpu=True)\n",
    "\n",
    "# Compute frequencies with SVD filtering\n",
    "\n",
    "# Without window\n",
    "# Note, frequency spread is generaly reduced by SVD filtering\n",
    "\n",
    "f('parabola')\n",
    "m, s = f.frequency.mean().cpu().item(), f.frequency.std().cpu().item()\n",
    "print(f'error: {abs(ref - m):<16.9} spread: {s:<16.9} case: SVD filtering without window')\n",
    "\n",
    "# With window\n",
    "# Note, filtering allows application of window without harmful effect on frequency spread\n",
    "# In some cases frequency spread is further reduced\n",
    "\n",
    "d.window_remove_mean()\n",
    "d.window_apply()\n",
    "f('parabola')\n",
    "m, s = f.frequency.mean().cpu().item(), f.frequency.std().cpu().item()\n",
    "print(f'error: {abs(ref - m):<16.9} spread: {s:<16.9} case: SVD filtering with window')"
   ]
  },
  {
   "cell_type": "code",
   "execution_count": 18,
   "id": "d2ce85fd-d525-4d9f-a224-667fd5cfa9ca",
   "metadata": {},
   "outputs": [
    {
     "name": "stdout",
     "output_type": "stream",
     "text": [
      "error: 1.89535647e-07   spread: 9.99683588e-07   case: Hankel filtering without window\n",
      "error: 1.57219885e-07   spread: 9.78833005e-07   case: Hankel filtering with window\n"
     ]
    }
   ],
   "source": [
    "# Perform Hankel filtering\n",
    "# Note, when applied to raw TbT, Hankel filtering performs worse than SVD\n",
    "\n",
    "d.reset()\n",
    "l.filter_hankel(rank=8, cpu=True, random=True, buffer=8, count=8)\n",
    "\n",
    "# Compute frequencies with Hankel filtering\n",
    "\n",
    "# Without window\n",
    "f('parabola')\n",
    "m, s = f.frequency.mean().cpu().item(), f.frequency.std().cpu().item()\n",
    "print(f'error: {abs(ref - m):<16.9} spread: {s:<16.9} case: Hankel filtering without window')\n",
    "\n",
    "# With window\n",
    "d.window_remove_mean()\n",
    "d.window_apply()\n",
    "f('parabola')\n",
    "m, s = f.frequency.mean().cpu().item(), f.frequency.std().cpu().item()\n",
    "print(f'error: {abs(ref - m):<16.9} spread: {s:<16.9} case: Hankel filtering with window')"
   ]
  },
  {
   "cell_type": "code",
   "execution_count": 18,
   "id": "9605e236-6a36-4a64-a474-bc19b1c4f643",
   "metadata": {},
   "outputs": [
    {
     "name": "stdout",
     "output_type": "stream",
     "text": [
      "error: 1.03480583e-08   spread: 5.07915499e-07   case: SVD & Hankel filtering without window\n",
      "error: 5.26200722e-09   spread: 3.5599456e-07    case: SVD & Hankel filtering with window\n"
     ]
    }
   ],
   "source": [
    "# Perform SVD & Hankel filtering\n",
    "# If Hankel filtering is applied after SVD, the frequency spread is further slightly reduced on average\n",
    "\n",
    "d.reset()\n",
    "l.filter_svd(rank=8, cpu=True)\n",
    "l.filter_hankel(rank=8, cpu=True, random=True, buffer=8, count=8)\n",
    "\n",
    "# Compute frequencies with Hankel filtering\n",
    "\n",
    "# Without window\n",
    "\n",
    "f('parabola')\n",
    "m, s = f.frequency.mean().cpu().item(), f.frequency.std().cpu().item()\n",
    "print(f'error: {abs(ref - m):<16.9} spread: {s:<16.9} case: SVD & Hankel filtering without window')\n",
    "\n",
    "# With window\n",
    "\n",
    "d.window_remove_mean()\n",
    "d.window_apply()\n",
    "f('parabola')\n",
    "m, s = f.frequency.mean().cpu().item(), f.frequency.std().cpu().item()\n",
    "print(f'error: {abs(ref - m):<16.9} spread: {s:<16.9} case: SVD & Hankel filtering with window')"
   ]
  },
  {
   "cell_type": "code",
   "execution_count": 19,
   "id": "663093fb-8f86-4b5d-9d7f-7468effbb031",
   "metadata": {},
   "outputs": [
    {
     "name": "stdout",
     "output_type": "stream",
     "text": [
      "error: 5.36695388e-08   spread: 4.01911635e-07   case: RPCA filtering without window\n",
      "error: 4.54708002e-08   spread: 4.17775617e-07   case: RPCA filtering with window\n"
     ]
    }
   ],
   "source": [
    "# Perform RPCA filtering\n",
    "# Note, RPCA is not perfect for normal noise, large number of iterations is required in this case\n",
    "\n",
    "d.reset()\n",
    "l.filter_rpca(limit=2**10, factor=1.0E-15, cpu=True)\n",
    "\n",
    "# Without window\n",
    "\n",
    "f('parabola')\n",
    "m, s = f.frequency.mean().cpu().item(), f.frequency.std().cpu().item()\n",
    "print(f'error: {abs(ref - m):<16.9} spread: {s:<16.9} case: RPCA filtering without window')\n",
    "\n",
    "# With window\n",
    "\n",
    "d.window_remove_mean()\n",
    "d.window_apply()\n",
    "f('parabola')\n",
    "m, s = f.frequency.mean().cpu().item(), f.frequency.std().cpu().item()\n",
    "print(f'error: {abs(ref - m):<16.9} spread: {s:<16.9} case: RPCA filtering with window')"
   ]
  },
  {
   "cell_type": "markdown",
   "id": "d51828c3",
   "metadata": {
    "tags": []
   },
   "source": [
    "# Example-07: Effect of filtering on parameter uncertainties"
   ]
  },
  {
   "cell_type": "code",
   "execution_count": 20,
   "id": "f8430c11-4979-4e37-8444-452f9fcf346d",
   "metadata": {},
   "outputs": [
    {
     "name": "stdout",
     "output_type": "stream",
     "text": [
      "frequency: error=1.54136607117e-07, spread=3.53086566924e-06\n",
      "amplitude: error=5.80416634821e-05, spread=0.00547197160276\n"
     ]
    }
   ],
   "source": [
    "# Estimate frequency and amplitude uncertainty from multiple realizations\n",
    "\n",
    "# Set parameters\n",
    "\n",
    "length = 1024\n",
    "\n",
    "# Set signal\n",
    "\n",
    "t = torch.linspace(1, length, length, dtype=dtype, device=device)\n",
    "s = 0.10\n",
    "x = 1.0*torch.cos(2.0*numpy.pi*0.12345*t) + 0.1*torch.cos(2.0*numpy.pi*2.0*0.12345*t)\n",
    "\n",
    "# Set TbT (signal copies with different noise realizations)\n",
    "\n",
    "w = Window.from_cosine(length, 1.0, dtype=dtype, device=device)\n",
    "d = torch.stack([x + s*torch.randn(length, dtype=dtype, device=device) for _ in range(256)])\n",
    "d = Data.from_data(w, d)\n",
    "\n",
    "# Estimate frequency\n",
    "\n",
    "d.window_remove_mean()\n",
    "d.window_apply()\n",
    "f = Frequency(d)\n",
    "f('parabola')\n",
    "m_f, s_f = f.frequency.mean().cpu().item(), f.frequency.std().cpu().item()\n",
    "print(f'frequency: error={abs(0.12345 - m_f):<16.12}, spread={s_f:<16.12}')\n",
    "d.reset()\n",
    "\n",
    "# Estimate amplitude\n",
    "\n",
    "c = 2.0/w.total*torch.sum(torch.cos(2.0*numpy.pi*m_f*t)*d.work*w.window, 1)\n",
    "s = 2.0/w.total*torch.sum(torch.sin(2.0*numpy.pi*m_f*t)*d.work*w.window, 1)\n",
    "a = torch.sqrt(c*c + s*s)\n",
    "m_a, s_a = a.mean().cpu().item(), a.std().cpu().item()\n",
    "print(f'amplitude: error={abs(1.0 - m_a):<16.12}, spread={s_a:<16.12}')\n",
    "d.reset()"
   ]
  },
  {
   "cell_type": "code",
   "execution_count": 21,
   "id": "b7e9da5c-c01e-4603-8dd5-3218c7a4ea2f",
   "metadata": {},
   "outputs": [
    {
     "name": "stdout",
     "output_type": "stream",
     "text": [
      "min: 4\n",
      "max: 4\n",
      "std: 0.10300288775450908\n"
     ]
    }
   ],
   "source": [
    "# Estimate rank/noise\n",
    "\n",
    "l = Filter(d)\n",
    "rank, noise = l.estimate_noise(limit=16, cpu=True)\n",
    "print(f'min: {rank.min().cpu().item()}')\n",
    "print(f'max: {rank.max().cpu().item()}')\n",
    "print(f'std: {noise.mean().cpu().item()}')"
   ]
  },
  {
   "cell_type": "code",
   "execution_count": 22,
   "id": "b43bddf1-5c79-4d13-bcb2-2283da6a67e6",
   "metadata": {},
   "outputs": [
    {
     "name": "stdout",
     "output_type": "stream",
     "text": [
      "frequency: error=1.53697537239e-07, spread=9.38634550619e-07\n",
      "amplitude: error=7.21915602333e-05, spread=0.00442804051112\n"
     ]
    }
   ],
   "source": [
    "# SVD\n",
    "\n",
    "# Estimate frequency\n",
    "\n",
    "l.filter_svd(rank=8, random=False, cpu=True)\n",
    "d.window_remove_mean()\n",
    "d.window_apply()\n",
    "f = Frequency(d)\n",
    "f('parabola')\n",
    "m_f, s_f = f.frequency.mean().cpu().item(), f.frequency.std().cpu().item()\n",
    "print(f'frequency: error={abs(0.12345 - m_f):<16.12}, spread={s_f:<16.12}')\n",
    "d.reset()\n",
    "\n",
    "# Estimate amplitude\n",
    "\n",
    "l.filter_svd(rank=8, random=False, cpu=True)\n",
    "c = 2.0/w.total*torch.sum(torch.cos(2.0*numpy.pi*m_f*t)*d.work*w.window, 1)\n",
    "s = 2.0/w.total*torch.sum(torch.sin(2.0*numpy.pi*m_f*t)*d.work*w.window, 1)\n",
    "a = torch.sqrt(c*c + s*s)\n",
    "m_a, s_a = a.mean().cpu().item(), a.std().cpu().item()\n",
    "print(f'amplitude: error={abs(1.0 - m_a):<16.12}, spread={s_a:<16.12}')\n",
    "d.reset()"
   ]
  },
  {
   "cell_type": "code",
   "execution_count": 23,
   "id": "964c0d18-4b75-441f-b830-10fbef0b2fca",
   "metadata": {},
   "outputs": [
    {
     "name": "stdout",
     "output_type": "stream",
     "text": [
      "frequency: error=1.63328879504e-07, spread=8.00592388413e-07\n",
      "amplitude: error=6.45483348608e-05, spread=0.00440129904429\n"
     ]
    }
   ],
   "source": [
    "# SVD & Hankel\n",
    "\n",
    "# Estimate frequency\n",
    "\n",
    "l.filter_svd(rank=8, random=False, cpu=True)\n",
    "l.filter_hankel(rank=8, random=True, buffer=8, count=8, cpu=True)\n",
    "d.window_remove_mean()\n",
    "d.window_apply()\n",
    "f = Frequency(d)\n",
    "f('parabola')\n",
    "m_f, s_f = f.frequency.mean().cpu().item(), f.frequency.std().cpu().item()\n",
    "print(f'frequency: error={abs(0.12345 - m_f):<16.12}, spread={s_f:<16.12}')\n",
    "d.reset()\n",
    "\n",
    "# Estimate amplitude\n",
    "\n",
    "l.filter_svd(rank=8, random=False, cpu=True)\n",
    "l.filter_hankel(rank=8, random=True, buffer=8, count=8, cpu=True)\n",
    "c = 2.0/w.total*torch.sum(torch.cos(2.0*numpy.pi*m_f*t)*d.work*w.window, 1)\n",
    "s = 2.0/w.total*torch.sum(torch.sin(2.0*numpy.pi*m_f*t)*d.work*w.window, 1)\n",
    "a = torch.sqrt(c*c + s*s)\n",
    "m_a, s_a = a.mean().cpu().item(), a.std().cpu().item()\n",
    "print(f'amplitude: error={abs(1.0 - m_a):<16.12}, spread={s_a:<16.12}')\n",
    "d.reset()"
   ]
  },
  {
   "cell_type": "code",
   "execution_count": 24,
   "id": "b847df00-6629-4572-8817-913860153871",
   "metadata": {},
   "outputs": [
    {
     "name": "stdout",
     "output_type": "stream",
     "text": [
      "frequency: error=3.61606076152e-07, spread=1.15170920551e-06\n",
      "amplitude: error=0.00793344264151, spread=0.00513825054851\n"
     ]
    }
   ],
   "source": [
    "# RPCA\n",
    "\n",
    "# Estimate frequency\n",
    "\n",
    "l.filter_rpca(limit=4096, factor=1.0E-12, cpu=True)\n",
    "d.window_remove_mean()\n",
    "d.window_apply()\n",
    "f = Frequency(d)\n",
    "f('parabola')\n",
    "m_f, s_f = f.frequency.mean().cpu().item(), f.frequency.std().cpu().item()\n",
    "print(f'frequency: error={abs(0.12345 - m_f):<16.12}, spread={s_f:<16.12}')\n",
    "d.reset()\n",
    "\n",
    "# Estimate amplitude\n",
    "\n",
    "l.filter_rpca(limit=4096, factor=1.E-12, cpu=True)\n",
    "c = 2.0/w.total*torch.sum(torch.cos(2.0*numpy.pi*m_f*t)*d.work*w.window, 1)\n",
    "s = 2.0/w.total*torch.sum(torch.sin(2.0*numpy.pi*m_f*t)*d.work*w.window, 1)\n",
    "a = torch.sqrt(c*c + s*s)\n",
    "m_a, s_a = a.mean().cpu().item(), a.std().cpu().item()\n",
    "print(f'amplitude: error={abs(1.0 - m_a):<16.12}, spread={s_a:<16.12}')\n",
    "d.reset()"
   ]
  },
  {
   "cell_type": "markdown",
   "id": "45947b13-4f0c-4786-9abd-72b46fd97872",
   "metadata": {
    "tags": []
   },
   "source": [
    "# Example-08: Mixed Hankel matrix"
   ]
  },
  {
   "cell_type": "code",
   "execution_count": 25,
   "id": "d42e945d-7ce3-4f57-ac68-0ef541de8caa",
   "metadata": {},
   "outputs": [
    {
     "data": {
      "image/png": "[encoded data removed]",
      "text/plain": [
       "<Figure size 1440x216 with 1 Axes>"
      ]
     },
     "metadata": {
      "needs_background": "light"
     },
     "output_type": "display_data"
    }
   ],
   "source": [
    "# Set parameters\n",
    "\n",
    "length = 256\n",
    "\n",
    "# Set noise std for each BPM\n",
    "\n",
    "s = 1.0E-4*(4.0*torch.rand(54, dtype=dtype, device=device) + 1.0)\n",
    "\n",
    "# Test TbT data with random noise\n",
    "\n",
    "w = Window(length, 'cosine_window', 1.0, dtype=dtype, device=device)\n",
    "d = Data.from_file(54, w, '../virtual_tbt.npy')\n",
    "d.add_noise(s)\n",
    "d.window_remove_mean()\n",
    "d.normalize()\n",
    "\n",
    "# Mixed Hankel matrix\n",
    "\n",
    "signal = d.make_signal(length, d.work)\n",
    "matrix = d.make_matrix(8192, 1, signal)\n",
    "\n",
    "# Compute singular values\n",
    "\n",
    "out = Filter.svd_list_randomized(rank=4*54, matrix=torch.stack([matrix]), buffer=8, count=8, cpu=True).flatten()\n",
    "plt.figure(figsize=(20, 3))\n",
    "plt.scatter(range(4*54), out.cpu(), c='red')\n",
    "plt.show()"
   ]
  },
  {
   "cell_type": "code",
   "execution_count": 26,
   "id": "83cd8264-0819-4ee5-b7ab-20ad0a6a9b65",
   "metadata": {},
   "outputs": [
    {
     "name": "stdout",
     "output_type": "stream",
     "text": [
      "108\n",
      "(tensor([102]), tensor([2.122580621638e-01], dtype=torch.float64))\n"
     ]
    }
   ],
   "source": [
    "# Optimal rank is expected to be close to 2*54\n",
    "\n",
    "print(54*2)\n",
    "print(Filter.svd_optimal(torch.stack([matrix])))"
   ]
  },
  {
   "cell_type": "markdown",
   "id": "3a2f22b4-342c-485e-b40a-503088103ae1",
   "metadata": {},
   "source": [
    "# Example-09: Hankel matrix singular values approximation"
   ]
  },
  {
   "cell_type": "code",
   "execution_count": 27,
   "id": "2cb458e2-6389-4974-b0a2-0c2439363103",
   "metadata": {},
   "outputs": [
    {
     "data": {
      "image/png": "[encoded data removed]",
      "text/plain": [
       "<Figure size 1440x216 with 1 Axes>"
      ]
     },
     "metadata": {
      "needs_background": "light"
     },
     "output_type": "display_data"
    }
   ],
   "source": [
    "# Set parameters\n",
    "\n",
    "length = 1024\n",
    "\n",
    "# Set noise std for each BPM\n",
    "\n",
    "s = 1.0E-4*(4.0*torch.rand(54, dtype=dtype, device=device) + 1.0)\n",
    "\n",
    "# Test TbT data with random noise\n",
    "\n",
    "w = Window(length, 'cosine_window', 1.0, dtype=dtype, device=device)\n",
    "d = Data.from_file(54, w, '../virtual_tbt.npy')\n",
    "d.add_noise(s)\n",
    "d.window_remove_mean()\n",
    "d.normalize()\n",
    "\n",
    "# Hankel matrix\n",
    "\n",
    "matrix, *_ = Filter.make_matrix(d.work)\n",
    "\n",
    "# Compute all singular values with full SVD\n",
    "\n",
    "s1 = Filter.svd_list(min(matrix.shape), torch.stack([matrix]))\n",
    "s1, *_ = s1/s1.max()\n",
    "\n",
    "# Compute first 128 singular values with randomized SVD\n",
    "\n",
    "s2 = Filter.svd_list_randomized(128, torch.stack([matrix]), buffer=16, count=16)\n",
    "s2, *_ = s2/s2.max()\n",
    "\n",
    "# Compute 128 singular values with full SVD using first 256 columns\n",
    "\n",
    "s3 = Filter.svd_list(128, torch.stack([matrix[:, :256]]))\n",
    "s3, *_ = s3/s3.max()\n",
    "\n",
    "# Compare singular values\n",
    "\n",
    "plt.figure(figsize=(20, 3))\n",
    "plt.scatter(range(len(s1)), s1.log10_().cpu(), color='black')\n",
    "plt.scatter(range(len(s2)), s2.log10_().cpu(), color='red')\n",
    "plt.scatter(range(len(s3)), s3.log10_().cpu(), color='blue')\n",
    "plt.show()"
   ]
  },
  {
   "cell_type": "markdown",
   "id": "847a3216-7d3d-4997-93c0-f34bb6feef3f",
   "metadata": {},
   "source": [
    "# Example-10: ICA filtering"
   ]
  },
  {
   "cell_type": "code",
   "execution_count": 28,
   "id": "6a651582-bf7b-4c7d-9ac2-a6d7911c096e",
   "metadata": {},
   "outputs": [
    {
     "name": "stdout",
     "output_type": "stream",
     "text": [
      "True\n"
     ]
    }
   ],
   "source": [
    "# Import\n",
    "\n",
    "import numpy\n",
    "import torch\n",
    "\n",
    "import sys\n",
    "sys.path.append('..')\n",
    "\n",
    "from harmonica.util import data_load\n",
    "from harmonica.window import Window\n",
    "from harmonica.data import Data\n",
    "from harmonica.frequency import Frequency\n",
    "from harmonica.filter import Filter\n",
    "\n",
    "import matplotlib.pyplot as plt\n",
    "\n",
    "torch.set_printoptions(precision=12, sci_mode=True)\n",
    "print(torch.cuda.is_available())"
   ]
  },
  {
   "cell_type": "code",
   "execution_count": 29,
   "id": "c5a8344d-1a4a-4b23-835d-8ef3a25fbe1e",
   "metadata": {},
   "outputs": [],
   "source": [
    "# Set data type and device\n",
    "\n",
    "dtype = torch.float64\n",
    "device = torch.device('cpu')"
   ]
  },
  {
   "cell_type": "code",
   "execution_count": 30,
   "id": "d702fdd2-aa4e-45e0-944a-283e68957224",
   "metadata": {},
   "outputs": [
    {
     "name": "stdout",
     "output_type": "stream",
     "text": [
      "0.463116901262685\n"
     ]
    }
   ],
   "source": [
    "# Compute reference frequency for test TbT data\n",
    "\n",
    "# Load TbT\n",
    "\n",
    "length = 4096\n",
    "\n",
    "w = Window(length, 'cosine_window', 2.0, dtype=dtype, device=device)\n",
    "d = Data.from_file(54, w, '../virtual_tbt.npy', dtype=dtype, device=device)\n",
    "\n",
    "# Compute reference frequency\n",
    "\n",
    "d.window_remove_mean()\n",
    "d.window_apply()\n",
    "f = Frequency(d)\n",
    "f('parabola')\n",
    "d.reset()\n",
    "ref = f.frequency.mean().cpu().item()\n",
    "print(ref)"
   ]
  },
  {
   "cell_type": "code",
   "execution_count": 31,
   "id": "756cf004-c44e-4d35-bb44-6785e8d5d733",
   "metadata": {},
   "outputs": [],
   "source": [
    "# Set parameters\n",
    "\n",
    "length = 1024\n",
    "\n",
    "# Set noise std for each BPM\n",
    "# Note, each BPM has a different value of noise sigma\n",
    "\n",
    "s = 1.0E-4*torch.rand(54, dtype=dtype, device=device)\n",
    "\n",
    "# Test TbT data with random noise\n",
    "\n",
    "w = Window(length, 'cosine_window', 1.0, dtype=dtype, device=device)\n",
    "d = Data.from_file(54, w, '../virtual_tbt.npy', dtype=dtype, device=device)\n",
    "d.add_noise(s)\n",
    "d.data.copy_(d.work)\n",
    "\n",
    "# Set filter instance\n",
    "\n",
    "l = Filter(d)\n",
    "\n",
    "# Set frequency instance\n",
    "\n",
    "f = Frequency(d)"
   ]
  },
  {
   "cell_type": "code",
   "execution_count": 32,
   "id": "137cbfad-6b74-434a-ba77-16d07fa6a1ec",
   "metadata": {
    "hidden": true
   },
   "outputs": [
    {
     "name": "stdout",
     "output_type": "stream",
     "text": [
      "9.272569498802326\n"
     ]
    }
   ],
   "source": [
    "# Estimate noise (optimal SVD truncation)\n",
    "\n",
    "_, n = l.estimate_noise(limit=64, cpu=True)\n",
    "\n",
    "# Maximum noise estimation error\n",
    "\n",
    "print(torch.max(100*torch.abs(n - s)/s).cpu().item())"
   ]
  },
  {
   "cell_type": "code",
   "execution_count": 33,
   "id": "b6840141-26a4-4ac3-a1e7-177bef4ec249",
   "metadata": {
    "hidden": true
   },
   "outputs": [
    {
     "name": "stdout",
     "output_type": "stream",
     "text": [
      "error: 4.24801966e-09   spread: 7.23109775e-07   case: raw data without window\n",
      "error: 1.15327583e-07   spread: 9.77992756e-07   case: raw data with window\n"
     ]
    }
   ],
   "source": [
    "# Compute frequencies without filtering\n",
    "\n",
    "# Note, since error is random, i.e. deviation of mean from the reference\n",
    "# The result should be judged mostly by frequency spread (assuming bias can be neglected)\n",
    "# Depending on the noise level, windowing might (and in general does) increase spread\n",
    "\n",
    "f = Frequency(d)\n",
    "\n",
    "# Without window\n",
    "\n",
    "f('parabola')\n",
    "m, s = f.frequency.mean().cpu().item(), f.frequency.std().cpu().item()\n",
    "print(f'error: {abs(ref - m):<16.9} spread: {s:<16.9} case: raw data without window')\n",
    "\n",
    "# With window\n",
    "# Note, in general, window will increase frequency spread, but reduce bias\n",
    "\n",
    "d.window_remove_mean()\n",
    "d.window_apply()\n",
    "f('parabola')\n",
    "d.reset()\n",
    "m, s = f.frequency.mean().cpu().item(), f.frequency.std().cpu().item()\n",
    "print(f'error: {abs(ref - m):<16.9} spread: {s:<16.9} case: raw data with window')"
   ]
  },
  {
   "cell_type": "code",
   "execution_count": 34,
   "id": "eb145c0f-25d5-4abd-9396-b753055f3c3d",
   "metadata": {},
   "outputs": [
    {
     "name": "stdout",
     "output_type": "stream",
     "text": [
      "error: 7.03301097e-08   spread: 3.86685844e-07  \n",
      "error: 3.27536986e-09   spread: 1.61680063e-07  \n"
     ]
    }
   ],
   "source": [
    "# Perform ICA filtering\n",
    "\n",
    "from sklearn.decomposition import FastICA\n",
    "\n",
    "\n",
    "ica = FastICA(n_components=4, max_iter=10000, tol=1.0E-6)\n",
    "fit = torch.tensor(ica.fit_transform(d.data.T.cpu().numpy()), dtype=dtype, device=device)\n",
    "mix = torch.tensor(ica.mixing_, dtype=dtype, device=device)\n",
    "tbt = Data.from_data(w, mix @ fit.T)\n",
    "\n",
    "f = Frequency(tbt)\n",
    "\n",
    "# Without window\n",
    "\n",
    "f('parabola')\n",
    "m, s = f.frequency.mean().cpu().item(), f.frequency.std().cpu().item()\n",
    "print(f'error: {abs(ref - m):<16.9} spread: {s:<16.9}')\n",
    "\n",
    "# With window\n",
    "# Note, in general, window will increase frequency spread, but reduce bias\n",
    "\n",
    "tbt.window_remove_mean()\n",
    "tbt.window_apply()\n",
    "f('parabola')\n",
    "tbt.reset()\n",
    "m, s = f.frequency.mean().cpu().item(), f.frequency.std().cpu().item()\n",
    "print(f'error: {abs(ref - m):<16.9} spread: {s:<16.9}')"
   ]
  },
  {
   "cell_type": "code",
   "execution_count": null,
   "id": "18796bce-70b7-4392-a1f3-df451a58e048",
   "metadata": {},
   "outputs": [],
   "source": []
  }
 ],
 "metadata": {
  "colab": {
   "collapsed_sections": [
    "myt0_gMIOq7b",
    "5d97819c"
   ],
   "name": "03_frequency.ipynb",
   "provenance": []
  },
  "kernelspec": {
   "display_name": "Python 3 (ipykernel)",
   "language": "python",
   "name": "python3"
  },
  "language_info": {
   "codemirror_mode": {
    "name": "ipython",
    "version": 3
   },
   "file_extension": ".py",
   "mimetype": "text/x-python",
   "name": "python",
   "nbconvert_exporter": "python",
   "pygments_lexer": "ipython3",
   "version": "3.9.7"
  },
  "latex_envs": {
   "LaTeX_envs_menu_present": true,
   "autoclose": false,
   "autocomplete": true,
   "bibliofile": "biblio.bib",
   "cite_by": "apalike",
   "current_citInitial": 1,
   "eqLabelWithNumbers": true,
   "eqNumInitial": 1,
   "hotkeys": {
    "equation": "Ctrl-E",
    "itemize": "Ctrl-I"
   },
   "labels_anchors": false,
   "latex_user_defs": false,
   "report_style_numbering": false,
   "user_envs_cfg": false
  }
 },
 "nbformat": 4,
 "nbformat_minor": 5
}
