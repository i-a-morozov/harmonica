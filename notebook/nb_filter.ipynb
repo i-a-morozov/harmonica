{
 "cells": [
  {
   "cell_type": "code",
   "execution_count": 1,
   "id": "38a3d71f",
   "metadata": {},
   "outputs": [
    {
     "name": "stdout",
     "output_type": "stream",
     "text": [
      "True\n"
     ]
    }
   ],
   "source": [
    "# Import\n",
    "\n",
    "import numpy\n",
    "import torch\n",
    "\n",
    "import sys\n",
    "sys.path.append('..')\n",
    "\n",
    "from harmonica.util import data_load\n",
    "from harmonica.window import Window\n",
    "from harmonica.data import Data\n",
    "from harmonica.frequency import Frequency\n",
    "from harmonica.filter import Filter\n",
    "\n",
    "import matplotlib.pyplot as plt\n",
    "\n",
    "torch.set_printoptions(precision=12, sci_mode=True)\n",
    "print(torch.cuda.is_available())"
   ]
  },
  {
   "cell_type": "markdown",
   "id": "28d9ba26",
   "metadata": {
    "heading_collapsed": true,
    "tags": []
   },
   "source": [
    "# Example-01: Filter initialization & Matrix representation"
   ]
  },
  {
   "cell_type": "code",
   "execution_count": 2,
   "id": "df273619",
   "metadata": {
    "hidden": true
   },
   "outputs": [
    {
     "name": "stdout",
     "output_type": "stream",
     "text": [
      "None\n",
      "1\n",
      "[[1 2 3 4 5 6 7 8]]\n",
      "[[[1 2 3 4]\n",
      "  [2 3 4 5]\n",
      "  [3 4 5 6]\n",
      "  [4 5 6 7]\n",
      "  [5 6 7 8]]]\n",
      "[[1 2 3 4 5 6 7 8]]\n"
     ]
    }
   ],
   "source": [
    "# Initialize Filter instance\n",
    "\n",
    "# Data instance should be passed as the first argument\n",
    "# Random seed is used only in randomized range estimation for approximate SVD computation\n",
    "\n",
    "# Filter class contains several static and class method, that can be used without passing Data instance\n",
    "\n",
    "f = Filter(None, random_seed=1)\n",
    "print(f.data)\n",
    "print(f.random_seed)\n",
    "\n",
    "# make_matrix and make_signal functions can be used for matrix representation of a signal (Hankel matrix)\n",
    "# Both functions act on a batch of signals and matrices, respectively\n",
    "\n",
    "# Define test signal\n",
    "signal = torch.linspace(1, 8, 8, dtype=torch.float64).unsqueeze(0)\n",
    "print(signal.cpu().to(torch.int).numpy())\n",
    "\n",
    "# Generate matrix representation\n",
    "matrix = Filter.make_matrix(signal)\n",
    "print(matrix.cpu().to(torch.int).numpy())\n",
    "\n",
    "# Generate signal representation (average over skew diagonals)\n",
    "print(Filter.make_signal(matrix).cpu().to(torch.int).numpy())"
   ]
  },
  {
   "cell_type": "markdown",
   "id": "d2570393",
   "metadata": {
    "heading_collapsed": true,
    "tags": []
   },
   "source": [
    "# Example-02: Singular values"
   ]
  },
  {
   "cell_type": "code",
   "execution_count": 3,
   "id": "5b137074",
   "metadata": {
    "hidden": true
   },
   "outputs": [
    {
     "name": "stdout",
     "output_type": "stream",
     "text": [
      "256.518221536       256.518221536       5.68434188608e-14   \n",
      "255.980457668       255.980457668       2.84217094304e-14   \n",
      "25.6585560702       25.6585560702       7.1054273576e-15    \n",
      "25.5899723888       25.5899723888       0.0                 \n",
      "0.256513879015      0.256513879015      1.05471187339e-15   \n",
      "0.255971936601      0.255971936601      6.66133814775e-16   \n"
     ]
    }
   ],
   "source": [
    "# svd_list and svd_list_randomized can be used to compute singular values\n",
    "# svd_list performs full SVD and svd_list_randimized performs randomized SVD\n",
    "# In both cases, requested number of largest singular values is returned\n",
    "\n",
    "# Generate test signal (real signal with three harmonics)\n",
    "dtype = torch.float64\n",
    "device = 'cpu'\n",
    "length = 1024\n",
    "time = torch.linspace(1, length, length, dtype=dtype, device=device)\n",
    "signal = 1.0*torch.sin(2*numpy.pi*0.12*time) + 0.1*torch.sin(2*numpy.pi*0.24*time) + 1.E-3*torch.sin(2*numpy.pi*0.31*time)\n",
    "signal.unsqueeze_(0)\n",
    "\n",
    "# Generate matrix representation\n",
    "matrix = Filter.make_matrix(signal)\n",
    "\n",
    "# Since, test signal contains three harmonics, it's matrix is expected to have six non-zero singular values\n",
    "torch.linalg.matrix_rank(matrix)\n",
    "\n",
    "# Compute singular values (full SVD)\n",
    "S1 = Filter.svd_list(rank=6, matrix=matrix, cpu=True)\n",
    "\n",
    "# svd_list used full SVD to compute singular values\n",
    "# number of returned singular values is set by rank parameter\n",
    "# input matrix should be a batch of matrices\n",
    "# cpu flag is used to compute SVD using CPU\n",
    "\n",
    "# Compute singular values (randomized SVD)\n",
    "S2 = Filter.svd_list_randomized(rank=6, matrix=matrix, buffer=8, count=8, random_seed=0, cpu=True)\n",
    "\n",
    "# svd_list_randomized used randomized SVD to compute singular values\n",
    "# randomized_range function is used to estimate matrix range with QR decomposition\n",
    "# buffer parameter sets the number of extra dimensions, randomized range column rank is rank + buffer\n",
    "# count parameter sets number of iterations\n",
    "# random_seed is used for initialization\n",
    "\n",
    "# Compare singular values\n",
    "fmt = 3 * '{:<20.12}'\n",
    "for s1, s2 in zip(S1.squeeze().cpu(), S2.squeeze().cpu()):\n",
    "    print(fmt.format(s1, s2, abs(s1 - s2)))"
   ]
  },
  {
   "cell_type": "markdown",
   "id": "15b63e0d",
   "metadata": {
    "heading_collapsed": true,
    "tags": []
   },
   "source": [
    "# Example-03: SVD truncation"
   ]
  },
  {
   "cell_type": "code",
   "execution_count": 4,
   "id": "97195ad4",
   "metadata": {
    "hidden": true
   },
   "outputs": [
    {
     "name": "stdout",
     "output_type": "stream",
     "text": [
      "tensor([4])\n",
      "tensor([4])\n",
      "256.336942086       256.336942086       0.0                 \n",
      "255.799898619       255.799898619       0.0                 \n",
      "25.7187767602       25.7187767602       1.42108547152e-14   \n",
      "25.6505882251       25.6505882251       7.1054273576e-15    \n",
      "3.2600635360453585e-13\n",
      "2.9571846301959526\n",
      "2.9571846301958833\n"
     ]
    },
    {
     "data": {
      "image/png": "[encoded data removed]",
      "text/plain": [
       "<Figure size 1080x216 with 1 Axes>"
      ]
     },
     "metadata": {
      "needs_background": "light"
     },
     "output_type": "display_data"
    },
    {
     "data": {
      "image/png": "[encoded data removed]",
      "text/plain": [
       "<Figure size 1080x216 with 1 Axes>"
      ]
     },
     "metadata": {
      "needs_background": "light"
     },
     "output_type": "display_data"
    }
   ],
   "source": [
    "# svd_truncation and svd_truncation_randomized can be used to perform SVD truncation\n",
    "# svd_truncation performs full SVD and svd_truncation_randomized performs randomized SVD\n",
    "# In both cases, only the requested number of largest singular values are used to generated truncated matrix\n",
    "# Truncated matrix is the best rank k approximation of the input\n",
    "# These function return list of singular values and truncated matrices\n",
    "\n",
    "# Generate test signal (real signal with two harmonics and random noise)\n",
    "dtype = torch.float64\n",
    "device = 'cpu'\n",
    "length = 1024\n",
    "time = torch.linspace(1, length, length, dtype=dtype, device=device)\n",
    "signal = 1.0*torch.sin(2*numpy.pi*0.12*time) + 0.1*torch.sin(2*numpy.pi*0.24*time)\n",
    "sigma = 1.0E-2\n",
    "signal.add_(sigma*torch.randn(length, dtype=dtype, device=device))\n",
    "signal.unsqueeze_(0)\n",
    "\n",
    "# Generate matrix representation\n",
    "matrix = Filter.make_matrix(signal)\n",
    "\n",
    "# Since noise is added, matrix is expected to have full rank\n",
    "torch.linalg.matrix_rank(matrix)\n",
    "\n",
    "# Perform SVD truncation (full SVD)\n",
    "S1, M1 = Filter.svd_truncation(rank=4, matrix=matrix, cpu=True)\n",
    "print(torch.linalg.matrix_rank(M1))\n",
    "\n",
    "# Perform SVD truncation (randomized SVD)\n",
    "S2, M2 = Filter.svd_truncation_randomized(rank=4, matrix=matrix, buffer=8, count=8, random_seed=0, cpu=True)\n",
    "print(torch.linalg.matrix_rank(M2))\n",
    "\n",
    "# Compare singular values\n",
    "fmt = 3 * '{:<20.12}'\n",
    "for s1, s2 in zip(S1.squeeze().cpu(), S2.squeeze().cpu()):\n",
    "    print(fmt.format(s1, s2, abs(s1 - s2)))\n",
    "    \n",
    "# Compare truncated matrices\n",
    "print(torch.linalg.norm(M1-M2).cpu().numpy())\n",
    "\n",
    "# Estimate noise\n",
    "print(100*abs(sigma-torch.std(matrix - M1).cpu().numpy())/sigma)\n",
    "print(100*abs(sigma-torch.std(matrix - M2).cpu().numpy())/sigma)\n",
    "\n",
    "# Convert to signal representation and DFT compare spectra\n",
    "s1 = Filter.make_signal(M1).squeeze()\n",
    "s2 = Filter.make_signal(M2).squeeze()\n",
    "grid = torch.fft.rfftfreq(length, dtype=dtype)\n",
    "plt.figure(figsize=(15, 3))\n",
    "plt.scatter(grid, torch.log10(torch.abs(torch.fft.rfft(signal.squeeze()))).cpu(), c='black')\n",
    "plt.scatter(grid, torch.log10(torch.abs(torch.fft.rfft(s1))).cpu(), c='red')\n",
    "plt.show()\n",
    "plt.figure(figsize=(15, 3))\n",
    "plt.scatter(grid, torch.log10(torch.abs(torch.fft.rfft(signal.squeeze()))).cpu(), c='black')\n",
    "plt.scatter(grid, torch.log10(torch.abs(torch.fft.rfft(s2))).cpu(), c='blue')\n",
    "plt.show()\n",
    "\n",
    "# Filtering potentialy allows to apply window function with less noise amplification\n",
    "# Note, signals are assumed to have zero mean\n",
    "# Remove mean before processing or increase number of requested singular values by one"
   ]
  },
  {
   "cell_type": "markdown",
   "id": "dd7f7d24",
   "metadata": {
    "tags": []
   },
   "source": [
    "# Example-04: Optimal SVD truncation, rank and noise estimation"
   ]
  },
  {
   "cell_type": "code",
   "execution_count": 5,
   "id": "c52356cb-554a-4586-9deb-82e1bc54ac33",
   "metadata": {},
   "outputs": [
    {
     "name": "stdout",
     "output_type": "stream",
     "text": [
      "Data(54, Window(1024, 'cosine_window', 1.0))\n"
     ]
    }
   ],
   "source": [
    "# estimate_noise function can be used for truncation rank and noise value estimation\n",
    "# This function can be used when number of components in signal is not known\n",
    "\n",
    "# Load test TbT data and add random noise\n",
    "dtype = torch.float64\n",
    "device = 'cpu'\n",
    "length = 1024\n",
    "\n",
    "w = Window(length, 'cosine_window', 1.0, dtype=dtype, device=device)\n",
    "d = Data.from_file(54, w, '../virtual_tbt.npy')\n",
    "s = 1.E-4*torch.rand(54, dtype=dtype, device=device)\n",
    "d.add_noise(s)\n",
    "print(d)\n",
    "\n",
    "# Filter instance\n",
    "l = Filter(d)\n",
    "\n",
    "# For estimation, only several first columns can ne used (64 by default)\n",
    "R1, N1 = l.estimate_noise(limit=16, cpu=True)\n",
    "R2, N2 = l.estimate_noise(limit=64, cpu=True)\n",
    "R3, N3 = l.estimate_noise(limit=256, cpu=True)\n",
    "\n",
    "# Estimate noise (average over samples)\n",
    "# Generate several samples of length 256 from each signal using start shift 8\n",
    "w = Window(256)\n",
    "N4 = []\n",
    "for i in range(54):\n",
    "    l = Filter(Data.from_data(w, d.make_matrix(256, 8, d.work[i])))\n",
    "    _, noise = l.estimate_noise(limit=64)\n",
    "    N4.append(noise.mean().item())"
   ]
  },
  {
   "cell_type": "code",
   "execution_count": 6,
   "id": "a0406516",
   "metadata": {},
   "outputs": [
    {
     "name": "stdout",
     "output_type": "stream",
     "text": [
      "      16    64    256   \n",
      "0     2     2     2     \n",
      "1     2     2     2     \n",
      "2     2     2     2     \n",
      "3     2     2     6     \n",
      "4     2     2     4     \n",
      "5     2     2     4     \n",
      "6     2     2     2     \n",
      "7     2     2     2     \n",
      "8     2     2     4     \n",
      "9     2     2     2     \n",
      "10    2     2     2     \n",
      "11    2     2     3     \n",
      "12    2     2     2     \n",
      "13    2     2     2     \n",
      "14    2     2     2     \n",
      "15    2     2     4     \n",
      "16    2     2     2     \n",
      "17    2     2     2     \n",
      "18    2     2     2     \n",
      "19    2     2     4     \n",
      "20    2     2     2     \n",
      "21    2     2     2     \n",
      "22    2     2     6     \n",
      "23    2     2     2     \n",
      "24    2     2     4     \n",
      "25    2     2     2     \n",
      "26    2     2     2     \n",
      "27    2     2     2     \n",
      "28    2     2     2     \n",
      "29    2     2     2     \n",
      "30    2     2     2     \n",
      "31    2     2     2     \n",
      "32    2     2     2     \n",
      "33    2     2     2     \n",
      "34    2     2     2     \n",
      "35    2     2     2     \n",
      "36    2     2     2     \n",
      "37    2     2     2     \n",
      "38    2     2     4     \n",
      "39    2     2     2     \n",
      "40    2     2     2     \n",
      "41    2     2     2     \n",
      "42    2     2     2     \n",
      "43    2     2     4     \n",
      "44    2     2     6     \n",
      "45    2     2     2     \n",
      "46    2     2     2     \n",
      "47    2     2     4     \n",
      "48    2     2     2     \n",
      "49    2     2     2     \n",
      "50    2     2     2     \n",
      "51    2     2     2     \n",
      "52    2     2     2     \n",
      "53    2     2     4     \n"
     ]
    }
   ],
   "source": [
    "# Compare estimated ranks (note, expected rank is two)\n",
    "fmt = 4 * '{:<6}'\n",
    "print(fmt.format(\"\", 16, 64, 256))\n",
    "for i, (r1, r2, r3) in enumerate(zip(R1.cpu(), R2.cpu(), R3.cpu())):\n",
    "    print(fmt.format(i, r1, r2, r3))\n",
    "    \n",
    "# Note, depending on particular noise parameters, results might be different\n",
    "# In general, rank tends to be over estimated if large number of columns is used"
   ]
  },
  {
   "cell_type": "code",
   "execution_count": 7,
   "id": "692b3144",
   "metadata": {},
   "outputs": [
    {
     "name": "stdout",
     "output_type": "stream",
     "text": [
      "                16              64              256             ave             \n",
      "0               2.2855253       3.6245532       4.2608147       1.9309249       \n",
      "1               1.8485949       2.9536449       3.4632993       2.137708        \n",
      "2               2.2982493       2.3538445       0.29417308      1.89499         \n",
      "3               2.4676057       1.4149607       4.7586912       1.1928026       \n",
      "4               0.4002676       4.2732821       0.65064012      4.135947        \n",
      "5               3.6178193       1.825344        1.8203756       1.4948908       \n",
      "6               7.6377483       10.723508       6.5890191       4.845072        \n",
      "7               2.8365452       0.88962517      0.50703074      0.25533961      \n",
      "8               0.0091200382    0.81172939      3.2280871       1.8339166       \n",
      "9               4.2569131       2.2824347       2.7831251       2.875992        \n",
      "10              3.2497727       4.4815609       4.3221921       0.57481121      \n",
      "11              4.1817662       7.6071964       5.8127385       7.4692087       \n",
      "12              5.2853678       3.6375488       3.1773083       3.1155717       \n",
      "13              7.6291035       7.5455613       6.5479325       1.3710112       \n",
      "14              1.5166739       1.901366        2.0864211       1.0111077       \n",
      "15              0.43949321      1.0735763       0.84008606      2.5241968       \n",
      "16              3.239487        0.38632404      5.5653484       5.9564306       \n",
      "17              1.1136691       1.3798602       3.2671048       5.4171253       \n",
      "18              1.0381603       2.1048854       0.57708174      2.1099644       \n",
      "19              0.98384101      2.0068742       0.99787765      0.72229048      \n",
      "20              0.38559186      2.2945818       0.30644027      2.0356252       \n",
      "21              0.98349879      2.7142421       1.3722899       1.909511        \n",
      "22              0.11982654      0.033181727     3.0557582       1.9222778       \n",
      "23              1.4760018       0.37080281      0.81637876      1.6997494       \n",
      "24              3.1752857       0.38697489      3.2132218       0.40550165      \n",
      "25              7.2650199       4.7098329       2.3585127       1.7089561       \n",
      "26              6.1426852       2.8632593       3.1988857       3.9970483       \n",
      "27              4.8586141       3.6092804       2.0743271       2.9762728       \n",
      "28              3.5708978       0.32197622      2.1098508       0.80091528      \n",
      "29              0.7932718       0.38360048      0.058632765     1.0211778       \n",
      "30              1.6798585       1.9077523       0.49552852      0.60189725      \n",
      "31              2.7331663       5.5370639       2.6390374       4.8017427       \n",
      "32              0.56290065      1.4709284       6.007342        6.0212531       \n",
      "33              6.5499398       1.2500748       2.3615204       1.4362167       \n",
      "34              4.1257436       4.5237675       8.5194976       2.8168678       \n",
      "35              1.074987        0.34393176      2.866751        2.8367389       \n",
      "36              6.0538231       2.7046886       3.9831089       1.7974032       \n",
      "37              0.88608015      2.275413        1.1967151       0.96635826      \n",
      "38              3.6422247       3.5951378       0.081901248     0.10376855      \n",
      "39              0.092233047     3.9532793       0.7890351       2.2984198       \n",
      "40              0.6527329       1.4631174       0.67981833      0.93130316      \n",
      "41              3.2066451       2.1049206       5.2939679       5.7604447       \n",
      "42              6.3116625       3.9379161       1.6758181       3.7393212       \n",
      "43              7.8865903       8.7152593       5.1346836       3.8134257       \n",
      "44              0.35290933      1.483922        4.2579781       4.3954906       \n",
      "45              3.7102254       2.5218933       0.68754726      1.9941149       \n",
      "46              7.0317407       6.3880509       3.2768963       1.4674085       \n",
      "47              3.5106527       4.060731        5.6119744       3.4355467       \n",
      "48              5.9860721       4.0962309       0.50178216      0.087588369     \n",
      "49              0.7238079       1.2517884       0.48963496      2.2109909       \n",
      "50              4.063709        3.4755364       0.47482439      1.871957        \n",
      "51              3.3447905       2.6763387       0.54728716      1.5083131       \n",
      "52              3.6737705       2.2823728       1.078254        1.3190127       \n",
      "53              2.6680218       3.4198539       1.05488         1.9556504       \n"
     ]
    }
   ],
   "source": [
    "# Compare estimated noise\n",
    "fmt = 5 * '{:<16}'\n",
    "print(fmt.format(\"\", 16, 64, 256, \"ave\"))\n",
    "fmt = '{:<16}' + 4 * '{:<16.8}'\n",
    "for i, (n0, n1, n2, n3, n4) in enumerate(zip(s.cpu(), N1.cpu(), N2.cpu(), N3.cpu(), N4)):\n",
    "    print(fmt.format(i, 100*abs(n1-n0)/n0, 100*abs(n2-n0)/n0, 100*abs(n3-n0)/n0, 100*abs(n4-n0)/n0))\n",
    "    \n",
    "# Note, for noise sigma estimation, approximate expression is used\n",
    "# In this example, noise estimation accuracy is better than 10%\n",
    "# Using larger number of columns or averaging over samples do not affect estimation accuracy significantly (but better on average in both cases)"
   ]
  },
  {
   "cell_type": "code",
   "execution_count": 8,
   "id": "5d553873-8c8c-424d-b7fe-d39a8fdcc956",
   "metadata": {},
   "outputs": [
    {
     "name": "stdout",
     "output_type": "stream",
     "text": [
      "tensor(6.149933840851e-06, dtype=torch.float64)\n",
      "tensor(7.628650723683e-06, dtype=torch.float64)\n"
     ]
    }
   ],
   "source": [
    "# Estimate noise using randomized SVD\n",
    "\n",
    "l = Filter(d)\n",
    "r1, s1 = l.estimate_noise(limit=32)\n",
    "r2, s2 = l.estimate_noise(limit=512, randomized=True)\n",
    "\n",
    "print((s1 - s).abs().max())\n",
    "print((s2 - s).abs().max())"
   ]
  },
  {
   "cell_type": "markdown",
   "id": "abc46d5e",
   "metadata": {
    "heading_collapsed": true,
    "tags": []
   },
   "source": [
    "# Example-05: RPCA"
   ]
  },
  {
   "cell_type": "code",
   "execution_count": 9,
   "id": "2cdb6605",
   "metadata": {
    "hidden": true
   },
   "outputs": [
    {
     "name": "stdout",
     "output_type": "stream",
     "text": [
      "(100, 120)\n",
      "[[10. 10. 10. ... 30. 30. 30.]\n",
      " [10. 10. 10. ... 30. 30. 30.]\n",
      " [10. 10. 10. ... 30. 30. 30.]\n",
      " ...\n",
      " [10. 10. 10. ... 30. 30. 30.]\n",
      " [10. 10. 10. ... 30. 30. 30.]\n",
      " [10. 10. 10. ... 30. 30. 30.]]\n",
      "tensor(1)\n",
      "(100, 120)\n",
      "[[10. 10. 10. ... 30. 30. 30.]\n",
      " [ 0. 10. 10. ... 30. 30.  0.]\n",
      " [10. 10. 10. ... 30. 30. 30.]\n",
      " ...\n",
      " [10. 10. 10. ...  0. 30. 30.]\n",
      " [10. 10. 10. ... 30. 30. 30.]\n",
      " [10. 10. 10. ... 30. 30. 30.]]\n",
      "tensor(100)\n",
      "328\n",
      "tensor(1.078912369143e-09, dtype=torch.float64)\n",
      "tensor(1)\n",
      "[[10. 10. 10. ... 30. 30. 30.]\n",
      " [10. 10. 10. ... 30. 30. 30.]\n",
      " [10. 10. 10. ... 30. 30. 30.]\n",
      " ...\n",
      " [10. 10. 10. ... 30. 30. 30.]\n",
      " [10. 10. 10. ... 30. 30. 30.]\n",
      " [10. 10. 10. ... 30. 30. 30.]]\n",
      "1.0235012837256363e-10\n"
     ]
    }
   ],
   "source": [
    "# https://arxiv.org/abs/0912.3599\n",
    "# RPCA can be performed with rpca classmethod\n",
    "# Single matrix should be passed on input (this can be a full TbT matrix or a Hankel matrix of a signal)\n",
    "\n",
    "# Separate 'grained' noise using RPCA\n",
    "\n",
    "# Generate original low rank matrix\n",
    "n = 100\n",
    "k = 3\n",
    "m = 40\n",
    "X = numpy.hstack([numpy.ones((n, m)) * (i + 1) * 10 for i in range(k)])\n",
    "print(X.shape)\n",
    "print(X)\n",
    "print(torch.linalg.matrix_rank(torch.tensor(X)))\n",
    "\n",
    "# Generate matrix with missing values (change fraction of missing values to observe convergence)\n",
    "Y = numpy.copy(X)\n",
    "Y[numpy.random.rand(*Y.shape) < 0.1] = 0.0\n",
    "print(Y.shape)\n",
    "print(Y)\n",
    "print(torch.linalg.matrix_rank(torch.tensor(Y)))\n",
    "\n",
    "# Perform RPCA (change the number of iterations and/or the tolerance factor to observe convergence)\n",
    "count, error, L, S = Filter.rpca(torch.tensor(Y), limit=8912, factor=1.E-12, cpu=True)\n",
    "\n",
    "# Number of iterations and final error\n",
    "print(count)\n",
    "print(error)\n",
    "\n",
    "# 'Cleaned' matrix rank\n",
    "print(torch.linalg.matrix_rank(L))\n",
    "print(L.cpu().numpy())\n",
    "\n",
    "# Maximum element-wise error\n",
    "print(numpy.max(numpy.abs((X - L.cpu().numpy()))))"
   ]
  },
  {
   "cell_type": "markdown",
   "id": "e70727d5",
   "metadata": {
    "heading_collapsed": true,
    "tags": []
   },
   "source": [
    "# Example-06: TbT filtering (SVD & Hankel & RPCA)"
   ]
  },
  {
   "cell_type": "code",
   "execution_count": 10,
   "id": "4dd6eaa6",
   "metadata": {
    "hidden": true
   },
   "outputs": [],
   "source": [
    "# In this example frequency uncertanty is compared for different TbT filtering"
   ]
  },
  {
   "cell_type": "code",
   "execution_count": 11,
   "id": "e73bfbed-e357-4ed6-977b-bbdc03ef8e27",
   "metadata": {},
   "outputs": [
    {
     "name": "stdout",
     "output_type": "stream",
     "text": [
      "0.463116901262685\n"
     ]
    }
   ],
   "source": [
    "# Compute reference frequency for test TbT data\n",
    "\n",
    "# Load TbT\n",
    "dtype = torch.float64\n",
    "device = 'cpu'\n",
    "length = 4096\n",
    "\n",
    "w = Window(length, 'cosine_window', 2.0, dtype=dtype, device=device)\n",
    "d = Data.from_file(54, w, '../virtual_tbt.npy', dtype=dtype, device=device)\n",
    "\n",
    "# Compute reference frequency\n",
    "d.window_remove_mean()\n",
    "d.window_apply()\n",
    "f = Frequency(d)\n",
    "f('parabola')\n",
    "d.reset()\n",
    "ref = f.frequency.mean().cpu().item()\n",
    "print(ref)"
   ]
  },
  {
   "cell_type": "code",
   "execution_count": 12,
   "id": "9057b783-3123-4397-8d5a-3137b5d50013",
   "metadata": {},
   "outputs": [],
   "source": [
    "# Set parameters\n",
    "dtype = torch.float64\n",
    "device = 'cpu'\n",
    "length = 1024\n",
    "\n",
    "# Set noise std for each BPM\n",
    "# Note, each BPM has a different value of noise sigma\n",
    "s = 1.0E-4*torch.rand(54, dtype=dtype, device=device)\n",
    "\n",
    "# Test TbT data with random noise\n",
    "w = Window(length, 'cosine_window', 1.0, dtype=dtype, device=device)\n",
    "d = Data.from_file(54, w, '../virtual_tbt.npy', dtype=dtype, device=device)\n",
    "d.add_noise(s)\n",
    "d.data.copy_(d.work)\n",
    "\n",
    "# Set seed (randomized range estimation)\n",
    "seed = numpy.random.randint(0, 1000)\n",
    "\n",
    "# Set filter instance\n",
    "l = Filter(d, random_seed=seed)\n",
    "\n",
    "# Set frequency instance\n",
    "f = Frequency(d)"
   ]
  },
  {
   "cell_type": "code",
   "execution_count": 13,
   "id": "c1d625c0",
   "metadata": {
    "hidden": true
   },
   "outputs": [
    {
     "name": "stdout",
     "output_type": "stream",
     "text": [
      "7.150972879551321\n"
     ]
    }
   ],
   "source": [
    "# Estimate noise (optimal SVD truncation)\n",
    "_, n = l.estimate_noise(limit=64, cpu=True)\n",
    "\n",
    "# Maximum noise estimation error\n",
    "print(torch.max(100*torch.abs(n - s)/s).cpu().item())"
   ]
  },
  {
   "cell_type": "code",
   "execution_count": 14,
   "id": "c083d02f",
   "metadata": {
    "hidden": true
   },
   "outputs": [
    {
     "name": "stdout",
     "output_type": "stream",
     "text": [
      "error: 1.55926703e-08   spread: 7.55733357e-07   case: raw data without window\n",
      "error: 1.60743341e-07   spread: 1.13639946e-06   case: raw data with window\n"
     ]
    }
   ],
   "source": [
    "# Compute frequencies without filtering\n",
    "\n",
    "# Note, since error is random, i.e. deviation of mean from the reference\n",
    "# The result should be judged mostly by frequency spread (assuming bias can be neglected)\n",
    "# Depending on the noise level, windowing might (and in general does) increase spread\n",
    "\n",
    "f = Frequency(d)\n",
    "\n",
    "# Without window\n",
    "f('parabola')\n",
    "m, s = f.frequency.mean().cpu().item(), f.frequency.std().cpu().item()\n",
    "print(f'error: {abs(ref - m):<16.9} spread: {s:<16.9} case: raw data without window')\n",
    "\n",
    "# With window\n",
    "# Note, in general, window will increase frequency spread, but reduce bias\n",
    "d.window_remove_mean()\n",
    "d.window_apply()\n",
    "f('parabola')\n",
    "d.reset()\n",
    "m, s = f.frequency.mean().cpu().item(), f.frequency.std().cpu().item()\n",
    "print(f'error: {abs(ref - m):<16.9} spread: {s:<16.9} case: raw data with window')"
   ]
  },
  {
   "cell_type": "code",
   "execution_count": 15,
   "id": "26563735-c241-4d85-b1ef-703b748c3f28",
   "metadata": {},
   "outputs": [
    {
     "name": "stdout",
     "output_type": "stream",
     "text": [
      "error: 1.57711861e-08   spread: 5.76616656e-07   case: SVD filtering without window\n",
      "error: 1.79022873e-07   spread: 7.2920247e-07    case: SVD filtering with window\n"
     ]
    }
   ],
   "source": [
    "# Perform SVD filtering (full TbT)\n",
    "# Note, filter modifies work container\n",
    "\n",
    "d.reset()\n",
    "l.filter_svd(rank=8, cpu=True)\n",
    "\n",
    "# Compute frequencies with SVD filtering\n",
    "\n",
    "# Without window\n",
    "# Note, frequency spread is generaly reduced by SVD filtering\n",
    "f('parabola')\n",
    "m, s = f.frequency.mean().cpu().item(), f.frequency.std().cpu().item()\n",
    "print(f'error: {abs(ref - m):<16.9} spread: {s:<16.9} case: SVD filtering without window')\n",
    "\n",
    "# With window\n",
    "# Note, filtering allows application of window without harmful effect on frequency spread\n",
    "# In some cases frequency spread is further reduced\n",
    "d.window_remove_mean()\n",
    "d.window_apply()\n",
    "f('parabola')\n",
    "m, s = f.frequency.mean().cpu().item(), f.frequency.std().cpu().item()\n",
    "print(f'error: {abs(ref - m):<16.9} spread: {s:<16.9} case: SVD filtering with window')"
   ]
  },
  {
   "cell_type": "code",
   "execution_count": 16,
   "id": "d2ce85fd-d525-4d9f-a224-667fd5cfa9ca",
   "metadata": {},
   "outputs": [
    {
     "name": "stdout",
     "output_type": "stream",
     "text": [
      "error: 9.63044943e-08   spread: 9.59548704e-07   case: Hankel filtering without window\n",
      "error: 1.07899694e-07   spread: 9.04566251e-07   case: Hankel filtering with window\n"
     ]
    }
   ],
   "source": [
    "# Perform Hankel filtering\n",
    "# Note, when applied to raw TbT, Hankel filtering performs worse than SVD\n",
    "\n",
    "d.reset()\n",
    "l.filter_hankel(rank=8, cpu=True, random=True, buffer=8, count=8)\n",
    "\n",
    "# Compute frequencies with Hankel filtering\n",
    "\n",
    "# Without window\n",
    "f('parabola')\n",
    "m, s = f.frequency.mean().cpu().item(), f.frequency.std().cpu().item()\n",
    "print(f'error: {abs(ref - m):<16.9} spread: {s:<16.9} case: Hankel filtering without window')\n",
    "\n",
    "# With window\n",
    "d.window_remove_mean()\n",
    "d.window_apply()\n",
    "f('parabola')\n",
    "m, s = f.frequency.mean().cpu().item(), f.frequency.std().cpu().item()\n",
    "print(f'error: {abs(ref - m):<16.9} spread: {s:<16.9} case: Hankel filtering with window')"
   ]
  },
  {
   "cell_type": "code",
   "execution_count": 17,
   "id": "9605e236-6a36-4a64-a474-bc19b1c4f643",
   "metadata": {},
   "outputs": [
    {
     "name": "stdout",
     "output_type": "stream",
     "text": [
      "error: 1.15613549e-07   spread: 6.76930918e-07   case: SVD & Hankel filtering without window\n",
      "error: 1.37294011e-07   spread: 5.81000484e-07   case: SVD & Hankel filtering with window\n"
     ]
    }
   ],
   "source": [
    "# Perform SVD & Hankel filtering\n",
    "# If Hankel filtering is applied after SVD, the frequency spread is further slightly reduced on average\n",
    "\n",
    "d.reset()\n",
    "l.filter_svd(rank=8, cpu=True)\n",
    "l.filter_hankel(rank=8, cpu=True, random=True, buffer=8, count=8)\n",
    "\n",
    "# Compute frequencies with Hankel filtering\n",
    "\n",
    "# Without window\n",
    "f('parabola')\n",
    "m, s = f.frequency.mean().cpu().item(), f.frequency.std().cpu().item()\n",
    "print(f'error: {abs(ref - m):<16.9} spread: {s:<16.9} case: SVD & Hankel filtering without window')\n",
    "\n",
    "# With window\n",
    "d.window_remove_mean()\n",
    "d.window_apply()\n",
    "f('parabola')\n",
    "m, s = f.frequency.mean().cpu().item(), f.frequency.std().cpu().item()\n",
    "print(f'error: {abs(ref - m):<16.9} spread: {s:<16.9} case: SVD & Hankel filtering with window')"
   ]
  },
  {
   "cell_type": "code",
   "execution_count": 18,
   "id": "663093fb-8f86-4b5d-9d7f-7468effbb031",
   "metadata": {},
   "outputs": [
    {
     "name": "stdout",
     "output_type": "stream",
     "text": [
      "error: 1.95381507e-08   spread: 5.15439638e-07   case: RPCA filtering without window\n",
      "error: 9.58688356e-08   spread: 4.87944355e-07   case: RPCA filtering with window\n"
     ]
    }
   ],
   "source": [
    "# Perform RPCA filtering\n",
    "# Note, RPCA is not perfect for normal noise, large number of iterations is required in this case\n",
    "\n",
    "d.reset()\n",
    "l.filter_rpca(limit=2**10, factor=1.E-15, cpu=True)\n",
    "\n",
    "# Without window\n",
    "f('parabola')\n",
    "m, s = f.frequency.mean().cpu().item(), f.frequency.std().cpu().item()\n",
    "print(f'error: {abs(ref - m):<16.9} spread: {s:<16.9} case: RPCA filtering without window')\n",
    "\n",
    "# With window\n",
    "d.window_remove_mean()\n",
    "d.window_apply()\n",
    "f('parabola')\n",
    "m, s = f.frequency.mean().cpu().item(), f.frequency.std().cpu().item()\n",
    "print(f'error: {abs(ref - m):<16.9} spread: {s:<16.9} case: RPCA filtering with window')"
   ]
  },
  {
   "cell_type": "markdown",
   "id": "d51828c3",
   "metadata": {
    "tags": []
   },
   "source": [
    "# Example-07: Effect of filtering on uncertainties"
   ]
  },
  {
   "cell_type": "code",
   "execution_count": 19,
   "id": "f8430c11-4979-4e37-8444-452f9fcf346d",
   "metadata": {},
   "outputs": [
    {
     "name": "stdout",
     "output_type": "stream",
     "text": [
      "frequency: error=5.66349943887e-08, spread=3.54288332444e-06\n",
      "amplitude: error=0.000206108623927, spread=0.00529259765117\n"
     ]
    }
   ],
   "source": [
    "# Estimate frequency and amplitude uncertainty from multiple realizations\n",
    "\n",
    "# Set parameters\n",
    "dtype = torch.float64\n",
    "device = 'cpu'\n",
    "length = 1024\n",
    "\n",
    "# Set signal\n",
    "t = torch.linspace(1, length, length, dtype=dtype, device=device)\n",
    "s = 0.10\n",
    "x = 1.0*torch.cos(2.0*numpy.pi*0.12345*t) + 0.1*torch.cos(2.0*numpy.pi*2.0*0.12345*t)\n",
    "\n",
    "# Set TbT (signal copies with different noise realizations)\n",
    "w = Window.from_cosine(length, 1.0, dtype=dtype, device=device)\n",
    "d = torch.stack([x + s*torch.randn(length, dtype=dtype, device=device) for _ in range(256)])\n",
    "d = Data.from_data(w, d)\n",
    "\n",
    "# Estimate frequency\n",
    "d.window_remove_mean()\n",
    "d.window_apply()\n",
    "f = Frequency(d)\n",
    "f('parabola')\n",
    "m_f, s_f = f.frequency.mean().cpu().item(), f.frequency.std().cpu().item()\n",
    "print(f'frequency: error={abs(0.12345 - m_f):<16.12}, spread={s_f:<16.12}')\n",
    "d.reset()\n",
    "\n",
    "# Estimate amplitude\n",
    "c = 2.0/w.total*torch.sum(torch.cos(2.0*numpy.pi*m_f*t)*d.work*w.window, 1)\n",
    "s = 2.0/w.total*torch.sum(torch.sin(2.0*numpy.pi*m_f*t)*d.work*w.window, 1)\n",
    "a = torch.sqrt(c*c + s*s)\n",
    "m_a, s_a = a.mean().cpu().item(), a.std().cpu().item()\n",
    "print(f'amplitude: error={abs(1.0 - m_a):<16.12}, spread={s_a:<16.12}')\n",
    "d.reset()"
   ]
  },
  {
   "cell_type": "code",
   "execution_count": 20,
   "id": "b7e9da5c-c01e-4603-8dd5-3218c7a4ea2f",
   "metadata": {},
   "outputs": [
    {
     "name": "stdout",
     "output_type": "stream",
     "text": [
      "min: 4\n",
      "max: 4\n",
      "std: 0.1030597546338432\n"
     ]
    }
   ],
   "source": [
    "# Estimate rank/noise\n",
    "l = Filter(d)\n",
    "rank, noise = l.estimate_noise(limit=16, cpu=True)\n",
    "print(f'min: {rank.min().cpu().item()}')\n",
    "print(f'max: {rank.max().cpu().item()}')\n",
    "print(f'std: {noise.mean().cpu().item()}')"
   ]
  },
  {
   "cell_type": "code",
   "execution_count": 21,
   "id": "b43bddf1-5c79-4d13-bcb2-2283da6a67e6",
   "metadata": {},
   "outputs": [
    {
     "name": "stdout",
     "output_type": "stream",
     "text": [
      "frequency: error=5.86820692178e-08, spread=6.69783630253e-07\n",
      "amplitude: error=0.000193698037048, spread=0.00444392560078\n"
     ]
    }
   ],
   "source": [
    "# SVD\n",
    "\n",
    "# Estimate frequency\n",
    "l.filter_svd(rank=8, random=False, cpu=True)\n",
    "d.window_remove_mean()\n",
    "d.window_apply()\n",
    "f = Frequency(d)\n",
    "f('parabola')\n",
    "m_f, s_f = f.frequency.mean().cpu().item(), f.frequency.std().cpu().item()\n",
    "print(f'frequency: error={abs(0.12345 - m_f):<16.12}, spread={s_f:<16.12}')\n",
    "d.reset()\n",
    "\n",
    "# Estimate amplitude\n",
    "l.filter_svd(rank=8, random=False, cpu=True)\n",
    "c = 2.0/w.total*torch.sum(torch.cos(2.0*numpy.pi*m_f*t)*d.work*w.window, 1)\n",
    "s = 2.0/w.total*torch.sum(torch.sin(2.0*numpy.pi*m_f*t)*d.work*w.window, 1)\n",
    "a = torch.sqrt(c*c + s*s)\n",
    "m_a, s_a = a.mean().cpu().item(), a.std().cpu().item()\n",
    "print(f'amplitude: error={abs(1.0 - m_a):<16.12}, spread={s_a:<16.12}')\n",
    "d.reset()"
   ]
  },
  {
   "cell_type": "code",
   "execution_count": 22,
   "id": "964c0d18-4b75-441f-b830-10fbef0b2fca",
   "metadata": {},
   "outputs": [
    {
     "name": "stdout",
     "output_type": "stream",
     "text": [
      "frequency: error=4.33199569272e-09, spread=6.45233560065e-07\n",
      "amplitude: error=0.000177030327835, spread=0.00444483968645\n"
     ]
    }
   ],
   "source": [
    "# SVD & Hankel\n",
    "\n",
    "# Estimate frequency\n",
    "l.filter_svd(rank=8, random=False, cpu=True)\n",
    "l.filter_hankel(rank=8, random=True, buffer=8, count=8, cpu=True)\n",
    "d.window_remove_mean()\n",
    "d.window_apply()\n",
    "f = Frequency(d)\n",
    "f('parabola')\n",
    "m_f, s_f = f.frequency.mean().cpu().item(), f.frequency.std().cpu().item()\n",
    "print(f'frequency: error={abs(0.12345 - m_f):<16.12}, spread={s_f:<16.12}')\n",
    "d.reset()\n",
    "\n",
    "# Estimate amplitude\n",
    "l.filter_svd(rank=8, random=False, cpu=True)\n",
    "l.filter_hankel(rank=8, random=True, buffer=8, count=8, cpu=True)\n",
    "c = 2.0/w.total*torch.sum(torch.cos(2.0*numpy.pi*m_f*t)*d.work*w.window, 1)\n",
    "s = 2.0/w.total*torch.sum(torch.sin(2.0*numpy.pi*m_f*t)*d.work*w.window, 1)\n",
    "a = torch.sqrt(c*c + s*s)\n",
    "m_a, s_a = a.mean().cpu().item(), a.std().cpu().item()\n",
    "print(f'amplitude: error={abs(1.0 - m_a):<16.12}, spread={s_a:<16.12}')\n",
    "d.reset()"
   ]
  },
  {
   "cell_type": "code",
   "execution_count": 23,
   "id": "b847df00-6629-4572-8817-913860153871",
   "metadata": {},
   "outputs": [
    {
     "name": "stdout",
     "output_type": "stream",
     "text": [
      "frequency: error=8.61271808039e-09, spread=1.15398363346e-06\n",
      "amplitude: error=0.00758069510256, spread=0.00522175129659\n"
     ]
    }
   ],
   "source": [
    "# RPCA\n",
    "\n",
    "# Estimate frequency\n",
    "l.filter_rpca(limit=4096, factor=1.E-12, cpu=True)\n",
    "d.window_remove_mean()\n",
    "d.window_apply()\n",
    "f = Frequency(d)\n",
    "f('parabola')\n",
    "m_f, s_f = f.frequency.mean().cpu().item(), f.frequency.std().cpu().item()\n",
    "print(f'frequency: error={abs(0.12345 - m_f):<16.12}, spread={s_f:<16.12}')\n",
    "d.reset()\n",
    "\n",
    "# Estimate amplitude\n",
    "l.filter_rpca(limit=4096, factor=1.E-12, cpu=True)\n",
    "c = 2.0/w.total*torch.sum(torch.cos(2.0*numpy.pi*m_f*t)*d.work*w.window, 1)\n",
    "s = 2.0/w.total*torch.sum(torch.sin(2.0*numpy.pi*m_f*t)*d.work*w.window, 1)\n",
    "a = torch.sqrt(c*c + s*s)\n",
    "m_a, s_a = a.mean().cpu().item(), a.std().cpu().item()\n",
    "print(f'amplitude: error={abs(1.0 - m_a):<16.12}, spread={s_a:<16.12}')\n",
    "d.reset()"
   ]
  },
  {
   "cell_type": "markdown",
   "id": "45947b13-4f0c-4786-9abd-72b46fd97872",
   "metadata": {
    "tags": []
   },
   "source": [
    "# Example-08: Mixed Hankel matrix"
   ]
  },
  {
   "cell_type": "code",
   "execution_count": 24,
   "id": "d42e945d-7ce3-4f57-ac68-0ef541de8caa",
   "metadata": {},
   "outputs": [
    {
     "data": {
      "image/png": "[encoded data removed]",
      "text/plain": [
       "<Figure size 1080x360 with 1 Axes>"
      ]
     },
     "metadata": {
      "needs_background": "light"
     },
     "output_type": "display_data"
    }
   ],
   "source": [
    "# Set parameters\n",
    "dtype = torch.float64\n",
    "device = 'cpu'\n",
    "length = 1024\n",
    "\n",
    "# Set noise std for each BPM\n",
    "s = 1.0E-4*(4.0*torch.rand(54, dtype=torch.float64) + 1.0)\n",
    "\n",
    "# Test TbT data with random noise\n",
    "w = Window(length, 'cosine_window', 1.0, dtype=dtype, device=device)\n",
    "d = Data.from_file(54, w, '../virtual_tbt.npy')\n",
    "d.add_noise(s)\n",
    "d.window_remove_mean()\n",
    "d.normalize()\n",
    "\n",
    "# Mixed Hankel matrix\n",
    "signal = d.make_signal(length, d.work)\n",
    "matrix = d.make_matrix(8192, 1, signal)\n",
    "\n",
    "# Compute singular values\n",
    "out = Filter.svd_list_randomized(rank=4*54, matrix=torch.stack([matrix]), buffer=8, count=8, random_seed=0, cpu=True).flatten()\n",
    "plt.figure(figsize=(15, 5))\n",
    "plt.scatter(range(4*54), out.cpu(), c='red')\n",
    "plt.show()"
   ]
  },
  {
   "cell_type": "markdown",
   "id": "3a2f22b4-342c-485e-b40a-503088103ae1",
   "metadata": {},
   "source": [
    "# Example-09: Hankel matrix singular values approximation"
   ]
  },
  {
   "cell_type": "code",
   "execution_count": 25,
   "id": "2cb458e2-6389-4974-b0a2-0c2439363103",
   "metadata": {},
   "outputs": [
    {
     "data": {
      "image/png": "[encoded data removed]",
      "text/plain": [
       "<Figure size 1080x360 with 1 Axes>"
      ]
     },
     "metadata": {
      "needs_background": "light"
     },
     "output_type": "display_data"
    }
   ],
   "source": [
    "# Set parameters\n",
    "dtype = torch.float64\n",
    "device = 'cpu'\n",
    "length = 1024\n",
    "\n",
    "# Set noise std for each BPM\n",
    "s = 1.0E-4*(4.0*torch.rand(54, dtype=torch.float64) + 1.0)\n",
    "\n",
    "# Test TbT data with random noise\n",
    "w = Window(length, 'cosine_window', 1.0, dtype=dtype, device=device)\n",
    "d = Data.from_file(54, w, '../virtual_tbt.npy')\n",
    "d.add_noise(s)\n",
    "d.window_remove_mean()\n",
    "d.normalize()\n",
    "\n",
    "# Hankel matrix\n",
    "matrix, *_ = Filter.make_matrix(d.work)\n",
    "\n",
    "# Compute all singular values with full SVD\n",
    "s1 = Filter.svd_list(min(matrix.shape), torch.stack([matrix]))\n",
    "s1, *_ = s1/s1.max()\n",
    "\n",
    "# Compute first 128 singular values with randomized SVD\n",
    "s2 = Filter.svd_list_randomized(128, torch.stack([matrix]), buffer=16, count=16)\n",
    "s2, *_ = s2/s2.max()\n",
    "\n",
    "# Compute all singular values with full SVD using first 128 columns\n",
    "s3 = Filter.svd_list(128, torch.stack([matrix[:, :128]]))\n",
    "s3, *_ = s3/s3.max()\n",
    "\n",
    "# Compare singular values\n",
    "plt.figure(figsize=(15, 5))\n",
    "plt.scatter(range(len(s1)), s1.log10_().cpu(), color='black')\n",
    "plt.scatter(range(len(s2)), s2.log10_().cpu(), color='red')\n",
    "plt.scatter(range(len(s3)), s3.log10_().cpu(), color='blue')\n",
    "plt.show()"
   ]
  },
  {
   "cell_type": "code",
   "execution_count": null,
   "id": "84ef867b-046e-4021-ba71-1079cd55b34b",
   "metadata": {},
   "outputs": [],
   "source": []
  }
 ],
 "metadata": {
  "colab": {
   "collapsed_sections": [
    "myt0_gMIOq7b",
    "5d97819c"
   ],
   "name": "03_frequency.ipynb",
   "provenance": []
  },
  "kernelspec": {
   "display_name": "Python 3 (ipykernel)",
   "language": "python",
   "name": "python3"
  },
  "language_info": {
   "codemirror_mode": {
    "name": "ipython",
    "version": 3
   },
   "file_extension": ".py",
   "mimetype": "text/x-python",
   "name": "python",
   "nbconvert_exporter": "python",
   "pygments_lexer": "ipython3",
   "version": "3.9.7"
  },
  "latex_envs": {
   "LaTeX_envs_menu_present": true,
   "autoclose": false,
   "autocomplete": true,
   "bibliofile": "biblio.bib",
   "cite_by": "apalike",
   "current_citInitial": 1,
   "eqLabelWithNumbers": true,
   "eqNumInitial": 1,
   "hotkeys": {
    "equation": "Ctrl-E",
    "itemize": "Ctrl-I"
   },
   "labels_anchors": false,
   "latex_user_defs": false,
   "report_style_numbering": false,
   "user_envs_cfg": false
  }
 },
 "nbformat": 4,
 "nbformat_minor": 5
}
