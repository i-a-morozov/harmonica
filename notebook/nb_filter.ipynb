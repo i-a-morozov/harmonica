{
 "cells": [
  {
   "cell_type": "markdown",
   "id": "28d9ba26",
   "metadata": {
    "heading_collapsed": true,
    "tags": []
   },
   "source": [
    "# Example-01: Filter initialization & Matrix representation"
   ]
  },
  {
   "cell_type": "code",
   "execution_count": 1,
   "id": "38a3d71f",
   "metadata": {
    "tags": []
   },
   "outputs": [
    {
     "name": "stdout",
     "output_type": "stream",
     "text": [
      "True\n"
     ]
    }
   ],
   "source": [
    "# Import\n",
    "\n",
    "import numpy\n",
    "import torch\n",
    "\n",
    "import sys\n",
    "sys.path.append('..')\n",
    "\n",
    "from harmonica.util import data_load\n",
    "from harmonica.window import Window\n",
    "from harmonica.data import Data\n",
    "from harmonica.frequency import Frequency\n",
    "from harmonica.filter import Filter\n",
    "\n",
    "import matplotlib.pyplot as plt\n",
    "\n",
    "torch.set_printoptions(precision=12, sci_mode=True)\n",
    "print(torch.cuda.is_available())"
   ]
  },
  {
   "cell_type": "code",
   "execution_count": 2,
   "id": "af8a5804-7b75-4b7a-8eac-e755703759a8",
   "metadata": {
    "tags": []
   },
   "outputs": [],
   "source": [
    "# Set data type and device\n",
    "\n",
    "dtype = torch.float64\n",
    "device = torch.device('cpu')"
   ]
  },
  {
   "cell_type": "code",
   "execution_count": 3,
   "id": "df273619",
   "metadata": {
    "hidden": true,
    "tags": []
   },
   "outputs": [
    {
     "name": "stdout",
     "output_type": "stream",
     "text": [
      "None\n",
      "[[1 2 3 4 5 6 7 8]]\n",
      "[[[1 2 3 4]\n",
      "  [2 3 4 5]\n",
      "  [3 4 5 6]\n",
      "  [4 5 6 7]\n",
      "  [5 6 7 8]]]\n",
      "[[1 2 3 4 5 6 7 8]]\n"
     ]
    }
   ],
   "source": [
    "# Initialize Filter instance\n",
    "\n",
    "# Data instance should be passed as the first argument\n",
    "# Filter class contains several static and class method, that can be used without passing Data instance\n",
    "\n",
    "f = Filter(None)\n",
    "print(f.data)\n",
    "\n",
    "# make_matrix and make_signal functions can be used for matrix representation of a signal (Hankel matrix)\n",
    "# Both functions act on a batch of signals and matrices, respectively\n",
    "\n",
    "# Define test signal\n",
    "\n",
    "signal = torch.linspace(1, 8, 8, dtype=dtype, device=device).unsqueeze(0)\n",
    "print(signal.cpu().to(torch.int).numpy())\n",
    "\n",
    "# Generate matrix representation\n",
    "\n",
    "matrix = Filter.make_matrix(signal)\n",
    "print(matrix.cpu().to(torch.int).numpy())\n",
    "\n",
    "# Generate signal representation (average over skew diagonals)\n",
    "\n",
    "print(Filter.make_signal(matrix).cpu().to(torch.int).numpy())"
   ]
  },
  {
   "cell_type": "markdown",
   "id": "d2570393",
   "metadata": {
    "heading_collapsed": true,
    "tags": []
   },
   "source": [
    "# Example-02: Singular values"
   ]
  },
  {
   "cell_type": "code",
   "execution_count": 1,
   "id": "b0c96591-cd4f-4cbe-a3fb-531b97f44891",
   "metadata": {
    "tags": []
   },
   "outputs": [
    {
     "name": "stdout",
     "output_type": "stream",
     "text": [
      "True\n"
     ]
    }
   ],
   "source": [
    "# Import\n",
    "\n",
    "import numpy\n",
    "import torch\n",
    "\n",
    "import sys\n",
    "sys.path.append('..')\n",
    "\n",
    "from harmonica.util import data_load\n",
    "from harmonica.window import Window\n",
    "from harmonica.data import Data\n",
    "from harmonica.frequency import Frequency\n",
    "from harmonica.filter import Filter\n",
    "\n",
    "import matplotlib.pyplot as plt\n",
    "\n",
    "torch.set_printoptions(precision=12, sci_mode=True)\n",
    "print(torch.cuda.is_available())"
   ]
  },
  {
   "cell_type": "code",
   "execution_count": 2,
   "id": "5992c864-70e7-4507-96b8-9deba2d92021",
   "metadata": {
    "tags": []
   },
   "outputs": [],
   "source": [
    "# Set data type and device\n",
    "\n",
    "dtype = torch.float64\n",
    "device = torch.device('cpu')"
   ]
  },
  {
   "cell_type": "code",
   "execution_count": 3,
   "id": "5b137074",
   "metadata": {
    "hidden": true,
    "tags": []
   },
   "outputs": [
    {
     "name": "stdout",
     "output_type": "stream",
     "text": [
      "tensor([6])\n",
      "256.518221536       256.518221536       5.68434188608e-14   \n",
      "255.980457668       255.980457668       2.84217094304e-14   \n",
      "25.6585560702       25.6585560702       7.1054273576e-15    \n",
      "25.5899723888       25.5899723888       1.06581410364e-14   \n",
      "0.256513879015      0.256513879015      3.88578058619e-16   \n",
      "0.255971936601      0.255971936601      1.66533453694e-16   \n"
     ]
    }
   ],
   "source": [
    "# svd_list and svd_list_randomized can be used to compute singular values\n",
    "# svd_list performs full SVD and svd_list_randimized performs randomized SVD\n",
    "# In both cases, requested number of largest singular values is returned\n",
    "\n",
    "# Generate test signal (real signal with three harmonics)\n",
    "\n",
    "length = 1024\n",
    "time = torch.linspace(1, length, length, dtype=dtype, device=device)\n",
    "signal = 1.0*torch.sin(2*numpy.pi*0.12*time) + 0.1*torch.sin(2*numpy.pi*0.24*time) + 1.E-3*torch.sin(2*numpy.pi*0.31*time)\n",
    "signal.unsqueeze_(0)\n",
    "\n",
    "# Generate matrix representation\n",
    "\n",
    "matrix = Filter.make_matrix(signal)\n",
    "\n",
    "# Since, test signal contains three harmonics, it's matrix is expected to have six non-zero singular values\n",
    "\n",
    "print(torch.linalg.matrix_rank(matrix))\n",
    "\n",
    "# Compute singular values (full SVD)\n",
    "\n",
    "S1 = Filter.svd_list(rank=6, matrix=matrix, cpu=True)\n",
    "\n",
    "# svd_list used full SVD to compute singular values\n",
    "# number of returned singular values is set by rank parameter\n",
    "# input matrix should be a batch of matrices\n",
    "# cpu flag is used to compute SVD using CPU\n",
    "\n",
    "# Compute singular values (randomized SVD)\n",
    "\n",
    "S2 = Filter.svd_list_randomized(rank=6, matrix=matrix, buffer=8, count=8, cpu=True)\n",
    "\n",
    "# svd_list_randomized used randomized SVD to compute singular values\n",
    "# randomized_range function is used to estimate matrix range with QR decomposition\n",
    "# buffer parameter sets the number of extra dimensions, randomized range column rank is rank + buffer\n",
    "# count parameter sets number of iterations\n",
    "\n",
    "# Compare singular values\n",
    "\n",
    "fmt = 3 * '{:<20.12}'\n",
    "for s1, s2 in zip(S1.squeeze().cpu(), S2.squeeze().cpu()):\n",
    "    print(fmt.format(s1, s2, abs(s1 - s2)))"
   ]
  },
  {
   "cell_type": "markdown",
   "id": "15b63e0d",
   "metadata": {
    "heading_collapsed": true,
    "tags": []
   },
   "source": [
    "# Example-03: SVD truncation"
   ]
  },
  {
   "cell_type": "code",
   "execution_count": 1,
   "id": "5206c7a3-6511-4810-92e6-3118eac5be62",
   "metadata": {
    "tags": []
   },
   "outputs": [
    {
     "name": "stdout",
     "output_type": "stream",
     "text": [
      "True\n"
     ]
    }
   ],
   "source": [
    "# Import\n",
    "\n",
    "import numpy\n",
    "import torch\n",
    "\n",
    "import sys\n",
    "sys.path.append('..')\n",
    "\n",
    "from harmonica.util import data_load\n",
    "from harmonica.window import Window\n",
    "from harmonica.data import Data\n",
    "from harmonica.frequency import Frequency\n",
    "from harmonica.filter import Filter\n",
    "\n",
    "import matplotlib.pyplot as plt\n",
    "\n",
    "torch.set_printoptions(precision=12, sci_mode=True)\n",
    "print(torch.cuda.is_available())"
   ]
  },
  {
   "cell_type": "code",
   "execution_count": 2,
   "id": "fafaba16-ef64-484a-9c5a-eef2412ae245",
   "metadata": {
    "tags": []
   },
   "outputs": [],
   "source": [
    "# Set data type and device\n",
    "\n",
    "dtype = torch.float64\n",
    "device = torch.device('cpu')"
   ]
  },
  {
   "cell_type": "code",
   "execution_count": 3,
   "id": "97195ad4",
   "metadata": {
    "hidden": true,
    "tags": []
   },
   "outputs": [
    {
     "name": "stdout",
     "output_type": "stream",
     "text": [
      "tensor([4])\n",
      "tensor([4])\n",
      "256.656987075       256.656987075       0.0                 \n",
      "256.119186377       256.119186377       0.0                 \n",
      "25.642009985        25.642009985        2.13162820728e-14   \n",
      "25.5735215174       25.5735215174       3.5527136788e-15    \n",
      "2.6732280530085677e-13\n",
      "4.652126792043313\n",
      "4.65212679204333\n"
     ]
    },
    {
     "data": {
      "image/png": "[encoded data removed]",
      "text/plain": [
       "<Figure size 2000x300 with 1 Axes>"
      ]
     },
     "metadata": {},
     "output_type": "display_data"
    },
    {
     "data": {
      "image/png": "[encoded data removed]",
      "text/plain": [
       "<Figure size 2000x300 with 1 Axes>"
      ]
     },
     "metadata": {},
     "output_type": "display_data"
    }
   ],
   "source": [
    "# svd_truncation and svd_truncation_randomized can be used to perform SVD truncation\n",
    "# svd_truncation performs full SVD and svd_truncation_randomized performs randomized SVD\n",
    "# In both cases, only the requested number of largest singular values are used to generated truncated matrix\n",
    "# Truncated matrix is the best rank k approximation of the input\n",
    "# These functions return list of singular values and truncated matrices\n",
    "\n",
    "# Generate test signal (real signal with two harmonics and random noise)\n",
    "\n",
    "length = 1024\n",
    "time = torch.linspace(1, length, length, dtype=dtype, device=device)\n",
    "signal = 1.0*torch.sin(2*numpy.pi*0.12*time) + 0.1*torch.sin(2*numpy.pi*0.24*time)\n",
    "sigma = 1.0E-2\n",
    "signal.add_(sigma*torch.randn(length, dtype=dtype, device=device))\n",
    "signal.unsqueeze_(0)\n",
    "\n",
    "# Generate matrix representation\n",
    "\n",
    "matrix = Filter.make_matrix(signal)\n",
    "\n",
    "# Since noise is added, matrix is expected to have full rank\n",
    "\n",
    "torch.linalg.matrix_rank(matrix)\n",
    "\n",
    "# Perform SVD truncation (full SVD)\n",
    "\n",
    "S1, M1 = Filter.svd_truncation(rank=4, matrix=matrix, cpu=True)\n",
    "print(torch.linalg.matrix_rank(M1))\n",
    "\n",
    "# Perform SVD truncation (randomized SVD)\n",
    "\n",
    "S2, M2 = Filter.svd_truncation_randomized(rank=4, matrix=matrix, buffer=8, count=8, cpu=True)\n",
    "print(torch.linalg.matrix_rank(M2))\n",
    "\n",
    "# Compare singular values\n",
    "\n",
    "fmt = 3 * '{:<20.12}'\n",
    "for s1, s2 in zip(S1.squeeze().cpu(), S2.squeeze().cpu()):\n",
    "    print(fmt.format(s1, s2, abs(s1 - s2)))\n",
    "    \n",
    "# Compare truncated matrices\n",
    "\n",
    "print(torch.linalg.norm(M1 - M2).cpu().numpy())\n",
    "\n",
    "# Estimate noise\n",
    "\n",
    "print(100*abs(sigma-torch.std(matrix - M1).cpu().numpy())/sigma)\n",
    "print(100*abs(sigma-torch.std(matrix - M2).cpu().numpy())/sigma)\n",
    "\n",
    "# Convert to signal representation and DFT compare spectra\n",
    "\n",
    "s1 = Filter.make_signal(M1).squeeze()\n",
    "s2 = Filter.make_signal(M2).squeeze()\n",
    "grid = torch.fft.rfftfreq(length, dtype=dtype)\n",
    "\n",
    "plt.figure(figsize=(20, 3))\n",
    "plt.scatter(grid, torch.log10(torch.abs(torch.fft.rfft(signal.squeeze()))).cpu(), c='black')\n",
    "plt.scatter(grid, torch.log10(torch.abs(torch.fft.rfft(s1))).cpu(), c='red')\n",
    "plt.show()\n",
    "\n",
    "plt.figure(figsize=(20, 3))\n",
    "plt.scatter(grid, torch.log10(torch.abs(torch.fft.rfft(signal.squeeze()))).cpu(), c='black')\n",
    "plt.scatter(grid, torch.log10(torch.abs(torch.fft.rfft(s2))).cpu(), c='blue')\n",
    "plt.show()\n",
    "\n",
    "# Filtering potentialy allows to apply window function with less noise amplification\n",
    "# Note, signals are assumed to have zero mean\n",
    "# Remove mean before processing or increase number of requested singular values by one"
   ]
  },
  {
   "cell_type": "markdown",
   "id": "dd7f7d24",
   "metadata": {
    "tags": []
   },
   "source": [
    "# Example-04: Optimal SVD truncation, rank and noise estimation"
   ]
  },
  {
   "cell_type": "code",
   "execution_count": 1,
   "id": "d9361033-81c4-42e8-9d31-b271ebede7f0",
   "metadata": {
    "tags": []
   },
   "outputs": [
    {
     "name": "stdout",
     "output_type": "stream",
     "text": [
      "True\n"
     ]
    }
   ],
   "source": [
    "# Import\n",
    "\n",
    "import numpy\n",
    "import torch\n",
    "\n",
    "import sys\n",
    "sys.path.append('..')\n",
    "\n",
    "from harmonica.util import data_load\n",
    "from harmonica.window import Window\n",
    "from harmonica.data import Data\n",
    "from harmonica.frequency import Frequency\n",
    "from harmonica.filter import Filter\n",
    "\n",
    "import matplotlib.pyplot as plt\n",
    "\n",
    "torch.set_printoptions(precision=12, sci_mode=True)\n",
    "print(torch.cuda.is_available())"
   ]
  },
  {
   "cell_type": "code",
   "execution_count": 2,
   "id": "289aabd6-d7bd-4440-99d6-3a370fa0e645",
   "metadata": {
    "tags": []
   },
   "outputs": [],
   "source": [
    "# Set data type and device\n",
    "\n",
    "dtype = torch.float64\n",
    "device = torch.device('cpu')"
   ]
  },
  {
   "cell_type": "code",
   "execution_count": 3,
   "id": "c52356cb-554a-4586-9deb-82e1bc54ac33",
   "metadata": {
    "tags": []
   },
   "outputs": [
    {
     "name": "stdout",
     "output_type": "stream",
     "text": [
      "Data(54, Window(1024, 'cosine_window', 1.0))\n"
     ]
    }
   ],
   "source": [
    "# estimate_noise function can be used for truncation rank and noise value estimation\n",
    "# This function can be used when number of components in signal is not known\n",
    "\n",
    "# Load test TbT data and add random noise\n",
    "\n",
    "length = 1024\n",
    "\n",
    "w = Window(length, 'cosine_window', 1.0, dtype=dtype, device=device)\n",
    "d = Data.from_file(54, w, '../virtual_tbt.npy')\n",
    "s = 1.0E-4*torch.rand(54, dtype=dtype, device=device)\n",
    "d.add_noise(s)\n",
    "print(d)\n",
    "\n",
    "# Filter instance\n",
    "\n",
    "l = Filter(d)\n",
    "\n",
    "# For estimation, only several first columns can ne used (32 by default)\n",
    "\n",
    "R1, N1 = l.estimate_noise(limit=16, cpu=True)\n",
    "R2, N2 = l.estimate_noise(limit=64, cpu=True)\n",
    "R3, N3 = l.estimate_noise(limit=256, cpu=True)\n",
    "\n",
    "# Estimate noise (average over samples)\n",
    "# Generate several samples of length 256 from each signal using start shift 8\n",
    "\n",
    "w = Window(256)\n",
    "N4 = []\n",
    "for i in range(54):\n",
    "    l = Filter(Data.from_data(w, d.make_matrix(256, 8, d.work[i])))\n",
    "    _, noise = l.estimate_noise(limit=64)\n",
    "    N4.append(noise.mean().item())"
   ]
  },
  {
   "cell_type": "code",
   "execution_count": 4,
   "id": "a0406516",
   "metadata": {
    "tags": []
   },
   "outputs": [
    {
     "name": "stdout",
     "output_type": "stream",
     "text": [
      "      16    64    256   \n",
      "0     2     2     2     \n",
      "1     2     2     2     \n",
      "2     2     2     2     \n",
      "3     2     2     2     \n",
      "4     2     2     2     \n",
      "5     2     2     2     \n",
      "6     2     2     4     \n",
      "7     2     2     2     \n",
      "8     2     2     2     \n",
      "9     2     2     4     \n",
      "10    2     2     6     \n",
      "11    2     2     2     \n",
      "12    2     2     2     \n",
      "13    2     2     2     \n",
      "14    2     2     2     \n",
      "15    2     2     4     \n",
      "16    2     2     2     \n",
      "17    2     2     2     \n",
      "18    2     2     2     \n",
      "19    2     2     2     \n",
      "20    2     2     2     \n",
      "21    2     2     2     \n",
      "22    2     2     4     \n",
      "23    2     2     2     \n",
      "24    2     2     2     \n",
      "25    2     2     2     \n",
      "26    2     2     4     \n",
      "27    2     2     2     \n",
      "28    2     2     2     \n",
      "29    2     2     2     \n",
      "30    2     2     2     \n",
      "31    2     2     2     \n",
      "32    2     2     2     \n",
      "33    2     2     2     \n",
      "34    2     2     2     \n",
      "35    2     2     2     \n",
      "36    2     2     2     \n",
      "37    2     2     3     \n",
      "38    2     2     2     \n",
      "39    2     2     2     \n",
      "40    2     2     2     \n",
      "41    2     2     2     \n",
      "42    2     2     2     \n",
      "43    2     2     4     \n",
      "44    2     2     2     \n",
      "45    2     2     4     \n",
      "46    2     2     2     \n",
      "47    2     2     2     \n",
      "48    2     2     4     \n",
      "49    2     2     2     \n",
      "50    2     2     4     \n",
      "51    2     2     2     \n",
      "52    2     2     2     \n",
      "53    2     2     2     \n"
     ]
    }
   ],
   "source": [
    "# Compare estimated ranks (note, expected rank is two)\n",
    "\n",
    "fmt = 4 * '{:<6}'\n",
    "print(fmt.format(\"\", 16, 64, 256))\n",
    "for i, (r1, r2, r3) in enumerate(zip(R1.cpu(), R2.cpu(), R3.cpu())):\n",
    "    print(fmt.format(i, r1, r2, r3))\n",
    "    \n",
    "# Note, depending on particular noise parameters, results might be different\n",
    "# In general, rank tends to be overestimated if large number of columns is used"
   ]
  },
  {
   "cell_type": "code",
   "execution_count": 5,
   "id": "692b3144",
   "metadata": {
    "tags": []
   },
   "outputs": [
    {
     "name": "stdout",
     "output_type": "stream",
     "text": [
      "                16              64              256             ave             \n",
      "0               0.47915342      0.087528867     2.1934142       0.71365566      \n",
      "1               0.21271002      0.67294424      4.5367995       4.0219207       \n",
      "2               3.7308667       3.5381534       3.3122365       1.5839669       \n",
      "3               1.5410874       1.3820448       1.233048        0.89719118      \n",
      "4               7.0971699       9.3571224       4.890757        4.5119573       \n",
      "5               4.9144752       1.3800607       0.19875482      1.8737109       \n",
      "6               6.3002811       4.7454327       2.741734        3.3772403       \n",
      "7               4.0226756       3.3180798       5.9484788       2.0517828       \n",
      "8               2.2580804       3.8625357       0.37736794      1.1753411       \n",
      "9               4.5425113       4.9968058       0.1804213       3.3970867       \n",
      "10              0.41171987      2.7105226       6.8927274       4.4698958       \n",
      "11              0.61291344      0.19337294      3.0275079       0.19187734      \n",
      "12              1.842707        2.8403223       0.55424822      2.3225437       \n",
      "13              3.6029626       1.4959147       0.47462288      0.10612598      \n",
      "14              3.0024267       1.972225        0.38427088      0.87879776      \n",
      "15              0.64280278      0.18670974      2.9834412       0.66277448      \n",
      "16              0.39167745      0.65122544      7.2501881       0.15947968      \n",
      "17              3.3141044       4.5550805       6.0464546       3.7111672       \n",
      "18              0.091927128     1.7435604       1.6260036       2.6357375       \n",
      "19              1.0383444       0.45240855      2.6368068       4.6715959       \n",
      "20              3.0601753       0.88855251      1.5035164       1.6100798       \n",
      "21              1.3635181       3.1361755       3.1882927       1.7218395       \n",
      "22              0.35180487      0.3351285       0.15847691      1.1186793       \n",
      "23              3.0836725       1.6924539       2.4692525       0.81187862      \n",
      "24              8.2591218       8.0770719       7.2397126       4.9631947       \n",
      "25              7.0233606       3.4000187       5.2968288       6.7961163       \n",
      "26              1.1877189       2.1747366       0.55682995      1.7039187       \n",
      "27              0.14374508      1.6500252       4.0668742       2.8848515       \n",
      "28              7.8011584       9.9250092       7.1407326       6.3902933       \n",
      "29              1.8201357       7.4888676       7.0162161       4.1664333       \n",
      "30              1.0367926       2.4022343       0.77774614      0.76735099      \n",
      "31              2.4497613       1.8406803       3.3643941       1.4525441       \n",
      "32              0.46350373      1.7096138       2.083257        5.2077666       \n",
      "33              3.1461222       2.4806109       5.9737722       0.1904882       \n",
      "34              0.52306381      3.1996388       2.0581831       0.93021291      \n",
      "35              4.0897733       3.2243001       0.25108417      1.8319488       \n",
      "36              1.0015324       1.4487328       3.5498498       1.8467824       \n",
      "37              1.061098        6.1611245       2.7177152       2.6732939       \n",
      "38              5.2766031       0.76618711      5.2899936       0.40571252      \n",
      "39              1.0065208       1.0009576       0.58702045      0.54844746      \n",
      "40              2.2337691       1.1234615       1.3462266       0.10917974      \n",
      "41              1.7015558       0.7192918       3.7249461       1.6030074       \n",
      "42              4.2431619       0.97685503      0.75776964      4.8387557       \n",
      "43              6.5031925       5.090703        2.5116947       5.9439445       \n",
      "44              0.47660386      2.1967983       2.4999222       3.121195        \n",
      "45              3.2370461       3.1547332       4.975357        3.4189254       \n",
      "46              4.0715044       5.5514631       7.4455047       3.4587572       \n",
      "47              5.1219294       1.0503258       1.3876811       0.33697908      \n",
      "48              6.5167339       5.6083695       11.392576       6.6617653       \n",
      "49              0.17703137      2.1107987       2.5132687       3.2583532       \n",
      "50              4.4602345       2.6272866       5.3866417       3.9789274       \n",
      "51              1.2580416       2.7407442       8.7700932       4.0324174       \n",
      "52              4.8439546       7.8261418       6.7130742       5.2019379       \n",
      "53              0.62556469      5.5567244       1.2090649       1.2951864       \n"
     ]
    }
   ],
   "source": [
    "# Compare estimated noise\n",
    "\n",
    "fmt = 5 * '{:<16}'\n",
    "print(fmt.format(\"\", 16, 64, 256, \"ave\"))\n",
    "fmt = '{:<16}' + 4 * '{:<16.8}'\n",
    "for i, (n0, n1, n2, n3, n4) in enumerate(zip(s.cpu(), N1.cpu(), N2.cpu(), N3.cpu(), N4)):\n",
    "    print(fmt.format(i, 100*abs(n1-n0)/n0, 100*abs(n2-n0)/n0, 100*abs(n3-n0)/n0, 100*abs(n4-n0)/n0))\n",
    "    \n",
    "# Note, for noise sigma estimation, approximate expression is used\n",
    "# In this example, noise estimation accuracy is better than 10%\n",
    "# Using larger number of columns or averaging over samples do not affect estimation accuracy significantly (but better on average in both cases)"
   ]
  },
  {
   "cell_type": "code",
   "execution_count": 6,
   "id": "5d553873-8c8c-424d-b7fe-d39a8fdcc956",
   "metadata": {
    "tags": []
   },
   "outputs": [
    {
     "name": "stdout",
     "output_type": "stream",
     "text": [
      "tensor(7.463131383647e-06, dtype=torch.float64)\n",
      "tensor(8.629995807026e-06, dtype=torch.float64)\n"
     ]
    }
   ],
   "source": [
    "# Estimate noise using randomized SVD\n",
    "\n",
    "l = Filter(d)\n",
    "r1, s1 = l.estimate_noise(limit=32)\n",
    "r2, s2 = l.estimate_noise(limit=512, randomized=True)\n",
    "\n",
    "print((s1 - s).abs().max())\n",
    "print((s2 - s).abs().max())"
   ]
  },
  {
   "cell_type": "markdown",
   "id": "abc46d5e",
   "metadata": {
    "heading_collapsed": true,
    "tags": []
   },
   "source": [
    "# Example-05: RPCA"
   ]
  },
  {
   "cell_type": "code",
   "execution_count": 1,
   "id": "c5ea8c0d-9c45-472b-a6b5-f9cc354f9577",
   "metadata": {
    "tags": []
   },
   "outputs": [
    {
     "name": "stdout",
     "output_type": "stream",
     "text": [
      "True\n"
     ]
    }
   ],
   "source": [
    "# Import\n",
    "\n",
    "import numpy\n",
    "import torch\n",
    "\n",
    "import sys\n",
    "sys.path.append('..')\n",
    "\n",
    "from harmonica.util import data_load\n",
    "from harmonica.window import Window\n",
    "from harmonica.data import Data\n",
    "from harmonica.frequency import Frequency\n",
    "from harmonica.filter import Filter\n",
    "\n",
    "import matplotlib.pyplot as plt\n",
    "\n",
    "torch.set_printoptions(precision=12, sci_mode=True)\n",
    "print(torch.cuda.is_available())"
   ]
  },
  {
   "cell_type": "code",
   "execution_count": 2,
   "id": "04c9c7df-4b42-439a-9bef-73e4da5763f4",
   "metadata": {
    "tags": []
   },
   "outputs": [],
   "source": [
    "# Set data type and device\n",
    "\n",
    "dtype = torch.float64\n",
    "device = torch.device('cpu')"
   ]
  },
  {
   "cell_type": "code",
   "execution_count": 3,
   "id": "2cdb6605",
   "metadata": {
    "hidden": true,
    "tags": []
   },
   "outputs": [
    {
     "name": "stdout",
     "output_type": "stream",
     "text": [
      "(100, 120)\n",
      "[[10. 10. 10. ... 30. 30. 30.]\n",
      " [10. 10. 10. ... 30. 30. 30.]\n",
      " [10. 10. 10. ... 30. 30. 30.]\n",
      " ...\n",
      " [10. 10. 10. ... 30. 30. 30.]\n",
      " [10. 10. 10. ... 30. 30. 30.]\n",
      " [10. 10. 10. ... 30. 30. 30.]]\n",
      "tensor(1)\n",
      "(100, 120)\n",
      "[[10. 10. 10. ... 30. 30. 30.]\n",
      " [10. 10. 10. ...  0. 30. 30.]\n",
      " [10. 10. 10. ... 30. 30. 30.]\n",
      " ...\n",
      " [10. 10. 10. ... 30. 30. 30.]\n",
      " [10. 10. 10. ... 30. 30. 30.]\n",
      " [10. 10. 10. ... 30. 30. 30.]]\n",
      "tensor(100)\n",
      "296\n",
      "tensor(1.527428311139e-09, dtype=torch.float64)\n",
      "tensor(1)\n",
      "[[10. 10. 10. ... 30. 30. 30.]\n",
      " [10. 10. 10. ... 30. 30. 30.]\n",
      " [10. 10. 10. ... 30. 30. 30.]\n",
      " ...\n",
      " [10. 10. 10. ... 30. 30. 30.]\n",
      " [10. 10. 10. ... 30. 30. 30.]\n",
      " [10. 10. 10. ... 30. 30. 30.]]\n",
      "1.609272715086263e-10\n"
     ]
    }
   ],
   "source": [
    "# https://arxiv.org/abs/0912.3599\n",
    "# RPCA can be performed with rpca classmethod\n",
    "# Single matrix should be passed on input (this can be a full TbT matrix or a Hankel matrix of a signal)\n",
    "\n",
    "# Separate 'grained' noise using RPCA\n",
    "\n",
    "# Generate original low rank matrix\n",
    "\n",
    "n = 100\n",
    "k = 3\n",
    "m = 40\n",
    "X = numpy.hstack([numpy.ones((n, m)) * (i + 1) * 10 for i in range(k)])\n",
    "print(X.shape)\n",
    "print(X)\n",
    "print(torch.linalg.matrix_rank(torch.tensor(X)))\n",
    "\n",
    "# Generate matrix with missing values (change fraction of missing values to observe convergence)\n",
    "\n",
    "Y = numpy.copy(X)\n",
    "Y[numpy.random.rand(*Y.shape) < 0.1] = 0.0\n",
    "print(Y.shape)\n",
    "print(Y)\n",
    "print(torch.linalg.matrix_rank(torch.tensor(Y)))\n",
    "\n",
    "# Perform RPCA (change the number of iterations and/or the tolerance factor to observe convergence)\n",
    "\n",
    "count, error, L, S = Filter.rpca(torch.tensor(Y, dtype=dtype, device=device), limit=8912, factor=1.0E-12, cpu=True)\n",
    "\n",
    "# Number of iterations and final error\n",
    "\n",
    "print(count)\n",
    "print(error)\n",
    "\n",
    "# 'Cleaned' matrix rank\n",
    "\n",
    "print(torch.linalg.matrix_rank(L))\n",
    "print(L.cpu().numpy())\n",
    "\n",
    "# Maximum element-wise error\n",
    "\n",
    "print(numpy.max(numpy.abs((X - L.cpu().numpy()))))"
   ]
  },
  {
   "cell_type": "code",
   "execution_count": 4,
   "id": "80ecb475-305f-4f49-852b-47ed22efec00",
   "metadata": {
    "tags": []
   },
   "outputs": [
    {
     "data": {
      "image/png": "[encoded data removed]",
      "text/plain": [
       "<Figure size 2400x2400 with 3 Axes>"
      ]
     },
     "metadata": {},
     "output_type": "display_data"
    }
   ],
   "source": [
    "# Plot matrices\n",
    "\n",
    "plt.figure(figsize=(3*8, 3*8))\n",
    "ax = plt.subplot(331)\n",
    "ax.imshow(X)\n",
    "ax = plt.subplot(332)\n",
    "ax.imshow(Y)\n",
    "ax = plt.subplot(333)\n",
    "ax.imshow(L)\n",
    "plt.show()"
   ]
  },
  {
   "cell_type": "markdown",
   "id": "e70727d5",
   "metadata": {
    "heading_collapsed": true,
    "tags": []
   },
   "source": [
    "# Example-06: TbT filtering (SVD & Hankel & RPCA)"
   ]
  },
  {
   "cell_type": "code",
   "execution_count": 1,
   "id": "be23f074-d379-4b2d-92a8-d6c7ba9bff80",
   "metadata": {
    "tags": []
   },
   "outputs": [
    {
     "name": "stdout",
     "output_type": "stream",
     "text": [
      "True\n"
     ]
    }
   ],
   "source": [
    "# Import\n",
    "\n",
    "import numpy\n",
    "import torch\n",
    "\n",
    "import sys\n",
    "sys.path.append('..')\n",
    "\n",
    "from harmonica.util import data_load\n",
    "from harmonica.window import Window\n",
    "from harmonica.data import Data\n",
    "from harmonica.frequency import Frequency\n",
    "from harmonica.filter import Filter\n",
    "\n",
    "import matplotlib.pyplot as plt\n",
    "\n",
    "torch.set_printoptions(precision=12, sci_mode=True)\n",
    "print(torch.cuda.is_available())"
   ]
  },
  {
   "cell_type": "code",
   "execution_count": 2,
   "id": "ee90d650-78bf-437a-8a8a-dfa712a145e5",
   "metadata": {
    "tags": []
   },
   "outputs": [],
   "source": [
    "# Set data type and device\n",
    "\n",
    "dtype = torch.float64\n",
    "device = torch.device('cpu')"
   ]
  },
  {
   "cell_type": "code",
   "execution_count": 3,
   "id": "4dd6eaa6",
   "metadata": {
    "hidden": true,
    "tags": []
   },
   "outputs": [],
   "source": [
    "# In this example frequency uncertanty is compared for different TbT filtering"
   ]
  },
  {
   "cell_type": "code",
   "execution_count": 4,
   "id": "e73bfbed-e357-4ed6-977b-bbdc03ef8e27",
   "metadata": {
    "tags": []
   },
   "outputs": [
    {
     "name": "stdout",
     "output_type": "stream",
     "text": [
      "0.463116901262685\n"
     ]
    }
   ],
   "source": [
    "# Compute reference frequency for test TbT data\n",
    "\n",
    "# Load TbT\n",
    "\n",
    "length = 4096\n",
    "\n",
    "w = Window(length, 'cosine_window', 2.0, dtype=dtype, device=device)\n",
    "d = Data.from_file(54, w, '../virtual_tbt.npy', dtype=dtype, device=device)\n",
    "\n",
    "# Compute reference frequency\n",
    "\n",
    "d.window_remove_mean()\n",
    "d.window_apply()\n",
    "f = Frequency(d)\n",
    "f('parabola')\n",
    "d.reset()\n",
    "ref = f.frequency.mean().cpu().item()\n",
    "print(ref)"
   ]
  },
  {
   "cell_type": "code",
   "execution_count": 5,
   "id": "9057b783-3123-4397-8d5a-3137b5d50013",
   "metadata": {
    "tags": []
   },
   "outputs": [],
   "source": [
    "# Set parameters\n",
    "\n",
    "length = 1024\n",
    "\n",
    "# Set noise std for each BPM\n",
    "# Note, each BPM has a different value of noise sigma\n",
    "\n",
    "s = 1.0E-4*torch.rand(54, dtype=dtype, device=device)\n",
    "\n",
    "# Test TbT data with random noise\n",
    "\n",
    "w = Window(length, 'cosine_window', 1.0, dtype=dtype, device=device)\n",
    "d = Data.from_file(54, w, '../virtual_tbt.npy', dtype=dtype, device=device)\n",
    "d.add_noise(s)\n",
    "d.data.copy_(d.work)\n",
    "\n",
    "# Set filter instance\n",
    "\n",
    "l = Filter(d)\n",
    "\n",
    "# Set frequency instance\n",
    "\n",
    "f = Frequency(d)"
   ]
  },
  {
   "cell_type": "code",
   "execution_count": 6,
   "id": "c1d625c0",
   "metadata": {
    "hidden": true,
    "tags": []
   },
   "outputs": [
    {
     "name": "stdout",
     "output_type": "stream",
     "text": [
      "9.636715942325775\n"
     ]
    }
   ],
   "source": [
    "# Estimate noise (optimal SVD truncation)\n",
    "\n",
    "_, n = l.estimate_noise(limit=64, cpu=True)\n",
    "\n",
    "# Maximum noise estimation error\n",
    "\n",
    "print(torch.max(100*torch.abs(n - s)/s).cpu().item())"
   ]
  },
  {
   "cell_type": "code",
   "execution_count": 7,
   "id": "c083d02f",
   "metadata": {
    "hidden": true,
    "tags": []
   },
   "outputs": [
    {
     "name": "stdout",
     "output_type": "stream",
     "text": [
      "error: 1.16102183e-09   spread: 5.49676784e-07   case: raw data without window\n",
      "error: 6.30374602e-08   spread: 8.9200318e-07    case: raw data with window\n"
     ]
    }
   ],
   "source": [
    "# Compute frequencies without filtering\n",
    "\n",
    "# Note, since error is random, i.e. deviation of mean from the reference\n",
    "# The result should be judged mostly by frequency spread (assuming bias can be neglected)\n",
    "# Depending on the noise level, windowing might (and in general does) increase spread\n",
    "\n",
    "f = Frequency(d)\n",
    "\n",
    "# Without window\n",
    "\n",
    "f('parabola')\n",
    "m, s = f.frequency.mean().cpu().item(), f.frequency.std().cpu().item()\n",
    "print(f'error: {abs(ref - m):<16.9} spread: {s:<16.9} case: raw data without window')\n",
    "\n",
    "# With window\n",
    "# Note, in general, window will increase frequency spread, but reduce bias\n",
    "\n",
    "d.window_remove_mean()\n",
    "d.window_apply()\n",
    "f('parabola')\n",
    "d.reset()\n",
    "m, s = f.frequency.mean().cpu().item(), f.frequency.std().cpu().item()\n",
    "print(f'error: {abs(ref - m):<16.9} spread: {s:<16.9} case: raw data with window')"
   ]
  },
  {
   "cell_type": "code",
   "execution_count": 8,
   "id": "26563735-c241-4d85-b1ef-703b748c3f28",
   "metadata": {
    "tags": []
   },
   "outputs": [
    {
     "name": "stdout",
     "output_type": "stream",
     "text": [
      "error: 2.09490148e-08   spread: 3.27909693e-07   case: SVD filtering without window\n",
      "error: 7.96122089e-08   spread: 5.58779644e-07   case: SVD filtering with window\n"
     ]
    }
   ],
   "source": [
    "# Perform SVD filtering (full TbT)\n",
    "# Note, filter modifies work container\n",
    "\n",
    "d.reset()\n",
    "l.filter_svd(rank=8, cpu=True)\n",
    "\n",
    "# Compute frequencies with SVD filtering\n",
    "\n",
    "# Without window\n",
    "# Note, frequency spread is generaly reduced by SVD filtering\n",
    "\n",
    "f('parabola')\n",
    "m, s = f.frequency.mean().cpu().item(), f.frequency.std().cpu().item()\n",
    "print(f'error: {abs(ref - m):<16.9} spread: {s:<16.9} case: SVD filtering without window')\n",
    "\n",
    "# With window\n",
    "# Note, filtering allows application of window without harmful effect on frequency spread\n",
    "# In some cases frequency spread is further reduced\n",
    "\n",
    "d.window_remove_mean()\n",
    "d.window_apply()\n",
    "f('parabola')\n",
    "m, s = f.frequency.mean().cpu().item(), f.frequency.std().cpu().item()\n",
    "print(f'error: {abs(ref - m):<16.9} spread: {s:<16.9} case: SVD filtering with window')"
   ]
  },
  {
   "cell_type": "code",
   "execution_count": 9,
   "id": "d2ce85fd-d525-4d9f-a224-667fd5cfa9ca",
   "metadata": {
    "tags": []
   },
   "outputs": [
    {
     "name": "stdout",
     "output_type": "stream",
     "text": [
      "error: 4.44044681e-08   spread: 7.32287939e-07   case: Hankel filtering without window\n",
      "error: 4.9462552e-08    spread: 7.5850303e-07    case: Hankel filtering with window\n"
     ]
    }
   ],
   "source": [
    "# Perform Hankel filtering\n",
    "# Note, when applied to raw TbT, Hankel filtering performs worse than SVD\n",
    "\n",
    "d.reset()\n",
    "l.filter_hankel(rank=8, cpu=True, random=True, buffer=8, count=8)\n",
    "\n",
    "# Compute frequencies with Hankel filtering\n",
    "\n",
    "# Without window\n",
    "f('parabola')\n",
    "m, s = f.frequency.mean().cpu().item(), f.frequency.std().cpu().item()\n",
    "print(f'error: {abs(ref - m):<16.9} spread: {s:<16.9} case: Hankel filtering without window')\n",
    "\n",
    "# With window\n",
    "d.window_remove_mean()\n",
    "d.window_apply()\n",
    "f('parabola')\n",
    "m, s = f.frequency.mean().cpu().item(), f.frequency.std().cpu().item()\n",
    "print(f'error: {abs(ref - m):<16.9} spread: {s:<16.9} case: Hankel filtering with window')"
   ]
  },
  {
   "cell_type": "code",
   "execution_count": 10,
   "id": "9605e236-6a36-4a64-a474-bc19b1c4f643",
   "metadata": {
    "tags": []
   },
   "outputs": [
    {
     "name": "stdout",
     "output_type": "stream",
     "text": [
      "error: 4.18300841e-08   spread: 4.63847399e-07   case: SVD & Hankel filtering without window\n",
      "error: 5.19099748e-08   spread: 4.56815949e-07   case: SVD & Hankel filtering with window\n"
     ]
    }
   ],
   "source": [
    "# Perform SVD & Hankel filtering\n",
    "# If Hankel filtering is applied after SVD, the frequency spread is further slightly reduced on average\n",
    "\n",
    "d.reset()\n",
    "l.filter_svd(rank=8, cpu=True)\n",
    "l.filter_hankel(rank=8, cpu=True, random=True, buffer=8, count=8)\n",
    "\n",
    "# Compute frequencies with Hankel filtering\n",
    "\n",
    "# Without window\n",
    "\n",
    "f('parabola')\n",
    "m, s = f.frequency.mean().cpu().item(), f.frequency.std().cpu().item()\n",
    "print(f'error: {abs(ref - m):<16.9} spread: {s:<16.9} case: SVD & Hankel filtering without window')\n",
    "\n",
    "# With window\n",
    "\n",
    "d.window_remove_mean()\n",
    "d.window_apply()\n",
    "f('parabola')\n",
    "m, s = f.frequency.mean().cpu().item(), f.frequency.std().cpu().item()\n",
    "print(f'error: {abs(ref - m):<16.9} spread: {s:<16.9} case: SVD & Hankel filtering with window')"
   ]
  },
  {
   "cell_type": "code",
   "execution_count": 11,
   "id": "663093fb-8f86-4b5d-9d7f-7468effbb031",
   "metadata": {
    "tags": []
   },
   "outputs": [
    {
     "name": "stdout",
     "output_type": "stream",
     "text": [
      "error: 7.43332906e-08   spread: 3.34987187e-07   case: RPCA filtering without window\n",
      "error: 2.26745318e-08   spread: 3.92151024e-07   case: RPCA filtering with window\n"
     ]
    }
   ],
   "source": [
    "# Perform RPCA filtering\n",
    "# Note, RPCA is not perfect for normal noise, large number of iterations is required in this case\n",
    "\n",
    "d.reset()\n",
    "l.filter_rpca(limit=2**10, factor=1.0E-15, cpu=True)\n",
    "\n",
    "# Without window\n",
    "\n",
    "f('parabola')\n",
    "m, s = f.frequency.mean().cpu().item(), f.frequency.std().cpu().item()\n",
    "print(f'error: {abs(ref - m):<16.9} spread: {s:<16.9} case: RPCA filtering without window')\n",
    "\n",
    "# With window\n",
    "\n",
    "d.window_remove_mean()\n",
    "d.window_apply()\n",
    "f('parabola')\n",
    "m, s = f.frequency.mean().cpu().item(), f.frequency.std().cpu().item()\n",
    "print(f'error: {abs(ref - m):<16.9} spread: {s:<16.9} case: RPCA filtering with window')"
   ]
  },
  {
   "cell_type": "markdown",
   "id": "d51828c3",
   "metadata": {
    "tags": []
   },
   "source": [
    "# Example-07: Effect of filtering on parameter uncertainties"
   ]
  },
  {
   "cell_type": "code",
   "execution_count": 1,
   "id": "c5297c99-83f4-49b7-ac76-519d1ada6125",
   "metadata": {
    "tags": []
   },
   "outputs": [
    {
     "name": "stdout",
     "output_type": "stream",
     "text": [
      "True\n"
     ]
    }
   ],
   "source": [
    "# Import\n",
    "\n",
    "import numpy\n",
    "import torch\n",
    "\n",
    "import sys\n",
    "sys.path.append('..')\n",
    "\n",
    "from harmonica.util import data_load\n",
    "from harmonica.window import Window\n",
    "from harmonica.data import Data\n",
    "from harmonica.frequency import Frequency\n",
    "from harmonica.filter import Filter\n",
    "\n",
    "import matplotlib.pyplot as plt\n",
    "\n",
    "torch.set_printoptions(precision=12, sci_mode=True)\n",
    "print(torch.cuda.is_available())"
   ]
  },
  {
   "cell_type": "code",
   "execution_count": 2,
   "id": "f90f957f-127f-41f6-adcf-f4c464a40cda",
   "metadata": {
    "tags": []
   },
   "outputs": [],
   "source": [
    "# Set data type and device\n",
    "\n",
    "dtype = torch.float64\n",
    "device = torch.device('cpu')"
   ]
  },
  {
   "cell_type": "code",
   "execution_count": 3,
   "id": "f8430c11-4979-4e37-8444-452f9fcf346d",
   "metadata": {
    "tags": []
   },
   "outputs": [
    {
     "name": "stdout",
     "output_type": "stream",
     "text": [
      "frequency: error=1.26410024892e-07, spread=3.81814912263e-06\n",
      "amplitude: error=0.000512163724977, spread=0.0056016475787 \n"
     ]
    }
   ],
   "source": [
    "# Estimate frequency and amplitude uncertainty from multiple realizations\n",
    "\n",
    "# Set parameters\n",
    "\n",
    "length = 1024\n",
    "\n",
    "# Set signal\n",
    "\n",
    "t = torch.linspace(1, length, length, dtype=dtype, device=device)\n",
    "s = 0.10\n",
    "x = 1.0*torch.cos(2.0*numpy.pi*0.12345*t) + 0.1*torch.cos(2.0*numpy.pi*2.0*0.12345*t)\n",
    "\n",
    "# Set TbT (signal copies with different noise realizations)\n",
    "\n",
    "w = Window.from_cosine(length, 1.0, dtype=dtype, device=device)\n",
    "d = torch.stack([x + s*torch.randn(length, dtype=dtype, device=device) for _ in range(256)])\n",
    "d = Data.from_data(w, d)\n",
    "\n",
    "# Estimate frequency\n",
    "\n",
    "d.window_remove_mean()\n",
    "d.window_apply()\n",
    "f = Frequency(d)\n",
    "f('parabola')\n",
    "m_f, s_f = f.frequency.mean().cpu().item(), f.frequency.std().cpu().item()\n",
    "print(f'frequency: error={abs(0.12345 - m_f):<16.12}, spread={s_f:<16.12}')\n",
    "d.reset()\n",
    "\n",
    "# Estimate amplitude\n",
    "\n",
    "c = 2.0/w.total*torch.sum(torch.cos(2.0*numpy.pi*m_f*t)*d.work*w.window, 1)\n",
    "s = 2.0/w.total*torch.sum(torch.sin(2.0*numpy.pi*m_f*t)*d.work*w.window, 1)\n",
    "a = torch.sqrt(c*c + s*s)\n",
    "m_a, s_a = a.mean().cpu().item(), a.std().cpu().item()\n",
    "print(f'amplitude: error={abs(1.0 - m_a):<16.12}, spread={s_a:<16.12}')\n",
    "d.reset()"
   ]
  },
  {
   "cell_type": "code",
   "execution_count": 4,
   "id": "b7e9da5c-c01e-4603-8dd5-3218c7a4ea2f",
   "metadata": {
    "tags": []
   },
   "outputs": [
    {
     "name": "stdout",
     "output_type": "stream",
     "text": [
      "min: 4\n",
      "max: 4\n",
      "std: 0.1026412609859475\n"
     ]
    }
   ],
   "source": [
    "# Estimate rank/noise\n",
    "\n",
    "l = Filter(d)\n",
    "rank, noise = l.estimate_noise(limit=16, cpu=True)\n",
    "print(f'min: {rank.min().cpu().item()}')\n",
    "print(f'max: {rank.max().cpu().item()}')\n",
    "print(f'std: {noise.mean().cpu().item()}')"
   ]
  },
  {
   "cell_type": "code",
   "execution_count": 5,
   "id": "b43bddf1-5c79-4d13-bcb2-2283da6a67e6",
   "metadata": {
    "tags": []
   },
   "outputs": [
    {
     "name": "stdout",
     "output_type": "stream",
     "text": [
      "frequency: error=1.25510749571e-07, spread=8.76861530316e-07\n",
      "amplitude: error=0.000498240398673, spread=0.00457096556083\n"
     ]
    }
   ],
   "source": [
    "# SVD\n",
    "\n",
    "# Estimate frequency\n",
    "\n",
    "l.filter_svd(rank=8, random=False, cpu=True)\n",
    "d.window_remove_mean()\n",
    "d.window_apply()\n",
    "f = Frequency(d)\n",
    "f('parabola')\n",
    "m_f, s_f = f.frequency.mean().cpu().item(), f.frequency.std().cpu().item()\n",
    "print(f'frequency: error={abs(0.12345 - m_f):<16.12}, spread={s_f:<16.12}')\n",
    "d.reset()\n",
    "\n",
    "# Estimate amplitude\n",
    "\n",
    "l.filter_svd(rank=8, random=False, cpu=True)\n",
    "c = 2.0/w.total*torch.sum(torch.cos(2.0*numpy.pi*m_f*t)*d.work*w.window, 1)\n",
    "s = 2.0/w.total*torch.sum(torch.sin(2.0*numpy.pi*m_f*t)*d.work*w.window, 1)\n",
    "a = torch.sqrt(c*c + s*s)\n",
    "m_a, s_a = a.mean().cpu().item(), a.std().cpu().item()\n",
    "print(f'amplitude: error={abs(1.0 - m_a):<16.12}, spread={s_a:<16.12}')\n",
    "d.reset()"
   ]
  },
  {
   "cell_type": "code",
   "execution_count": 6,
   "id": "964c0d18-4b75-441f-b830-10fbef0b2fca",
   "metadata": {
    "tags": []
   },
   "outputs": [
    {
     "name": "stdout",
     "output_type": "stream",
     "text": [
      "frequency: error=8.56949437245e-08, spread=7.21431650161e-07\n",
      "amplitude: error=0.000500307694795, spread=0.00452734702972\n"
     ]
    }
   ],
   "source": [
    "# SVD & Hankel\n",
    "\n",
    "# Estimate frequency\n",
    "\n",
    "l.filter_svd(rank=8, random=False, cpu=True)\n",
    "l.filter_hankel(rank=8, random=True, buffer=8, count=8, cpu=True)\n",
    "d.window_remove_mean()\n",
    "d.window_apply()\n",
    "f = Frequency(d)\n",
    "f('parabola')\n",
    "m_f, s_f = f.frequency.mean().cpu().item(), f.frequency.std().cpu().item()\n",
    "print(f'frequency: error={abs(0.12345 - m_f):<16.12}, spread={s_f:<16.12}')\n",
    "d.reset()\n",
    "\n",
    "# Estimate amplitude\n",
    "\n",
    "l.filter_svd(rank=8, random=False, cpu=True)\n",
    "l.filter_hankel(rank=8, random=True, buffer=8, count=8, cpu=True)\n",
    "c = 2.0/w.total*torch.sum(torch.cos(2.0*numpy.pi*m_f*t)*d.work*w.window, 1)\n",
    "s = 2.0/w.total*torch.sum(torch.sin(2.0*numpy.pi*m_f*t)*d.work*w.window, 1)\n",
    "a = torch.sqrt(c*c + s*s)\n",
    "m_a, s_a = a.mean().cpu().item(), a.std().cpu().item()\n",
    "print(f'amplitude: error={abs(1.0 - m_a):<16.12}, spread={s_a:<16.12}')\n",
    "d.reset()"
   ]
  },
  {
   "cell_type": "code",
   "execution_count": 7,
   "id": "b847df00-6629-4572-8817-913860153871",
   "metadata": {
    "tags": []
   },
   "outputs": [
    {
     "name": "stdout",
     "output_type": "stream",
     "text": [
      "frequency: error=2.58301275063e-07, spread=1.38231254689e-06\n",
      "amplitude: error=0.00760342753129, spread=0.00506863357094\n"
     ]
    }
   ],
   "source": [
    "# RPCA\n",
    "\n",
    "# Estimate frequency\n",
    "\n",
    "l.filter_rpca(limit=4096, factor=1.0E-12, cpu=True)\n",
    "d.window_remove_mean()\n",
    "d.window_apply()\n",
    "f = Frequency(d)\n",
    "f('parabola')\n",
    "m_f, s_f = f.frequency.mean().cpu().item(), f.frequency.std().cpu().item()\n",
    "print(f'frequency: error={abs(0.12345 - m_f):<16.12}, spread={s_f:<16.12}')\n",
    "d.reset()\n",
    "\n",
    "# Estimate amplitude\n",
    "\n",
    "l.filter_rpca(limit=4096, factor=1.E-12, cpu=True)\n",
    "c = 2.0/w.total*torch.sum(torch.cos(2.0*numpy.pi*m_f*t)*d.work*w.window, 1)\n",
    "s = 2.0/w.total*torch.sum(torch.sin(2.0*numpy.pi*m_f*t)*d.work*w.window, 1)\n",
    "a = torch.sqrt(c*c + s*s)\n",
    "m_a, s_a = a.mean().cpu().item(), a.std().cpu().item()\n",
    "print(f'amplitude: error={abs(1.0 - m_a):<16.12}, spread={s_a:<16.12}')\n",
    "d.reset()"
   ]
  },
  {
   "cell_type": "markdown",
   "id": "45947b13-4f0c-4786-9abd-72b46fd97872",
   "metadata": {
    "tags": []
   },
   "source": [
    "# Example-08: Mixed Hankel matrix"
   ]
  },
  {
   "cell_type": "code",
   "execution_count": 1,
   "id": "0be2151e-4854-4a16-9d0b-3a971209480a",
   "metadata": {
    "tags": []
   },
   "outputs": [
    {
     "name": "stdout",
     "output_type": "stream",
     "text": [
      "True\n"
     ]
    }
   ],
   "source": [
    "# Import\n",
    "\n",
    "import numpy\n",
    "import torch\n",
    "\n",
    "import sys\n",
    "sys.path.append('..')\n",
    "\n",
    "from harmonica.util import data_load\n",
    "from harmonica.window import Window\n",
    "from harmonica.data import Data\n",
    "from harmonica.frequency import Frequency\n",
    "from harmonica.filter import Filter\n",
    "\n",
    "import matplotlib.pyplot as plt\n",
    "\n",
    "torch.set_printoptions(precision=12, sci_mode=True)\n",
    "print(torch.cuda.is_available())"
   ]
  },
  {
   "cell_type": "code",
   "execution_count": 2,
   "id": "c0cbe986-476a-4547-9ba3-8828520e88ce",
   "metadata": {
    "tags": []
   },
   "outputs": [],
   "source": [
    "# Set data type and device\n",
    "\n",
    "dtype = torch.float64\n",
    "device = torch.device('cpu')"
   ]
  },
  {
   "cell_type": "code",
   "execution_count": 3,
   "id": "d42e945d-7ce3-4f57-ac68-0ef541de8caa",
   "metadata": {
    "tags": []
   },
   "outputs": [
    {
     "data": {
      "image/png": "[encoded data removed]",
      "text/plain": [
       "<Figure size 2000x300 with 1 Axes>"
      ]
     },
     "metadata": {},
     "output_type": "display_data"
    }
   ],
   "source": [
    "# Set parameters\n",
    "\n",
    "length = 256\n",
    "\n",
    "# Set noise std for each BPM\n",
    "\n",
    "s = 1.0E-4*(4.0*torch.rand(54, dtype=dtype, device=device) + 1.0)\n",
    "\n",
    "# Test TbT data with random noise\n",
    "\n",
    "w = Window(length, 'cosine_window', 1.0, dtype=dtype, device=device)\n",
    "d = Data.from_file(54, w, '../virtual_tbt.npy')\n",
    "d.add_noise(s)\n",
    "d.window_remove_mean()\n",
    "d.normalize()\n",
    "\n",
    "# Mixed Hankel matrix\n",
    "\n",
    "signal = d.make_signal(length, d.work)\n",
    "matrix = d.make_matrix(8192, 1, signal)\n",
    "\n",
    "# Compute singular values\n",
    "\n",
    "out = Filter.svd_list_randomized(rank=4*54, matrix=torch.stack([matrix]), buffer=8, count=8, cpu=True).flatten()\n",
    "plt.figure(figsize=(20, 3))\n",
    "plt.scatter(range(4*54), out.cpu(), c='red')\n",
    "plt.show()"
   ]
  },
  {
   "cell_type": "code",
   "execution_count": 4,
   "id": "83cd8264-0819-4ee5-b7ab-20ad0a6a9b65",
   "metadata": {
    "tags": []
   },
   "outputs": [
    {
     "name": "stdout",
     "output_type": "stream",
     "text": [
      "108\n",
      "(tensor([116]), tensor([1.922685003252e-01], dtype=torch.float64))\n"
     ]
    }
   ],
   "source": [
    "# Optimal rank is expected to be close to 2*54\n",
    "\n",
    "print(54*2)\n",
    "print(Filter.svd_optimal(torch.stack([matrix])))"
   ]
  },
  {
   "cell_type": "markdown",
   "id": "3a2f22b4-342c-485e-b40a-503088103ae1",
   "metadata": {},
   "source": [
    "# Example-09: Hankel matrix singular values approximation"
   ]
  },
  {
   "cell_type": "code",
   "execution_count": 1,
   "id": "54ff3db4-189a-4ff6-b6e5-1981c7f13afc",
   "metadata": {
    "tags": []
   },
   "outputs": [
    {
     "name": "stdout",
     "output_type": "stream",
     "text": [
      "True\n"
     ]
    }
   ],
   "source": [
    "# Import\n",
    "\n",
    "import numpy\n",
    "import torch\n",
    "\n",
    "import sys\n",
    "sys.path.append('..')\n",
    "\n",
    "from harmonica.util import data_load\n",
    "from harmonica.window import Window\n",
    "from harmonica.data import Data\n",
    "from harmonica.frequency import Frequency\n",
    "from harmonica.filter import Filter\n",
    "\n",
    "import matplotlib.pyplot as plt\n",
    "\n",
    "torch.set_printoptions(precision=12, sci_mode=True)\n",
    "print(torch.cuda.is_available())"
   ]
  },
  {
   "cell_type": "code",
   "execution_count": 2,
   "id": "9e60ded7-58a8-4b9c-bbb8-99a28f6c2214",
   "metadata": {
    "tags": []
   },
   "outputs": [],
   "source": [
    "# Set data type and device\n",
    "\n",
    "dtype = torch.float64\n",
    "device = torch.device('cpu')"
   ]
  },
  {
   "cell_type": "code",
   "execution_count": 3,
   "id": "2cb458e2-6389-4974-b0a2-0c2439363103",
   "metadata": {
    "tags": []
   },
   "outputs": [
    {
     "data": {
      "image/png": "[encoded data removed]",
      "text/plain": [
       "<Figure size 2000x300 with 1 Axes>"
      ]
     },
     "metadata": {},
     "output_type": "display_data"
    }
   ],
   "source": [
    "# Set parameters\n",
    "\n",
    "length = 1024\n",
    "\n",
    "# Set noise std for each BPM\n",
    "\n",
    "s = 1.0E-4*(4.0*torch.rand(54, dtype=dtype, device=device) + 1.0)\n",
    "\n",
    "# Test TbT data with random noise\n",
    "\n",
    "w = Window(length, 'cosine_window', 1.0, dtype=dtype, device=device)\n",
    "d = Data.from_file(54, w, '../virtual_tbt.npy')\n",
    "d.add_noise(s)\n",
    "d.window_remove_mean()\n",
    "d.normalize()\n",
    "\n",
    "# Hankel matrix\n",
    "\n",
    "matrix, *_ = Filter.make_matrix(d.work)\n",
    "\n",
    "# Compute all singular values with full SVD\n",
    "\n",
    "s1 = Filter.svd_list(min(matrix.shape), torch.stack([matrix]))\n",
    "s1, *_ = s1/s1.max()\n",
    "\n",
    "# Compute first 128 singular values with randomized SVD\n",
    "\n",
    "s2 = Filter.svd_list_randomized(128, torch.stack([matrix]), buffer=16, count=16)\n",
    "s2, *_ = s2/s2.max()\n",
    "\n",
    "# Compute 128 singular values with full SVD using first 256 columns\n",
    "\n",
    "s3 = Filter.svd_list(128, torch.stack([matrix[:, :256]]))\n",
    "s3, *_ = s3/s3.max()\n",
    "\n",
    "# Compare singular values\n",
    "\n",
    "plt.figure(figsize=(20, 3))\n",
    "plt.scatter(range(len(s1)), s1.log10_().cpu(), color='black')\n",
    "plt.scatter(range(len(s2)), s2.log10_().cpu(), color='red')\n",
    "plt.scatter(range(len(s3)), s3.log10_().cpu(), color='blue')\n",
    "plt.show()"
   ]
  },
  {
   "cell_type": "markdown",
   "id": "847a3216-7d3d-4997-93c0-f34bb6feef3f",
   "metadata": {},
   "source": [
    "# Example-10: ICA filtering"
   ]
  },
  {
   "cell_type": "code",
   "execution_count": 1,
   "id": "6a651582-bf7b-4c7d-9ac2-a6d7911c096e",
   "metadata": {
    "tags": []
   },
   "outputs": [
    {
     "name": "stdout",
     "output_type": "stream",
     "text": [
      "True\n"
     ]
    }
   ],
   "source": [
    "# Import\n",
    "\n",
    "import numpy\n",
    "import torch\n",
    "\n",
    "import sys\n",
    "sys.path.append('..')\n",
    "\n",
    "from harmonica.util import data_load\n",
    "from harmonica.window import Window\n",
    "from harmonica.data import Data\n",
    "from harmonica.frequency import Frequency\n",
    "from harmonica.filter import Filter\n",
    "\n",
    "import matplotlib.pyplot as plt\n",
    "\n",
    "torch.set_printoptions(precision=12, sci_mode=True)\n",
    "print(torch.cuda.is_available())"
   ]
  },
  {
   "cell_type": "code",
   "execution_count": 2,
   "id": "c5a8344d-1a4a-4b23-835d-8ef3a25fbe1e",
   "metadata": {
    "tags": []
   },
   "outputs": [],
   "source": [
    "# Set data type and device\n",
    "\n",
    "dtype = torch.float64\n",
    "device = torch.device('cpu')"
   ]
  },
  {
   "cell_type": "code",
   "execution_count": 3,
   "id": "d702fdd2-aa4e-45e0-944a-283e68957224",
   "metadata": {
    "tags": []
   },
   "outputs": [
    {
     "name": "stdout",
     "output_type": "stream",
     "text": [
      "0.463116901262685\n"
     ]
    }
   ],
   "source": [
    "# Compute reference frequency for test TbT data\n",
    "\n",
    "# Load TbT\n",
    "\n",
    "length = 4096\n",
    "\n",
    "w = Window(length, 'cosine_window', 2.0, dtype=dtype, device=device)\n",
    "d = Data.from_file(54, w, '../virtual_tbt.npy', dtype=dtype, device=device)\n",
    "\n",
    "# Compute reference frequency\n",
    "\n",
    "d.window_remove_mean()\n",
    "d.window_apply()\n",
    "f = Frequency(d)\n",
    "f('parabola')\n",
    "d.reset()\n",
    "ref = f.frequency.mean().cpu().item()\n",
    "print(ref)"
   ]
  },
  {
   "cell_type": "code",
   "execution_count": 4,
   "id": "756cf004-c44e-4d35-bb44-6785e8d5d733",
   "metadata": {
    "tags": []
   },
   "outputs": [],
   "source": [
    "# Set parameters\n",
    "\n",
    "length = 1024\n",
    "\n",
    "# Set noise std for each BPM\n",
    "# Note, each BPM has a different value of noise sigma\n",
    "\n",
    "s = 1.0E-4*torch.rand(54, dtype=dtype, device=device)\n",
    "\n",
    "# Test TbT data with random noise\n",
    "\n",
    "w = Window(length, 'cosine_window', 1.0, dtype=dtype, device=device)\n",
    "d = Data.from_file(54, w, '../virtual_tbt.npy', dtype=dtype, device=device)\n",
    "d.add_noise(s)\n",
    "d.data.copy_(d.work)\n",
    "\n",
    "# Set filter instance\n",
    "\n",
    "l = Filter(d)\n",
    "\n",
    "# Set frequency instance\n",
    "\n",
    "f = Frequency(d)"
   ]
  },
  {
   "cell_type": "code",
   "execution_count": 5,
   "id": "137cbfad-6b74-434a-ba77-16d07fa6a1ec",
   "metadata": {
    "hidden": true,
    "tags": []
   },
   "outputs": [
    {
     "name": "stdout",
     "output_type": "stream",
     "text": [
      "10.47386737532945\n"
     ]
    }
   ],
   "source": [
    "# Estimate noise (optimal SVD truncation)\n",
    "\n",
    "_, n = l.estimate_noise(limit=64, cpu=True)\n",
    "\n",
    "# Maximum noise estimation error\n",
    "\n",
    "print(torch.max(100*torch.abs(n - s)/s).cpu().item())"
   ]
  },
  {
   "cell_type": "code",
   "execution_count": 6,
   "id": "b6840141-26a4-4ac3-a1e7-177bef4ec249",
   "metadata": {
    "hidden": true,
    "tags": []
   },
   "outputs": [
    {
     "name": "stdout",
     "output_type": "stream",
     "text": [
      "error: 4.01550894e-08   spread: 6.96058661e-07   case: raw data without window\n",
      "error: 6.33054142e-09   spread: 8.36988268e-07   case: raw data with window\n"
     ]
    }
   ],
   "source": [
    "# Compute frequencies without filtering\n",
    "\n",
    "# Note, since error is random, i.e. deviation of mean from the reference\n",
    "# The result should be judged mostly by frequency spread (assuming bias can be neglected)\n",
    "# Depending on the noise level, windowing might (and in general does) increase spread\n",
    "\n",
    "f = Frequency(d)\n",
    "\n",
    "# Without window\n",
    "\n",
    "f('parabola')\n",
    "m, s = f.frequency.mean().cpu().item(), f.frequency.std().cpu().item()\n",
    "print(f'error: {abs(ref - m):<16.9} spread: {s:<16.9} case: raw data without window')\n",
    "\n",
    "# With window\n",
    "# Note, in general, window will increase frequency spread, but reduce bias\n",
    "\n",
    "d.window_remove_mean()\n",
    "d.window_apply()\n",
    "f('parabola')\n",
    "d.reset()\n",
    "m, s = f.frequency.mean().cpu().item(), f.frequency.std().cpu().item()\n",
    "print(f'error: {abs(ref - m):<16.9} spread: {s:<16.9} case: raw data with window')"
   ]
  },
  {
   "cell_type": "code",
   "execution_count": 7,
   "id": "eb145c0f-25d5-4abd-9396-b753055f3c3d",
   "metadata": {
    "tags": []
   },
   "outputs": [
    {
     "name": "stdout",
     "output_type": "stream",
     "text": [
      "error: 1.09720636e-07   spread: 4.56327957e-07  \n",
      "error: 1.09525459e-07   spread: 3.4072578e-07   \n"
     ]
    }
   ],
   "source": [
    "# Perform ICA filtering\n",
    "\n",
    "from sklearn.decomposition import FastICA\n",
    "\n",
    "\n",
    "ica = FastICA(n_components=4, max_iter=10000, tol=1.0E-6, whiten='unit-variance')\n",
    "fit = torch.tensor(ica.fit_transform(d.data.T.cpu().numpy()), dtype=dtype, device=device)\n",
    "mix = torch.tensor(ica.mixing_, dtype=dtype, device=device)\n",
    "tbt = Data.from_data(w, mix @ fit.T)\n",
    "\n",
    "f = Frequency(tbt)\n",
    "\n",
    "# Without window\n",
    "\n",
    "f('parabola')\n",
    "m, s = f.frequency.mean().cpu().item(), f.frequency.std().cpu().item()\n",
    "print(f'error: {abs(ref - m):<16.9} spread: {s:<16.9}')\n",
    "\n",
    "# With window\n",
    "# Note, in general, window will increase frequency spread, but reduce bias\n",
    "\n",
    "tbt.window_remove_mean()\n",
    "tbt.window_apply()\n",
    "f('parabola')\n",
    "tbt.reset()\n",
    "m, s = f.frequency.mean().cpu().item(), f.frequency.std().cpu().item()\n",
    "print(f'error: {abs(ref - m):<16.9} spread: {s:<16.9}')"
   ]
  },
  {
   "cell_type": "code",
   "execution_count": null,
   "id": "18796bce-70b7-4392-a1f3-df451a58e048",
   "metadata": {},
   "outputs": [],
   "source": []
  }
 ],
 "metadata": {
  "colab": {
   "collapsed_sections": [
    "myt0_gMIOq7b",
    "5d97819c"
   ],
   "name": "03_frequency.ipynb",
   "provenance": []
  },
  "kernelspec": {
   "display_name": "Python 3 (ipykernel)",
   "language": "python",
   "name": "python3"
  },
  "language_info": {
   "codemirror_mode": {
    "name": "ipython",
    "version": 3
   },
   "file_extension": ".py",
   "mimetype": "text/x-python",
   "name": "python",
   "nbconvert_exporter": "python",
   "pygments_lexer": "ipython3",
   "version": "3.11.2"
  },
  "latex_envs": {
   "LaTeX_envs_menu_present": true,
   "autoclose": false,
   "autocomplete": true,
   "bibliofile": "biblio.bib",
   "cite_by": "apalike",
   "current_citInitial": 1,
   "eqLabelWithNumbers": true,
   "eqNumInitial": 1,
   "hotkeys": {
    "equation": "Ctrl-E",
    "itemize": "Ctrl-I"
   },
   "labels_anchors": false,
   "latex_user_defs": false,
   "report_style_numbering": false,
   "user_envs_cfg": false
  }
 },
 "nbformat": 4,
 "nbformat_minor": 5
}
