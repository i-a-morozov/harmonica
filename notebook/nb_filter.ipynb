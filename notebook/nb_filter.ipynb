{
 "cells": [
  {
   "cell_type": "code",
   "execution_count": 1,
   "id": "38a3d71f",
   "metadata": {},
   "outputs": [
    {
     "name": "stdout",
     "output_type": "stream",
     "text": [
      "True\n"
     ]
    }
   ],
   "source": [
    "# Import\n",
    "\n",
    "import numpy\n",
    "import torch\n",
    "\n",
    "import sys\n",
    "sys.path.append('..')\n",
    "\n",
    "from harmonica.util import data_load\n",
    "from harmonica.window import Window\n",
    "from harmonica.data import Data\n",
    "from harmonica.frequency import Frequency\n",
    "from harmonica.filter import Filter\n",
    "\n",
    "import matplotlib.pyplot as plt\n",
    "\n",
    "torch.set_printoptions(precision=12, sci_mode=True)\n",
    "print(torch.cuda.is_available())"
   ]
  },
  {
   "cell_type": "code",
   "execution_count": 2,
   "id": "af8a5804-7b75-4b7a-8eac-e755703759a8",
   "metadata": {},
   "outputs": [],
   "source": [
    "# Set data type and device\n",
    "\n",
    "dtype = torch.float64\n",
    "device = 'cpu'"
   ]
  },
  {
   "cell_type": "markdown",
   "id": "28d9ba26",
   "metadata": {
    "heading_collapsed": true,
    "tags": []
   },
   "source": [
    "# Example-01: Filter initialization & Matrix representation"
   ]
  },
  {
   "cell_type": "code",
   "execution_count": 3,
   "id": "df273619",
   "metadata": {
    "hidden": true
   },
   "outputs": [
    {
     "name": "stdout",
     "output_type": "stream",
     "text": [
      "None\n",
      "1\n",
      "[[1 2 3 4 5 6 7 8]]\n",
      "[[[1 2 3 4]\n",
      "  [2 3 4 5]\n",
      "  [3 4 5 6]\n",
      "  [4 5 6 7]\n",
      "  [5 6 7 8]]]\n",
      "[[1 2 3 4 5 6 7 8]]\n"
     ]
    }
   ],
   "source": [
    "# Initialize Filter instance\n",
    "\n",
    "# Data instance should be passed as the first argument\n",
    "# Random seed is used only in randomized range estimation for approximate SVD computation\n",
    "\n",
    "# Filter class contains several static and class method, that can be used without passing Data instance\n",
    "\n",
    "f = Filter(None, random_seed=1)\n",
    "print(f.data)\n",
    "print(f.random_seed)\n",
    "\n",
    "# make_matrix and make_signal functions can be used for matrix representation of a signal (Hankel matrix)\n",
    "# Both functions act on a batch of signals and matrices, respectively\n",
    "\n",
    "# Define test signal\n",
    "signal = torch.linspace(1, 8, 8, dtype=dtype, device=device).unsqueeze(0)\n",
    "print(signal.cpu().to(torch.int).numpy())\n",
    "\n",
    "# Generate matrix representation\n",
    "matrix = Filter.make_matrix(signal)\n",
    "print(matrix.cpu().to(torch.int).numpy())\n",
    "\n",
    "# Generate signal representation (average over skew diagonals)\n",
    "print(Filter.make_signal(matrix).cpu().to(torch.int).numpy())"
   ]
  },
  {
   "cell_type": "markdown",
   "id": "d2570393",
   "metadata": {
    "heading_collapsed": true,
    "tags": []
   },
   "source": [
    "# Example-02: Singular values"
   ]
  },
  {
   "cell_type": "code",
   "execution_count": 4,
   "id": "5b137074",
   "metadata": {
    "hidden": true
   },
   "outputs": [
    {
     "name": "stdout",
     "output_type": "stream",
     "text": [
      "tensor([6])\n",
      "256.518221536       256.518221536       5.68434188608e-14   \n",
      "255.980457668       255.980457668       2.84217094304e-14   \n",
      "25.6585560702       25.6585560702       7.1054273576e-15    \n",
      "25.5899723888       25.5899723888       0.0                 \n",
      "0.256513879015      0.256513879015      1.05471187339e-15   \n",
      "0.255971936601      0.255971936601      6.66133814775e-16   \n"
     ]
    }
   ],
   "source": [
    "# svd_list and svd_list_randomized can be used to compute singular values\n",
    "# svd_list performs full SVD and svd_list_randimized performs randomized SVD\n",
    "# In both cases, requested number of largest singular values is returned\n",
    "\n",
    "# Generate test signal (real signal with three harmonics)\n",
    "length = 1024\n",
    "time = torch.linspace(1, length, length, dtype=dtype, device=device)\n",
    "signal = 1.0*torch.sin(2*numpy.pi*0.12*time) + 0.1*torch.sin(2*numpy.pi*0.24*time) + 1.E-3*torch.sin(2*numpy.pi*0.31*time)\n",
    "signal.unsqueeze_(0)\n",
    "\n",
    "# Generate matrix representation\n",
    "matrix = Filter.make_matrix(signal)\n",
    "\n",
    "# Since, test signal contains three harmonics, it's matrix is expected to have six non-zero singular values\n",
    "print(torch.linalg.matrix_rank(matrix))\n",
    "\n",
    "# Compute singular values (full SVD)\n",
    "S1 = Filter.svd_list(rank=6, matrix=matrix, cpu=True)\n",
    "\n",
    "# svd_list used full SVD to compute singular values\n",
    "# number of returned singular values is set by rank parameter\n",
    "# input matrix should be a batch of matrices\n",
    "# cpu flag is used to compute SVD using CPU\n",
    "\n",
    "# Compute singular values (randomized SVD)\n",
    "S2 = Filter.svd_list_randomized(rank=6, matrix=matrix, buffer=8, count=8, random_seed=0, cpu=True)\n",
    "\n",
    "# svd_list_randomized used randomized SVD to compute singular values\n",
    "# randomized_range function is used to estimate matrix range with QR decomposition\n",
    "# buffer parameter sets the number of extra dimensions, randomized range column rank is rank + buffer\n",
    "# count parameter sets number of iterations\n",
    "# random_seed is used for initialization\n",
    "\n",
    "# Compare singular values\n",
    "fmt = 3 * '{:<20.12}'\n",
    "for s1, s2 in zip(S1.squeeze().cpu(), S2.squeeze().cpu()):\n",
    "    print(fmt.format(s1, s2, abs(s1 - s2)))"
   ]
  },
  {
   "cell_type": "code",
   "execution_count": 5,
   "id": "4c6a90e3-525f-45e2-8d88-c5f33bf93b5c",
   "metadata": {},
   "outputs": [
    {
     "data": {
      "image/png": "[encoded data removed]",
      "text/plain": [
       "<Figure size 1080x216 with 1 Axes>"
      ]
     },
     "metadata": {
      "needs_background": "light"
     },
     "output_type": "display_data"
    }
   ],
   "source": [
    "# Locate elbow\n",
    "table, *_ = S1\n",
    "index = Filter.locate(table, curve='convex', direction='decreasing')\n",
    "\n",
    "plt.figure(figsize=(15, 3))\n",
    "plt.scatter(range(len(table)), table.cpu().numpy(), color='blue')\n",
    "plt.vlines(index, table.min().cpu().numpy(), table.max().cpu().numpy(), linestyles='dashed', color='black')\n",
    "plt.show()"
   ]
  },
  {
   "cell_type": "markdown",
   "id": "15b63e0d",
   "metadata": {
    "heading_collapsed": true,
    "tags": []
   },
   "source": [
    "# Example-03: SVD truncation"
   ]
  },
  {
   "cell_type": "code",
   "execution_count": 6,
   "id": "97195ad4",
   "metadata": {
    "hidden": true
   },
   "outputs": [
    {
     "name": "stdout",
     "output_type": "stream",
     "text": [
      "tensor([4])\n",
      "tensor([4])\n",
      "256.524663703       256.524663703       0.0                 \n",
      "255.986865777       255.986865777       1.42108547152e-13   \n",
      "25.6657315009       25.6657315009       2.13162820728e-14   \n",
      "25.5969695488       25.5969695488       0.0                 \n",
      "1.8820072764313157e-12\n",
      "2.4159559884474358\n",
      "2.4159559884472626\n"
     ]
    },
    {
     "data": {
      "image/png": "[encoded data removed]",
      "text/plain": [
       "<Figure size 1080x216 with 1 Axes>"
      ]
     },
     "metadata": {
      "needs_background": "light"
     },
     "output_type": "display_data"
    },
    {
     "data": {
      "image/png": "[encoded data removed]",
      "text/plain": [
       "<Figure size 1080x216 with 1 Axes>"
      ]
     },
     "metadata": {
      "needs_background": "light"
     },
     "output_type": "display_data"
    }
   ],
   "source": [
    "# svd_truncation and svd_truncation_randomized can be used to perform SVD truncation\n",
    "# svd_truncation performs full SVD and svd_truncation_randomized performs randomized SVD\n",
    "# In both cases, only the requested number of largest singular values are used to generated truncated matrix\n",
    "# Truncated matrix is the best rank k approximation of the input\n",
    "# These function return list of singular values and truncated matrices\n",
    "\n",
    "# Generate test signal (real signal with two harmonics and random noise)\n",
    "length = 1024\n",
    "time = torch.linspace(1, length, length, dtype=dtype, device=device)\n",
    "signal = 1.0*torch.sin(2*numpy.pi*0.12*time) + 0.1*torch.sin(2*numpy.pi*0.24*time)\n",
    "sigma = 1.0E-2\n",
    "signal.add_(sigma*torch.randn(length, dtype=dtype, device=device))\n",
    "signal.unsqueeze_(0)\n",
    "\n",
    "# Generate matrix representation\n",
    "matrix = Filter.make_matrix(signal)\n",
    "\n",
    "# Since noise is added, matrix is expected to have full rank\n",
    "torch.linalg.matrix_rank(matrix)\n",
    "\n",
    "# Perform SVD truncation (full SVD)\n",
    "S1, M1 = Filter.svd_truncation(rank=4, matrix=matrix, cpu=True)\n",
    "print(torch.linalg.matrix_rank(M1))\n",
    "\n",
    "# Perform SVD truncation (randomized SVD)\n",
    "S2, M2 = Filter.svd_truncation_randomized(rank=4, matrix=matrix, buffer=8, count=8, random_seed=0, cpu=True)\n",
    "print(torch.linalg.matrix_rank(M2))\n",
    "\n",
    "# Compare singular values\n",
    "fmt = 3 * '{:<20.12}'\n",
    "for s1, s2 in zip(S1.squeeze().cpu(), S2.squeeze().cpu()):\n",
    "    print(fmt.format(s1, s2, abs(s1 - s2)))\n",
    "    \n",
    "# Compare truncated matrices\n",
    "print(torch.linalg.norm(M1-M2).cpu().numpy())\n",
    "\n",
    "# Estimate noise\n",
    "print(100*abs(sigma-torch.std(matrix - M1).cpu().numpy())/sigma)\n",
    "print(100*abs(sigma-torch.std(matrix - M2).cpu().numpy())/sigma)\n",
    "\n",
    "# Convert to signal representation and DFT compare spectra\n",
    "s1 = Filter.make_signal(M1).squeeze()\n",
    "s2 = Filter.make_signal(M2).squeeze()\n",
    "grid = torch.fft.rfftfreq(length, dtype=dtype)\n",
    "plt.figure(figsize=(15, 3))\n",
    "plt.scatter(grid, torch.log10(torch.abs(torch.fft.rfft(signal.squeeze()))).cpu(), c='black')\n",
    "plt.scatter(grid, torch.log10(torch.abs(torch.fft.rfft(s1))).cpu(), c='red')\n",
    "plt.show()\n",
    "plt.figure(figsize=(15, 3))\n",
    "plt.scatter(grid, torch.log10(torch.abs(torch.fft.rfft(signal.squeeze()))).cpu(), c='black')\n",
    "plt.scatter(grid, torch.log10(torch.abs(torch.fft.rfft(s2))).cpu(), c='blue')\n",
    "plt.show()\n",
    "\n",
    "# Filtering potentialy allows to apply window function with less noise amplification\n",
    "# Note, signals are assumed to have zero mean\n",
    "# Remove mean before processing or increase number of requested singular values by one"
   ]
  },
  {
   "cell_type": "markdown",
   "id": "dd7f7d24",
   "metadata": {
    "tags": []
   },
   "source": [
    "# Example-04: Optimal SVD truncation, rank and noise estimation"
   ]
  },
  {
   "cell_type": "code",
   "execution_count": 7,
   "id": "c52356cb-554a-4586-9deb-82e1bc54ac33",
   "metadata": {},
   "outputs": [
    {
     "name": "stdout",
     "output_type": "stream",
     "text": [
      "Data(54, Window(1024, 'cosine_window', 1.0))\n"
     ]
    }
   ],
   "source": [
    "# estimate_noise function can be used for truncation rank and noise value estimation\n",
    "# This function can be used when number of components in signal is not known\n",
    "\n",
    "# Load test TbT data and add random noise\n",
    "length = 1024\n",
    "\n",
    "w = Window(length, 'cosine_window', 1.0, dtype=dtype, device=device)\n",
    "d = Data.from_file(54, w, '../virtual_tbt.npy')\n",
    "s = 1.E-4*torch.rand(54, dtype=dtype, device=device)\n",
    "d.add_noise(s)\n",
    "print(d)\n",
    "\n",
    "# Filter instance\n",
    "l = Filter(d)\n",
    "\n",
    "# For estimation, only several first columns can ne used (64 by default)\n",
    "R1, N1 = l.estimate_noise(limit=16, cpu=True)\n",
    "R2, N2 = l.estimate_noise(limit=64, cpu=True)\n",
    "R3, N3 = l.estimate_noise(limit=256, cpu=True)\n",
    "\n",
    "# Estimate noise (average over samples)\n",
    "# Generate several samples of length 256 from each signal using start shift 8\n",
    "w = Window(256)\n",
    "N4 = []\n",
    "for i in range(54):\n",
    "    l = Filter(Data.from_data(w, d.make_matrix(256, 8, d.work[i])))\n",
    "    _, noise = l.estimate_noise(limit=64)\n",
    "    N4.append(noise.mean().item())"
   ]
  },
  {
   "cell_type": "code",
   "execution_count": 8,
   "id": "a0406516",
   "metadata": {},
   "outputs": [
    {
     "name": "stdout",
     "output_type": "stream",
     "text": [
      "      16    64    256   \n",
      "0     2     2     2     \n",
      "1     2     2     2     \n",
      "2     2     2     4     \n",
      "3     2     2     2     \n",
      "4     2     2     2     \n",
      "5     2     2     2     \n",
      "6     2     2     2     \n",
      "7     2     2     2     \n",
      "8     2     2     4     \n",
      "9     2     2     2     \n",
      "10    2     2     2     \n",
      "11    2     2     2     \n",
      "12    2     2     2     \n",
      "13    2     2     2     \n",
      "14    2     2     6     \n",
      "15    2     2     2     \n",
      "16    2     2     2     \n",
      "17    2     2     2     \n",
      "18    2     2     2     \n",
      "19    2     2     4     \n",
      "20    2     2     2     \n",
      "21    2     2     4     \n",
      "22    2     2     2     \n",
      "23    2     2     4     \n",
      "24    2     2     2     \n",
      "25    2     2     4     \n",
      "26    2     2     4     \n",
      "27    2     2     2     \n",
      "28    2     2     2     \n",
      "29    2     2     2     \n",
      "30    2     2     2     \n",
      "31    2     2     4     \n",
      "32    2     2     2     \n",
      "33    2     2     2     \n",
      "34    2     2     2     \n",
      "35    2     2     2     \n",
      "36    2     2     2     \n",
      "37    2     2     2     \n",
      "38    2     2     2     \n",
      "39    2     2     2     \n",
      "40    2     2     4     \n",
      "41    2     2     2     \n",
      "42    2     2     4     \n",
      "43    2     2     2     \n",
      "44    2     2     2     \n",
      "45    2     2     2     \n",
      "46    2     2     2     \n",
      "47    2     3     3     \n",
      "48    2     2     2     \n",
      "49    2     2     2     \n",
      "50    2     2     2     \n",
      "51    2     2     6     \n",
      "52    2     2     4     \n",
      "53    2     2     2     \n"
     ]
    }
   ],
   "source": [
    "# Compare estimated ranks (note, expected rank is two)\n",
    "fmt = 4 * '{:<6}'\n",
    "print(fmt.format(\"\", 16, 64, 256))\n",
    "for i, (r1, r2, r3) in enumerate(zip(R1.cpu(), R2.cpu(), R3.cpu())):\n",
    "    print(fmt.format(i, r1, r2, r3))\n",
    "    \n",
    "# Note, depending on particular noise parameters, results might be different\n",
    "# In general, rank tends to be over estimated if large number of columns is used"
   ]
  },
  {
   "cell_type": "code",
   "execution_count": 9,
   "id": "692b3144",
   "metadata": {},
   "outputs": [
    {
     "name": "stdout",
     "output_type": "stream",
     "text": [
      "                16              64              256             ave             \n",
      "0               1.0032215       5.6975955       1.8060202       0.38915732      \n",
      "1               0.29056744      1.3807652       1.8536547       4.833505        \n",
      "2               4.3328992       4.5954133       5.9531118       0.91521877      \n",
      "3               0.19408409      2.4661437       0.27494777      0.18183224      \n",
      "4               0.43912496      0.64460012      1.2264217       2.5537883       \n",
      "5               3.7374173       6.4426706       2.2797909       1.5357466       \n",
      "6               6.1121088       6.9421258       5.6758111       5.2607213       \n",
      "7               3.330833        2.0909118       4.9507148       6.974202        \n",
      "8               1.7616775       1.9290612       3.0533539       2.3313466       \n",
      "9               1.3697949       2.6409959       1.3233406       0.49314999      \n",
      "10              3.498117        1.1207351       0.030435261     0.084461904     \n",
      "11              3.5297243       4.581375        6.7488406       4.4576577       \n",
      "12              4.5667163       4.3616557       2.3046699       0.39926405      \n",
      "13              5.1314004       0.20363102      1.1054102       1.7453901       \n",
      "14              6.3282033       9.0091988       10.779559       7.938953        \n",
      "15              1.1803982       2.0334253       1.7403332       0.9829182       \n",
      "16              1.5448837       1.9015355       4.6189384       0.62880609      \n",
      "17              3.5460699       4.7663659       2.0501243       2.2965843       \n",
      "18              12.666894       9.4420456       6.7617027       1.4055902       \n",
      "19              5.8159176       6.6812779       8.2795597       3.6527522       \n",
      "20              0.20401663      3.6216222       0.92369532      2.3219158       \n",
      "21              0.45141981      2.2322732       3.6123738       3.9021603       \n",
      "22              0.85446436      0.24113297      0.25855203      1.7010498       \n",
      "23              2.4368993       0.81504273      0.93436423      1.9117347       \n",
      "24              1.4271197       0.74650013      0.15256818      0.82119553      \n",
      "25              9.3982963       7.8015763       7.7234207       5.3656039       \n",
      "26              0.98596605      3.8340598       2.7371167       1.2654763       \n",
      "27              0.9648616       2.5515904       3.5612935       2.2686139       \n",
      "28              1.6198571       0.37128861      0.62528352      0.78848358      \n",
      "29              4.5131102       8.5422241       7.0319535       4.3995535       \n",
      "30              0.16389194      1.0462992       3.325219        1.613259        \n",
      "31              0.35047793      0.85372524      0.31045245      0.041120507     \n",
      "32              3.2151884       1.6175148       2.3387399       0.61123643      \n",
      "33              5.4738831       4.3037988       1.1321153       3.8022301       \n",
      "34              3.659102        4.7514254       4.2531323       3.82935         \n",
      "35              4.3943405       1.7798645       3.4979751       2.4131299       \n",
      "36              2.2061604       1.0892331       1.7261525       2.616838        \n",
      "37              10.86983        4.3176007       3.0165937       1.3751778       \n",
      "38              5.0937132       2.5965862       1.1884156       0.40085708      \n",
      "39              1.3240947       1.0387536       2.6732471       2.5458657       \n",
      "40              4.4502633       5.5651597       4.1512263       4.3206927       \n",
      "41              5.8129857       3.525945        3.5750258       2.5743542       \n",
      "42              3.5825665       1.0330349       0.011283237     0.54998406      \n",
      "43              3.092458        0.21818478      3.5041942       1.5553256       \n",
      "44              2.9758513       2.9401366       3.1132069       2.7618533       \n",
      "45              1.586447        3.5541028       3.8532647       4.5489022       \n",
      "46              4.4738918       6.6398739       1.3314121       0.9584213       \n",
      "47              0.60104987      0.92909354      0.47564919      0.5308075       \n",
      "48              0.19339802      1.1162555       2.4402355       1.1278346       \n",
      "49              3.8833278       2.4007966       3.8247859       0.86717138      \n",
      "50              8.6109247       7.4668879       7.9664457       3.5798977       \n",
      "51              3.6608269       0.97164988      4.0774092       2.5172217       \n",
      "52              1.2723692       0.5311968       0.36064882      0.31747301      \n",
      "53              3.4938992       2.2254245       1.8825745       2.4218175       \n"
     ]
    }
   ],
   "source": [
    "# Compare estimated noise\n",
    "fmt = 5 * '{:<16}'\n",
    "print(fmt.format(\"\", 16, 64, 256, \"ave\"))\n",
    "fmt = '{:<16}' + 4 * '{:<16.8}'\n",
    "for i, (n0, n1, n2, n3, n4) in enumerate(zip(s.cpu(), N1.cpu(), N2.cpu(), N3.cpu(), N4)):\n",
    "    print(fmt.format(i, 100*abs(n1-n0)/n0, 100*abs(n2-n0)/n0, 100*abs(n3-n0)/n0, 100*abs(n4-n0)/n0))\n",
    "    \n",
    "# Note, for noise sigma estimation, approximate expression is used\n",
    "# In this example, noise estimation accuracy is better than 10%\n",
    "# Using larger number of columns or averaging over samples do not affect estimation accuracy significantly (but better on average in both cases)"
   ]
  },
  {
   "cell_type": "code",
   "execution_count": 10,
   "id": "5d553873-8c8c-424d-b7fe-d39a8fdcc956",
   "metadata": {},
   "outputs": [
    {
     "name": "stdout",
     "output_type": "stream",
     "text": [
      "tensor(7.504984228631e-06, dtype=torch.float64)\n",
      "tensor(1.007869065505e-05, dtype=torch.float64)\n"
     ]
    }
   ],
   "source": [
    "# Estimate noise using randomized SVD\n",
    "\n",
    "l = Filter(d)\n",
    "r1, s1 = l.estimate_noise(limit=32)\n",
    "r2, s2 = l.estimate_noise(limit=512, randomized=True)\n",
    "\n",
    "print((s1 - s).abs().max())\n",
    "print((s2 - s).abs().max())"
   ]
  },
  {
   "cell_type": "markdown",
   "id": "abc46d5e",
   "metadata": {
    "heading_collapsed": true,
    "tags": []
   },
   "source": [
    "# Example-05: RPCA"
   ]
  },
  {
   "cell_type": "code",
   "execution_count": 11,
   "id": "2cdb6605",
   "metadata": {
    "hidden": true
   },
   "outputs": [
    {
     "name": "stdout",
     "output_type": "stream",
     "text": [
      "(100, 120)\n",
      "[[10. 10. 10. ... 30. 30. 30.]\n",
      " [10. 10. 10. ... 30. 30. 30.]\n",
      " [10. 10. 10. ... 30. 30. 30.]\n",
      " ...\n",
      " [10. 10. 10. ... 30. 30. 30.]\n",
      " [10. 10. 10. ... 30. 30. 30.]\n",
      " [10. 10. 10. ... 30. 30. 30.]]\n",
      "tensor(1)\n",
      "(100, 120)\n",
      "[[10. 10. 10. ... 30. 30. 30.]\n",
      " [10. 10. 10. ... 30. 30. 30.]\n",
      " [10. 10. 10. ... 30. 30. 30.]\n",
      " ...\n",
      " [10. 10. 10. ... 30. 30. 30.]\n",
      " [10. 10. 10. ... 30. 30. 30.]\n",
      " [10. 10.  0. ... 30. 30. 30.]]\n",
      "tensor(100)\n",
      "325\n",
      "tensor(8.290040516942e-10, dtype=torch.float64)\n",
      "tensor(1)\n",
      "[[10. 10. 10. ... 30. 30. 30.]\n",
      " [10. 10. 10. ... 30. 30. 30.]\n",
      " [10. 10. 10. ... 30. 30. 30.]\n",
      " ...\n",
      " [10. 10. 10. ... 30. 30. 30.]\n",
      " [10. 10. 10. ... 30. 30. 30.]\n",
      " [10. 10. 10. ... 30. 30. 30.]]\n",
      "1.134523586188152e-10\n"
     ]
    }
   ],
   "source": [
    "# https://arxiv.org/abs/0912.3599\n",
    "# RPCA can be performed with rpca classmethod\n",
    "# Single matrix should be passed on input (this can be a full TbT matrix or a Hankel matrix of a signal)\n",
    "\n",
    "# Separate 'grained' noise using RPCA\n",
    "\n",
    "# Generate original low rank matrix\n",
    "n = 100\n",
    "k = 3\n",
    "m = 40\n",
    "X = numpy.hstack([numpy.ones((n, m)) * (i + 1) * 10 for i in range(k)])\n",
    "print(X.shape)\n",
    "print(X)\n",
    "print(torch.linalg.matrix_rank(torch.tensor(X)))\n",
    "\n",
    "# Generate matrix with missing values (change fraction of missing values to observe convergence)\n",
    "Y = numpy.copy(X)\n",
    "Y[numpy.random.rand(*Y.shape) < 0.1] = 0.0\n",
    "print(Y.shape)\n",
    "print(Y)\n",
    "print(torch.linalg.matrix_rank(torch.tensor(Y)))\n",
    "\n",
    "# Perform RPCA (change the number of iterations and/or the tolerance factor to observe convergence)\n",
    "count, error, L, S = Filter.rpca(torch.tensor(Y, dtype=dtype, device=device), limit=8912, factor=1.0E-12, cpu=True)\n",
    "\n",
    "# Number of iterations and final error\n",
    "print(count)\n",
    "print(error)\n",
    "\n",
    "# 'Cleaned' matrix rank\n",
    "print(torch.linalg.matrix_rank(L))\n",
    "print(L.cpu().numpy())\n",
    "\n",
    "# Maximum element-wise error\n",
    "print(numpy.max(numpy.abs((X - L.cpu().numpy()))))"
   ]
  },
  {
   "cell_type": "markdown",
   "id": "e70727d5",
   "metadata": {
    "heading_collapsed": true,
    "tags": []
   },
   "source": [
    "# Example-06: TbT filtering (SVD & Hankel & RPCA)"
   ]
  },
  {
   "cell_type": "code",
   "execution_count": 12,
   "id": "4dd6eaa6",
   "metadata": {
    "hidden": true
   },
   "outputs": [],
   "source": [
    "# In this example frequency uncertanty is compared for different TbT filtering"
   ]
  },
  {
   "cell_type": "code",
   "execution_count": 13,
   "id": "e73bfbed-e357-4ed6-977b-bbdc03ef8e27",
   "metadata": {},
   "outputs": [
    {
     "name": "stdout",
     "output_type": "stream",
     "text": [
      "0.463116901262685\n"
     ]
    }
   ],
   "source": [
    "# Compute reference frequency for test TbT data\n",
    "\n",
    "# Load TbT\n",
    "length = 4096\n",
    "\n",
    "w = Window(length, 'cosine_window', 2.0, dtype=dtype, device=device)\n",
    "d = Data.from_file(54, w, '../virtual_tbt.npy', dtype=dtype, device=device)\n",
    "\n",
    "# Compute reference frequency\n",
    "d.window_remove_mean()\n",
    "d.window_apply()\n",
    "f = Frequency(d)\n",
    "f('parabola')\n",
    "d.reset()\n",
    "ref = f.frequency.mean().cpu().item()\n",
    "print(ref)"
   ]
  },
  {
   "cell_type": "code",
   "execution_count": 14,
   "id": "9057b783-3123-4397-8d5a-3137b5d50013",
   "metadata": {},
   "outputs": [],
   "source": [
    "# Set parameters\n",
    "length = 1024\n",
    "\n",
    "# Set noise std for each BPM\n",
    "# Note, each BPM has a different value of noise sigma\n",
    "s = 1.0E-4*torch.rand(54, dtype=dtype, device=device)\n",
    "\n",
    "# Test TbT data with random noise\n",
    "w = Window(length, 'cosine_window', 1.0, dtype=dtype, device=device)\n",
    "d = Data.from_file(54, w, '../virtual_tbt.npy', dtype=dtype, device=device)\n",
    "d.add_noise(s)\n",
    "d.data.copy_(d.work)\n",
    "\n",
    "# Set seed (randomized range estimation)\n",
    "seed = numpy.random.randint(0, 1000)\n",
    "\n",
    "# Set filter instance\n",
    "l = Filter(d, random_seed=seed)\n",
    "\n",
    "# Set frequency instance\n",
    "f = Frequency(d)"
   ]
  },
  {
   "cell_type": "code",
   "execution_count": 15,
   "id": "c1d625c0",
   "metadata": {
    "hidden": true
   },
   "outputs": [
    {
     "name": "stdout",
     "output_type": "stream",
     "text": [
      "6.692063405216003\n"
     ]
    }
   ],
   "source": [
    "# Estimate noise (optimal SVD truncation)\n",
    "_, n = l.estimate_noise(limit=64, cpu=True)\n",
    "\n",
    "# Maximum noise estimation error\n",
    "print(torch.max(100*torch.abs(n - s)/s).cpu().item())"
   ]
  },
  {
   "cell_type": "code",
   "execution_count": 16,
   "id": "c083d02f",
   "metadata": {
    "hidden": true
   },
   "outputs": [
    {
     "name": "stdout",
     "output_type": "stream",
     "text": [
      "error: 1.56525237e-07   spread: 6.66624984e-07   case: raw data without window\n",
      "error: 2.17672139e-07   spread: 1.09535895e-06   case: raw data with window\n"
     ]
    }
   ],
   "source": [
    "# Compute frequencies without filtering\n",
    "\n",
    "# Note, since error is random, i.e. deviation of mean from the reference\n",
    "# The result should be judged mostly by frequency spread (assuming bias can be neglected)\n",
    "# Depending on the noise level, windowing might (and in general does) increase spread\n",
    "\n",
    "f = Frequency(d)\n",
    "\n",
    "# Without window\n",
    "f('parabola')\n",
    "m, s = f.frequency.mean().cpu().item(), f.frequency.std().cpu().item()\n",
    "print(f'error: {abs(ref - m):<16.9} spread: {s:<16.9} case: raw data without window')\n",
    "\n",
    "# With window\n",
    "# Note, in general, window will increase frequency spread, but reduce bias\n",
    "d.window_remove_mean()\n",
    "d.window_apply()\n",
    "f('parabola')\n",
    "d.reset()\n",
    "m, s = f.frequency.mean().cpu().item(), f.frequency.std().cpu().item()\n",
    "print(f'error: {abs(ref - m):<16.9} spread: {s:<16.9} case: raw data with window')"
   ]
  },
  {
   "cell_type": "code",
   "execution_count": 17,
   "id": "26563735-c241-4d85-b1ef-703b748c3f28",
   "metadata": {},
   "outputs": [
    {
     "name": "stdout",
     "output_type": "stream",
     "text": [
      "error: 1.09774869e-07   spread: 3.62109494e-07   case: SVD filtering without window\n",
      "error: 1.73275434e-07   spread: 4.95097681e-07   case: SVD filtering with window\n"
     ]
    }
   ],
   "source": [
    "# Perform SVD filtering (full TbT)\n",
    "# Note, filter modifies work container\n",
    "\n",
    "d.reset()\n",
    "l.filter_svd(rank=8, cpu=True)\n",
    "\n",
    "# Compute frequencies with SVD filtering\n",
    "\n",
    "# Without window\n",
    "# Note, frequency spread is generaly reduced by SVD filtering\n",
    "f('parabola')\n",
    "m, s = f.frequency.mean().cpu().item(), f.frequency.std().cpu().item()\n",
    "print(f'error: {abs(ref - m):<16.9} spread: {s:<16.9} case: SVD filtering without window')\n",
    "\n",
    "# With window\n",
    "# Note, filtering allows application of window without harmful effect on frequency spread\n",
    "# In some cases frequency spread is further reduced\n",
    "d.window_remove_mean()\n",
    "d.window_apply()\n",
    "f('parabola')\n",
    "m, s = f.frequency.mean().cpu().item(), f.frequency.std().cpu().item()\n",
    "print(f'error: {abs(ref - m):<16.9} spread: {s:<16.9} case: SVD filtering with window')"
   ]
  },
  {
   "cell_type": "code",
   "execution_count": 18,
   "id": "d2ce85fd-d525-4d9f-a224-667fd5cfa9ca",
   "metadata": {},
   "outputs": [
    {
     "name": "stdout",
     "output_type": "stream",
     "text": [
      "error: 2.37972078e-07   spread: 8.96856981e-07   case: Hankel filtering without window\n",
      "error: 2.27976738e-07   spread: 8.91991091e-07   case: Hankel filtering with window\n"
     ]
    }
   ],
   "source": [
    "# Perform Hankel filtering\n",
    "# Note, when applied to raw TbT, Hankel filtering performs worse than SVD\n",
    "\n",
    "d.reset()\n",
    "l.filter_hankel(rank=8, cpu=True, random=True, buffer=8, count=8)\n",
    "\n",
    "# Compute frequencies with Hankel filtering\n",
    "\n",
    "# Without window\n",
    "f('parabola')\n",
    "m, s = f.frequency.mean().cpu().item(), f.frequency.std().cpu().item()\n",
    "print(f'error: {abs(ref - m):<16.9} spread: {s:<16.9} case: Hankel filtering without window')\n",
    "\n",
    "# With window\n",
    "d.window_remove_mean()\n",
    "d.window_apply()\n",
    "f('parabola')\n",
    "m, s = f.frequency.mean().cpu().item(), f.frequency.std().cpu().item()\n",
    "print(f'error: {abs(ref - m):<16.9} spread: {s:<16.9} case: Hankel filtering with window')"
   ]
  },
  {
   "cell_type": "code",
   "execution_count": 19,
   "id": "9605e236-6a36-4a64-a474-bc19b1c4f643",
   "metadata": {},
   "outputs": [
    {
     "name": "stdout",
     "output_type": "stream",
     "text": [
      "error: 1.83997835e-07   spread: 4.74890412e-07   case: SVD & Hankel filtering without window\n",
      "error: 1.73977895e-07   spread: 3.69303768e-07   case: SVD & Hankel filtering with window\n"
     ]
    }
   ],
   "source": [
    "# Perform SVD & Hankel filtering\n",
    "# If Hankel filtering is applied after SVD, the frequency spread is further slightly reduced on average\n",
    "\n",
    "d.reset()\n",
    "l.filter_svd(rank=8, cpu=True)\n",
    "l.filter_hankel(rank=8, cpu=True, random=True, buffer=8, count=8)\n",
    "\n",
    "# Compute frequencies with Hankel filtering\n",
    "\n",
    "# Without window\n",
    "f('parabola')\n",
    "m, s = f.frequency.mean().cpu().item(), f.frequency.std().cpu().item()\n",
    "print(f'error: {abs(ref - m):<16.9} spread: {s:<16.9} case: SVD & Hankel filtering without window')\n",
    "\n",
    "# With window\n",
    "d.window_remove_mean()\n",
    "d.window_apply()\n",
    "f('parabola')\n",
    "m, s = f.frequency.mean().cpu().item(), f.frequency.std().cpu().item()\n",
    "print(f'error: {abs(ref - m):<16.9} spread: {s:<16.9} case: SVD & Hankel filtering with window')"
   ]
  },
  {
   "cell_type": "code",
   "execution_count": 20,
   "id": "663093fb-8f86-4b5d-9d7f-7468effbb031",
   "metadata": {},
   "outputs": [
    {
     "name": "stdout",
     "output_type": "stream",
     "text": [
      "error: 1.15303022e-07   spread: 4.19010238e-07   case: RPCA filtering without window\n",
      "error: 1.43416187e-07   spread: 5.01124818e-07   case: RPCA filtering with window\n"
     ]
    }
   ],
   "source": [
    "# Perform RPCA filtering\n",
    "# Note, RPCA is not perfect for normal noise, large number of iterations is required in this case\n",
    "\n",
    "d.reset()\n",
    "l.filter_rpca(limit=2**10, factor=1.0E-15, cpu=True)\n",
    "\n",
    "# Without window\n",
    "f('parabola')\n",
    "m, s = f.frequency.mean().cpu().item(), f.frequency.std().cpu().item()\n",
    "print(f'error: {abs(ref - m):<16.9} spread: {s:<16.9} case: RPCA filtering without window')\n",
    "\n",
    "# With window\n",
    "d.window_remove_mean()\n",
    "d.window_apply()\n",
    "f('parabola')\n",
    "m, s = f.frequency.mean().cpu().item(), f.frequency.std().cpu().item()\n",
    "print(f'error: {abs(ref - m):<16.9} spread: {s:<16.9} case: RPCA filtering with window')"
   ]
  },
  {
   "cell_type": "markdown",
   "id": "d51828c3",
   "metadata": {
    "tags": []
   },
   "source": [
    "# Example-07: Effect of filtering on uncertainties"
   ]
  },
  {
   "cell_type": "code",
   "execution_count": 21,
   "id": "f8430c11-4979-4e37-8444-452f9fcf346d",
   "metadata": {},
   "outputs": [
    {
     "name": "stdout",
     "output_type": "stream",
     "text": [
      "frequency: error=9.04432964632e-08, spread=3.71510545642e-06\n",
      "amplitude: error=0.000444716263467, spread=0.00536719124073\n"
     ]
    }
   ],
   "source": [
    "# Estimate frequency and amplitude uncertainty from multiple realizations\n",
    "\n",
    "# Set parameters\n",
    "length = 1024\n",
    "\n",
    "# Set signal\n",
    "t = torch.linspace(1, length, length, dtype=dtype, device=device)\n",
    "s = 0.10\n",
    "x = 1.0*torch.cos(2.0*numpy.pi*0.12345*t) + 0.1*torch.cos(2.0*numpy.pi*2.0*0.12345*t)\n",
    "\n",
    "# Set TbT (signal copies with different noise realizations)\n",
    "w = Window.from_cosine(length, 1.0, dtype=dtype, device=device)\n",
    "d = torch.stack([x + s*torch.randn(length, dtype=dtype, device=device) for _ in range(256)])\n",
    "d = Data.from_data(w, d)\n",
    "\n",
    "# Estimate frequency\n",
    "d.window_remove_mean()\n",
    "d.window_apply()\n",
    "f = Frequency(d)\n",
    "f('parabola')\n",
    "m_f, s_f = f.frequency.mean().cpu().item(), f.frequency.std().cpu().item()\n",
    "print(f'frequency: error={abs(0.12345 - m_f):<16.12}, spread={s_f:<16.12}')\n",
    "d.reset()\n",
    "\n",
    "# Estimate amplitude\n",
    "c = 2.0/w.total*torch.sum(torch.cos(2.0*numpy.pi*m_f*t)*d.work*w.window, 1)\n",
    "s = 2.0/w.total*torch.sum(torch.sin(2.0*numpy.pi*m_f*t)*d.work*w.window, 1)\n",
    "a = torch.sqrt(c*c + s*s)\n",
    "m_a, s_a = a.mean().cpu().item(), a.std().cpu().item()\n",
    "print(f'amplitude: error={abs(1.0 - m_a):<16.12}, spread={s_a:<16.12}')\n",
    "d.reset()"
   ]
  },
  {
   "cell_type": "code",
   "execution_count": 22,
   "id": "b7e9da5c-c01e-4603-8dd5-3218c7a4ea2f",
   "metadata": {},
   "outputs": [
    {
     "name": "stdout",
     "output_type": "stream",
     "text": [
      "min: 4\n",
      "max: 4\n",
      "std: 0.10288123176039042\n"
     ]
    }
   ],
   "source": [
    "# Estimate rank/noise\n",
    "l = Filter(d)\n",
    "rank, noise = l.estimate_noise(limit=16, cpu=True)\n",
    "print(f'min: {rank.min().cpu().item()}')\n",
    "print(f'max: {rank.max().cpu().item()}')\n",
    "print(f'std: {noise.mean().cpu().item()}')"
   ]
  },
  {
   "cell_type": "code",
   "execution_count": 23,
   "id": "b43bddf1-5c79-4d13-bcb2-2283da6a67e6",
   "metadata": {},
   "outputs": [
    {
     "name": "stdout",
     "output_type": "stream",
     "text": [
      "frequency: error=8.87925775128e-08, spread=9.06830602025e-07\n",
      "amplitude: error=0.000459877796753, spread=0.00442108363649\n"
     ]
    }
   ],
   "source": [
    "# SVD\n",
    "\n",
    "# Estimate frequency\n",
    "l.filter_svd(rank=8, random=False, cpu=True)\n",
    "d.window_remove_mean()\n",
    "d.window_apply()\n",
    "f = Frequency(d)\n",
    "f('parabola')\n",
    "m_f, s_f = f.frequency.mean().cpu().item(), f.frequency.std().cpu().item()\n",
    "print(f'frequency: error={abs(0.12345 - m_f):<16.12}, spread={s_f:<16.12}')\n",
    "d.reset()\n",
    "\n",
    "# Estimate amplitude\n",
    "l.filter_svd(rank=8, random=False, cpu=True)\n",
    "c = 2.0/w.total*torch.sum(torch.cos(2.0*numpy.pi*m_f*t)*d.work*w.window, 1)\n",
    "s = 2.0/w.total*torch.sum(torch.sin(2.0*numpy.pi*m_f*t)*d.work*w.window, 1)\n",
    "a = torch.sqrt(c*c + s*s)\n",
    "m_a, s_a = a.mean().cpu().item(), a.std().cpu().item()\n",
    "print(f'amplitude: error={abs(1.0 - m_a):<16.12}, spread={s_a:<16.12}')\n",
    "d.reset()"
   ]
  },
  {
   "cell_type": "code",
   "execution_count": 24,
   "id": "964c0d18-4b75-441f-b830-10fbef0b2fca",
   "metadata": {},
   "outputs": [
    {
     "name": "stdout",
     "output_type": "stream",
     "text": [
      "frequency: error=7.73740957277e-08, spread=7.64256336786e-07\n",
      "amplitude: error=0.000436674928149, spread=0.00440995172271\n"
     ]
    }
   ],
   "source": [
    "# SVD & Hankel\n",
    "\n",
    "# Estimate frequency\n",
    "l.filter_svd(rank=8, random=False, cpu=True)\n",
    "l.filter_hankel(rank=8, random=True, buffer=8, count=8, cpu=True)\n",
    "d.window_remove_mean()\n",
    "d.window_apply()\n",
    "f = Frequency(d)\n",
    "f('parabola')\n",
    "m_f, s_f = f.frequency.mean().cpu().item(), f.frequency.std().cpu().item()\n",
    "print(f'frequency: error={abs(0.12345 - m_f):<16.12}, spread={s_f:<16.12}')\n",
    "d.reset()\n",
    "\n",
    "# Estimate amplitude\n",
    "l.filter_svd(rank=8, random=False, cpu=True)\n",
    "l.filter_hankel(rank=8, random=True, buffer=8, count=8, cpu=True)\n",
    "c = 2.0/w.total*torch.sum(torch.cos(2.0*numpy.pi*m_f*t)*d.work*w.window, 1)\n",
    "s = 2.0/w.total*torch.sum(torch.sin(2.0*numpy.pi*m_f*t)*d.work*w.window, 1)\n",
    "a = torch.sqrt(c*c + s*s)\n",
    "m_a, s_a = a.mean().cpu().item(), a.std().cpu().item()\n",
    "print(f'amplitude: error={abs(1.0 - m_a):<16.12}, spread={s_a:<16.12}')\n",
    "d.reset()"
   ]
  },
  {
   "cell_type": "code",
   "execution_count": 25,
   "id": "b847df00-6629-4572-8817-913860153871",
   "metadata": {},
   "outputs": [
    {
     "name": "stdout",
     "output_type": "stream",
     "text": [
      "frequency: error=5.53053603747e-08, spread=1.30587252807e-06\n",
      "amplitude: error=0.00853986886506, spread=0.00486330233549\n"
     ]
    }
   ],
   "source": [
    "# RPCA\n",
    "\n",
    "# Estimate frequency\n",
    "l.filter_rpca(limit=4096, factor=1.0E-12, cpu=True)\n",
    "d.window_remove_mean()\n",
    "d.window_apply()\n",
    "f = Frequency(d)\n",
    "f('parabola')\n",
    "m_f, s_f = f.frequency.mean().cpu().item(), f.frequency.std().cpu().item()\n",
    "print(f'frequency: error={abs(0.12345 - m_f):<16.12}, spread={s_f:<16.12}')\n",
    "d.reset()\n",
    "\n",
    "# Estimate amplitude\n",
    "l.filter_rpca(limit=4096, factor=1.E-12, cpu=True)\n",
    "c = 2.0/w.total*torch.sum(torch.cos(2.0*numpy.pi*m_f*t)*d.work*w.window, 1)\n",
    "s = 2.0/w.total*torch.sum(torch.sin(2.0*numpy.pi*m_f*t)*d.work*w.window, 1)\n",
    "a = torch.sqrt(c*c + s*s)\n",
    "m_a, s_a = a.mean().cpu().item(), a.std().cpu().item()\n",
    "print(f'amplitude: error={abs(1.0 - m_a):<16.12}, spread={s_a:<16.12}')\n",
    "d.reset()"
   ]
  },
  {
   "cell_type": "markdown",
   "id": "45947b13-4f0c-4786-9abd-72b46fd97872",
   "metadata": {
    "tags": []
   },
   "source": [
    "# Example-08: Mixed Hankel matrix"
   ]
  },
  {
   "cell_type": "code",
   "execution_count": 26,
   "id": "d42e945d-7ce3-4f57-ac68-0ef541de8caa",
   "metadata": {},
   "outputs": [
    {
     "data": {
      "image/png": "[encoded data removed]",
      "text/plain": [
       "<Figure size 1080x360 with 1 Axes>"
      ]
     },
     "metadata": {
      "needs_background": "light"
     },
     "output_type": "display_data"
    }
   ],
   "source": [
    "# Set parameters\n",
    "length = 256\n",
    "\n",
    "# Set noise std for each BPM\n",
    "s = 1.0E-4*(4.0*torch.rand(54, dtype=dtype, device=device) + 1.0)\n",
    "\n",
    "# Test TbT data with random noise\n",
    "w = Window(length, 'cosine_window', 1.0, dtype=dtype, device=device)\n",
    "d = Data.from_file(54, w, '../virtual_tbt.npy')\n",
    "d.add_noise(s)\n",
    "d.window_remove_mean()\n",
    "d.normalize()\n",
    "\n",
    "# Mixed Hankel matrix\n",
    "signal = d.make_signal(length, d.work)\n",
    "matrix = d.make_matrix(8192, 1, signal)\n",
    "\n",
    "# Compute singular values\n",
    "out = Filter.svd_list_randomized(rank=4*54, matrix=torch.stack([matrix]), buffer=8, count=8, random_seed=0, cpu=True).flatten()\n",
    "plt.figure(figsize=(15, 5))\n",
    "plt.scatter(range(4*54), out.cpu(), c='red')\n",
    "plt.show()"
   ]
  },
  {
   "cell_type": "markdown",
   "id": "3a2f22b4-342c-485e-b40a-503088103ae1",
   "metadata": {},
   "source": [
    "# Example-09: Hankel matrix singular values approximation"
   ]
  },
  {
   "cell_type": "code",
   "execution_count": 27,
   "id": "2cb458e2-6389-4974-b0a2-0c2439363103",
   "metadata": {},
   "outputs": [
    {
     "data": {
      "image/png": "[encoded data removed]",
      "text/plain": [
       "<Figure size 1080x360 with 1 Axes>"
      ]
     },
     "metadata": {
      "needs_background": "light"
     },
     "output_type": "display_data"
    }
   ],
   "source": [
    "# Set parameters\n",
    "length = 1024\n",
    "\n",
    "# Set noise std for each BPM\n",
    "s = 1.0E-4*(4.0*torch.rand(54, dtype=dtype, device=device) + 1.0)\n",
    "\n",
    "# Test TbT data with random noise\n",
    "w = Window(length, 'cosine_window', 1.0, dtype=dtype, device=device)\n",
    "d = Data.from_file(54, w, '../virtual_tbt.npy')\n",
    "d.add_noise(s)\n",
    "d.window_remove_mean()\n",
    "d.normalize()\n",
    "\n",
    "# Hankel matrix\n",
    "matrix, *_ = Filter.make_matrix(d.work)\n",
    "\n",
    "# Compute all singular values with full SVD\n",
    "s1 = Filter.svd_list(min(matrix.shape), torch.stack([matrix]))\n",
    "s1, *_ = s1/s1.max()\n",
    "\n",
    "# Compute first 128 singular values with randomized SVD\n",
    "s2 = Filter.svd_list_randomized(128, torch.stack([matrix]), buffer=16, count=16)\n",
    "s2, *_ = s2/s2.max()\n",
    "\n",
    "# Compute all singular values with full SVD using first 128 columns\n",
    "s3 = Filter.svd_list(128, torch.stack([matrix[:, :128]]))\n",
    "s3, *_ = s3/s3.max()\n",
    "\n",
    "# Compare singular values\n",
    "plt.figure(figsize=(15, 5))\n",
    "plt.scatter(range(len(s1)), s1.log10_().cpu(), color='black')\n",
    "plt.scatter(range(len(s2)), s2.log10_().cpu(), color='red')\n",
    "plt.scatter(range(len(s3)), s3.log10_().cpu(), color='blue')\n",
    "plt.show()"
   ]
  },
  {
   "cell_type": "code",
   "execution_count": null,
   "id": "226aed9f-922f-4876-9f98-657e7cc87f8e",
   "metadata": {},
   "outputs": [],
   "source": []
  }
 ],
 "metadata": {
  "colab": {
   "collapsed_sections": [
    "myt0_gMIOq7b",
    "5d97819c"
   ],
   "name": "03_frequency.ipynb",
   "provenance": []
  },
  "kernelspec": {
   "display_name": "Python 3 (ipykernel)",
   "language": "python",
   "name": "python3"
  },
  "language_info": {
   "codemirror_mode": {
    "name": "ipython",
    "version": 3
   },
   "file_extension": ".py",
   "mimetype": "text/x-python",
   "name": "python",
   "nbconvert_exporter": "python",
   "pygments_lexer": "ipython3",
   "version": "3.9.7"
  },
  "latex_envs": {
   "LaTeX_envs_menu_present": true,
   "autoclose": false,
   "autocomplete": true,
   "bibliofile": "biblio.bib",
   "cite_by": "apalike",
   "current_citInitial": 1,
   "eqLabelWithNumbers": true,
   "eqNumInitial": 1,
   "hotkeys": {
    "equation": "Ctrl-E",
    "itemize": "Ctrl-I"
   },
   "labels_anchors": false,
   "latex_user_defs": false,
   "report_style_numbering": false,
   "user_envs_cfg": false
  }
 },
 "nbformat": 4,
 "nbformat_minor": 5
}
