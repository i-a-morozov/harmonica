{
 "cells": [
  {
   "cell_type": "code",
   "execution_count": 1,
   "id": "a50305dc-b804-4cbb-9095-2eed2b4cf6ad",
   "metadata": {
    "tags": []
   },
   "outputs": [
    {
     "name": "stdout",
     "output_type": "stream",
     "text": [
      "True\n"
     ]
    }
   ],
   "source": [
    "# Import\n",
    "\n",
    "import epics\n",
    "import numpy\n",
    "import pandas\n",
    "import torch\n",
    "import nufft\n",
    "import yaml\n",
    "\n",
    "import sys\n",
    "sys.path.append('..')\n",
    "\n",
    "from harmonica.util import LIMIT, mod\n",
    "from harmonica.window import Window\n",
    "from harmonica.data import Data\n",
    "from harmonica.frequency import Frequency\n",
    "from harmonica.filter import Filter\n",
    "from harmonica.decomposition import Decomposition\n",
    "\n",
    "import matplotlib.pyplot as plt\n",
    "\n",
    "torch.set_printoptions(precision=12, sci_mode=True)\n",
    "print(torch.cuda.is_available())"
   ]
  },
  {
   "cell_type": "markdown",
   "id": "fccbbc0f-ad11-4be5-a06a-482e0367e3cf",
   "metadata": {
    "tags": []
   },
   "source": [
    "# Example-01: Estimation of parameters (harmonic sum)"
   ]
  },
  {
   "cell_type": "code",
   "execution_count": 2,
   "id": "f23fae47-eaee-4cbc-8ac8-ed6c860c2456",
   "metadata": {},
   "outputs": [
    {
     "name": "stdout",
     "output_type": "stream",
     "text": [
      "tensor([[2.487510441567e-01, -2.495835633644e-02, 2.500000030401e-01, 1.000000075225e-01],\n",
      "        [6.581869317981e-01, -3.595691566478e-01, 7.500000104014e-01, 4.999999965175e-01]],\n",
      "       dtype=torch.float64)\n",
      "tensor([[2.487510441567e-01, -2.495835633644e-02, 2.500000030401e-01, 1.000000075225e-01],\n",
      "        [6.581869317981e-01, -3.595691566478e-01, 7.500000104014e-01, 4.999999965175e-01]],\n",
      "       dtype=torch.float64)\n",
      "\n",
      "tensor([[2.822920460161e-03, 8.447543997630e-03, 2.706329386825e-03, 3.394245931339e-02],\n",
      "        [1.157996334008e-02, 2.118073069991e-02, 5.412658773651e-04, 3.217800267359e-02]],\n",
      "       dtype=torch.float64)\n",
      "tensor([[2.822920460161e-03, 8.447543997630e-03, 2.706329386825e-03, 3.394245931339e-02],\n",
      "        [1.157996334008e-02, 2.118073069991e-02, 5.412658773651e-04, 3.217800267359e-02]],\n",
      "       dtype=torch.float64)\n",
      "tensor([[2.800599450917e-03, 8.495099644970e-03, 2.688768239363e-03, 3.413802724088e-02],\n",
      "        [1.156953992634e-02, 2.116613627465e-02, 5.456384974039e-04, 3.216654047790e-02]],\n",
      "       dtype=torch.float64)\n",
      "\n"
     ]
    }
   ],
   "source": [
    "# Estimate parameters and standard errors (random frequency)\n",
    "\n",
    "# Set parameters\n",
    "length = 1024\n",
    "dtype = torch.float64\n",
    "device = 'cpu'\n",
    "\n",
    "# Set window\n",
    "w = Window(length, 'cosine_window', 1.0, dtype=dtype, device=device)\n",
    "\n",
    "# Set noise parameters\n",
    "s_x = torch.tensor([0.05, 0.01], dtype=dtype, device=device)\n",
    "s_f = 1.0E-5\n",
    "\n",
    "# Set data\n",
    "t = torch.linspace(0, length - 1, length, dtype=dtype, device=device)\n",
    "x = torch.stack([0.25*torch.cos(2.0*numpy.pi*0.12*t + 0.1), 0.75*torch.cos(2.0*numpy.pi*0.12*t + 0.5)])\n",
    "\n",
    "# Estimate parameters and errors (direct)\n",
    "p1, s1 = Decomposition.harmonic_sum(0.12, w.window, x, error=True, sigma=s_x, sigma_frequency=s_f)\n",
    "\n",
    "# Estimate parameters and errors (automatic)\n",
    "p2, s2 = Decomposition.harmonic_sum_automatic(0.12, w.window, x, error=True, sigma=s_x, sigma_frequency=s_f)\n",
    "\n",
    "# Estimate errors (average over noise realizations)\n",
    "box = []\n",
    "for _ in range(8192):\n",
    "    y = x + s_x.reshape(-1, 1)*torch.randn_like(x, dtype=dtype, device=device)\n",
    "    out, _ = Decomposition.harmonic_sum(0.12 + 1.0E-5*torch.randn(1, dtype=dtype, device=device), w.window, y)\n",
    "    box.append(out)    \n",
    "box = torch.stack(box).T.std(-1).T\n",
    "\n",
    "# Compare parameters\n",
    "print(p1)\n",
    "print(p2)\n",
    "print()\n",
    "\n",
    "# Compare errors\n",
    "print(s1)\n",
    "print(s2)\n",
    "print(box)\n",
    "print()"
   ]
  },
  {
   "cell_type": "markdown",
   "id": "b09f8485",
   "metadata": {
    "tags": []
   },
   "source": [
    "# Example-02: Estimation of parameters (harmonic sum & batched mode)"
   ]
  },
  {
   "cell_type": "code",
   "execution_count": 3,
   "id": "cb3ed43b-8023-4f46-abf4-360a257db5b0",
   "metadata": {},
   "outputs": [
    {
     "name": "stdout",
     "output_type": "stream",
     "text": [
      "tensor([[[2.822920601761e-03, 8.447544296222e-03, 2.706329386825e-03, 3.394245973862e-02],\n",
      "         [1.363412168625e-02, 1.992058457734e-02, 5.412658773653e-04, 3.217800385559e-02]],\n",
      "\n",
      "        [[2.820933989700e-03, 4.127929982633e-03, 2.706329386827e-03, 4.203956358381e-02],\n",
      "         [1.318111090385e-03, 7.970572419377e-03, 5.412658773716e-04, 3.224269320318e-02]],\n",
      "\n",
      "        [[2.711089283224e-03, 3.144152029843e-03, 2.706329386826e-03, 6.296499040365e-02],\n",
      "         [5.628105253876e-04, 6.104693260486e-04, 5.412658773675e-04, 6.296490438044e-02]]],\n",
      "       dtype=torch.float64)\n",
      "tensor([[[2.822920601761e-03, 8.447544296222e-03, 2.706329386825e-03, 3.394245973862e-02],\n",
      "         [1.363412168625e-02, 1.992058457734e-02, 5.412658773653e-04, 3.217800385559e-02]],\n",
      "\n",
      "        [[2.820933989700e-03, 4.127929982633e-03, 2.706329386827e-03, 4.203956358381e-02],\n",
      "         [1.318111090385e-03, 7.970572419377e-03, 5.412658773716e-04, 3.224269320318e-02]],\n",
      "\n",
      "        [[2.711089283224e-03, 3.144152029843e-03, 2.706329386826e-03, 6.296499040365e-02],\n",
      "         [5.628105253876e-04, 6.104693260486e-04, 5.412658773675e-04, 6.296490438044e-02]]],\n",
      "       dtype=torch.float64)\n",
      "tensor([[[2.822920601761e-03, 8.447544296222e-03, 2.706329386825e-03, 3.394245973862e-02],\n",
      "         [1.363412168625e-02, 1.992058457734e-02, 5.412658773653e-04, 3.217800385559e-02]],\n",
      "\n",
      "        [[2.820933989700e-03, 4.127929982633e-03, 2.706329386827e-03, 4.203956358381e-02],\n",
      "         [1.318111090385e-03, 7.970572419377e-03, 5.412658773716e-04, 3.224269320318e-02]],\n",
      "\n",
      "        [[2.711089283224e-03, 3.144152029843e-03, 2.706329386826e-03, 6.296499040365e-02],\n",
      "         [5.628105253876e-04, 6.104693260486e-04, 5.412658773675e-04, 6.296490438044e-02]]],\n",
      "       dtype=torch.float64)\n"
     ]
    }
   ],
   "source": [
    "# Estimate parameters and errors for a batch of frequencies\n",
    "\n",
    "# Set parameters\n",
    "length = 1024\n",
    "dtype = torch.float64\n",
    "device = 'cpu'\n",
    "\n",
    "# Set window\n",
    "w = Window.from_cosine(length, 1.0, dtype=torch.float64, device='cpu')\n",
    "\n",
    "# Set noise parameters\n",
    "s_x = torch.tensor([0.05, 0.01], dtype=dtype, device=device)\n",
    "s_f = 1.0E-5\n",
    "\n",
    "# Set data\n",
    "t = torch.linspace(0, length - 1, length, dtype=dtype, device=device)\n",
    "x1 = torch.stack([0.25*torch.cos(2.0*numpy.pi*0.12*t + 0.10), 0.75*torch.cos(2.0*numpy.pi*0.12*t + 0.60)])\n",
    "x2 = torch.stack([0.10*torch.cos(2.0*numpy.pi*0.24*t + 0.25), 0.25*torch.cos(2.0*numpy.pi*0.24*t + 0.15)])\n",
    "x3 = torch.stack([0.05*torch.cos(2.0*numpy.pi*0.36*t + 0.10), 0.01*torch.cos(2.0*numpy.pi*0.36*t + 0.50)])\n",
    "x = x1 + x2 + x3\n",
    "\n",
    "# Compute parameters and errors for each frequency (direct)\n",
    "p1a, s1a = Decomposition.harmonic_sum(0.12, w.window, x, error=True, sigma=s_x, sigma_frequency=s_f)\n",
    "p1b, s1b = Decomposition.harmonic_sum(0.24, w.window, x, error=True, sigma=s_x, sigma_frequency=s_f)\n",
    "p1c, s1c = Decomposition.harmonic_sum(0.36, w.window, x, error=True, sigma=s_x, sigma_frequency=s_f)\n",
    "p1 = torch.stack([p1a, p1b, p1c])\n",
    "s1 = torch.stack([s1a, s1b, s1c])\n",
    "\n",
    "# Compute parameters and errors for each frequency (automatic)\n",
    "p2a, s2a = Decomposition.harmonic_sum_automatic(0.12, w.window, x, error=True, sigma=s_x, sigma_frequency=s_f)\n",
    "p2b, s2b = Decomposition.harmonic_sum_automatic(0.24, w.window, x, error=True, sigma=s_x, sigma_frequency=s_f)\n",
    "p2c, s2c = Decomposition.harmonic_sum_automatic(0.36, w.window, x, error=True, sigma=s_x, sigma_frequency=s_f)\n",
    "p2 = torch.stack([p2a, p2b, p2c])\n",
    "s2 = torch.stack([s2a, s2b, s2c])\n",
    "\n",
    "# Compute parameters and errors for each frequency (batched)\n",
    "p3, s3 = Decomposition.harmonic_sum_batched(\n",
    "    torch.tensor([0.12, 0.24, 0.36], dtype=dtype, device=device),\n",
    "    w.window,\n",
    "    x,\n",
    "    error=True,\n",
    "    sigma=s_x,\n",
    "    sigma_frequency=torch.tensor([s_f, s_f, s_f], dtype=dtype, device=device))\n",
    "\n",
    "# Compare errors\n",
    "print(s1)\n",
    "print(s2)\n",
    "print(s3)"
   ]
  },
  {
   "cell_type": "code",
   "execution_count": 4,
   "id": "e50b4b05-80a3-413c-b621-34cfe0fab503",
   "metadata": {},
   "outputs": [
    {
     "name": "stdout",
     "output_type": "stream",
     "text": [
      "tensor([[2.500000000000e-01],\n",
      "        [1.000000000000e-01],\n",
      "        [5.000000000000e-02],\n",
      "        [2.623619031558e-16],\n",
      "        [4.015512494878e-16],\n",
      "        [3.147267753522e-16],\n",
      "        [1.854150954133e-16],\n",
      "        [1.135456674832e-16],\n",
      "        [7.519772959361e-16],\n",
      "        [2.807503616015e-16]], dtype=torch.float64)\n"
     ]
    }
   ],
   "source": [
    "# Estimate parameters for a list of harmonics\n",
    "\n",
    "# Set parameters\n",
    "length = 2048\n",
    "dtype = torch.float64\n",
    "device = 'cpu'\n",
    "\n",
    "# Set window\n",
    "w = Window.from_cosine(length, 4.0, dtype=torch.float64, device='cpu')\n",
    "\n",
    "# Set data\n",
    "t = torch.linspace(0, length - 1, length, dtype=dtype, device=device)\n",
    "x1 = torch.stack([0.25*torch.cos(2.0*numpy.pi*0.12*t + 0.10)])\n",
    "x2 = torch.stack([0.10*torch.cos(2.0*numpy.pi*0.24*t + 0.25)])\n",
    "x3 = torch.stack([0.05*torch.cos(2.0*numpy.pi*0.36*t + 0.10)])\n",
    "x = x1 + x2 + x3\n",
    "\n",
    "# Set harmonics\n",
    "f = 0.12\n",
    "h = torch.tensor([*Frequency.harmonics(10, [f]).values()], dtype=dtype, device=device)\n",
    "\n",
    "# Estimate parameters\n",
    "param, _ = Decomposition.harmonic_sum_batched(h, w.window, x, error=False)\n",
    "\n",
    "# Result (amplitude)\n",
    "*_, a, _ = param.T\n",
    "print(a.T)"
   ]
  },
  {
   "cell_type": "markdown",
   "id": "b3bfa442-20a6-4253-b0bd-b9072d622833",
   "metadata": {
    "tags": []
   },
   "source": [
    "# Example-03: Estimator bias"
   ]
  },
  {
   "cell_type": "code",
   "execution_count": 5,
   "id": "35a53aed-2f5d-4428-af86-a9c0780235fb",
   "metadata": {},
   "outputs": [
    {
     "name": "stdout",
     "output_type": "stream",
     "text": [
      "w1: 2.09465512e-05 2.2936407e-06\n",
      "w2: 3.7373038e-09 4.98039843e-09\n"
     ]
    },
    {
     "data": {
      "image/png": "[encoded data removed]",
      "text/plain": [
       "<Figure size 1080x216 with 1 Axes>"
      ]
     },
     "metadata": {
      "needs_background": "light"
     },
     "output_type": "display_data"
    },
    {
     "data": {
      "image/png": "[encoded data removed]",
      "text/plain": [
       "<Figure size 1080x216 with 1 Axes>"
      ]
     },
     "metadata": {
      "needs_background": "light"
     },
     "output_type": "display_data"
    }
   ],
   "source": [
    "# Given a noise-free signal containing several components\n",
    "# Parameters for a given frequency can be estimated using (weighted) harmonic sum\n",
    "# Estimated values depend on the length used for estimation and as well as on the signal starting position\n",
    "# In this example, estimator bias is explored\n",
    "# Ensembling several estimators (fixed length and different starting position) in general will improve estimation accuracy (reduce bias)\n",
    "\n",
    "# Set parameters\n",
    "length = 8192\n",
    "dtype = torch.float64\n",
    "device = 'cpu'\n",
    "\n",
    "# Set signal\n",
    "t = torch.linspace(0, length - 1, length, dtype=dtype, device=device)\n",
    "f = 0.123456789\n",
    "x = 1.0*torch.cos(0.25 + 2.0*numpy.pi*f*t) + 0.01*torch.cos(0.5 + 2.0*numpy.pi*2*f*t)\n",
    "x = torch.stack([x])\n",
    "\n",
    "# Set shift size for starting position\n",
    "shift = 1\n",
    "\n",
    "# Set window\n",
    "w1 = Window.from_cosine(128, 0.0, dtype=dtype, device=device)\n",
    "w2 = Window.from_cosine(128, 1.0, dtype=dtype, device=device)\n",
    "\n",
    "# Estimate amplitude and phase using shifted samples of length 128\n",
    "# Change window order, sample length and/or number of samples to observe convergents\n",
    "limit = 1024\n",
    "A1, B1 = [], []\n",
    "A2, B2 = [], []\n",
    "for step in range(limit):\n",
    "    \n",
    "    y = x[:, step*shift: step*shift + 128]\n",
    "    \n",
    "    param, _ = Decomposition.harmonic_sum(f, w1.window, y)\n",
    "    *_, a, b = param.T\n",
    "    A1.append(a)\n",
    "    B1.append(b)\n",
    "    \n",
    "    param, _ = Decomposition.harmonic_sum(f, w2.window, y)\n",
    "    *_, a, b = param.T\n",
    "    A2.append(a)\n",
    "    B2.append(b)\n",
    "    \n",
    "# Format result (amplitude is constant, while phase is shifted)\n",
    "A1 = torch.stack(A1).flatten()\n",
    "B1 = torch.stack(B1).flatten()\n",
    "B1 = mod(B1 - 2.0*numpy.pi*f*shift*torch.linspace(0, limit - 1, limit, dtype=dtype, device=device), 2.0*numpy.pi, -numpy.pi)\n",
    "A2 = torch.stack(A2).flatten()\n",
    "B2 = torch.stack(B2).flatten()\n",
    "B2 = mod(B2 - 2.0*numpy.pi*f*shift*torch.linspace(0, limit - 1, limit, dtype=dtype, device=device), 2.0*numpy.pi, -numpy.pi)\n",
    "\n",
    "# Compare mean values over samples\n",
    "print(f'w1: {torch.abs(A1.mean() - 1.0):12.9} {torch.abs(B1.mean() - 0.25):12.9}')\n",
    "print(f'w2: {torch.abs(A2.mean() - 1.0):12.9} {torch.abs(B2.mean() - 0.25):12.9}')\n",
    "\n",
    "# Plot estimations for each sample\n",
    "plt.figure(figsize=(15, 3))\n",
    "plt.scatter(range(limit), A1 - 1.00, c='red')\n",
    "plt.scatter(range(limit), A2 - 1.00, c='blue')\n",
    "plt.show()\n",
    "plt.figure(figsize=(15, 3))\n",
    "plt.scatter(range(limit), B1 - 0.25, c='red')\n",
    "plt.scatter(range(limit), B2 - 0.25, c='blue')\n",
    "plt.show()"
   ]
  },
  {
   "cell_type": "code",
   "execution_count": 6,
   "id": "9b112069-12a2-4391-b09b-c4c665bd9183",
   "metadata": {},
   "outputs": [
    {
     "data": {
      "image/png": "[encoded data removed]",
      "text/plain": [
       "<Figure size 1080x216 with 1 Axes>"
      ]
     },
     "metadata": {
      "needs_background": "light"
     },
     "output_type": "display_data"
    },
    {
     "data": {
      "image/png": "[encoded data removed]",
      "text/plain": [
       "<Figure size 1080x216 with 1 Axes>"
      ]
     },
     "metadata": {
      "needs_background": "light"
     },
     "output_type": "display_data"
    }
   ],
   "source": [
    "# Plot histogram\n",
    "\n",
    "plt.figure(figsize=(15, 3))\n",
    "plt.hist(A2.cpu().numpy(), color='blue')\n",
    "plt.show()\n",
    "\n",
    "plt.figure(figsize=(15, 3))\n",
    "plt.hist(B2.cpu().numpy(), color='blue')\n",
    "plt.show()\n",
    "\n",
    "# Other cases have similar histograms\n",
    "# Note, distribution is not normal (not random)\n",
    "# It is not symmetric if signal containes more than one component"
   ]
  },
  {
   "cell_type": "code",
   "execution_count": 7,
   "id": "d9ece523-8024-426d-8519-f45a64676c2d",
   "metadata": {},
   "outputs": [
    {
     "data": {
      "image/png": "[encoded data removed]",
      "text/plain": [
       "<Figure size 1080x216 with 1 Axes>"
      ]
     },
     "metadata": {
      "needs_background": "light"
     },
     "output_type": "display_data"
    },
    {
     "data": {
      "image/png": "[encoded data removed]",
      "text/plain": [
       "<Figure size 1080x216 with 1 Axes>"
      ]
     },
     "metadata": {
      "needs_background": "light"
     },
     "output_type": "display_data"
    }
   ],
   "source": [
    "# Plot autocorrelation of estimations\n",
    "\n",
    "AC = Frequency.autocorrelation(torch.stack([A2-A2.mean()])).flatten()\n",
    "plt.figure(figsize=(15, 3))\n",
    "plt.scatter(range(limit), AC, color='blue')\n",
    "plt.ylim(-1.1, +1.1)\n",
    "plt.show()\n",
    "\n",
    "AC = Frequency.autocorrelation(torch.stack([B2-B2.mean()])).flatten()\n",
    "plt.figure(figsize=(15, 3))\n",
    "plt.scatter(range(limit), AC, color='blue')\n",
    "plt.ylim(-1.1, +1.1)\n",
    "plt.show()"
   ]
  },
  {
   "cell_type": "code",
   "execution_count": 8,
   "id": "1643d12a-13e6-41e1-b6af-2da953c8ae5c",
   "metadata": {},
   "outputs": [
    {
     "name": "stdout",
     "output_type": "stream",
     "text": [
      "w1: 3.38341009e-06 1.94870729e-05\n",
      "w2: 2.06613804e-05 1.96750662e-05\n"
     ]
    },
    {
     "data": {
      "image/png": "[encoded data removed]",
      "text/plain": [
       "<Figure size 1080x216 with 1 Axes>"
      ]
     },
     "metadata": {
      "needs_background": "light"
     },
     "output_type": "display_data"
    },
    {
     "data": {
      "image/png": "[encoded data removed]",
      "text/plain": [
       "<Figure size 1080x216 with 1 Axes>"
      ]
     },
     "metadata": {
      "needs_background": "light"
     },
     "output_type": "display_data"
    }
   ],
   "source": [
    "# Estimate parameters for signal with noise\n",
    "\n",
    "# Set parameters\n",
    "length = 8192\n",
    "dtype = torch.float64\n",
    "device = 'cpu'\n",
    "\n",
    "# Set signal\n",
    "t = torch.linspace(0, length - 1, length, dtype=dtype, device=device)\n",
    "f = 0.123456789\n",
    "x = 1.0*torch.cos(0.25 + 2.0*numpy.pi*f*t) + 0.01*torch.cos(0.5 + 2.0*numpy.pi*2*f*t)\n",
    "x.add_(0.001*torch.randn(length, dtype=dtype, device=device))\n",
    "x = torch.stack([x])\n",
    "\n",
    "# Set shift size for starting position\n",
    "shift = 1\n",
    "\n",
    "# Set window\n",
    "# Note, without noise window increases convergence\n",
    "# With noise window amplifies noise and should be use with care if noise is large\n",
    "# A possible option is to filter data or to use fractional window order\n",
    "w1 = Window.from_cosine(128, 0.0, dtype=dtype, device=device)\n",
    "w2 = Window.from_cosine(128, 0.5, dtype=dtype, device=device)\n",
    "\n",
    "# Estimate amplitude and phase using shifted samples of length 128\n",
    "# Note, noise is correlated\n",
    "A1, B1 = [], []\n",
    "A2, B2 = [], []\n",
    "for step in range(limit):\n",
    "    y = x[:, step*shift: step*shift + 128]\n",
    "    param, _ = Decomposition.harmonic_sum(f, w1.window, y)\n",
    "    *_, a, b = param.T\n",
    "    A1.append(a)\n",
    "    B1.append(b)\n",
    "    param, _ = Decomposition.harmonic_sum(f, w2.window, y)\n",
    "    *_, a, b = param.T\n",
    "    A2.append(a)\n",
    "    B2.append(b)\n",
    "\n",
    "# Format result (amplitude is constant, while phase is shifted)\n",
    "A1 = torch.stack(A1).flatten()\n",
    "B1 = torch.stack(B1).flatten()\n",
    "B1 = mod(B1 - 2.0*numpy.pi*f*shift*torch.linspace(0, limit - 1, limit, dtype=dtype, device=device), 2.0*numpy.pi, -numpy.pi)\n",
    "A2 = torch.stack(A2).flatten()\n",
    "B2 = torch.stack(B2).flatten()\n",
    "B2 = mod(B2 - 2.0*numpy.pi*f*shift*torch.linspace(0, limit - 1, limit, dtype=dtype, device=device), 2.0*numpy.pi, -numpy.pi)\n",
    "\n",
    "# Compare mean values over samples\n",
    "print(f'w1: {torch.abs(A1.mean() - 1.0):12.9} {torch.abs(B1.mean() - 0.25):12.9}')\n",
    "print(f'w2: {torch.abs(A2.mean() - 1.0):12.9} {torch.abs(B2.mean() - 0.25):12.9}')\n",
    "\n",
    "# Plot estimations for each sample\n",
    "plt.figure(figsize=(15, 3))\n",
    "plt.scatter(range(limit), A1 - 1.00, c='red')\n",
    "plt.scatter(range(limit), A2 - 1.00, c='blue')\n",
    "plt.show()\n",
    "plt.figure(figsize=(15, 3))\n",
    "plt.scatter(range(limit), B1 - 0.25, c='red')\n",
    "plt.scatter(range(limit), B2 - 0.25, c='blue')\n",
    "plt.show()"
   ]
  },
  {
   "cell_type": "code",
   "execution_count": 9,
   "id": "a5192350-edc4-44d5-a155-99ffcd2b4279",
   "metadata": {},
   "outputs": [
    {
     "data": {
      "image/png": "[encoded data removed]",
      "text/plain": [
       "<Figure size 1080x216 with 1 Axes>"
      ]
     },
     "metadata": {
      "needs_background": "light"
     },
     "output_type": "display_data"
    },
    {
     "data": {
      "image/png": "[encoded data removed]",
      "text/plain": [
       "<Figure size 1080x216 with 1 Axes>"
      ]
     },
     "metadata": {
      "needs_background": "light"
     },
     "output_type": "display_data"
    }
   ],
   "source": [
    "# Plot histogram\n",
    "\n",
    "plt.figure(figsize=(15, 3))\n",
    "plt.hist(A2.cpu().numpy(), color='blue')\n",
    "plt.show()\n",
    "\n",
    "plt.figure(figsize=(15, 3))\n",
    "plt.hist(B2.cpu().numpy(), color='blue')\n",
    "plt.show()\n",
    "\n",
    "# Other cases have similar histograms\n",
    "# Note, distribution looks somewhat not normal"
   ]
  },
  {
   "cell_type": "code",
   "execution_count": 10,
   "id": "7d25d838-6fab-42b1-a6c3-008b42965e3c",
   "metadata": {},
   "outputs": [
    {
     "data": {
      "image/png": "[encoded data removed]",
      "text/plain": [
       "<Figure size 1080x216 with 1 Axes>"
      ]
     },
     "metadata": {
      "needs_background": "light"
     },
     "output_type": "display_data"
    },
    {
     "data": {
      "image/png": "[encoded data removed]",
      "text/plain": [
       "<Figure size 1080x216 with 1 Axes>"
      ]
     },
     "metadata": {
      "needs_background": "light"
     },
     "output_type": "display_data"
    }
   ],
   "source": [
    "# Plot autocorrelation of estimations\n",
    "\n",
    "AC = Frequency.autocorrelation(torch.stack([A2-A2.mean()])).flatten()\n",
    "plt.figure(figsize=(15, 3))\n",
    "plt.scatter(range(limit), AC, color='blue')\n",
    "plt.ylim(-1.1, +1.1)\n",
    "plt.show()\n",
    "\n",
    "AC = Frequency.autocorrelation(torch.stack([B2-B2.mean()])).flatten()\n",
    "plt.figure(figsize=(15, 3))\n",
    "plt.scatter(range(limit), AC, color='blue')\n",
    "plt.ylim(-1.1, +1.1)\n",
    "plt.show()"
   ]
  },
  {
   "cell_type": "markdown",
   "id": "8abaa226-d677-4a3f-b038-ef2f5662f697",
   "metadata": {
    "tags": []
   },
   "source": [
    "# Example-04: Amplitude estimation loop"
   ]
  },
  {
   "cell_type": "code",
   "execution_count": 11,
   "id": "5c842133-8b44-4e70-a6a0-c34589b3dc46",
   "metadata": {},
   "outputs": [],
   "source": [
    "# In this example amplitude estimation loop is described\n",
    "# Amplitude and its error is estimated for given frequency using different methods"
   ]
  },
  {
   "cell_type": "code",
   "execution_count": 12,
   "id": "4a2173e8-5cdf-443c-b227-592b37dbc3cd",
   "metadata": {},
   "outputs": [
    {
     "name": "stdout",
     "output_type": "stream",
     "text": [
      "frequency= 0.536883099, spread=1.38725499e-16, error=2.56151871e-13\n"
     ]
    },
    {
     "data": {
      "image/png": "[encoded data removed]",
      "text/plain": [
       "<Figure size 1080x360 with 1 Axes>"
      ]
     },
     "metadata": {
      "needs_background": "light"
     },
     "output_type": "display_data"
    }
   ],
   "source": [
    "# Estimate reference parameters\n",
    "\n",
    "# Set window\n",
    "length = 4096\n",
    "dtype = torch.float64\n",
    "device = 'cpu'\n",
    "w = Window(length, 'cosine_window', 5.0, dtype=dtype, device=device)\n",
    "\n",
    "# Load data\n",
    "d = Data.from_file(54, w, '../virtual_tbt.npy')\n",
    "\n",
    "# Estimate frequency\n",
    "f = Frequency(d)\n",
    "d.window_remove_mean()\n",
    "d.window_apply()\n",
    "f('parabola')\n",
    "d.reset()\n",
    "frequency, spread = f.frequency.mean(), f.frequency.std()\n",
    "frequency = 1.0 - frequency\n",
    "\n",
    "# Estimate amplitude for given frequency\n",
    "h = Decomposition(d)\n",
    "result, _ = h.harmonic_sum(frequency, w.window, d.data)\n",
    "_, _, amplitude, phase = result.T\n",
    "\n",
    "# Check maximum reconstruction error\n",
    "result = []\n",
    "for a, b in zip(amplitude, phase):\n",
    "    result.append(Data.make_harmonic(length, frequency, a, b, dtype=dtype, device=device))\n",
    "result = torch.stack(result)\n",
    "print(f'frequency={frequency.item():12.9}, spread={spread.item():12.9}, error={(d.data - result).abs().max().item():12.9}')\n",
    "\n",
    "# Plot amplitude\n",
    "plt.figure(figsize=(15, 5))\n",
    "plt.scatter(range(54), amplitude.cpu(), color='black')\n",
    "plt.show()"
   ]
  },
  {
   "cell_type": "code",
   "execution_count": 13,
   "id": "c560b3e7-e395-4130-b525-eeefdcf073a0",
   "metadata": {},
   "outputs": [
    {
     "name": "stdout",
     "output_type": "stream",
     "text": [
      "frequency= 0.536882801, spread=9.83037929e-07\n"
     ]
    }
   ],
   "source": [
    "# Real TbT data length is limited by decoherence\n",
    "# In this example 1024 turns are used for frequency estimation and only 256 for amplitude\n",
    "\n",
    "# Set window\n",
    "length = 1024\n",
    "dtype = torch.float64\n",
    "device = 'cpu'\n",
    "w = Window(length, 'cosine_window', 1.0, dtype=dtype, device=device)\n",
    "\n",
    "# Load data\n",
    "d = Data.from_file(54, w, '../virtual_tbt.npy')\n",
    "\n",
    "# Add random noise\n",
    "n = 1.0E-6*(25.0 + 75.0*torch.rand(54, dtype=dtype, device=device))\n",
    "d.add_noise(n)\n",
    "d.data.copy_(d.work)\n",
    "\n",
    "# Estimate frequency (average over signals)\n",
    "f = Frequency(d)\n",
    "d.window_remove_mean()\n",
    "d.window_apply()\n",
    "f('parabola')\n",
    "d.reset()\n",
    "frequency, spread = f.frequency.mean(), f.frequency.std()\n",
    "frequency = 1.0 - frequency\n",
    "print(f'frequency={frequency.item():12.9}, spread={spread.item():12.9}')"
   ]
  },
  {
   "cell_type": "code",
   "execution_count": 14,
   "id": "6e572339-fde0-4481-ad68-7475888bc194",
   "metadata": {},
   "outputs": [
    {
     "data": {
      "image/png": "[encoded data removed]",
      "text/plain": [
       "<Figure size 1080x360 with 1 Axes>"
      ]
     },
     "metadata": {
      "needs_background": "light"
     },
     "output_type": "display_data"
    }
   ],
   "source": [
    "# Amplitude (and its error) can be estimated using harmonic_amplitude method\n",
    "dec = Decomposition(d)\n",
    "\n",
    "# Estimate amplitude and its spread using error propogation without window (noise is estimated using optimal SVD truncation)\n",
    "out1, err1, _ = dec.harmonic_amplitude(frequency, length=256, order=0.0, error=True, sigma_frequency=spread)\n",
    "\n",
    "# Estimate amplitude and its spread using error propogation with window\n",
    "out2, err2, _ = dec.harmonic_amplitude(frequency, length=256, order=1.0, error=True, sigma_frequency=spread)\n",
    "\n",
    "# Compare results\n",
    "plt.figure(figsize=(15, 5))\n",
    "plt.errorbar(range(54), (out1-amplitude).cpu().numpy(), yerr=err1.cpu().numpy(), fmt=' ', marker='o', color='red')\n",
    "plt.errorbar(range(54), (out2-amplitude).cpu().numpy(), yerr=err2.cpu().numpy(), fmt=' ', marker='o', color='blue')\n",
    "plt.hlines(0, 0, 53, colors='black')\n",
    "plt.ylim(-5.0E-5, +5.0E-5)\n",
    "plt.show()"
   ]
  },
  {
   "cell_type": "code",
   "execution_count": 15,
   "id": "a4a7509f-b36a-4277-8c82-bc49f447efd4",
   "metadata": {},
   "outputs": [
    {
     "data": {
      "image/png": "[encoded data removed]",
      "text/plain": [
       "<Figure size 1080x144 with 1 Axes>"
      ]
     },
     "metadata": {
      "needs_background": "light"
     },
     "output_type": "display_data"
    },
    {
     "data": {
      "image/png": "[encoded data removed]",
      "text/plain": [
       "<Figure size 1080x144 with 1 Axes>"
      ]
     },
     "metadata": {
      "needs_background": "light"
     },
     "output_type": "display_data"
    },
    {
     "data": {
      "image/png": "[encoded data removed]",
      "text/plain": [
       "<Figure size 1080x144 with 1 Axes>"
      ]
     },
     "metadata": {
      "needs_background": "light"
     },
     "output_type": "display_data"
    }
   ],
   "source": [
    "# Sampling can be used to improve estimation accuracy (sampling reduce effect of bias)\n",
    "dec = Decomposition(d)\n",
    "\n",
    "# Estimate amplitude and its spread using error propogation\n",
    "out1, err1, _ = dec.harmonic_amplitude(frequency, length=256, order=1.0, error=True, sigma_frequency=spread)\n",
    "\n",
    "# Estimate amplitude and its spread from shifted samples\n",
    "out2, err2, _ = dec.harmonic_amplitude(frequency, length=128, order=1.0, error=True, sigma_frequency=spread, shift=True, count=128, step=1, fit='none')\n",
    "out3, err3, _ = dec.harmonic_amplitude(frequency, length=128, order=1.0, error=True, sigma_frequency=spread, shift=True, count=128, step=1, fit='average')\n",
    "\n",
    "# Compare results\n",
    "plt.figure(figsize=(15, 2))\n",
    "plt.errorbar(range(54), (out1-amplitude).cpu().numpy(), yerr=err1.cpu().numpy(), fmt=' ', marker='o', color='blue')\n",
    "plt.hlines(0, 0, 53, colors='black')\n",
    "plt.ylim(-5.0E-5, +5.0E-5)\n",
    "plt.show()\n",
    "\n",
    "plt.figure(figsize=(15, 2))\n",
    "plt.errorbar(range(54), (out2-amplitude).cpu().numpy(), yerr=err2.cpu().numpy(), fmt=' ', marker='o', color='blue')\n",
    "plt.hlines(0, 0, 53, colors='black')\n",
    "plt.ylim(-5.0E-5, +5.0E-5)\n",
    "plt.show()\n",
    "\n",
    "plt.figure(figsize=(15, 2))\n",
    "plt.errorbar(range(54), (out3-amplitude).cpu().numpy(), yerr=err3.cpu().numpy(), fmt=' ', marker='o', color='blue')\n",
    "plt.hlines(0, 0, 53, colors='black')\n",
    "plt.ylim(-5.0E-5, +5.0E-5)\n",
    "plt.show()"
   ]
  },
  {
   "cell_type": "code",
   "execution_count": 16,
   "id": "af737a47-5308-4890-bdac-601e002a3d1a",
   "metadata": {},
   "outputs": [
    {
     "data": {
      "image/png": "[encoded data removed]",
      "text/plain": [
       "<Figure size 1080x144 with 1 Axes>"
      ]
     },
     "metadata": {
      "needs_background": "light"
     },
     "output_type": "display_data"
    },
    {
     "data": {
      "image/png": "[encoded data removed]",
      "text/plain": [
       "<Figure size 1080x144 with 1 Axes>"
      ]
     },
     "metadata": {
      "needs_background": "light"
     },
     "output_type": "display_data"
    },
    {
     "data": {
      "image/png": "[encoded data removed]",
      "text/plain": [
       "<Figure size 1080x144 with 1 Axes>"
      ]
     },
     "metadata": {
      "needs_background": "light"
     },
     "output_type": "display_data"
    }
   ],
   "source": [
    "# Filter data\n",
    "flt = Filter(d)\n",
    "flt.filter_svd(rank=2)\n",
    "flt.filter_hankel(rank=2, random=True, buffer=16, count=16)\n",
    "\n",
    "# Estimate amplitude\n",
    "dec = Decomposition(d)\n",
    "out1, err1, _ = dec.harmonic_amplitude(frequency, length=256, order=1.0, error=True, sigma_frequency=spread)\n",
    "out2, err2, _ = dec.harmonic_amplitude(frequency, length=128, order=1.0, error=True, sigma_frequency=spread, shift=True, count=128, step=1, fit='none')\n",
    "out3, err3, _ = dec.harmonic_amplitude(frequency, length=128, order=1.0, error=True, sigma_frequency=spread, shift=True, count=128, step=1, fit='average')\n",
    "\n",
    "# Compare results\n",
    "plt.figure(figsize=(15, 2))\n",
    "plt.errorbar(range(54), (out1-amplitude).cpu().numpy(), yerr=err1.cpu().numpy(), fmt=' ', marker='o', color='blue')\n",
    "plt.hlines(0, 0, 53, colors='black')\n",
    "plt.ylim(-5.0E-5, +5.0E-5)\n",
    "plt.show()\n",
    "\n",
    "plt.figure(figsize=(15, 2))\n",
    "plt.errorbar(range(54), (out2-amplitude).cpu().numpy(), yerr=err2.cpu().numpy(), fmt=' ', marker='o', color='blue')\n",
    "plt.hlines(0, 0, 53, colors='black')\n",
    "plt.ylim(-5.0E-5, +5.0E-5)\n",
    "plt.show()\n",
    "\n",
    "plt.figure(figsize=(15, 2))\n",
    "plt.errorbar(range(54), (out3-amplitude).cpu().numpy(), yerr=err3.cpu().numpy(), fmt=' ', marker='o', color='blue')\n",
    "plt.hlines(0, 0, 53, colors='black')\n",
    "plt.ylim(-5.0E-5, +5.0E-5)\n",
    "plt.show()\n",
    "\n",
    "d.reset()"
   ]
  },
  {
   "cell_type": "markdown",
   "id": "970613e8-a51e-4228-9647-f60e5143d338",
   "metadata": {
    "tags": []
   },
   "source": [
    "# Example-05: Phase estimation loop"
   ]
  },
  {
   "cell_type": "code",
   "execution_count": 17,
   "id": "1b69caec-6cf8-49d5-b73b-939be2f77a6a",
   "metadata": {},
   "outputs": [
    {
     "data": {
      "image/png": "[encoded data removed]",
      "text/plain": [
       "<Figure size 1080x360 with 1 Axes>"
      ]
     },
     "metadata": {
      "needs_background": "light"
     },
     "output_type": "display_data"
    }
   ],
   "source": [
    "# Load model phase advance data\n",
    "with open('../config.yaml', 'r') as stream:\n",
    "    config = yaml.safe_load(stream)\n",
    "    config = {key: config[key] for key in sorted(config.keys(), key=lambda name: config[name]['S'])}\n",
    "\n",
    "total = config['END']['FX']\n",
    "model = torch.tensor([value['FX'] for key, value in config.items() if value['TYPE'] == 'MONITOR'], dtype=torch.float64)\n",
    "\n",
    "# Plot adjacent phase advance\n",
    "model, _ = Decomposition.phase_adjacent(total, model)\n",
    "plt.figure(figsize=(15, 5))\n",
    "plt.scatter(range(54), model.cpu().numpy(), color='black')\n",
    "plt.show()"
   ]
  },
  {
   "cell_type": "code",
   "execution_count": 18,
   "id": "e0354489-ef42-436f-af64-7037ac40f997",
   "metadata": {},
   "outputs": [
    {
     "name": "stdout",
     "output_type": "stream",
     "text": [
      "frequency= 0.536883099, spread=1.38725499e-16, error=2.56151871e-13\n"
     ]
    }
   ],
   "source": [
    "# Estimate reference parameters\n",
    "\n",
    "# Set window\n",
    "length = 4096\n",
    "dtype = torch.float64\n",
    "device = 'cpu'\n",
    "w = Window(length, 'cosine_window', 5.0, dtype=dtype, device=device)\n",
    "\n",
    "# Load data\n",
    "d = Data.from_file(54, w, '../virtual_tbt.npy')\n",
    "\n",
    "# Estimate frequency\n",
    "f = Frequency(d)\n",
    "d.window_remove_mean()\n",
    "d.window_apply()\n",
    "f('parabola')\n",
    "d.reset()\n",
    "frequency, spread = f.frequency.mean(), f.frequency.std()\n",
    "frequency = 1.0 - frequency\n",
    "\n",
    "# Estimate amplitude for given frequency\n",
    "h = Decomposition(d)\n",
    "result, _ = h.harmonic_sum(frequency, w.window, d.data)\n",
    "_, _, amplitude, phase = result.T\n",
    "\n",
    "# Check maximum reconstruction error\n",
    "result = []\n",
    "for a, b in zip(amplitude, phase):\n",
    "    result.append(Data.make_harmonic(length, frequency, a, b, dtype=dtype, device=device))\n",
    "result = torch.stack(result)\n",
    "print(f'frequency={frequency.item():12.9}, spread={spread.item():12.9}, error={(d.data - result).abs().max().item():12.9}')"
   ]
  },
  {
   "cell_type": "code",
   "execution_count": 19,
   "id": "fa851df7-698f-49f9-9f86-1148982a003e",
   "metadata": {},
   "outputs": [
    {
     "name": "stdout",
     "output_type": "stream",
     "text": [
      "frequency= 0.536882897, spread=1.22310636e-06\n"
     ]
    }
   ],
   "source": [
    "# Real TbT data length is limited by decoherence\n",
    "# In this example 1024 turns are used for frequency estimation and only 512 for phase\n",
    "\n",
    "# Set window\n",
    "length = 1024\n",
    "dtype = torch.float64\n",
    "device = 'cpu'\n",
    "w = Window(length, 'cosine_window', 1.0, dtype=dtype, device=device)\n",
    "\n",
    "# Load data\n",
    "d = Data.from_file(54, w, '../virtual_tbt.npy')\n",
    "\n",
    "# Add random noise\n",
    "n = 1.0E-6*(25.0 + 75.0*torch.rand(54, dtype=dtype, device=device))\n",
    "d.add_noise(n)\n",
    "d.data.copy_(d.work)\n",
    "\n",
    "# Estimate frequency (average over signals)\n",
    "f = Frequency(d)\n",
    "d.window_remove_mean()\n",
    "d.window_apply()\n",
    "f('parabola')\n",
    "d.reset()\n",
    "frequency, spread = f.frequency.mean(), f.frequency.std()\n",
    "frequency = 1.0 - frequency\n",
    "print(f'frequency={frequency.item():12.9}, spread={spread.item():12.9}')"
   ]
  },
  {
   "cell_type": "code",
   "execution_count": 20,
   "id": "d5010a3d-cc54-4922-8805-9ea390dc77d1",
   "metadata": {},
   "outputs": [
    {
     "data": {
      "image/png": "[encoded data removed]",
      "text/plain": [
       "<Figure size 1080x144 with 1 Axes>"
      ]
     },
     "metadata": {
      "needs_background": "light"
     },
     "output_type": "display_data"
    },
    {
     "data": {
      "image/png": "[encoded data removed]",
      "text/plain": [
       "<Figure size 1080x144 with 1 Axes>"
      ]
     },
     "metadata": {
      "needs_background": "light"
     },
     "output_type": "display_data"
    },
    {
     "data": {
      "image/png": "[encoded data removed]",
      "text/plain": [
       "<Figure size 1080x144 with 1 Axes>"
      ]
     },
     "metadata": {
      "needs_background": "light"
     },
     "output_type": "display_data"
    },
    {
     "name": "stdout",
     "output_type": "stream",
     "text": [
      "tensor(4.180334673522e-03, dtype=torch.float64)\n",
      "tensor(2.266536828168e-03, dtype=torch.float64)\n",
      "tensor(2.266536828168e-03, dtype=torch.float64)\n"
     ]
    }
   ],
   "source": [
    "# Estimate phase\n",
    "dec = Decomposition(d)\n",
    "out1, err1, _ = dec.harmonic_phase(frequency, length=512, order=0.0, error=True, sigma_frequency=spread)\n",
    "out2, err2, _ = dec.harmonic_phase(frequency, length=256, order=0.0, error=True, sigma_frequency=spread, shift=True, count=256, step=1, fit='none')\n",
    "out3, err3, _ = dec.harmonic_phase(frequency, length=256, order=0.0, error=True, sigma_frequency=spread, shift=True, count=256, step=1, fit='average')\n",
    "\n",
    "# Compare results\n",
    "plt.figure(figsize=(15, 2))\n",
    "plt.errorbar(range(54), (out1 - phase).cpu().numpy(), yerr=err1.cpu().numpy(), fmt=' ', marker='o', color='blue')\n",
    "plt.hlines(0, 0, 53, colors='black')\n",
    "plt.ylim(-1.0E-2, +1.0E-2)\n",
    "plt.show()\n",
    "\n",
    "plt.figure(figsize=(15, 2))\n",
    "plt.errorbar(range(54), (out2 - phase).cpu().numpy(), yerr=err2.cpu().numpy(), fmt=' ', marker='o', color='blue')\n",
    "plt.hlines(0, 0, 53, colors='black')\n",
    "plt.ylim(-1.0E-2, +1.0E-2)\n",
    "plt.show()\n",
    "\n",
    "plt.figure(figsize=(15, 2))\n",
    "plt.errorbar(range(54), (out3 - phase).cpu().numpy(), yerr=err3.cpu().numpy(), fmt=' ', marker='o', color='blue')\n",
    "plt.hlines(0, 0, 53, colors='black')\n",
    "plt.ylim(-1.0E-2, +1.0E-2)\n",
    "plt.show()\n",
    "\n",
    "print((out1 - phase).std())\n",
    "print((out2 - phase).std())\n",
    "print((out3 - phase).std())"
   ]
  },
  {
   "cell_type": "code",
   "execution_count": 21,
   "id": "c6d9c99f-4eeb-4013-9b21-c469ec6a9e26",
   "metadata": {},
   "outputs": [
    {
     "data": {
      "image/png": "[encoded data removed]",
      "text/plain": [
       "<Figure size 1080x144 with 1 Axes>"
      ]
     },
     "metadata": {
      "needs_background": "light"
     },
     "output_type": "display_data"
    },
    {
     "data": {
      "image/png": "[encoded data removed]",
      "text/plain": [
       "<Figure size 1080x144 with 1 Axes>"
      ]
     },
     "metadata": {
      "needs_background": "light"
     },
     "output_type": "display_data"
    },
    {
     "data": {
      "image/png": "[encoded data removed]",
      "text/plain": [
       "<Figure size 1080x144 with 1 Axes>"
      ]
     },
     "metadata": {
      "needs_background": "light"
     },
     "output_type": "display_data"
    },
    {
     "name": "stdout",
     "output_type": "stream",
     "text": [
      "tensor(4.074539644309e-03, dtype=torch.float64)\n",
      "tensor(1.272060909194e-03, dtype=torch.float64)\n",
      "tensor(1.272060909194e-03, dtype=torch.float64)\n"
     ]
    }
   ],
   "source": [
    "# Estimate phase (filter)\n",
    "flt = Filter(d)\n",
    "flt.filter_svd(rank=2)\n",
    "flt.filter_hankel(rank=2, random=True, buffer=16, count=16)\n",
    "out1, err1, _ = dec.harmonic_phase(frequency, length=512, order=0.0, error=True, sigma_frequency=spread)\n",
    "out2, err2, _ = dec.harmonic_phase(frequency, length=256, order=0.0, error=True, sigma_frequency=spread, shift=True, count=256, step=1, fit='none')\n",
    "out3, err3, _ = dec.harmonic_phase(frequency, length=256, order=0.0, error=True, sigma_frequency=spread, shift=True, count=256, step=1, fit='average')\n",
    "\n",
    "# Compare results\n",
    "plt.figure(figsize=(15, 2))\n",
    "plt.errorbar(range(54), (out1 - phase).cpu().numpy(), yerr=err1.cpu().numpy(), fmt=' ', marker='o', color='blue')\n",
    "plt.hlines(0, 0, 53, colors='black')\n",
    "plt.ylim(-1.0E-2, +1.0E-2)\n",
    "plt.show()\n",
    "\n",
    "plt.figure(figsize=(15, 2))\n",
    "plt.errorbar(range(54), (out2 - phase).cpu().numpy(), yerr=err2.cpu().numpy(), fmt=' ', marker='o', color='blue')\n",
    "plt.hlines(0, 0, 53, colors='black')\n",
    "plt.ylim(-1.0E-2, +1.0E-2)\n",
    "plt.show()\n",
    "\n",
    "plt.figure(figsize=(15, 2))\n",
    "plt.errorbar(range(54), (out3 - phase).cpu().numpy(), yerr=err3.cpu().numpy(), fmt=' ', marker='o', color='blue')\n",
    "plt.hlines(0, 0, 53, colors='black')\n",
    "plt.ylim(-1.0E-2, +1.0E-2)\n",
    "plt.show()\n",
    "\n",
    "print((out1 - phase).std())\n",
    "print((out2 - phase).std())\n",
    "print((out3 - phase).std())\n",
    "\n",
    "d.reset()"
   ]
  },
  {
   "cell_type": "code",
   "execution_count": 22,
   "id": "2639cde9-df94-41a0-b41d-d101fc717dea",
   "metadata": {},
   "outputs": [
    {
     "data": {
      "image/png": "[encoded data removed]",
      "text/plain": [
       "<Figure size 1080x144 with 1 Axes>"
      ]
     },
     "metadata": {
      "needs_background": "light"
     },
     "output_type": "display_data"
    },
    {
     "data": {
      "image/png": "[encoded data removed]",
      "text/plain": [
       "<Figure size 1080x144 with 1 Axes>"
      ]
     },
     "metadata": {
      "needs_background": "light"
     },
     "output_type": "display_data"
    },
    {
     "data": {
      "image/png": "[encoded data removed]",
      "text/plain": [
       "<Figure size 1080x144 with 1 Axes>"
      ]
     },
     "metadata": {
      "needs_background": "light"
     },
     "output_type": "display_data"
    },
    {
     "name": "stdout",
     "output_type": "stream",
     "text": [
      "tensor(8.635765548630e-02, dtype=torch.float64)\n",
      "tensor(8.711905636353e-02, dtype=torch.float64)\n",
      "tensor(8.711905636353e-02, dtype=torch.float64)\n"
     ]
    }
   ],
   "source": [
    "# Compute and compare phase advance for the last case\n",
    "add1, std1 = Decomposition.phase_adjacent(frequency, out1, model=False, sigma_frequency=spread, sigma_phase=err1)\n",
    "add2, std2 = Decomposition.phase_adjacent(frequency, out2, model=False, sigma_frequency=spread, sigma_phase=err1)\n",
    "add3, std3 = Decomposition.phase_adjacent(frequency, out3, model=False, sigma_frequency=spread, sigma_phase=err1)\n",
    "\n",
    "\n",
    "plt.figure(figsize=(15, 2))\n",
    "plt.errorbar(range(54), (add1 - model).cpu().numpy(), yerr=std1.cpu().numpy(), fmt=' ', marker='o', color='blue')\n",
    "plt.hlines(0, 0, 53, colors='black')\n",
    "plt.ylim(-1.0E-2, +1.0E-2)\n",
    "plt.show()\n",
    "\n",
    "plt.figure(figsize=(15, 2))\n",
    "plt.errorbar(range(54), (add2 - model).cpu().numpy(), yerr=std2.cpu().numpy(), fmt=' ', marker='o', color='blue')\n",
    "plt.hlines(0, 0, 53, colors='black')\n",
    "plt.ylim(-1.0E-2, +1.0E-2)\n",
    "plt.show()\n",
    "\n",
    "plt.figure(figsize=(15, 2))\n",
    "plt.errorbar(range(54), (add3 - model).cpu().numpy(), yerr=std3.cpu().numpy(), fmt=' ', marker='o', color='blue')\n",
    "plt.hlines(0, 0, 53, colors='black')\n",
    "plt.ylim(-1.0E-2, +1.0E-2)\n",
    "plt.show()\n",
    "\n",
    "print((add1 - model).std())\n",
    "print((add2 - model).std())\n",
    "print((add3 - model).std())"
   ]
  },
  {
   "cell_type": "markdown",
   "id": "fb073934-bd0b-4a03-99d5-e5d5f000a8ba",
   "metadata": {
    "tags": []
   },
   "source": [
    "# Example-06: Synchronization check & phase correction"
   ]
  },
  {
   "cell_type": "code",
   "execution_count": 23,
   "id": "e31fa6e5-a174-42c0-9796-2086291ff2c0",
   "metadata": {},
   "outputs": [],
   "source": [
    "# In this example synchonization error (wrong starting turn) and corresponding phase correction is presented\n",
    "# Separate function is available in Twiss class"
   ]
  },
  {
   "cell_type": "code",
   "execution_count": 24,
   "id": "e082a76f-5e4b-4257-9db2-b8c038ac4955",
   "metadata": {},
   "outputs": [],
   "source": [
    "# Load phase advance data\n",
    "with open('../config.yaml', 'r') as stream:\n",
    "    config = yaml.safe_load(stream)\n",
    "    config = {key: config[key] for key in sorted(config.keys(), key=lambda name: config[name]['S'])}\n",
    "advance = numpy.array([value['FX'] for key, value in config.items() if value['TYPE'] == 'MONITOR' or key == 'END'])\n",
    "advance = numpy.diff(advance)"
   ]
  },
  {
   "cell_type": "code",
   "execution_count": 25,
   "id": "7aadb82e-c6eb-44e2-95aa-26b341a1a26c",
   "metadata": {},
   "outputs": [
    {
     "name": "stdout",
     "output_type": "stream",
     "text": [
      "frequency= 0.536882954, spread=1.1664675e-06\n"
     ]
    }
   ],
   "source": [
    "# Set window\n",
    "length = 1024\n",
    "dtype = torch.float64\n",
    "device = 'cpu'\n",
    "w = Window(length, 'cosine_window', 1.0, dtype=dtype, device=device)\n",
    "\n",
    "# Load data\n",
    "table = numpy.load('../virtual_tbt.npy')\n",
    "\n",
    "# Set correct starting position for all signals\n",
    "start = 128\n",
    "\n",
    "# Set synchronization errors\n",
    "# If shifted in + by one, need to - for correction\n",
    "# If shifted in - by one, need to + for correction\n",
    "error = {10: 127, 31: 129, 32:129, 41:127, 43:129}\n",
    "\n",
    "# Set data\n",
    "d = torch.zeros((54, length), dtype=dtype, device=device)\n",
    "for i in range(54):\n",
    "    first = start if i not in error else error[i]\n",
    "    d[i] = torch.tensor(table[i, first: first + length])\n",
    "d = Data.from_data(w, d)\n",
    "\n",
    "# Add random noise\n",
    "n = 1.0E-6*(25.0 + 75.0*torch.rand(54, dtype=dtype, device=device))\n",
    "d.add_noise(n)\n",
    "d.data.copy_(d.work)\n",
    "\n",
    "# Estimate frequency (average over signals)\n",
    "f = Frequency(d)\n",
    "d.window_remove_mean()\n",
    "d.window_apply()\n",
    "f('parabola')\n",
    "d.reset()\n",
    "frequency, spread = f.frequency.mean(), f.frequency.std()\n",
    "frequency = 1.0 - frequency\n",
    "print(f'frequency={frequency.item():12.9}, spread={spread.item():12.9}')"
   ]
  },
  {
   "cell_type": "code",
   "execution_count": 26,
   "id": "361a1d66-c449-45ad-b8ad-4bda98469c84",
   "metadata": {},
   "outputs": [
    {
     "name": "stdout",
     "output_type": "stream",
     "text": [
      "8.536882954174649\n",
      "12.536882954174647\n"
     ]
    },
    {
     "data": {
      "image/png": "[encoded data removed]",
      "text/plain": [
       "<Figure size 1080x216 with 1 Axes>"
      ]
     },
     "metadata": {
      "needs_background": "light"
     },
     "output_type": "display_data"
    }
   ],
   "source": [
    "# Estimate phase and compute phase advance\n",
    "dec = Decomposition(d)\n",
    "out, _, _ = dec.harmonic_phase(frequency, length=512, order=0.0)\n",
    "add, _ = Decomposition.phase_adjacent(frequency, out)\n",
    "\n",
    "# Total advance might be used as indicator in some cases (not robust)\n",
    "print((8.0 + frequency).item())\n",
    "print((add.sum()/(2.0*numpy.pi)).item())\n",
    "\n",
    "# Plot phase advance\n",
    "plt.figure(figsize=(15, 3))\n",
    "plt.scatter(range(54), advance, color='red')\n",
    "plt.scatter(range(54), add, color='blue')\n",
    "plt.show()"
   ]
  },
  {
   "cell_type": "code",
   "execution_count": 27,
   "id": "ab20d13b-1674-43d4-a493-14b4e52074fd",
   "metadata": {},
   "outputs": [],
   "source": [
    "# To perform a more robust test & correction, the following is assumed:\n",
    "\n",
    "# A) most of signals have no synchronization error\n",
    "# B) signal can be off only by one turn in any direction\n",
    "# C) without synchronization errors phase advance is close to model (some threshold can be specified)\n",
    "\n",
    "# With these assumptions, it is possible to identify signals that might have a synchronization error\n",
    "# To do this, pairs with large advance error are marked (based on robust dispersion or other methods, see below)\n",
    "# Other pairs are assumed to be correct\n",
    "# Signals at the endpoints are correct\n",
    "# Select adjacent signal with correct phase and right marked signal, check the effect of adding or subtracting of one turn\n",
    "# If such correction results in significant improvement, change corresponding phase (starting position might not be avalible)\n",
    "# Do this for all marked signals\n",
    "\n",
    "# If synchronization error is indeed present, results should match for both planes\n",
    "\n",
    "# Ones corrected, tests can be performed again (e.g. when not all pairs are marked initialy)"
   ]
  },
  {
   "cell_type": "code",
   "execution_count": 28,
   "id": "189ed94b-b387-401a-8663-50d44a38fccd",
   "metadata": {},
   "outputs": [
    {
     "data": {
      "image/png": "[encoded data removed]",
      "text/plain": [
       "<Figure size 1080x216 with 1 Axes>"
      ]
     },
     "metadata": {
      "needs_background": "light"
     },
     "output_type": "display_data"
    }
   ],
   "source": [
    "# Plot difference from the model model\n",
    "delta = (add-advance)/advance\n",
    "\n",
    "q25 = torch.quantile(delta, 0.25).cpu().numpy()\n",
    "q50 = torch.quantile(delta, 0.50).cpu().numpy()\n",
    "q75 = torch.quantile(delta, 0.75).cpu().numpy()\n",
    "\n",
    "l, u = q25 - 10.0*(q75 - q25), q75 + 10.0*(q75 - q25)\n",
    "\n",
    "plt.figure(figsize=(15, 3))\n",
    "plt.scatter(range(54), delta.cpu().numpy(), color='red')\n",
    "plt.hlines(q50, 0, 53, colors='black')\n",
    "plt.hlines(l, 0, 53, colors='blue')\n",
    "plt.hlines(u, 0, 53, colors='blue')\n",
    "plt.show()"
   ]
  },
  {
   "cell_type": "code",
   "execution_count": 29,
   "id": "5dc13fae-fd1f-42b3-9324-767cc820abf7",
   "metadata": {},
   "outputs": [
    {
     "name": "stdout",
     "output_type": "stream",
     "text": [
      "[[30, 31], [41, 42], [42, 43]]\n"
     ]
    }
   ],
   "source": [
    "# LOF\n",
    "from sklearn.neighbors import LocalOutlierFactor\n",
    "detector = LocalOutlierFactor(contamination=0.05)\n",
    "pairs = detector.fit_predict(delta.reshape(-1, 1))\n",
    "pairs, *_ = numpy.in1d(delta, delta[pairs == -1]).nonzero()\n",
    "pairs = [[i, i + 1] for i in tuple(pairs)]\n",
    "print(pairs)"
   ]
  },
  {
   "cell_type": "code",
   "execution_count": 30,
   "id": "27509d27-c4bc-42d9-a1ac-e6795d3fb185",
   "metadata": {},
   "outputs": [
    {
     "name": "stdout",
     "output_type": "stream",
     "text": [
      "[[26, 27], [30, 31], [40, 41]]\n"
     ]
    }
   ],
   "source": [
    "# IFO\n",
    "from sklearn.ensemble import IsolationForest\n",
    "detector = IsolationForest(contamination=0.05)\n",
    "pairs = detector.fit_predict(delta.reshape(-1, 1))\n",
    "pairs, *_ = numpy.in1d(delta, delta[pairs == -1]).nonzero()\n",
    "pairs = [[i, i + 1] for i in tuple(pairs)]\n",
    "print(pairs)"
   ]
  },
  {
   "cell_type": "code",
   "execution_count": 31,
   "id": "5720b93f-e8e7-4549-9ee3-24e0b86d9692",
   "metadata": {},
   "outputs": [
    {
     "name": "stdout",
     "output_type": "stream",
     "text": [
      "[[9, 10], [10, 11], [30, 31], [32, 33], [40, 41], [41, 42], [42, 43], [43, 44]]\n"
     ]
    }
   ],
   "source": [
    "# DBSCAN\n",
    "from sklearn.cluster import DBSCAN\n",
    "from collections import Counter\n",
    "cluster = DBSCAN().fit(delta.reshape(-1, 1))\n",
    "label, *_ = Counter(cluster.labels_)\n",
    "pairs, *_ = numpy.in1d(delta, delta[cluster.labels_ != label]).nonzero()\n",
    "pairs = [[i, i + 1] for i in tuple(pairs)]\n",
    "print(pairs)"
   ]
  },
  {
   "cell_type": "code",
   "execution_count": 32,
   "id": "fdbf072c-7842-4fee-a278-8444f6628e5d",
   "metadata": {},
   "outputs": [
    {
     "name": "stdout",
     "output_type": "stream",
     "text": [
      "[[9, 10], [10, 11], [30, 31], [32, 33], [40, 41], [41, 42], [42, 43], [43, 44]]\n"
     ]
    }
   ],
   "source": [
    "# Pairs outside acceptance region\n",
    "l_p, *_ = numpy.where(delta < l)\n",
    "u_p, *_ = numpy.where(delta > u)\n",
    "marked = (*tuple(l_p), *tuple(u_p))\n",
    "marked = [[i, i + 1] for i in marked]\n",
    "print(marked)"
   ]
  },
  {
   "cell_type": "code",
   "execution_count": 33,
   "id": "2bfae2e6-b48f-408d-9f26-bc43de7725e6",
   "metadata": {},
   "outputs": [
    {
     "name": "stdout",
     "output_type": "stream",
     "text": [
      "[[9, 10, 11], [30, 31, 32, 33], [40, 41, 42, 43, 44]]\n",
      "[[10], [31, 32], [41, 42, 43]]\n",
      "10: -, 127\n",
      "31: +, 129\n",
      "32: +, 129\n",
      "41: -, 127\n",
      "42:  , 128\n",
      "43: +, 129\n",
      "{10: 127, 31: 129, 32: 129, 41: 127, 43: 129}\n"
     ]
    }
   ],
   "source": [
    "# Marked signals\n",
    "table = []\n",
    "chain = []\n",
    "for i in numpy.unique(numpy.array(pairs).flatten()):\n",
    "    if chain == []:\n",
    "        chain.append(i)\n",
    "        value = i\n",
    "        continue\n",
    "    if i == value + 1:\n",
    "        chain.append(i)\n",
    "        value = i\n",
    "        continue\n",
    "    table.append(chain)\n",
    "    chain = []\n",
    "    chain.append(i)\n",
    "    value = i\n",
    "else:\n",
    "    table.append(chain)\n",
    "print(table)\n",
    "    \n",
    "# Remove endpoints\n",
    "table = [*map(lambda x: x[1:-1], table)]\n",
    "print(table)\n",
    "\n",
    "# Set marked and passed\n",
    "marked = [j for i in table for j in i]\n",
    "passed = [i for i in range(54) if i not in marked]\n",
    "\n",
    "# Set phase\n",
    "phase = torch.clone(out)\n",
    "\n",
    "# Correct\n",
    "for i in marked:\n",
    "    phase_x = phase[i-1]\n",
    "    phase_y = phase[i]\n",
    "    phase_y = phase_y + torch.stack([-2.0*numpy.pi*frequency, 0.0*numpy.pi*frequency, +2.0*numpy.pi*frequency])\n",
    "    phase_y = mod(phase_y, 2*numpy.pi, -numpy.pi)\n",
    "    delta = mod(phase_y - phase_x, 2*numpy.pi)\n",
    "    delta = torch.abs(delta - advance[i-1])\n",
    "    index = delta.argmin().item()\n",
    "    print(f\"{i}: {['+', ' ', '-'][index]}, {128 + [+1, 0, -1][index]}\")\n",
    "    phase[i] = phase_y[index]\n",
    "    \n",
    "print(error)"
   ]
  },
  {
   "cell_type": "code",
   "execution_count": 34,
   "id": "d6b28836-8de1-4958-8c3d-8c9a05b5239c",
   "metadata": {},
   "outputs": [
    {
     "data": {
      "image/png": "[encoded data removed]",
      "text/plain": [
       "<Figure size 1080x216 with 1 Axes>"
      ]
     },
     "metadata": {
      "needs_background": "light"
     },
     "output_type": "display_data"
    },
    {
     "data": {
      "image/png": "[encoded data removed]",
      "text/plain": [
       "<Figure size 1080x216 with 1 Axes>"
      ]
     },
     "metadata": {
      "needs_background": "light"
     },
     "output_type": "display_data"
    }
   ],
   "source": [
    "# Plot advance using corrected phase\n",
    "\n",
    "plt.figure(figsize=(15, 3))\n",
    "plt.scatter(range(54), advance, color='red')\n",
    "plt.scatter(range(54), add, color='blue')\n",
    "plt.show()\n",
    "\n",
    "correct, _ = Decomposition.phase_adjacent(frequency, phase)\n",
    "plt.figure(figsize=(15, 3))\n",
    "plt.scatter(range(54), advance, color='red')\n",
    "plt.scatter(range(54), correct, color='blue')\n",
    "plt.show()"
   ]
  },
  {
   "cell_type": "code",
   "execution_count": 35,
   "id": "58e0cfa6-79dd-48d5-ab2f-0d7eb3a86e85",
   "metadata": {},
   "outputs": [
    {
     "name": "stdout",
     "output_type": "stream",
     "text": [
      "{10: 127, 31: 129, 32: 129, 41: 127, 43: 129}\n",
      "{10: 127, 31: 129, 32: 129, 41: 127, 43: 129}\n",
      "{10: 127, 31: 129, 32: 129, 41: 127, 43: 129}\n"
     ]
    },
    {
     "data": {
      "image/png": "[encoded data removed]",
      "text/plain": [
       "<Figure size 1080x216 with 1 Axes>"
      ]
     },
     "metadata": {
      "needs_background": "light"
     },
     "output_type": "display_data"
    }
   ],
   "source": [
    "# phase_check classmethod can be used to perform shyncronization test\n",
    "print(error)\n",
    "\n",
    "q = frequency.item()\n",
    "phase = out\n",
    "\n",
    "Q = config['END']['FX']/(2.0*numpy.pi)\n",
    "PHASE = torch.tensor([value['FX'] for key, value in config.items() if value['TYPE'] == 'MONITOR'], dtype=torch.float64)\n",
    "\n",
    "result, select = Decomposition.phase_check(q, Q, phase, PHASE, method='quantile', factor=10.0)\n",
    "result = {key: value[0] + start for key, value in result.items() if value[0] != 0}\n",
    "print(result)\n",
    "\n",
    "result, select = Decomposition.phase_check(q, Q, phase, PHASE, method='dbscan', epsilon=0.5)\n",
    "result = {key: value[0] + start for key, value in result.items() if value[0] != 0}\n",
    "print(result)\n",
    "\n",
    "plt.figure(figsize=(15, 3))\n",
    "plt.scatter(range(54), select['model'], color='red')\n",
    "plt.scatter(range(54), select['phase'], color='blue')\n",
    "plt.scatter(range(54), select['check'], color='black', marker='x')\n",
    "plt.scatter(*numpy.array([[index, -1.0] for index in range(54) if index not in result]).T, color='red', marker='x')\n",
    "plt.scatter(*numpy.array([[index, -1.0] for index in range(54) if index in result]).T, color='blue', marker='x')\n",
    "plt.show()"
   ]
  },
  {
   "cell_type": "markdown",
   "id": "cd35541b-2b14-4487-855a-659dbaead036",
   "metadata": {
    "tags": []
   },
   "source": [
    "# Example-07: Estimation of parameters with DHT"
   ]
  },
  {
   "cell_type": "code",
   "execution_count": 36,
   "id": "171250e2-e2fc-4e58-8640-643fce9f1bfa",
   "metadata": {},
   "outputs": [
    {
     "name": "stdout",
     "output_type": "stream",
     "text": [
      "frequency= 0.536883099, spread=1.38725499e-16, error=2.56151871e-13\n"
     ]
    }
   ],
   "source": [
    "# Estimate reference parameters\n",
    "\n",
    "# Set window\n",
    "length = 4096\n",
    "dtype = torch.float64\n",
    "device = 'cpu'\n",
    "w = Window(length, 'cosine_window', 5.0, dtype=dtype, device=device)\n",
    "\n",
    "# Load data\n",
    "d = Data.from_file(54, w, '../virtual_tbt.npy')\n",
    "\n",
    "# Estimate frequency\n",
    "f = Frequency(d)\n",
    "d.window_remove_mean()\n",
    "d.window_apply()\n",
    "f('parabola')\n",
    "d.reset()\n",
    "frequency, spread = f.frequency.mean(), f.frequency.std()\n",
    "frequency = 1.0 - frequency\n",
    "\n",
    "# Estimate amplitude for given frequency\n",
    "h = Decomposition(d)\n",
    "result, _ = h.harmonic_sum(frequency, w.window, d.data)\n",
    "_, _, amplitude, phase = result.T\n",
    "\n",
    "# Check maximum reconstruction error\n",
    "result = []\n",
    "for a, b in zip(amplitude, phase):\n",
    "    result.append(Data.make_harmonic(length, frequency, a, b, dtype=dtype, device=device))\n",
    "result = torch.stack(result)\n",
    "print(f'frequency={frequency.item():12.9}, spread={spread.item():12.9}, error={(d.data - result).abs().max().item():12.9}')"
   ]
  },
  {
   "cell_type": "code",
   "execution_count": 37,
   "id": "c8740928-8ba3-4d3d-ae1c-d58508eb5152",
   "metadata": {},
   "outputs": [
    {
     "name": "stdout",
     "output_type": "stream",
     "text": [
      "frequency= 0.536882056, spread=3.14812044e-06\n"
     ]
    }
   ],
   "source": [
    "# Real TbT data length is limited by decoherence\n",
    "\n",
    "# Set window\n",
    "length = 512\n",
    "dtype = torch.float64\n",
    "device = 'cpu'\n",
    "w = Window(length, 'cosine_window', 1.0, dtype=dtype, device=device)\n",
    "\n",
    "# Load data\n",
    "d = Data.from_file(54, w, '../virtual_tbt.npy')\n",
    "\n",
    "# Add random noise\n",
    "n = 1.0E-6*(25.0 + 75.0*torch.rand(54, dtype=dtype, device=device))\n",
    "d.add_noise(n)\n",
    "d.data.copy_(d.work)\n",
    "\n",
    "# Estimate frequency (average over signals)\n",
    "f = Frequency(d)\n",
    "d.window_remove_mean()\n",
    "d.window_apply()\n",
    "f('parabola')\n",
    "d.reset()\n",
    "frequency, spread = f.frequency.mean(), f.frequency.std()\n",
    "frequency = 1.0 - frequency\n",
    "print(f'frequency={frequency.item():12.9}, spread={spread.item():12.9}')"
   ]
  },
  {
   "cell_type": "code",
   "execution_count": 38,
   "id": "630fe07b-f056-4ebb-b4df-ee3aff356b9c",
   "metadata": {},
   "outputs": [],
   "source": [
    "# Filter data\n",
    "flt = Filter(d)\n",
    "flt.filter_svd(rank=2)\n",
    "flt.filter_hankel(rank=2, random=True, buffer=16, count=16)\n",
    "\n",
    "# DHT\n",
    "dht = Frequency.dht(d.work)"
   ]
  },
  {
   "cell_type": "code",
   "execution_count": 39,
   "id": "b769ecc0-0212-43ba-a229-5c81b2d08781",
   "metadata": {},
   "outputs": [
    {
     "data": {
      "image/png": "[encoded data removed]",
      "text/plain": [
       "<Figure size 1080x360 with 1 Axes>"
      ]
     },
     "metadata": {
      "needs_background": "light"
     },
     "output_type": "display_data"
    }
   ],
   "source": [
    "# Compute envelope\n",
    "envelope = dht.abs()\n",
    "\n",
    "# Estimate amplitude\n",
    "endpoint = 16\n",
    "estimate = envelope[:, +endpoint:-endpoint].mean(1)\n",
    "spread = envelope[:, +endpoint:-endpoint].std(1)\n",
    "\n",
    "# Compare\n",
    "plt.figure(figsize=(15, 5))\n",
    "plt.errorbar(range(54), (estimate - amplitude).cpu().numpy(), yerr=spread.cpu().numpy(), fmt=' ', marker='o', color='red')\n",
    "plt.ylim(-5.0E-5, +5.0E-5)\n",
    "plt.show()"
   ]
  },
  {
   "cell_type": "code",
   "execution_count": 40,
   "id": "49c4ef26-f197-4cf1-9620-ea226852f2c3",
   "metadata": {},
   "outputs": [
    {
     "data": {
      "image/png": "[encoded data removed]",
      "text/plain": [
       "<Figure size 1080x360 with 1 Axes>"
      ]
     },
     "metadata": {
      "needs_background": "light"
     },
     "output_type": "display_data"
    }
   ],
   "source": [
    "# Estimate phase\n",
    "angle = dht.angle()\n",
    "endpoint = 16\n",
    "angle -= 2.0*numpy.pi*frequency*torch.linspace(0, length - 1, length, dtype=dtype, device=device)\n",
    "angle = mod(angle, 2.0*numpy.pi, -numpy.pi)\n",
    "estimate = angle[:, +endpoint:-endpoint].mean(1)\n",
    "spread = angle[:, +endpoint:-endpoint].std(1)\n",
    "\n",
    "# Compare\n",
    "plt.figure(figsize=(15, 5))\n",
    "plt.errorbar(range(54), (estimate - phase).cpu().numpy(), yerr=spread.cpu().numpy(), fmt=' ', marker='o', color='red')\n",
    "plt.ylim(-3.0E-2, +3.0E-2)\n",
    "plt.show()"
   ]
  },
  {
   "cell_type": "markdown",
   "id": "289e0340-9aba-49f7-b289-d894a37cde44",
   "metadata": {},
   "source": [
    "# Example-08: Virtual phase"
   ]
  },
  {
   "cell_type": "code",
   "execution_count": 41,
   "id": "cce7059f-35ab-4bb6-acfa-4aa6f19d2dc7",
   "metadata": {},
   "outputs": [],
   "source": [
    "# In this example phase is estimated for virtual locations\n",
    "# Virtual locations are locations where TbT data is not avalible, e.g. fault BPMs or other locations of interest\n",
    "# Locations where TbT data is avalible, i.e. phase can be computed from TbT data, are denoted as monitors\n",
    "# Using measured phase at monitors and model phase advance data, phase at a virtual location can be computed\n",
    "# It is also possible to treat a monitor location as a virtual location\n",
    "# In this case, phase estimation accuracy can be improved in some cases"
   ]
  },
  {
   "cell_type": "code",
   "execution_count": 42,
   "id": "45b143ef-bb18-4582-910e-3c6ca98e5d25",
   "metadata": {},
   "outputs": [
    {
     "data": {
      "image/png": "[encoded data removed]",
      "text/plain": [
       "<Figure size 1080x360 with 1 Axes>"
      ]
     },
     "metadata": {
      "needs_background": "light"
     },
     "output_type": "display_data"
    }
   ],
   "source": [
    "# Load model phase advance data\n",
    "# Note, only monitor locations are selected, a subset of monitors will be demoted to virtual locations later\n",
    "# Note, model phase advance error is given for each location (virtual or monitor), it corresponds to an error from given location to the next one\n",
    "\n",
    "with open('../config.yaml', 'r') as stream:\n",
    "    config = yaml.safe_load(stream)\n",
    "    config = {key: config[key] for key in sorted(config.keys(), key=lambda name: config[name]['S'])}\n",
    "\n",
    "total = config['END']['FX']\n",
    "model = torch.tensor([value['FX'] for key, value in config.items() if value['TYPE'] == 'MONITOR'], dtype=torch.float64)\n",
    "error = 1.0E-4*torch.ones_like(model)\n",
    "\n",
    "# Plot adjacent phase advance\n",
    "\n",
    "model_advance, error_advance = Decomposition.phase_adjacent(total/(2.0*numpy.pi), model, model=True, sigma_phase=error)\n",
    "plt.figure(figsize=(15, 5))\n",
    "plt.errorbar(range(54), model_advance.cpu().numpy(), yerr=error_advance.cpu().numpy(), color='black', fmt=' ', marker='o')\n",
    "plt.show()"
   ]
  },
  {
   "cell_type": "code",
   "execution_count": 43,
   "id": "4837340e-1df5-4fac-9afc-1b22166f25fe",
   "metadata": {},
   "outputs": [
    {
     "name": "stdout",
     "output_type": "stream",
     "text": [
      "frequency= 0.536883099, spread=1.38725499e-16, error=2.56151871e-13\n"
     ]
    }
   ],
   "source": [
    "# Estimate reference parameters\n",
    "\n",
    "# Set window\n",
    "length = 4096\n",
    "dtype = torch.float64\n",
    "device = 'cpu'\n",
    "w = Window(length, 'cosine_window', 5.0, dtype=dtype, device=device)\n",
    "\n",
    "# Load data\n",
    "d = Data.from_file(54, w, '../virtual_tbt.npy')\n",
    "\n",
    "# Estimate frequency\n",
    "f = Frequency(d)\n",
    "d.window_remove_mean()\n",
    "d.window_apply()\n",
    "f('parabola')\n",
    "d.reset()\n",
    "frequency, spread = f.frequency.mean(), f.frequency.std()\n",
    "frequency = 1.0 - frequency\n",
    "\n",
    "# Estimate amplitude for given frequency\n",
    "h = Decomposition(d)\n",
    "result, _ = h.harmonic_sum(frequency, w.window, d.data)\n",
    "_, _, amplitude, phase = result.T\n",
    "\n",
    "# Check maximum reconstruction error\n",
    "result = []\n",
    "for a, b in zip(amplitude, phase):\n",
    "    result.append(Data.make_harmonic(length, frequency, a, b, dtype=dtype, device=device))\n",
    "result = torch.stack(result)\n",
    "print(f'frequency={frequency.item():12.9}, spread={spread.item():12.9}, error={(d.data - result).abs().max().item():12.9}')"
   ]
  },
  {
   "cell_type": "code",
   "execution_count": 44,
   "id": "84d09a69-2ff2-49ed-9536-5adb25136c12",
   "metadata": {},
   "outputs": [
    {
     "name": "stdout",
     "output_type": "stream",
     "text": [
      "frequency= 0.536883097, spread=1.13143473e-06\n"
     ]
    }
   ],
   "source": [
    "# Real TbT data length is limited by decoherence\n",
    "# In this example 1024 turns are used for frequency estimation and only 512 for phase\n",
    "\n",
    "# Set window\n",
    "length = 1024\n",
    "dtype = torch.float64\n",
    "device = 'cpu'\n",
    "w = Window(length, 'cosine_window', 1.0, dtype=dtype, device=device)\n",
    "\n",
    "# Load data\n",
    "d = Data.from_file(54, w, '../virtual_tbt.npy')\n",
    "\n",
    "# Add random noise\n",
    "n = 1.0E-6*(25.0 + 75.0*torch.rand(54, dtype=dtype, device=device))\n",
    "d.add_noise(n)\n",
    "d.data.copy_(d.work)\n",
    "\n",
    "# Estimate frequency (average over signals)\n",
    "f = Frequency(d)\n",
    "d.window_remove_mean()\n",
    "d.window_apply()\n",
    "f('parabola')\n",
    "d.reset()\n",
    "frequency, spread = f.frequency.mean(), f.frequency.std()\n",
    "frequency = 1.0 - frequency\n",
    "print(f'frequency={frequency.item():12.9}, spread={spread.item():12.9}')"
   ]
  },
  {
   "cell_type": "code",
   "execution_count": 45,
   "id": "d13c2222-7f95-44fd-b589-6e0146a3345b",
   "metadata": {},
   "outputs": [
    {
     "data": {
      "image/png": "[encoded data removed]",
      "text/plain": [
       "<Figure size 1080x144 with 1 Axes>"
      ]
     },
     "metadata": {
      "needs_background": "light"
     },
     "output_type": "display_data"
    },
    {
     "name": "stdout",
     "output_type": "stream",
     "text": [
      "tensor(2.714691584952e-03, dtype=torch.float64)\n"
     ]
    }
   ],
   "source": [
    "# Estimate phase\n",
    "\n",
    "dec = Decomposition(d)\n",
    "phase_estimate, error_estimate, _ = dec.harmonic_phase(frequency, length=256, order=1.0, error=True, sigma_frequency=spread, shift=True, count=256, step=1, fit='average')\n",
    "\n",
    "# Compare results\n",
    "plt.figure(figsize=(15, 2))\n",
    "plt.errorbar(range(54), (phase_estimate - phase).cpu().numpy(), yerr=error_estimate.cpu().numpy(), fmt=' ', marker='o', color='blue')\n",
    "plt.hlines(0, 0, 53, colors='black')\n",
    "plt.ylim(-1.0E-2, +1.0E-2)\n",
    "plt.show()\n",
    "\n",
    "print((phase_estimate - phase).std())"
   ]
  },
  {
   "cell_type": "code",
   "execution_count": 46,
   "id": "5e5b5aad-36e1-46f8-a2ff-7655177a112e",
   "metadata": {},
   "outputs": [
    {
     "name": "stdout",
     "output_type": "stream",
     "text": [
      "location=5\n",
      "monitor: [error, sigma] = [0.0021904985083924244, 0.003709811397638196]\n",
      "virtual: [error, sigma] = [0.00030178468892044785, 0.00018202300477945902]\n"
     ]
    },
    {
     "data": {
      "image/png": "[encoded data removed]",
      "text/plain": [
       "<Figure size 1080x144 with 1 Axes>"
      ]
     },
     "metadata": {
      "needs_background": "light"
     },
     "output_type": "display_data"
    },
    {
     "name": "stdout",
     "output_type": "stream",
     "text": [
      "location=25\n",
      "monitor: [error, sigma] = [0.00023356555818693225, 0.001309938127429341]\n",
      "virtual: [error, sigma] = [0.0002862080668718514, 0.00018216034840790821]\n"
     ]
    },
    {
     "data": {
      "image/png": "[encoded data removed]",
      "text/plain": [
       "<Figure size 1080x144 with 1 Axes>"
      ]
     },
     "metadata": {
      "needs_background": "light"
     },
     "output_type": "display_data"
    }
   ],
   "source": [
    "# Virtual phase\n",
    "\n",
    "# Set demoted location\n",
    "# Note, location index starts from zero\n",
    "index = [5, 25]\n",
    "\n",
    "# Set location flags, 0/1 for virtual/monitor locations\n",
    "flags = torch.ones_like(model, dtype=torch.int32)\n",
    "flags[index] = 0\n",
    "\n",
    "# Set measured & model frequency with errors\n",
    "q, sigma_q = frequency, spread\n",
    "Q, sigma_Q = total/(2.0*numpy.pi), torch.sqrt(torch.sum(error**2))/(2.0*numpy.pi)\n",
    "\n",
    "# Set measured phase with errors\n",
    "phase_measured = torch.clone(phase_estimate)\n",
    "error_measured = torch.clone(error_estimate)\n",
    "phase_measured[index] = 0.0\n",
    "error_measured[index] = 0.0\n",
    "\n",
    "# Set model phase with error\n",
    "phase_model = torch.clone(model)\n",
    "error_model = torch.clone(error)\n",
    "\n",
    "# Set range limit\n",
    "limit = 54\n",
    "\n",
    "# Estimate virtial phase for each virtual location\n",
    "for location in index:\n",
    "    \n",
    "    result = dec.phase_virtual(location, limit, flags, q, Q, phase_measured, phase_model, \n",
    "                              sigma_q=sigma_q, sigma_Q=sigma_Q, sigma_phase=error_measured, sigma_PHASE=error_model,\n",
    "                              full=True, clean=True, fit=True)\n",
    "    \n",
    "    # Compare fit result with model\n",
    "    print(f'{location=}')\n",
    "    print(f'monitor: [error, sigma] = {[abs(phase[location] - phase_estimate[location]).item(), error_estimate[location].item()]}')\n",
    "    print(f'virtual: [error, sigma] = {[abs(phase[location] - result[\"model\"][0]).item(), result[\"model\"][1]]}')\n",
    "    \n",
    "    # Plot data for all locations\n",
    "    plt.figure(figsize=(15, 2))\n",
    "    plt.errorbar(list(result['index']), result['phase'], yerr=result['error'], color='red', fmt=' ', marker='o')\n",
    "    plt.scatter(location, phase_estimate[location].item(), color='blue')\n",
    "    plt.hlines(phase[location].item(), min(result['index'].keys()), max(result['index'].keys()), color='black')\n",
    "    plt.hlines(result['model'][0], min(result['index'].keys()), max(result['index'].keys()), color='magenta')\n",
    "    \n",
    "    plt.show()\n",
    "    \n",
    "# red     -- estimation using different monitors \n",
    "# blue    -- estimation from TbT\n",
    "# black   -- reference value\n",
    "# magenta -- fitted value"
   ]
  },
  {
   "cell_type": "code",
   "execution_count": 47,
   "id": "2ac3778b-c065-49fe-8920-661ea6739a0f",
   "metadata": {},
   "outputs": [
    {
     "data": {
      "image/png": "[encoded data removed]",
      "text/plain": [
       "<Figure size 1080x144 with 1 Axes>"
      ]
     },
     "metadata": {
      "needs_background": "light"
     },
     "output_type": "display_data"
    },
    {
     "data": {
      "image/png": "[encoded data removed]",
      "text/plain": [
       "<Figure size 1080x144 with 1 Axes>"
      ]
     },
     "metadata": {
      "needs_background": "light"
     },
     "output_type": "display_data"
    },
    {
     "name": "stdout",
     "output_type": "stream",
     "text": [
      "tensor(2.714691584952e-03, dtype=torch.float64)\n",
      "tensor(3.721765814532e-04, dtype=torch.float64)\n"
     ]
    }
   ],
   "source": [
    "# Virtual phase for monitors\n",
    "\n",
    "# Note, change limit value\n",
    "\n",
    "# Set location flags, 0/1 for virtual/monitor locations\n",
    "flags = torch.ones_like(model, dtype=torch.int32)\n",
    "\n",
    "# Set measured & model frequency with errors\n",
    "q, sigma_q = frequency, spread\n",
    "Q, sigma_Q = total/(2.0*numpy.pi), torch.sqrt(torch.sum(error**2))/(2.0*numpy.pi)\n",
    "\n",
    "# Set measured phase with errors\n",
    "phase_measured = torch.clone(phase_estimate)\n",
    "error_measured = torch.clone(error_estimate)\n",
    "\n",
    "# Set model phase with error\n",
    "phase_model = torch.clone(model)\n",
    "error_model = torch.clone(error)\n",
    "\n",
    "# Set range limit\n",
    "limit = 16\n",
    "\n",
    "# Estimate virtial phase for each virtual location\n",
    "out = []\n",
    "for location in range(len(flags)):\n",
    "    \n",
    "    result = dec.phase_virtual(location, limit, flags, q, Q, phase_measured, phase_model, \n",
    "                              sigma_q=sigma_q, sigma_Q=sigma_Q, sigma_phase=error_measured, sigma_PHASE=error_model,\n",
    "                              full=True, clean=True, fit=True)\n",
    "    out.append(result['model'])\n",
    "    \n",
    "phase_virtual, error_virtual = torch.tensor(numpy.array(out).T)\n",
    "\n",
    "# Compare results\n",
    "plt.figure(figsize=(15, 2))\n",
    "plt.errorbar(range(54), (phase_estimate - phase).cpu().numpy(), yerr=error_estimate.cpu().numpy(), fmt=' ', marker='o', color='blue')\n",
    "plt.errorbar(range(54), (phase_virtual - phase).cpu().numpy(), yerr=error_virtual.cpu().numpy(), fmt=' ', marker='o', color='red')\n",
    "plt.hlines(0, 0, 53, colors='black')\n",
    "plt.ylim(-1.0E-2, +1.0E-2)\n",
    "plt.show()\n",
    "\n",
    "plt.figure(figsize=(15, 2))\n",
    "plt.errorbar(range(54), (phase_virtual - phase).cpu().numpy(), yerr=error_virtual.cpu().numpy(), fmt=' ', marker='o', color='red')\n",
    "plt.hlines(0, 0, 53, colors='black')\n",
    "plt.ylim(-1.0E-3, +1.0E-3)\n",
    "plt.show()\n",
    "\n",
    "print((phase_estimate - phase).std())\n",
    "print((phase_virtual - phase).std())\n",
    "\n",
    "# Note, such 'correction' introduces bias, use with error estimates with care, adjust limit"
   ]
  },
  {
   "cell_type": "code",
   "execution_count": 48,
   "id": "4aa523b0-0722-4429-8711-d9bc63f47d0c",
   "metadata": {},
   "outputs": [
    {
     "data": {
      "image/png": "[encoded data removed]",
      "text/plain": [
       "<Figure size 1080x144 with 1 Axes>"
      ]
     },
     "metadata": {
      "needs_background": "light"
     },
     "output_type": "display_data"
    },
    {
     "data": {
      "image/png": "[encoded data removed]",
      "text/plain": [
       "<Figure size 1080x144 with 1 Axes>"
      ]
     },
     "metadata": {
      "needs_background": "light"
     },
     "output_type": "display_data"
    },
    {
     "name": "stdout",
     "output_type": "stream",
     "text": [
      "tensor(2.714691584952e-03, dtype=torch.float64)\n",
      "tensor(1.902316885800e-04, dtype=torch.float64)\n"
     ]
    }
   ],
   "source": [
    "# Virtual phase for monitors (second pass)\n",
    "\n",
    "# Note, second pass (or more) impoves std in general\n",
    "# Note, change limit value\n",
    "\n",
    "# Set location flags, 0/1 for virtual/monitor locations\n",
    "flags = torch.ones_like(model, dtype=torch.int32)\n",
    "\n",
    "# Set measured & model frequency with errors\n",
    "q, sigma_q = frequency, spread\n",
    "Q, sigma_Q = total/(2.0*numpy.pi), torch.sqrt(torch.sum(error**2))/(2.0*numpy.pi)\n",
    "\n",
    "# Set measured phase with errors\n",
    "phase_measured = torch.clone(phase_virtual)\n",
    "error_measured = torch.clone(error_estimate)\n",
    "\n",
    "# Set model phase with error\n",
    "phase_model = torch.clone(model)\n",
    "error_model = torch.clone(error)\n",
    "\n",
    "# Set range limit\n",
    "limit = limit\n",
    "\n",
    "# Estimate virtial phase for each virtual location\n",
    "out = []\n",
    "for location in range(len(flags)):\n",
    "    \n",
    "    result = dec.phase_virtual(location, limit, flags, q, Q, phase_measured, phase_model, \n",
    "                              sigma_q=sigma_q, sigma_Q=sigma_Q, sigma_phase=error_measured, sigma_PHASE=error_model,\n",
    "                              full=True, clean=True, fit=True)\n",
    "    out.append(result['model'])\n",
    "    \n",
    "phase_virtual, error_virtual = torch.tensor(numpy.array(out).T)\n",
    "\n",
    "# Compare results\n",
    "plt.figure(figsize=(15, 2))\n",
    "plt.errorbar(range(54), (phase_estimate - phase).cpu().numpy(), yerr=error_estimate.cpu().numpy(), fmt=' ', marker='o', color='blue')\n",
    "plt.errorbar(range(54), (phase_virtual - phase).cpu().numpy(), yerr=error_virtual.cpu().numpy(), fmt=' ', marker='o', color='red')\n",
    "plt.hlines(0, 0, 53, colors='black')\n",
    "plt.ylim(-1.0E-2, +1.0E-2)\n",
    "plt.show()\n",
    "\n",
    "# Note, such 'correction' introduces bias, use with care, adjust limit\n",
    "plt.figure(figsize=(15, 2))\n",
    "plt.errorbar(range(54), (phase_virtual - phase).cpu().numpy(), yerr=error_virtual.cpu().numpy(), fmt=' ', marker='o', color='red')\n",
    "plt.hlines(0, 0, 53, colors='black')\n",
    "plt.ylim(-1.0E-3, +1.0E-3)\n",
    "plt.show()\n",
    "\n",
    "print((phase_estimate - phase).std())\n",
    "print((phase_virtual - phase).std())"
   ]
  },
  {
   "cell_type": "code",
   "execution_count": 13,
   "id": "885706eb-621c-4332-9e08-e2d98dd25d0c",
   "metadata": {},
   "outputs": [
    {
     "name": "stdout",
     "output_type": "stream",
     "text": [
      "True\n"
     ]
    }
   ],
   "source": [
    "# Import\n",
    "\n",
    "import epics\n",
    "import numpy\n",
    "import pandas\n",
    "import torch\n",
    "import nufft\n",
    "import yaml\n",
    "\n",
    "import sys\n",
    "sys.path.append('..')\n",
    "\n",
    "from harmonica.util import LIMIT, data_load, generate_pairs\n",
    "from harmonica.window import Window\n",
    "from harmonica.data import Data\n",
    "from harmonica.frequency import Frequency\n",
    "from harmonica.filter import Filter\n",
    "from harmonica.decomposition import Decomposition\n",
    "\n",
    "import matplotlib.pyplot as plt\n",
    "\n",
    "torch.set_printoptions(precision=12, sci_mode=True)\n",
    "print(torch.cuda.is_available())"
   ]
  },
  {
   "cell_type": "code",
   "execution_count": 2,
   "id": "dc95a6a9-ca19-466b-b4f7-5ca9fcdf0938",
   "metadata": {},
   "outputs": [
    {
     "data": {
      "image/png": "[encoded data removed]",
      "text/plain": [
       "<Figure size 1080x360 with 1 Axes>"
      ]
     },
     "metadata": {
      "needs_background": "light"
     },
     "output_type": "display_data"
    }
   ],
   "source": [
    "# Model advance data\n",
    "with open('../config.yaml', 'r') as stream:\n",
    "    config = yaml.safe_load(stream)\n",
    "    config = {key: config[key] for key in sorted(config.keys(), key=lambda name: config[name]['S'])}\n",
    "    \n",
    "total = config['END']['FX']\n",
    "model = numpy.array([value['FX'] for key, value in config.items() if value['TYPE'] == 'MONITOR'])\n",
    "plt.figure(figsize=(15, 5))\n",
    "plt.scatter(range(len(model)), model, color='black')\n",
    "plt.show()\n",
    "model = torch.tensor(model, dtype=torch.float64)"
   ]
  },
  {
   "cell_type": "code",
   "execution_count": 3,
   "id": "63609214-8337-44a8-ab47-3707753ad758",
   "metadata": {},
   "outputs": [
    {
     "data": {
      "image/png": "[encoded data removed]",
      "text/plain": [
       "<Figure size 1080x360 with 1 Axes>"
      ]
     },
     "metadata": {
      "needs_background": "light"
     },
     "output_type": "display_data"
    }
   ],
   "source": [
    "# Estimate reference parameters\n",
    "\n",
    "# Set window\n",
    "length = 4096\n",
    "dtype = torch.float64\n",
    "device = 'cpu'\n",
    "w = Window(length, 'cosine_window', 5.0, dtype=dtype, device=device)\n",
    "\n",
    "# Load data\n",
    "d = Data.from_file(54, w, '../virtual_tbt.npy')\n",
    "\n",
    "# Estimate frequency\n",
    "f = Frequency(d)\n",
    "d.window_remove_mean()\n",
    "d.window_apply()\n",
    "f('parabola')\n",
    "d.reset()\n",
    "frequency, spread = f.frequency.mean(), f.frequency.std()\n",
    "frequency = 1.0 - frequency\n",
    "\n",
    "# Estimate amplitude and phase for given frequency\n",
    "h = Decomposition(d)\n",
    "result, _ = h.harmonic_sum(frequency, w.window, d.data)\n",
    "_, _, amplitude, phase = result.T\n",
    "\n",
    "plt.figure(figsize=(15, 5))\n",
    "plt.scatter(range(len(phase)), phase, color='black')\n",
    "plt.show()"
   ]
  },
  {
   "cell_type": "code",
   "execution_count": 4,
   "id": "b55c95d4-4059-4dee-9114-74025d363406",
   "metadata": {},
   "outputs": [],
   "source": [
    "def advance(i:int, j:int, total:float, table:torch.Tensor) -> torch.Tensor:\n",
    "    \"\"\"\n",
    "    Compute phase advance mod 2*pi between i and j locations.\n",
    "    \n",
    "    Note, phase advance is computed from i to j, if i > j, phase advance is negative\n",
    "\n",
    "    Parameters\n",
    "    ----------\n",
    "    i: int\n",
    "        probed location\n",
    "    j: int\n",
    "        second location\n",
    "    total: float\n",
    "        total phase advane for one turn (fractional part)\n",
    "    table: torch.Tensor\n",
    "        model phase advance data or measured phase data\n",
    "\n",
    "    Returns\n",
    "    -------\n",
    "    phase advance mod 2*pi and optional error (torch.Tensor)\n",
    "    \n",
    "    \"\"\"\n",
    "    size, *_ = table.shape\n",
    "    if i < j:\n",
    "        i_index, j_index = int(Frequency.mod(i, size)), int(Frequency.mod(j, size))\n",
    "        i_count, j_count = (i - i_index)//size, (j - j_index)//size\n",
    "        i_phase, j_phase = table[i_index] + i_count*total, table[j_index] + j_count*total\n",
    "        return Frequency.mod(j_phase - i_phase, 2.0*numpy.pi)\n",
    "    return -advance(j, i, total, table)\n",
    "\n",
    "\n",
    "def advance_error(i:int, j:int, error:torch.Tensor) -> tuple:\n",
    "    \"\"\"\n",
    "    Compute phase advance error between i and j locations.\n",
    "    \n",
    "    Note, frequency error is ignored\n",
    "\n",
    "    Parameters\n",
    "    ----------\n",
    "    i: int\n",
    "        probed location\n",
    "    j: int\n",
    "        second location\n",
    "    error: torch.Tensor\n",
    "        error data\n",
    "\n",
    "    Returns\n",
    "    -------\n",
    "    phase advance error (torch.Tensor)\n",
    "    \n",
    "    \"\"\"\n",
    "    size, *_ = error.shape\n",
    "    i_index, j_index = int(Frequency.mod(i, size)), int(Frequency.mod(j, size))\n",
    "    i_error, j_error = error[i_index], error[j_index]\n",
    "    return torch.sqrt(i_error**2 + j_error**2)\n",
    "\n",
    "\n",
    "def advance_adjacent(total:float, table:torch.Tensor, error:torch.Tensor=None) -> tuple:\n",
    "    \"\"\"\n",
    "    Compute phase advance mod 2*pi between adjacent locations.\n",
    "\n",
    "    Parameters\n",
    "    ----------\n",
    "    total: float\n",
    "        total phase advane for one turn (fractional part)\n",
    "    table: torch.Tensor\n",
    "        model phase advance data or measured phase data\n",
    "    error: torch.Tensor\n",
    "        error data\n",
    "\n",
    "    Returns\n",
    "    -------\n",
    "    adjacent phase advance mod 2*pi and optional error (torch.Tensor, torch.Tensor)\n",
    "    \n",
    "    \"\"\"\n",
    "    size, *_ = table.shape\n",
    "    data = torch.stack([advance(i, i + 1, total, model) for i in range(size)])\n",
    "    if error == None:\n",
    "        return (data, None)\n",
    "    return (data, torch.stack([advance_error(i, i + 1, error) for i in range(size)]))"
   ]
  },
  {
   "cell_type": "code",
   "execution_count": 5,
   "id": "1c7b2b56-22ac-45b7-a398-36ddad366989",
   "metadata": {},
   "outputs": [],
   "source": [
    "r1, _ = advance_adjacent(total, model)\n",
    "r2, _ = advance_adjacent(2.0*numpy.pi*frequency, phase)"
   ]
  },
  {
   "cell_type": "code",
   "execution_count": 6,
   "id": "f5a1620f-7f6d-412e-9de2-2693c2964d2a",
   "metadata": {},
   "outputs": [
    {
     "data": {
      "image/png": "[encoded data removed]",
      "text/plain": [
       "<Figure size 1080x360 with 1 Axes>"
      ]
     },
     "metadata": {
      "needs_background": "light"
     },
     "output_type": "display_data"
    }
   ],
   "source": [
    "plt.figure(figsize=(15, 5))\n",
    "plt.scatter(range(54), r1)\n",
    "plt.scatter(range(54), r2)\n",
    "plt.show()"
   ]
  },
  {
   "cell_type": "code",
   "execution_count": 7,
   "id": "13a130cd-1dab-4ec3-b09c-17d6a451b131",
   "metadata": {},
   "outputs": [
    {
     "data": {
      "text/plain": [
       "tensor([[[ 0, -1],\n",
       "         [ 0,  1]]])"
      ]
     },
     "execution_count": 7,
     "metadata": {},
     "output_type": "execute_result"
    }
   ],
   "source": [
    "def combo(limit:int):\n",
    "    table = [*range(-limit, 1 + limit)]\n",
    "    table.remove(0)\n",
    "    table = [[0, i] for i in table]\n",
    "    out = []\n",
    "    for i in range(0, len(table)):\n",
    "        for j in range(i + 1, len(table)):\n",
    "            out.append([table[i], table[j]])\n",
    "    out = sorted(out, key=lambda x: max(map(lambda y: list(map(abs, y)), x)))\n",
    "    return torch.tensor(numpy.array(out)) # dtype long, device from self\n",
    "\n",
    "combo(1)"
   ]
  },
  {
   "cell_type": "code",
   "execution_count": null,
   "id": "e303e839-8030-4bbf-83df-c817c09ad8e9",
   "metadata": {},
   "outputs": [],
   "source": [
    "# TEST"
   ]
  },
  {
   "cell_type": "code",
   "execution_count": 255,
   "id": "93cb3c8b-85d8-472b-a0e6-69c25c208d2e",
   "metadata": {},
   "outputs": [
    {
     "name": "stdout",
     "output_type": "stream",
     "text": [
      "True\n"
     ]
    }
   ],
   "source": [
    "# Import\n",
    "\n",
    "import epics\n",
    "import numpy\n",
    "import pandas\n",
    "import torch\n",
    "import nufft\n",
    "import yaml\n",
    "\n",
    "import sys\n",
    "sys.path.append('..')\n",
    "\n",
    "from harmonica.util import LIMIT, data_load\n",
    "from harmonica.window import Window\n",
    "from harmonica.data import Data\n",
    "from harmonica.frequency import Frequency\n",
    "from harmonica.filter import Filter\n",
    "from harmonica.decomposition import Decomposition\n",
    "\n",
    "import matplotlib.pyplot as plt\n",
    "\n",
    "torch.set_printoptions(precision=12, sci_mode=True)\n",
    "print(torch.cuda.is_available())"
   ]
  },
  {
   "cell_type": "code",
   "execution_count": 256,
   "id": "5c185c58-fe07-4840-a018-9f385ec9f99d",
   "metadata": {},
   "outputs": [
    {
     "data": {
      "image/png": "[encoded data removed]",
      "text/plain": [
       "<Figure size 1080x360 with 1 Axes>"
      ]
     },
     "metadata": {
      "needs_background": "light"
     },
     "output_type": "display_data"
    }
   ],
   "source": [
    "# Generate model adjacent advance between monitors\n",
    "\n",
    "with open('../config.yaml', 'r') as stream:\n",
    "    config = yaml.safe_load(stream)\n",
    "    config = {key: config[key] for key in sorted(config.keys(), key=lambda name: config[name]['S'])}\n",
    "\n",
    "total = config['END']['FX']\n",
    "model = torch.tensor([value['FX'] for key, value in config.items() if value['TYPE'] == 'MONITOR'], dtype=torch.float64)\n",
    "model, _ = Decomposition.advance_adjacent(total, model)\n",
    "model = model.numpy()\n",
    "\n",
    "plt.figure(figsize=(15, 5))\n",
    "plt.scatter(range(54), model, color='red')\n",
    "plt.show()"
   ]
  },
  {
   "cell_type": "code",
   "execution_count": 257,
   "id": "50caa278-1c32-4e42-905a-6c77201522f4",
   "metadata": {},
   "outputs": [
    {
     "name": "stdout",
     "output_type": "stream",
     "text": [
      "frequency= 0.536883016, spread=1.20641506e-06\n"
     ]
    }
   ],
   "source": [
    "# Generate test data with noise and estimate frequency\n",
    "\n",
    "# Set window\n",
    "length = 1024\n",
    "dtype = torch.float64\n",
    "device = 'cpu'\n",
    "w = Window(length, 'cosine_window', 1.0, dtype=dtype, device=device)\n",
    "\n",
    "# Load data\n",
    "table = numpy.load('../virtual_tbt.npy')\n",
    "\n",
    "# Set correct starting position for all signals\n",
    "start = 128\n",
    "\n",
    "# Set synchronization errors\n",
    "# If shifted in + by one, need to - for correction\n",
    "# If shifted in - by one, need to + for correction\n",
    "error = {10: 127, 31: 129, 32:129, 41:127, 43:129}\n",
    "\n",
    "# Set data\n",
    "d = torch.zeros((54, length), dtype=dtype, device=device)\n",
    "for i in range(54):\n",
    "    first = start if i not in error else error[i]\n",
    "    d[i] = torch.tensor(table[i, first: first + length])\n",
    "d = Data.from_data(w, d)\n",
    "\n",
    "# Add random noise\n",
    "n = 1.0E-6*(25.0 + 75.0*torch.rand(54, dtype=dtype, device=device))\n",
    "d.add_noise(n)\n",
    "d.data.copy_(d.work)\n",
    "\n",
    "# Estimate frequency (average over signals)\n",
    "f = Frequency(d)\n",
    "d.window_remove_mean()\n",
    "d.window_apply()\n",
    "f('parabola')\n",
    "d.reset()\n",
    "frequency, spread = f.frequency.mean(), f.frequency.std()\n",
    "frequency = 1.0 - frequency\n",
    "print(f'frequency={frequency.item():12.9}, spread={spread.item():12.9}')"
   ]
  },
  {
   "cell_type": "code",
   "execution_count": 258,
   "id": "6a03276b-b1a3-4a5f-92fe-8cd80b405b76",
   "metadata": {},
   "outputs": [
    {
     "data": {
      "image/png": "[encoded data removed]",
      "text/plain": [
       "<Figure size 1080x216 with 1 Axes>"
      ]
     },
     "metadata": {
      "needs_background": "light"
     },
     "output_type": "display_data"
    }
   ],
   "source": [
    "# Estimate phase and compute adjacent phase advance\n",
    "dec = Decomposition(d)\n",
    "out, _ = dec.harmonic_phase(frequency, length=512, order=0.0)\n",
    "add, _ = Decomposition.advance_adjacent(2.0*numpy.pi*frequency, out)\n",
    "\n",
    "# Plot phase advance\n",
    "plt.figure(figsize=(15, 3))\n",
    "plt.scatter(range(54), model, color='red')\n",
    "plt.scatter(range(54), add, color='blue')\n",
    "plt.show()"
   ]
  },
  {
   "cell_type": "code",
   "execution_count": 259,
   "id": "890eaa46-6bda-4c2b-9ceb-1250c71d3aaa",
   "metadata": {},
   "outputs": [
    {
     "data": {
      "image/png": "[encoded data removed]",
      "text/plain": [
       "<Figure size 1080x216 with 1 Axes>"
      ]
     },
     "metadata": {
      "needs_background": "light"
     },
     "output_type": "display_data"
    }
   ],
   "source": [
    "# Plot difference from the model model\n",
    "delta = (add-model)/model\n",
    "\n",
    "q25 = torch.quantile(delta, 0.25).cpu().numpy()\n",
    "q50 = torch.quantile(delta, 0.50).cpu().numpy()\n",
    "q75 = torch.quantile(delta, 0.75).cpu().numpy()\n",
    "\n",
    "# Note, 10.0 is a 'parameter'\n",
    "p = 10.0\n",
    "l, u = q25 - p*(q75 - q25), q75 + p*(q75 - q25)\n",
    "\n",
    "plt.figure(figsize=(15, 3))\n",
    "plt.scatter(range(54), delta.cpu().numpy(), color='red')\n",
    "plt.hlines(q50, 0, 53, colors='black')\n",
    "plt.hlines(l, 0, 53, colors='blue')\n",
    "plt.hlines(u, 0, 53, colors='blue')\n",
    "plt.show()"
   ]
  },
  {
   "cell_type": "code",
   "execution_count": 260,
   "id": "82b79d82-6c68-4c27-85e2-58db414f6f58",
   "metadata": {},
   "outputs": [
    {
     "name": "stdout",
     "output_type": "stream",
     "text": [
      "[[9, 10], [30, 31], [32, 33], [41, 42], [42, 43], [43, 44]]\n"
     ]
    }
   ],
   "source": [
    "# LOF\n",
    "from sklearn.neighbors import LocalOutlierFactor\n",
    "detector = LocalOutlierFactor(contamination=0.1)\n",
    "pairs = detector.fit_predict(delta.reshape(-1, 1))\n",
    "pairs, *_ = numpy.in1d(delta, delta[pairs == -1]).nonzero()\n",
    "pairs = [[i, i + 1] for i in tuple(pairs)]\n",
    "print(pairs)"
   ]
  },
  {
   "cell_type": "code",
   "execution_count": 261,
   "id": "64bfc329-5e09-40fd-9104-e0caccf28c8c",
   "metadata": {},
   "outputs": [
    {
     "name": "stdout",
     "output_type": "stream",
     "text": [
      "[[10, 11], [30, 31], [40, 41], [41, 42], [42, 43], [43, 44]]\n"
     ]
    }
   ],
   "source": [
    "# IFO\n",
    "from sklearn.ensemble import IsolationForest\n",
    "detector = IsolationForest(contamination=0.1)\n",
    "pairs = detector.fit_predict(delta.reshape(-1, 1))\n",
    "pairs, *_ = numpy.in1d(delta, delta[pairs == -1]).nonzero()\n",
    "pairs = [[i, i + 1] for i in tuple(pairs)]\n",
    "print(pairs)"
   ]
  },
  {
   "cell_type": "code",
   "execution_count": 262,
   "id": "d0d9a431-7cf1-4c90-9177-ad377ea88d74",
   "metadata": {},
   "outputs": [
    {
     "name": "stdout",
     "output_type": "stream",
     "text": [
      "[[9, 10], [10, 11], [30, 31], [32, 33], [40, 41], [41, 42], [42, 43], [43, 44]]\n"
     ]
    }
   ],
   "source": [
    "# DBSCAN\n",
    "from sklearn.cluster import DBSCAN\n",
    "from collections import Counter\n",
    "cluster = DBSCAN().fit(delta.reshape(-1, 1))\n",
    "label, *_ = Counter(cluster.labels_)\n",
    "pairs, *_ = numpy.in1d(delta, delta[cluster.labels_ != label]).nonzero()\n",
    "pairs = [[i, i + 1] for i in tuple(pairs)]\n",
    "print(pairs)"
   ]
  },
  {
   "cell_type": "code",
   "execution_count": 263,
   "id": "1654ba46-a04d-48c1-8cfb-12855840c804",
   "metadata": {},
   "outputs": [
    {
     "name": "stdout",
     "output_type": "stream",
     "text": [
      "[[9, 10], [10, 11], [30, 31], [32, 33], [40, 41], [41, 42], [42, 43], [43, 44]]\n"
     ]
    }
   ],
   "source": [
    "# Pairs outside acceptance region\n",
    "l_p, *_ = numpy.where(delta < l)\n",
    "u_p, *_ = numpy.where(delta > u)\n",
    "marked = (*tuple(l_p), *tuple(u_p))\n",
    "marked = [[i, i + 1] for i in marked]\n",
    "print(marked)"
   ]
  },
  {
   "cell_type": "code",
   "execution_count": 264,
   "id": "a622fe12-3de4-4cd4-8dcd-fa8a3250350a",
   "metadata": {},
   "outputs": [
    {
     "name": "stdout",
     "output_type": "stream",
     "text": [
      "[[9, 10, 11], [30, 31, 32, 33], [40, 41, 42, 43, 44]]\n",
      "[[10], [31, 32], [41, 42, 43]]\n",
      "marked\n",
      "[10, 31, 32, 41, 42, 43]\n",
      "passed\n",
      "[0, 1, 2, 3, 4, 5, 6, 7, 8, 9, 11, 12, 13, 14, 15, 16, 17, 18, 19, 20, 21, 22, 23, 24, 25, 26, 27, 28, 29, 30, 33, 34, 35, 36, 37, 38, 39, 40, 44, 45, 46, 47, 48, 49, 50, 51, 52, 53]\n"
     ]
    }
   ],
   "source": [
    "# Marked signals\n",
    "table = []\n",
    "chain = []\n",
    "for i in numpy.unique(numpy.array(pairs).flatten()):\n",
    "    if chain == []:\n",
    "        chain.append(i)\n",
    "        value = i\n",
    "        continue\n",
    "    if i == value + 1:\n",
    "        chain.append(i)\n",
    "        value = i\n",
    "        continue\n",
    "    table.append(chain)\n",
    "    chain = []\n",
    "    chain.append(i)\n",
    "    value = i\n",
    "else:\n",
    "    table.append(chain)\n",
    "print(table)\n",
    "    \n",
    "# Remove endpoints\n",
    "table = [*map(lambda x: x[1:-1], table)]\n",
    "print(table)\n",
    "\n",
    "# Set marked and passed\n",
    "marked = [j for i in table for j in i]\n",
    "passed = [i for i in range(54) if i not in marked]\n",
    "print('marked')\n",
    "print(marked)\n",
    "\n",
    "print('passed')\n",
    "print(passed)"
   ]
  },
  {
   "cell_type": "code",
   "execution_count": 265,
   "id": "dc8f2ed5-4da1-484a-ba96-dd4d58b6f7a9",
   "metadata": {},
   "outputs": [
    {
     "name": "stdout",
     "output_type": "stream",
     "text": [
      "10: -, 127\n",
      "31: +, 129\n",
      "32: +, 129\n",
      "41: -, 127\n",
      "42:  , 128\n",
      "43: +, 129\n",
      "{10: 127, 31: 129, 32: 129, 41: 127, 43: 129}\n"
     ]
    }
   ],
   "source": [
    "# Set phase\n",
    "phase = torch.clone(out)\n",
    "\n",
    "# Correct\n",
    "for i in marked:\n",
    "    phase_x = phase[i-1]\n",
    "    phase_y = phase[i]\n",
    "    phase_y = phase_y + torch.stack([-2.0*numpy.pi*frequency, 0.0*numpy.pi*frequency, +2.0*numpy.pi*frequency])\n",
    "    phase_y = Frequency.mod(phase_y, 2*numpy.pi, -numpy.pi)\n",
    "    delta = Frequency.mod(phase_y - phase_x, 2*numpy.pi)\n",
    "    delta = torch.abs(delta - model[i-1])\n",
    "    index = delta.argmin().item()\n",
    "    print(f\"{i}: {['+', ' ', '-'][index]}, {128 + [+1, 0, -1][index]}\")\n",
    "    phase[i] = phase_y[index]\n",
    "    \n",
    "print(error)"
   ]
  },
  {
   "cell_type": "code",
   "execution_count": 266,
   "id": "c2d6b652-0646-465a-8a9c-3812f132c89e",
   "metadata": {},
   "outputs": [
    {
     "data": {
      "image/png": "[encoded data removed]",
      "text/plain": [
       "<Figure size 1080x216 with 1 Axes>"
      ]
     },
     "metadata": {
      "needs_background": "light"
     },
     "output_type": "display_data"
    },
    {
     "data": {
      "image/png": "[encoded data removed]",
      "text/plain": [
       "<Figure size 1080x216 with 1 Axes>"
      ]
     },
     "metadata": {
      "needs_background": "light"
     },
     "output_type": "display_data"
    }
   ],
   "source": [
    "# Plot advance using corrected phase\n",
    "\n",
    "plt.figure(figsize=(15, 3))\n",
    "plt.scatter(range(54), model, color='red')\n",
    "plt.scatter(range(54), add, color='blue')\n",
    "plt.show()\n",
    "\n",
    "correct, _ = Decomposition.advance_adjacent(2.0*numpy.pi*frequency, phase)\n",
    "plt.figure(figsize=(15, 3))\n",
    "plt.scatter(range(54), model, color='red')\n",
    "plt.scatter(range(54), correct, color='blue')\n",
    "plt.show()"
   ]
  },
  {
   "cell_type": "code",
   "execution_count": 267,
   "id": "b6886a79-3125-443f-a1f3-5c56e7514d47",
   "metadata": {},
   "outputs": [
    {
     "name": "stdout",
     "output_type": "stream",
     "text": [
      "tensor([[1.968746764745e-03, 4.733607535527e+02, 7.783956511612e+01],\n",
      "        [1.109777168687e+02, 4.702136386391e+02, 2.316655487646e-03],\n",
      "        [1.451201515901e+02, 4.616826317702e+02, 1.513115552255e-03],\n",
      "        [1.976902398405e-03, 4.618569434586e+02, 1.783770623610e+02],\n",
      "        [4.819956779808e+02, 1.670075156025e-03, 4.676437719089e+02],\n",
      "        [1.113568909752e+02, 4.704247249958e+02, 1.035465680380e-03]],\n",
      "       dtype=torch.float64)\n",
      "tensor([-1,  1,  1, -1,  0,  1])\n"
     ]
    }
   ],
   "source": [
    "# Use all passed for each marked\n",
    "Q = total\n",
    "q = 2.0*numpy.pi*frequency.item()\n",
    "\n",
    "data_model = torch.tensor([value['FX'] for key, value in config.items() if value['TYPE'] == 'MONITOR'], dtype=torch.float64)\n",
    "data_phase = torch.clone(out)\n",
    "\n",
    "table = []\n",
    "table_phase = []\n",
    "for candidate in marked:\n",
    "    \n",
    "    local = []\n",
    "    \n",
    "    local_model = torch.stack([Decomposition.advance(candidate, other, Q, data_model) for other in passed])\n",
    "    \n",
    "    # -1\n",
    "    local_phase = torch.clone(data_phase)\n",
    "    phase_a = Frequency.mod(local_phase[candidate]+q, 2*numpy.pi, -numpy.pi)\n",
    "    local_phase[candidate] = phase_a\n",
    "    local_phase = torch.stack([Decomposition.advance(candidate, other, q, local_phase) for other in passed])\n",
    "    local_phase = torch.sum((local_model - local_phase)**2)\n",
    "    local.append(local_phase)\n",
    "    \n",
    "    # 0\n",
    "    local_phase = torch.clone(data_phase)\n",
    "    phase_b = Frequency.mod(local_phase[candidate], 2*numpy.pi, -numpy.pi)\n",
    "    local_phase[candidate] = phase_b\n",
    "    local_phase = torch.stack([Decomposition.advance(candidate, other, q, local_phase) for other in passed])\n",
    "    local_phase = torch.sum((local_model - local_phase)**2)\n",
    "    local.append(local_phase)\n",
    "    \n",
    "    # +1\n",
    "    local_phase = torch.clone(data_phase)\n",
    "    phase_c = Frequency.mod(local_phase[candidate]-q, 2*numpy.pi, -numpy.pi)\n",
    "    local_phase[candidate] = phase_c\n",
    "    local_phase = torch.stack([Decomposition.advance(candidate, other, q, local_phase) for other in passed])\n",
    "    local_phase = torch.sum((local_model - local_phase)**2)\n",
    "    local.append(local_phase)\n",
    "    \n",
    "    # add\n",
    "    table.append(torch.stack(local))\n",
    "    table_phase.append(torch.stack([phase_a, phase_b, phase_c]))\n",
    "\n",
    "table = torch.stack(table)\n",
    "print(table)\n",
    "index = torch.argmin(table, 1)\n",
    "print(index- 1)\n",
    "# -1, +1, +1, -1, 0, +1\n",
    "\n",
    "table_phase = torch.stack(table_phase)\n",
    "correct = torch.stack([data[i] for i, data in zip(index, table_phase)])\n",
    "\n",
    "result = torch.clone(data_phase)\n",
    "result[marked] = correct"
   ]
  },
  {
   "cell_type": "code",
   "execution_count": 268,
   "id": "542b8c88-3630-4730-8f1e-c1a43cb1176e",
   "metadata": {},
   "outputs": [
    {
     "data": {
      "image/png": "[encoded data removed]",
      "text/plain": [
       "<Figure size 1080x216 with 1 Axes>"
      ]
     },
     "metadata": {
      "needs_background": "light"
     },
     "output_type": "display_data"
    }
   ],
   "source": [
    "tmp_model, _ = Decomposition.advance_adjacent(Q, data_model)\n",
    "tmp_phase, _ = Decomposition.advance_adjacent(q, result)\n",
    "plt.figure(figsize=(15, 3))\n",
    "plt.scatter(range(54), tmp_model, color='red')\n",
    "plt.scatter(range(54), tmp_phase, color='blue')\n",
    "plt.show()"
   ]
  },
  {
   "cell_type": "code",
   "execution_count": null,
   "id": "53fc9473-6554-4827-aa59-e95d1e7404d3",
   "metadata": {},
   "outputs": [],
   "source": [
    "def check_synhronization(q real tune, Q model tune, model, phase, method, method parameter, number of passes, use all, drop end points flag,  model tolerance?)\n",
    "return -1/0/+1 for all and corrected phase"
   ]
  },
  {
   "cell_type": "code",
   "execution_count": 269,
   "id": "08905e88-a367-417e-94a2-0c6219be75b8",
   "metadata": {},
   "outputs": [
    {
     "name": "stdout",
     "output_type": "stream",
     "text": [
      "0.5368830164233898 8.536883098737361\n"
     ]
    }
   ],
   "source": [
    "q = frequency.item()\n",
    "Q = total/(2.0*numpy.pi)\n",
    "print(q, Q)\n",
    "\n",
    "data_model = torch.tensor([value['FX'] for key, value in config.items() if value['TYPE'] == 'MONITOR'], dtype=torch.float64)\n",
    "data_phase = torch.clone(out)"
   ]
  },
  {
   "cell_type": "code",
   "execution_count": 332,
   "id": "01ba5d3e-3c0f-4176-9ac8-bdf80684e16e",
   "metadata": {},
   "outputs": [],
   "source": [
    "@classmethod\n",
    "def advance_check(cls, q:float, Q:float, phase:torch.Tensor, PHASE:torch.Tensor, *,\n",
    "                  method:str='quantile', factor:float=10.0, epsilon:float=0.5,\n",
    "                  remove:bool=True, **kwargs) -> dict:\n",
    "    \"\"\"\n",
    "    Perform synchronization check based on adjacent locations advance diffrence with model values.\n",
    "\n",
    "    Only one turn error is checked\n",
    "    Empty dict is returned if all locations pass\n",
    "\n",
    "    Parameters\n",
    "    ----------\n",
    "    q: float\n",
    "        measured tune\n",
    "    Q: float\n",
    "        model tune\n",
    "    phase: torch.Tensor\n",
    "        measured phase data\n",
    "    PHASE: torch.Tensor\n",
    "        model phase data\n",
    "    method: str\n",
    "        detection method ('quantile' or 'dbscan')\n",
    "    factor: float\n",
    "        factor for quantile method\n",
    "    epsilon: float\n",
    "        epsilon for dbscan method\n",
    "    remove: bool\n",
    "        flag to remove endpoints\n",
    "    **kwargs:\n",
    "        passed to \n",
    "\n",
    "    Returns\n",
    "    -------\n",
    "    {marked: (shift, phase)}\n",
    "\n",
    "    \"\"\"\n",
    "    \n",
    "    advance_phase, _ = Decomposition.advance_adjacent(2.0*numpy.pi*q, phase)\n",
    "    advance_model, _ = Decomposition.advance_adjacent(2.0*numpy.pi*Q, PHASE)\n",
    "    advance_error = (advance_phase - advance_model)/advance_model\n",
    "    \n",
    "    if method == 'dbscan':\n",
    "        from sklearn.cluster import DBSCAN\n",
    "        from collections import Counter\n",
    "        advance_error = advance_error.cpu().numpy()\n",
    "        group = DBSCAN(eps=epsilon, **kwargs).fit(advance_error.reshape(-1, 1))\n",
    "        label, *_ = Counter(group.labels_)\n",
    "        pairs, *_ = numpy.in1d(advance_error, advance_error[group.labels_ != label]).nonzero()\n",
    "        pairs = [[i, i + 1] for i in tuple(pairs)]\n",
    "        \n",
    "    if method == 'quantile':\n",
    "        q_25 = torch.quantile(advance_error, 0.25).cpu().numpy()\n",
    "        q_75 = torch.quantile(advance_error, 0.75).cpu().numpy()\n",
    "        q_l = q_25 - factor*(q_75 - q_25)\n",
    "        q_u = q_75 + factor*(q_75 - q_25)\n",
    "        advance_error = advance_error.cpu().numpy()\n",
    "        pairs_l, *_ = numpy.where(advance_error < q_l)\n",
    "        pairs_u, *_ = numpy.where(advance_error > q_u)\n",
    "        pairs = (*tuple(pairs_l), *tuple(pairs_u))\n",
    "        pairs = [[i, i + 1] for i in pairs]\n",
    "    \n",
    "    if pairs == []:\n",
    "        return {}\n",
    "    \n",
    "    table = []\n",
    "    chain = []\n",
    "    for i in numpy.unique(numpy.array(pairs).flatten()):\n",
    "        if chain == []:\n",
    "            chain.append(i)\n",
    "            value = i\n",
    "            continue\n",
    "        if i == value + 1:\n",
    "            chain.append(i)\n",
    "            value = i\n",
    "            continue\n",
    "        table.append(chain)\n",
    "        chain = []\n",
    "        chain.append(i)\n",
    "        value = i\n",
    "    else:\n",
    "        table.append(chain)\n",
    "    \n",
    "    if remove:\n",
    "        table = [*map(lambda chain: chain[1:-1], table)]\n",
    "        \n",
    "    marked = [j for i in table for j in i]\n",
    "    passed = [i for i in range(len(phase)) if i not in marked]\n",
    "    \n",
    "    result = {}\n",
    "    \n",
    "    for index in marked:\n",
    "        \n",
    "        local_model = torch.stack([Decomposition.advance(index, other, 2.0*numpy.pi*Q, PHASE) for other in passed])\n",
    "        \n",
    "        local_phase = torch.clone(phase)\n",
    "        phase_x = Frequency.mod(local_phase[index] + 1.0*2.0*numpy.pi*q, 2*numpy.pi, -numpy.pi).cpu().item()\n",
    "        local_phase[index] = phase_x\n",
    "        local_phase = torch.stack([Decomposition.advance(index, other, 2.0*numpy.pi*q, local_phase) for other in passed])\n",
    "        error_x = torch.sum((local_model - local_phase)**2)\n",
    "        \n",
    "        local_phase = torch.clone(phase)\n",
    "        phase_y = Frequency.mod(local_phase[index] + 0.0*2.0*numpy.pi*q, 2*numpy.pi, -numpy.pi).cpu().item()\n",
    "        local_phase[index] = phase_y\n",
    "        local_phase = torch.stack([Decomposition.advance(index, other, 2.0*numpy.pi*q, local_phase) for other in passed])\n",
    "        error_y = torch.sum((local_model - local_phase)**2)\n",
    "        \n",
    "        local_phase = torch.clone(phase)\n",
    "        phase_z = Frequency.mod(local_phase[index] - 1.0*2.0*numpy.pi*q, 2*numpy.pi, -numpy.pi).cpu().item()\n",
    "        local_phase[index] = phase_z\n",
    "        local_phase = torch.stack([Decomposition.advance(index, other, 2.0*numpy.pi*q, local_phase) for other in passed])\n",
    "        error_z = torch.sum((local_model - local_phase)**2)\n",
    "        \n",
    "        error = torch.stack([error_x, error_y, error_z]).argmin().item()\n",
    "        result[index] = (error - 1, [phase_x, phase_y, phase_z][error])\n",
    "        \n",
    "    return result"
   ]
  },
  {
   "cell_type": "code",
   "execution_count": null,
   "id": "eb9413c4-e681-489b-81b1-395f6349c6d2",
   "metadata": {},
   "outputs": [],
   "source": [
    "# Generation of combinations"
   ]
  },
  {
   "cell_type": "code",
   "execution_count": 193,
   "id": "9e4dc039-3325-488c-950f-82ddf0dfc0e2",
   "metadata": {},
   "outputs": [
    {
     "data": {
      "text/plain": [
       "[[2, [[0, -1], [0, 1]]],\n",
       " [3, [[0, -2], [0, -1]]],\n",
       " [3, [[0, -2], [0, 1]]],\n",
       " [3, [[0, -1], [0, 2]]],\n",
       " [3, [[0, 1], [0, 2]]],\n",
       " [4, [[0, -2], [0, 2]]]]"
      ]
     },
     "execution_count": 193,
     "metadata": {},
     "output_type": "execute_result"
    }
   ],
   "source": [
    "# def combo(limit:int):\n",
    "#     table = [*range(-limit, 1 + limit)]\n",
    "#     table.remove(0)\n",
    "#     table = [[0, i] for i in table]\n",
    "#     out = []\n",
    "#     for i in range(0, len(table)):\n",
    "#         for j in range(i + 1, len(table)):\n",
    "#             out.append([table[i], table[j]])\n",
    "# #     out = sorted(out, key=lambda x: max(map(lambda y: list(map(abs, y)), x)))\n",
    "# #     return torch.tensor(numpy.array(out)) # dtype long, device from self\n",
    "#     return out\n",
    "\n",
    "# print(combo(2))\n",
    "\n",
    "from itertools import combinations\n",
    "def generate_pairs(limit:int, count:int) -> list:\n",
    "    \"\"\"\n",
    "    Generate combinations of unique pairs of probed locatiaon and other locations.\n",
    "    \n",
    "    Probed location has index 0, other locations are in range defined by limit\n",
    "    \n",
    "    Parameters\n",
    "    ----------\n",
    "    limit: int\n",
    "        maximum distance from probed location\n",
    "    count: int\n",
    "        number of unique locations in combination\n",
    "\n",
    "    Returns\n",
    "    -------\n",
    "    [..., [sum_i, combination_i], ...] sorted by sum_i\n",
    "    \n",
    "    \"\"\"\n",
    "    other = [i for i in range(-limit, 1 + limit) if i != 0]\n",
    "    pairs = [(0, i) for i in other]\n",
    "    stock = {pair: abs(sum(pair)) for pair in pairs}\n",
    "    combo = list(combinations(pairs, count))\n",
    "    stock = [sum(stock[j] for j in i) for i in combo]\n",
    "    combo = [[stock, list(map(list, combo))] for combo, stock in zip(combo, stock)]\n",
    "    return sorted(combo)\n",
    "\n",
    "generate_pairs(2, 2)"
   ]
  },
  {
   "cell_type": "code",
   "execution_count": 12,
   "id": "f728d0d0-e540-4b21-be77-036b102c47c0",
   "metadata": {},
   "outputs": [
    {
     "data": {
      "text/plain": [
       "[[2, [[0, -1], [0, 1]]],\n",
       " [3, [[0, -2], [0, -1]]],\n",
       " [3, [[0, -2], [0, 1]]],\n",
       " [3, [[0, -1], [0, 2]]],\n",
       " [3, [[0, 1], [0, 2]]],\n",
       " [4, [[0, -2], [0, 2]]]]"
      ]
     },
     "execution_count": 12,
     "metadata": {},
     "output_type": "execute_result"
    }
   ],
   "source": [
    "generate_pairs(2, 2)"
   ]
  },
  {
   "cell_type": "code",
   "execution_count": 41,
   "id": "c5412f55-d6a4-4011-88c3-68182c732c1d",
   "metadata": {},
   "outputs": [
    {
     "name": "stdout",
     "output_type": "stream",
     "text": [
      "True\n"
     ]
    }
   ],
   "source": [
    "# Import\n",
    "\n",
    "import epics\n",
    "import numpy\n",
    "import pandas\n",
    "import torch\n",
    "import nufft\n",
    "import yaml\n",
    "\n",
    "import sys\n",
    "sys.path.append('..')\n",
    "\n",
    "from harmonica.util import LIMIT, data_load, generate_pairs, mod\n",
    "from harmonica.window import Window\n",
    "from harmonica.data import Data\n",
    "from harmonica.frequency import Frequency\n",
    "from harmonica.filter import Filter\n",
    "from harmonica.decomposition import Decomposition\n",
    "\n",
    "import matplotlib.pyplot as plt\n",
    "\n",
    "torch.set_printoptions(precision=12, sci_mode=True)\n",
    "print(torch.cuda.is_available())"
   ]
  },
  {
   "cell_type": "code",
   "execution_count": 42,
   "id": "d03c6683-1170-4f29-b1c2-63784650adb0",
   "metadata": {},
   "outputs": [
    {
     "data": {
      "image/png": "[encoded data removed]",
      "text/plain": [
       "<Figure size 1080x360 with 1 Axes>"
      ]
     },
     "metadata": {
      "needs_background": "light"
     },
     "output_type": "display_data"
    }
   ],
   "source": [
    "# Load model phase advance data\n",
    "with open('../config.yaml', 'r') as stream:\n",
    "    config = yaml.safe_load(stream)\n",
    "    config = {key: config[key] for key in sorted(config.keys(), key=lambda name: config[name]['S'])}\n",
    "\n",
    "total = config['END']['FX']\n",
    "model = torch.tensor([value['FX'] for key, value in config.items() if value['TYPE'] == 'MONITOR'], dtype=torch.float64)\n",
    "error = 1.0E-1*torch.ones_like(model)\n",
    "# Plot adjacent phase advance\n",
    "model, error = Decomposition.phase_adjacent(total/(2.0*numpy.pi), model, model=True, sigma_phase=error)\n",
    "plt.figure(figsize=(15, 5))\n",
    "plt.errorbar(range(54), model.cpu().numpy(), yerr=error.cpu().numpy(), color='black', fmt=' ', marker='o')\n",
    "plt.show()"
   ]
  },
  {
   "cell_type": "code",
   "execution_count": 43,
   "id": "8c7283df-7c18-4a45-a946-309688f45ac6",
   "metadata": {},
   "outputs": [
    {
     "name": "stdout",
     "output_type": "stream",
     "text": [
      "frequency= 0.536883099, spread=1.38725499e-16, error=2.56151871e-13\n"
     ]
    }
   ],
   "source": [
    "# Estimate reference parameters\n",
    "\n",
    "# Set window\n",
    "length = 4096\n",
    "dtype = torch.float64\n",
    "device = 'cpu'\n",
    "w = Window(length, 'cosine_window', 5.0, dtype=dtype, device=device)\n",
    "\n",
    "# Load data\n",
    "d = Data.from_file(54, w, '../virtual_tbt.npy')\n",
    "\n",
    "# Estimate frequency\n",
    "f = Frequency(d)\n",
    "d.window_remove_mean()\n",
    "d.window_apply()\n",
    "f('parabola')\n",
    "d.reset()\n",
    "frequency, spread = f.frequency.mean(), f.frequency.std()\n",
    "frequency = 1.0 - frequency\n",
    "\n",
    "# Estimate amplitude for given frequency\n",
    "h = Decomposition(d)\n",
    "result, _ = h.harmonic_sum(frequency, w.window, d.data)\n",
    "_, _, amplitude, phase = result.T\n",
    "\n",
    "# Check maximum reconstruction error\n",
    "result = []\n",
    "for a, b in zip(amplitude, phase):\n",
    "    result.append(Data.make_harmonic(length, frequency, a, b, dtype=dtype, device=device))\n",
    "result = torch.stack(result)\n",
    "print(f'frequency={frequency.item():12.9}, spread={spread.item():12.9}, error={(d.data - result).abs().max().item():12.9}')"
   ]
  },
  {
   "cell_type": "code",
   "execution_count": 44,
   "id": "bdfbb188-3aa2-431f-9272-8a4bc5cef282",
   "metadata": {},
   "outputs": [
    {
     "name": "stdout",
     "output_type": "stream",
     "text": [
      "frequency= 0.536883088, spread=9.88277544e-07\n"
     ]
    }
   ],
   "source": [
    "# Real TbT data length is limited by decoherence\n",
    "# In this example 1024 turns are used for frequency estimation and only 512 for phase\n",
    "\n",
    "# Set window\n",
    "length = 1024\n",
    "dtype = torch.float64\n",
    "device = 'cpu'\n",
    "w = Window(length, 'cosine_window', 1.0, dtype=dtype, device=device)\n",
    "\n",
    "# Load data\n",
    "d = Data.from_file(54, w, '../virtual_tbt.npy')\n",
    "\n",
    "# Add random noise\n",
    "n = 1.0E-6*(25.0 + 75.0*torch.rand(54, dtype=dtype, device=device))\n",
    "d.add_noise(n)\n",
    "d.data.copy_(d.work)\n",
    "\n",
    "# Estimate frequency (average over signals)\n",
    "f = Frequency(d)\n",
    "d.window_remove_mean()\n",
    "d.window_apply()\n",
    "f('parabola')\n",
    "d.reset()\n",
    "frequency, spread = f.frequency.mean(), f.frequency.std()\n",
    "frequency = 1.0 - frequency\n",
    "print(f'frequency={frequency.item():12.9}, spread={spread.item():12.9}')"
   ]
  },
  {
   "cell_type": "code",
   "execution_count": 45,
   "id": "d7236a5f-734b-4b1e-b674-f4fe3cc26851",
   "metadata": {},
   "outputs": [
    {
     "name": "stdout",
     "output_type": "stream",
     "text": [
      "tensor(-2.313821233715e+00, dtype=torch.float64)\n",
      "tensor([-2.313821233715e+00, 0.000000000000e+00], dtype=torch.float64)\n"
     ]
    }
   ],
   "source": [
    "print(mod(phase[0] + 2.0*numpy.pi*frequency, 2.0*numpy.pi, -numpy.pi))\n",
    "print(Decomposition.phase_adjust(0 + 54, frequency, phase))"
   ]
  },
  {
   "cell_type": "code",
   "execution_count": 46,
   "id": "ab42325e-393b-405d-ae51-51400b7c3344",
   "metadata": {},
   "outputs": [
    {
     "name": "stdout",
     "output_type": "stream",
     "text": [
      "tensor(-2.777307786796e+00, dtype=torch.float64)\n",
      "tensor([-2.777307786796e+00, 0.000000000000e+00], dtype=torch.float64)\n"
     ]
    }
   ],
   "source": [
    "print(mod(phase[0] - 2.0*numpy.pi*frequency, 2.0*numpy.pi, -numpy.pi))\n",
    "print(Decomposition.phase_adjust(0 - 54, frequency, phase))"
   ]
  },
  {
   "cell_type": "code",
   "execution_count": 47,
   "id": "80dfaaee-26d2-4d98-bb88-76b05858db72",
   "metadata": {},
   "outputs": [
    {
     "data": {
      "image/png": "[encoded data removed]",
      "text/plain": [
       "<Figure size 1080x144 with 1 Axes>"
      ]
     },
     "metadata": {
      "needs_background": "light"
     },
     "output_type": "display_data"
    },
    {
     "data": {
      "image/png": "[encoded data removed]",
      "text/plain": [
       "<Figure size 1080x144 with 1 Axes>"
      ]
     },
     "metadata": {
      "needs_background": "light"
     },
     "output_type": "display_data"
    },
    {
     "data": {
      "image/png": "[encoded data removed]",
      "text/plain": [
       "<Figure size 1080x144 with 1 Axes>"
      ]
     },
     "metadata": {
      "needs_background": "light"
     },
     "output_type": "display_data"
    },
    {
     "name": "stdout",
     "output_type": "stream",
     "text": [
      "tensor(2.465699296767e-03, dtype=torch.float64)\n",
      "tensor(2.533488276958e-03, dtype=torch.float64)\n",
      "tensor(2.533488276958e-03, dtype=torch.float64)\n"
     ]
    }
   ],
   "source": [
    "# Estimate phase\n",
    "dec = Decomposition(d)\n",
    "out1, err1, _ = dec.harmonic_phase(frequency, length=512, order=1.0, error=True, sigma_frequency=spread)\n",
    "out2, err2, _ = dec.harmonic_phase(frequency, length=256, order=1.0, error=True, sigma_frequency=spread, shift=True, count=256, step=1, fit='none')\n",
    "out3, err3, _ = dec.harmonic_phase(frequency, length=256, order=1.0, error=True, sigma_frequency=spread, shift=True, count=256, step=1, fit='average')\n",
    "\n",
    "# Compare results\n",
    "plt.figure(figsize=(15, 2))\n",
    "plt.errorbar(range(54), (out1 - phase).cpu().numpy(), yerr=err1.cpu().numpy(), fmt=' ', marker='o', color='blue')\n",
    "plt.hlines(0, 0, 53, colors='black')\n",
    "plt.ylim(-1.0E-2, +1.0E-2)\n",
    "plt.show()\n",
    "\n",
    "plt.figure(figsize=(15, 2))\n",
    "plt.errorbar(range(54), (out2 - phase).cpu().numpy(), yerr=err2.cpu().numpy(), fmt=' ', marker='o', color='blue')\n",
    "plt.hlines(0, 0, 53, colors='black')\n",
    "plt.ylim(-1.0E-2, +1.0E-2)\n",
    "plt.show()\n",
    "\n",
    "plt.figure(figsize=(15, 2))\n",
    "plt.errorbar(range(54), (out3 - phase).cpu().numpy(), yerr=err3.cpu().numpy(), fmt=' ', marker='o', color='blue')\n",
    "plt.hlines(0, 0, 53, colors='black')\n",
    "plt.ylim(-1.0E-2, +1.0E-2)\n",
    "plt.show()\n",
    "\n",
    "print((out1 - phase).std())\n",
    "print((out2 - phase).std())\n",
    "print((out3 - phase).std())"
   ]
  },
  {
   "cell_type": "code",
   "execution_count": 48,
   "id": "2e779333-9fa5-4305-ac79-4c4f31dbf7cb",
   "metadata": {},
   "outputs": [],
   "source": [
    "# MODEL ADVANCE\n",
    "\n",
    "with open('../config.yaml', 'r') as stream:\n",
    "    config = yaml.safe_load(stream)\n",
    "    config = {key: config[key] for key in sorted(config.keys(), key=lambda name: config[name]['S'])}\n",
    "\n",
    "total = config['END']['FX']\n",
    "model = torch.tensor([value['FX'] for key, value in config.items() if value['TYPE'] == 'MONITOR'], dtype=torch.float64)"
   ]
  },
  {
   "cell_type": "code",
   "execution_count": 49,
   "id": "9fd64e34-b8fc-465e-a307-102f77bf2135",
   "metadata": {},
   "outputs": [],
   "source": [
    "# MEASURED PHASE & ERROR ESTIMATE\n",
    "# out3\n",
    "# err3"
   ]
  },
  {
   "cell_type": "code",
   "execution_count": 50,
   "id": "8cd4db05-56d4-40f4-bbc9-2101c1457b07",
   "metadata": {},
   "outputs": [
    {
     "name": "stdout",
     "output_type": "stream",
     "text": [
      "tensor([5.298121435853e+00, 0.000000000000e+00], dtype=torch.float64)\n",
      "tensor([5.298121435854e+00, 0.000000000000e+00], dtype=torch.float64)\n"
     ]
    },
    {
     "data": {
      "text/plain": [
       "3.3733359976596375"
      ]
     },
     "execution_count": 50,
     "metadata": {},
     "output_type": "execute_result"
    }
   ],
   "source": [
    "i, j = -1,  4\n",
    "print(Decomposition.phase_advance(i, j, total/(2.0*numpy.pi), model))\n",
    "print(Decomposition.phase_advance(i, j, total/(2.0*numpy.pi), phase))\n",
    "mod(total, 2.0*numpy.pi)"
   ]
  },
  {
   "cell_type": "code",
   "execution_count": 51,
   "id": "a40dbb34-d9fb-41ed-a8e0-267adbbee7aa",
   "metadata": {},
   "outputs": [],
   "source": [
    "# set model data for all locations including virtual\n",
    "# set measured phase (monitor locations)\n",
    "# task is to find phase at virtual locations"
   ]
  },
  {
   "cell_type": "code",
   "execution_count": 52,
   "id": "3473fb1f-4195-4f10-9bd6-857128f9fc98",
   "metadata": {},
   "outputs": [],
   "source": [
    "# 0) use advance from virtual to other (first check adjacent for sign?)\n",
    "# 1) get indeces of monitors in model data\n",
    "# 2) get adjacent monitors, find phase using adjacent (sign?)\n",
    "# 3) use all other, find phase and error\n",
    "# 4) do wls\n",
    "# 5) monitor <--> weights (additional?)"
   ]
  },
  {
   "cell_type": "code",
   "execution_count": 53,
   "id": "11ebaf1c-124a-4606-aa03-1f17f0256899",
   "metadata": {},
   "outputs": [],
   "source": [
    "def virtual_phase(index, model, local, phase, sigma):\n",
    "    pass\n",
    "\n",
    "# index -- index of virtual location in model data\n",
    "# model -- model phase data for all location (all monitor and all virtual)\n",
    "# local -- list of indeces of monitor locations in model data\n",
    "# phase -- monitor locations phase list\n",
    "# signa -- (optional) monitor location error list"
   ]
  },
  {
   "cell_type": "code",
   "execution_count": 54,
   "id": "0affcb0e-4098-4fd7-a555-ffbc4c9e1213",
   "metadata": {},
   "outputs": [],
   "source": [
    "# DETAILS\n",
    "\n",
    "# add different computation mods\n",
    "# 1) adjacent\n",
    "# 2) one-turn\n",
    "# 3) range\n",
    "\n",
    "# add sigma of sector (each sector between all locations virtual and monitor)\n",
    "\n",
    "# do not fit inside? if impove, need to add original data\n",
    "\n",
    "# add frequency error for going to other turn?\n",
    "\n",
    "# for range mode generarate indeces inside\n",
    "\n",
    "# NEED function to compute PHASE on other turns\n",
    "# USE it in ADVANCE function\n",
    "\n",
    "# need some data trimming by quantile"
   ]
  },
  {
   "cell_type": "code",
   "execution_count": null,
   "id": "0cfbd05f-fddc-43f2-8002-f19c7e47708b",
   "metadata": {},
   "outputs": [],
   "source": []
  },
  {
   "cell_type": "code",
   "execution_count": 55,
   "id": "a10167a8-9f42-4d83-944b-3b44ae629d5a",
   "metadata": {},
   "outputs": [
    {
     "name": "stdout",
     "output_type": "stream",
     "text": [
      "[0, 1, 5, 10, 15]\n",
      "[-5.5286007617616484e-05, 0.0025712208728539154]\n",
      "[0.00013216104516788896, 0.00023589904600808967]\n",
      "[-0.0024508729041300414, 0.0032727979686172385]\n"
     ]
    },
    {
     "data": {
      "image/png": "[encoded data removed]",
      "text/plain": [
       "<Figure size 432x288 with 1 Axes>"
      ]
     },
     "metadata": {
      "needs_background": "light"
     },
     "output_type": "display_data"
    }
   ],
   "source": [
    "# test data\n",
    "\n",
    "# model advance for all locations (monitor & virtual)\n",
    "data_model = torch.clone(model)\n",
    "\n",
    "# define indices of virtial\n",
    "data_index = [0, 1, 5, 10, 15]\n",
    "\n",
    "# generate local (ids of monitor in data_model)\n",
    "data_local = [i for i in range(len(data_model)) if i not in data_index]\n",
    "\n",
    "# generate phase (exclude data_index)\n",
    "data_phase = torch.stack([phase for i, phase in enumerate(out3) if i not in data_index])\n",
    "\n",
    "# generate error (exclude data_index)\n",
    "data_error = torch.stack([error for i, error in enumerate(err3) if i not in data_index])\n",
    "\n",
    "\n",
    "def virtual_phase(index:int, frequency:float, model:torch.Tensor,\n",
    "                  local:list, phase:torch.Tensor, error:torch.Tensor=None,\n",
    "                  fit:bool=True) -> dict:\n",
    "    \"\"\"\n",
    "    \"\"\"\n",
    "    \n",
    "    result = {}\n",
    "    \n",
    "    size = len(model)\n",
    "    \n",
    "    table = []\n",
    "    sigma = []\n",
    "    \n",
    "    for i, monitor in enumerate(local):\n",
    "        advance, _ = Decomposition.phase_advance(index, monitor, frequency, model)\n",
    "        virtual = mod(phase[i] - advance, 2.0*numpy.pi, -numpy.pi)\n",
    "        table.append(virtual)\n",
    "        if error != None:\n",
    "            sigma.append(error[i])\n",
    "    \n",
    "    table = torch.stack(table)\n",
    "    if error != None:\n",
    "        sigma = torch.stack(sigma)\n",
    "\n",
    "    result['fit'] = None\n",
    "    result['table'] = table\n",
    "    result['sigma'] = sigma\n",
    "    \n",
    "    if fit:\n",
    "        from statsmodels.api import WLS\n",
    "        x = numpy.ones((len(table), 1))\n",
    "        y = table.cpu().numpy()\n",
    "        w = x if error == None else (1/sigma**2).cpu().numpy()\n",
    "        fit = WLS(y, x, w).fit()\n",
    "        result['fit'] = [fit.params.item(), fit.bse.item()]\n",
    "    \n",
    "    return result\n",
    "\n",
    "\n",
    "#\n",
    "# better estimate if use monitor as virtualm but all others as monitor???\n",
    "#\n",
    "\n",
    "print(data_index)\n",
    "i = 0\n",
    "result = virtual_phase(i, frequency, data_model, data_local, data_phase, data_error) \n",
    "print([phase[i].item()-result['table'].mean().item(), result['table'].std().item()])\n",
    "print([phase[i].item()-result['fit'][0], result['fit'][1]])\n",
    "print([phase[i].item()-out3[i].item(), err3[i].item()])\n",
    "\n",
    "plt.scatter(range(len(result['table'])), result['table'], color='red')\n",
    "plt.scatter(0, out3[i].item(), color='blue')\n",
    "plt.hlines(phase[i].item(), 0, len(result['table']), color='black')\n",
    "plt.hlines(result['fit'][0], 0, len(result['table']), color='red')\n",
    "plt.show()"
   ]
  },
  {
   "cell_type": "code",
   "execution_count": 56,
   "id": "0b684068-35c2-4f20-b456-345723f76d01",
   "metadata": {},
   "outputs": [
    {
     "data": {
      "image/png": "[encoded data removed]",
      "text/plain": [
       "<Figure size 1080x144 with 1 Axes>"
      ]
     },
     "metadata": {
      "needs_background": "light"
     },
     "output_type": "display_data"
    },
    {
     "name": "stdout",
     "output_type": "stream",
     "text": [
      "tensor(2.533488276958e-03, dtype=torch.float64)\n",
      "tensor(2.925553400033e-05, dtype=torch.float64)\n"
     ]
    }
   ],
   "source": [
    "##################################################\n",
    "# improve measured phase (assuming model is ok) #\n",
    "##################################################\n",
    "\n",
    "# seems to introduce bias ??? but it is small\n",
    "# bias is the same for all, can remove it?\n",
    "# second pass??? doesn't help\n",
    "\n",
    "# all are monitor\n",
    "data_model = torch.clone(model)\n",
    "\n",
    "out = []\n",
    "\n",
    "# loop over each monitor\n",
    "for i in range(len(data_model)):\n",
    "    data_index = [i]\n",
    "    data_local = [i for i in range(len(data_model)) if i not in data_index]\n",
    "    data_phase = torch.stack([phase for i, phase in enumerate(out3) if i not in data_index])\n",
    "    data_error = torch.stack([error for i, error in enumerate(err3) if i not in data_index])\n",
    "    result = virtual_phase(i, frequency, data_model, data_local, data_phase, data_error) ;\n",
    "    out.append(result['fit'])\n",
    "\n",
    "out = torch.tensor(numpy.array(out).T)\n",
    "\n",
    "plt.figure(figsize=(15, 2))\n",
    "plt.errorbar(range(54), (out3 - phase).cpu().numpy(), yerr=err3.cpu().numpy(), fmt=' ', marker='o', color='red')\n",
    "plt.errorbar(range(54), (out[0] - phase).cpu().numpy(), yerr=out[1], fmt=' ', marker='o', color='blue')\n",
    "plt.hlines(0, 0, 53, colors='black')\n",
    "plt.ylim(-1.0E-2, +1.0E-2)\n",
    "plt.show()\n",
    "print((out3 - phase).std())\n",
    "print((out[0] - phase).std())"
   ]
  },
  {
   "cell_type": "code",
   "execution_count": 57,
   "id": "865d084d-3e48-4f6a-8f60-cc961bad0f1c",
   "metadata": {},
   "outputs": [
    {
     "data": {
      "image/png": "[encoded data removed]",
      "text/plain": [
       "<Figure size 1080x144 with 1 Axes>"
      ]
     },
     "metadata": {
      "needs_background": "light"
     },
     "output_type": "display_data"
    },
    {
     "name": "stdout",
     "output_type": "stream",
     "text": [
      "tensor(5.607143205793e-07, dtype=torch.float64)\n"
     ]
    }
   ],
   "source": [
    "# second pass \n",
    "# seems to be better for several, can use errors from first and do several loops\n",
    "# only one loop has some effect\n",
    "\n",
    "new = torch.clone(out) \n",
    "out = []\n",
    "\n",
    "# all are monitor\n",
    "data_model = torch.clone(model)\n",
    "\n",
    "# loop over each monitor\n",
    "for i in range(len(data_model)):\n",
    "    data_index = [i]\n",
    "    data_local = [i for i in range(len(data_model)) if i not in data_index]\n",
    "    data_phase = torch.stack([phase for i, phase in enumerate(new[0]) if i not in data_index])\n",
    "    data_error = torch.stack([error for i, error in enumerate(new[1]) if i not in data_index])\n",
    "    result = virtual_phase(i, frequency, data_model, data_local, data_phase, data_error) ;\n",
    "    out.append(result['fit'])\n",
    "\n",
    "out = torch.tensor(numpy.array(out).T)\n",
    "\n",
    "plt.figure(figsize=(15, 2))\n",
    "plt.errorbar(range(54), (out3 - phase).cpu().numpy(), yerr=err3.cpu().numpy(), fmt=' ', marker='o', color='red')\n",
    "plt.errorbar(range(54), (out[0] - phase).cpu().numpy(), yerr=out[1], fmt=' ', marker='o', color='blue')\n",
    "plt.hlines(0, 0, 53, colors='black')\n",
    "plt.ylim(-1.0E-2, +1.0E-2)\n",
    "plt.show()\n",
    "print((out[0] - phase).std())"
   ]
  },
  {
   "cell_type": "code",
   "execution_count": 58,
   "id": "71b1c02f-ba3d-4706-99ab-4f312596de7d",
   "metadata": {},
   "outputs": [
    {
     "data": {
      "text/plain": [
       "[[2, [[0, -1], [0, 1]]],\n",
       " [3, [[0, -2], [0, -1]]],\n",
       " [3, [[0, -2], [0, 1]]],\n",
       " [3, [[0, -1], [0, 2]]],\n",
       " [3, [[0, 1], [0, 2]]],\n",
       " [4, [[0, -2], [0, 2]]]]"
      ]
     },
     "execution_count": 58,
     "metadata": {},
     "output_type": "execute_result"
    }
   ],
   "source": [
    "generate_pairs(2, 2)"
   ]
  },
  {
   "cell_type": "code",
   "execution_count": 59,
   "id": "82b4e9a2-dbff-4481-934b-49f94cc37b7b",
   "metadata": {},
   "outputs": [],
   "source": [
    "\n",
    "\n",
    "# generate local (ids of monitor in data_model)\n",
    "\n",
    "\n",
    "# generate phase (exclude data_index)\n",
    "\n",
    "\n",
    "# generate error (exclude data_index)\n"
   ]
  },
  {
   "cell_type": "code",
   "execution_count": 60,
   "id": "6185db3c-3f51-499b-9889-34666d7c001b",
   "metadata": {},
   "outputs": [],
   "source": [
    "## ADD 'CENTER' ?\n",
    "## USE NEGATIVE TURN ?\n",
    "## DISTANCE WEIGHT ?"
   ]
  },
  {
   "cell_type": "code",
   "execution_count": null,
   "id": "6db12115-cd5d-4c9b-a2e0-2aefa3c3eabd",
   "metadata": {},
   "outputs": [],
   "source": []
  },
  {
   "cell_type": "code",
   "execution_count": null,
   "id": "1401f138-b02f-4823-a13b-19233232d820",
   "metadata": {},
   "outputs": [],
   "source": []
  },
  {
   "cell_type": "code",
   "execution_count": 61,
   "id": "c3f7c7ec-f4f5-417a-864c-f6f13b5bfa39",
   "metadata": {},
   "outputs": [
    {
     "name": "stdout",
     "output_type": "stream",
     "text": [
      "[0, 1, 5, 10, 15]\n",
      "[-5.528600668625039e-05, 0.0025448486795797156]\n",
      "[0.0001321610460984779, 0.00023589904600809008]\n",
      "[-0.0008465429053232665, 0.002554866476592463]\n"
     ]
    },
    {
     "data": {
      "image/png": "[encoded data removed]",
      "text/plain": [
       "<Figure size 432x288 with 1 Axes>"
      ]
     },
     "metadata": {
      "needs_background": "light"
     },
     "output_type": "display_data"
    }
   ],
   "source": [
    "# DBSCAN, epsilon based on n*std\n",
    "\n",
    "# model advance for all locations (monitor & virtual)\n",
    "data_model = torch.clone(model)\n",
    "\n",
    "# define indices of virtial\n",
    "data_index = [0, 1, 5, 10, 15]\n",
    "\n",
    "# generate local (ids of monitor in data_model)\n",
    "data_local = [i for i in range(len(data_model)) if i not in data_index]\n",
    "\n",
    "# generate phase (exclude data_index)\n",
    "data_phase = torch.stack([phase for i, phase in enumerate(out3) if i not in data_index])\n",
    "\n",
    "# generate error (exclude data_index)\n",
    "data_error = torch.stack([error for i, error in enumerate(err3) if i not in data_index])\n",
    "\n",
    "\n",
    "def virtual_phase(index:int, frequency:float, model:torch.Tensor,\n",
    "                  local:list, phase:torch.Tensor, error:torch.Tensor=None,\n",
    "                  fit:bool=True) -> dict:\n",
    "    \"\"\"\n",
    "    \n",
    "    index      -- location index in a list with model data (model data for all locations)\n",
    "    frequency  -- measured (fractional) frequency\n",
    "    model      -- model data for all locations (advance from zero to location)\n",
    "    local      -- list of monitor indices as appear in model data\n",
    "    phase      -- list of monitor measured phases\n",
    "    error      -- errors for measured phases\n",
    "    fit        -- flag to fit data\n",
    "    \n",
    "    \n",
    "    \"\"\"\n",
    "    \n",
    "    result = {}\n",
    "    \n",
    "    size = len(model)\n",
    "    \n",
    "    table = []\n",
    "    sigma = []\n",
    "    \n",
    "    for i, monitor in enumerate(local):\n",
    "        advance, _ = Decomposition.phase_advance(index, monitor, frequency, model)\n",
    "        virtual = mod(phase[i] - advance, 2.0*numpy.pi, -numpy.pi)\n",
    "        table.append(virtual)\n",
    "        if error != None:\n",
    "            sigma.append(error[i])\n",
    "    \n",
    "    table = torch.stack(table)\n",
    "    if error != None:\n",
    "        sigma = torch.stack(sigma)\n",
    "\n",
    "    result['fit'] = None\n",
    "    result['table'] = table.cpu().numpy()\n",
    "    result['sigma'] = None if error == None else sigma.cpu().numpy()\n",
    "    \n",
    "    # outliers\n",
    "#     from sklearn.cluster import DBSCAN\n",
    "#     from collections import Counter\n",
    "#     epsilon = 3.0*result['table'].std()\n",
    "#     group = DBSCAN(eps=epsilon).fit(result['table'].reshape(-1, 1))\n",
    "#     label, *_ = Counter(group.labels_)\n",
    "#     print(group.labels_)\n",
    "#     result['table'] = result['table'][group.labels_ == label]\n",
    "#     result['sigma'] = None if error == None else result['sigma'][group.labels_ == label]\n",
    "    \n",
    "    if fit:\n",
    "        from statsmodels.api import WLS\n",
    "        x = numpy.ones((len(result['table']), 1))\n",
    "        y = result['table']\n",
    "        w = x if error == None else (1/result['sigma']**2)\n",
    "        fit = WLS(y, x, w).fit()\n",
    "        result['fit'] = [fit.params.item(), fit.bse.item()]\n",
    "    \n",
    "    return result\n",
    "\n",
    "print(data_index)\n",
    "i = 15\n",
    "result = virtual_phase(i, frequency, data_model, data_local, data_phase, data_error) \n",
    "print([phase[i].item()-result['table'].mean().item(), result['table'].std().item()])\n",
    "print([phase[i].item()-result['fit'][0], result['fit'][1]])\n",
    "print([phase[i].item()-out3[i].item(), err3[i].item()])\n",
    "\n",
    "plt.scatter(range(len(result['table'])), result['table'], color='red')\n",
    "plt.scatter(0, out3[i].item(), color='blue')\n",
    "plt.hlines(phase[i].item(), 0, len(result['table']), color='black')\n",
    "plt.hlines(result['fit'][0], 0, len(result['table']), color='red')\n",
    "plt.show()"
   ]
  },
  {
   "cell_type": "code",
   "execution_count": 62,
   "id": "1225c820-0a03-459a-b2c0-78ccbca1c4d5",
   "metadata": {},
   "outputs": [],
   "source": [
    "# TODO\n",
    "# 1. do by range with option to keep only on 1 turn\n",
    "# 2. dbsan cleaning before fit\n",
    "# 3. add model errors (compute sigma for model error)\n",
    "# 4. inclide frequency error\n",
    "\n",
    "# derived functions (where to fit?)\n",
    "# 1. return phases and errors (with cleaning?)\n",
    "# 2. function for virtual\n",
    "# 3. function for accuracy can do second loop (need to include original, so fit after?)\n",
    "#    use function for virtual without fit, fit after, opionaly second pass"
   ]
  },
  {
   "cell_type": "code",
   "execution_count": 63,
   "id": "c432ca4e-48e9-43db-9733-3eada5266e81",
   "metadata": {},
   "outputs": [],
   "source": [
    "# data preparation\n",
    "\n",
    "# model advance & error for all locations (monitor & virtual)\n",
    "# error is between locations (from given location to the next location)\n",
    "MODEL = torch.clone(model)\n",
    "MODEL_ERROR = 1.0E-3*torch.ones_like(MODEL)\n",
    "\n",
    "# measured phase & error for all locations (monitor & virtual)\n",
    "# phase at locations of monitors is computed from signals, for virtual locations phase is not used, can be zero initialy\n",
    "PHASE = torch.clone(out3)\n",
    "PHASE_ERROR = torch.clone(err3)\n",
    "\n",
    "# here all locations are monitors, set subset to virtual\n",
    "INDEX = [0, 1, 5, 10, 15]\n",
    "\n",
    "# flags\n",
    "# 1/0  -monitor/virtual\n",
    "FLAGS = torch.ones_like(MODEL, dtype=torch.int32)\n",
    "# FLAGS[INDEX] = 0"
   ]
  },
  {
   "cell_type": "code",
   "execution_count": 64,
   "id": "1cc668a4-ca2b-4091-9c85-6fc026ea815e",
   "metadata": {},
   "outputs": [],
   "source": [
    "# TO DO\n",
    "# CHANGE ADVANCE TO COMPUTE ERROR INSIDE\n",
    "# PASS FREQUENCY, NOT ADVANCE ON INPUT\n",
    "# ERRORS\n",
    "# DBSCAN\n",
    "# FIT"
   ]
  },
  {
   "cell_type": "code",
   "execution_count": 69,
   "id": "67d4ba26-d6d2-409f-bf2f-9b8e6139e5dc",
   "metadata": {},
   "outputs": [
    {
     "name": "stdout",
     "output_type": "stream",
     "text": [
      "[-3.814072371399746e-05, 0.0025162609519300823]\n",
      "[0.00011888045403884995, 0.00016014832719954647]\n",
      "[0.002776594539471766, 0.004782138036109702]\n"
     ]
    },
    {
     "data": {
      "image/png": "[encoded data removed]",
      "text/plain": [
       "<Figure size 432x288 with 1 Axes>"
      ]
     },
     "metadata": {
      "needs_background": "light"
     },
     "output_type": "display_data"
    }
   ],
   "source": [
    "def phase_virtual(probe:int,\n",
    "                  limit:int,\n",
    "                  flags:torch.Tensor, \n",
    "                  q:torch.Tensor,\n",
    "                  Q:torch.Tensor,\n",
    "                  phase:torch.Tensor,\n",
    "                  PHASE:torch.Tensor,\n",
    "                  *,\n",
    "                  full:bool=True,\n",
    "                  clean:bool=True,\n",
    "                  factor:float=5.0,\n",
    "                  fit:bool=True,\n",
    "                  error:bool=True,\n",
    "                  sigma_q:torch.Tensor=None, \n",
    "                  sigma_Q:torch.Tensor=None, \n",
    "                  sigma_phase:torch.Tensor=None,\n",
    "                  sigma_PHASE:torch.Tensor=None) -> dict:\n",
    "    \"\"\"\n",
    "    Estimate phase at virtual or monitor location using other monitor locations and model phase data.\n",
    "        \n",
    "    Note, sigma_phase contains error for measured phase, only errors for monitors are used\n",
    "    Note, sigma_PHASE contains error from given location to the next location, should be defined for all locations\n",
    "\n",
    "    Parameters\n",
    "    ----------\n",
    "    probe: int\n",
    "        location index\n",
    "    limit: int\n",
    "        range limit around probe location\n",
    "    flags: torch.Tensor\n",
    "        virtual/monitor flags 0/1 for each location\n",
    "    q: float\n",
    "        measured tune (fractional part)\n",
    "    Q: float\n",
    "        model tune\n",
    "    phase: torch.Tensor\n",
    "        measured phase data\n",
    "    PHASE: torch.Tensor\n",
    "        model phase data\n",
    "    full: bool\n",
    "        flag to use locations on different turns\n",
    "    clean: bool\n",
    "        flag to clean data using DBSCAN\n",
    "    factor: float\n",
    "        epsilon = factor*data.std()\n",
    "    fit: bool\n",
    "        flag to fit data\n",
    "    error:\n",
    "        flag to compute errors\n",
    "    sigma_q: torch.Tensor\n",
    "        measured tune error\n",
    "    sigma_Q: torch.Tensor\n",
    "        model tune error\n",
    "    sigma_phase: torch.Tensor\n",
    "        measured phase error\n",
    "    sigma_PHASE: torch.Tensor\n",
    "        model phase error\n",
    "\n",
    "    Returns\n",
    "    -------\n",
    "    vrtual phase dict\n",
    "\n",
    "    \"\"\"\n",
    "    \n",
    "    # REMOVE\n",
    "    cls = Decomposition\n",
    "    \n",
    "    result = {}\n",
    "    \n",
    "    count = len(model)\n",
    "    \n",
    "    limit = min(limit, count - 1)\n",
    "    \n",
    "    index = {}\n",
    "    for i in (i + probe for i in range(-limit, 1 + limit) if i != 0):\n",
    "        if flags[int(mod(i, count))] == 1:\n",
    "            index[i] = int(mod(i, count))\n",
    "    \n",
    "    if not full:\n",
    "        index = {key: value for key, value in index.items() if key > 0 and key < count} \n",
    "    \n",
    "    table = []\n",
    "    error = []\n",
    "    for i in index:\n",
    "        correct, correct_error = cls.phase_adjust(i, q, phase, sigma_q, sigma_phase)\n",
    "        advance, advance_error = cls.phase_advance(probe, i, Q, PHASE, True, sigma_Q, sigma_PHASE)\n",
    "        virtual, virtual_error = mod(correct - advance, 2.0*numpy.pi, -numpy.pi), (correct_error**2 + advance_error**2)**0.5\n",
    "        table.append(virtual)\n",
    "        error.append(virtual_error)\n",
    "        \n",
    "    table = torch.stack(table)\n",
    "    error = torch.stack(error)\n",
    "\n",
    "    result['model'] = None\n",
    "    result['probe'] = probe\n",
    "    result['limit'] = limit\n",
    "    result['index'] = index\n",
    "    result['clean'] = None\n",
    "    result['phase'] = table\n",
    "    result['error'] = error\n",
    "        \n",
    "    if clean:\n",
    "        from sklearn.cluster import DBSCAN\n",
    "        from collections import Counter\n",
    "        epsilon = factor*table.std().cpu().numpy()\n",
    "        cluster = DBSCAN(eps=epsilon).fit(table.cpu().numpy().reshape(-1, 1))\n",
    "        primary, *_ = Counter(cluster.labels_)\n",
    "        clean = {key: index[key] for key, cluster in zip(index, cluster.labels_) if cluster != primary}\n",
    "        index = {key: index[key] for key, cluster in zip(index, cluster.labels_) if cluster == primary}\n",
    "        result['index'] = index\n",
    "        result['clean'] = clean\n",
    "        result['phase'] = table[cluster.labels_ == primary]\n",
    "        result['error'] = error[cluster.labels_ == primary]\n",
    "\n",
    "    if fit:\n",
    "        from statsmodels.api import WLS\n",
    "        x = numpy.ones((len(result['phase']), 1))\n",
    "        y = result['phase'].cpu().numpy()\n",
    "        s = result['error'].cpu().numpy()\n",
    "        w = x if error == None else (1/s**2)\n",
    "        fit = WLS(y, x, w).fit()\n",
    "        result['model'] = [fit.params.item(), fit.bse.item()]\n",
    "    \n",
    "    return result\n",
    "    \n",
    "\n",
    "I = 10\n",
    "LIMIT = 60\n",
    "FREQUENCY = frequency\n",
    "FREQUENCY_ERROR = spread\n",
    "result = phase_virtual(I, LIMIT, FLAGS, FREQUENCY, total/(2.0*numpy.pi), PHASE, MODEL, sigma_q=1.0E-9, sigma_phase=PHASE_ERROR)\n",
    "\n",
    "print([phase[I].item()-result['phase'].mean().item(), result['phase'].std().item()])\n",
    "print([phase[I].item()-result['model'][0], result['model'][1]])\n",
    "print([phase[I].item()-out3[I].item(), err3[I].item()])\n",
    "\n",
    "plt.scatter(list(result['index']), result['phase'], color='red')\n",
    "plt.scatter(I, out3[I].item(), color='blue')\n",
    "plt.hlines(phase[I].item(), min(result['index'].keys()), max(result['index'].keys()), color='black')\n",
    "plt.hlines(result['model'][0], min(result['index'].keys()), max(result['index'].keys()), color='red')\n",
    "plt.show()"
   ]
  },
  {
   "cell_type": "code",
   "execution_count": null,
   "id": "c0b8068d-1f68-44a6-9855-501b6024eb74",
   "metadata": {},
   "outputs": [],
   "source": []
  },
  {
   "cell_type": "code",
   "execution_count": null,
   "id": "816f6f9f-e2a3-4f55-9a0b-87d35c57d518",
   "metadata": {},
   "outputs": [],
   "source": []
  },
  {
   "cell_type": "code",
   "execution_count": null,
   "id": "ff19ecce-59ac-470b-b30c-559d3be74a21",
   "metadata": {},
   "outputs": [],
   "source": []
  },
  {
   "cell_type": "code",
   "execution_count": null,
   "id": "e82e1f06-c9a0-41c5-92e9-da945b74d292",
   "metadata": {},
   "outputs": [],
   "source": []
  },
  {
   "cell_type": "code",
   "execution_count": 95,
   "id": "2cfa745f-4d6e-408f-94a4-38abd4ee6e8e",
   "metadata": {},
   "outputs": [
    {
     "data": {
      "image/png": "[encoded data removed]",
      "text/plain": [
       "<Figure size 1080x360 with 1 Axes>"
      ]
     },
     "metadata": {
      "needs_background": "light"
     },
     "output_type": "display_data"
    }
   ],
   "source": [
    "# FOR LARGE RANGE DATA IS REDYNDENT (PERIODIC)\n",
    "# CAN SELF PICK??? \n",
    "# self-turn, self, self+turn max data that make sence\n",
    "# can pass any limit, but trim? DONE\n",
    "\n",
    "# frequency error is very small, since max by +-1 turn shift\n",
    "plt.figure(figsize=(15, 5))\n",
    "plt.errorbar([*result['index'].keys()], result['table'].cpu().numpy(), yerr=result['error'].cpu().numpy(), fmt='o')\n",
    "plt.hlines(phase[I].item(), min(result['index']), max(result['index']), color='black')\n",
    "plt.show()"
   ]
  },
  {
   "cell_type": "code",
   "execution_count": null,
   "id": "cafa76f3-441b-4ee6-ba39-d15f6e880136",
   "metadata": {},
   "outputs": [],
   "source": []
  },
  {
   "cell_type": "code",
   "execution_count": null,
   "id": "aafbf071-9dc6-4e92-bb0a-451c10ec4e7f",
   "metadata": {},
   "outputs": [],
   "source": []
  },
  {
   "cell_type": "code",
   "execution_count": null,
   "id": "94cbfb39-783b-4268-9ce5-d6a59d6ee7f8",
   "metadata": {},
   "outputs": [],
   "source": []
  },
  {
   "cell_type": "code",
   "execution_count": null,
   "id": "2f8ee692-4c12-4997-b600-dc42a60c2bf2",
   "metadata": {},
   "outputs": [],
   "source": []
  },
  {
   "cell_type": "code",
   "execution_count": null,
   "id": "23510577-6d43-4281-a7d7-ec534a4eb542",
   "metadata": {},
   "outputs": [],
   "source": []
  },
  {
   "cell_type": "code",
   "execution_count": null,
   "id": "c9c5e18f-a210-4cd8-8169-577e88a33d1f",
   "metadata": {},
   "outputs": [],
   "source": [
    "# new loop\n",
    "# old loop + correction + virtual"
   ]
  },
  {
   "cell_type": "code",
   "execution_count": 228,
   "id": "cf9d9c85-20ef-4703-bcf6-b4a8b6f7c06d",
   "metadata": {},
   "outputs": [],
   "source": [
    "# seems to work, but be careful with PHASE and phase, ERROR and error\n",
    "# should be ok, used wrong array length\n",
    "# remember to remove start/end"
   ]
  },
  {
   "cell_type": "code",
   "execution_count": 96,
   "id": "7da99e9b-ee61-44a6-8a9e-fc899fd70687",
   "metadata": {},
   "outputs": [
    {
     "name": "stdout",
     "output_type": "stream",
     "text": [
      "[1, 27, 53]\n"
     ]
    },
    {
     "data": {
      "image/png": "[encoded data removed]",
      "text/plain": [
       "<Figure size 1080x360 with 1 Axes>"
      ]
     },
     "metadata": {
      "needs_background": "light"
     },
     "output_type": "display_data"
    }
   ],
   "source": [
    "def phase_virtual(probe:int,\n",
    "                  limit:int,\n",
    "                  flags:torch.Tensor, \n",
    "                  q:torch.Tensor,\n",
    "                  Q:torch.Tensor,\n",
    "                  phase:torch.Tensor,\n",
    "                  PHASE:torch.Tensor,\n",
    "                  *,\n",
    "                  full:bool=True,\n",
    "                  clean:bool=True,\n",
    "                  factor:float=5.0,\n",
    "                  fit:bool=True,\n",
    "                  error:bool=True,\n",
    "                  sigma_q:torch.Tensor=None, \n",
    "                  sigma_Q:torch.Tensor=None, \n",
    "                  sigma_phase:torch.Tensor=None,\n",
    "                  sigma_PHASE:torch.Tensor=None) -> dict:\n",
    "    \"\"\"\n",
    "    Estimate phase at virtual or monitor location using other monitor locations and model phase data.\n",
    "        \n",
    "    Note, sigma_phase contains error for measured phase, only errors for monitors are used\n",
    "    Note, sigma_PHASE contains error from given location to the next location, should be defined for all locations\n",
    "\n",
    "    Parameters\n",
    "    ----------\n",
    "    probe: int\n",
    "        location index\n",
    "    limit: int\n",
    "        range limit around probe location\n",
    "    flags: torch.Tensor\n",
    "        virtual/monitor flags 0/1 for each location\n",
    "    q: float\n",
    "        measured tune (fractional part)\n",
    "    Q: float\n",
    "        model tune\n",
    "    phase: torch.Tensor\n",
    "        measured phase data\n",
    "    PHASE: torch.Tensor\n",
    "        model phase data\n",
    "    full: bool\n",
    "        flag to use locations on different turns\n",
    "    clean: bool\n",
    "        flag to clean data using DBSCAN\n",
    "    factor: float\n",
    "        epsilon = factor*data.std()\n",
    "    fit: bool\n",
    "        flag to fit data\n",
    "    error:\n",
    "        flag to compute errors\n",
    "    sigma_q: torch.Tensor\n",
    "        measured tune error\n",
    "    sigma_Q: torch.Tensor\n",
    "        model tune error\n",
    "    sigma_phase: torch.Tensor\n",
    "        measured phase error\n",
    "    sigma_PHASE: torch.Tensor\n",
    "        model phase error\n",
    "\n",
    "    Returns\n",
    "    -------\n",
    "    vrtual phase dict\n",
    "\n",
    "    \"\"\"\n",
    "    \n",
    "    # REMOVE\n",
    "    cls = Decomposition\n",
    "    \n",
    "    result = {}\n",
    "    \n",
    "    count = len(model)\n",
    "    \n",
    "    limit = min(limit, count - 1)\n",
    "    \n",
    "    index = {}\n",
    "    for i in (i + probe for i in range(-limit, 1 + limit) if i != 0):\n",
    "        if flags[int(mod(i, count))] == 1:\n",
    "            index[i] = int(mod(i, count))\n",
    "    \n",
    "    if not full:\n",
    "        index = {key: value for key, value in index.items() if key > 0 and key < count} \n",
    "    \n",
    "    table = []\n",
    "    error = []\n",
    "    for i in index:\n",
    "        correct, correct_error = cls.phase_adjust(i, q, phase, sigma_q, sigma_phase)\n",
    "        advance, advance_error = cls.phase_advance(probe, i, Q, PHASE, True, sigma_Q, sigma_PHASE)\n",
    "        virtual, virtual_error = mod(correct - advance, 2.0*numpy.pi, -numpy.pi), (correct_error**2 + advance_error**2)**0.5\n",
    "        table.append(virtual)\n",
    "        error.append(virtual_error)\n",
    "        \n",
    "    table = torch.stack(table)\n",
    "    error = torch.stack(error)\n",
    "\n",
    "    result['model'] = None\n",
    "    result['probe'] = probe\n",
    "    result['limit'] = limit\n",
    "    result['index'] = index\n",
    "    result['clean'] = None\n",
    "    result['phase'] = table\n",
    "    result['error'] = error\n",
    "        \n",
    "    if clean:\n",
    "        from sklearn.cluster import DBSCAN\n",
    "        from collections import Counter\n",
    "        epsilon = factor*table.std().cpu().numpy()\n",
    "        cluster = DBSCAN(eps=epsilon).fit(table.cpu().numpy().reshape(-1, 1))\n",
    "        primary, *_ = Counter(cluster.labels_)\n",
    "        clean = {key: index[key] for key, cluster in zip(index, cluster.labels_) if cluster != primary}\n",
    "        index = {key: index[key] for key, cluster in zip(index, cluster.labels_) if cluster == primary}\n",
    "        result['index'] = index\n",
    "        result['clean'] = clean\n",
    "        result['phase'] = table[cluster.labels_ == primary]\n",
    "        result['error'] = error[cluster.labels_ == primary]\n",
    "\n",
    "    if fit:\n",
    "        from statsmodels.api import WLS\n",
    "        x = numpy.ones((len(result['phase']), 1))\n",
    "        y = result['phase'].cpu().numpy()\n",
    "        s = result['error'].cpu().numpy()\n",
    "        w = x if error == None else (1/s**2)\n",
    "        fit = WLS(y, x, w).fit()\n",
    "        result['model'] = [fit.params.item(), fit.bse.item()]\n",
    "    \n",
    "    return result\n",
    "\n",
    "\n",
    "# COMPUTE AT VIRTUAL COLACTIONS (DROP START/END)\n",
    "\n",
    "with open('../config.yaml', 'r') as stream:\n",
    "    config = yaml.safe_load(stream)\n",
    "    config = {key: config[key] for key in sorted(config.keys(), key=lambda name: config[name]['S'])}\n",
    "    \n",
    "model = torch.tensor([value['FX'] for key, value in config.items() if key not in ['START', 'END']], dtype=torch.float64)\n",
    "error = 1.0E-4*torch.ones_like(model)\n",
    "\n",
    "index = {key: value for key, value in config.items() if key not in ['START', 'END']}\n",
    "index = [index for index, (key, value) in enumerate(index.items()) if value['TYPE'] == 'MONITOR']\n",
    "\n",
    "data_model = torch.clone(model)\n",
    "data_index = [i for i in range(len(data_model)) if i not in index]\n",
    "\n",
    "MODEL = torch.clone(model)\n",
    "MODEL_ERROR = error\n",
    "\n",
    "PHASE = 0.0*torch.clone(model)\n",
    "PHASE_ERROR = 0.0*torch.clone(model)\n",
    "PHASE[index] = out3\n",
    "PHASE_ERROR[index] = err3\n",
    "\n",
    "FLAGS = torch.ones_like(MODEL, dtype=torch.int32)\n",
    "FLAGS[data_index] = 0\n",
    "\n",
    "print(data_index)\n",
    "\n",
    "out = []\n",
    "err = []\n",
    "\n",
    "LIMIT = len(MODEL)\n",
    "q = frequency\n",
    "sigma_q = spread\n",
    "\n",
    "Q = total/(2.0*numpy.pi)\n",
    "sigma_Q = torch.sum(MODEL_ERROR**2).sqrt()\n",
    "\n",
    "for I in range(len(MODEL)):\n",
    "    result = phase_virtual(I, LIMIT, FLAGS, q, Q, PHASE, MODEL, sigma_q=sigma_q, sigma_Q=sigma_Q, sigma_phase=PHASE_ERROR, sigma_PHASE=MODEL_ERROR)\n",
    "    out.append(result['phase'].mean())\n",
    "    err.append(result['error'].mean())\n",
    "    \n",
    "out = torch.stack(out)\n",
    "plt.figure(figsize=(15, 5))\n",
    "# plt.errorbar(range(len(out)), out, yerr=err, color='black', fmt=' ', marker='o')\n",
    "plt.scatter(range(len(out)), out, color='black')\n",
    "plt.scatter(data_index, out[data_index].cpu().numpy(), color='red')\n",
    "plt.scatter(index, phase, color='blue', s=5)\n",
    "plt.show()"
   ]
  },
  {
   "cell_type": "code",
   "execution_count": null,
   "id": "dcf93b20-79f2-4b3c-a827-22f6ef0a7296",
   "metadata": {},
   "outputs": [],
   "source": []
  }
 ],
 "metadata": {
  "colab": {
   "collapsed_sections": [
    "myt0_gMIOq7b",
    "5d97819c"
   ],
   "name": "03_frequency.ipynb",
   "provenance": []
  },
  "kernelspec": {
   "display_name": "Python 3 (ipykernel)",
   "language": "python",
   "name": "python3"
  },
  "language_info": {
   "codemirror_mode": {
    "name": "ipython",
    "version": 3
   },
   "file_extension": ".py",
   "mimetype": "text/x-python",
   "name": "python",
   "nbconvert_exporter": "python",
   "pygments_lexer": "ipython3",
   "version": "3.9.7"
  },
  "latex_envs": {
   "LaTeX_envs_menu_present": true,
   "autoclose": false,
   "autocomplete": true,
   "bibliofile": "biblio.bib",
   "cite_by": "apalike",
   "current_citInitial": 1,
   "eqLabelWithNumbers": true,
   "eqNumInitial": 1,
   "hotkeys": {
    "equation": "Ctrl-E",
    "itemize": "Ctrl-I"
   },
   "labels_anchors": false,
   "latex_user_defs": false,
   "report_style_numbering": false,
   "user_envs_cfg": false
  }
 },
 "nbformat": 4,
 "nbformat_minor": 5
}
