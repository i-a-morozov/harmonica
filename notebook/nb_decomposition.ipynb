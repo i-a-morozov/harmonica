{
 "cells": [
  {
   "cell_type": "code",
   "execution_count": 1,
   "id": "a50305dc-b804-4cbb-9095-2eed2b4cf6ad",
   "metadata": {
    "tags": []
   },
   "outputs": [
    {
     "name": "stdout",
     "output_type": "stream",
     "text": [
      "False\n"
     ]
    }
   ],
   "source": [
    "# Import\n",
    "\n",
    "import numpy\n",
    "import torch\n",
    "import yaml\n",
    "\n",
    "import sys\n",
    "sys.path.append('..')\n",
    "\n",
    "from harmonica.util import mod\n",
    "from harmonica.window import Window\n",
    "from harmonica.data import Data\n",
    "from harmonica.frequency import Frequency\n",
    "from harmonica.filter import Filter\n",
    "from harmonica.decomposition import Decomposition\n",
    "\n",
    "import matplotlib.pyplot as plt\n",
    "\n",
    "torch.set_printoptions(precision=12, sci_mode=True)\n",
    "print(torch.cuda.is_available())"
   ]
  },
  {
   "cell_type": "code",
   "execution_count": 2,
   "id": "89e9b3b9-d9e4-49d9-80e2-573facbf5101",
   "metadata": {},
   "outputs": [],
   "source": [
    "# Set data type and device\n",
    "\n",
    "dtype = torch.float64\n",
    "device = 'cpu'"
   ]
  },
  {
   "cell_type": "markdown",
   "id": "fccbbc0f-ad11-4be5-a06a-482e0367e3cf",
   "metadata": {
    "tags": []
   },
   "source": [
    "# Example-01: Estimation of parameters (harmonic sum)"
   ]
  },
  {
   "cell_type": "code",
   "execution_count": 3,
   "id": "f23fae47-eaee-4cbc-8ac8-ed6c860c2456",
   "metadata": {},
   "outputs": [
    {
     "name": "stdout",
     "output_type": "stream",
     "text": [
      "tensor([[2.487510441567e-01, -2.495835633644e-02, 2.500000030401e-01, 1.000000075225e-01],\n",
      "        [6.581869317981e-01, -3.595691566478e-01, 7.500000104014e-01, 4.999999965175e-01]],\n",
      "       dtype=torch.float64)\n",
      "tensor([[2.487510441567e-01, -2.495835633644e-02, 2.500000030401e-01, 1.000000075225e-01],\n",
      "        [6.581869317981e-01, -3.595691566478e-01, 7.500000104014e-01, 4.999999965175e-01]],\n",
      "       dtype=torch.float64)\n",
      "\n",
      "tensor([[2.822920460161e-03, 8.447543997630e-03, 2.706329386825e-03, 3.394245931339e-02],\n",
      "        [1.157996334008e-02, 2.118073069991e-02, 5.412658773651e-04, 3.217800267359e-02]],\n",
      "       dtype=torch.float64)\n",
      "tensor([[2.822920460161e-03, 8.447543997630e-03, 2.706329386825e-03, 3.394245931339e-02],\n",
      "        [1.157996334008e-02, 2.118073069991e-02, 5.412658773651e-04, 3.217800267359e-02]],\n",
      "       dtype=torch.float64)\n",
      "tensor([[2.847775616460e-03, 8.531706277191e-03, 2.714493068111e-03, 3.431242744899e-02],\n",
      "        [1.168503880423e-02, 2.139213930871e-02, 5.522135241420e-04, 3.250543940465e-02]],\n",
      "       dtype=torch.float64)\n",
      "\n"
     ]
    }
   ],
   "source": [
    "# Estimate parameters and standard errors (random frequency)\n",
    "\n",
    "# Set parameters\n",
    "length = 1024\n",
    "\n",
    "# Set window\n",
    "w = Window(length, 'cosine_window', 1.0, dtype=dtype, device=device)\n",
    "\n",
    "# Set noise parameters\n",
    "s_x = torch.tensor([0.05, 0.01], dtype=dtype, device=device)\n",
    "s_f = 1.0E-5\n",
    "\n",
    "# Set data\n",
    "t = torch.linspace(0, length - 1, length, dtype=dtype, device=device)\n",
    "x = torch.stack([0.25*torch.cos(2.0*numpy.pi*0.12*t + 0.1), 0.75*torch.cos(2.0*numpy.pi*0.12*t + 0.5)])\n",
    "\n",
    "# Estimate parameters and errors (direct)\n",
    "p1, s1 = Decomposition.harmonic_sum(0.12, w.window, x, error=True, sigma=s_x, sigma_frequency=s_f)\n",
    "\n",
    "# Estimate parameters and errors (automatic)\n",
    "p2, s2 = Decomposition.harmonic_sum_automatic(0.12, w.window, x, error=True, sigma=s_x, sigma_frequency=s_f)\n",
    "\n",
    "# Estimate errors (average over noise realizations)\n",
    "box = []\n",
    "for _ in range(8192):\n",
    "    y = x + s_x.reshape(-1, 1)*torch.randn_like(x, dtype=dtype, device=device)\n",
    "    out, _ = Decomposition.harmonic_sum(0.12 + 1.0E-5*torch.randn(1, dtype=dtype, device=device), w.window, y)\n",
    "    box.append(out)    \n",
    "box = torch.stack(box).std(-3)\n",
    "\n",
    "# Compare parameters\n",
    "print(p1)\n",
    "print(p2)\n",
    "print()\n",
    "\n",
    "# Compare errors\n",
    "print(s1)\n",
    "print(s2)\n",
    "print(box)\n",
    "print()"
   ]
  },
  {
   "cell_type": "markdown",
   "id": "b09f8485",
   "metadata": {
    "tags": []
   },
   "source": [
    "# Example-02: Estimation of parameters (harmonic sum & batched mode)"
   ]
  },
  {
   "cell_type": "code",
   "execution_count": 4,
   "id": "cb3ed43b-8023-4f46-abf4-360a257db5b0",
   "metadata": {},
   "outputs": [
    {
     "name": "stdout",
     "output_type": "stream",
     "text": [
      "tensor([[[2.822920601761e-03, 8.447544296222e-03, 2.706329386825e-03, 3.394245973862e-02],\n",
      "         [1.363412168625e-02, 1.992058457734e-02, 5.412658773653e-04, 3.217800385559e-02]],\n",
      "\n",
      "        [[2.820933989700e-03, 4.127929982633e-03, 2.706329386827e-03, 4.203956358381e-02],\n",
      "         [1.318111090385e-03, 7.970572419377e-03, 5.412658773716e-04, 3.224269320318e-02]],\n",
      "\n",
      "        [[2.711089283224e-03, 3.144152029843e-03, 2.706329386826e-03, 6.296499040365e-02],\n",
      "         [5.628105253876e-04, 6.104693260486e-04, 5.412658773675e-04, 6.296490438044e-02]]],\n",
      "       dtype=torch.float64)\n",
      "tensor([[[2.822920601761e-03, 8.447544296222e-03, 2.706329386825e-03, 3.394245973862e-02],\n",
      "         [1.363412168625e-02, 1.992058457734e-02, 5.412658773653e-04, 3.217800385559e-02]],\n",
      "\n",
      "        [[2.820933989700e-03, 4.127929982633e-03, 2.706329386827e-03, 4.203956358381e-02],\n",
      "         [1.318111090385e-03, 7.970572419377e-03, 5.412658773716e-04, 3.224269320318e-02]],\n",
      "\n",
      "        [[2.711089283224e-03, 3.144152029843e-03, 2.706329386826e-03, 6.296499040365e-02],\n",
      "         [5.628105253876e-04, 6.104693260486e-04, 5.412658773675e-04, 6.296490438044e-02]]],\n",
      "       dtype=torch.float64)\n",
      "tensor([[[2.822920601761e-03, 8.447544296222e-03, 2.706329386825e-03, 3.394245973862e-02],\n",
      "         [1.363412168625e-02, 1.992058457734e-02, 5.412658773653e-04, 3.217800385559e-02]],\n",
      "\n",
      "        [[2.820933989700e-03, 4.127929982633e-03, 2.706329386827e-03, 4.203956358381e-02],\n",
      "         [1.318111090385e-03, 7.970572419377e-03, 5.412658773716e-04, 3.224269320318e-02]],\n",
      "\n",
      "        [[2.711089283224e-03, 3.144152029843e-03, 2.706329386826e-03, 6.296499040365e-02],\n",
      "         [5.628105253876e-04, 6.104693260486e-04, 5.412658773675e-04, 6.296490438044e-02]]],\n",
      "       dtype=torch.float64)\n"
     ]
    }
   ],
   "source": [
    "# Estimate parameters and errors for a batch of frequencies\n",
    "\n",
    "# Set parameters\n",
    "length = 1024\n",
    "\n",
    "# Set window\n",
    "w = Window.from_cosine(length, 1.0, dtype=dtype, device=device)\n",
    "\n",
    "# Set noise parameters\n",
    "s_x = torch.tensor([0.05, 0.01], dtype=dtype, device=device)\n",
    "s_f = 1.0E-5\n",
    "\n",
    "# Set data\n",
    "t = torch.linspace(0, length - 1, length, dtype=dtype, device=device)\n",
    "x1 = torch.stack([0.25*torch.cos(2.0*numpy.pi*0.12*t + 0.10), 0.75*torch.cos(2.0*numpy.pi*0.12*t + 0.60)])\n",
    "x2 = torch.stack([0.10*torch.cos(2.0*numpy.pi*0.24*t + 0.25), 0.25*torch.cos(2.0*numpy.pi*0.24*t + 0.15)])\n",
    "x3 = torch.stack([0.05*torch.cos(2.0*numpy.pi*0.36*t + 0.10), 0.01*torch.cos(2.0*numpy.pi*0.36*t + 0.50)])\n",
    "x = x1 + x2 + x3\n",
    "\n",
    "# Compute parameters and errors for each frequency (direct)\n",
    "p1a, s1a = Decomposition.harmonic_sum(0.12, w.window, x, error=True, sigma=s_x, sigma_frequency=s_f)\n",
    "p1b, s1b = Decomposition.harmonic_sum(0.24, w.window, x, error=True, sigma=s_x, sigma_frequency=s_f)\n",
    "p1c, s1c = Decomposition.harmonic_sum(0.36, w.window, x, error=True, sigma=s_x, sigma_frequency=s_f)\n",
    "p1 = torch.stack([p1a, p1b, p1c])\n",
    "s1 = torch.stack([s1a, s1b, s1c])\n",
    "\n",
    "# Compute parameters and errors for each frequency (automatic)\n",
    "p2a, s2a = Decomposition.harmonic_sum_automatic(0.12, w.window, x, error=True, sigma=s_x, sigma_frequency=s_f)\n",
    "p2b, s2b = Decomposition.harmonic_sum_automatic(0.24, w.window, x, error=True, sigma=s_x, sigma_frequency=s_f)\n",
    "p2c, s2c = Decomposition.harmonic_sum_automatic(0.36, w.window, x, error=True, sigma=s_x, sigma_frequency=s_f)\n",
    "p2 = torch.stack([p2a, p2b, p2c])\n",
    "s2 = torch.stack([s2a, s2b, s2c])\n",
    "\n",
    "# Compute parameters and errors for each frequency (batched)\n",
    "p3, s3 = Decomposition.harmonic_sum_batched(\n",
    "    torch.tensor([0.12, 0.24, 0.36], dtype=dtype, device=device),\n",
    "    w.window,\n",
    "    x,\n",
    "    error=True,\n",
    "    sigma=s_x,\n",
    "    sigma_frequency=torch.tensor([s_f, s_f, s_f], dtype=dtype, device=device))\n",
    "\n",
    "# Compare errors\n",
    "print(s1)\n",
    "print(s2)\n",
    "print(s3)"
   ]
  },
  {
   "cell_type": "code",
   "execution_count": 5,
   "id": "e50b4b05-80a3-413c-b621-34cfe0fab503",
   "metadata": {},
   "outputs": [
    {
     "name": "stdout",
     "output_type": "stream",
     "text": [
      "tensor([[2.500000000000e-01],\n",
      "        [1.000000000000e-01],\n",
      "        [5.000000000000e-02],\n",
      "        [2.621660375739e-16],\n",
      "        [4.016780392656e-16],\n",
      "        [3.150629787409e-16],\n",
      "        [1.855515151883e-16],\n",
      "        [1.136529237437e-16],\n",
      "        [7.514297459853e-16],\n",
      "        [2.805514881441e-16]], dtype=torch.float64)\n"
     ]
    }
   ],
   "source": [
    "# Estimate parameters for a list of harmonics\n",
    "\n",
    "# Set parameters\n",
    "length = 2048\n",
    "\n",
    "# Set window\n",
    "w = Window.from_cosine(length, 4.0, dtype=dtype, device=device)\n",
    "\n",
    "# Set data\n",
    "t = torch.linspace(0, length - 1, length, dtype=dtype, device=device)\n",
    "x1 = torch.stack([0.25*torch.cos(2.0*numpy.pi*0.12*t + 0.10)])\n",
    "x2 = torch.stack([0.10*torch.cos(2.0*numpy.pi*0.24*t + 0.25)])\n",
    "x3 = torch.stack([0.05*torch.cos(2.0*numpy.pi*0.36*t + 0.10)])\n",
    "x = x1 + x2 + x3\n",
    "\n",
    "# Set harmonics\n",
    "f = 0.12\n",
    "h = torch.tensor([*Frequency.harmonics(10, [f]).values()], dtype=dtype, device=device)\n",
    "\n",
    "# Estimate parameters\n",
    "param, _ = Decomposition.harmonic_sum_batched(h, w.window, x, error=False)\n",
    "\n",
    "# Result (amplitude)\n",
    "*_, a, _ = param.swapaxes(0, -1)\n",
    "print(a.T)"
   ]
  },
  {
   "cell_type": "markdown",
   "id": "b3bfa442-20a6-4253-b0bd-b9072d622833",
   "metadata": {
    "tags": []
   },
   "source": [
    "# Example-03: Estimator bias"
   ]
  },
  {
   "cell_type": "code",
   "execution_count": 6,
   "id": "35a53aed-2f5d-4428-af86-a9c0780235fb",
   "metadata": {},
   "outputs": [
    {
     "name": "stdout",
     "output_type": "stream",
     "text": [
      "w1: 2.09465512e-05 2.2936407e-06\n",
      "w2: 3.7373038e-09 4.98039843e-09\n"
     ]
    },
    {
     "data": {
      "image/png": "[encoded data removed]",
      "text/plain": [
       "<Figure size 1080x216 with 1 Axes>"
      ]
     },
     "metadata": {
      "needs_background": "light"
     },
     "output_type": "display_data"
    },
    {
     "data": {
      "image/png": "[encoded data removed]",
      "text/plain": [
       "<Figure size 1080x216 with 1 Axes>"
      ]
     },
     "metadata": {
      "needs_background": "light"
     },
     "output_type": "display_data"
    }
   ],
   "source": [
    "# Given a noise-free signal containing several components\n",
    "# Parameters for a given frequency can be estimated using (weighted) harmonic sum\n",
    "# Estimated values depend on the length used for estimation and as well as on the signal starting position\n",
    "# In this example, estimator bias is explored\n",
    "# Ensembling several estimators (fixed length and different starting position) in general will improve estimation accuracy (reduce bias)\n",
    "\n",
    "# Set parameters\n",
    "length = 8192\n",
    "\n",
    "# Set signal\n",
    "t = torch.linspace(0, length - 1, length, dtype=dtype, device=device)\n",
    "f = 0.123456789\n",
    "x = 1.0*torch.cos(0.25 + 2.0*numpy.pi*f*t) + 0.01*torch.cos(0.5 + 2.0*numpy.pi*2*f*t)\n",
    "x = torch.stack([x])\n",
    "\n",
    "# Set shift size for starting position\n",
    "shift = 1\n",
    "\n",
    "# Set window\n",
    "w1 = Window.from_cosine(128, 0.0, dtype=dtype, device=device)\n",
    "w2 = Window.from_cosine(128, 1.0, dtype=dtype, device=device)\n",
    "\n",
    "# Estimate amplitude and phase using shifted samples of length 128\n",
    "# Change window order, sample length and/or number of samples to observe convergents\n",
    "limit = 1024\n",
    "A1, B1 = [], []\n",
    "A2, B2 = [], []\n",
    "for step in range(limit):\n",
    "    \n",
    "    y = x[:, step*shift: step*shift + 128]\n",
    "    \n",
    "    param, _ = Decomposition.harmonic_sum(f, w1.window, y)\n",
    "    *_, a, b = param.T\n",
    "    A1.append(a)\n",
    "    B1.append(b)\n",
    "    \n",
    "    param, _ = Decomposition.harmonic_sum(f, w2.window, y)\n",
    "    *_, a, b = param.T\n",
    "    A2.append(a)\n",
    "    B2.append(b)\n",
    "    \n",
    "# Format result (amplitude is constant, while phase is shifted)\n",
    "A1 = torch.stack(A1).flatten()\n",
    "B1 = torch.stack(B1).flatten()\n",
    "B1 = mod(B1 - 2.0*numpy.pi*f*shift*torch.linspace(0, limit - 1, limit, dtype=dtype, device=device), 2.0*numpy.pi, -numpy.pi)\n",
    "A2 = torch.stack(A2).flatten()\n",
    "B2 = torch.stack(B2).flatten()\n",
    "B2 = mod(B2 - 2.0*numpy.pi*f*shift*torch.linspace(0, limit - 1, limit, dtype=dtype, device=device), 2.0*numpy.pi, -numpy.pi)\n",
    "\n",
    "# Compare mean values over samples\n",
    "print(f'w1: {torch.abs(A1.mean() - 1.0):12.9} {torch.abs(B1.mean() - 0.25):12.9}')\n",
    "print(f'w2: {torch.abs(A2.mean() - 1.0):12.9} {torch.abs(B2.mean() - 0.25):12.9}')\n",
    "\n",
    "# Plot estimations for each sample\n",
    "plt.figure(figsize=(15, 3))\n",
    "plt.scatter(range(limit), (A1 - 1.00).cpu().numpy(), c='red')\n",
    "plt.scatter(range(limit), (A2 - 1.00).cpu().numpy(), c='blue')\n",
    "plt.show()\n",
    "plt.figure(figsize=(15, 3))\n",
    "plt.scatter(range(limit), (B1 - 0.25).cpu().numpy(), c='red')\n",
    "plt.scatter(range(limit), (B2 - 0.25).cpu().numpy(), c='blue')\n",
    "plt.show()"
   ]
  },
  {
   "cell_type": "code",
   "execution_count": 7,
   "id": "9b112069-12a2-4391-b09b-c4c665bd9183",
   "metadata": {},
   "outputs": [
    {
     "data": {
      "image/png": "[encoded data removed]",
      "text/plain": [
       "<Figure size 1080x216 with 1 Axes>"
      ]
     },
     "metadata": {
      "needs_background": "light"
     },
     "output_type": "display_data"
    },
    {
     "data": {
      "image/png": "[encoded data removed]",
      "text/plain": [
       "<Figure size 1080x216 with 1 Axes>"
      ]
     },
     "metadata": {
      "needs_background": "light"
     },
     "output_type": "display_data"
    }
   ],
   "source": [
    "# Plot histogram\n",
    "\n",
    "plt.figure(figsize=(15, 3))\n",
    "plt.hist(A2.cpu().numpy(), color='blue')\n",
    "plt.show()\n",
    "\n",
    "plt.figure(figsize=(15, 3))\n",
    "plt.hist(B2.cpu().numpy(), color='blue')\n",
    "plt.show()\n",
    "\n",
    "# Other cases have similar histograms\n",
    "# Note, distribution is not normal (not random)\n",
    "# It is not symmetric if signal containes more than one component"
   ]
  },
  {
   "cell_type": "code",
   "execution_count": 8,
   "id": "d9ece523-8024-426d-8519-f45a64676c2d",
   "metadata": {},
   "outputs": [
    {
     "data": {
      "image/png": "[encoded data removed]",
      "text/plain": [
       "<Figure size 1080x216 with 1 Axes>"
      ]
     },
     "metadata": {
      "needs_background": "light"
     },
     "output_type": "display_data"
    },
    {
     "data": {
      "image/png": "[encoded data removed]",
      "text/plain": [
       "<Figure size 1080x216 with 1 Axes>"
      ]
     },
     "metadata": {
      "needs_background": "light"
     },
     "output_type": "display_data"
    }
   ],
   "source": [
    "# Plot autocorrelation of estimations\n",
    "\n",
    "AC = Frequency.autocorrelation(torch.stack([A2-A2.mean()])).flatten().cpu().numpy()\n",
    "plt.figure(figsize=(15, 3))\n",
    "plt.scatter(range(limit), AC, color='blue')\n",
    "plt.ylim(-1.1, +1.1)\n",
    "plt.show()\n",
    "\n",
    "AC = Frequency.autocorrelation(torch.stack([B2-B2.mean()])).flatten().cpu().numpy()\n",
    "plt.figure(figsize=(15, 3))\n",
    "plt.scatter(range(limit), AC, color='blue')\n",
    "plt.ylim(-1.1, +1.1)\n",
    "plt.show()"
   ]
  },
  {
   "cell_type": "code",
   "execution_count": 9,
   "id": "1643d12a-13e6-41e1-b6af-2da953c8ae5c",
   "metadata": {},
   "outputs": [
    {
     "name": "stdout",
     "output_type": "stream",
     "text": [
      "w1: 3.08786287e-05 7.84370621e-05\n",
      "w2: 9.45754148e-06 8.35732833e-05\n"
     ]
    },
    {
     "data": {
      "image/png": "[encoded data removed]",
      "text/plain": [
       "<Figure size 1080x216 with 1 Axes>"
      ]
     },
     "metadata": {
      "needs_background": "light"
     },
     "output_type": "display_data"
    },
    {
     "data": {
      "image/png": "[encoded data removed]",
      "text/plain": [
       "<Figure size 1080x216 with 1 Axes>"
      ]
     },
     "metadata": {
      "needs_background": "light"
     },
     "output_type": "display_data"
    }
   ],
   "source": [
    "# Estimate parameters for signal with noise\n",
    "\n",
    "# Set parameters\n",
    "length = 8192\n",
    "\n",
    "# Set signal\n",
    "t = torch.linspace(0, length - 1, length, dtype=dtype, device=device)\n",
    "f = 0.123456789\n",
    "x = 1.0*torch.cos(0.25 + 2.0*numpy.pi*f*t) + 0.01*torch.cos(0.5 + 2.0*numpy.pi*2*f*t)\n",
    "x.add_(0.001*torch.randn(length, dtype=dtype, device=device))\n",
    "x = torch.stack([x])\n",
    "\n",
    "# Set shift size for starting position\n",
    "shift = 1\n",
    "\n",
    "# Set window\n",
    "# Note, without noise window increases convergence\n",
    "# With noise window amplifies noise and should be use with care if noise is large\n",
    "# A possible option is to filter data or to use fractional window order\n",
    "w1 = Window.from_cosine(128, 0.0, dtype=dtype, device=device)\n",
    "w2 = Window.from_cosine(128, 0.5, dtype=dtype, device=device)\n",
    "\n",
    "# Estimate amplitude and phase using shifted samples of length 128\n",
    "# Note, noise is correlated\n",
    "A1, B1 = [], []\n",
    "A2, B2 = [], []\n",
    "for step in range(limit):\n",
    "    y = x[:, step*shift: step*shift + 128]\n",
    "    param, _ = Decomposition.harmonic_sum(f, w1.window, y)\n",
    "    *_, a, b = param.T\n",
    "    A1.append(a)\n",
    "    B1.append(b)\n",
    "    param, _ = Decomposition.harmonic_sum(f, w2.window, y)\n",
    "    *_, a, b = param.T\n",
    "    A2.append(a)\n",
    "    B2.append(b)\n",
    "\n",
    "# Format result (amplitude is constant, while phase is shifted)\n",
    "A1 = torch.stack(A1).flatten()\n",
    "B1 = torch.stack(B1).flatten()\n",
    "B1 = mod(B1 - 2.0*numpy.pi*f*shift*torch.linspace(0, limit - 1, limit, dtype=dtype, device=device), 2.0*numpy.pi, -numpy.pi)\n",
    "A2 = torch.stack(A2).flatten()\n",
    "B2 = torch.stack(B2).flatten()\n",
    "B2 = mod(B2 - 2.0*numpy.pi*f*shift*torch.linspace(0, limit - 1, limit, dtype=dtype, device=device), 2.0*numpy.pi, -numpy.pi)\n",
    "\n",
    "# Compare mean values over samples\n",
    "print(f'w1: {torch.abs(A1.mean() - 1.0):12.9} {torch.abs(B1.mean() - 0.25):12.9}')\n",
    "print(f'w2: {torch.abs(A2.mean() - 1.0):12.9} {torch.abs(B2.mean() - 0.25):12.9}')\n",
    "\n",
    "# Plot estimations for each sample\n",
    "plt.figure(figsize=(15, 3))\n",
    "plt.scatter(range(limit), (A1 - 1.00).cpu().numpy(), c='red')\n",
    "plt.scatter(range(limit), (A2 - 1.00).cpu().numpy(), c='blue')\n",
    "plt.show()\n",
    "plt.figure(figsize=(15, 3))\n",
    "plt.scatter(range(limit), (B1 - 0.25).cpu().numpy(), c='red')\n",
    "plt.scatter(range(limit), (B2 - 0.25).cpu().numpy(), c='blue')\n",
    "plt.show()"
   ]
  },
  {
   "cell_type": "code",
   "execution_count": 10,
   "id": "a5192350-edc4-44d5-a155-99ffcd2b4279",
   "metadata": {},
   "outputs": [
    {
     "data": {
      "image/png": "[encoded data removed]",
      "text/plain": [
       "<Figure size 1080x216 with 1 Axes>"
      ]
     },
     "metadata": {
      "needs_background": "light"
     },
     "output_type": "display_data"
    },
    {
     "data": {
      "image/png": "[encoded data removed]",
      "text/plain": [
       "<Figure size 1080x216 with 1 Axes>"
      ]
     },
     "metadata": {
      "needs_background": "light"
     },
     "output_type": "display_data"
    }
   ],
   "source": [
    "# Plot histogram\n",
    "\n",
    "plt.figure(figsize=(15, 3))\n",
    "plt.hist(A2.cpu().numpy(), color='blue')\n",
    "plt.show()\n",
    "\n",
    "plt.figure(figsize=(15, 3))\n",
    "plt.hist(B2.cpu().numpy(), color='blue')\n",
    "plt.show()\n",
    "\n",
    "# Other cases have similar histograms\n",
    "# Note, distribution looks somewhat not normal"
   ]
  },
  {
   "cell_type": "code",
   "execution_count": 11,
   "id": "7d25d838-6fab-42b1-a6c3-008b42965e3c",
   "metadata": {},
   "outputs": [
    {
     "data": {
      "image/png": "[encoded data removed]",
      "text/plain": [
       "<Figure size 1080x216 with 1 Axes>"
      ]
     },
     "metadata": {
      "needs_background": "light"
     },
     "output_type": "display_data"
    },
    {
     "data": {
      "image/png": "[encoded data removed]",
      "text/plain": [
       "<Figure size 1080x216 with 1 Axes>"
      ]
     },
     "metadata": {
      "needs_background": "light"
     },
     "output_type": "display_data"
    }
   ],
   "source": [
    "# Plot autocorrelation of estimations\n",
    "\n",
    "AC = Frequency.autocorrelation(torch.stack([A2-A2.mean()])).flatten().cpu().numpy()\n",
    "plt.figure(figsize=(15, 3))\n",
    "plt.scatter(range(limit), AC, color='blue')\n",
    "plt.ylim(-1.1, +1.1)\n",
    "plt.show()\n",
    "\n",
    "AC = Frequency.autocorrelation(torch.stack([B2-B2.mean()])).flatten().cpu().numpy()\n",
    "plt.figure(figsize=(15, 3))\n",
    "plt.scatter(range(limit), AC, color='blue')\n",
    "plt.ylim(-1.1, +1.1)\n",
    "plt.show()"
   ]
  },
  {
   "cell_type": "markdown",
   "id": "8abaa226-d677-4a3f-b038-ef2f5662f697",
   "metadata": {
    "tags": []
   },
   "source": [
    "# Example-04: Amplitude estimation"
   ]
  },
  {
   "cell_type": "code",
   "execution_count": 12,
   "id": "5c842133-8b44-4e70-a6a0-c34589b3dc46",
   "metadata": {},
   "outputs": [],
   "source": [
    "# In this example amplitude estimation loop is described\n",
    "# Amplitude and its error is estimated for given frequency using different methods"
   ]
  },
  {
   "cell_type": "code",
   "execution_count": 13,
   "id": "4a2173e8-5cdf-443c-b227-592b37dbc3cd",
   "metadata": {},
   "outputs": [
    {
     "name": "stdout",
     "output_type": "stream",
     "text": [
      "frequency= 0.536883099, spread=1.50582535e-16, error=2.54162143e-13\n"
     ]
    },
    {
     "data": {
      "image/png": "[encoded data removed]",
      "text/plain": [
       "<Figure size 1080x216 with 1 Axes>"
      ]
     },
     "metadata": {
      "needs_background": "light"
     },
     "output_type": "display_data"
    }
   ],
   "source": [
    "# Estimate reference parameters\n",
    "\n",
    "# Set window\n",
    "length = 4096\n",
    "w = Window(length, 'cosine_window', 5.0, dtype=dtype, device=device)\n",
    "\n",
    "# Load data\n",
    "d = Data.from_file(54, w, '../virtual_tbt.npy')\n",
    "\n",
    "# Estimate frequency\n",
    "f = Frequency(d)\n",
    "d.window_remove_mean()\n",
    "d.window_apply()\n",
    "f('parabola')\n",
    "d.reset()\n",
    "frequency, spread = f.frequency.mean(), f.frequency.std()\n",
    "frequency = 1.0 - frequency\n",
    "\n",
    "# Estimate amplitude for given frequency\n",
    "h = Decomposition(d)\n",
    "result, _ = h.harmonic_sum(frequency, w.window, d.data)\n",
    "_, _, amplitude, phase = result.T\n",
    "\n",
    "# Check maximum reconstruction error\n",
    "result = []\n",
    "for a, b in zip(amplitude, phase):\n",
    "    result.append(Data.make_harmonic(length, frequency, a, b, dtype=dtype, device=device))\n",
    "result = torch.stack(result)\n",
    "print(f'frequency={frequency.item():12.9}, spread={spread.item():12.9}, error={(d.data - result).abs().max().item():12.9}')\n",
    "\n",
    "# Plot amplitude\n",
    "plt.figure(figsize=(15, 3))\n",
    "plt.scatter(range(54), amplitude.cpu(), color='black')\n",
    "plt.show()"
   ]
  },
  {
   "cell_type": "code",
   "execution_count": 14,
   "id": "c560b3e7-e395-4130-b525-eeefdcf073a0",
   "metadata": {},
   "outputs": [
    {
     "name": "stdout",
     "output_type": "stream",
     "text": [
      "frequency= 0.536883136, spread=9.16798853e-07\n"
     ]
    }
   ],
   "source": [
    "# Real TbT data length is limited by decoherence\n",
    "# In this example 1024 turns are used for frequency estimation and only 256 for amplitude\n",
    "\n",
    "# Set window\n",
    "length = 1024\n",
    "w = Window(length, 'cosine_window', 1.0, dtype=dtype, device=device)\n",
    "\n",
    "# Load data\n",
    "d = Data.from_file(54, w, '../virtual_tbt.npy')\n",
    "\n",
    "# Add random noise\n",
    "n = 1.0E-6*(25.0 + 75.0*torch.rand(54, dtype=dtype, device=device))\n",
    "d.add_noise(n)\n",
    "d.data.copy_(d.work)\n",
    "\n",
    "# Estimate frequency (average over signals)\n",
    "f = Frequency(d)\n",
    "d.window_remove_mean()\n",
    "d.window_apply()\n",
    "f('parabola')\n",
    "d.reset()\n",
    "frequency, spread = f.frequency.mean(), f.frequency.std()\n",
    "frequency = 1.0 - frequency\n",
    "print(f'frequency={frequency.item():12.9}, spread={spread.item():12.9}')"
   ]
  },
  {
   "cell_type": "code",
   "execution_count": 15,
   "id": "e17d0c6e-f379-47d7-854a-79fa0e139eaa",
   "metadata": {},
   "outputs": [
    {
     "data": {
      "image/png": "[encoded data removed]",
      "text/plain": [
       "<Figure size 1080x216 with 1 Axes>"
      ]
     },
     "metadata": {
      "needs_background": "light"
     },
     "output_type": "display_data"
    },
    {
     "name": "stdout",
     "output_type": "stream",
     "text": [
      "tensor(5.166878148096e-04, dtype=torch.float64)\n",
      "tensor(3.630564280014e-04, dtype=torch.float64)\n"
     ]
    }
   ],
   "source": [
    "# Amplitude (and its error) can be estimated using harmonic_amplitude method\n",
    "dec = Decomposition(d)\n",
    "\n",
    "# Estimate amplitude and its spread using error propogation without window (noise is estimated using optimal SVD truncation)\n",
    "out1, err1, _ = dec.harmonic_amplitude(frequency, length=256, order=0.0, error=True, sigma_frequency=spread)\n",
    "\n",
    "# Estimate amplitude and its spread using error propogation with window\n",
    "# Note, fractional window order can be used too, e.g. 0.5\n",
    "out2, err2, _ = dec.harmonic_amplitude(frequency, length=256, order=1.0, error=True, sigma_frequency=spread)\n",
    "\n",
    "# Compare results\n",
    "\n",
    "plt.figure(figsize=(15, 3))\n",
    "plt.errorbar(range(54), (out1-amplitude).cpu().numpy(), yerr=err1.cpu().numpy(), fmt=' ', marker='o', color='red')\n",
    "plt.errorbar(range(54), (out2-amplitude).cpu().numpy(), yerr=err2.cpu().numpy(), fmt=' ', marker='o', color='blue')\n",
    "plt.hlines(0, 0, 53, colors='black')\n",
    "plt.ylim(-5.0E-5, +5.0E-5)\n",
    "plt.show()\n",
    "\n",
    "print((out1 - amplitude).abs().sum())\n",
    "print((out2 - amplitude).abs().sum())"
   ]
  },
  {
   "cell_type": "code",
   "execution_count": 16,
   "id": "02837996-3b3c-4a31-b23e-c15b1f820974",
   "metadata": {},
   "outputs": [
    {
     "data": {
      "image/png": "[encoded data removed]",
      "text/plain": [
       "<Figure size 1080x216 with 1 Axes>"
      ]
     },
     "metadata": {
      "needs_background": "light"
     },
     "output_type": "display_data"
    },
    {
     "data": {
      "image/png": "[encoded data removed]",
      "text/plain": [
       "<Figure size 1080x216 with 1 Axes>"
      ]
     },
     "metadata": {
      "needs_background": "light"
     },
     "output_type": "display_data"
    },
    {
     "data": {
      "image/png": "[encoded data removed]",
      "text/plain": [
       "<Figure size 1080x216 with 1 Axes>"
      ]
     },
     "metadata": {
      "needs_background": "light"
     },
     "output_type": "display_data"
    },
    {
     "name": "stdout",
     "output_type": "stream",
     "text": [
      "tensor(3.630564280014e-04, dtype=torch.float64)\n",
      "tensor(1.655480177811e-04, dtype=torch.float64)\n",
      "tensor(1.671976107099e-04, dtype=torch.float64)\n"
     ]
    }
   ],
   "source": [
    "# Sampling can be used to improve estimation accuracy (sampling reduce effect of bias)\n",
    "\n",
    "dec = Decomposition(d)\n",
    "\n",
    "# Estimate amplitude and its spread using error propogation\n",
    "out1, err1, _ = dec.harmonic_amplitude(frequency, length=256, order=1.0, error=True, sigma_frequency=spread)\n",
    "\n",
    "# Estimate amplitude and its spread from shifted samples\n",
    "out2, err2, _ = dec.harmonic_amplitude(frequency, length=128, order=1.0, error=True, sigma_frequency=spread, shift=True, count=64, step=8, method='none')\n",
    "out3, err3, _ = dec.harmonic_amplitude(frequency, length=128, order=1.0, error=True, sigma_frequency=spread, shift=True, count=64, step=8, method='noise')\n",
    "\n",
    "# Compare results\n",
    "\n",
    "plt.figure(figsize=(15, 3))\n",
    "plt.errorbar(range(54), (out1-amplitude).cpu().numpy(), yerr=err1.cpu().numpy(), fmt=' ', marker='o', color='blue')\n",
    "plt.hlines(0, 0, 53, colors='black')\n",
    "plt.ylim(-5.0E-5, +5.0E-5)\n",
    "plt.show()\n",
    "\n",
    "plt.figure(figsize=(15, 3))\n",
    "plt.errorbar(range(54), (out2-amplitude).cpu().numpy(), yerr=err2.cpu().numpy(), fmt=' ', marker='o', color='blue')\n",
    "plt.hlines(0, 0, 53, colors='black')\n",
    "plt.ylim(-5.0E-5, +5.0E-5)\n",
    "plt.show()\n",
    "\n",
    "plt.figure(figsize=(15, 3))\n",
    "plt.errorbar(range(54), (out3-amplitude).cpu().numpy(), yerr=err3.cpu().numpy(), fmt=' ', marker='o', color='blue')\n",
    "plt.hlines(0, 0, 53, colors='black')\n",
    "plt.ylim(-5.0E-5, +5.0E-5)\n",
    "plt.show()\n",
    "\n",
    "print((out1 - amplitude).abs().sum())\n",
    "print((out2 - amplitude).abs().sum())\n",
    "print((out3 - amplitude).abs().sum())"
   ]
  },
  {
   "cell_type": "code",
   "execution_count": 17,
   "id": "af737a47-5308-4890-bdac-601e002a3d1a",
   "metadata": {},
   "outputs": [
    {
     "data": {
      "image/png": "[encoded data removed]",
      "text/plain": [
       "<Figure size 1080x216 with 1 Axes>"
      ]
     },
     "metadata": {
      "needs_background": "light"
     },
     "output_type": "display_data"
    },
    {
     "data": {
      "image/png": "[encoded data removed]",
      "text/plain": [
       "<Figure size 1080x216 with 1 Axes>"
      ]
     },
     "metadata": {
      "needs_background": "light"
     },
     "output_type": "display_data"
    },
    {
     "data": {
      "image/png": "[encoded data removed]",
      "text/plain": [
       "<Figure size 1080x216 with 1 Axes>"
      ]
     },
     "metadata": {
      "needs_background": "light"
     },
     "output_type": "display_data"
    },
    {
     "name": "stdout",
     "output_type": "stream",
     "text": [
      "tensor(1.135709897794e-04, dtype=torch.float64)\n",
      "tensor(1.036532211125e-04, dtype=torch.float64)\n",
      "tensor(1.036019604390e-04, dtype=torch.float64)\n"
     ]
    }
   ],
   "source": [
    "# Filter data (full avaliable length is used)\n",
    "flt = Filter(d)\n",
    "flt.filter_svd(rank=2)\n",
    "flt.filter_hankel(rank=2, random=True, buffer=16, count=16)\n",
    "\n",
    "# Estimate amplitude\n",
    "dec = Decomposition(d)\n",
    "out1, err1, _ = dec.harmonic_amplitude(frequency, length=256, order=1.0, error=True, sigma_frequency=spread)\n",
    "out2, err2, _ = dec.harmonic_amplitude(frequency, length=128, order=1.0, error=True, sigma_frequency=spread, shift=True, count=64, step=8, method='none')\n",
    "out3, err3, _ = dec.harmonic_amplitude(frequency, length=128, order=1.0, error=True, sigma_frequency=spread, shift=True, count=64, step=8, method='noise')\n",
    "\n",
    "# Compare results\n",
    "\n",
    "plt.figure(figsize=(15, 3))\n",
    "plt.errorbar(range(54), (out1-amplitude).cpu().numpy(), yerr=err1.cpu().numpy(), fmt=' ', marker='o', color='blue')\n",
    "plt.hlines(0, 0, 53, colors='black')\n",
    "plt.ylim(-5.0E-5, +5.0E-5)\n",
    "plt.show()\n",
    "\n",
    "plt.figure(figsize=(15, 3))\n",
    "plt.errorbar(range(54), (out2-amplitude).cpu().numpy(), yerr=err2.cpu().numpy(), fmt=' ', marker='o', color='blue')\n",
    "plt.hlines(0, 0, 53, colors='black')\n",
    "plt.ylim(-5.0E-5, +5.0E-5)\n",
    "plt.show()\n",
    "\n",
    "plt.figure(figsize=(15, 3))\n",
    "plt.errorbar(range(54), (out3-amplitude).cpu().numpy(), yerr=err3.cpu().numpy(), fmt=' ', marker='o', color='blue')\n",
    "plt.hlines(0, 0, 53, colors='black')\n",
    "plt.ylim(-5.0E-5, +5.0E-5)\n",
    "plt.show()\n",
    "\n",
    "print((out1 - amplitude).abs().sum())\n",
    "print((out2 - amplitude).abs().sum())\n",
    "print((out3 - amplitude).abs().sum())\n",
    "\n",
    "d.reset()\n",
    "\n",
    "# Note, with filtering, error estimations from sampled signals might be underestimated depending on window order"
   ]
  },
  {
   "cell_type": "markdown",
   "id": "970613e8-a51e-4228-9647-f60e5143d338",
   "metadata": {
    "tags": []
   },
   "source": [
    "# Example-05: Phase estimation"
   ]
  },
  {
   "cell_type": "code",
   "execution_count": 18,
   "id": "1b69caec-6cf8-49d5-b73b-939be2f77a6a",
   "metadata": {},
   "outputs": [
    {
     "data": {
      "image/png": "[encoded data removed]",
      "text/plain": [
       "<Figure size 1080x216 with 1 Axes>"
      ]
     },
     "metadata": {
      "needs_background": "light"
     },
     "output_type": "display_data"
    }
   ],
   "source": [
    "# Load model phase advance data\n",
    "with open('../config.yaml', 'r') as stream:\n",
    "    config = yaml.safe_load(stream)\n",
    "    config = {key: config[key] for key in sorted(config.keys(), key=lambda name: config[name]['TIME'])}\n",
    "\n",
    "total = config['TAIL']['FX']\n",
    "model = torch.tensor([value['FX'] for key, value in config.items() if value['TYPE'] == 'MONITOR'], dtype=dtype, device=device)\n",
    "\n",
    "# Plot adjacent phase advance\n",
    "model, _ = Decomposition.phase_adjacent(total, model)\n",
    "plt.figure(figsize=(15, 3))\n",
    "plt.scatter(range(54), model.cpu().numpy(), color='black')\n",
    "plt.show()"
   ]
  },
  {
   "cell_type": "code",
   "execution_count": 19,
   "id": "e0354489-ef42-436f-af64-7037ac40f997",
   "metadata": {},
   "outputs": [
    {
     "name": "stdout",
     "output_type": "stream",
     "text": [
      "frequency= 0.536883099, spread=1.50582535e-16, error=2.54162143e-13\n"
     ]
    }
   ],
   "source": [
    "# Estimate reference parameters\n",
    "\n",
    "# Set window\n",
    "length = 4096\n",
    "w = Window(length, 'cosine_window', 5.0, dtype=dtype, device=device)\n",
    "\n",
    "# Load data\n",
    "d = Data.from_file(54, w, '../virtual_tbt.npy')\n",
    "\n",
    "# Estimate frequency\n",
    "f = Frequency(d)\n",
    "d.window_remove_mean()\n",
    "d.window_apply()\n",
    "f('parabola')\n",
    "d.reset()\n",
    "frequency, spread = f.frequency.mean(), f.frequency.std()\n",
    "frequency = 1.0 - frequency\n",
    "\n",
    "# Estimate amplitude for given frequency\n",
    "h = Decomposition(d)\n",
    "result, _ = h.harmonic_sum(frequency, w.window, d.data)\n",
    "_, _, amplitude, phase = result.T\n",
    "\n",
    "# Check maximum reconstruction error\n",
    "result = []\n",
    "for a, b in zip(amplitude, phase):\n",
    "    result.append(Data.make_harmonic(length, frequency, a, b, dtype=dtype, device=device))\n",
    "result = torch.stack(result)\n",
    "print(f'frequency={frequency.item():12.9}, spread={spread.item():12.9}, error={(d.data - result).abs().max().item():12.9}')"
   ]
  },
  {
   "cell_type": "code",
   "execution_count": 20,
   "id": "fa851df7-698f-49f9-9f86-1148982a003e",
   "metadata": {},
   "outputs": [
    {
     "name": "stdout",
     "output_type": "stream",
     "text": [
      "frequency= 0.536883187, spread=1.05729752e-06\n"
     ]
    }
   ],
   "source": [
    "# Real TbT data length is limited by decoherence\n",
    "# In this example 1024 turns are used for frequency estimation and only 512 for phase\n",
    "\n",
    "# Set window\n",
    "length = 1024\n",
    "w = Window(length, 'cosine_window', 1.0, dtype=dtype, device=device)\n",
    "\n",
    "# Load data\n",
    "d = Data.from_file(54, w, '../virtual_tbt.npy')\n",
    "\n",
    "# Add random noise\n",
    "n = 1.0E-6*(25.0 + 75.0*torch.rand(54, dtype=dtype, device=device))\n",
    "d.add_noise(n)\n",
    "d.data.copy_(d.work)\n",
    "\n",
    "# Estimate frequency (average over signals)\n",
    "f = Frequency(d)\n",
    "d.window_remove_mean()\n",
    "d.window_apply()\n",
    "f('parabola')\n",
    "d.reset()\n",
    "frequency, spread = f.frequency.mean(), f.frequency.std()\n",
    "frequency = 1.0 - frequency\n",
    "print(f'frequency={frequency.item():12.9}, spread={spread.item():12.9}')"
   ]
  },
  {
   "cell_type": "code",
   "execution_count": 21,
   "id": "d5010a3d-cc54-4922-8805-9ea390dc77d1",
   "metadata": {},
   "outputs": [
    {
     "data": {
      "image/png": "[encoded data removed]",
      "text/plain": [
       "<Figure size 1080x216 with 1 Axes>"
      ]
     },
     "metadata": {
      "needs_background": "light"
     },
     "output_type": "display_data"
    },
    {
     "data": {
      "image/png": "[encoded data removed]",
      "text/plain": [
       "<Figure size 1080x216 with 1 Axes>"
      ]
     },
     "metadata": {
      "needs_background": "light"
     },
     "output_type": "display_data"
    },
    {
     "data": {
      "image/png": "[encoded data removed]",
      "text/plain": [
       "<Figure size 1080x216 with 1 Axes>"
      ]
     },
     "metadata": {
      "needs_background": "light"
     },
     "output_type": "display_data"
    },
    {
     "name": "stdout",
     "output_type": "stream",
     "text": [
      "tensor(2.117125084004e-01, dtype=torch.float64)\n",
      "tensor(7.115153905337e-02, dtype=torch.float64)\n",
      "tensor(7.032745403177e-02, dtype=torch.float64)\n"
     ]
    }
   ],
   "source": [
    "# Estimate phase\n",
    "dec = Decomposition(d)\n",
    "out1, err1, _ = dec.harmonic_phase(frequency, length=512, order=0.0, error=True, sigma_frequency=spread)\n",
    "out2, err2, _ = dec.harmonic_phase(frequency, length=256, order=0.0, error=True, sigma_frequency=spread, shift=True, count=64, step=8, clean=False, method='none')\n",
    "out3, err3, _ = dec.harmonic_phase(frequency, length=256, order=0.0, error=True, sigma_frequency=spread, shift=True, count=64, step=8, clean=False, method='noise')\n",
    "\n",
    "# Compare results\n",
    "plt.figure(figsize=(15, 3))\n",
    "plt.errorbar(range(54), (out1 - phase).cpu().numpy(), yerr=err1.cpu().numpy(), fmt=' ', marker='o', color='blue')\n",
    "plt.hlines(0, 0, 53, colors='black')\n",
    "plt.ylim(-5.0E-2, +5.0E-2)\n",
    "plt.show()\n",
    "\n",
    "plt.figure(figsize=(15, 3))\n",
    "plt.errorbar(range(54), (out2 - phase).cpu().numpy(), yerr=err2.cpu().numpy(), fmt=' ', marker='o', color='blue')\n",
    "plt.hlines(0, 0, 53, colors='black')\n",
    "plt.ylim(-5.0E-2, +5.0E-2)\n",
    "plt.show()\n",
    "\n",
    "plt.figure(figsize=(15, 3))\n",
    "plt.errorbar(range(54), (out3 - phase).cpu().numpy(), yerr=err3.cpu().numpy(), fmt=' ', marker='o', color='blue')\n",
    "plt.hlines(0, 0, 53, colors='black')\n",
    "plt.ylim(-5.0E-2, +5.0E-2)\n",
    "plt.show()\n",
    "\n",
    "print((out1 - phase).abs().sum())\n",
    "print((out2 - phase).abs().sum())\n",
    "print((out3 - phase).abs().sum())"
   ]
  },
  {
   "cell_type": "code",
   "execution_count": 22,
   "id": "c6d9c99f-4eeb-4013-9b21-c469ec6a9e26",
   "metadata": {},
   "outputs": [
    {
     "data": {
      "image/png": "[encoded data removed]",
      "text/plain": [
       "<Figure size 1080x216 with 1 Axes>"
      ]
     },
     "metadata": {
      "needs_background": "light"
     },
     "output_type": "display_data"
    },
    {
     "data": {
      "image/png": "[encoded data removed]",
      "text/plain": [
       "<Figure size 1080x216 with 1 Axes>"
      ]
     },
     "metadata": {
      "needs_background": "light"
     },
     "output_type": "display_data"
    },
    {
     "data": {
      "image/png": "[encoded data removed]",
      "text/plain": [
       "<Figure size 1080x216 with 1 Axes>"
      ]
     },
     "metadata": {
      "needs_background": "light"
     },
     "output_type": "display_data"
    },
    {
     "name": "stdout",
     "output_type": "stream",
     "text": [
      "tensor(2.049064440029e-01, dtype=torch.float64)\n",
      "tensor(6.531210416352e-02, dtype=torch.float64)\n",
      "tensor(6.534168036035e-02, dtype=torch.float64)\n"
     ]
    }
   ],
   "source": [
    "# Estimate phase (filter)\n",
    "flt = Filter(d)\n",
    "flt.filter_svd(rank=2)\n",
    "flt.filter_hankel(rank=2, random=True, buffer=16, count=16)\n",
    "out1, err1, _ = dec.harmonic_phase(frequency, length=512, order=0.0, error=True, sigma_frequency=spread)\n",
    "out2, err2, _ = dec.harmonic_phase(frequency, length=256, order=0.0, error=True, sigma_frequency=spread, shift=True, count=64, step=8, clean=False, method='none')\n",
    "out3, err3, _ = dec.harmonic_phase(frequency, length=256, order=0.0, error=True, sigma_frequency=spread, shift=True, count=64, step=8, clean=False, method='noise')\n",
    "\n",
    "# Compare results\n",
    "plt.figure(figsize=(15, 3))\n",
    "plt.errorbar(range(54), (out1 - phase).cpu().numpy(), yerr=err1.cpu().numpy(), fmt=' ', marker='o', color='blue')\n",
    "plt.hlines(0, 0, 53, colors='black')\n",
    "plt.ylim(-5.0E-2, +5.0E-2)\n",
    "plt.show()\n",
    "\n",
    "plt.figure(figsize=(15, 3))\n",
    "plt.errorbar(range(54), (out2 - phase).cpu().numpy(), yerr=err2.cpu().numpy(), fmt=' ', marker='o', color='blue')\n",
    "plt.hlines(0, 0, 53, colors='black')\n",
    "plt.ylim(-5.0E-2, +5.0E-2)\n",
    "plt.show()\n",
    "\n",
    "plt.figure(figsize=(15, 3))\n",
    "plt.errorbar(range(54), (out3 - phase).cpu().numpy(), yerr=err3.cpu().numpy(), fmt=' ', marker='o', color='blue')\n",
    "plt.hlines(0, 0, 53, colors='black')\n",
    "plt.ylim(-5.0E-2, +5.0E-2)\n",
    "plt.show()\n",
    "\n",
    "print((out1 - phase).abs().sum())\n",
    "print((out2 - phase).abs().sum())\n",
    "print((out3 - phase).abs().sum())\n",
    "\n",
    "d.reset()"
   ]
  },
  {
   "cell_type": "code",
   "execution_count": 23,
   "id": "2639cde9-df94-41a0-b41d-d101fc717dea",
   "metadata": {},
   "outputs": [
    {
     "data": {
      "image/png": "[encoded data removed]",
      "text/plain": [
       "<Figure size 1080x216 with 1 Axes>"
      ]
     },
     "metadata": {
      "needs_background": "light"
     },
     "output_type": "display_data"
    },
    {
     "data": {
      "image/png": "[encoded data removed]",
      "text/plain": [
       "<Figure size 1080x216 with 1 Axes>"
      ]
     },
     "metadata": {
      "needs_background": "light"
     },
     "output_type": "display_data"
    },
    {
     "data": {
      "image/png": "[encoded data removed]",
      "text/plain": [
       "<Figure size 1080x216 with 1 Axes>"
      ]
     },
     "metadata": {
      "needs_background": "light"
     },
     "output_type": "display_data"
    },
    {
     "name": "stdout",
     "output_type": "stream",
     "text": [
      "tensor(9.366700097825e-01, dtype=torch.float64)\n",
      "tensor(7.304210141364e-01, dtype=torch.float64)\n",
      "tensor(7.305217797500e-01, dtype=torch.float64)\n"
     ]
    }
   ],
   "source": [
    "# Compute and compare phase advance for the last case\n",
    "add1, std1 = Decomposition.phase_adjacent(frequency, out1, error=True, sigma_frequency=spread, sigma_phase=err1)\n",
    "add2, std2 = Decomposition.phase_adjacent(frequency, out2, error=True, sigma_frequency=spread, sigma_phase=err2)\n",
    "add3, std3 = Decomposition.phase_adjacent(frequency, out3, error=True, sigma_frequency=spread, sigma_phase=err3)\n",
    "\n",
    "plt.figure(figsize=(15, 3))\n",
    "plt.errorbar(range(54), (add1 - model).cpu().numpy(), yerr=std1.cpu().numpy(), fmt=' ', marker='o', color='blue')\n",
    "plt.hlines(0, 0, 53, colors='black')\n",
    "plt.ylim(-5.0E-2, +5.0E-2)\n",
    "plt.show()\n",
    "\n",
    "plt.figure(figsize=(15, 3))\n",
    "plt.errorbar(range(54), (add2 - model).cpu().numpy(), yerr=std2.cpu().numpy(), fmt=' ', marker='o', color='blue')\n",
    "plt.hlines(0, 0, 53, colors='black')\n",
    "plt.ylim(-5.0E-2, +5.0E-2)\n",
    "plt.show()\n",
    "\n",
    "plt.figure(figsize=(15, 3))\n",
    "plt.errorbar(range(54), (add3 - model).cpu().numpy(), yerr=std3.cpu().numpy(), fmt=' ', marker='o', color='blue')\n",
    "plt.hlines(0, 0, 53, colors='black')\n",
    "plt.ylim(-5.0E-2, +5.0E-2)\n",
    "plt.show()\n",
    "\n",
    "print((add1 - model).abs().sum())\n",
    "print((add2 - model).abs().sum())\n",
    "print((add3 - model).abs().sum())"
   ]
  },
  {
   "cell_type": "markdown",
   "id": "fb073934-bd0b-4a03-99d5-e5d5f000a8ba",
   "metadata": {
    "tags": []
   },
   "source": [
    "# Example-06: Synchronization check & phase correction"
   ]
  },
  {
   "cell_type": "code",
   "execution_count": 24,
   "id": "e31fa6e5-a174-42c0-9796-2086291ff2c0",
   "metadata": {},
   "outputs": [],
   "source": [
    "# In this example synchonization error (wrong starting turn) and corresponding phase correction is presented\n",
    "# Separate function is available in Twiss class"
   ]
  },
  {
   "cell_type": "code",
   "execution_count": 25,
   "id": "e082a76f-5e4b-4257-9db2-b8c038ac4955",
   "metadata": {},
   "outputs": [],
   "source": [
    "# Load phase advance data\n",
    "with open('../config.yaml', 'r') as stream:\n",
    "    config = yaml.safe_load(stream)\n",
    "    config = {key: config[key] for key in sorted(config.keys(), key=lambda name: config[name]['TIME'])}\n",
    "advance = numpy.array([value['FX'] for key, value in config.items() if value['TYPE'] == 'MONITOR' or key == 'TAIL'])\n",
    "advance = numpy.diff(advance)\n",
    "advance = torch.tensor(advance, dtype=dtype, device=device)"
   ]
  },
  {
   "cell_type": "code",
   "execution_count": 26,
   "id": "7aadb82e-c6eb-44e2-95aa-26b341a1a26c",
   "metadata": {},
   "outputs": [
    {
     "name": "stdout",
     "output_type": "stream",
     "text": [
      "frequency= 0.536883312, spread=1.31362276e-06\n"
     ]
    }
   ],
   "source": [
    "# Set window\n",
    "length = 1024\n",
    "w = Window(length, 'cosine_window', 1.0, dtype=dtype, device=device)\n",
    "\n",
    "# Load data\n",
    "table = numpy.load('../virtual_tbt.npy')\n",
    "\n",
    "# Set correct starting position for all signals\n",
    "start = 128\n",
    "\n",
    "# Set synchronization errors\n",
    "# If shifted in + by one, need to - for correction\n",
    "# If shifted in - by one, need to + for correction\n",
    "error = {10: 127, 31: 129, 32:129, 41:127, 43:129}\n",
    "\n",
    "# Set data\n",
    "d = torch.zeros((54, length), dtype=dtype, device=device)\n",
    "for i in range(54):\n",
    "    first = start if i not in error else error[i]\n",
    "    d[i] = torch.tensor(table[i, first: first + length])\n",
    "d = Data.from_data(w, d)\n",
    "\n",
    "# Add random noise\n",
    "n = 1.0E-6*(25.0 + 75.0*torch.rand(54, dtype=dtype, device=device))\n",
    "d.add_noise(n)\n",
    "d.data.copy_(d.work)\n",
    "\n",
    "# Estimate frequency (average over signals)\n",
    "f = Frequency(d)\n",
    "d.window_remove_mean()\n",
    "d.window_apply()\n",
    "f('parabola')\n",
    "d.reset()\n",
    "frequency, spread = f.frequency.mean(), f.frequency.std()\n",
    "frequency = 1.0 - frequency\n",
    "print(f'frequency={frequency.item():12.9}, spread={spread.item():12.9}')"
   ]
  },
  {
   "cell_type": "code",
   "execution_count": 27,
   "id": "361a1d66-c449-45ad-b8ad-4bda98469c84",
   "metadata": {},
   "outputs": [
    {
     "name": "stdout",
     "output_type": "stream",
     "text": [
      "8.536883311935465\n",
      "12.536883311935465\n"
     ]
    },
    {
     "data": {
      "image/png": "[encoded data removed]",
      "text/plain": [
       "<Figure size 1080x216 with 1 Axes>"
      ]
     },
     "metadata": {
      "needs_background": "light"
     },
     "output_type": "display_data"
    }
   ],
   "source": [
    "# Estimate phase and compute phase advance\n",
    "dec = Decomposition(d)\n",
    "out, _, _ = dec.harmonic_phase(frequency, length=512, order=0.0)\n",
    "add, _ = Decomposition.phase_adjacent(frequency, out)\n",
    "\n",
    "# Total advance might be used as indicator in some cases (not robust)\n",
    "print((8.0 + frequency).item())\n",
    "print((add.sum()/(2.0*numpy.pi)).item())\n",
    "\n",
    "# Plot phase advance\n",
    "plt.figure(figsize=(15, 3))\n",
    "plt.scatter(range(54), advance.cpu().numpy(), color='red')\n",
    "plt.scatter(range(54), add.cpu().numpy(), color='blue')\n",
    "plt.show()"
   ]
  },
  {
   "cell_type": "code",
   "execution_count": 28,
   "id": "ab20d13b-1674-43d4-a493-14b4e52074fd",
   "metadata": {},
   "outputs": [],
   "source": [
    "# To perform a more robust test & correction, the following is assumed:\n",
    "\n",
    "# A) most of signals have no synchronization error\n",
    "# B) signal can be off only by one turn in any direction\n",
    "# C) without synchronization errors phase advance is close to model (some threshold can be specified)\n",
    "\n",
    "# With these assumptions, it is possible to identify signals that might have a synchronization error\n",
    "# To do this, pairs with large advance error are marked (based on robust dispersion or other methods, see below)\n",
    "# Other pairs are assumed to be correct\n",
    "# Signals at the endpoints are correct\n",
    "# Select adjacent signal with correct phase and right marked signal, check the effect of adding or subtracting of one turn\n",
    "# If such correction results in significant improvement, change corresponding phase (starting position might not be avalible)\n",
    "# Do this for all marked signals\n",
    "\n",
    "# If synchronization error is indeed present, results should match for both planes\n",
    "\n",
    "# Ones corrected, tests can be performed again (e.g. when not all pairs are marked initialy)"
   ]
  },
  {
   "cell_type": "code",
   "execution_count": 29,
   "id": "189ed94b-b387-401a-8663-50d44a38fccd",
   "metadata": {},
   "outputs": [
    {
     "data": {
      "image/png": "[encoded data removed]",
      "text/plain": [
       "<Figure size 1080x216 with 1 Axes>"
      ]
     },
     "metadata": {
      "needs_background": "light"
     },
     "output_type": "display_data"
    }
   ],
   "source": [
    "# Plot difference from the model model\n",
    "delta = (add-advance)/advance\n",
    "\n",
    "q25 = torch.quantile(delta, 0.25).cpu().numpy()\n",
    "q50 = torch.quantile(delta, 0.50).cpu().numpy()\n",
    "q75 = torch.quantile(delta, 0.75).cpu().numpy()\n",
    "\n",
    "l, u = q25 - 10.0*(q75 - q25), q75 + 10.0*(q75 - q25)\n",
    "\n",
    "plt.figure(figsize=(15, 3))\n",
    "plt.scatter(range(54), delta.cpu().numpy(), color='red')\n",
    "plt.hlines(q50, 0, 53, colors='black')\n",
    "plt.hlines(l, 0, 53, colors='blue')\n",
    "plt.hlines(u, 0, 53, colors='blue')\n",
    "plt.show()"
   ]
  },
  {
   "cell_type": "code",
   "execution_count": 30,
   "id": "5dc13fae-fd1f-42b3-9324-767cc820abf7",
   "metadata": {},
   "outputs": [
    {
     "name": "stdout",
     "output_type": "stream",
     "text": [
      "[[30, 31], [41, 42], [42, 43]]\n"
     ]
    }
   ],
   "source": [
    "# LOF\n",
    "from sklearn.neighbors import LocalOutlierFactor\n",
    "detector = LocalOutlierFactor(contamination=0.05)\n",
    "pairs = detector.fit_predict(delta.reshape(-1, 1).cpu().numpy())\n",
    "pairs, *_ = numpy.in1d(delta.cpu().numpy(), delta[pairs == -1].cpu().numpy()).nonzero()\n",
    "pairs = [[i, i + 1] for i in tuple(pairs)]\n",
    "print(pairs)"
   ]
  },
  {
   "cell_type": "code",
   "execution_count": 31,
   "id": "27509d27-c4bc-42d9-a1ac-e6795d3fb185",
   "metadata": {},
   "outputs": [
    {
     "name": "stdout",
     "output_type": "stream",
     "text": [
      "[[30, 31], [40, 41], [42, 43]]\n"
     ]
    }
   ],
   "source": [
    "# IFO\n",
    "from sklearn.ensemble import IsolationForest\n",
    "detector = IsolationForest(contamination=0.05)\n",
    "pairs = detector.fit_predict(delta.reshape(-1, 1).cpu().numpy())\n",
    "pairs, *_ = numpy.in1d(delta.cpu().numpy(), delta[pairs == -1].cpu().numpy()).nonzero()\n",
    "pairs = [[i, i + 1] for i in tuple(pairs)]\n",
    "print(pairs)"
   ]
  },
  {
   "cell_type": "code",
   "execution_count": 32,
   "id": "5720b93f-e8e7-4549-9ee3-24e0b86d9692",
   "metadata": {},
   "outputs": [
    {
     "name": "stdout",
     "output_type": "stream",
     "text": [
      "[[9, 10], [10, 11], [30, 31], [32, 33], [40, 41], [41, 42], [42, 43], [43, 44]]\n"
     ]
    }
   ],
   "source": [
    "# DBSCAN\n",
    "from sklearn.cluster import DBSCAN\n",
    "from collections import Counter\n",
    "cluster = DBSCAN().fit(delta.reshape(-1, 1).cpu().numpy())\n",
    "label, *_ = Counter(cluster.labels_)\n",
    "pairs, *_ = numpy.in1d(delta.cpu().numpy(), delta[cluster.labels_ != label].cpu().numpy()).nonzero()\n",
    "pairs = [[i, i + 1] for i in tuple(pairs)]\n",
    "print(pairs)"
   ]
  },
  {
   "cell_type": "code",
   "execution_count": 33,
   "id": "fdbf072c-7842-4fee-a278-8444f6628e5d",
   "metadata": {},
   "outputs": [
    {
     "name": "stdout",
     "output_type": "stream",
     "text": [
      "[[9, 10], [10, 11], [30, 31], [32, 33], [40, 41], [41, 42], [42, 43], [43, 44]]\n"
     ]
    }
   ],
   "source": [
    "# Pairs outside acceptance region\n",
    "l_p, *_ = numpy.where(delta.cpu().numpy() < l)\n",
    "u_p, *_ = numpy.where(delta.cpu().numpy() > u)\n",
    "marked = (*tuple(l_p), *tuple(u_p))\n",
    "marked = [[i, i + 1] for i in marked]\n",
    "print(marked)"
   ]
  },
  {
   "cell_type": "code",
   "execution_count": 34,
   "id": "2bfae2e6-b48f-408d-9f26-bc43de7725e6",
   "metadata": {},
   "outputs": [
    {
     "name": "stdout",
     "output_type": "stream",
     "text": [
      "[[9, 10, 11], [30, 31, 32, 33], [40, 41, 42, 43, 44]]\n",
      "[[10], [31, 32], [41, 42, 43]]\n",
      "10: -, 127\n",
      "31: +, 129\n",
      "32: +, 129\n",
      "41: -, 127\n",
      "42:  , 128\n",
      "43: +, 129\n",
      "{10: 127, 31: 129, 32: 129, 41: 127, 43: 129}\n"
     ]
    }
   ],
   "source": [
    "# Marked signals\n",
    "table = []\n",
    "chain = []\n",
    "for i in numpy.unique(numpy.array(pairs).flatten()):\n",
    "    if chain == []:\n",
    "        chain.append(i)\n",
    "        value = i\n",
    "        continue\n",
    "    if i == value + 1:\n",
    "        chain.append(i)\n",
    "        value = i\n",
    "        continue\n",
    "    table.append(chain)\n",
    "    chain = []\n",
    "    chain.append(i)\n",
    "    value = i\n",
    "else:\n",
    "    table.append(chain)\n",
    "print(table)\n",
    "    \n",
    "# Remove endpoints\n",
    "table = [*map(lambda x: x[1:-1], table)]\n",
    "print(table)\n",
    "\n",
    "# Set marked and passed\n",
    "marked = [j for i in table for j in i]\n",
    "passed = [i for i in range(54) if i not in marked]\n",
    "\n",
    "# Set phase\n",
    "phase = torch.clone(out)\n",
    "\n",
    "# Correct\n",
    "for i in marked:\n",
    "    phase_x = phase[i-1]\n",
    "    phase_y = phase[i]\n",
    "    phase_y = phase_y + torch.stack([-2.0*numpy.pi*frequency, 0.0*numpy.pi*frequency, +2.0*numpy.pi*frequency])\n",
    "    phase_y = mod(phase_y, 2*numpy.pi, -numpy.pi)\n",
    "    delta = mod(phase_y - phase_x, 2*numpy.pi)\n",
    "    delta = torch.abs(delta - advance[i-1])\n",
    "    index = delta.argmin().item()\n",
    "    print(f\"{i}: {['+', ' ', '-'][index]}, {128 + [+1, 0, -1][index]}\")\n",
    "    phase[i] = phase_y[index]\n",
    "    \n",
    "print(error)"
   ]
  },
  {
   "cell_type": "code",
   "execution_count": 35,
   "id": "d6b28836-8de1-4958-8c3d-8c9a05b5239c",
   "metadata": {},
   "outputs": [
    {
     "data": {
      "image/png": "[encoded data removed]",
      "text/plain": [
       "<Figure size 1080x216 with 1 Axes>"
      ]
     },
     "metadata": {
      "needs_background": "light"
     },
     "output_type": "display_data"
    },
    {
     "data": {
      "image/png": "[encoded data removed]",
      "text/plain": [
       "<Figure size 1080x216 with 1 Axes>"
      ]
     },
     "metadata": {
      "needs_background": "light"
     },
     "output_type": "display_data"
    }
   ],
   "source": [
    "# Plot advance using corrected phase\n",
    "\n",
    "plt.figure(figsize=(15, 3))\n",
    "plt.scatter(range(54), advance.cpu().numpy(), color='red')\n",
    "plt.scatter(range(54), add.cpu().numpy(), color='blue')\n",
    "plt.show()\n",
    "\n",
    "correct, _ = Decomposition.phase_adjacent(frequency, phase)\n",
    "plt.figure(figsize=(15, 3))\n",
    "plt.scatter(range(54), advance.cpu().numpy(), color='red')\n",
    "plt.scatter(range(54), correct.cpu().numpy(), color='blue')\n",
    "plt.show()"
   ]
  },
  {
   "cell_type": "code",
   "execution_count": 36,
   "id": "58e0cfa6-79dd-48d5-ab2f-0d7eb3a86e85",
   "metadata": {},
   "outputs": [
    {
     "name": "stdout",
     "output_type": "stream",
     "text": [
      "{10: 127, 31: 129, 32: 129, 41: 127, 43: 129}\n",
      "{10: 127, 31: 129, 32: 129, 41: 127, 43: 129}\n"
     ]
    },
    {
     "data": {
      "image/png": "[encoded data removed]",
      "text/plain": [
       "<Figure size 1080x216 with 1 Axes>"
      ]
     },
     "metadata": {
      "needs_background": "light"
     },
     "output_type": "display_data"
    }
   ],
   "source": [
    "# phase_check classmethod can be used to perform shyncronization test\n",
    "# robust spread is used to flag outliers\n",
    "print(error)\n",
    "\n",
    "q = frequency.item()\n",
    "phase = out\n",
    "\n",
    "Q = config['TAIL']['FX']/(2.0*numpy.pi)\n",
    "PHASE = torch.tensor([value['FX'] for key, value in config.items() if value['TYPE'] == 'MONITOR'], dtype=dtype, device=device)\n",
    "\n",
    "result, select = Decomposition.phase_check(q, Q, phase, PHASE)\n",
    "result = {key: value[0] + start for key, value in result.items() if value[0] != 0}\n",
    "print(result)\n",
    "\n",
    "plt.figure(figsize=(15, 3))\n",
    "plt.scatter(range(54), select['model'].cpu().numpy(), color='red')\n",
    "plt.scatter(range(54), select['phase'].cpu().numpy(), color='blue')\n",
    "plt.scatter(range(54), select['check'].cpu().numpy(), color='black', marker='x')\n",
    "plt.scatter(*numpy.array([[index, -1.0] for index in range(54) if index not in result]).T, color='red', marker='x')\n",
    "plt.scatter(*numpy.array([[index, -1.0] for index in range(54) if index in result]).T, color='blue', marker='x')\n",
    "plt.show()"
   ]
  },
  {
   "cell_type": "markdown",
   "id": "cd35541b-2b14-4487-855a-659dbaead036",
   "metadata": {
    "tags": []
   },
   "source": [
    "# Example-07: Estimation of parameters with DHT"
   ]
  },
  {
   "cell_type": "code",
   "execution_count": 37,
   "id": "171250e2-e2fc-4e58-8640-643fce9f1bfa",
   "metadata": {},
   "outputs": [
    {
     "name": "stdout",
     "output_type": "stream",
     "text": [
      "frequency= 0.536883099, spread=1.50582535e-16, error=2.54162143e-13\n"
     ]
    }
   ],
   "source": [
    "# Estimate reference parameters\n",
    "\n",
    "# Set window\n",
    "length = 4096\n",
    "w = Window(length, 'cosine_window', 5.0, dtype=dtype, device=device)\n",
    "\n",
    "# Load data\n",
    "d = Data.from_file(54, w, '../virtual_tbt.npy')\n",
    "\n",
    "# Estimate frequency\n",
    "f = Frequency(d)\n",
    "d.window_remove_mean()\n",
    "d.window_apply()\n",
    "f('parabola')\n",
    "d.reset()\n",
    "frequency, spread = f.frequency.mean(), f.frequency.std()\n",
    "frequency = 1.0 - frequency\n",
    "\n",
    "# Estimate amplitude for given frequency\n",
    "h = Decomposition(d)\n",
    "result, _ = h.harmonic_sum(frequency, w.window, d.data)\n",
    "_, _, amplitude, phase = result.T\n",
    "\n",
    "# Check maximum reconstruction error\n",
    "result = []\n",
    "for a, b in zip(amplitude, phase):\n",
    "    result.append(Data.make_harmonic(length, frequency, a, b, dtype=dtype, device=device))\n",
    "result = torch.stack(result)\n",
    "print(f'frequency={frequency.item():12.9}, spread={spread.item():12.9}, error={(d.data - result).abs().max().item():12.9}')"
   ]
  },
  {
   "cell_type": "code",
   "execution_count": 38,
   "id": "c8740928-8ba3-4d3d-ae1c-d58508eb5152",
   "metadata": {},
   "outputs": [
    {
     "name": "stdout",
     "output_type": "stream",
     "text": [
      "frequency= 0.536882389, spread=3.23246295e-06\n"
     ]
    }
   ],
   "source": [
    "# Real TbT data length is limited by decoherence\n",
    "\n",
    "# Set window\n",
    "length = 512\n",
    "w = Window(length, 'cosine_window', 1.0, dtype=dtype, device=device)\n",
    "\n",
    "# Load data\n",
    "d = Data.from_file(54, w, '../virtual_tbt.npy')\n",
    "\n",
    "# Add random noise\n",
    "n = 1.0E-6*(25.0 + 75.0*torch.rand(54, dtype=dtype, device=device))\n",
    "d.add_noise(n)\n",
    "d.data.copy_(d.work)\n",
    "\n",
    "# Estimate frequency (average over signals)\n",
    "f = Frequency(d)\n",
    "d.window_remove_mean()\n",
    "d.window_apply()\n",
    "f('parabola')\n",
    "d.reset()\n",
    "frequency, spread = f.frequency.mean(), f.frequency.std()\n",
    "frequency = 1.0 - frequency\n",
    "print(f'frequency={frequency.item():12.9}, spread={spread.item():12.9}')"
   ]
  },
  {
   "cell_type": "code",
   "execution_count": 39,
   "id": "630fe07b-f056-4ebb-b4df-ee3aff356b9c",
   "metadata": {},
   "outputs": [],
   "source": [
    "# Filter data\n",
    "flt = Filter(d)\n",
    "flt.filter_svd(rank=2)\n",
    "flt.filter_hankel(rank=2, random=True, buffer=16, count=16)\n",
    "\n",
    "# DHT\n",
    "dht = Frequency.dht(d.work)"
   ]
  },
  {
   "cell_type": "code",
   "execution_count": 40,
   "id": "b769ecc0-0212-43ba-a229-5c81b2d08781",
   "metadata": {},
   "outputs": [
    {
     "data": {
      "image/png": "[encoded data removed]",
      "text/plain": [
       "<Figure size 1080x360 with 1 Axes>"
      ]
     },
     "metadata": {
      "needs_background": "light"
     },
     "output_type": "display_data"
    }
   ],
   "source": [
    "# Compute envelope\n",
    "envelope = dht.abs()\n",
    "\n",
    "# Estimate amplitude\n",
    "endpoint = 16\n",
    "estimate = envelope[:, +endpoint:-endpoint].mean(1)\n",
    "spread = envelope[:, +endpoint:-endpoint].std(1)\n",
    "\n",
    "# Compare\n",
    "plt.figure(figsize=(15, 5))\n",
    "plt.errorbar(range(54), (estimate - amplitude).cpu().numpy(), yerr=spread.cpu().numpy(), fmt=' ', marker='o', color='red')\n",
    "plt.ylim(-5.0E-5, +5.0E-5)\n",
    "plt.show()"
   ]
  },
  {
   "cell_type": "code",
   "execution_count": 41,
   "id": "49c4ef26-f197-4cf1-9620-ea226852f2c3",
   "metadata": {},
   "outputs": [
    {
     "data": {
      "image/png": "[encoded data removed]",
      "text/plain": [
       "<Figure size 1080x360 with 1 Axes>"
      ]
     },
     "metadata": {
      "needs_background": "light"
     },
     "output_type": "display_data"
    }
   ],
   "source": [
    "# Estimate phase\n",
    "angle = dht.angle()\n",
    "endpoint = 16\n",
    "angle -= 2.0*numpy.pi*frequency*torch.linspace(0, length - 1, length, dtype=dtype, device=device)\n",
    "angle = mod(angle, 2.0*numpy.pi, -numpy.pi)\n",
    "estimate = angle[:, +endpoint:-endpoint].mean(1)\n",
    "spread = angle[:, +endpoint:-endpoint].std(1)\n",
    "\n",
    "# Compare\n",
    "plt.figure(figsize=(15, 5))\n",
    "plt.errorbar(range(54), (estimate - phase).cpu().numpy(), yerr=spread.cpu().numpy(), fmt=' ', marker='o', color='red')\n",
    "plt.ylim(-5.0E-2, +5.0E-2)\n",
    "plt.show()"
   ]
  },
  {
   "cell_type": "markdown",
   "id": "289e0340-9aba-49f7-b289-d894a37cde44",
   "metadata": {},
   "source": [
    "# Example-08: Virtual phase"
   ]
  },
  {
   "cell_type": "code",
   "execution_count": 42,
   "id": "cce7059f-35ab-4bb6-acfa-4aa6f19d2dc7",
   "metadata": {},
   "outputs": [],
   "source": [
    "# In this example phase is estimated for virtual locations\n",
    "# Virtual locations are locations where TbT data is not avalible, e.g. fault BPMs or other locations of interest\n",
    "# Locations where TbT data is avalible, i.e. phase can be computed from TbT data, are denoted as monitors\n",
    "# Using measured phase at monitors and model phase advance data, phase at a virtual location can be computed\n",
    "# It is also possible to treat a monitor location as a virtual location\n",
    "# In this case, phase estimation accuracy can be improved in some cases"
   ]
  },
  {
   "cell_type": "code",
   "execution_count": 43,
   "id": "45b143ef-bb18-4582-910e-3c6ca98e5d25",
   "metadata": {},
   "outputs": [
    {
     "data": {
      "image/png": "[encoded data removed]",
      "text/plain": [
       "<Figure size 1080x360 with 1 Axes>"
      ]
     },
     "metadata": {
      "needs_background": "light"
     },
     "output_type": "display_data"
    }
   ],
   "source": [
    "# Load model phase advance data\n",
    "# Note, only monitor locations are selected, a subset of monitors will be demoted to virtual locations later\n",
    "# Note, model phase advance error is given for each location (virtual or monitor), it corresponds to an error from given location to the next one\n",
    "\n",
    "with open('../config.yaml', 'r') as stream:\n",
    "    config = yaml.safe_load(stream)\n",
    "    config = {key: config[key] for key in sorted(config.keys(), key=lambda name: config[name]['TIME'])}\n",
    "\n",
    "total = config['TAIL']['FX']\n",
    "model = torch.tensor([value['FX'] for key, value in config.items() if value['TYPE'] == 'MONITOR'], dtype=dtype, device=device)\n",
    "error = 1.0E-4*torch.ones_like(model)\n",
    "\n",
    "# Plot adjacent phase advance\n",
    "\n",
    "model_advance, error_advance = Decomposition.phase_adjacent(total/(2.0*numpy.pi), model, error=True, sigma_frequency=None, sigma_phase=error, model=True)\n",
    "plt.figure(figsize=(15, 5))\n",
    "plt.errorbar(range(54), model_advance.cpu().numpy(), yerr=error_advance.cpu().numpy(), color='black', fmt=' ', marker='o')\n",
    "plt.show()"
   ]
  },
  {
   "cell_type": "code",
   "execution_count": 44,
   "id": "4837340e-1df5-4fac-9afc-1b22166f25fe",
   "metadata": {},
   "outputs": [
    {
     "name": "stdout",
     "output_type": "stream",
     "text": [
      "frequency= 0.536883099, spread=1.50582535e-16, error=2.54162143e-13\n"
     ]
    }
   ],
   "source": [
    "# Estimate reference parameters\n",
    "\n",
    "# Set window\n",
    "length = 4096\n",
    "w = Window(length, 'cosine_window', 5.0, dtype=dtype, device=device)\n",
    "\n",
    "# Load data\n",
    "d = Data.from_file(54, w, '../virtual_tbt.npy')\n",
    "\n",
    "# Estimate frequency\n",
    "f = Frequency(d)\n",
    "d.window_remove_mean()\n",
    "d.window_apply()\n",
    "f('parabola')\n",
    "d.reset()\n",
    "frequency, spread = f.frequency.mean(), f.frequency.std()\n",
    "frequency = 1.0 - frequency\n",
    "\n",
    "# Estimate amplitude for given frequency\n",
    "h = Decomposition(d)\n",
    "result, _ = h.harmonic_sum(frequency, w.window, d.data)\n",
    "_, _, amplitude, phase = result.T\n",
    "\n",
    "# Check maximum reconstruction error\n",
    "result = []\n",
    "for a, b in zip(amplitude, phase):\n",
    "    result.append(Data.make_harmonic(length, frequency, a, b, dtype=dtype, device=device))\n",
    "result = torch.stack(result)\n",
    "print(f'frequency={frequency.item():12.9}, spread={spread.item():12.9}, error={(d.data - result).abs().max().item():12.9}')"
   ]
  },
  {
   "cell_type": "code",
   "execution_count": 45,
   "id": "84d09a69-2ff2-49ed-9536-5adb25136c12",
   "metadata": {},
   "outputs": [
    {
     "name": "stdout",
     "output_type": "stream",
     "text": [
      "frequency= 0.536882942, spread=1.27563096e-06\n"
     ]
    }
   ],
   "source": [
    "# Real TbT data length is limited by decoherence\n",
    "# In this example 1024 turns are used for frequency estimation and only 512 for phase\n",
    "\n",
    "# Set window\n",
    "length = 1024\n",
    "w = Window(length, 'cosine_window', 1.0, dtype=dtype, device=device)\n",
    "\n",
    "# Load data\n",
    "d = Data.from_file(54, w, '../virtual_tbt.npy')\n",
    "\n",
    "# Add random noise\n",
    "n = 1.0E-6*(25.0 + 75.0*torch.rand(54, dtype=dtype, device=device))\n",
    "d.add_noise(n)\n",
    "d.data.copy_(d.work)\n",
    "\n",
    "# Estimate frequency (average over signals)\n",
    "f = Frequency(d)\n",
    "d.window_remove_mean()\n",
    "d.window_apply()\n",
    "f('parabola')\n",
    "d.reset()\n",
    "frequency, spread = f.frequency.mean(), f.frequency.std()\n",
    "frequency = 1.0 - frequency\n",
    "print(f'frequency={frequency.item():12.9}, spread={spread.item():12.9}')"
   ]
  },
  {
   "cell_type": "code",
   "execution_count": 46,
   "id": "d13c2222-7f95-44fd-b589-6e0146a3345b",
   "metadata": {},
   "outputs": [
    {
     "data": {
      "image/png": "[encoded data removed]",
      "text/plain": [
       "<Figure size 1080x144 with 1 Axes>"
      ]
     },
     "metadata": {
      "needs_background": "light"
     },
     "output_type": "display_data"
    },
    {
     "name": "stdout",
     "output_type": "stream",
     "text": [
      "tensor(6.978896174979e-02, dtype=torch.float64)\n"
     ]
    }
   ],
   "source": [
    "# Estimate phase\n",
    "\n",
    "dec = Decomposition(d)\n",
    "phase_estimate, error_estimate, _ = dec.harmonic_phase(frequency, length=256, order=0.0, error=True, sigma_frequency=spread, shift=True, count=64, step=8, method='noise')\n",
    "\n",
    "# Compare results\n",
    "plt.figure(figsize=(15, 2))\n",
    "plt.errorbar(range(54), (phase_estimate - phase).cpu().numpy(), yerr=error_estimate.cpu().numpy(), fmt=' ', marker='o', color='blue')\n",
    "plt.hlines(0, 0, 53, colors='black')\n",
    "plt.ylim(-5.0E-2, +5.0E-2)\n",
    "plt.show()\n",
    "\n",
    "print((phase_estimate - phase).abs().sum())"
   ]
  },
  {
   "cell_type": "code",
   "execution_count": 47,
   "id": "5e5b5aad-36e1-46f8-a2ff-7655177a112e",
   "metadata": {},
   "outputs": [
    {
     "name": "stdout",
     "output_type": "stream",
     "text": [
      "location=5\n",
      "monitor: [error, sigma] = [0.0013207479535392586, 0.004347517375909456]\n",
      "virtual: [error, sigma] = [0.0005919641067995696, 0.0017841179001775265]\n",
      "location=25\n",
      "monitor: [error, sigma] = [0.001380028030489422, 0.0045020475730777176]\n",
      "virtual: [error, sigma] = [0.0006331774466853957, 0.0010262361493391242]\n"
     ]
    },
    {
     "data": {
      "image/png": "[encoded data removed]",
      "text/plain": [
       "<Figure size 1080x144 with 1 Axes>"
      ]
     },
     "metadata": {
      "needs_background": "light"
     },
     "output_type": "display_data"
    },
    {
     "data": {
      "image/png": "[encoded data removed]",
      "text/plain": [
       "<Figure size 1080x144 with 1 Axes>"
      ]
     },
     "metadata": {
      "needs_background": "light"
     },
     "output_type": "display_data"
    }
   ],
   "source": [
    "# Virtual phase\n",
    "\n",
    "# Set demoted location\n",
    "# Note, location index starts from zero\n",
    "index = [5, 25]\n",
    "\n",
    "# Set location flags, 0/1 for virtual/monitor locations\n",
    "flags = torch.ones_like(model, dtype=torch.int64, device=device)\n",
    "flags[index] = 0\n",
    "\n",
    "# Set measured & model frequency with errors\n",
    "q, sigma_q = frequency, spread\n",
    "Q, sigma_Q = total/(2.0*numpy.pi), torch.sqrt(torch.sum(error**2))/(2.0*numpy.pi)\n",
    "\n",
    "# Set measured phase with errors\n",
    "phase_measured = torch.clone(phase_estimate)\n",
    "error_measured = torch.clone(error_estimate)\n",
    "phase_measured[index] = 0.0\n",
    "error_measured[index] = 0.0\n",
    "\n",
    "# Set model phase with error\n",
    "phase_model = torch.clone(model)\n",
    "error_model = torch.clone(error)\n",
    "\n",
    "# Set range limit\n",
    "limit = 16\n",
    "\n",
    "# Estimate virtial phase for each virtual location\n",
    "for location in index:\n",
    "    \n",
    "    result = dec.phase_virtual(location, limit, flags, q, Q, phase_measured, phase_model,\n",
    "                               sigma_frequency=sigma_q, sigma_frequency_model=sigma_Q, \n",
    "                               sigma_phase=error_measured, sigma_phase_model=error_model,\n",
    "                               full=True, clean=True)\n",
    "    \n",
    "    # Compare fit result with model\n",
    "    print(f'{location=}')\n",
    "    print(f'monitor: [error, sigma] = {[abs(phase[location] - phase_estimate[location]).item(), error_estimate[location].item()]}')\n",
    "    print(f'virtual: [error, sigma] = {[abs(phase[location] - result[\"model\"][0]).item(), result[\"model\"][1].item()]}')\n",
    "    \n",
    "    #  Plot data for all locations\n",
    "    plt.figure(figsize=(15, 2))\n",
    "    plt.errorbar(list(result['index']), result['phase'].cpu().numpy(), yerr=result['error'].cpu().numpy(), color='red', fmt=' ', marker='o')\n",
    "    plt.scatter(location, phase_estimate[location].cpu().numpy(), color='blue')\n",
    "    plt.hlines(phase[location].cpu().numpy(), min(result['index'].keys()), max(result['index'].keys()), color='black')\n",
    "    plt.hlines(result['model'][0].cpu().numpy(), min(result['index'].keys()), max(result['index'].keys()), color='magenta')\n",
    "\n",
    "plt.show()\n",
    "    \n",
    "# red     -- estimation using different monitors \n",
    "# blue    -- estimation from TbT\n",
    "# black   -- reference value\n",
    "# magenta -- fitted value"
   ]
  },
  {
   "cell_type": "code",
   "execution_count": 48,
   "id": "2ac3778b-c065-49fe-8920-661ea6739a0f",
   "metadata": {},
   "outputs": [
    {
     "data": {
      "image/png": "[encoded data removed]",
      "text/plain": [
       "<Figure size 1080x144 with 1 Axes>"
      ]
     },
     "metadata": {
      "needs_background": "light"
     },
     "output_type": "display_data"
    },
    {
     "data": {
      "image/png": "[encoded data removed]",
      "text/plain": [
       "<Figure size 1080x144 with 1 Axes>"
      ]
     },
     "metadata": {
      "needs_background": "light"
     },
     "output_type": "display_data"
    },
    {
     "name": "stdout",
     "output_type": "stream",
     "text": [
      "tensor(6.978896174979e-02, dtype=torch.float64)\n",
      "tensor(2.291283079415e-02, dtype=torch.float64)\n"
     ]
    }
   ],
   "source": [
    "# Virtual phase for monitors\n",
    "\n",
    "# Note, change limit value\n",
    "\n",
    "# Set location flags, 0/1 for virtual/monitor locations\n",
    "flags = torch.ones_like(model, dtype=torch.int32)\n",
    "\n",
    "# Set measured & model frequency with errors\n",
    "q, sigma_q = frequency, spread\n",
    "Q, sigma_Q = total/(2.0*numpy.pi), torch.sqrt(torch.sum(error**2))/(2.0*numpy.pi)\n",
    "\n",
    "# Set measured phase with errors\n",
    "phase_measured = torch.clone(phase_estimate)\n",
    "error_measured = torch.clone(error_estimate)\n",
    "\n",
    "# Set model phase with error\n",
    "phase_model = torch.clone(model)\n",
    "error_model = torch.clone(error)\n",
    "\n",
    "# Set range limit\n",
    "limit = 16\n",
    "\n",
    "# Estimate virtial phase for each virtual location\n",
    "out = []\n",
    "for location in range(len(flags)):\n",
    "    \n",
    "    result = dec.phase_virtual(location, limit, flags, q, Q, phase_measured, phase_model, \n",
    "                               sigma_frequency=sigma_q, sigma_frequency_model=sigma_Q, \n",
    "                               sigma_phase=error_measured, sigma_phase_model=error_model,\n",
    "                               full=True, clean=True)\n",
    "    \n",
    "    out.append(result['model'])\n",
    "    \n",
    "phase_virtual, error_virtual = torch.stack(out).T\n",
    "\n",
    "# Compare results\n",
    "plt.figure(figsize=(15, 2))\n",
    "plt.errorbar(range(54), (phase_estimate - phase).cpu().numpy(), yerr=error_estimate.cpu().numpy(), fmt=' ', marker='o', color='blue')\n",
    "plt.errorbar(range(54), (phase_virtual - phase).cpu().numpy(), yerr=error_virtual.cpu().numpy(), fmt=' ', marker='o', color='red')\n",
    "plt.hlines(0, 0, 53, colors='black')\n",
    "plt.ylim(-1.0E-2, +1.0E-2)\n",
    "plt.show()\n",
    "\n",
    "plt.figure(figsize=(15, 2))\n",
    "plt.errorbar(range(54), (phase_virtual - phase).cpu().numpy(), yerr=error_virtual.cpu().numpy(), fmt=' ', marker='o', color='red')\n",
    "plt.hlines(0, 0, 53, colors='black')\n",
    "plt.ylim(-1.0E-3, +1.0E-3)\n",
    "plt.show()\n",
    "\n",
    "print((phase_estimate - phase).abs().sum())\n",
    "print((phase_virtual - phase).abs().sum())\n",
    "\n",
    "# Note, such 'correction' introduces bias, use with error estimates with care, adjust limit"
   ]
  },
  {
   "cell_type": "code",
   "execution_count": 49,
   "id": "4aa523b0-0722-4429-8711-d9bc63f47d0c",
   "metadata": {},
   "outputs": [
    {
     "data": {
      "image/png": "[encoded data removed]",
      "text/plain": [
       "<Figure size 1080x144 with 1 Axes>"
      ]
     },
     "metadata": {
      "needs_background": "light"
     },
     "output_type": "display_data"
    },
    {
     "data": {
      "image/png": "[encoded data removed]",
      "text/plain": [
       "<Figure size 1080x144 with 1 Axes>"
      ]
     },
     "metadata": {
      "needs_background": "light"
     },
     "output_type": "display_data"
    },
    {
     "name": "stdout",
     "output_type": "stream",
     "text": [
      "tensor(6.978896174979e-02, dtype=torch.float64)\n",
      "tensor(2.294942353257e-02, dtype=torch.float64)\n"
     ]
    }
   ],
   "source": [
    "# Virtual phase for monitors (second pass)\n",
    "\n",
    "# Note, second pass (or more) impoves std in general\n",
    "# Note, change limit value\n",
    "\n",
    "# Set location flags, 0/1 for virtual/monitor locations\n",
    "flags = torch.ones_like(model, dtype=torch.int32)\n",
    "\n",
    "# Set measured & model frequency with errors\n",
    "q, sigma_q = frequency, spread\n",
    "Q, sigma_Q = total/(2.0*numpy.pi), torch.sqrt(torch.sum(error**2))/(2.0*numpy.pi)\n",
    "\n",
    "# Set measured phase with errors\n",
    "phase_measured = torch.clone(phase_virtual)\n",
    "error_measured = torch.clone(error_estimate)\n",
    "\n",
    "# Set model phase with error\n",
    "phase_model = torch.clone(model)\n",
    "error_model = torch.clone(error)\n",
    "\n",
    "# Set range limit\n",
    "limit = limit\n",
    "\n",
    "# Estimate virtial phase for each virtual location\n",
    "out = []\n",
    "for location in range(len(flags)):\n",
    "    \n",
    "    result = dec.phase_virtual(location, limit, flags, q, Q, phase_measured, phase_model, \n",
    "                               sigma_frequency=sigma_q, sigma_frequency_model=sigma_Q, \n",
    "                               sigma_phase=error_measured, sigma_phase_model=error_model,\n",
    "                               full=True, clean=True)\n",
    "    \n",
    "    out.append(result['model'])\n",
    "    \n",
    "phase_virtual, error_virtual = torch.stack(out).T\n",
    "\n",
    "# Compare results\n",
    "plt.figure(figsize=(15, 2))\n",
    "plt.errorbar(range(54), (phase_estimate - phase).cpu().numpy(), yerr=error_estimate.cpu().numpy(), fmt=' ', marker='o', color='blue')\n",
    "plt.errorbar(range(54), (phase_virtual - phase).cpu().numpy(), yerr=error_virtual.cpu().numpy(), fmt=' ', marker='o', color='red')\n",
    "plt.hlines(0, 0, 53, colors='black')\n",
    "plt.ylim(-1.0E-2, +1.0E-2)\n",
    "plt.show()\n",
    "\n",
    "# Note, such 'correction' introduces bias, use with care, adjust limit\n",
    "plt.figure(figsize=(15, 2))\n",
    "plt.errorbar(range(54), (phase_virtual - phase).cpu().numpy(), yerr=error_virtual.cpu().numpy(), fmt=' ', marker='o', color='red')\n",
    "plt.hlines(0, 0, 53, colors='black')\n",
    "plt.ylim(-1.0E-3, +1.0E-3)\n",
    "plt.show()\n",
    "\n",
    "print((phase_estimate - phase).abs().sum())\n",
    "print((phase_virtual - phase).abs().sum())"
   ]
  },
  {
   "cell_type": "code",
   "execution_count": null,
   "id": "8b860291-fda8-4908-a79c-06b16e727f21",
   "metadata": {},
   "outputs": [],
   "source": []
  }
 ],
 "metadata": {
  "colab": {
   "collapsed_sections": [
    "myt0_gMIOq7b",
    "5d97819c"
   ],
   "name": "03_frequency.ipynb",
   "provenance": []
  },
  "kernelspec": {
   "display_name": "Python 3 (ipykernel)",
   "language": "python",
   "name": "python3"
  },
  "language_info": {
   "codemirror_mode": {
    "name": "ipython",
    "version": 3
   },
   "file_extension": ".py",
   "mimetype": "text/x-python",
   "name": "python",
   "nbconvert_exporter": "python",
   "pygments_lexer": "ipython3",
   "version": "3.9.7"
  },
  "latex_envs": {
   "LaTeX_envs_menu_present": true,
   "autoclose": false,
   "autocomplete": true,
   "bibliofile": "biblio.bib",
   "cite_by": "apalike",
   "current_citInitial": 1,
   "eqLabelWithNumbers": true,
   "eqNumInitial": 1,
   "hotkeys": {
    "equation": "Ctrl-E",
    "itemize": "Ctrl-I"
   },
   "labels_anchors": false,
   "latex_user_defs": false,
   "report_style_numbering": false,
   "user_envs_cfg": false
  }
 },
 "nbformat": 4,
 "nbformat_minor": 5
}
